{
    "metadata": {
        "kernelspec": {
            "name": "SQL",
            "display_name": "SQL",
            "language": "sql"
        },
        "language_info": {
            "name": "sql",
            "version": ""
        }
    },
    "nbformat_minor": 2,
    "nbformat": 4,
    "cells": [
        {
            "cell_type": "code",
            "source": "SELECT first_name, department,\nCASE\n    WHEN salary > 100000 THEN 'Well Paid'\n    WHEN salary < 100000 THEN 'Underpaid'\nEND\nFROM employees\nLIMIT 10;",
            "metadata": {},
            "outputs": [
                {
                    "output_type": "display_data",
                    "data": {
                        "text/html": "(10 row(s) affected)"
                    },
                    "metadata": {}
                },
                {
                    "output_type": "display_data",
                    "data": {
                        "text/html": "Total execution time: 0:00:00.010167"
                    },
                    "metadata": {}
                },
                {
                    "output_type": "execute_result",
                    "metadata": {},
                    "execution_count": 1,
                    "data": {
                        "application/vnd.dataresource+json": {
                            "schema": {
                                "fields": [
                                    {
                                        "name": "first_name"
                                    },
                                    {
                                        "name": "department"
                                    },
                                    {
                                        "name": "case"
                                    }
                                ]
                            },
                            "data": [
                                {
                                    "0": "Arabele",
                                    "1": "Books",
                                    "2": "Well Paid"
                                },
                                {
                                    "0": "Manuel",
                                    "1": "Computers",
                                    "2": "Well Paid"
                                },
                                {
                                    "0": "Pinchas",
                                    "1": "Grocery",
                                    "2": "Well Paid"
                                },
                                {
                                    "0": "Pierson",
                                    "1": "Games",
                                    "2": "Well Paid"
                                },
                                {
                                    "0": "Muire",
                                    "1": "Beauty",
                                    "2": "Well Paid"
                                },
                                {
                                    "0": "Melony",
                                    "1": "Jewelery",
                                    "2": "Well Paid"
                                },
                                {
                                    "0": "Berkley",
                                    "1": "Toys",
                                    "2": "Well Paid"
                                },
                                {
                                    "0": "Lesly",
                                    "1": "Computers",
                                    "2": "Well Paid"
                                },
                                {
                                    "0": "Nichol",
                                    "1": "Beauty",
                                    "2": "Well Paid"
                                },
                                {
                                    "0": "Delmore",
                                    "1": "Movies",
                                    "2": "Well Paid"
                                }
                            ]
                        },
                        "text/html": "<table><tr><th>first_name</th><th>department</th><th>case</th></tr><tr><td>Arabele</td><td>Books</td><td>Well Paid</td></tr><tr><td>Manuel</td><td>Computers</td><td>Well Paid</td></tr><tr><td>Pinchas</td><td>Grocery</td><td>Well Paid</td></tr><tr><td>Pierson</td><td>Games</td><td>Well Paid</td></tr><tr><td>Muire</td><td>Beauty</td><td>Well Paid</td></tr><tr><td>Melony</td><td>Jewelery</td><td>Well Paid</td></tr><tr><td>Berkley</td><td>Toys</td><td>Well Paid</td></tr><tr><td>Lesly</td><td>Computers</td><td>Well Paid</td></tr><tr><td>Nichol</td><td>Beauty</td><td>Well Paid</td></tr><tr><td>Delmore</td><td>Movies</td><td>Well Paid</td></tr></table>"
                    }
                }
            ],
            "execution_count": 1
        },
        {
            "cell_type": "code",
            "source": "SELECT first_name, department,\nCASE\n    WHEN salary < 100000 THEN 'Bad'\n    WHEN salary > 100000 AND salary < 500000 THEN 'Good'\n    WHEN salary > 500000 THEN 'Very Good'\n    ELSE 'Unpaid'\nEND AS payment_status\nFROM employees\nLIMIT 10;",
            "metadata": {},
            "outputs": [
                {
                    "output_type": "display_data",
                    "data": {
                        "text/html": "(10 row(s) affected)"
                    },
                    "metadata": {}
                },
                {
                    "output_type": "display_data",
                    "data": {
                        "text/html": "Total execution time: 0:00:00.006103"
                    },
                    "metadata": {}
                },
                {
                    "output_type": "execute_result",
                    "metadata": {},
                    "execution_count": 3,
                    "data": {
                        "application/vnd.dataresource+json": {
                            "schema": {
                                "fields": [
                                    {
                                        "name": "first_name"
                                    },
                                    {
                                        "name": "department"
                                    },
                                    {
                                        "name": "payment_status"
                                    }
                                ]
                            },
                            "data": [
                                {
                                    "0": "Arabele",
                                    "1": "Books",
                                    "2": "Very Good"
                                },
                                {
                                    "0": "Manuel",
                                    "1": "Computers",
                                    "2": "Good"
                                },
                                {
                                    "0": "Pinchas",
                                    "1": "Grocery",
                                    "2": "Good"
                                },
                                {
                                    "0": "Pierson",
                                    "1": "Games",
                                    "2": "Good"
                                },
                                {
                                    "0": "Muire",
                                    "1": "Beauty",
                                    "2": "Good"
                                },
                                {
                                    "0": "Melony",
                                    "1": "Jewelery",
                                    "2": "Very Good"
                                },
                                {
                                    "0": "Berkley",
                                    "1": "Toys",
                                    "2": "Good"
                                },
                                {
                                    "0": "Lesly",
                                    "1": "Computers",
                                    "2": "Very Good"
                                },
                                {
                                    "0": "Nichol",
                                    "1": "Beauty",
                                    "2": "Very Good"
                                },
                                {
                                    "0": "Delmore",
                                    "1": "Movies",
                                    "2": "Good"
                                }
                            ]
                        },
                        "text/html": "<table><tr><th>first_name</th><th>department</th><th>payment_status</th></tr><tr><td>Arabele</td><td>Books</td><td>Very Good</td></tr><tr><td>Manuel</td><td>Computers</td><td>Good</td></tr><tr><td>Pinchas</td><td>Grocery</td><td>Good</td></tr><tr><td>Pierson</td><td>Games</td><td>Good</td></tr><tr><td>Muire</td><td>Beauty</td><td>Good</td></tr><tr><td>Melony</td><td>Jewelery</td><td>Very Good</td></tr><tr><td>Berkley</td><td>Toys</td><td>Good</td></tr><tr><td>Lesly</td><td>Computers</td><td>Very Good</td></tr><tr><td>Nichol</td><td>Beauty</td><td>Very Good</td></tr><tr><td>Delmore</td><td>Movies</td><td>Good</td></tr></table>"
                    }
                }
            ],
            "execution_count": 3
        },
        {
            "cell_type": "code",
            "source": "SELECT\nSUM(CASE WHEN salary < 100000 THEN 1 ELSE 0 END) AS underpaid,\nSUM(CASE WHEN salary > 100000 AND salary < 500000 THEN 1 ELSE 0 END) AS well_paid,\nSUM(CASE WHEN salary > 500000 THEN 1 ELSE 0 END) AS executive\nFROM employees;",
            "metadata": {},
            "outputs": [
                {
                    "output_type": "display_data",
                    "data": {
                        "text/html": "(1 row(s) affected)"
                    },
                    "metadata": {}
                },
                {
                    "output_type": "display_data",
                    "data": {
                        "text/html": "Total execution time: 0:00:00.007642"
                    },
                    "metadata": {}
                },
                {
                    "output_type": "execute_result",
                    "metadata": {},
                    "execution_count": 4,
                    "data": {
                        "application/vnd.dataresource+json": {
                            "schema": {
                                "fields": [
                                    {
                                        "name": "underpaid"
                                    },
                                    {
                                        "name": "well_paid"
                                    },
                                    {
                                        "name": "executive"
                                    }
                                ]
                            },
                            "data": [
                                {
                                    "0": "137",
                                    "1": "290",
                                    "2": "273"
                                }
                            ]
                        },
                        "text/html": "<table><tr><th>underpaid</th><th>well_paid</th><th>executive</th></tr><tr><td>137</td><td>290</td><td>273</td></tr></table>"
                    }
                }
            ],
            "execution_count": 4
        }
    ]
}