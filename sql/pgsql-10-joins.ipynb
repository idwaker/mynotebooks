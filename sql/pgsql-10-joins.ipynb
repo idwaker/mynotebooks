{
    "metadata": {
        "kernelspec": {
            "name": "SQL",
            "display_name": "SQL",
            "language": "sql"
        },
        "language_info": {
            "name": "sql",
            "version": ""
        }
    },
    "nbformat_minor": 2,
    "nbformat": 4,
    "cells": [
        {
            "cell_type": "code",
            "source": "SELECT first_name, country\nFROM employees, regions\nWHERE employees.region_id = regions.id\nLIMIT 10;",
            "metadata": {},
            "outputs": [
                {
                    "output_type": "display_data",
                    "data": {
                        "text/html": "(10 row(s) affected)"
                    },
                    "metadata": {}
                },
                {
                    "output_type": "display_data",
                    "data": {
                        "text/html": "Total execution time: 0:00:00.058460"
                    },
                    "metadata": {}
                },
                {
                    "output_type": "execute_result",
                    "metadata": {},
                    "execution_count": 1,
                    "data": {
                        "application/vnd.dataresource+json": {
                            "schema": {
                                "fields": [
                                    {
                                        "name": "first_name"
                                    },
                                    {
                                        "name": "country"
                                    }
                                ]
                            },
                            "data": [
                                {
                                    "0": "Arabele",
                                    "1": "Canada"
                                },
                                {
                                    "0": "Manuel",
                                    "1": "Canada"
                                },
                                {
                                    "0": "Pinchas",
                                    "1": "Germany"
                                },
                                {
                                    "0": "Pierson",
                                    "1": "Germany"
                                },
                                {
                                    "0": "Muire",
                                    "1": "United States"
                                },
                                {
                                    "0": "Melony",
                                    "1": "United States"
                                },
                                {
                                    "0": "Berkley",
                                    "1": "Germany"
                                },
                                {
                                    "0": "Lesly",
                                    "1": "Germany"
                                },
                                {
                                    "0": "Nichol",
                                    "1": "Canada"
                                },
                                {
                                    "0": "Delmore",
                                    "1": "Canada"
                                }
                            ]
                        },
                        "text/html": "<table><tr><th>first_name</th><th>country</th></tr><tr><td>Arabele</td><td>Canada</td></tr><tr><td>Manuel</td><td>Canada</td></tr><tr><td>Pinchas</td><td>Germany</td></tr><tr><td>Pierson</td><td>Germany</td></tr><tr><td>Muire</td><td>United States</td></tr><tr><td>Melony</td><td>United States</td></tr><tr><td>Berkley</td><td>Germany</td></tr><tr><td>Lesly</td><td>Germany</td></tr><tr><td>Nichol</td><td>Canada</td></tr><tr><td>Delmore</td><td>Canada</td></tr></table>"
                    }
                }
            ],
            "execution_count": 1
        },
        {
            "cell_type": "code",
            "source": "SELECT first_name, email, division\nFROM employees, departments\nWHERE employees.department = departments.department\nAND employees.email IS NOT NULL\nLIMIT 10;",
            "metadata": {},
            "outputs": [
                {
                    "output_type": "display_data",
                    "data": {
                        "text/html": "(10 row(s) affected)"
                    },
                    "metadata": {}
                },
                {
                    "output_type": "display_data",
                    "data": {
                        "text/html": "Total execution time: 0:00:00.012958"
                    },
                    "metadata": {}
                },
                {
                    "output_type": "execute_result",
                    "metadata": {},
                    "execution_count": 2,
                    "data": {
                        "application/vnd.dataresource+json": {
                            "schema": {
                                "fields": [
                                    {
                                        "name": "first_name"
                                    },
                                    {
                                        "name": "email"
                                    },
                                    {
                                        "name": "division"
                                    }
                                ]
                            },
                            "data": [
                                {
                                    "0": "Arabele",
                                    "1": "acancellieri0@networkadvertising.org",
                                    "2": "Entertainment"
                                },
                                {
                                    "0": "Manuel",
                                    "1": "mgiffaut1@google.es",
                                    "2": "Electronics"
                                },
                                {
                                    "0": "Pinchas",
                                    "1": "pbargery2@irs.gov",
                                    "2": "Home"
                                },
                                {
                                    "0": "Pierson",
                                    "1": "pmccrudden3@mysql.com",
                                    "2": "Kids"
                                },
                                {
                                    "0": "Muire",
                                    "1": "mrapsey4@zimbio.com",
                                    "2": "Home"
                                },
                                {
                                    "0": "Melony",
                                    "1": "mmacaless5@craigslist.org",
                                    "2": "Home"
                                },
                                {
                                    "0": "Berkley",
                                    "1": "bkoopman6@tuttocitta.it",
                                    "2": "Kids"
                                },
                                {
                                    "0": "Lesly",
                                    "1": "lluigi7@rediff.com",
                                    "2": "Electronics"
                                },
                                {
                                    "0": "Nichol",
                                    "1": "nmougenel8@google.com.br",
                                    "2": "Home"
                                },
                                {
                                    "0": "Delmore",
                                    "1": "dshackleton9@ustream.tv",
                                    "2": "Entertainment"
                                }
                            ]
                        },
                        "text/html": "<table><tr><th>first_name</th><th>email</th><th>division</th></tr><tr><td>Arabele</td><td>acancellieri0@networkadvertising.org</td><td>Entertainment</td></tr><tr><td>Manuel</td><td>mgiffaut1@google.es</td><td>Electronics</td></tr><tr><td>Pinchas</td><td>pbargery2@irs.gov</td><td>Home</td></tr><tr><td>Pierson</td><td>pmccrudden3@mysql.com</td><td>Kids</td></tr><tr><td>Muire</td><td>mrapsey4@zimbio.com</td><td>Home</td></tr><tr><td>Melony</td><td>mmacaless5@craigslist.org</td><td>Home</td></tr><tr><td>Berkley</td><td>bkoopman6@tuttocitta.it</td><td>Kids</td></tr><tr><td>Lesly</td><td>lluigi7@rediff.com</td><td>Electronics</td></tr><tr><td>Nichol</td><td>nmougenel8@google.com.br</td><td>Home</td></tr><tr><td>Delmore</td><td>dshackleton9@ustream.tv</td><td>Entertainment</td></tr></table>"
                    }
                }
            ],
            "execution_count": 2
        },
        {
            "cell_type": "code",
            "source": "SELECT country, COUNT(e.id)\nFROM regions, employees e\nWHERE e.region_id = regions.id\nGROUP BY regions.country;",
            "metadata": {},
            "outputs": [
                {
                    "output_type": "display_data",
                    "data": {
                        "text/html": "(3 row(s) affected)"
                    },
                    "metadata": {}
                },
                {
                    "output_type": "display_data",
                    "data": {
                        "text/html": "Total execution time: 0:00:00.012713"
                    },
                    "metadata": {}
                },
                {
                    "output_type": "execute_result",
                    "metadata": {},
                    "execution_count": 4,
                    "data": {
                        "application/vnd.dataresource+json": {
                            "schema": {
                                "fields": [
                                    {
                                        "name": "country"
                                    },
                                    {
                                        "name": "count"
                                    }
                                ]
                            },
                            "data": [
                                {
                                    "0": "United States",
                                    "1": "233"
                                },
                                {
                                    "0": "Germany",
                                    "1": "198"
                                },
                                {
                                    "0": "Canada",
                                    "1": "269"
                                }
                            ]
                        },
                        "text/html": "<table><tr><th>country</th><th>count</th></tr><tr><td>United States</td><td>233</td></tr><tr><td>Germany</td><td>198</td></tr><tr><td>Canada</td><td>269</td></tr></table>"
                    }
                }
            ],
            "execution_count": 4
        },
        {
            "cell_type": "code",
            "source": "SELECT first_name, country\nFROM employees INNER JOIN regions\nON employees.region_id = regions.id\nLIMIT 10; ",
            "metadata": {},
            "outputs": [
                {
                    "output_type": "display_data",
                    "data": {
                        "text/html": "(10 row(s) affected)"
                    },
                    "metadata": {}
                },
                {
                    "output_type": "display_data",
                    "data": {
                        "text/html": "Total execution time: 0:00:00.006956"
                    },
                    "metadata": {}
                },
                {
                    "output_type": "execute_result",
                    "metadata": {},
                    "execution_count": 5,
                    "data": {
                        "application/vnd.dataresource+json": {
                            "schema": {
                                "fields": [
                                    {
                                        "name": "first_name"
                                    },
                                    {
                                        "name": "country"
                                    }
                                ]
                            },
                            "data": [
                                {
                                    "0": "Arabele",
                                    "1": "Canada"
                                },
                                {
                                    "0": "Manuel",
                                    "1": "Canada"
                                },
                                {
                                    "0": "Pinchas",
                                    "1": "Germany"
                                },
                                {
                                    "0": "Pierson",
                                    "1": "Germany"
                                },
                                {
                                    "0": "Muire",
                                    "1": "United States"
                                },
                                {
                                    "0": "Melony",
                                    "1": "United States"
                                },
                                {
                                    "0": "Berkley",
                                    "1": "Germany"
                                },
                                {
                                    "0": "Lesly",
                                    "1": "Germany"
                                },
                                {
                                    "0": "Nichol",
                                    "1": "Canada"
                                },
                                {
                                    "0": "Delmore",
                                    "1": "Canada"
                                }
                            ]
                        },
                        "text/html": "<table><tr><th>first_name</th><th>country</th></tr><tr><td>Arabele</td><td>Canada</td></tr><tr><td>Manuel</td><td>Canada</td></tr><tr><td>Pinchas</td><td>Germany</td></tr><tr><td>Pierson</td><td>Germany</td></tr><tr><td>Muire</td><td>United States</td></tr><tr><td>Melony</td><td>United States</td></tr><tr><td>Berkley</td><td>Germany</td></tr><tr><td>Lesly</td><td>Germany</td></tr><tr><td>Nichol</td><td>Canada</td></tr><tr><td>Delmore</td><td>Canada</td></tr></table>"
                    }
                }
            ],
            "execution_count": 5
        },
        {
            "cell_type": "code",
            "source": "SELECT first_name, division, country\nFROM employees\nINNER JOIN regions ON employees.region_id = regions.id\nINNER JOIN departments ON employees.department = departments.department\nLIMIT 10;",
            "metadata": {},
            "outputs": [
                {
                    "output_type": "display_data",
                    "data": {
                        "text/html": "(10 row(s) affected)"
                    },
                    "metadata": {}
                },
                {
                    "output_type": "display_data",
                    "data": {
                        "text/html": "Total execution time: 0:00:00.010926"
                    },
                    "metadata": {}
                },
                {
                    "output_type": "execute_result",
                    "metadata": {},
                    "execution_count": 6,
                    "data": {
                        "application/vnd.dataresource+json": {
                            "schema": {
                                "fields": [
                                    {
                                        "name": "first_name"
                                    },
                                    {
                                        "name": "division"
                                    },
                                    {
                                        "name": "country"
                                    }
                                ]
                            },
                            "data": [
                                {
                                    "0": "Arabele",
                                    "1": "Entertainment",
                                    "2": "Canada"
                                },
                                {
                                    "0": "Manuel",
                                    "1": "Electronics",
                                    "2": "Canada"
                                },
                                {
                                    "0": "Pinchas",
                                    "1": "Home",
                                    "2": "Germany"
                                },
                                {
                                    "0": "Pierson",
                                    "1": "Kids",
                                    "2": "Germany"
                                },
                                {
                                    "0": "Muire",
                                    "1": "Home",
                                    "2": "United States"
                                },
                                {
                                    "0": "Melony",
                                    "1": "Home",
                                    "2": "United States"
                                },
                                {
                                    "0": "Berkley",
                                    "1": "Kids",
                                    "2": "Germany"
                                },
                                {
                                    "0": "Lesly",
                                    "1": "Electronics",
                                    "2": "Germany"
                                },
                                {
                                    "0": "Nichol",
                                    "1": "Home",
                                    "2": "Canada"
                                },
                                {
                                    "0": "Delmore",
                                    "1": "Entertainment",
                                    "2": "Canada"
                                }
                            ]
                        },
                        "text/html": "<table><tr><th>first_name</th><th>division</th><th>country</th></tr><tr><td>Arabele</td><td>Entertainment</td><td>Canada</td></tr><tr><td>Manuel</td><td>Electronics</td><td>Canada</td></tr><tr><td>Pinchas</td><td>Home</td><td>Germany</td></tr><tr><td>Pierson</td><td>Kids</td><td>Germany</td></tr><tr><td>Muire</td><td>Home</td><td>United States</td></tr><tr><td>Melony</td><td>Home</td><td>United States</td></tr><tr><td>Berkley</td><td>Kids</td><td>Germany</td></tr><tr><td>Lesly</td><td>Electronics</td><td>Germany</td></tr><tr><td>Nichol</td><td>Home</td><td>Canada</td></tr><tr><td>Delmore</td><td>Entertainment</td><td>Canada</td></tr></table>"
                    }
                }
            ],
            "execution_count": 6
        },
        {
            "cell_type": "code",
            "source": "SELECT DISTINCT e.department, d.department\nFROM employees e\nLEFT JOIN departments d ON e.department = d.department;",
            "metadata": {},
            "outputs": [
                {
                    "output_type": "display_data",
                    "data": {
                        "text/html": "(16 row(s) affected)"
                    },
                    "metadata": {}
                },
                {
                    "output_type": "display_data",
                    "data": {
                        "text/html": "Total execution time: 0:00:00.004563"
                    },
                    "metadata": {}
                },
                {
                    "output_type": "execute_result",
                    "metadata": {},
                    "execution_count": 7,
                    "data": {
                        "application/vnd.dataresource+json": {
                            "schema": {
                                "fields": [
                                    {
                                        "name": "department"
                                    },
                                    {
                                        "name": "department"
                                    }
                                ]
                            },
                            "data": [
                                {
                                    "0": "Computers",
                                    "1": "Computers"
                                },
                                {
                                    "0": "Clothing",
                                    "1": "Clothing"
                                },
                                {
                                    "0": "Health",
                                    "1": "NULL"
                                },
                                {
                                    "0": "Grocery",
                                    "1": "Grocery"
                                },
                                {
                                    "0": "Books",
                                    "1": "Books"
                                },
                                {
                                    "0": "Security",
                                    "1": "NULL"
                                },
                                {
                                    "0": "Movies",
                                    "1": "Movies"
                                },
                                {
                                    "0": "Beauty",
                                    "1": "Beauty"
                                },
                                {
                                    "0": "Music",
                                    "1": "Music"
                                },
                                {
                                    "0": "Shoes",
                                    "1": "Shoes"
                                },
                                {
                                    "0": "Jewelery",
                                    "1": "Jewelery"
                                },
                                {
                                    "0": "Garden",
                                    "1": "Garden"
                                },
                                {
                                    "0": "Camping",
                                    "1": "NULL"
                                },
                                {
                                    "0": "Automotive",
                                    "1": "Automotive"
                                },
                                {
                                    "0": "Games",
                                    "1": "Games"
                                },
                                {
                                    "0": "Toys",
                                    "1": "Toys"
                                }
                            ]
                        },
                        "text/html": "<table><tr><th>department</th><th>department</th></tr><tr><td>Computers</td><td>Computers</td></tr><tr><td>Clothing</td><td>Clothing</td></tr><tr><td>Health</td><td>NULL</td></tr><tr><td>Grocery</td><td>Grocery</td></tr><tr><td>Books</td><td>Books</td></tr><tr><td>Security</td><td>NULL</td></tr><tr><td>Movies</td><td>Movies</td></tr><tr><td>Beauty</td><td>Beauty</td></tr><tr><td>Music</td><td>Music</td></tr><tr><td>Shoes</td><td>Shoes</td></tr><tr><td>Jewelery</td><td>Jewelery</td></tr><tr><td>Garden</td><td>Garden</td></tr><tr><td>Camping</td><td>NULL</td></tr><tr><td>Automotive</td><td>Automotive</td></tr><tr><td>Games</td><td>Games</td></tr><tr><td>Toys</td><td>Toys</td></tr></table>"
                    }
                }
            ],
            "execution_count": 7
        },
        {
            "cell_type": "code",
            "source": "SELECT DISTINCT e.department, d.department\nFROM employees e\nJOIN departments d ON e.department = d.department;",
            "metadata": {},
            "outputs": [
                {
                    "output_type": "display_data",
                    "data": {
                        "text/html": "(13 row(s) affected)"
                    },
                    "metadata": {}
                },
                {
                    "output_type": "display_data",
                    "data": {
                        "text/html": "Total execution time: 0:00:00.005148"
                    },
                    "metadata": {}
                },
                {
                    "output_type": "execute_result",
                    "metadata": {},
                    "execution_count": 8,
                    "data": {
                        "application/vnd.dataresource+json": {
                            "schema": {
                                "fields": [
                                    {
                                        "name": "department"
                                    },
                                    {
                                        "name": "department"
                                    }
                                ]
                            },
                            "data": [
                                {
                                    "0": "Computers",
                                    "1": "Computers"
                                },
                                {
                                    "0": "Clothing",
                                    "1": "Clothing"
                                },
                                {
                                    "0": "Grocery",
                                    "1": "Grocery"
                                },
                                {
                                    "0": "Books",
                                    "1": "Books"
                                },
                                {
                                    "0": "Movies",
                                    "1": "Movies"
                                },
                                {
                                    "0": "Beauty",
                                    "1": "Beauty"
                                },
                                {
                                    "0": "Music",
                                    "1": "Music"
                                },
                                {
                                    "0": "Shoes",
                                    "1": "Shoes"
                                },
                                {
                                    "0": "Jewelery",
                                    "1": "Jewelery"
                                },
                                {
                                    "0": "Garden",
                                    "1": "Garden"
                                },
                                {
                                    "0": "Automotive",
                                    "1": "Automotive"
                                },
                                {
                                    "0": "Games",
                                    "1": "Games"
                                },
                                {
                                    "0": "Toys",
                                    "1": "Toys"
                                }
                            ]
                        },
                        "text/html": "<table><tr><th>department</th><th>department</th></tr><tr><td>Computers</td><td>Computers</td></tr><tr><td>Clothing</td><td>Clothing</td></tr><tr><td>Grocery</td><td>Grocery</td></tr><tr><td>Books</td><td>Books</td></tr><tr><td>Movies</td><td>Movies</td></tr><tr><td>Beauty</td><td>Beauty</td></tr><tr><td>Music</td><td>Music</td></tr><tr><td>Shoes</td><td>Shoes</td></tr><tr><td>Jewelery</td><td>Jewelery</td></tr><tr><td>Garden</td><td>Garden</td></tr><tr><td>Automotive</td><td>Automotive</td></tr><tr><td>Games</td><td>Games</td></tr><tr><td>Toys</td><td>Toys</td></tr></table>"
                    }
                }
            ],
            "execution_count": 8
        },
        {
            "cell_type": "code",
            "source": "SELECT DISTINCT e.department, d.department\nFROM employees e\nRIGHT JOIN departments d ON e.department = d.department;",
            "metadata": {},
            "outputs": [
                {
                    "output_type": "display_data",
                    "data": {
                        "text/html": "(13 row(s) affected)"
                    },
                    "metadata": {}
                },
                {
                    "output_type": "display_data",
                    "data": {
                        "text/html": "Total execution time: 0:00:00.009010"
                    },
                    "metadata": {}
                },
                {
                    "output_type": "execute_result",
                    "metadata": {},
                    "execution_count": 9,
                    "data": {
                        "application/vnd.dataresource+json": {
                            "schema": {
                                "fields": [
                                    {
                                        "name": "department"
                                    },
                                    {
                                        "name": "department"
                                    }
                                ]
                            },
                            "data": [
                                {
                                    "0": "Computers",
                                    "1": "Computers"
                                },
                                {
                                    "0": "Clothing",
                                    "1": "Clothing"
                                },
                                {
                                    "0": "Grocery",
                                    "1": "Grocery"
                                },
                                {
                                    "0": "Books",
                                    "1": "Books"
                                },
                                {
                                    "0": "Movies",
                                    "1": "Movies"
                                },
                                {
                                    "0": "Beauty",
                                    "1": "Beauty"
                                },
                                {
                                    "0": "Music",
                                    "1": "Music"
                                },
                                {
                                    "0": "Shoes",
                                    "1": "Shoes"
                                },
                                {
                                    "0": "Jewelery",
                                    "1": "Jewelery"
                                },
                                {
                                    "0": "Garden",
                                    "1": "Garden"
                                },
                                {
                                    "0": "Automotive",
                                    "1": "Automotive"
                                },
                                {
                                    "0": "Games",
                                    "1": "Games"
                                },
                                {
                                    "0": "Toys",
                                    "1": "Toys"
                                }
                            ]
                        },
                        "text/html": "<table><tr><th>department</th><th>department</th></tr><tr><td>Computers</td><td>Computers</td></tr><tr><td>Clothing</td><td>Clothing</td></tr><tr><td>Grocery</td><td>Grocery</td></tr><tr><td>Books</td><td>Books</td></tr><tr><td>Movies</td><td>Movies</td></tr><tr><td>Beauty</td><td>Beauty</td></tr><tr><td>Music</td><td>Music</td></tr><tr><td>Shoes</td><td>Shoes</td></tr><tr><td>Jewelery</td><td>Jewelery</td></tr><tr><td>Garden</td><td>Garden</td></tr><tr><td>Automotive</td><td>Automotive</td></tr><tr><td>Games</td><td>Games</td></tr><tr><td>Toys</td><td>Toys</td></tr></table>"
                    }
                }
            ],
            "execution_count": 9
        },
        {
            "cell_type": "code",
            "source": "SELECT DISTINCT e.department\nFROM employees e\nLEFT JOIN departments d ON e.department = d.department\nWHERE d.department IS NULL;",
            "metadata": {},
            "outputs": [
                {
                    "output_type": "display_data",
                    "data": {
                        "text/html": "(3 row(s) affected)"
                    },
                    "metadata": {}
                },
                {
                    "output_type": "display_data",
                    "data": {
                        "text/html": "Total execution time: 0:00:00.004300"
                    },
                    "metadata": {}
                },
                {
                    "output_type": "execute_result",
                    "metadata": {},
                    "execution_count": 10,
                    "data": {
                        "application/vnd.dataresource+json": {
                            "schema": {
                                "fields": [
                                    {
                                        "name": "department"
                                    }
                                ]
                            },
                            "data": [
                                {
                                    "0": "Camping"
                                },
                                {
                                    "0": "Health"
                                },
                                {
                                    "0": "Security"
                                }
                            ]
                        },
                        "text/html": "<table><tr><th>department</th></tr><tr><td>Camping</td></tr><tr><td>Health</td></tr><tr><td>Security</td></tr></table>"
                    }
                }
            ],
            "execution_count": 10
        },
        {
            "cell_type": "code",
            "source": "SELECT DISTINCT e.department, d.department\nFROM employees e\nFULL OUTER JOIN departments d ON e.department = d.department",
            "metadata": {},
            "outputs": [
                {
                    "output_type": "display_data",
                    "data": {
                        "text/html": "(16 row(s) affected)"
                    },
                    "metadata": {}
                },
                {
                    "output_type": "display_data",
                    "data": {
                        "text/html": "Total execution time: 0:00:00.007789"
                    },
                    "metadata": {}
                },
                {
                    "output_type": "execute_result",
                    "metadata": {},
                    "execution_count": 12,
                    "data": {
                        "application/vnd.dataresource+json": {
                            "schema": {
                                "fields": [
                                    {
                                        "name": "department"
                                    },
                                    {
                                        "name": "department"
                                    }
                                ]
                            },
                            "data": [
                                {
                                    "0": "Computers",
                                    "1": "Computers"
                                },
                                {
                                    "0": "Clothing",
                                    "1": "Clothing"
                                },
                                {
                                    "0": "Health",
                                    "1": "NULL"
                                },
                                {
                                    "0": "Grocery",
                                    "1": "Grocery"
                                },
                                {
                                    "0": "Books",
                                    "1": "Books"
                                },
                                {
                                    "0": "Security",
                                    "1": "NULL"
                                },
                                {
                                    "0": "Movies",
                                    "1": "Movies"
                                },
                                {
                                    "0": "Beauty",
                                    "1": "Beauty"
                                },
                                {
                                    "0": "Music",
                                    "1": "Music"
                                },
                                {
                                    "0": "Shoes",
                                    "1": "Shoes"
                                },
                                {
                                    "0": "Jewelery",
                                    "1": "Jewelery"
                                },
                                {
                                    "0": "Garden",
                                    "1": "Garden"
                                },
                                {
                                    "0": "Camping",
                                    "1": "NULL"
                                },
                                {
                                    "0": "Automotive",
                                    "1": "Automotive"
                                },
                                {
                                    "0": "Games",
                                    "1": "Games"
                                },
                                {
                                    "0": "Toys",
                                    "1": "Toys"
                                }
                            ]
                        },
                        "text/html": "<table><tr><th>department</th><th>department</th></tr><tr><td>Computers</td><td>Computers</td></tr><tr><td>Clothing</td><td>Clothing</td></tr><tr><td>Health</td><td>NULL</td></tr><tr><td>Grocery</td><td>Grocery</td></tr><tr><td>Books</td><td>Books</td></tr><tr><td>Security</td><td>NULL</td></tr><tr><td>Movies</td><td>Movies</td></tr><tr><td>Beauty</td><td>Beauty</td></tr><tr><td>Music</td><td>Music</td></tr><tr><td>Shoes</td><td>Shoes</td></tr><tr><td>Jewelery</td><td>Jewelery</td></tr><tr><td>Garden</td><td>Garden</td></tr><tr><td>Camping</td><td>NULL</td></tr><tr><td>Automotive</td><td>Automotive</td></tr><tr><td>Games</td><td>Games</td></tr><tr><td>Toys</td><td>Toys</td></tr></table>"
                    }
                }
            ],
            "execution_count": 12
        },
        {
            "cell_type": "code",
            "source": "SELECT department FROM employees\nUNION\nSELECT department FROM departments;",
            "metadata": {},
            "outputs": [
                {
                    "output_type": "display_data",
                    "data": {
                        "text/html": "(16 row(s) affected)"
                    },
                    "metadata": {}
                },
                {
                    "output_type": "display_data",
                    "data": {
                        "text/html": "Total execution time: 0:00:00.005464"
                    },
                    "metadata": {}
                },
                {
                    "output_type": "execute_result",
                    "metadata": {},
                    "execution_count": 13,
                    "data": {
                        "application/vnd.dataresource+json": {
                            "schema": {
                                "fields": [
                                    {
                                        "name": "department"
                                    }
                                ]
                            },
                            "data": [
                                {
                                    "0": "Movies"
                                },
                                {
                                    "0": "Grocery"
                                },
                                {
                                    "0": "Books"
                                },
                                {
                                    "0": "Automotive"
                                },
                                {
                                    "0": "Garden"
                                },
                                {
                                    "0": "Beauty"
                                },
                                {
                                    "0": "Clothing"
                                },
                                {
                                    "0": "Jewelery"
                                },
                                {
                                    "0": "Music"
                                },
                                {
                                    "0": "Camping"
                                },
                                {
                                    "0": "Security"
                                },
                                {
                                    "0": "Health"
                                },
                                {
                                    "0": "Computers"
                                },
                                {
                                    "0": "Games"
                                },
                                {
                                    "0": "Toys"
                                },
                                {
                                    "0": "Shoes"
                                }
                            ]
                        },
                        "text/html": "<table><tr><th>department</th></tr><tr><td>Movies</td></tr><tr><td>Grocery</td></tr><tr><td>Books</td></tr><tr><td>Automotive</td></tr><tr><td>Garden</td></tr><tr><td>Beauty</td></tr><tr><td>Clothing</td></tr><tr><td>Jewelery</td></tr><tr><td>Music</td></tr><tr><td>Camping</td></tr><tr><td>Security</td></tr><tr><td>Health</td></tr><tr><td>Computers</td></tr><tr><td>Games</td></tr><tr><td>Toys</td></tr><tr><td>Shoes</td></tr></table>"
                    }
                }
            ],
            "execution_count": 13
        },
        {
            "cell_type": "code",
            "source": "SELECT department FROM employees\nUNION ALL\nSELECT department FROM departments;",
            "metadata": {},
            "outputs": [
                {
                    "output_type": "display_data",
                    "data": {
                        "text/html": "(713 row(s) affected)"
                    },
                    "metadata": {}
                },
                {
                    "output_type": "display_data",
                    "data": {
                        "text/html": "Total execution time: 0:00:00.012174"
                    },
                    "metadata": {}
                },
                {
                    "output_type": "execute_result",
                    "metadata": {},
                    "execution_count": 14,
                    "data": {
                        "application/vnd.dataresource+json": {
                            "schema": {
                                "fields": [
                                    {
                                        "name": "department"
                                    }
                                ]
                            },
                            "data": [
                                {
                                    "0": "Books"
                                },
                                {
                                    "0": "Computers"
                                },
                                {
                                    "0": "Grocery"
                                },
                                {
                                    "0": "Games"
                                },
                                {
                                    "0": "Beauty"
                                },
                                {
                                    "0": "Jewelery"
                                },
                                {
                                    "0": "Toys"
                                },
                                {
                                    "0": "Computers"
                                },
                                {
                                    "0": "Beauty"
                                },
                                {
                                    "0": "Movies"
                                },
                                {
                                    "0": "Books"
                                },
                                {
                                    "0": "Movies"
                                },
                                {
                                    "0": "Garden"
                                },
                                {
                                    "0": "Toys"
                                },
                                {
                                    "0": "Games"
                                },
                                {
                                    "0": "Clothing"
                                },
                                {
                                    "0": "Games"
                                },
                                {
                                    "0": "Music"
                                },
                                {
                                    "0": "Toys"
                                },
                                {
                                    "0": "Shoes"
                                },
                                {
                                    "0": "Shoes"
                                },
                                {
                                    "0": "Shoes"
                                },
                                {
                                    "0": "Automotive"
                                },
                                {
                                    "0": "Movies"
                                },
                                {
                                    "0": "Toys"
                                },
                                {
                                    "0": "Books"
                                },
                                {
                                    "0": "Toys"
                                },
                                {
                                    "0": "Games"
                                },
                                {
                                    "0": "Music"
                                },
                                {
                                    "0": "Games"
                                },
                                {
                                    "0": "Jewelery"
                                },
                                {
                                    "0": "Clothing"
                                },
                                {
                                    "0": "Shoes"
                                },
                                {
                                    "0": "Shoes"
                                },
                                {
                                    "0": "Movies"
                                },
                                {
                                    "0": "Computers"
                                },
                                {
                                    "0": "Games"
                                },
                                {
                                    "0": "Automotive"
                                },
                                {
                                    "0": "Toys"
                                },
                                {
                                    "0": "Jewelery"
                                },
                                {
                                    "0": "Computers"
                                },
                                {
                                    "0": "Toys"
                                },
                                {
                                    "0": "Computers"
                                },
                                {
                                    "0": "Grocery"
                                },
                                {
                                    "0": "Music"
                                },
                                {
                                    "0": "Music"
                                },
                                {
                                    "0": "Clothing"
                                },
                                {
                                    "0": "Grocery"
                                },
                                {
                                    "0": "Garden"
                                },
                                {
                                    "0": "Shoes"
                                },
                                {
                                    "0": "Books"
                                },
                                {
                                    "0": "Books"
                                },
                                {
                                    "0": "Movies"
                                },
                                {
                                    "0": "Music"
                                },
                                {
                                    "0": "Movies"
                                },
                                {
                                    "0": "Grocery"
                                },
                                {
                                    "0": "Music"
                                },
                                {
                                    "0": "Books"
                                },
                                {
                                    "0": "Books"
                                },
                                {
                                    "0": "Toys"
                                },
                                {
                                    "0": "Music"
                                },
                                {
                                    "0": "Computers"
                                },
                                {
                                    "0": "Games"
                                },
                                {
                                    "0": "Beauty"
                                },
                                {
                                    "0": "Beauty"
                                },
                                {
                                    "0": "Jewelery"
                                },
                                {
                                    "0": "Grocery"
                                },
                                {
                                    "0": "Books"
                                },
                                {
                                    "0": "Beauty"
                                },
                                {
                                    "0": "Garden"
                                },
                                {
                                    "0": "Automotive"
                                },
                                {
                                    "0": "Computers"
                                },
                                {
                                    "0": "Jewelery"
                                },
                                {
                                    "0": "Movies"
                                },
                                {
                                    "0": "Books"
                                },
                                {
                                    "0": "Jewelery"
                                },
                                {
                                    "0": "Jewelery"
                                },
                                {
                                    "0": "Garden"
                                },
                                {
                                    "0": "Automotive"
                                },
                                {
                                    "0": "Beauty"
                                },
                                {
                                    "0": "Movies"
                                },
                                {
                                    "0": "Games"
                                },
                                {
                                    "0": "Jewelery"
                                },
                                {
                                    "0": "Computers"
                                },
                                {
                                    "0": "Clothing"
                                },
                                {
                                    "0": "Movies"
                                },
                                {
                                    "0": "Grocery"
                                },
                                {
                                    "0": "Books"
                                },
                                {
                                    "0": "Computers"
                                },
                                {
                                    "0": "Garden"
                                },
                                {
                                    "0": "Music"
                                },
                                {
                                    "0": "Automotive"
                                },
                                {
                                    "0": "Books"
                                },
                                {
                                    "0": "Music"
                                },
                                {
                                    "0": "Garden"
                                },
                                {
                                    "0": "Beauty"
                                },
                                {
                                    "0": "Books"
                                },
                                {
                                    "0": "Beauty"
                                },
                                {
                                    "0": "Grocery"
                                },
                                {
                                    "0": "Grocery"
                                },
                                {
                                    "0": "Shoes"
                                },
                                {
                                    "0": "Beauty"
                                },
                                {
                                    "0": "Jewelery"
                                },
                                {
                                    "0": "Garden"
                                },
                                {
                                    "0": "Clothing"
                                },
                                {
                                    "0": "Grocery"
                                },
                                {
                                    "0": "Jewelery"
                                },
                                {
                                    "0": "Shoes"
                                },
                                {
                                    "0": "Music"
                                },
                                {
                                    "0": "Toys"
                                },
                                {
                                    "0": "Beauty"
                                },
                                {
                                    "0": "Games"
                                },
                                {
                                    "0": "Shoes"
                                },
                                {
                                    "0": "Books"
                                },
                                {
                                    "0": "Garden"
                                },
                                {
                                    "0": "Books"
                                },
                                {
                                    "0": "Movies"
                                },
                                {
                                    "0": "Books"
                                },
                                {
                                    "0": "Books"
                                },
                                {
                                    "0": "Jewelery"
                                },
                                {
                                    "0": "Games"
                                },
                                {
                                    "0": "Toys"
                                },
                                {
                                    "0": "Books"
                                },
                                {
                                    "0": "Jewelery"
                                },
                                {
                                    "0": "Garden"
                                },
                                {
                                    "0": "Games"
                                },
                                {
                                    "0": "Grocery"
                                },
                                {
                                    "0": "Movies"
                                },
                                {
                                    "0": "Jewelery"
                                },
                                {
                                    "0": "Beauty"
                                },
                                {
                                    "0": "Movies"
                                },
                                {
                                    "0": "Jewelery"
                                },
                                {
                                    "0": "Movies"
                                },
                                {
                                    "0": "Music"
                                },
                                {
                                    "0": "Games"
                                },
                                {
                                    "0": "Automotive"
                                },
                                {
                                    "0": "Music"
                                },
                                {
                                    "0": "Garden"
                                },
                                {
                                    "0": "Toys"
                                },
                                {
                                    "0": "Toys"
                                },
                                {
                                    "0": "Books"
                                },
                                {
                                    "0": "Beauty"
                                },
                                {
                                    "0": "Games"
                                },
                                {
                                    "0": "Computers"
                                },
                                {
                                    "0": "Beauty"
                                },
                                {
                                    "0": "Music"
                                },
                                {
                                    "0": "Computers"
                                },
                                {
                                    "0": "Automotive"
                                },
                                {
                                    "0": "Toys"
                                },
                                {
                                    "0": "Grocery"
                                },
                                {
                                    "0": "Beauty"
                                },
                                {
                                    "0": "Movies"
                                },
                                {
                                    "0": "Jewelery"
                                },
                                {
                                    "0": "Jewelery"
                                },
                                {
                                    "0": "Movies"
                                },
                                {
                                    "0": "Beauty"
                                },
                                {
                                    "0": "Shoes"
                                },
                                {
                                    "0": "Clothing"
                                },
                                {
                                    "0": "Music"
                                },
                                {
                                    "0": "Music"
                                },
                                {
                                    "0": "Jewelery"
                                },
                                {
                                    "0": "Garden"
                                },
                                {
                                    "0": "Games"
                                },
                                {
                                    "0": "Clothing"
                                },
                                {
                                    "0": "Music"
                                },
                                {
                                    "0": "Music"
                                },
                                {
                                    "0": "Movies"
                                },
                                {
                                    "0": "Music"
                                },
                                {
                                    "0": "Games"
                                },
                                {
                                    "0": "Automotive"
                                },
                                {
                                    "0": "Clothing"
                                },
                                {
                                    "0": "Clothing"
                                },
                                {
                                    "0": "Books"
                                },
                                {
                                    "0": "Shoes"
                                },
                                {
                                    "0": "Shoes"
                                },
                                {
                                    "0": "Clothing"
                                },
                                {
                                    "0": "Music"
                                },
                                {
                                    "0": "Grocery"
                                },
                                {
                                    "0": "Automotive"
                                },
                                {
                                    "0": "Jewelery"
                                },
                                {
                                    "0": "Clothing"
                                },
                                {
                                    "0": "Toys"
                                },
                                {
                                    "0": "Books"
                                },
                                {
                                    "0": "Toys"
                                },
                                {
                                    "0": "Beauty"
                                },
                                {
                                    "0": "Computers"
                                },
                                {
                                    "0": "Movies"
                                },
                                {
                                    "0": "Beauty"
                                },
                                {
                                    "0": "Shoes"
                                },
                                {
                                    "0": "Shoes"
                                },
                                {
                                    "0": "Toys"
                                },
                                {
                                    "0": "Grocery"
                                },
                                {
                                    "0": "Automotive"
                                },
                                {
                                    "0": "Shoes"
                                },
                                {
                                    "0": "Games"
                                },
                                {
                                    "0": "Jewelery"
                                },
                                {
                                    "0": "Computers"
                                },
                                {
                                    "0": "Jewelery"
                                },
                                {
                                    "0": "Books"
                                },
                                {
                                    "0": "Garden"
                                },
                                {
                                    "0": "Computers"
                                },
                                {
                                    "0": "Beauty"
                                },
                                {
                                    "0": "Clothing"
                                },
                                {
                                    "0": "Garden"
                                },
                                {
                                    "0": "Movies"
                                },
                                {
                                    "0": "Games"
                                },
                                {
                                    "0": "Computers"
                                },
                                {
                                    "0": "Jewelery"
                                },
                                {
                                    "0": "Clothing"
                                },
                                {
                                    "0": "Toys"
                                },
                                {
                                    "0": "Computers"
                                },
                                {
                                    "0": "Shoes"
                                },
                                {
                                    "0": "Clothing"
                                },
                                {
                                    "0": "Toys"
                                },
                                {
                                    "0": "Games"
                                },
                                {
                                    "0": "Toys"
                                },
                                {
                                    "0": "Toys"
                                },
                                {
                                    "0": "Grocery"
                                },
                                {
                                    "0": "Books"
                                },
                                {
                                    "0": "Grocery"
                                },
                                {
                                    "0": "Books"
                                },
                                {
                                    "0": "Toys"
                                },
                                {
                                    "0": "Toys"
                                },
                                {
                                    "0": "Beauty"
                                },
                                {
                                    "0": "Movies"
                                },
                                {
                                    "0": "Games"
                                },
                                {
                                    "0": "Movies"
                                },
                                {
                                    "0": "Books"
                                },
                                {
                                    "0": "Clothing"
                                },
                                {
                                    "0": "Automotive"
                                },
                                {
                                    "0": "Toys"
                                },
                                {
                                    "0": "Movies"
                                },
                                {
                                    "0": "Games"
                                },
                                {
                                    "0": "Clothing"
                                },
                                {
                                    "0": "Toys"
                                },
                                {
                                    "0": "Grocery"
                                },
                                {
                                    "0": "Games"
                                },
                                {
                                    "0": "Movies"
                                },
                                {
                                    "0": "Toys"
                                },
                                {
                                    "0": "Garden"
                                },
                                {
                                    "0": "Music"
                                },
                                {
                                    "0": "Books"
                                },
                                {
                                    "0": "Shoes"
                                },
                                {
                                    "0": "Books"
                                },
                                {
                                    "0": "Grocery"
                                },
                                {
                                    "0": "Jewelery"
                                },
                                {
                                    "0": "Garden"
                                },
                                {
                                    "0": "Shoes"
                                },
                                {
                                    "0": "Automotive"
                                },
                                {
                                    "0": "Books"
                                },
                                {
                                    "0": "Games"
                                },
                                {
                                    "0": "Books"
                                },
                                {
                                    "0": "Toys"
                                },
                                {
                                    "0": "Grocery"
                                },
                                {
                                    "0": "Shoes"
                                },
                                {
                                    "0": "Grocery"
                                },
                                {
                                    "0": "Toys"
                                },
                                {
                                    "0": "Jewelery"
                                },
                                {
                                    "0": "Clothing"
                                },
                                {
                                    "0": "Books"
                                },
                                {
                                    "0": "Garden"
                                },
                                {
                                    "0": "Automotive"
                                },
                                {
                                    "0": "Grocery"
                                },
                                {
                                    "0": "Garden"
                                },
                                {
                                    "0": "Movies"
                                },
                                {
                                    "0": "Games"
                                },
                                {
                                    "0": "Computers"
                                },
                                {
                                    "0": "Automotive"
                                },
                                {
                                    "0": "Clothing"
                                },
                                {
                                    "0": "Shoes"
                                },
                                {
                                    "0": "Toys"
                                },
                                {
                                    "0": "Clothing"
                                },
                                {
                                    "0": "Clothing"
                                },
                                {
                                    "0": "Beauty"
                                },
                                {
                                    "0": "Garden"
                                },
                                {
                                    "0": "Movies"
                                },
                                {
                                    "0": "Garden"
                                },
                                {
                                    "0": "Grocery"
                                },
                                {
                                    "0": "Movies"
                                },
                                {
                                    "0": "Computers"
                                },
                                {
                                    "0": "Computers"
                                },
                                {
                                    "0": "Automotive"
                                },
                                {
                                    "0": "Shoes"
                                },
                                {
                                    "0": "Jewelery"
                                },
                                {
                                    "0": "Beauty"
                                },
                                {
                                    "0": "Automotive"
                                },
                                {
                                    "0": "Toys"
                                },
                                {
                                    "0": "Games"
                                },
                                {
                                    "0": "Garden"
                                },
                                {
                                    "0": "Grocery"
                                },
                                {
                                    "0": "Computers"
                                },
                                {
                                    "0": "Garden"
                                },
                                {
                                    "0": "Toys"
                                },
                                {
                                    "0": "Jewelery"
                                },
                                {
                                    "0": "Music"
                                },
                                {
                                    "0": "Garden"
                                },
                                {
                                    "0": "Garden"
                                },
                                {
                                    "0": "Computers"
                                },
                                {
                                    "0": "Shoes"
                                },
                                {
                                    "0": "Music"
                                },
                                {
                                    "0": "Music"
                                },
                                {
                                    "0": "Clothing"
                                },
                                {
                                    "0": "Garden"
                                },
                                {
                                    "0": "Jewelery"
                                },
                                {
                                    "0": "Music"
                                },
                                {
                                    "0": "Computers"
                                },
                                {
                                    "0": "Books"
                                },
                                {
                                    "0": "Music"
                                },
                                {
                                    "0": "Games"
                                },
                                {
                                    "0": "Shoes"
                                },
                                {
                                    "0": "Shoes"
                                },
                                {
                                    "0": "Games"
                                },
                                {
                                    "0": "Computers"
                                },
                                {
                                    "0": "Automotive"
                                },
                                {
                                    "0": "Garden"
                                },
                                {
                                    "0": "Movies"
                                },
                                {
                                    "0": "Automotive"
                                },
                                {
                                    "0": "Garden"
                                },
                                {
                                    "0": "Garden"
                                },
                                {
                                    "0": "Grocery"
                                },
                                {
                                    "0": "Automotive"
                                },
                                {
                                    "0": "Movies"
                                },
                                {
                                    "0": "Shoes"
                                },
                                {
                                    "0": "Games"
                                },
                                {
                                    "0": "Books"
                                },
                                {
                                    "0": "Automotive"
                                },
                                {
                                    "0": "Computers"
                                },
                                {
                                    "0": "Books"
                                },
                                {
                                    "0": "Jewelery"
                                },
                                {
                                    "0": "Beauty"
                                },
                                {
                                    "0": "Toys"
                                },
                                {
                                    "0": "Clothing"
                                },
                                {
                                    "0": "Shoes"
                                },
                                {
                                    "0": "Books"
                                },
                                {
                                    "0": "Books"
                                },
                                {
                                    "0": "Games"
                                },
                                {
                                    "0": "Books"
                                },
                                {
                                    "0": "Clothing"
                                },
                                {
                                    "0": "Jewelery"
                                },
                                {
                                    "0": "Books"
                                },
                                {
                                    "0": "Garden"
                                },
                                {
                                    "0": "Jewelery"
                                },
                                {
                                    "0": "Beauty"
                                },
                                {
                                    "0": "Garden"
                                },
                                {
                                    "0": "Grocery"
                                },
                                {
                                    "0": "Books"
                                },
                                {
                                    "0": "Shoes"
                                },
                                {
                                    "0": "Jewelery"
                                },
                                {
                                    "0": "Shoes"
                                },
                                {
                                    "0": "Shoes"
                                },
                                {
                                    "0": "Grocery"
                                },
                                {
                                    "0": "Automotive"
                                },
                                {
                                    "0": "Automotive"
                                },
                                {
                                    "0": "Clothing"
                                },
                                {
                                    "0": "Clothing"
                                },
                                {
                                    "0": "Books"
                                },
                                {
                                    "0": "Movies"
                                },
                                {
                                    "0": "Jewelery"
                                },
                                {
                                    "0": "Books"
                                },
                                {
                                    "0": "Games"
                                },
                                {
                                    "0": "Games"
                                },
                                {
                                    "0": "Games"
                                },
                                {
                                    "0": "Toys"
                                },
                                {
                                    "0": "Shoes"
                                },
                                {
                                    "0": "Games"
                                },
                                {
                                    "0": "Games"
                                },
                                {
                                    "0": "Automotive"
                                },
                                {
                                    "0": "Computers"
                                },
                                {
                                    "0": "Beauty"
                                },
                                {
                                    "0": "Toys"
                                },
                                {
                                    "0": "Garden"
                                },
                                {
                                    "0": "Grocery"
                                },
                                {
                                    "0": "Games"
                                },
                                {
                                    "0": "Games"
                                },
                                {
                                    "0": "Beauty"
                                },
                                {
                                    "0": "Automotive"
                                },
                                {
                                    "0": "Clothing"
                                },
                                {
                                    "0": "Games"
                                },
                                {
                                    "0": "Garden"
                                },
                                {
                                    "0": "Movies"
                                },
                                {
                                    "0": "Music"
                                },
                                {
                                    "0": "Jewelery"
                                },
                                {
                                    "0": "Grocery"
                                },
                                {
                                    "0": "Clothing"
                                },
                                {
                                    "0": "Computers"
                                },
                                {
                                    "0": "Movies"
                                },
                                {
                                    "0": "Automotive"
                                },
                                {
                                    "0": "Computers"
                                },
                                {
                                    "0": "Movies"
                                },
                                {
                                    "0": "Grocery"
                                },
                                {
                                    "0": "Books"
                                },
                                {
                                    "0": "Garden"
                                },
                                {
                                    "0": "Movies"
                                },
                                {
                                    "0": "Garden"
                                },
                                {
                                    "0": "Grocery"
                                },
                                {
                                    "0": "Computers"
                                },
                                {
                                    "0": "Books"
                                },
                                {
                                    "0": "Shoes"
                                },
                                {
                                    "0": "Music"
                                },
                                {
                                    "0": "Grocery"
                                },
                                {
                                    "0": "Books"
                                },
                                {
                                    "0": "Movies"
                                },
                                {
                                    "0": "Movies"
                                },
                                {
                                    "0": "Grocery"
                                },
                                {
                                    "0": "Books"
                                },
                                {
                                    "0": "Computers"
                                },
                                {
                                    "0": "Computers"
                                },
                                {
                                    "0": "Games"
                                },
                                {
                                    "0": "Books"
                                },
                                {
                                    "0": "Computers"
                                },
                                {
                                    "0": "Jewelery"
                                },
                                {
                                    "0": "Computers"
                                },
                                {
                                    "0": "Garden"
                                },
                                {
                                    "0": "Garden"
                                },
                                {
                                    "0": "Music"
                                },
                                {
                                    "0": "Beauty"
                                },
                                {
                                    "0": "Grocery"
                                },
                                {
                                    "0": "Games"
                                },
                                {
                                    "0": "Books"
                                },
                                {
                                    "0": "Shoes"
                                },
                                {
                                    "0": "Garden"
                                },
                                {
                                    "0": "Movies"
                                },
                                {
                                    "0": "Computers"
                                },
                                {
                                    "0": "Shoes"
                                },
                                {
                                    "0": "Automotive"
                                },
                                {
                                    "0": "Jewelery"
                                },
                                {
                                    "0": "Games"
                                },
                                {
                                    "0": "Toys"
                                },
                                {
                                    "0": "Automotive"
                                },
                                {
                                    "0": "Garden"
                                },
                                {
                                    "0": "Books"
                                },
                                {
                                    "0": "Games"
                                },
                                {
                                    "0": "Games"
                                },
                                {
                                    "0": "Garden"
                                },
                                {
                                    "0": "Clothing"
                                },
                                {
                                    "0": "Clothing"
                                },
                                {
                                    "0": "Games"
                                },
                                {
                                    "0": "Books"
                                },
                                {
                                    "0": "Movies"
                                },
                                {
                                    "0": "Grocery"
                                },
                                {
                                    "0": "Automotive"
                                },
                                {
                                    "0": "Shoes"
                                },
                                {
                                    "0": "Jewelery"
                                },
                                {
                                    "0": "Grocery"
                                },
                                {
                                    "0": "Music"
                                },
                                {
                                    "0": "Beauty"
                                },
                                {
                                    "0": "Movies"
                                },
                                {
                                    "0": "Shoes"
                                },
                                {
                                    "0": "Toys"
                                },
                                {
                                    "0": "Shoes"
                                },
                                {
                                    "0": "Books"
                                },
                                {
                                    "0": "Garden"
                                },
                                {
                                    "0": "Beauty"
                                },
                                {
                                    "0": "Books"
                                },
                                {
                                    "0": "Automotive"
                                },
                                {
                                    "0": "Movies"
                                },
                                {
                                    "0": "Music"
                                },
                                {
                                    "0": "Games"
                                },
                                {
                                    "0": "Grocery"
                                },
                                {
                                    "0": "Music"
                                },
                                {
                                    "0": "Clothing"
                                },
                                {
                                    "0": "Music"
                                },
                                {
                                    "0": "Movies"
                                },
                                {
                                    "0": "Garden"
                                },
                                {
                                    "0": "Automotive"
                                },
                                {
                                    "0": "Jewelery"
                                },
                                {
                                    "0": "Movies"
                                },
                                {
                                    "0": "Games"
                                },
                                {
                                    "0": "Jewelery"
                                },
                                {
                                    "0": "Jewelery"
                                },
                                {
                                    "0": "Beauty"
                                },
                                {
                                    "0": "Games"
                                },
                                {
                                    "0": "Shoes"
                                },
                                {
                                    "0": "Music"
                                },
                                {
                                    "0": "Games"
                                },
                                {
                                    "0": "Shoes"
                                },
                                {
                                    "0": "Grocery"
                                },
                                {
                                    "0": "Jewelery"
                                },
                                {
                                    "0": "Toys"
                                },
                                {
                                    "0": "Movies"
                                },
                                {
                                    "0": "Jewelery"
                                },
                                {
                                    "0": "Games"
                                },
                                {
                                    "0": "Shoes"
                                },
                                {
                                    "0": "Music"
                                },
                                {
                                    "0": "Grocery"
                                },
                                {
                                    "0": "Clothing"
                                },
                                {
                                    "0": "Garden"
                                },
                                {
                                    "0": "Movies"
                                },
                                {
                                    "0": "Garden"
                                },
                                {
                                    "0": "Games"
                                },
                                {
                                    "0": "Books"
                                },
                                {
                                    "0": "Games"
                                },
                                {
                                    "0": "Garden"
                                },
                                {
                                    "0": "Garden"
                                },
                                {
                                    "0": "Games"
                                },
                                {
                                    "0": "Garden"
                                },
                                {
                                    "0": "Music"
                                },
                                {
                                    "0": "Books"
                                },
                                {
                                    "0": "Toys"
                                },
                                {
                                    "0": "Shoes"
                                },
                                {
                                    "0": "Garden"
                                },
                                {
                                    "0": "Automotive"
                                },
                                {
                                    "0": "Shoes"
                                },
                                {
                                    "0": "Music"
                                },
                                {
                                    "0": "Music"
                                },
                                {
                                    "0": "Music"
                                },
                                {
                                    "0": "Jewelery"
                                },
                                {
                                    "0": "Movies"
                                },
                                {
                                    "0": "Clothing"
                                },
                                {
                                    "0": "Books"
                                },
                                {
                                    "0": "Garden"
                                },
                                {
                                    "0": "Jewelery"
                                },
                                {
                                    "0": "Movies"
                                },
                                {
                                    "0": "Shoes"
                                },
                                {
                                    "0": "Shoes"
                                },
                                {
                                    "0": "Grocery"
                                },
                                {
                                    "0": "Movies"
                                },
                                {
                                    "0": "Grocery"
                                },
                                {
                                    "0": "Automotive"
                                },
                                {
                                    "0": "Movies"
                                },
                                {
                                    "0": "Automotive"
                                },
                                {
                                    "0": "Garden"
                                },
                                {
                                    "0": "Music"
                                },
                                {
                                    "0": "Games"
                                },
                                {
                                    "0": "Grocery"
                                },
                                {
                                    "0": "Clothing"
                                },
                                {
                                    "0": "Automotive"
                                },
                                {
                                    "0": "Movies"
                                },
                                {
                                    "0": "Garden"
                                },
                                {
                                    "0": "Grocery"
                                },
                                {
                                    "0": "Clothing"
                                },
                                {
                                    "0": "Books"
                                },
                                {
                                    "0": "Automotive"
                                },
                                {
                                    "0": "Beauty"
                                },
                                {
                                    "0": "Computers"
                                },
                                {
                                    "0": "Beauty"
                                },
                                {
                                    "0": "Automotive"
                                },
                                {
                                    "0": "Beauty"
                                },
                                {
                                    "0": "Beauty"
                                },
                                {
                                    "0": "Jewelery"
                                },
                                {
                                    "0": "Jewelery"
                                },
                                {
                                    "0": "Grocery"
                                },
                                {
                                    "0": "Garden"
                                },
                                {
                                    "0": "Movies"
                                },
                                {
                                    "0": "Computers"
                                },
                                {
                                    "0": "Shoes"
                                },
                                {
                                    "0": "Automotive"
                                },
                                {
                                    "0": "Automotive"
                                },
                                {
                                    "0": "Movies"
                                },
                                {
                                    "0": "Computers"
                                },
                                {
                                    "0": "Music"
                                },
                                {
                                    "0": "Clothing"
                                },
                                {
                                    "0": "Music"
                                },
                                {
                                    "0": "Music"
                                },
                                {
                                    "0": "Grocery"
                                },
                                {
                                    "0": "Computers"
                                },
                                {
                                    "0": "Computers"
                                },
                                {
                                    "0": "Music"
                                },
                                {
                                    "0": "Movies"
                                },
                                {
                                    "0": "Grocery"
                                },
                                {
                                    "0": "Jewelery"
                                },
                                {
                                    "0": "Games"
                                },
                                {
                                    "0": "Shoes"
                                },
                                {
                                    "0": "Music"
                                },
                                {
                                    "0": "Jewelery"
                                },
                                {
                                    "0": "Shoes"
                                },
                                {
                                    "0": "Music"
                                },
                                {
                                    "0": "Music"
                                },
                                {
                                    "0": "Garden"
                                },
                                {
                                    "0": "Movies"
                                },
                                {
                                    "0": "Shoes"
                                },
                                {
                                    "0": "Shoes"
                                },
                                {
                                    "0": "Garden"
                                },
                                {
                                    "0": "Grocery"
                                },
                                {
                                    "0": "Movies"
                                },
                                {
                                    "0": "Games"
                                },
                                {
                                    "0": "Automotive"
                                },
                                {
                                    "0": "Garden"
                                },
                                {
                                    "0": "Toys"
                                },
                                {
                                    "0": "Clothing"
                                },
                                {
                                    "0": "Grocery"
                                },
                                {
                                    "0": "Books"
                                },
                                {
                                    "0": "Toys"
                                },
                                {
                                    "0": "Garden"
                                },
                                {
                                    "0": "Computers"
                                },
                                {
                                    "0": "Grocery"
                                },
                                {
                                    "0": "Garden"
                                },
                                {
                                    "0": "Games"
                                },
                                {
                                    "0": "Automotive"
                                },
                                {
                                    "0": "Computers"
                                },
                                {
                                    "0": "Toys"
                                },
                                {
                                    "0": "Clothing"
                                },
                                {
                                    "0": "Computers"
                                },
                                {
                                    "0": "Music"
                                },
                                {
                                    "0": "Toys"
                                },
                                {
                                    "0": "Clothing"
                                },
                                {
                                    "0": "Jewelery"
                                },
                                {
                                    "0": "Jewelery"
                                },
                                {
                                    "0": "Movies"
                                },
                                {
                                    "0": "Grocery"
                                },
                                {
                                    "0": "Garden"
                                },
                                {
                                    "0": "Jewelery"
                                },
                                {
                                    "0": "Shoes"
                                },
                                {
                                    "0": "Games"
                                },
                                {
                                    "0": "Books"
                                },
                                {
                                    "0": "Shoes"
                                },
                                {
                                    "0": "Books"
                                },
                                {
                                    "0": "Automotive"
                                },
                                {
                                    "0": "Grocery"
                                },
                                {
                                    "0": "Shoes"
                                },
                                {
                                    "0": "Shoes"
                                },
                                {
                                    "0": "Shoes"
                                },
                                {
                                    "0": "Automotive"
                                },
                                {
                                    "0": "Grocery"
                                },
                                {
                                    "0": "Toys"
                                },
                                {
                                    "0": "Shoes"
                                },
                                {
                                    "0": "Beauty"
                                },
                                {
                                    "0": "Clothing"
                                },
                                {
                                    "0": "Shoes"
                                },
                                {
                                    "0": "Automotive"
                                },
                                {
                                    "0": "Health"
                                },
                                {
                                    "0": "Health"
                                },
                                {
                                    "0": "Health"
                                },
                                {
                                    "0": "Security"
                                },
                                {
                                    "0": "Security"
                                },
                                {
                                    "0": "Camping"
                                },
                                {
                                    "0": "Camping"
                                },
                                {
                                    "0": "Security"
                                },
                                {
                                    "0": "Camping"
                                },
                                {
                                    "0": "Security"
                                },
                                {
                                    "0": "Camping"
                                },
                                {
                                    "0": "Health"
                                },
                                {
                                    "0": "Health"
                                },
                                {
                                    "0": "Security"
                                },
                                {
                                    "0": "Camping"
                                },
                                {
                                    "0": "Camping"
                                },
                                {
                                    "0": "Health"
                                },
                                {
                                    "0": "Health"
                                },
                                {
                                    "0": "Camping"
                                },
                                {
                                    "0": "Camping"
                                },
                                {
                                    "0": "Camping"
                                },
                                {
                                    "0": "Health"
                                },
                                {
                                    "0": "Security"
                                },
                                {
                                    "0": "Health"
                                },
                                {
                                    "0": "Health"
                                },
                                {
                                    "0": "Security"
                                },
                                {
                                    "0": "Camping"
                                },
                                {
                                    "0": "Security"
                                },
                                {
                                    "0": "Camping"
                                },
                                {
                                    "0": "Security"
                                },
                                {
                                    "0": "Camping"
                                },
                                {
                                    "0": "Camping"
                                },
                                {
                                    "0": "Security"
                                },
                                {
                                    "0": "Health"
                                },
                                {
                                    "0": "Health"
                                },
                                {
                                    "0": "Camping"
                                },
                                {
                                    "0": "Camping"
                                },
                                {
                                    "0": "Health"
                                },
                                {
                                    "0": "Security"
                                },
                                {
                                    "0": "Camping"
                                },
                                {
                                    "0": "Security"
                                },
                                {
                                    "0": "Health"
                                },
                                {
                                    "0": "Security"
                                },
                                {
                                    "0": "Camping"
                                },
                                {
                                    "0": "Security"
                                },
                                {
                                    "0": "Camping"
                                },
                                {
                                    "0": "Camping"
                                },
                                {
                                    "0": "Security"
                                },
                                {
                                    "0": "Camping"
                                },
                                {
                                    "0": "Camping"
                                },
                                {
                                    "0": "Health"
                                },
                                {
                                    "0": "Camping"
                                },
                                {
                                    "0": "Security"
                                },
                                {
                                    "0": "Health"
                                },
                                {
                                    "0": "Camping"
                                },
                                {
                                    "0": "Health"
                                },
                                {
                                    "0": "Camping"
                                },
                                {
                                    "0": "Security"
                                },
                                {
                                    "0": "Camping"
                                },
                                {
                                    "0": "Security"
                                },
                                {
                                    "0": "Health"
                                },
                                {
                                    "0": "Security"
                                },
                                {
                                    "0": "Security"
                                },
                                {
                                    "0": "Security"
                                },
                                {
                                    "0": "Health"
                                },
                                {
                                    "0": "Health"
                                },
                                {
                                    "0": "Security"
                                },
                                {
                                    "0": "Health"
                                },
                                {
                                    "0": "Security"
                                },
                                {
                                    "0": "Camping"
                                },
                                {
                                    "0": "Camping"
                                },
                                {
                                    "0": "Security"
                                },
                                {
                                    "0": "Health"
                                },
                                {
                                    "0": "Security"
                                },
                                {
                                    "0": "Camping"
                                },
                                {
                                    "0": "Camping"
                                },
                                {
                                    "0": "Security"
                                },
                                {
                                    "0": "Camping"
                                },
                                {
                                    "0": "Camping"
                                },
                                {
                                    "0": "Security"
                                },
                                {
                                    "0": "Computers"
                                },
                                {
                                    "0": "Automotive"
                                },
                                {
                                    "0": "Books"
                                },
                                {
                                    "0": "Shoes"
                                },
                                {
                                    "0": "Grocery"
                                },
                                {
                                    "0": "Beauty"
                                },
                                {
                                    "0": "Clothing"
                                },
                                {
                                    "0": "Games"
                                },
                                {
                                    "0": "Music"
                                },
                                {
                                    "0": "Garden"
                                },
                                {
                                    "0": "Jewelery"
                                },
                                {
                                    "0": "Toys"
                                },
                                {
                                    "0": "Movies"
                                }
                            ]
                        },
                        "text/html": "<table><tr><th>department</th></tr><tr><td>Books</td></tr><tr><td>Computers</td></tr><tr><td>Grocery</td></tr><tr><td>Games</td></tr><tr><td>Beauty</td></tr><tr><td>Jewelery</td></tr><tr><td>Toys</td></tr><tr><td>Computers</td></tr><tr><td>Beauty</td></tr><tr><td>Movies</td></tr><tr><td>Books</td></tr><tr><td>Movies</td></tr><tr><td>Garden</td></tr><tr><td>Toys</td></tr><tr><td>Games</td></tr><tr><td>Clothing</td></tr><tr><td>Games</td></tr><tr><td>Music</td></tr><tr><td>Toys</td></tr><tr><td>Shoes</td></tr><tr><td>Shoes</td></tr><tr><td>Shoes</td></tr><tr><td>Automotive</td></tr><tr><td>Movies</td></tr><tr><td>Toys</td></tr><tr><td>Books</td></tr><tr><td>Toys</td></tr><tr><td>Games</td></tr><tr><td>Music</td></tr><tr><td>Games</td></tr><tr><td>Jewelery</td></tr><tr><td>Clothing</td></tr><tr><td>Shoes</td></tr><tr><td>Shoes</td></tr><tr><td>Movies</td></tr><tr><td>Computers</td></tr><tr><td>Games</td></tr><tr><td>Automotive</td></tr><tr><td>Toys</td></tr><tr><td>Jewelery</td></tr><tr><td>Computers</td></tr><tr><td>Toys</td></tr><tr><td>Computers</td></tr><tr><td>Grocery</td></tr><tr><td>Music</td></tr><tr><td>Music</td></tr><tr><td>Clothing</td></tr><tr><td>Grocery</td></tr><tr><td>Garden</td></tr><tr><td>Shoes</td></tr><tr><td>Books</td></tr><tr><td>Books</td></tr><tr><td>Movies</td></tr><tr><td>Music</td></tr><tr><td>Movies</td></tr><tr><td>Grocery</td></tr><tr><td>Music</td></tr><tr><td>Books</td></tr><tr><td>Books</td></tr><tr><td>Toys</td></tr><tr><td>Music</td></tr><tr><td>Computers</td></tr><tr><td>Games</td></tr><tr><td>Beauty</td></tr><tr><td>Beauty</td></tr><tr><td>Jewelery</td></tr><tr><td>Grocery</td></tr><tr><td>Books</td></tr><tr><td>Beauty</td></tr><tr><td>Garden</td></tr><tr><td>Automotive</td></tr><tr><td>Computers</td></tr><tr><td>Jewelery</td></tr><tr><td>Movies</td></tr><tr><td>Books</td></tr><tr><td>Jewelery</td></tr><tr><td>Jewelery</td></tr><tr><td>Garden</td></tr><tr><td>Automotive</td></tr><tr><td>Beauty</td></tr><tr><td>Movies</td></tr><tr><td>Games</td></tr><tr><td>Jewelery</td></tr><tr><td>Computers</td></tr><tr><td>Clothing</td></tr><tr><td>Movies</td></tr><tr><td>Grocery</td></tr><tr><td>Books</td></tr><tr><td>Computers</td></tr><tr><td>Garden</td></tr><tr><td>Music</td></tr><tr><td>Automotive</td></tr><tr><td>Books</td></tr><tr><td>Music</td></tr><tr><td>Garden</td></tr><tr><td>Beauty</td></tr><tr><td>Books</td></tr><tr><td>Beauty</td></tr><tr><td>Grocery</td></tr><tr><td>Grocery</td></tr><tr><td>Shoes</td></tr><tr><td>Beauty</td></tr><tr><td>Jewelery</td></tr><tr><td>Garden</td></tr><tr><td>Clothing</td></tr><tr><td>Grocery</td></tr><tr><td>Jewelery</td></tr><tr><td>Shoes</td></tr><tr><td>Music</td></tr><tr><td>Toys</td></tr><tr><td>Beauty</td></tr><tr><td>Games</td></tr><tr><td>Shoes</td></tr><tr><td>Books</td></tr><tr><td>Garden</td></tr><tr><td>Books</td></tr><tr><td>Movies</td></tr><tr><td>Books</td></tr><tr><td>Books</td></tr><tr><td>Jewelery</td></tr><tr><td>Games</td></tr><tr><td>Toys</td></tr><tr><td>Books</td></tr><tr><td>Jewelery</td></tr><tr><td>Garden</td></tr><tr><td>Games</td></tr><tr><td>Grocery</td></tr><tr><td>Movies</td></tr><tr><td>Jewelery</td></tr><tr><td>Beauty</td></tr><tr><td>Movies</td></tr><tr><td>Jewelery</td></tr><tr><td>Movies</td></tr><tr><td>Music</td></tr><tr><td>Games</td></tr><tr><td>Automotive</td></tr><tr><td>Music</td></tr><tr><td>Garden</td></tr><tr><td>Toys</td></tr><tr><td>Toys</td></tr><tr><td>Books</td></tr><tr><td>Beauty</td></tr><tr><td>Games</td></tr><tr><td>Computers</td></tr><tr><td>Beauty</td></tr><tr><td>Music</td></tr><tr><td>Computers</td></tr><tr><td>Automotive</td></tr><tr><td>Toys</td></tr><tr><td>Grocery</td></tr><tr><td>Beauty</td></tr><tr><td>Movies</td></tr><tr><td>Jewelery</td></tr><tr><td>Jewelery</td></tr><tr><td>Movies</td></tr><tr><td>Beauty</td></tr><tr><td>Shoes</td></tr><tr><td>Clothing</td></tr><tr><td>Music</td></tr><tr><td>Music</td></tr><tr><td>Jewelery</td></tr><tr><td>Garden</td></tr><tr><td>Games</td></tr><tr><td>Clothing</td></tr><tr><td>Music</td></tr><tr><td>Music</td></tr><tr><td>Movies</td></tr><tr><td>Music</td></tr><tr><td>Games</td></tr><tr><td>Automotive</td></tr><tr><td>Clothing</td></tr><tr><td>Clothing</td></tr><tr><td>Books</td></tr><tr><td>Shoes</td></tr><tr><td>Shoes</td></tr><tr><td>Clothing</td></tr><tr><td>Music</td></tr><tr><td>Grocery</td></tr><tr><td>Automotive</td></tr><tr><td>Jewelery</td></tr><tr><td>Clothing</td></tr><tr><td>Toys</td></tr><tr><td>Books</td></tr><tr><td>Toys</td></tr><tr><td>Beauty</td></tr><tr><td>Computers</td></tr><tr><td>Movies</td></tr><tr><td>Beauty</td></tr><tr><td>Shoes</td></tr><tr><td>Shoes</td></tr><tr><td>Toys</td></tr><tr><td>Grocery</td></tr><tr><td>Automotive</td></tr><tr><td>Shoes</td></tr><tr><td>Games</td></tr><tr><td>Jewelery</td></tr><tr><td>Computers</td></tr><tr><td>Jewelery</td></tr><tr><td>Books</td></tr><tr><td>Garden</td></tr><tr><td>Computers</td></tr><tr><td>Beauty</td></tr><tr><td>Clothing</td></tr><tr><td>Garden</td></tr><tr><td>Movies</td></tr><tr><td>Games</td></tr><tr><td>Computers</td></tr><tr><td>Jewelery</td></tr><tr><td>Clothing</td></tr><tr><td>Toys</td></tr><tr><td>Computers</td></tr><tr><td>Shoes</td></tr><tr><td>Clothing</td></tr><tr><td>Toys</td></tr><tr><td>Games</td></tr><tr><td>Toys</td></tr><tr><td>Toys</td></tr><tr><td>Grocery</td></tr><tr><td>Books</td></tr><tr><td>Grocery</td></tr><tr><td>Books</td></tr><tr><td>Toys</td></tr><tr><td>Toys</td></tr><tr><td>Beauty</td></tr><tr><td>Movies</td></tr><tr><td>Games</td></tr><tr><td>Movies</td></tr><tr><td>Books</td></tr><tr><td>Clothing</td></tr><tr><td>Automotive</td></tr><tr><td>Toys</td></tr><tr><td>Movies</td></tr><tr><td>Games</td></tr><tr><td>Clothing</td></tr><tr><td>Toys</td></tr><tr><td>Grocery</td></tr><tr><td>Games</td></tr><tr><td>Movies</td></tr><tr><td>Toys</td></tr><tr><td>Garden</td></tr><tr><td>Music</td></tr><tr><td>Books</td></tr><tr><td>Shoes</td></tr><tr><td>Books</td></tr><tr><td>Grocery</td></tr><tr><td>Jewelery</td></tr><tr><td>Garden</td></tr><tr><td>Shoes</td></tr><tr><td>Automotive</td></tr><tr><td>Books</td></tr><tr><td>Games</td></tr><tr><td>Books</td></tr><tr><td>Toys</td></tr><tr><td>Grocery</td></tr><tr><td>Shoes</td></tr><tr><td>Grocery</td></tr><tr><td>Toys</td></tr><tr><td>Jewelery</td></tr><tr><td>Clothing</td></tr><tr><td>Books</td></tr><tr><td>Garden</td></tr><tr><td>Automotive</td></tr><tr><td>Grocery</td></tr><tr><td>Garden</td></tr><tr><td>Movies</td></tr><tr><td>Games</td></tr><tr><td>Computers</td></tr><tr><td>Automotive</td></tr><tr><td>Clothing</td></tr><tr><td>Shoes</td></tr><tr><td>Toys</td></tr><tr><td>Clothing</td></tr><tr><td>Clothing</td></tr><tr><td>Beauty</td></tr><tr><td>Garden</td></tr><tr><td>Movies</td></tr><tr><td>Garden</td></tr><tr><td>Grocery</td></tr><tr><td>Movies</td></tr><tr><td>Computers</td></tr><tr><td>Computers</td></tr><tr><td>Automotive</td></tr><tr><td>Shoes</td></tr><tr><td>Jewelery</td></tr><tr><td>Beauty</td></tr><tr><td>Automotive</td></tr><tr><td>Toys</td></tr><tr><td>Games</td></tr><tr><td>Garden</td></tr><tr><td>Grocery</td></tr><tr><td>Computers</td></tr><tr><td>Garden</td></tr><tr><td>Toys</td></tr><tr><td>Jewelery</td></tr><tr><td>Music</td></tr><tr><td>Garden</td></tr><tr><td>Garden</td></tr><tr><td>Computers</td></tr><tr><td>Shoes</td></tr><tr><td>Music</td></tr><tr><td>Music</td></tr><tr><td>Clothing</td></tr><tr><td>Garden</td></tr><tr><td>Jewelery</td></tr><tr><td>Music</td></tr><tr><td>Computers</td></tr><tr><td>Books</td></tr><tr><td>Music</td></tr><tr><td>Games</td></tr><tr><td>Shoes</td></tr><tr><td>Shoes</td></tr><tr><td>Games</td></tr><tr><td>Computers</td></tr><tr><td>Automotive</td></tr><tr><td>Garden</td></tr><tr><td>Movies</td></tr><tr><td>Automotive</td></tr><tr><td>Garden</td></tr><tr><td>Garden</td></tr><tr><td>Grocery</td></tr><tr><td>Automotive</td></tr><tr><td>Movies</td></tr><tr><td>Shoes</td></tr><tr><td>Games</td></tr><tr><td>Books</td></tr><tr><td>Automotive</td></tr><tr><td>Computers</td></tr><tr><td>Books</td></tr><tr><td>Jewelery</td></tr><tr><td>Beauty</td></tr><tr><td>Toys</td></tr><tr><td>Clothing</td></tr><tr><td>Shoes</td></tr><tr><td>Books</td></tr><tr><td>Books</td></tr><tr><td>Games</td></tr><tr><td>Books</td></tr><tr><td>Clothing</td></tr><tr><td>Jewelery</td></tr><tr><td>Books</td></tr><tr><td>Garden</td></tr><tr><td>Jewelery</td></tr><tr><td>Beauty</td></tr><tr><td>Garden</td></tr><tr><td>Grocery</td></tr><tr><td>Books</td></tr><tr><td>Shoes</td></tr><tr><td>Jewelery</td></tr><tr><td>Shoes</td></tr><tr><td>Shoes</td></tr><tr><td>Grocery</td></tr><tr><td>Automotive</td></tr><tr><td>Automotive</td></tr><tr><td>Clothing</td></tr><tr><td>Clothing</td></tr><tr><td>Books</td></tr><tr><td>Movies</td></tr><tr><td>Jewelery</td></tr><tr><td>Books</td></tr><tr><td>Games</td></tr><tr><td>Games</td></tr><tr><td>Games</td></tr><tr><td>Toys</td></tr><tr><td>Shoes</td></tr><tr><td>Games</td></tr><tr><td>Games</td></tr><tr><td>Automotive</td></tr><tr><td>Computers</td></tr><tr><td>Beauty</td></tr><tr><td>Toys</td></tr><tr><td>Garden</td></tr><tr><td>Grocery</td></tr><tr><td>Games</td></tr><tr><td>Games</td></tr><tr><td>Beauty</td></tr><tr><td>Automotive</td></tr><tr><td>Clothing</td></tr><tr><td>Games</td></tr><tr><td>Garden</td></tr><tr><td>Movies</td></tr><tr><td>Music</td></tr><tr><td>Jewelery</td></tr><tr><td>Grocery</td></tr><tr><td>Clothing</td></tr><tr><td>Computers</td></tr><tr><td>Movies</td></tr><tr><td>Automotive</td></tr><tr><td>Computers</td></tr><tr><td>Movies</td></tr><tr><td>Grocery</td></tr><tr><td>Books</td></tr><tr><td>Garden</td></tr><tr><td>Movies</td></tr><tr><td>Garden</td></tr><tr><td>Grocery</td></tr><tr><td>Computers</td></tr><tr><td>Books</td></tr><tr><td>Shoes</td></tr><tr><td>Music</td></tr><tr><td>Grocery</td></tr><tr><td>Books</td></tr><tr><td>Movies</td></tr><tr><td>Movies</td></tr><tr><td>Grocery</td></tr><tr><td>Books</td></tr><tr><td>Computers</td></tr><tr><td>Computers</td></tr><tr><td>Games</td></tr><tr><td>Books</td></tr><tr><td>Computers</td></tr><tr><td>Jewelery</td></tr><tr><td>Computers</td></tr><tr><td>Garden</td></tr><tr><td>Garden</td></tr><tr><td>Music</td></tr><tr><td>Beauty</td></tr><tr><td>Grocery</td></tr><tr><td>Games</td></tr><tr><td>Books</td></tr><tr><td>Shoes</td></tr><tr><td>Garden</td></tr><tr><td>Movies</td></tr><tr><td>Computers</td></tr><tr><td>Shoes</td></tr><tr><td>Automotive</td></tr><tr><td>Jewelery</td></tr><tr><td>Games</td></tr><tr><td>Toys</td></tr><tr><td>Automotive</td></tr><tr><td>Garden</td></tr><tr><td>Books</td></tr><tr><td>Games</td></tr><tr><td>Games</td></tr><tr><td>Garden</td></tr><tr><td>Clothing</td></tr><tr><td>Clothing</td></tr><tr><td>Games</td></tr><tr><td>Books</td></tr><tr><td>Movies</td></tr><tr><td>Grocery</td></tr><tr><td>Automotive</td></tr><tr><td>Shoes</td></tr><tr><td>Jewelery</td></tr><tr><td>Grocery</td></tr><tr><td>Music</td></tr><tr><td>Beauty</td></tr><tr><td>Movies</td></tr><tr><td>Shoes</td></tr><tr><td>Toys</td></tr><tr><td>Shoes</td></tr><tr><td>Books</td></tr><tr><td>Garden</td></tr><tr><td>Beauty</td></tr><tr><td>Books</td></tr><tr><td>Automotive</td></tr><tr><td>Movies</td></tr><tr><td>Music</td></tr><tr><td>Games</td></tr><tr><td>Grocery</td></tr><tr><td>Music</td></tr><tr><td>Clothing</td></tr><tr><td>Music</td></tr><tr><td>Movies</td></tr><tr><td>Garden</td></tr><tr><td>Automotive</td></tr><tr><td>Jewelery</td></tr><tr><td>Movies</td></tr><tr><td>Games</td></tr><tr><td>Jewelery</td></tr><tr><td>Jewelery</td></tr><tr><td>Beauty</td></tr><tr><td>Games</td></tr><tr><td>Shoes</td></tr><tr><td>Music</td></tr><tr><td>Games</td></tr><tr><td>Shoes</td></tr><tr><td>Grocery</td></tr><tr><td>Jewelery</td></tr><tr><td>Toys</td></tr><tr><td>Movies</td></tr><tr><td>Jewelery</td></tr><tr><td>Games</td></tr><tr><td>Shoes</td></tr><tr><td>Music</td></tr><tr><td>Grocery</td></tr><tr><td>Clothing</td></tr><tr><td>Garden</td></tr><tr><td>Movies</td></tr><tr><td>Garden</td></tr><tr><td>Games</td></tr><tr><td>Books</td></tr><tr><td>Games</td></tr><tr><td>Garden</td></tr><tr><td>Garden</td></tr><tr><td>Games</td></tr><tr><td>Garden</td></tr><tr><td>Music</td></tr><tr><td>Books</td></tr><tr><td>Toys</td></tr><tr><td>Shoes</td></tr><tr><td>Garden</td></tr><tr><td>Automotive</td></tr><tr><td>Shoes</td></tr><tr><td>Music</td></tr><tr><td>Music</td></tr><tr><td>Music</td></tr><tr><td>Jewelery</td></tr><tr><td>Movies</td></tr><tr><td>Clothing</td></tr><tr><td>Books</td></tr><tr><td>Garden</td></tr><tr><td>Jewelery</td></tr><tr><td>Movies</td></tr><tr><td>Shoes</td></tr><tr><td>Shoes</td></tr><tr><td>Grocery</td></tr><tr><td>Movies</td></tr><tr><td>Grocery</td></tr><tr><td>Automotive</td></tr><tr><td>Movies</td></tr><tr><td>Automotive</td></tr><tr><td>Garden</td></tr><tr><td>Music</td></tr><tr><td>Games</td></tr><tr><td>Grocery</td></tr><tr><td>Clothing</td></tr><tr><td>Automotive</td></tr><tr><td>Movies</td></tr><tr><td>Garden</td></tr><tr><td>Grocery</td></tr><tr><td>Clothing</td></tr><tr><td>Books</td></tr><tr><td>Automotive</td></tr><tr><td>Beauty</td></tr><tr><td>Computers</td></tr><tr><td>Beauty</td></tr><tr><td>Automotive</td></tr><tr><td>Beauty</td></tr><tr><td>Beauty</td></tr><tr><td>Jewelery</td></tr><tr><td>Jewelery</td></tr><tr><td>Grocery</td></tr><tr><td>Garden</td></tr><tr><td>Movies</td></tr><tr><td>Computers</td></tr><tr><td>Shoes</td></tr><tr><td>Automotive</td></tr><tr><td>Automotive</td></tr><tr><td>Movies</td></tr><tr><td>Computers</td></tr><tr><td>Music</td></tr><tr><td>Clothing</td></tr><tr><td>Music</td></tr><tr><td>Music</td></tr><tr><td>Grocery</td></tr><tr><td>Computers</td></tr><tr><td>Computers</td></tr><tr><td>Music</td></tr><tr><td>Movies</td></tr><tr><td>Grocery</td></tr><tr><td>Jewelery</td></tr><tr><td>Games</td></tr><tr><td>Shoes</td></tr><tr><td>Music</td></tr><tr><td>Jewelery</td></tr><tr><td>Shoes</td></tr><tr><td>Music</td></tr><tr><td>Music</td></tr><tr><td>Garden</td></tr><tr><td>Movies</td></tr><tr><td>Shoes</td></tr><tr><td>Shoes</td></tr><tr><td>Garden</td></tr><tr><td>Grocery</td></tr><tr><td>Movies</td></tr><tr><td>Games</td></tr><tr><td>Automotive</td></tr><tr><td>Garden</td></tr><tr><td>Toys</td></tr><tr><td>Clothing</td></tr><tr><td>Grocery</td></tr><tr><td>Books</td></tr><tr><td>Toys</td></tr><tr><td>Garden</td></tr><tr><td>Computers</td></tr><tr><td>Grocery</td></tr><tr><td>Garden</td></tr><tr><td>Games</td></tr><tr><td>Automotive</td></tr><tr><td>Computers</td></tr><tr><td>Toys</td></tr><tr><td>Clothing</td></tr><tr><td>Computers</td></tr><tr><td>Music</td></tr><tr><td>Toys</td></tr><tr><td>Clothing</td></tr><tr><td>Jewelery</td></tr><tr><td>Jewelery</td></tr><tr><td>Movies</td></tr><tr><td>Grocery</td></tr><tr><td>Garden</td></tr><tr><td>Jewelery</td></tr><tr><td>Shoes</td></tr><tr><td>Games</td></tr><tr><td>Books</td></tr><tr><td>Shoes</td></tr><tr><td>Books</td></tr><tr><td>Automotive</td></tr><tr><td>Grocery</td></tr><tr><td>Shoes</td></tr><tr><td>Shoes</td></tr><tr><td>Shoes</td></tr><tr><td>Automotive</td></tr><tr><td>Grocery</td></tr><tr><td>Toys</td></tr><tr><td>Shoes</td></tr><tr><td>Beauty</td></tr><tr><td>Clothing</td></tr><tr><td>Shoes</td></tr><tr><td>Automotive</td></tr><tr><td>Health</td></tr><tr><td>Health</td></tr><tr><td>Health</td></tr><tr><td>Security</td></tr><tr><td>Security</td></tr><tr><td>Camping</td></tr><tr><td>Camping</td></tr><tr><td>Security</td></tr><tr><td>Camping</td></tr><tr><td>Security</td></tr><tr><td>Camping</td></tr><tr><td>Health</td></tr><tr><td>Health</td></tr><tr><td>Security</td></tr><tr><td>Camping</td></tr><tr><td>Camping</td></tr><tr><td>Health</td></tr><tr><td>Health</td></tr><tr><td>Camping</td></tr><tr><td>Camping</td></tr><tr><td>Camping</td></tr><tr><td>Health</td></tr><tr><td>Security</td></tr><tr><td>Health</td></tr><tr><td>Health</td></tr><tr><td>Security</td></tr><tr><td>Camping</td></tr><tr><td>Security</td></tr><tr><td>Camping</td></tr><tr><td>Security</td></tr><tr><td>Camping</td></tr><tr><td>Camping</td></tr><tr><td>Security</td></tr><tr><td>Health</td></tr><tr><td>Health</td></tr><tr><td>Camping</td></tr><tr><td>Camping</td></tr><tr><td>Health</td></tr><tr><td>Security</td></tr><tr><td>Camping</td></tr><tr><td>Security</td></tr><tr><td>Health</td></tr><tr><td>Security</td></tr><tr><td>Camping</td></tr><tr><td>Security</td></tr><tr><td>Camping</td></tr><tr><td>Camping</td></tr><tr><td>Security</td></tr><tr><td>Camping</td></tr><tr><td>Camping</td></tr><tr><td>Health</td></tr><tr><td>Camping</td></tr><tr><td>Security</td></tr><tr><td>Health</td></tr><tr><td>Camping</td></tr><tr><td>Health</td></tr><tr><td>Camping</td></tr><tr><td>Security</td></tr><tr><td>Camping</td></tr><tr><td>Security</td></tr><tr><td>Health</td></tr><tr><td>Security</td></tr><tr><td>Security</td></tr><tr><td>Security</td></tr><tr><td>Health</td></tr><tr><td>Health</td></tr><tr><td>Security</td></tr><tr><td>Health</td></tr><tr><td>Security</td></tr><tr><td>Camping</td></tr><tr><td>Camping</td></tr><tr><td>Security</td></tr><tr><td>Health</td></tr><tr><td>Security</td></tr><tr><td>Camping</td></tr><tr><td>Camping</td></tr><tr><td>Security</td></tr><tr><td>Camping</td></tr><tr><td>Camping</td></tr><tr><td>Security</td></tr><tr><td>Computers</td></tr><tr><td>Automotive</td></tr><tr><td>Books</td></tr><tr><td>Shoes</td></tr><tr><td>Grocery</td></tr><tr><td>Beauty</td></tr><tr><td>Clothing</td></tr><tr><td>Games</td></tr><tr><td>Music</td></tr><tr><td>Garden</td></tr><tr><td>Jewelery</td></tr><tr><td>Toys</td></tr><tr><td>Movies</td></tr></table>"
                    }
                }
            ],
            "execution_count": 14
        },
        {
            "cell_type": "code",
            "source": "SELECT department FROM employees\nEXCEPT\nSELECT department FROM departments;",
            "metadata": {},
            "outputs": [
                {
                    "output_type": "display_data",
                    "data": {
                        "text/html": "(3 row(s) affected)"
                    },
                    "metadata": {}
                },
                {
                    "output_type": "display_data",
                    "data": {
                        "text/html": "Total execution time: 0:00:00.009648"
                    },
                    "metadata": {}
                },
                {
                    "output_type": "execute_result",
                    "metadata": {},
                    "execution_count": 15,
                    "data": {
                        "application/vnd.dataresource+json": {
                            "schema": {
                                "fields": [
                                    {
                                        "name": "department"
                                    }
                                ]
                            },
                            "data": [
                                {
                                    "0": "Security"
                                },
                                {
                                    "0": "Health"
                                },
                                {
                                    "0": "Camping"
                                }
                            ]
                        },
                        "text/html": "<table><tr><th>department</th></tr><tr><td>Security</td></tr><tr><td>Health</td></tr><tr><td>Camping</td></tr></table>"
                    }
                }
            ],
            "execution_count": 15
        },
        {
            "cell_type": "code",
            "source": "SELECT department, COUNT(employees.id)\nFROM employees GROUP BY department\nUNION ALL\nSELECT 'TOTAL', COUNT(*)\nFROM employees;",
            "metadata": {},
            "outputs": [
                {
                    "output_type": "display_data",
                    "data": {
                        "text/html": "(17 row(s) affected)"
                    },
                    "metadata": {}
                },
                {
                    "output_type": "display_data",
                    "data": {
                        "text/html": "Total execution time: 0:00:00.005207"
                    },
                    "metadata": {}
                },
                {
                    "output_type": "execute_result",
                    "metadata": {},
                    "execution_count": 18,
                    "data": {
                        "application/vnd.dataresource+json": {
                            "schema": {
                                "fields": [
                                    {
                                        "name": "department"
                                    },
                                    {
                                        "name": "count"
                                    }
                                ]
                            },
                            "data": [
                                {
                                    "0": "Clothing",
                                    "1": "39"
                                },
                                {
                                    "0": "Books",
                                    "1": "56"
                                },
                                {
                                    "0": "Music",
                                    "1": "47"
                                },
                                {
                                    "0": "Automotive",
                                    "1": "43"
                                },
                                {
                                    "0": "Garden",
                                    "1": "56"
                                },
                                {
                                    "0": "Toys",
                                    "1": "42"
                                },
                                {
                                    "0": "Security",
                                    "1": "27"
                                },
                                {
                                    "0": "Health",
                                    "1": "22"
                                },
                                {
                                    "0": "Grocery",
                                    "1": "50"
                                },
                                {
                                    "0": "Movies",
                                    "1": "53"
                                },
                                {
                                    "0": "Jewelery",
                                    "1": "49"
                                },
                                {
                                    "0": "Shoes",
                                    "1": "55"
                                },
                                {
                                    "0": "Camping",
                                    "1": "31"
                                },
                                {
                                    "0": "Games",
                                    "1": "55"
                                },
                                {
                                    "0": "Beauty",
                                    "1": "34"
                                },
                                {
                                    "0": "Computers",
                                    "1": "41"
                                },
                                {
                                    "0": "TOTAL",
                                    "1": "700"
                                }
                            ]
                        },
                        "text/html": "<table><tr><th>department</th><th>count</th></tr><tr><td>Clothing</td><td>39</td></tr><tr><td>Books</td><td>56</td></tr><tr><td>Music</td><td>47</td></tr><tr><td>Automotive</td><td>43</td></tr><tr><td>Garden</td><td>56</td></tr><tr><td>Toys</td><td>42</td></tr><tr><td>Security</td><td>27</td></tr><tr><td>Health</td><td>22</td></tr><tr><td>Grocery</td><td>50</td></tr><tr><td>Movies</td><td>53</td></tr><tr><td>Jewelery</td><td>49</td></tr><tr><td>Shoes</td><td>55</td></tr><tr><td>Camping</td><td>31</td></tr><tr><td>Games</td><td>55</td></tr><tr><td>Beauty</td><td>34</td></tr><tr><td>Computers</td><td>41</td></tr><tr><td>TOTAL</td><td>700</td></tr></table>"
                    }
                }
            ],
            "execution_count": 18
        },
        {
            "cell_type": "code",
            "source": "SELECT * FROM departments d1, departments d2;",
            "metadata": {},
            "outputs": [
                {
                    "output_type": "display_data",
                    "data": {
                        "text/html": "(169 row(s) affected)"
                    },
                    "metadata": {}
                },
                {
                    "output_type": "display_data",
                    "data": {
                        "text/html": "Total execution time: 0:00:00.012858"
                    },
                    "metadata": {}
                },
                {
                    "output_type": "execute_result",
                    "metadata": {},
                    "execution_count": 19,
                    "data": {
                        "application/vnd.dataresource+json": {
                            "schema": {
                                "fields": [
                                    {
                                        "name": "department"
                                    },
                                    {
                                        "name": "division"
                                    },
                                    {
                                        "name": "department"
                                    },
                                    {
                                        "name": "division"
                                    }
                                ]
                            },
                            "data": [
                                {
                                    "0": "Computers",
                                    "1": "Electronics",
                                    "2": "Computers",
                                    "3": "Electronics"
                                },
                                {
                                    "0": "Computers",
                                    "1": "Electronics",
                                    "2": "Automotive",
                                    "3": "Hardware"
                                },
                                {
                                    "0": "Computers",
                                    "1": "Electronics",
                                    "2": "Books",
                                    "3": "Entertainment"
                                },
                                {
                                    "0": "Computers",
                                    "1": "Electronics",
                                    "2": "Shoes",
                                    "3": "Home"
                                },
                                {
                                    "0": "Computers",
                                    "1": "Electronics",
                                    "2": "Grocery",
                                    "3": "Home"
                                },
                                {
                                    "0": "Computers",
                                    "1": "Electronics",
                                    "2": "Beauty",
                                    "3": "Home"
                                },
                                {
                                    "0": "Computers",
                                    "1": "Electronics",
                                    "2": "Clothing",
                                    "3": "Home"
                                },
                                {
                                    "0": "Computers",
                                    "1": "Electronics",
                                    "2": "Games",
                                    "3": "Kids"
                                },
                                {
                                    "0": "Computers",
                                    "1": "Electronics",
                                    "2": "Music",
                                    "3": "Entertainment"
                                },
                                {
                                    "0": "Computers",
                                    "1": "Electronics",
                                    "2": "Garden",
                                    "3": "Outdoors"
                                },
                                {
                                    "0": "Computers",
                                    "1": "Electronics",
                                    "2": "Jewelery",
                                    "3": "Home"
                                },
                                {
                                    "0": "Computers",
                                    "1": "Electronics",
                                    "2": "Toys",
                                    "3": "Kids"
                                },
                                {
                                    "0": "Computers",
                                    "1": "Electronics",
                                    "2": "Movies",
                                    "3": "Entertainment"
                                },
                                {
                                    "0": "Automotive",
                                    "1": "Hardware",
                                    "2": "Computers",
                                    "3": "Electronics"
                                },
                                {
                                    "0": "Automotive",
                                    "1": "Hardware",
                                    "2": "Automotive",
                                    "3": "Hardware"
                                },
                                {
                                    "0": "Automotive",
                                    "1": "Hardware",
                                    "2": "Books",
                                    "3": "Entertainment"
                                },
                                {
                                    "0": "Automotive",
                                    "1": "Hardware",
                                    "2": "Shoes",
                                    "3": "Home"
                                },
                                {
                                    "0": "Automotive",
                                    "1": "Hardware",
                                    "2": "Grocery",
                                    "3": "Home"
                                },
                                {
                                    "0": "Automotive",
                                    "1": "Hardware",
                                    "2": "Beauty",
                                    "3": "Home"
                                },
                                {
                                    "0": "Automotive",
                                    "1": "Hardware",
                                    "2": "Clothing",
                                    "3": "Home"
                                },
                                {
                                    "0": "Automotive",
                                    "1": "Hardware",
                                    "2": "Games",
                                    "3": "Kids"
                                },
                                {
                                    "0": "Automotive",
                                    "1": "Hardware",
                                    "2": "Music",
                                    "3": "Entertainment"
                                },
                                {
                                    "0": "Automotive",
                                    "1": "Hardware",
                                    "2": "Garden",
                                    "3": "Outdoors"
                                },
                                {
                                    "0": "Automotive",
                                    "1": "Hardware",
                                    "2": "Jewelery",
                                    "3": "Home"
                                },
                                {
                                    "0": "Automotive",
                                    "1": "Hardware",
                                    "2": "Toys",
                                    "3": "Kids"
                                },
                                {
                                    "0": "Automotive",
                                    "1": "Hardware",
                                    "2": "Movies",
                                    "3": "Entertainment"
                                },
                                {
                                    "0": "Books",
                                    "1": "Entertainment",
                                    "2": "Computers",
                                    "3": "Electronics"
                                },
                                {
                                    "0": "Books",
                                    "1": "Entertainment",
                                    "2": "Automotive",
                                    "3": "Hardware"
                                },
                                {
                                    "0": "Books",
                                    "1": "Entertainment",
                                    "2": "Books",
                                    "3": "Entertainment"
                                },
                                {
                                    "0": "Books",
                                    "1": "Entertainment",
                                    "2": "Shoes",
                                    "3": "Home"
                                },
                                {
                                    "0": "Books",
                                    "1": "Entertainment",
                                    "2": "Grocery",
                                    "3": "Home"
                                },
                                {
                                    "0": "Books",
                                    "1": "Entertainment",
                                    "2": "Beauty",
                                    "3": "Home"
                                },
                                {
                                    "0": "Books",
                                    "1": "Entertainment",
                                    "2": "Clothing",
                                    "3": "Home"
                                },
                                {
                                    "0": "Books",
                                    "1": "Entertainment",
                                    "2": "Games",
                                    "3": "Kids"
                                },
                                {
                                    "0": "Books",
                                    "1": "Entertainment",
                                    "2": "Music",
                                    "3": "Entertainment"
                                },
                                {
                                    "0": "Books",
                                    "1": "Entertainment",
                                    "2": "Garden",
                                    "3": "Outdoors"
                                },
                                {
                                    "0": "Books",
                                    "1": "Entertainment",
                                    "2": "Jewelery",
                                    "3": "Home"
                                },
                                {
                                    "0": "Books",
                                    "1": "Entertainment",
                                    "2": "Toys",
                                    "3": "Kids"
                                },
                                {
                                    "0": "Books",
                                    "1": "Entertainment",
                                    "2": "Movies",
                                    "3": "Entertainment"
                                },
                                {
                                    "0": "Shoes",
                                    "1": "Home",
                                    "2": "Computers",
                                    "3": "Electronics"
                                },
                                {
                                    "0": "Shoes",
                                    "1": "Home",
                                    "2": "Automotive",
                                    "3": "Hardware"
                                },
                                {
                                    "0": "Shoes",
                                    "1": "Home",
                                    "2": "Books",
                                    "3": "Entertainment"
                                },
                                {
                                    "0": "Shoes",
                                    "1": "Home",
                                    "2": "Shoes",
                                    "3": "Home"
                                },
                                {
                                    "0": "Shoes",
                                    "1": "Home",
                                    "2": "Grocery",
                                    "3": "Home"
                                },
                                {
                                    "0": "Shoes",
                                    "1": "Home",
                                    "2": "Beauty",
                                    "3": "Home"
                                },
                                {
                                    "0": "Shoes",
                                    "1": "Home",
                                    "2": "Clothing",
                                    "3": "Home"
                                },
                                {
                                    "0": "Shoes",
                                    "1": "Home",
                                    "2": "Games",
                                    "3": "Kids"
                                },
                                {
                                    "0": "Shoes",
                                    "1": "Home",
                                    "2": "Music",
                                    "3": "Entertainment"
                                },
                                {
                                    "0": "Shoes",
                                    "1": "Home",
                                    "2": "Garden",
                                    "3": "Outdoors"
                                },
                                {
                                    "0": "Shoes",
                                    "1": "Home",
                                    "2": "Jewelery",
                                    "3": "Home"
                                },
                                {
                                    "0": "Shoes",
                                    "1": "Home",
                                    "2": "Toys",
                                    "3": "Kids"
                                },
                                {
                                    "0": "Shoes",
                                    "1": "Home",
                                    "2": "Movies",
                                    "3": "Entertainment"
                                },
                                {
                                    "0": "Grocery",
                                    "1": "Home",
                                    "2": "Computers",
                                    "3": "Electronics"
                                },
                                {
                                    "0": "Grocery",
                                    "1": "Home",
                                    "2": "Automotive",
                                    "3": "Hardware"
                                },
                                {
                                    "0": "Grocery",
                                    "1": "Home",
                                    "2": "Books",
                                    "3": "Entertainment"
                                },
                                {
                                    "0": "Grocery",
                                    "1": "Home",
                                    "2": "Shoes",
                                    "3": "Home"
                                },
                                {
                                    "0": "Grocery",
                                    "1": "Home",
                                    "2": "Grocery",
                                    "3": "Home"
                                },
                                {
                                    "0": "Grocery",
                                    "1": "Home",
                                    "2": "Beauty",
                                    "3": "Home"
                                },
                                {
                                    "0": "Grocery",
                                    "1": "Home",
                                    "2": "Clothing",
                                    "3": "Home"
                                },
                                {
                                    "0": "Grocery",
                                    "1": "Home",
                                    "2": "Games",
                                    "3": "Kids"
                                },
                                {
                                    "0": "Grocery",
                                    "1": "Home",
                                    "2": "Music",
                                    "3": "Entertainment"
                                },
                                {
                                    "0": "Grocery",
                                    "1": "Home",
                                    "2": "Garden",
                                    "3": "Outdoors"
                                },
                                {
                                    "0": "Grocery",
                                    "1": "Home",
                                    "2": "Jewelery",
                                    "3": "Home"
                                },
                                {
                                    "0": "Grocery",
                                    "1": "Home",
                                    "2": "Toys",
                                    "3": "Kids"
                                },
                                {
                                    "0": "Grocery",
                                    "1": "Home",
                                    "2": "Movies",
                                    "3": "Entertainment"
                                },
                                {
                                    "0": "Beauty",
                                    "1": "Home",
                                    "2": "Computers",
                                    "3": "Electronics"
                                },
                                {
                                    "0": "Beauty",
                                    "1": "Home",
                                    "2": "Automotive",
                                    "3": "Hardware"
                                },
                                {
                                    "0": "Beauty",
                                    "1": "Home",
                                    "2": "Books",
                                    "3": "Entertainment"
                                },
                                {
                                    "0": "Beauty",
                                    "1": "Home",
                                    "2": "Shoes",
                                    "3": "Home"
                                },
                                {
                                    "0": "Beauty",
                                    "1": "Home",
                                    "2": "Grocery",
                                    "3": "Home"
                                },
                                {
                                    "0": "Beauty",
                                    "1": "Home",
                                    "2": "Beauty",
                                    "3": "Home"
                                },
                                {
                                    "0": "Beauty",
                                    "1": "Home",
                                    "2": "Clothing",
                                    "3": "Home"
                                },
                                {
                                    "0": "Beauty",
                                    "1": "Home",
                                    "2": "Games",
                                    "3": "Kids"
                                },
                                {
                                    "0": "Beauty",
                                    "1": "Home",
                                    "2": "Music",
                                    "3": "Entertainment"
                                },
                                {
                                    "0": "Beauty",
                                    "1": "Home",
                                    "2": "Garden",
                                    "3": "Outdoors"
                                },
                                {
                                    "0": "Beauty",
                                    "1": "Home",
                                    "2": "Jewelery",
                                    "3": "Home"
                                },
                                {
                                    "0": "Beauty",
                                    "1": "Home",
                                    "2": "Toys",
                                    "3": "Kids"
                                },
                                {
                                    "0": "Beauty",
                                    "1": "Home",
                                    "2": "Movies",
                                    "3": "Entertainment"
                                },
                                {
                                    "0": "Clothing",
                                    "1": "Home",
                                    "2": "Computers",
                                    "3": "Electronics"
                                },
                                {
                                    "0": "Clothing",
                                    "1": "Home",
                                    "2": "Automotive",
                                    "3": "Hardware"
                                },
                                {
                                    "0": "Clothing",
                                    "1": "Home",
                                    "2": "Books",
                                    "3": "Entertainment"
                                },
                                {
                                    "0": "Clothing",
                                    "1": "Home",
                                    "2": "Shoes",
                                    "3": "Home"
                                },
                                {
                                    "0": "Clothing",
                                    "1": "Home",
                                    "2": "Grocery",
                                    "3": "Home"
                                },
                                {
                                    "0": "Clothing",
                                    "1": "Home",
                                    "2": "Beauty",
                                    "3": "Home"
                                },
                                {
                                    "0": "Clothing",
                                    "1": "Home",
                                    "2": "Clothing",
                                    "3": "Home"
                                },
                                {
                                    "0": "Clothing",
                                    "1": "Home",
                                    "2": "Games",
                                    "3": "Kids"
                                },
                                {
                                    "0": "Clothing",
                                    "1": "Home",
                                    "2": "Music",
                                    "3": "Entertainment"
                                },
                                {
                                    "0": "Clothing",
                                    "1": "Home",
                                    "2": "Garden",
                                    "3": "Outdoors"
                                },
                                {
                                    "0": "Clothing",
                                    "1": "Home",
                                    "2": "Jewelery",
                                    "3": "Home"
                                },
                                {
                                    "0": "Clothing",
                                    "1": "Home",
                                    "2": "Toys",
                                    "3": "Kids"
                                },
                                {
                                    "0": "Clothing",
                                    "1": "Home",
                                    "2": "Movies",
                                    "3": "Entertainment"
                                },
                                {
                                    "0": "Games",
                                    "1": "Kids",
                                    "2": "Computers",
                                    "3": "Electronics"
                                },
                                {
                                    "0": "Games",
                                    "1": "Kids",
                                    "2": "Automotive",
                                    "3": "Hardware"
                                },
                                {
                                    "0": "Games",
                                    "1": "Kids",
                                    "2": "Books",
                                    "3": "Entertainment"
                                },
                                {
                                    "0": "Games",
                                    "1": "Kids",
                                    "2": "Shoes",
                                    "3": "Home"
                                },
                                {
                                    "0": "Games",
                                    "1": "Kids",
                                    "2": "Grocery",
                                    "3": "Home"
                                },
                                {
                                    "0": "Games",
                                    "1": "Kids",
                                    "2": "Beauty",
                                    "3": "Home"
                                },
                                {
                                    "0": "Games",
                                    "1": "Kids",
                                    "2": "Clothing",
                                    "3": "Home"
                                },
                                {
                                    "0": "Games",
                                    "1": "Kids",
                                    "2": "Games",
                                    "3": "Kids"
                                },
                                {
                                    "0": "Games",
                                    "1": "Kids",
                                    "2": "Music",
                                    "3": "Entertainment"
                                },
                                {
                                    "0": "Games",
                                    "1": "Kids",
                                    "2": "Garden",
                                    "3": "Outdoors"
                                },
                                {
                                    "0": "Games",
                                    "1": "Kids",
                                    "2": "Jewelery",
                                    "3": "Home"
                                },
                                {
                                    "0": "Games",
                                    "1": "Kids",
                                    "2": "Toys",
                                    "3": "Kids"
                                },
                                {
                                    "0": "Games",
                                    "1": "Kids",
                                    "2": "Movies",
                                    "3": "Entertainment"
                                },
                                {
                                    "0": "Music",
                                    "1": "Entertainment",
                                    "2": "Computers",
                                    "3": "Electronics"
                                },
                                {
                                    "0": "Music",
                                    "1": "Entertainment",
                                    "2": "Automotive",
                                    "3": "Hardware"
                                },
                                {
                                    "0": "Music",
                                    "1": "Entertainment",
                                    "2": "Books",
                                    "3": "Entertainment"
                                },
                                {
                                    "0": "Music",
                                    "1": "Entertainment",
                                    "2": "Shoes",
                                    "3": "Home"
                                },
                                {
                                    "0": "Music",
                                    "1": "Entertainment",
                                    "2": "Grocery",
                                    "3": "Home"
                                },
                                {
                                    "0": "Music",
                                    "1": "Entertainment",
                                    "2": "Beauty",
                                    "3": "Home"
                                },
                                {
                                    "0": "Music",
                                    "1": "Entertainment",
                                    "2": "Clothing",
                                    "3": "Home"
                                },
                                {
                                    "0": "Music",
                                    "1": "Entertainment",
                                    "2": "Games",
                                    "3": "Kids"
                                },
                                {
                                    "0": "Music",
                                    "1": "Entertainment",
                                    "2": "Music",
                                    "3": "Entertainment"
                                },
                                {
                                    "0": "Music",
                                    "1": "Entertainment",
                                    "2": "Garden",
                                    "3": "Outdoors"
                                },
                                {
                                    "0": "Music",
                                    "1": "Entertainment",
                                    "2": "Jewelery",
                                    "3": "Home"
                                },
                                {
                                    "0": "Music",
                                    "1": "Entertainment",
                                    "2": "Toys",
                                    "3": "Kids"
                                },
                                {
                                    "0": "Music",
                                    "1": "Entertainment",
                                    "2": "Movies",
                                    "3": "Entertainment"
                                },
                                {
                                    "0": "Garden",
                                    "1": "Outdoors",
                                    "2": "Computers",
                                    "3": "Electronics"
                                },
                                {
                                    "0": "Garden",
                                    "1": "Outdoors",
                                    "2": "Automotive",
                                    "3": "Hardware"
                                },
                                {
                                    "0": "Garden",
                                    "1": "Outdoors",
                                    "2": "Books",
                                    "3": "Entertainment"
                                },
                                {
                                    "0": "Garden",
                                    "1": "Outdoors",
                                    "2": "Shoes",
                                    "3": "Home"
                                },
                                {
                                    "0": "Garden",
                                    "1": "Outdoors",
                                    "2": "Grocery",
                                    "3": "Home"
                                },
                                {
                                    "0": "Garden",
                                    "1": "Outdoors",
                                    "2": "Beauty",
                                    "3": "Home"
                                },
                                {
                                    "0": "Garden",
                                    "1": "Outdoors",
                                    "2": "Clothing",
                                    "3": "Home"
                                },
                                {
                                    "0": "Garden",
                                    "1": "Outdoors",
                                    "2": "Games",
                                    "3": "Kids"
                                },
                                {
                                    "0": "Garden",
                                    "1": "Outdoors",
                                    "2": "Music",
                                    "3": "Entertainment"
                                },
                                {
                                    "0": "Garden",
                                    "1": "Outdoors",
                                    "2": "Garden",
                                    "3": "Outdoors"
                                },
                                {
                                    "0": "Garden",
                                    "1": "Outdoors",
                                    "2": "Jewelery",
                                    "3": "Home"
                                },
                                {
                                    "0": "Garden",
                                    "1": "Outdoors",
                                    "2": "Toys",
                                    "3": "Kids"
                                },
                                {
                                    "0": "Garden",
                                    "1": "Outdoors",
                                    "2": "Movies",
                                    "3": "Entertainment"
                                },
                                {
                                    "0": "Jewelery",
                                    "1": "Home",
                                    "2": "Computers",
                                    "3": "Electronics"
                                },
                                {
                                    "0": "Jewelery",
                                    "1": "Home",
                                    "2": "Automotive",
                                    "3": "Hardware"
                                },
                                {
                                    "0": "Jewelery",
                                    "1": "Home",
                                    "2": "Books",
                                    "3": "Entertainment"
                                },
                                {
                                    "0": "Jewelery",
                                    "1": "Home",
                                    "2": "Shoes",
                                    "3": "Home"
                                },
                                {
                                    "0": "Jewelery",
                                    "1": "Home",
                                    "2": "Grocery",
                                    "3": "Home"
                                },
                                {
                                    "0": "Jewelery",
                                    "1": "Home",
                                    "2": "Beauty",
                                    "3": "Home"
                                },
                                {
                                    "0": "Jewelery",
                                    "1": "Home",
                                    "2": "Clothing",
                                    "3": "Home"
                                },
                                {
                                    "0": "Jewelery",
                                    "1": "Home",
                                    "2": "Games",
                                    "3": "Kids"
                                },
                                {
                                    "0": "Jewelery",
                                    "1": "Home",
                                    "2": "Music",
                                    "3": "Entertainment"
                                },
                                {
                                    "0": "Jewelery",
                                    "1": "Home",
                                    "2": "Garden",
                                    "3": "Outdoors"
                                },
                                {
                                    "0": "Jewelery",
                                    "1": "Home",
                                    "2": "Jewelery",
                                    "3": "Home"
                                },
                                {
                                    "0": "Jewelery",
                                    "1": "Home",
                                    "2": "Toys",
                                    "3": "Kids"
                                },
                                {
                                    "0": "Jewelery",
                                    "1": "Home",
                                    "2": "Movies",
                                    "3": "Entertainment"
                                },
                                {
                                    "0": "Toys",
                                    "1": "Kids",
                                    "2": "Computers",
                                    "3": "Electronics"
                                },
                                {
                                    "0": "Toys",
                                    "1": "Kids",
                                    "2": "Automotive",
                                    "3": "Hardware"
                                },
                                {
                                    "0": "Toys",
                                    "1": "Kids",
                                    "2": "Books",
                                    "3": "Entertainment"
                                },
                                {
                                    "0": "Toys",
                                    "1": "Kids",
                                    "2": "Shoes",
                                    "3": "Home"
                                },
                                {
                                    "0": "Toys",
                                    "1": "Kids",
                                    "2": "Grocery",
                                    "3": "Home"
                                },
                                {
                                    "0": "Toys",
                                    "1": "Kids",
                                    "2": "Beauty",
                                    "3": "Home"
                                },
                                {
                                    "0": "Toys",
                                    "1": "Kids",
                                    "2": "Clothing",
                                    "3": "Home"
                                },
                                {
                                    "0": "Toys",
                                    "1": "Kids",
                                    "2": "Games",
                                    "3": "Kids"
                                },
                                {
                                    "0": "Toys",
                                    "1": "Kids",
                                    "2": "Music",
                                    "3": "Entertainment"
                                },
                                {
                                    "0": "Toys",
                                    "1": "Kids",
                                    "2": "Garden",
                                    "3": "Outdoors"
                                },
                                {
                                    "0": "Toys",
                                    "1": "Kids",
                                    "2": "Jewelery",
                                    "3": "Home"
                                },
                                {
                                    "0": "Toys",
                                    "1": "Kids",
                                    "2": "Toys",
                                    "3": "Kids"
                                },
                                {
                                    "0": "Toys",
                                    "1": "Kids",
                                    "2": "Movies",
                                    "3": "Entertainment"
                                },
                                {
                                    "0": "Movies",
                                    "1": "Entertainment",
                                    "2": "Computers",
                                    "3": "Electronics"
                                },
                                {
                                    "0": "Movies",
                                    "1": "Entertainment",
                                    "2": "Automotive",
                                    "3": "Hardware"
                                },
                                {
                                    "0": "Movies",
                                    "1": "Entertainment",
                                    "2": "Books",
                                    "3": "Entertainment"
                                },
                                {
                                    "0": "Movies",
                                    "1": "Entertainment",
                                    "2": "Shoes",
                                    "3": "Home"
                                },
                                {
                                    "0": "Movies",
                                    "1": "Entertainment",
                                    "2": "Grocery",
                                    "3": "Home"
                                },
                                {
                                    "0": "Movies",
                                    "1": "Entertainment",
                                    "2": "Beauty",
                                    "3": "Home"
                                },
                                {
                                    "0": "Movies",
                                    "1": "Entertainment",
                                    "2": "Clothing",
                                    "3": "Home"
                                },
                                {
                                    "0": "Movies",
                                    "1": "Entertainment",
                                    "2": "Games",
                                    "3": "Kids"
                                },
                                {
                                    "0": "Movies",
                                    "1": "Entertainment",
                                    "2": "Music",
                                    "3": "Entertainment"
                                },
                                {
                                    "0": "Movies",
                                    "1": "Entertainment",
                                    "2": "Garden",
                                    "3": "Outdoors"
                                },
                                {
                                    "0": "Movies",
                                    "1": "Entertainment",
                                    "2": "Jewelery",
                                    "3": "Home"
                                },
                                {
                                    "0": "Movies",
                                    "1": "Entertainment",
                                    "2": "Toys",
                                    "3": "Kids"
                                },
                                {
                                    "0": "Movies",
                                    "1": "Entertainment",
                                    "2": "Movies",
                                    "3": "Entertainment"
                                }
                            ]
                        },
                        "text/html": "<table><tr><th>department</th><th>division</th><th>department</th><th>division</th></tr><tr><td>Computers</td><td>Electronics</td><td>Computers</td><td>Electronics</td></tr><tr><td>Computers</td><td>Electronics</td><td>Automotive</td><td>Hardware</td></tr><tr><td>Computers</td><td>Electronics</td><td>Books</td><td>Entertainment</td></tr><tr><td>Computers</td><td>Electronics</td><td>Shoes</td><td>Home</td></tr><tr><td>Computers</td><td>Electronics</td><td>Grocery</td><td>Home</td></tr><tr><td>Computers</td><td>Electronics</td><td>Beauty</td><td>Home</td></tr><tr><td>Computers</td><td>Electronics</td><td>Clothing</td><td>Home</td></tr><tr><td>Computers</td><td>Electronics</td><td>Games</td><td>Kids</td></tr><tr><td>Computers</td><td>Electronics</td><td>Music</td><td>Entertainment</td></tr><tr><td>Computers</td><td>Electronics</td><td>Garden</td><td>Outdoors</td></tr><tr><td>Computers</td><td>Electronics</td><td>Jewelery</td><td>Home</td></tr><tr><td>Computers</td><td>Electronics</td><td>Toys</td><td>Kids</td></tr><tr><td>Computers</td><td>Electronics</td><td>Movies</td><td>Entertainment</td></tr><tr><td>Automotive</td><td>Hardware</td><td>Computers</td><td>Electronics</td></tr><tr><td>Automotive</td><td>Hardware</td><td>Automotive</td><td>Hardware</td></tr><tr><td>Automotive</td><td>Hardware</td><td>Books</td><td>Entertainment</td></tr><tr><td>Automotive</td><td>Hardware</td><td>Shoes</td><td>Home</td></tr><tr><td>Automotive</td><td>Hardware</td><td>Grocery</td><td>Home</td></tr><tr><td>Automotive</td><td>Hardware</td><td>Beauty</td><td>Home</td></tr><tr><td>Automotive</td><td>Hardware</td><td>Clothing</td><td>Home</td></tr><tr><td>Automotive</td><td>Hardware</td><td>Games</td><td>Kids</td></tr><tr><td>Automotive</td><td>Hardware</td><td>Music</td><td>Entertainment</td></tr><tr><td>Automotive</td><td>Hardware</td><td>Garden</td><td>Outdoors</td></tr><tr><td>Automotive</td><td>Hardware</td><td>Jewelery</td><td>Home</td></tr><tr><td>Automotive</td><td>Hardware</td><td>Toys</td><td>Kids</td></tr><tr><td>Automotive</td><td>Hardware</td><td>Movies</td><td>Entertainment</td></tr><tr><td>Books</td><td>Entertainment</td><td>Computers</td><td>Electronics</td></tr><tr><td>Books</td><td>Entertainment</td><td>Automotive</td><td>Hardware</td></tr><tr><td>Books</td><td>Entertainment</td><td>Books</td><td>Entertainment</td></tr><tr><td>Books</td><td>Entertainment</td><td>Shoes</td><td>Home</td></tr><tr><td>Books</td><td>Entertainment</td><td>Grocery</td><td>Home</td></tr><tr><td>Books</td><td>Entertainment</td><td>Beauty</td><td>Home</td></tr><tr><td>Books</td><td>Entertainment</td><td>Clothing</td><td>Home</td></tr><tr><td>Books</td><td>Entertainment</td><td>Games</td><td>Kids</td></tr><tr><td>Books</td><td>Entertainment</td><td>Music</td><td>Entertainment</td></tr><tr><td>Books</td><td>Entertainment</td><td>Garden</td><td>Outdoors</td></tr><tr><td>Books</td><td>Entertainment</td><td>Jewelery</td><td>Home</td></tr><tr><td>Books</td><td>Entertainment</td><td>Toys</td><td>Kids</td></tr><tr><td>Books</td><td>Entertainment</td><td>Movies</td><td>Entertainment</td></tr><tr><td>Shoes</td><td>Home</td><td>Computers</td><td>Electronics</td></tr><tr><td>Shoes</td><td>Home</td><td>Automotive</td><td>Hardware</td></tr><tr><td>Shoes</td><td>Home</td><td>Books</td><td>Entertainment</td></tr><tr><td>Shoes</td><td>Home</td><td>Shoes</td><td>Home</td></tr><tr><td>Shoes</td><td>Home</td><td>Grocery</td><td>Home</td></tr><tr><td>Shoes</td><td>Home</td><td>Beauty</td><td>Home</td></tr><tr><td>Shoes</td><td>Home</td><td>Clothing</td><td>Home</td></tr><tr><td>Shoes</td><td>Home</td><td>Games</td><td>Kids</td></tr><tr><td>Shoes</td><td>Home</td><td>Music</td><td>Entertainment</td></tr><tr><td>Shoes</td><td>Home</td><td>Garden</td><td>Outdoors</td></tr><tr><td>Shoes</td><td>Home</td><td>Jewelery</td><td>Home</td></tr><tr><td>Shoes</td><td>Home</td><td>Toys</td><td>Kids</td></tr><tr><td>Shoes</td><td>Home</td><td>Movies</td><td>Entertainment</td></tr><tr><td>Grocery</td><td>Home</td><td>Computers</td><td>Electronics</td></tr><tr><td>Grocery</td><td>Home</td><td>Automotive</td><td>Hardware</td></tr><tr><td>Grocery</td><td>Home</td><td>Books</td><td>Entertainment</td></tr><tr><td>Grocery</td><td>Home</td><td>Shoes</td><td>Home</td></tr><tr><td>Grocery</td><td>Home</td><td>Grocery</td><td>Home</td></tr><tr><td>Grocery</td><td>Home</td><td>Beauty</td><td>Home</td></tr><tr><td>Grocery</td><td>Home</td><td>Clothing</td><td>Home</td></tr><tr><td>Grocery</td><td>Home</td><td>Games</td><td>Kids</td></tr><tr><td>Grocery</td><td>Home</td><td>Music</td><td>Entertainment</td></tr><tr><td>Grocery</td><td>Home</td><td>Garden</td><td>Outdoors</td></tr><tr><td>Grocery</td><td>Home</td><td>Jewelery</td><td>Home</td></tr><tr><td>Grocery</td><td>Home</td><td>Toys</td><td>Kids</td></tr><tr><td>Grocery</td><td>Home</td><td>Movies</td><td>Entertainment</td></tr><tr><td>Beauty</td><td>Home</td><td>Computers</td><td>Electronics</td></tr><tr><td>Beauty</td><td>Home</td><td>Automotive</td><td>Hardware</td></tr><tr><td>Beauty</td><td>Home</td><td>Books</td><td>Entertainment</td></tr><tr><td>Beauty</td><td>Home</td><td>Shoes</td><td>Home</td></tr><tr><td>Beauty</td><td>Home</td><td>Grocery</td><td>Home</td></tr><tr><td>Beauty</td><td>Home</td><td>Beauty</td><td>Home</td></tr><tr><td>Beauty</td><td>Home</td><td>Clothing</td><td>Home</td></tr><tr><td>Beauty</td><td>Home</td><td>Games</td><td>Kids</td></tr><tr><td>Beauty</td><td>Home</td><td>Music</td><td>Entertainment</td></tr><tr><td>Beauty</td><td>Home</td><td>Garden</td><td>Outdoors</td></tr><tr><td>Beauty</td><td>Home</td><td>Jewelery</td><td>Home</td></tr><tr><td>Beauty</td><td>Home</td><td>Toys</td><td>Kids</td></tr><tr><td>Beauty</td><td>Home</td><td>Movies</td><td>Entertainment</td></tr><tr><td>Clothing</td><td>Home</td><td>Computers</td><td>Electronics</td></tr><tr><td>Clothing</td><td>Home</td><td>Automotive</td><td>Hardware</td></tr><tr><td>Clothing</td><td>Home</td><td>Books</td><td>Entertainment</td></tr><tr><td>Clothing</td><td>Home</td><td>Shoes</td><td>Home</td></tr><tr><td>Clothing</td><td>Home</td><td>Grocery</td><td>Home</td></tr><tr><td>Clothing</td><td>Home</td><td>Beauty</td><td>Home</td></tr><tr><td>Clothing</td><td>Home</td><td>Clothing</td><td>Home</td></tr><tr><td>Clothing</td><td>Home</td><td>Games</td><td>Kids</td></tr><tr><td>Clothing</td><td>Home</td><td>Music</td><td>Entertainment</td></tr><tr><td>Clothing</td><td>Home</td><td>Garden</td><td>Outdoors</td></tr><tr><td>Clothing</td><td>Home</td><td>Jewelery</td><td>Home</td></tr><tr><td>Clothing</td><td>Home</td><td>Toys</td><td>Kids</td></tr><tr><td>Clothing</td><td>Home</td><td>Movies</td><td>Entertainment</td></tr><tr><td>Games</td><td>Kids</td><td>Computers</td><td>Electronics</td></tr><tr><td>Games</td><td>Kids</td><td>Automotive</td><td>Hardware</td></tr><tr><td>Games</td><td>Kids</td><td>Books</td><td>Entertainment</td></tr><tr><td>Games</td><td>Kids</td><td>Shoes</td><td>Home</td></tr><tr><td>Games</td><td>Kids</td><td>Grocery</td><td>Home</td></tr><tr><td>Games</td><td>Kids</td><td>Beauty</td><td>Home</td></tr><tr><td>Games</td><td>Kids</td><td>Clothing</td><td>Home</td></tr><tr><td>Games</td><td>Kids</td><td>Games</td><td>Kids</td></tr><tr><td>Games</td><td>Kids</td><td>Music</td><td>Entertainment</td></tr><tr><td>Games</td><td>Kids</td><td>Garden</td><td>Outdoors</td></tr><tr><td>Games</td><td>Kids</td><td>Jewelery</td><td>Home</td></tr><tr><td>Games</td><td>Kids</td><td>Toys</td><td>Kids</td></tr><tr><td>Games</td><td>Kids</td><td>Movies</td><td>Entertainment</td></tr><tr><td>Music</td><td>Entertainment</td><td>Computers</td><td>Electronics</td></tr><tr><td>Music</td><td>Entertainment</td><td>Automotive</td><td>Hardware</td></tr><tr><td>Music</td><td>Entertainment</td><td>Books</td><td>Entertainment</td></tr><tr><td>Music</td><td>Entertainment</td><td>Shoes</td><td>Home</td></tr><tr><td>Music</td><td>Entertainment</td><td>Grocery</td><td>Home</td></tr><tr><td>Music</td><td>Entertainment</td><td>Beauty</td><td>Home</td></tr><tr><td>Music</td><td>Entertainment</td><td>Clothing</td><td>Home</td></tr><tr><td>Music</td><td>Entertainment</td><td>Games</td><td>Kids</td></tr><tr><td>Music</td><td>Entertainment</td><td>Music</td><td>Entertainment</td></tr><tr><td>Music</td><td>Entertainment</td><td>Garden</td><td>Outdoors</td></tr><tr><td>Music</td><td>Entertainment</td><td>Jewelery</td><td>Home</td></tr><tr><td>Music</td><td>Entertainment</td><td>Toys</td><td>Kids</td></tr><tr><td>Music</td><td>Entertainment</td><td>Movies</td><td>Entertainment</td></tr><tr><td>Garden</td><td>Outdoors</td><td>Computers</td><td>Electronics</td></tr><tr><td>Garden</td><td>Outdoors</td><td>Automotive</td><td>Hardware</td></tr><tr><td>Garden</td><td>Outdoors</td><td>Books</td><td>Entertainment</td></tr><tr><td>Garden</td><td>Outdoors</td><td>Shoes</td><td>Home</td></tr><tr><td>Garden</td><td>Outdoors</td><td>Grocery</td><td>Home</td></tr><tr><td>Garden</td><td>Outdoors</td><td>Beauty</td><td>Home</td></tr><tr><td>Garden</td><td>Outdoors</td><td>Clothing</td><td>Home</td></tr><tr><td>Garden</td><td>Outdoors</td><td>Games</td><td>Kids</td></tr><tr><td>Garden</td><td>Outdoors</td><td>Music</td><td>Entertainment</td></tr><tr><td>Garden</td><td>Outdoors</td><td>Garden</td><td>Outdoors</td></tr><tr><td>Garden</td><td>Outdoors</td><td>Jewelery</td><td>Home</td></tr><tr><td>Garden</td><td>Outdoors</td><td>Toys</td><td>Kids</td></tr><tr><td>Garden</td><td>Outdoors</td><td>Movies</td><td>Entertainment</td></tr><tr><td>Jewelery</td><td>Home</td><td>Computers</td><td>Electronics</td></tr><tr><td>Jewelery</td><td>Home</td><td>Automotive</td><td>Hardware</td></tr><tr><td>Jewelery</td><td>Home</td><td>Books</td><td>Entertainment</td></tr><tr><td>Jewelery</td><td>Home</td><td>Shoes</td><td>Home</td></tr><tr><td>Jewelery</td><td>Home</td><td>Grocery</td><td>Home</td></tr><tr><td>Jewelery</td><td>Home</td><td>Beauty</td><td>Home</td></tr><tr><td>Jewelery</td><td>Home</td><td>Clothing</td><td>Home</td></tr><tr><td>Jewelery</td><td>Home</td><td>Games</td><td>Kids</td></tr><tr><td>Jewelery</td><td>Home</td><td>Music</td><td>Entertainment</td></tr><tr><td>Jewelery</td><td>Home</td><td>Garden</td><td>Outdoors</td></tr><tr><td>Jewelery</td><td>Home</td><td>Jewelery</td><td>Home</td></tr><tr><td>Jewelery</td><td>Home</td><td>Toys</td><td>Kids</td></tr><tr><td>Jewelery</td><td>Home</td><td>Movies</td><td>Entertainment</td></tr><tr><td>Toys</td><td>Kids</td><td>Computers</td><td>Electronics</td></tr><tr><td>Toys</td><td>Kids</td><td>Automotive</td><td>Hardware</td></tr><tr><td>Toys</td><td>Kids</td><td>Books</td><td>Entertainment</td></tr><tr><td>Toys</td><td>Kids</td><td>Shoes</td><td>Home</td></tr><tr><td>Toys</td><td>Kids</td><td>Grocery</td><td>Home</td></tr><tr><td>Toys</td><td>Kids</td><td>Beauty</td><td>Home</td></tr><tr><td>Toys</td><td>Kids</td><td>Clothing</td><td>Home</td></tr><tr><td>Toys</td><td>Kids</td><td>Games</td><td>Kids</td></tr><tr><td>Toys</td><td>Kids</td><td>Music</td><td>Entertainment</td></tr><tr><td>Toys</td><td>Kids</td><td>Garden</td><td>Outdoors</td></tr><tr><td>Toys</td><td>Kids</td><td>Jewelery</td><td>Home</td></tr><tr><td>Toys</td><td>Kids</td><td>Toys</td><td>Kids</td></tr><tr><td>Toys</td><td>Kids</td><td>Movies</td><td>Entertainment</td></tr><tr><td>Movies</td><td>Entertainment</td><td>Computers</td><td>Electronics</td></tr><tr><td>Movies</td><td>Entertainment</td><td>Automotive</td><td>Hardware</td></tr><tr><td>Movies</td><td>Entertainment</td><td>Books</td><td>Entertainment</td></tr><tr><td>Movies</td><td>Entertainment</td><td>Shoes</td><td>Home</td></tr><tr><td>Movies</td><td>Entertainment</td><td>Grocery</td><td>Home</td></tr><tr><td>Movies</td><td>Entertainment</td><td>Beauty</td><td>Home</td></tr><tr><td>Movies</td><td>Entertainment</td><td>Clothing</td><td>Home</td></tr><tr><td>Movies</td><td>Entertainment</td><td>Games</td><td>Kids</td></tr><tr><td>Movies</td><td>Entertainment</td><td>Music</td><td>Entertainment</td></tr><tr><td>Movies</td><td>Entertainment</td><td>Garden</td><td>Outdoors</td></tr><tr><td>Movies</td><td>Entertainment</td><td>Jewelery</td><td>Home</td></tr><tr><td>Movies</td><td>Entertainment</td><td>Toys</td><td>Kids</td></tr><tr><td>Movies</td><td>Entertainment</td><td>Movies</td><td>Entertainment</td></tr></table>"
                    }
                }
            ],
            "execution_count": 19
        },
        {
            "cell_type": "code",
            "source": "SELECT * FROM departments d1 CROSS JOIN departments d2;",
            "metadata": {},
            "outputs": [
                {
                    "output_type": "display_data",
                    "data": {
                        "text/html": "(169 row(s) affected)"
                    },
                    "metadata": {}
                },
                {
                    "output_type": "display_data",
                    "data": {
                        "text/html": "Total execution time: 0:00:00.009627"
                    },
                    "metadata": {}
                },
                {
                    "output_type": "execute_result",
                    "metadata": {},
                    "execution_count": 20,
                    "data": {
                        "application/vnd.dataresource+json": {
                            "schema": {
                                "fields": [
                                    {
                                        "name": "department"
                                    },
                                    {
                                        "name": "division"
                                    },
                                    {
                                        "name": "department"
                                    },
                                    {
                                        "name": "division"
                                    }
                                ]
                            },
                            "data": [
                                {
                                    "0": "Computers",
                                    "1": "Electronics",
                                    "2": "Computers",
                                    "3": "Electronics"
                                },
                                {
                                    "0": "Computers",
                                    "1": "Electronics",
                                    "2": "Automotive",
                                    "3": "Hardware"
                                },
                                {
                                    "0": "Computers",
                                    "1": "Electronics",
                                    "2": "Books",
                                    "3": "Entertainment"
                                },
                                {
                                    "0": "Computers",
                                    "1": "Electronics",
                                    "2": "Shoes",
                                    "3": "Home"
                                },
                                {
                                    "0": "Computers",
                                    "1": "Electronics",
                                    "2": "Grocery",
                                    "3": "Home"
                                },
                                {
                                    "0": "Computers",
                                    "1": "Electronics",
                                    "2": "Beauty",
                                    "3": "Home"
                                },
                                {
                                    "0": "Computers",
                                    "1": "Electronics",
                                    "2": "Clothing",
                                    "3": "Home"
                                },
                                {
                                    "0": "Computers",
                                    "1": "Electronics",
                                    "2": "Games",
                                    "3": "Kids"
                                },
                                {
                                    "0": "Computers",
                                    "1": "Electronics",
                                    "2": "Music",
                                    "3": "Entertainment"
                                },
                                {
                                    "0": "Computers",
                                    "1": "Electronics",
                                    "2": "Garden",
                                    "3": "Outdoors"
                                },
                                {
                                    "0": "Computers",
                                    "1": "Electronics",
                                    "2": "Jewelery",
                                    "3": "Home"
                                },
                                {
                                    "0": "Computers",
                                    "1": "Electronics",
                                    "2": "Toys",
                                    "3": "Kids"
                                },
                                {
                                    "0": "Computers",
                                    "1": "Electronics",
                                    "2": "Movies",
                                    "3": "Entertainment"
                                },
                                {
                                    "0": "Automotive",
                                    "1": "Hardware",
                                    "2": "Computers",
                                    "3": "Electronics"
                                },
                                {
                                    "0": "Automotive",
                                    "1": "Hardware",
                                    "2": "Automotive",
                                    "3": "Hardware"
                                },
                                {
                                    "0": "Automotive",
                                    "1": "Hardware",
                                    "2": "Books",
                                    "3": "Entertainment"
                                },
                                {
                                    "0": "Automotive",
                                    "1": "Hardware",
                                    "2": "Shoes",
                                    "3": "Home"
                                },
                                {
                                    "0": "Automotive",
                                    "1": "Hardware",
                                    "2": "Grocery",
                                    "3": "Home"
                                },
                                {
                                    "0": "Automotive",
                                    "1": "Hardware",
                                    "2": "Beauty",
                                    "3": "Home"
                                },
                                {
                                    "0": "Automotive",
                                    "1": "Hardware",
                                    "2": "Clothing",
                                    "3": "Home"
                                },
                                {
                                    "0": "Automotive",
                                    "1": "Hardware",
                                    "2": "Games",
                                    "3": "Kids"
                                },
                                {
                                    "0": "Automotive",
                                    "1": "Hardware",
                                    "2": "Music",
                                    "3": "Entertainment"
                                },
                                {
                                    "0": "Automotive",
                                    "1": "Hardware",
                                    "2": "Garden",
                                    "3": "Outdoors"
                                },
                                {
                                    "0": "Automotive",
                                    "1": "Hardware",
                                    "2": "Jewelery",
                                    "3": "Home"
                                },
                                {
                                    "0": "Automotive",
                                    "1": "Hardware",
                                    "2": "Toys",
                                    "3": "Kids"
                                },
                                {
                                    "0": "Automotive",
                                    "1": "Hardware",
                                    "2": "Movies",
                                    "3": "Entertainment"
                                },
                                {
                                    "0": "Books",
                                    "1": "Entertainment",
                                    "2": "Computers",
                                    "3": "Electronics"
                                },
                                {
                                    "0": "Books",
                                    "1": "Entertainment",
                                    "2": "Automotive",
                                    "3": "Hardware"
                                },
                                {
                                    "0": "Books",
                                    "1": "Entertainment",
                                    "2": "Books",
                                    "3": "Entertainment"
                                },
                                {
                                    "0": "Books",
                                    "1": "Entertainment",
                                    "2": "Shoes",
                                    "3": "Home"
                                },
                                {
                                    "0": "Books",
                                    "1": "Entertainment",
                                    "2": "Grocery",
                                    "3": "Home"
                                },
                                {
                                    "0": "Books",
                                    "1": "Entertainment",
                                    "2": "Beauty",
                                    "3": "Home"
                                },
                                {
                                    "0": "Books",
                                    "1": "Entertainment",
                                    "2": "Clothing",
                                    "3": "Home"
                                },
                                {
                                    "0": "Books",
                                    "1": "Entertainment",
                                    "2": "Games",
                                    "3": "Kids"
                                },
                                {
                                    "0": "Books",
                                    "1": "Entertainment",
                                    "2": "Music",
                                    "3": "Entertainment"
                                },
                                {
                                    "0": "Books",
                                    "1": "Entertainment",
                                    "2": "Garden",
                                    "3": "Outdoors"
                                },
                                {
                                    "0": "Books",
                                    "1": "Entertainment",
                                    "2": "Jewelery",
                                    "3": "Home"
                                },
                                {
                                    "0": "Books",
                                    "1": "Entertainment",
                                    "2": "Toys",
                                    "3": "Kids"
                                },
                                {
                                    "0": "Books",
                                    "1": "Entertainment",
                                    "2": "Movies",
                                    "3": "Entertainment"
                                },
                                {
                                    "0": "Shoes",
                                    "1": "Home",
                                    "2": "Computers",
                                    "3": "Electronics"
                                },
                                {
                                    "0": "Shoes",
                                    "1": "Home",
                                    "2": "Automotive",
                                    "3": "Hardware"
                                },
                                {
                                    "0": "Shoes",
                                    "1": "Home",
                                    "2": "Books",
                                    "3": "Entertainment"
                                },
                                {
                                    "0": "Shoes",
                                    "1": "Home",
                                    "2": "Shoes",
                                    "3": "Home"
                                },
                                {
                                    "0": "Shoes",
                                    "1": "Home",
                                    "2": "Grocery",
                                    "3": "Home"
                                },
                                {
                                    "0": "Shoes",
                                    "1": "Home",
                                    "2": "Beauty",
                                    "3": "Home"
                                },
                                {
                                    "0": "Shoes",
                                    "1": "Home",
                                    "2": "Clothing",
                                    "3": "Home"
                                },
                                {
                                    "0": "Shoes",
                                    "1": "Home",
                                    "2": "Games",
                                    "3": "Kids"
                                },
                                {
                                    "0": "Shoes",
                                    "1": "Home",
                                    "2": "Music",
                                    "3": "Entertainment"
                                },
                                {
                                    "0": "Shoes",
                                    "1": "Home",
                                    "2": "Garden",
                                    "3": "Outdoors"
                                },
                                {
                                    "0": "Shoes",
                                    "1": "Home",
                                    "2": "Jewelery",
                                    "3": "Home"
                                },
                                {
                                    "0": "Shoes",
                                    "1": "Home",
                                    "2": "Toys",
                                    "3": "Kids"
                                },
                                {
                                    "0": "Shoes",
                                    "1": "Home",
                                    "2": "Movies",
                                    "3": "Entertainment"
                                },
                                {
                                    "0": "Grocery",
                                    "1": "Home",
                                    "2": "Computers",
                                    "3": "Electronics"
                                },
                                {
                                    "0": "Grocery",
                                    "1": "Home",
                                    "2": "Automotive",
                                    "3": "Hardware"
                                },
                                {
                                    "0": "Grocery",
                                    "1": "Home",
                                    "2": "Books",
                                    "3": "Entertainment"
                                },
                                {
                                    "0": "Grocery",
                                    "1": "Home",
                                    "2": "Shoes",
                                    "3": "Home"
                                },
                                {
                                    "0": "Grocery",
                                    "1": "Home",
                                    "2": "Grocery",
                                    "3": "Home"
                                },
                                {
                                    "0": "Grocery",
                                    "1": "Home",
                                    "2": "Beauty",
                                    "3": "Home"
                                },
                                {
                                    "0": "Grocery",
                                    "1": "Home",
                                    "2": "Clothing",
                                    "3": "Home"
                                },
                                {
                                    "0": "Grocery",
                                    "1": "Home",
                                    "2": "Games",
                                    "3": "Kids"
                                },
                                {
                                    "0": "Grocery",
                                    "1": "Home",
                                    "2": "Music",
                                    "3": "Entertainment"
                                },
                                {
                                    "0": "Grocery",
                                    "1": "Home",
                                    "2": "Garden",
                                    "3": "Outdoors"
                                },
                                {
                                    "0": "Grocery",
                                    "1": "Home",
                                    "2": "Jewelery",
                                    "3": "Home"
                                },
                                {
                                    "0": "Grocery",
                                    "1": "Home",
                                    "2": "Toys",
                                    "3": "Kids"
                                },
                                {
                                    "0": "Grocery",
                                    "1": "Home",
                                    "2": "Movies",
                                    "3": "Entertainment"
                                },
                                {
                                    "0": "Beauty",
                                    "1": "Home",
                                    "2": "Computers",
                                    "3": "Electronics"
                                },
                                {
                                    "0": "Beauty",
                                    "1": "Home",
                                    "2": "Automotive",
                                    "3": "Hardware"
                                },
                                {
                                    "0": "Beauty",
                                    "1": "Home",
                                    "2": "Books",
                                    "3": "Entertainment"
                                },
                                {
                                    "0": "Beauty",
                                    "1": "Home",
                                    "2": "Shoes",
                                    "3": "Home"
                                },
                                {
                                    "0": "Beauty",
                                    "1": "Home",
                                    "2": "Grocery",
                                    "3": "Home"
                                },
                                {
                                    "0": "Beauty",
                                    "1": "Home",
                                    "2": "Beauty",
                                    "3": "Home"
                                },
                                {
                                    "0": "Beauty",
                                    "1": "Home",
                                    "2": "Clothing",
                                    "3": "Home"
                                },
                                {
                                    "0": "Beauty",
                                    "1": "Home",
                                    "2": "Games",
                                    "3": "Kids"
                                },
                                {
                                    "0": "Beauty",
                                    "1": "Home",
                                    "2": "Music",
                                    "3": "Entertainment"
                                },
                                {
                                    "0": "Beauty",
                                    "1": "Home",
                                    "2": "Garden",
                                    "3": "Outdoors"
                                },
                                {
                                    "0": "Beauty",
                                    "1": "Home",
                                    "2": "Jewelery",
                                    "3": "Home"
                                },
                                {
                                    "0": "Beauty",
                                    "1": "Home",
                                    "2": "Toys",
                                    "3": "Kids"
                                },
                                {
                                    "0": "Beauty",
                                    "1": "Home",
                                    "2": "Movies",
                                    "3": "Entertainment"
                                },
                                {
                                    "0": "Clothing",
                                    "1": "Home",
                                    "2": "Computers",
                                    "3": "Electronics"
                                },
                                {
                                    "0": "Clothing",
                                    "1": "Home",
                                    "2": "Automotive",
                                    "3": "Hardware"
                                },
                                {
                                    "0": "Clothing",
                                    "1": "Home",
                                    "2": "Books",
                                    "3": "Entertainment"
                                },
                                {
                                    "0": "Clothing",
                                    "1": "Home",
                                    "2": "Shoes",
                                    "3": "Home"
                                },
                                {
                                    "0": "Clothing",
                                    "1": "Home",
                                    "2": "Grocery",
                                    "3": "Home"
                                },
                                {
                                    "0": "Clothing",
                                    "1": "Home",
                                    "2": "Beauty",
                                    "3": "Home"
                                },
                                {
                                    "0": "Clothing",
                                    "1": "Home",
                                    "2": "Clothing",
                                    "3": "Home"
                                },
                                {
                                    "0": "Clothing",
                                    "1": "Home",
                                    "2": "Games",
                                    "3": "Kids"
                                },
                                {
                                    "0": "Clothing",
                                    "1": "Home",
                                    "2": "Music",
                                    "3": "Entertainment"
                                },
                                {
                                    "0": "Clothing",
                                    "1": "Home",
                                    "2": "Garden",
                                    "3": "Outdoors"
                                },
                                {
                                    "0": "Clothing",
                                    "1": "Home",
                                    "2": "Jewelery",
                                    "3": "Home"
                                },
                                {
                                    "0": "Clothing",
                                    "1": "Home",
                                    "2": "Toys",
                                    "3": "Kids"
                                },
                                {
                                    "0": "Clothing",
                                    "1": "Home",
                                    "2": "Movies",
                                    "3": "Entertainment"
                                },
                                {
                                    "0": "Games",
                                    "1": "Kids",
                                    "2": "Computers",
                                    "3": "Electronics"
                                },
                                {
                                    "0": "Games",
                                    "1": "Kids",
                                    "2": "Automotive",
                                    "3": "Hardware"
                                },
                                {
                                    "0": "Games",
                                    "1": "Kids",
                                    "2": "Books",
                                    "3": "Entertainment"
                                },
                                {
                                    "0": "Games",
                                    "1": "Kids",
                                    "2": "Shoes",
                                    "3": "Home"
                                },
                                {
                                    "0": "Games",
                                    "1": "Kids",
                                    "2": "Grocery",
                                    "3": "Home"
                                },
                                {
                                    "0": "Games",
                                    "1": "Kids",
                                    "2": "Beauty",
                                    "3": "Home"
                                },
                                {
                                    "0": "Games",
                                    "1": "Kids",
                                    "2": "Clothing",
                                    "3": "Home"
                                },
                                {
                                    "0": "Games",
                                    "1": "Kids",
                                    "2": "Games",
                                    "3": "Kids"
                                },
                                {
                                    "0": "Games",
                                    "1": "Kids",
                                    "2": "Music",
                                    "3": "Entertainment"
                                },
                                {
                                    "0": "Games",
                                    "1": "Kids",
                                    "2": "Garden",
                                    "3": "Outdoors"
                                },
                                {
                                    "0": "Games",
                                    "1": "Kids",
                                    "2": "Jewelery",
                                    "3": "Home"
                                },
                                {
                                    "0": "Games",
                                    "1": "Kids",
                                    "2": "Toys",
                                    "3": "Kids"
                                },
                                {
                                    "0": "Games",
                                    "1": "Kids",
                                    "2": "Movies",
                                    "3": "Entertainment"
                                },
                                {
                                    "0": "Music",
                                    "1": "Entertainment",
                                    "2": "Computers",
                                    "3": "Electronics"
                                },
                                {
                                    "0": "Music",
                                    "1": "Entertainment",
                                    "2": "Automotive",
                                    "3": "Hardware"
                                },
                                {
                                    "0": "Music",
                                    "1": "Entertainment",
                                    "2": "Books",
                                    "3": "Entertainment"
                                },
                                {
                                    "0": "Music",
                                    "1": "Entertainment",
                                    "2": "Shoes",
                                    "3": "Home"
                                },
                                {
                                    "0": "Music",
                                    "1": "Entertainment",
                                    "2": "Grocery",
                                    "3": "Home"
                                },
                                {
                                    "0": "Music",
                                    "1": "Entertainment",
                                    "2": "Beauty",
                                    "3": "Home"
                                },
                                {
                                    "0": "Music",
                                    "1": "Entertainment",
                                    "2": "Clothing",
                                    "3": "Home"
                                },
                                {
                                    "0": "Music",
                                    "1": "Entertainment",
                                    "2": "Games",
                                    "3": "Kids"
                                },
                                {
                                    "0": "Music",
                                    "1": "Entertainment",
                                    "2": "Music",
                                    "3": "Entertainment"
                                },
                                {
                                    "0": "Music",
                                    "1": "Entertainment",
                                    "2": "Garden",
                                    "3": "Outdoors"
                                },
                                {
                                    "0": "Music",
                                    "1": "Entertainment",
                                    "2": "Jewelery",
                                    "3": "Home"
                                },
                                {
                                    "0": "Music",
                                    "1": "Entertainment",
                                    "2": "Toys",
                                    "3": "Kids"
                                },
                                {
                                    "0": "Music",
                                    "1": "Entertainment",
                                    "2": "Movies",
                                    "3": "Entertainment"
                                },
                                {
                                    "0": "Garden",
                                    "1": "Outdoors",
                                    "2": "Computers",
                                    "3": "Electronics"
                                },
                                {
                                    "0": "Garden",
                                    "1": "Outdoors",
                                    "2": "Automotive",
                                    "3": "Hardware"
                                },
                                {
                                    "0": "Garden",
                                    "1": "Outdoors",
                                    "2": "Books",
                                    "3": "Entertainment"
                                },
                                {
                                    "0": "Garden",
                                    "1": "Outdoors",
                                    "2": "Shoes",
                                    "3": "Home"
                                },
                                {
                                    "0": "Garden",
                                    "1": "Outdoors",
                                    "2": "Grocery",
                                    "3": "Home"
                                },
                                {
                                    "0": "Garden",
                                    "1": "Outdoors",
                                    "2": "Beauty",
                                    "3": "Home"
                                },
                                {
                                    "0": "Garden",
                                    "1": "Outdoors",
                                    "2": "Clothing",
                                    "3": "Home"
                                },
                                {
                                    "0": "Garden",
                                    "1": "Outdoors",
                                    "2": "Games",
                                    "3": "Kids"
                                },
                                {
                                    "0": "Garden",
                                    "1": "Outdoors",
                                    "2": "Music",
                                    "3": "Entertainment"
                                },
                                {
                                    "0": "Garden",
                                    "1": "Outdoors",
                                    "2": "Garden",
                                    "3": "Outdoors"
                                },
                                {
                                    "0": "Garden",
                                    "1": "Outdoors",
                                    "2": "Jewelery",
                                    "3": "Home"
                                },
                                {
                                    "0": "Garden",
                                    "1": "Outdoors",
                                    "2": "Toys",
                                    "3": "Kids"
                                },
                                {
                                    "0": "Garden",
                                    "1": "Outdoors",
                                    "2": "Movies",
                                    "3": "Entertainment"
                                },
                                {
                                    "0": "Jewelery",
                                    "1": "Home",
                                    "2": "Computers",
                                    "3": "Electronics"
                                },
                                {
                                    "0": "Jewelery",
                                    "1": "Home",
                                    "2": "Automotive",
                                    "3": "Hardware"
                                },
                                {
                                    "0": "Jewelery",
                                    "1": "Home",
                                    "2": "Books",
                                    "3": "Entertainment"
                                },
                                {
                                    "0": "Jewelery",
                                    "1": "Home",
                                    "2": "Shoes",
                                    "3": "Home"
                                },
                                {
                                    "0": "Jewelery",
                                    "1": "Home",
                                    "2": "Grocery",
                                    "3": "Home"
                                },
                                {
                                    "0": "Jewelery",
                                    "1": "Home",
                                    "2": "Beauty",
                                    "3": "Home"
                                },
                                {
                                    "0": "Jewelery",
                                    "1": "Home",
                                    "2": "Clothing",
                                    "3": "Home"
                                },
                                {
                                    "0": "Jewelery",
                                    "1": "Home",
                                    "2": "Games",
                                    "3": "Kids"
                                },
                                {
                                    "0": "Jewelery",
                                    "1": "Home",
                                    "2": "Music",
                                    "3": "Entertainment"
                                },
                                {
                                    "0": "Jewelery",
                                    "1": "Home",
                                    "2": "Garden",
                                    "3": "Outdoors"
                                },
                                {
                                    "0": "Jewelery",
                                    "1": "Home",
                                    "2": "Jewelery",
                                    "3": "Home"
                                },
                                {
                                    "0": "Jewelery",
                                    "1": "Home",
                                    "2": "Toys",
                                    "3": "Kids"
                                },
                                {
                                    "0": "Jewelery",
                                    "1": "Home",
                                    "2": "Movies",
                                    "3": "Entertainment"
                                },
                                {
                                    "0": "Toys",
                                    "1": "Kids",
                                    "2": "Computers",
                                    "3": "Electronics"
                                },
                                {
                                    "0": "Toys",
                                    "1": "Kids",
                                    "2": "Automotive",
                                    "3": "Hardware"
                                },
                                {
                                    "0": "Toys",
                                    "1": "Kids",
                                    "2": "Books",
                                    "3": "Entertainment"
                                },
                                {
                                    "0": "Toys",
                                    "1": "Kids",
                                    "2": "Shoes",
                                    "3": "Home"
                                },
                                {
                                    "0": "Toys",
                                    "1": "Kids",
                                    "2": "Grocery",
                                    "3": "Home"
                                },
                                {
                                    "0": "Toys",
                                    "1": "Kids",
                                    "2": "Beauty",
                                    "3": "Home"
                                },
                                {
                                    "0": "Toys",
                                    "1": "Kids",
                                    "2": "Clothing",
                                    "3": "Home"
                                },
                                {
                                    "0": "Toys",
                                    "1": "Kids",
                                    "2": "Games",
                                    "3": "Kids"
                                },
                                {
                                    "0": "Toys",
                                    "1": "Kids",
                                    "2": "Music",
                                    "3": "Entertainment"
                                },
                                {
                                    "0": "Toys",
                                    "1": "Kids",
                                    "2": "Garden",
                                    "3": "Outdoors"
                                },
                                {
                                    "0": "Toys",
                                    "1": "Kids",
                                    "2": "Jewelery",
                                    "3": "Home"
                                },
                                {
                                    "0": "Toys",
                                    "1": "Kids",
                                    "2": "Toys",
                                    "3": "Kids"
                                },
                                {
                                    "0": "Toys",
                                    "1": "Kids",
                                    "2": "Movies",
                                    "3": "Entertainment"
                                },
                                {
                                    "0": "Movies",
                                    "1": "Entertainment",
                                    "2": "Computers",
                                    "3": "Electronics"
                                },
                                {
                                    "0": "Movies",
                                    "1": "Entertainment",
                                    "2": "Automotive",
                                    "3": "Hardware"
                                },
                                {
                                    "0": "Movies",
                                    "1": "Entertainment",
                                    "2": "Books",
                                    "3": "Entertainment"
                                },
                                {
                                    "0": "Movies",
                                    "1": "Entertainment",
                                    "2": "Shoes",
                                    "3": "Home"
                                },
                                {
                                    "0": "Movies",
                                    "1": "Entertainment",
                                    "2": "Grocery",
                                    "3": "Home"
                                },
                                {
                                    "0": "Movies",
                                    "1": "Entertainment",
                                    "2": "Beauty",
                                    "3": "Home"
                                },
                                {
                                    "0": "Movies",
                                    "1": "Entertainment",
                                    "2": "Clothing",
                                    "3": "Home"
                                },
                                {
                                    "0": "Movies",
                                    "1": "Entertainment",
                                    "2": "Games",
                                    "3": "Kids"
                                },
                                {
                                    "0": "Movies",
                                    "1": "Entertainment",
                                    "2": "Music",
                                    "3": "Entertainment"
                                },
                                {
                                    "0": "Movies",
                                    "1": "Entertainment",
                                    "2": "Garden",
                                    "3": "Outdoors"
                                },
                                {
                                    "0": "Movies",
                                    "1": "Entertainment",
                                    "2": "Jewelery",
                                    "3": "Home"
                                },
                                {
                                    "0": "Movies",
                                    "1": "Entertainment",
                                    "2": "Toys",
                                    "3": "Kids"
                                },
                                {
                                    "0": "Movies",
                                    "1": "Entertainment",
                                    "2": "Movies",
                                    "3": "Entertainment"
                                }
                            ]
                        },
                        "text/html": "<table><tr><th>department</th><th>division</th><th>department</th><th>division</th></tr><tr><td>Computers</td><td>Electronics</td><td>Computers</td><td>Electronics</td></tr><tr><td>Computers</td><td>Electronics</td><td>Automotive</td><td>Hardware</td></tr><tr><td>Computers</td><td>Electronics</td><td>Books</td><td>Entertainment</td></tr><tr><td>Computers</td><td>Electronics</td><td>Shoes</td><td>Home</td></tr><tr><td>Computers</td><td>Electronics</td><td>Grocery</td><td>Home</td></tr><tr><td>Computers</td><td>Electronics</td><td>Beauty</td><td>Home</td></tr><tr><td>Computers</td><td>Electronics</td><td>Clothing</td><td>Home</td></tr><tr><td>Computers</td><td>Electronics</td><td>Games</td><td>Kids</td></tr><tr><td>Computers</td><td>Electronics</td><td>Music</td><td>Entertainment</td></tr><tr><td>Computers</td><td>Electronics</td><td>Garden</td><td>Outdoors</td></tr><tr><td>Computers</td><td>Electronics</td><td>Jewelery</td><td>Home</td></tr><tr><td>Computers</td><td>Electronics</td><td>Toys</td><td>Kids</td></tr><tr><td>Computers</td><td>Electronics</td><td>Movies</td><td>Entertainment</td></tr><tr><td>Automotive</td><td>Hardware</td><td>Computers</td><td>Electronics</td></tr><tr><td>Automotive</td><td>Hardware</td><td>Automotive</td><td>Hardware</td></tr><tr><td>Automotive</td><td>Hardware</td><td>Books</td><td>Entertainment</td></tr><tr><td>Automotive</td><td>Hardware</td><td>Shoes</td><td>Home</td></tr><tr><td>Automotive</td><td>Hardware</td><td>Grocery</td><td>Home</td></tr><tr><td>Automotive</td><td>Hardware</td><td>Beauty</td><td>Home</td></tr><tr><td>Automotive</td><td>Hardware</td><td>Clothing</td><td>Home</td></tr><tr><td>Automotive</td><td>Hardware</td><td>Games</td><td>Kids</td></tr><tr><td>Automotive</td><td>Hardware</td><td>Music</td><td>Entertainment</td></tr><tr><td>Automotive</td><td>Hardware</td><td>Garden</td><td>Outdoors</td></tr><tr><td>Automotive</td><td>Hardware</td><td>Jewelery</td><td>Home</td></tr><tr><td>Automotive</td><td>Hardware</td><td>Toys</td><td>Kids</td></tr><tr><td>Automotive</td><td>Hardware</td><td>Movies</td><td>Entertainment</td></tr><tr><td>Books</td><td>Entertainment</td><td>Computers</td><td>Electronics</td></tr><tr><td>Books</td><td>Entertainment</td><td>Automotive</td><td>Hardware</td></tr><tr><td>Books</td><td>Entertainment</td><td>Books</td><td>Entertainment</td></tr><tr><td>Books</td><td>Entertainment</td><td>Shoes</td><td>Home</td></tr><tr><td>Books</td><td>Entertainment</td><td>Grocery</td><td>Home</td></tr><tr><td>Books</td><td>Entertainment</td><td>Beauty</td><td>Home</td></tr><tr><td>Books</td><td>Entertainment</td><td>Clothing</td><td>Home</td></tr><tr><td>Books</td><td>Entertainment</td><td>Games</td><td>Kids</td></tr><tr><td>Books</td><td>Entertainment</td><td>Music</td><td>Entertainment</td></tr><tr><td>Books</td><td>Entertainment</td><td>Garden</td><td>Outdoors</td></tr><tr><td>Books</td><td>Entertainment</td><td>Jewelery</td><td>Home</td></tr><tr><td>Books</td><td>Entertainment</td><td>Toys</td><td>Kids</td></tr><tr><td>Books</td><td>Entertainment</td><td>Movies</td><td>Entertainment</td></tr><tr><td>Shoes</td><td>Home</td><td>Computers</td><td>Electronics</td></tr><tr><td>Shoes</td><td>Home</td><td>Automotive</td><td>Hardware</td></tr><tr><td>Shoes</td><td>Home</td><td>Books</td><td>Entertainment</td></tr><tr><td>Shoes</td><td>Home</td><td>Shoes</td><td>Home</td></tr><tr><td>Shoes</td><td>Home</td><td>Grocery</td><td>Home</td></tr><tr><td>Shoes</td><td>Home</td><td>Beauty</td><td>Home</td></tr><tr><td>Shoes</td><td>Home</td><td>Clothing</td><td>Home</td></tr><tr><td>Shoes</td><td>Home</td><td>Games</td><td>Kids</td></tr><tr><td>Shoes</td><td>Home</td><td>Music</td><td>Entertainment</td></tr><tr><td>Shoes</td><td>Home</td><td>Garden</td><td>Outdoors</td></tr><tr><td>Shoes</td><td>Home</td><td>Jewelery</td><td>Home</td></tr><tr><td>Shoes</td><td>Home</td><td>Toys</td><td>Kids</td></tr><tr><td>Shoes</td><td>Home</td><td>Movies</td><td>Entertainment</td></tr><tr><td>Grocery</td><td>Home</td><td>Computers</td><td>Electronics</td></tr><tr><td>Grocery</td><td>Home</td><td>Automotive</td><td>Hardware</td></tr><tr><td>Grocery</td><td>Home</td><td>Books</td><td>Entertainment</td></tr><tr><td>Grocery</td><td>Home</td><td>Shoes</td><td>Home</td></tr><tr><td>Grocery</td><td>Home</td><td>Grocery</td><td>Home</td></tr><tr><td>Grocery</td><td>Home</td><td>Beauty</td><td>Home</td></tr><tr><td>Grocery</td><td>Home</td><td>Clothing</td><td>Home</td></tr><tr><td>Grocery</td><td>Home</td><td>Games</td><td>Kids</td></tr><tr><td>Grocery</td><td>Home</td><td>Music</td><td>Entertainment</td></tr><tr><td>Grocery</td><td>Home</td><td>Garden</td><td>Outdoors</td></tr><tr><td>Grocery</td><td>Home</td><td>Jewelery</td><td>Home</td></tr><tr><td>Grocery</td><td>Home</td><td>Toys</td><td>Kids</td></tr><tr><td>Grocery</td><td>Home</td><td>Movies</td><td>Entertainment</td></tr><tr><td>Beauty</td><td>Home</td><td>Computers</td><td>Electronics</td></tr><tr><td>Beauty</td><td>Home</td><td>Automotive</td><td>Hardware</td></tr><tr><td>Beauty</td><td>Home</td><td>Books</td><td>Entertainment</td></tr><tr><td>Beauty</td><td>Home</td><td>Shoes</td><td>Home</td></tr><tr><td>Beauty</td><td>Home</td><td>Grocery</td><td>Home</td></tr><tr><td>Beauty</td><td>Home</td><td>Beauty</td><td>Home</td></tr><tr><td>Beauty</td><td>Home</td><td>Clothing</td><td>Home</td></tr><tr><td>Beauty</td><td>Home</td><td>Games</td><td>Kids</td></tr><tr><td>Beauty</td><td>Home</td><td>Music</td><td>Entertainment</td></tr><tr><td>Beauty</td><td>Home</td><td>Garden</td><td>Outdoors</td></tr><tr><td>Beauty</td><td>Home</td><td>Jewelery</td><td>Home</td></tr><tr><td>Beauty</td><td>Home</td><td>Toys</td><td>Kids</td></tr><tr><td>Beauty</td><td>Home</td><td>Movies</td><td>Entertainment</td></tr><tr><td>Clothing</td><td>Home</td><td>Computers</td><td>Electronics</td></tr><tr><td>Clothing</td><td>Home</td><td>Automotive</td><td>Hardware</td></tr><tr><td>Clothing</td><td>Home</td><td>Books</td><td>Entertainment</td></tr><tr><td>Clothing</td><td>Home</td><td>Shoes</td><td>Home</td></tr><tr><td>Clothing</td><td>Home</td><td>Grocery</td><td>Home</td></tr><tr><td>Clothing</td><td>Home</td><td>Beauty</td><td>Home</td></tr><tr><td>Clothing</td><td>Home</td><td>Clothing</td><td>Home</td></tr><tr><td>Clothing</td><td>Home</td><td>Games</td><td>Kids</td></tr><tr><td>Clothing</td><td>Home</td><td>Music</td><td>Entertainment</td></tr><tr><td>Clothing</td><td>Home</td><td>Garden</td><td>Outdoors</td></tr><tr><td>Clothing</td><td>Home</td><td>Jewelery</td><td>Home</td></tr><tr><td>Clothing</td><td>Home</td><td>Toys</td><td>Kids</td></tr><tr><td>Clothing</td><td>Home</td><td>Movies</td><td>Entertainment</td></tr><tr><td>Games</td><td>Kids</td><td>Computers</td><td>Electronics</td></tr><tr><td>Games</td><td>Kids</td><td>Automotive</td><td>Hardware</td></tr><tr><td>Games</td><td>Kids</td><td>Books</td><td>Entertainment</td></tr><tr><td>Games</td><td>Kids</td><td>Shoes</td><td>Home</td></tr><tr><td>Games</td><td>Kids</td><td>Grocery</td><td>Home</td></tr><tr><td>Games</td><td>Kids</td><td>Beauty</td><td>Home</td></tr><tr><td>Games</td><td>Kids</td><td>Clothing</td><td>Home</td></tr><tr><td>Games</td><td>Kids</td><td>Games</td><td>Kids</td></tr><tr><td>Games</td><td>Kids</td><td>Music</td><td>Entertainment</td></tr><tr><td>Games</td><td>Kids</td><td>Garden</td><td>Outdoors</td></tr><tr><td>Games</td><td>Kids</td><td>Jewelery</td><td>Home</td></tr><tr><td>Games</td><td>Kids</td><td>Toys</td><td>Kids</td></tr><tr><td>Games</td><td>Kids</td><td>Movies</td><td>Entertainment</td></tr><tr><td>Music</td><td>Entertainment</td><td>Computers</td><td>Electronics</td></tr><tr><td>Music</td><td>Entertainment</td><td>Automotive</td><td>Hardware</td></tr><tr><td>Music</td><td>Entertainment</td><td>Books</td><td>Entertainment</td></tr><tr><td>Music</td><td>Entertainment</td><td>Shoes</td><td>Home</td></tr><tr><td>Music</td><td>Entertainment</td><td>Grocery</td><td>Home</td></tr><tr><td>Music</td><td>Entertainment</td><td>Beauty</td><td>Home</td></tr><tr><td>Music</td><td>Entertainment</td><td>Clothing</td><td>Home</td></tr><tr><td>Music</td><td>Entertainment</td><td>Games</td><td>Kids</td></tr><tr><td>Music</td><td>Entertainment</td><td>Music</td><td>Entertainment</td></tr><tr><td>Music</td><td>Entertainment</td><td>Garden</td><td>Outdoors</td></tr><tr><td>Music</td><td>Entertainment</td><td>Jewelery</td><td>Home</td></tr><tr><td>Music</td><td>Entertainment</td><td>Toys</td><td>Kids</td></tr><tr><td>Music</td><td>Entertainment</td><td>Movies</td><td>Entertainment</td></tr><tr><td>Garden</td><td>Outdoors</td><td>Computers</td><td>Electronics</td></tr><tr><td>Garden</td><td>Outdoors</td><td>Automotive</td><td>Hardware</td></tr><tr><td>Garden</td><td>Outdoors</td><td>Books</td><td>Entertainment</td></tr><tr><td>Garden</td><td>Outdoors</td><td>Shoes</td><td>Home</td></tr><tr><td>Garden</td><td>Outdoors</td><td>Grocery</td><td>Home</td></tr><tr><td>Garden</td><td>Outdoors</td><td>Beauty</td><td>Home</td></tr><tr><td>Garden</td><td>Outdoors</td><td>Clothing</td><td>Home</td></tr><tr><td>Garden</td><td>Outdoors</td><td>Games</td><td>Kids</td></tr><tr><td>Garden</td><td>Outdoors</td><td>Music</td><td>Entertainment</td></tr><tr><td>Garden</td><td>Outdoors</td><td>Garden</td><td>Outdoors</td></tr><tr><td>Garden</td><td>Outdoors</td><td>Jewelery</td><td>Home</td></tr><tr><td>Garden</td><td>Outdoors</td><td>Toys</td><td>Kids</td></tr><tr><td>Garden</td><td>Outdoors</td><td>Movies</td><td>Entertainment</td></tr><tr><td>Jewelery</td><td>Home</td><td>Computers</td><td>Electronics</td></tr><tr><td>Jewelery</td><td>Home</td><td>Automotive</td><td>Hardware</td></tr><tr><td>Jewelery</td><td>Home</td><td>Books</td><td>Entertainment</td></tr><tr><td>Jewelery</td><td>Home</td><td>Shoes</td><td>Home</td></tr><tr><td>Jewelery</td><td>Home</td><td>Grocery</td><td>Home</td></tr><tr><td>Jewelery</td><td>Home</td><td>Beauty</td><td>Home</td></tr><tr><td>Jewelery</td><td>Home</td><td>Clothing</td><td>Home</td></tr><tr><td>Jewelery</td><td>Home</td><td>Games</td><td>Kids</td></tr><tr><td>Jewelery</td><td>Home</td><td>Music</td><td>Entertainment</td></tr><tr><td>Jewelery</td><td>Home</td><td>Garden</td><td>Outdoors</td></tr><tr><td>Jewelery</td><td>Home</td><td>Jewelery</td><td>Home</td></tr><tr><td>Jewelery</td><td>Home</td><td>Toys</td><td>Kids</td></tr><tr><td>Jewelery</td><td>Home</td><td>Movies</td><td>Entertainment</td></tr><tr><td>Toys</td><td>Kids</td><td>Computers</td><td>Electronics</td></tr><tr><td>Toys</td><td>Kids</td><td>Automotive</td><td>Hardware</td></tr><tr><td>Toys</td><td>Kids</td><td>Books</td><td>Entertainment</td></tr><tr><td>Toys</td><td>Kids</td><td>Shoes</td><td>Home</td></tr><tr><td>Toys</td><td>Kids</td><td>Grocery</td><td>Home</td></tr><tr><td>Toys</td><td>Kids</td><td>Beauty</td><td>Home</td></tr><tr><td>Toys</td><td>Kids</td><td>Clothing</td><td>Home</td></tr><tr><td>Toys</td><td>Kids</td><td>Games</td><td>Kids</td></tr><tr><td>Toys</td><td>Kids</td><td>Music</td><td>Entertainment</td></tr><tr><td>Toys</td><td>Kids</td><td>Garden</td><td>Outdoors</td></tr><tr><td>Toys</td><td>Kids</td><td>Jewelery</td><td>Home</td></tr><tr><td>Toys</td><td>Kids</td><td>Toys</td><td>Kids</td></tr><tr><td>Toys</td><td>Kids</td><td>Movies</td><td>Entertainment</td></tr><tr><td>Movies</td><td>Entertainment</td><td>Computers</td><td>Electronics</td></tr><tr><td>Movies</td><td>Entertainment</td><td>Automotive</td><td>Hardware</td></tr><tr><td>Movies</td><td>Entertainment</td><td>Books</td><td>Entertainment</td></tr><tr><td>Movies</td><td>Entertainment</td><td>Shoes</td><td>Home</td></tr><tr><td>Movies</td><td>Entertainment</td><td>Grocery</td><td>Home</td></tr><tr><td>Movies</td><td>Entertainment</td><td>Beauty</td><td>Home</td></tr><tr><td>Movies</td><td>Entertainment</td><td>Clothing</td><td>Home</td></tr><tr><td>Movies</td><td>Entertainment</td><td>Games</td><td>Kids</td></tr><tr><td>Movies</td><td>Entertainment</td><td>Music</td><td>Entertainment</td></tr><tr><td>Movies</td><td>Entertainment</td><td>Garden</td><td>Outdoors</td></tr><tr><td>Movies</td><td>Entertainment</td><td>Jewelery</td><td>Home</td></tr><tr><td>Movies</td><td>Entertainment</td><td>Toys</td><td>Kids</td></tr><tr><td>Movies</td><td>Entertainment</td><td>Movies</td><td>Entertainment</td></tr></table>"
                    }
                }
            ],
            "execution_count": 20
        },
        {
            "cell_type": "code",
            "source": "SELECT first_name, department, \n(SELECT COUNT(*) FROM employees e1 WHERE e1.department = e.department)\nFROM employees e\nORDER BY department LIMIT 10;",
            "metadata": {},
            "outputs": [
                {
                    "output_type": "display_data",
                    "data": {
                        "text/html": "(10 row(s) affected)"
                    },
                    "metadata": {}
                },
                {
                    "output_type": "display_data",
                    "data": {
                        "text/html": "Total execution time: 0:00:00.015815"
                    },
                    "metadata": {}
                },
                {
                    "output_type": "execute_result",
                    "metadata": {},
                    "execution_count": 23,
                    "data": {
                        "application/vnd.dataresource+json": {
                            "schema": {
                                "fields": [
                                    {
                                        "name": "first_name"
                                    },
                                    {
                                        "name": "department"
                                    },
                                    {
                                        "name": "count"
                                    }
                                ]
                            },
                            "data": [
                                {
                                    "0": "Perry",
                                    "1": "Automotive",
                                    "2": "43"
                                },
                                {
                                    "0": "Herby",
                                    "1": "Automotive",
                                    "2": "43"
                                },
                                {
                                    "0": "Mata",
                                    "1": "Automotive",
                                    "2": "43"
                                },
                                {
                                    "0": "Walther",
                                    "1": "Automotive",
                                    "2": "43"
                                },
                                {
                                    "0": "Abe",
                                    "1": "Automotive",
                                    "2": "43"
                                },
                                {
                                    "0": "Elysia",
                                    "1": "Automotive",
                                    "2": "43"
                                },
                                {
                                    "0": "Amery",
                                    "1": "Automotive",
                                    "2": "43"
                                },
                                {
                                    "0": "Colver",
                                    "1": "Automotive",
                                    "2": "43"
                                },
                                {
                                    "0": "Lynn",
                                    "1": "Automotive",
                                    "2": "43"
                                },
                                {
                                    "0": "Celisse",
                                    "1": "Automotive",
                                    "2": "43"
                                }
                            ]
                        },
                        "text/html": "<table><tr><th>first_name</th><th>department</th><th>count</th></tr><tr><td>Perry</td><td>Automotive</td><td>43</td></tr><tr><td>Herby</td><td>Automotive</td><td>43</td></tr><tr><td>Mata</td><td>Automotive</td><td>43</td></tr><tr><td>Walther</td><td>Automotive</td><td>43</td></tr><tr><td>Abe</td><td>Automotive</td><td>43</td></tr><tr><td>Elysia</td><td>Automotive</td><td>43</td></tr><tr><td>Amery</td><td>Automotive</td><td>43</td></tr><tr><td>Colver</td><td>Automotive</td><td>43</td></tr><tr><td>Lynn</td><td>Automotive</td><td>43</td></tr><tr><td>Celisse</td><td>Automotive</td><td>43</td></tr></table>"
                    }
                }
            ],
            "execution_count": 23
        },
        {
            "cell_type": "code",
            "source": "SELECT first_name, department, \nCOUNT(*) OVER(PARTITION BY department)\nFROM employees e LIMIT 10;",
            "metadata": {},
            "outputs": [
                {
                    "output_type": "display_data",
                    "data": {
                        "text/html": "(10 row(s) affected)"
                    },
                    "metadata": {}
                },
                {
                    "output_type": "display_data",
                    "data": {
                        "text/html": "Total execution time: 0:00:00.016392"
                    },
                    "metadata": {}
                },
                {
                    "output_type": "execute_result",
                    "metadata": {},
                    "execution_count": 24,
                    "data": {
                        "application/vnd.dataresource+json": {
                            "schema": {
                                "fields": [
                                    {
                                        "name": "first_name"
                                    },
                                    {
                                        "name": "department"
                                    },
                                    {
                                        "name": "count"
                                    }
                                ]
                            },
                            "data": [
                                {
                                    "0": "Clerkclaude",
                                    "1": "Automotive",
                                    "2": "43"
                                },
                                {
                                    "0": "Herby",
                                    "1": "Automotive",
                                    "2": "43"
                                },
                                {
                                    "0": "Renato",
                                    "1": "Automotive",
                                    "2": "43"
                                },
                                {
                                    "0": "Celisse",
                                    "1": "Automotive",
                                    "2": "43"
                                },
                                {
                                    "0": "Brice",
                                    "1": "Automotive",
                                    "2": "43"
                                },
                                {
                                    "0": "Kim",
                                    "1": "Automotive",
                                    "2": "43"
                                },
                                {
                                    "0": "Mata",
                                    "1": "Automotive",
                                    "2": "43"
                                },
                                {
                                    "0": "Lurleen",
                                    "1": "Automotive",
                                    "2": "43"
                                },
                                {
                                    "0": "Corrie",
                                    "1": "Automotive",
                                    "2": "43"
                                },
                                {
                                    "0": "Shirlene",
                                    "1": "Automotive",
                                    "2": "43"
                                }
                            ]
                        },
                        "text/html": "<table><tr><th>first_name</th><th>department</th><th>count</th></tr><tr><td>Clerkclaude</td><td>Automotive</td><td>43</td></tr><tr><td>Herby</td><td>Automotive</td><td>43</td></tr><tr><td>Renato</td><td>Automotive</td><td>43</td></tr><tr><td>Celisse</td><td>Automotive</td><td>43</td></tr><tr><td>Brice</td><td>Automotive</td><td>43</td></tr><tr><td>Kim</td><td>Automotive</td><td>43</td></tr><tr><td>Mata</td><td>Automotive</td><td>43</td></tr><tr><td>Lurleen</td><td>Automotive</td><td>43</td></tr><tr><td>Corrie</td><td>Automotive</td><td>43</td></tr><tr><td>Shirlene</td><td>Automotive</td><td>43</td></tr></table>"
                    }
                }
            ],
            "execution_count": 24
        },
        {
            "cell_type": "code",
            "source": "SELECT first_name, department, \nCOUNT(*) OVER()\nFROM employees e WHERE region_id=3 LIMIT 10;",
            "metadata": {},
            "outputs": [
                {
                    "output_type": "display_data",
                    "data": {
                        "text/html": "(10 row(s) affected)"
                    },
                    "metadata": {}
                },
                {
                    "output_type": "display_data",
                    "data": {
                        "text/html": "Total execution time: 0:00:00.009728"
                    },
                    "metadata": {}
                },
                {
                    "output_type": "execute_result",
                    "metadata": {},
                    "execution_count": 25,
                    "data": {
                        "application/vnd.dataresource+json": {
                            "schema": {
                                "fields": [
                                    {
                                        "name": "first_name"
                                    },
                                    {
                                        "name": "department"
                                    },
                                    {
                                        "name": "count"
                                    }
                                ]
                            },
                            "data": [
                                {
                                    "0": "Muire",
                                    "1": "Beauty",
                                    "2": "71"
                                },
                                {
                                    "0": "Pieter",
                                    "1": "Toys",
                                    "2": "71"
                                },
                                {
                                    "0": "Rory",
                                    "1": "Computers",
                                    "2": "71"
                                },
                                {
                                    "0": "Mitchael",
                                    "1": "Music",
                                    "2": "71"
                                },
                                {
                                    "0": "Kimberlee",
                                    "1": "Grocery",
                                    "2": "71"
                                },
                                {
                                    "0": "Anthea",
                                    "1": "Books",
                                    "2": "71"
                                },
                                {
                                    "0": "Becki",
                                    "1": "Jewelery",
                                    "2": "71"
                                },
                                {
                                    "0": "Paten",
                                    "1": "Computers",
                                    "2": "71"
                                },
                                {
                                    "0": "Allene",
                                    "1": "Jewelery",
                                    "2": "71"
                                },
                                {
                                    "0": "Herby",
                                    "1": "Automotive",
                                    "2": "71"
                                }
                            ]
                        },
                        "text/html": "<table><tr><th>first_name</th><th>department</th><th>count</th></tr><tr><td>Muire</td><td>Beauty</td><td>71</td></tr><tr><td>Pieter</td><td>Toys</td><td>71</td></tr><tr><td>Rory</td><td>Computers</td><td>71</td></tr><tr><td>Mitchael</td><td>Music</td><td>71</td></tr><tr><td>Kimberlee</td><td>Grocery</td><td>71</td></tr><tr><td>Anthea</td><td>Books</td><td>71</td></tr><tr><td>Becki</td><td>Jewelery</td><td>71</td></tr><tr><td>Paten</td><td>Computers</td><td>71</td></tr><tr><td>Allene</td><td>Jewelery</td><td>71</td></tr><tr><td>Herby</td><td>Automotive</td><td>71</td></tr></table>"
                    }
                }
            ],
            "execution_count": 25
        },
        {
            "cell_type": "code",
            "source": "SELECT first_name, hire_date, salary,\nSUM(salary) OVER(\n    ORDER BY hire_date RANGE BETWEEN UNBOUNDED PRECEDING AND CURRENT ROW\n) AS running_total\nFROM employees LIMIT 10;",
            "metadata": {},
            "outputs": [
                {
                    "output_type": "display_data",
                    "data": {
                        "text/html": "(10 row(s) affected)"
                    },
                    "metadata": {}
                },
                {
                    "output_type": "display_data",
                    "data": {
                        "text/html": "Total execution time: 0:00:00.006324"
                    },
                    "metadata": {}
                },
                {
                    "output_type": "execute_result",
                    "metadata": {},
                    "execution_count": 27,
                    "data": {
                        "application/vnd.dataresource+json": {
                            "schema": {
                                "fields": [
                                    {
                                        "name": "first_name"
                                    },
                                    {
                                        "name": "hire_date"
                                    },
                                    {
                                        "name": "salary"
                                    },
                                    {
                                        "name": "running_total"
                                    }
                                ]
                            },
                            "data": [
                                {
                                    "0": "Fleur",
                                    "1": "2010-11-04",
                                    "2": "353619.85",
                                    "3": "353619.85"
                                },
                                {
                                    "0": "Elene",
                                    "1": "2010-11-06",
                                    "2": "315356.50",
                                    "3": "668976.35"
                                },
                                {
                                    "0": "Bary",
                                    "1": "2010-11-11",
                                    "2": "65854.25",
                                    "3": "734830.60"
                                },
                                {
                                    "0": "Emmerich",
                                    "1": "2010-11-23",
                                    "2": "856849.91",
                                    "3": "1591680.51"
                                },
                                {
                                    "0": "Benedicto",
                                    "1": "2010-12-01",
                                    "2": "700440.62",
                                    "3": "2292121.13"
                                },
                                {
                                    "0": "Reinhold",
                                    "1": "2010-12-03",
                                    "2": "739016.29",
                                    "3": "3031137.42"
                                },
                                {
                                    "0": "Wright",
                                    "1": "2010-12-08",
                                    "2": "252575.64",
                                    "3": "3283713.06"
                                },
                                {
                                    "0": "Rebecca",
                                    "1": "2010-12-09",
                                    "2": "787375.58",
                                    "3": "4071088.64"
                                },
                                {
                                    "0": "Natalee",
                                    "1": "2010-12-11",
                                    "2": "795147.67",
                                    "3": "4866236.31"
                                },
                                {
                                    "0": "Bron",
                                    "1": "2010-12-26",
                                    "2": "846884.83",
                                    "3": "5713121.14"
                                }
                            ]
                        },
                        "text/html": "<table><tr><th>first_name</th><th>hire_date</th><th>salary</th><th>running_total</th></tr><tr><td>Fleur</td><td>2010-11-04</td><td>353619.85</td><td>353619.85</td></tr><tr><td>Elene</td><td>2010-11-06</td><td>315356.50</td><td>668976.35</td></tr><tr><td>Bary</td><td>2010-11-11</td><td>65854.25</td><td>734830.60</td></tr><tr><td>Emmerich</td><td>2010-11-23</td><td>856849.91</td><td>1591680.51</td></tr><tr><td>Benedicto</td><td>2010-12-01</td><td>700440.62</td><td>2292121.13</td></tr><tr><td>Reinhold</td><td>2010-12-03</td><td>739016.29</td><td>3031137.42</td></tr><tr><td>Wright</td><td>2010-12-08</td><td>252575.64</td><td>3283713.06</td></tr><tr><td>Rebecca</td><td>2010-12-09</td><td>787375.58</td><td>4071088.64</td></tr><tr><td>Natalee</td><td>2010-12-11</td><td>795147.67</td><td>4866236.31</td></tr><tr><td>Bron</td><td>2010-12-26</td><td>846884.83</td><td>5713121.14</td></tr></table>"
                    }
                }
            ],
            "execution_count": 27
        },
        {
            "cell_type": "code",
            "source": "SELECT first_name, hire_date, salary,\nSUM(salary) OVER(ORDER BY hire_date) AS running_total\nFROM employees LIMIT 10;",
            "metadata": {},
            "outputs": [
                {
                    "output_type": "display_data",
                    "data": {
                        "text/html": "(10 row(s) affected)"
                    },
                    "metadata": {}
                },
                {
                    "output_type": "display_data",
                    "data": {
                        "text/html": "Total execution time: 0:00:00.007523"
                    },
                    "metadata": {}
                },
                {
                    "output_type": "execute_result",
                    "metadata": {},
                    "execution_count": 28,
                    "data": {
                        "application/vnd.dataresource+json": {
                            "schema": {
                                "fields": [
                                    {
                                        "name": "first_name"
                                    },
                                    {
                                        "name": "hire_date"
                                    },
                                    {
                                        "name": "salary"
                                    },
                                    {
                                        "name": "running_total"
                                    }
                                ]
                            },
                            "data": [
                                {
                                    "0": "Fleur",
                                    "1": "2010-11-04",
                                    "2": "353619.85",
                                    "3": "353619.85"
                                },
                                {
                                    "0": "Elene",
                                    "1": "2010-11-06",
                                    "2": "315356.50",
                                    "3": "668976.35"
                                },
                                {
                                    "0": "Bary",
                                    "1": "2010-11-11",
                                    "2": "65854.25",
                                    "3": "734830.60"
                                },
                                {
                                    "0": "Emmerich",
                                    "1": "2010-11-23",
                                    "2": "856849.91",
                                    "3": "1591680.51"
                                },
                                {
                                    "0": "Benedicto",
                                    "1": "2010-12-01",
                                    "2": "700440.62",
                                    "3": "2292121.13"
                                },
                                {
                                    "0": "Reinhold",
                                    "1": "2010-12-03",
                                    "2": "739016.29",
                                    "3": "3031137.42"
                                },
                                {
                                    "0": "Wright",
                                    "1": "2010-12-08",
                                    "2": "252575.64",
                                    "3": "3283713.06"
                                },
                                {
                                    "0": "Rebecca",
                                    "1": "2010-12-09",
                                    "2": "787375.58",
                                    "3": "4071088.64"
                                },
                                {
                                    "0": "Natalee",
                                    "1": "2010-12-11",
                                    "2": "795147.67",
                                    "3": "4866236.31"
                                },
                                {
                                    "0": "Bron",
                                    "1": "2010-12-26",
                                    "2": "846884.83",
                                    "3": "5713121.14"
                                }
                            ]
                        },
                        "text/html": "<table><tr><th>first_name</th><th>hire_date</th><th>salary</th><th>running_total</th></tr><tr><td>Fleur</td><td>2010-11-04</td><td>353619.85</td><td>353619.85</td></tr><tr><td>Elene</td><td>2010-11-06</td><td>315356.50</td><td>668976.35</td></tr><tr><td>Bary</td><td>2010-11-11</td><td>65854.25</td><td>734830.60</td></tr><tr><td>Emmerich</td><td>2010-11-23</td><td>856849.91</td><td>1591680.51</td></tr><tr><td>Benedicto</td><td>2010-12-01</td><td>700440.62</td><td>2292121.13</td></tr><tr><td>Reinhold</td><td>2010-12-03</td><td>739016.29</td><td>3031137.42</td></tr><tr><td>Wright</td><td>2010-12-08</td><td>252575.64</td><td>3283713.06</td></tr><tr><td>Rebecca</td><td>2010-12-09</td><td>787375.58</td><td>4071088.64</td></tr><tr><td>Natalee</td><td>2010-12-11</td><td>795147.67</td><td>4866236.31</td></tr><tr><td>Bron</td><td>2010-12-26</td><td>846884.83</td><td>5713121.14</td></tr></table>"
                    }
                }
            ],
            "execution_count": 28
        },
        {
            "cell_type": "code",
            "source": "SELECT first_name, hire_date, salary, department,\nSUM(salary) OVER(PARTITION BY department ORDER BY hire_date) AS running_total\nFROM employees LIMIT 100;",
            "metadata": {},
            "outputs": [
                {
                    "output_type": "display_data",
                    "data": {
                        "text/html": "(100 row(s) affected)"
                    },
                    "metadata": {}
                },
                {
                    "output_type": "display_data",
                    "data": {
                        "text/html": "Total execution time: 0:00:00.022478"
                    },
                    "metadata": {}
                },
                {
                    "output_type": "execute_result",
                    "metadata": {},
                    "execution_count": 30,
                    "data": {
                        "application/vnd.dataresource+json": {
                            "schema": {
                                "fields": [
                                    {
                                        "name": "first_name"
                                    },
                                    {
                                        "name": "hire_date"
                                    },
                                    {
                                        "name": "salary"
                                    },
                                    {
                                        "name": "department"
                                    },
                                    {
                                        "name": "running_total"
                                    }
                                ]
                            },
                            "data": [
                                {
                                    "0": "Abe",
                                    "1": "2011-03-05",
                                    "2": "33973.88",
                                    "3": "Automotive",
                                    "4": "33973.88"
                                },
                                {
                                    "0": "Rollin",
                                    "1": "2011-03-09",
                                    "2": "679293.30",
                                    "3": "Automotive",
                                    "4": "713267.18"
                                },
                                {
                                    "0": "Fidela",
                                    "1": "2011-05-25",
                                    "2": "169307.55",
                                    "3": "Automotive",
                                    "4": "882574.73"
                                },
                                {
                                    "0": "Lottie",
                                    "1": "2011-09-12",
                                    "2": "604584.00",
                                    "3": "Automotive",
                                    "4": "1487158.73"
                                },
                                {
                                    "0": "Kim",
                                    "1": "2011-10-20",
                                    "2": "243947.31",
                                    "3": "Automotive",
                                    "4": "1731106.04"
                                },
                                {
                                    "0": "Elga",
                                    "1": "2011-12-04",
                                    "2": "21395.65",
                                    "3": "Automotive",
                                    "4": "1752501.69"
                                },
                                {
                                    "0": "Perry",
                                    "1": "2012-05-27",
                                    "2": "257156.66",
                                    "3": "Automotive",
                                    "4": "2009658.35"
                                },
                                {
                                    "0": "Lynn",
                                    "1": "2012-06-19",
                                    "2": "701645.90",
                                    "3": "Automotive",
                                    "4": "2711304.25"
                                },
                                {
                                    "0": "Veradis",
                                    "1": "2012-07-17",
                                    "2": "784811.83",
                                    "3": "Automotive",
                                    "4": "3496116.08"
                                },
                                {
                                    "0": "Heywood",
                                    "1": "2012-08-25",
                                    "2": "604905.13",
                                    "3": "Automotive",
                                    "4": "4101021.21"
                                },
                                {
                                    "0": "Terencio",
                                    "1": "2013-01-09",
                                    "2": "497590.52",
                                    "3": "Automotive",
                                    "4": "4598611.73"
                                },
                                {
                                    "0": "Asa",
                                    "1": "2013-10-29",
                                    "2": "416037.09",
                                    "3": "Automotive",
                                    "4": "5014648.82"
                                },
                                {
                                    "0": "Arnie",
                                    "1": "2013-11-04",
                                    "2": "13182.30",
                                    "3": "Automotive",
                                    "4": "5027831.12"
                                },
                                {
                                    "0": "Oralee",
                                    "1": "2013-11-25",
                                    "2": "96782.86",
                                    "3": "Automotive",
                                    "4": "5124613.98"
                                },
                                {
                                    "0": "Mata",
                                    "1": "2013-12-07",
                                    "2": "891362.71",
                                    "3": "Automotive",
                                    "4": "6015976.69"
                                },
                                {
                                    "0": "Hank",
                                    "1": "2014-07-21",
                                    "2": "269600.56",
                                    "3": "Automotive",
                                    "4": "6285577.25"
                                },
                                {
                                    "0": "Ricki",
                                    "1": "2014-09-03",
                                    "2": "422788.58",
                                    "3": "Automotive",
                                    "4": "6708365.83"
                                },
                                {
                                    "0": "Amery",
                                    "1": "2014-12-14",
                                    "2": "212631.05",
                                    "3": "Automotive",
                                    "4": "6920996.88"
                                },
                                {
                                    "0": "Corrie",
                                    "1": "2015-03-06",
                                    "2": "270740.69",
                                    "3": "Automotive",
                                    "4": "7191737.57"
                                },
                                {
                                    "0": "Shirlene",
                                    "1": "2015-05-15",
                                    "2": "215463.72",
                                    "3": "Automotive",
                                    "4": "7407201.29"
                                },
                                {
                                    "0": "Amble",
                                    "1": "2015-06-01",
                                    "2": "233479.16",
                                    "3": "Automotive",
                                    "4": "7640680.45"
                                },
                                {
                                    "0": "Nesta",
                                    "1": "2015-07-21",
                                    "2": "233772.20",
                                    "3": "Automotive",
                                    "4": "7874452.65"
                                },
                                {
                                    "0": "Celisse",
                                    "1": "2015-08-01",
                                    "2": "115252.89",
                                    "3": "Automotive",
                                    "4": "7989705.54"
                                },
                                {
                                    "0": "Melva",
                                    "1": "2015-12-07",
                                    "2": "239110.18",
                                    "3": "Automotive",
                                    "4": "8228815.72"
                                },
                                {
                                    "0": "Clerkclaude",
                                    "1": "2016-02-11",
                                    "2": "14496.80",
                                    "3": "Automotive",
                                    "4": "8243312.52"
                                },
                                {
                                    "0": "Juan",
                                    "1": "2016-03-05",
                                    "2": "843209.15",
                                    "3": "Automotive",
                                    "4": "9086521.67"
                                },
                                {
                                    "0": "Colver",
                                    "1": "2016-04-22",
                                    "2": "204187.08",
                                    "3": "Automotive",
                                    "4": "9290708.75"
                                },
                                {
                                    "0": "Elysia",
                                    "1": "2016-05-05",
                                    "2": "829374.92",
                                    "3": "Automotive",
                                    "4": "10120083.67"
                                },
                                {
                                    "0": "Renato",
                                    "1": "2016-05-13",
                                    "2": "355547.30",
                                    "3": "Automotive",
                                    "4": "10475630.97"
                                },
                                {
                                    "0": "Madison",
                                    "1": "2016-07-27",
                                    "2": "545428.64",
                                    "3": "Automotive",
                                    "4": "11021059.61"
                                },
                                {
                                    "0": "Julian",
                                    "1": "2017-02-09",
                                    "2": "248206.97",
                                    "3": "Automotive",
                                    "4": "11269266.58"
                                },
                                {
                                    "0": "Mario",
                                    "1": "2017-05-08",
                                    "2": "24976.38",
                                    "3": "Automotive",
                                    "4": "11294242.96"
                                },
                                {
                                    "0": "Brice",
                                    "1": "2017-10-18",
                                    "2": "44530.58",
                                    "3": "Automotive",
                                    "4": "11338773.54"
                                },
                                {
                                    "0": "Kara",
                                    "1": "2017-10-22",
                                    "2": "840806.70",
                                    "3": "Automotive",
                                    "4": "12179580.24"
                                },
                                {
                                    "0": "Maximilien",
                                    "1": "2017-10-30",
                                    "2": "373083.37",
                                    "3": "Automotive",
                                    "4": "12552663.61"
                                },
                                {
                                    "0": "Brier",
                                    "1": "2017-11-26",
                                    "2": "888354.50",
                                    "3": "Automotive",
                                    "4": "13441018.11"
                                },
                                {
                                    "0": "Herby",
                                    "1": "2017-12-03",
                                    "2": "305766.16",
                                    "3": "Automotive",
                                    "4": "13746784.27"
                                },
                                {
                                    "0": "Delphinia",
                                    "1": "2017-12-29",
                                    "2": "547618.32",
                                    "3": "Automotive",
                                    "4": "14294402.59"
                                },
                                {
                                    "0": "Tildy",
                                    "1": "2018-09-04",
                                    "2": "142691.84",
                                    "3": "Automotive",
                                    "4": "14437094.43"
                                },
                                {
                                    "0": "Emerson",
                                    "1": "2018-09-27",
                                    "2": "590657.62",
                                    "3": "Automotive",
                                    "4": "15027752.05"
                                },
                                {
                                    "0": "Issiah",
                                    "1": "2018-10-26",
                                    "2": "610116.00",
                                    "3": "Automotive",
                                    "4": "15637868.05"
                                },
                                {
                                    "0": "Walther",
                                    "1": "2019-01-15",
                                    "2": "325144.69",
                                    "3": "Automotive",
                                    "4": "15963012.74"
                                },
                                {
                                    "0": "Lurleen",
                                    "1": "2019-03-31",
                                    "2": "359205.59",
                                    "3": "Automotive",
                                    "4": "16322218.33"
                                },
                                {
                                    "0": "Kristofer",
                                    "1": "2011-02-10",
                                    "2": "266426.00",
                                    "3": "Beauty",
                                    "4": "266426.00"
                                },
                                {
                                    "0": "Charlton",
                                    "1": "2011-08-10",
                                    "2": "630298.62",
                                    "3": "Beauty",
                                    "4": "896724.62"
                                },
                                {
                                    "0": "Thomasine",
                                    "1": "2011-11-15",
                                    "2": "396458.62",
                                    "3": "Beauty",
                                    "4": "1293183.24"
                                },
                                {
                                    "0": "Mahala",
                                    "1": "2011-12-11",
                                    "2": "198354.91",
                                    "3": "Beauty",
                                    "4": "1491538.15"
                                },
                                {
                                    "0": "Charles",
                                    "1": "2012-02-12",
                                    "2": "674081.49",
                                    "3": "Beauty",
                                    "4": "2165619.64"
                                },
                                {
                                    "0": "Hastie",
                                    "1": "2012-03-08",
                                    "2": "635462.74",
                                    "3": "Beauty",
                                    "4": "2801082.38"
                                },
                                {
                                    "0": "Hollie",
                                    "1": "2012-05-07",
                                    "2": "587429.18",
                                    "3": "Beauty",
                                    "4": "3388511.56"
                                },
                                {
                                    "0": "Arron",
                                    "1": "2012-12-20",
                                    "2": "646721.95",
                                    "3": "Beauty",
                                    "4": "4035233.51"
                                },
                                {
                                    "0": "Tedie",
                                    "1": "2013-04-07",
                                    "2": "119119.34",
                                    "3": "Beauty",
                                    "4": "4154352.85"
                                },
                                {
                                    "0": "Shaylah",
                                    "1": "2013-05-27",
                                    "2": "424597.45",
                                    "3": "Beauty",
                                    "4": "4578950.30"
                                },
                                {
                                    "0": "Tom",
                                    "1": "2013-05-31",
                                    "2": "883376.00",
                                    "3": "Beauty",
                                    "4": "5462326.30"
                                },
                                {
                                    "0": "Garvy",
                                    "1": "2013-10-08",
                                    "2": "558526.37",
                                    "3": "Beauty",
                                    "4": "6020852.67"
                                },
                                {
                                    "0": "Rod",
                                    "1": "2013-12-24",
                                    "2": "382119.66",
                                    "3": "Beauty",
                                    "4": "6402972.33"
                                },
                                {
                                    "0": "Rachel",
                                    "1": "2014-01-21",
                                    "2": "15189.47",
                                    "3": "Beauty",
                                    "4": "6418161.80"
                                },
                                {
                                    "0": "Florry",
                                    "1": "2014-11-06",
                                    "2": "488724.77",
                                    "3": "Beauty",
                                    "4": "6906886.57"
                                },
                                {
                                    "0": "Gerry",
                                    "1": "2014-12-11",
                                    "2": "465919.05",
                                    "3": "Beauty",
                                    "4": "7372805.62"
                                },
                                {
                                    "0": "Marieann",
                                    "1": "2015-06-12",
                                    "2": "151321.74",
                                    "3": "Beauty",
                                    "4": "7524127.36"
                                },
                                {
                                    "0": "Denny",
                                    "1": "2015-06-16",
                                    "2": "213625.82",
                                    "3": "Beauty",
                                    "4": "7737753.18"
                                },
                                {
                                    "0": "Letisha",
                                    "1": "2015-08-11",
                                    "2": "425552.65",
                                    "3": "Beauty",
                                    "4": "8163305.83"
                                },
                                {
                                    "0": "Donnie",
                                    "1": "2016-02-07",
                                    "2": "111954.02",
                                    "3": "Beauty",
                                    "4": "8275259.85"
                                },
                                {
                                    "0": "Benedict",
                                    "1": "2016-05-12",
                                    "2": "319277.50",
                                    "3": "Beauty",
                                    "4": "8594537.35"
                                },
                                {
                                    "0": "Kath",
                                    "1": "2016-05-14",
                                    "2": "558488.54",
                                    "3": "Beauty",
                                    "4": "9153025.89"
                                },
                                {
                                    "0": "Sloane",
                                    "1": "2016-06-22",
                                    "2": "86160.67",
                                    "3": "Beauty",
                                    "4": "9239186.56"
                                },
                                {
                                    "0": "Pamella",
                                    "1": "2016-09-01",
                                    "2": "758483.94",
                                    "3": "Beauty",
                                    "4": "9997670.50"
                                },
                                {
                                    "0": "Kipper",
                                    "1": "2016-11-11",
                                    "2": "546927.85",
                                    "3": "Beauty",
                                    "4": "10544598.35"
                                },
                                {
                                    "0": "Muire",
                                    "1": "2017-03-09",
                                    "2": "274068.20",
                                    "3": "Beauty",
                                    "4": "10818666.55"
                                },
                                {
                                    "0": "Ainslee",
                                    "1": "2017-04-08",
                                    "2": "656114.00",
                                    "3": "Beauty",
                                    "4": "11474780.55"
                                },
                                {
                                    "0": "Nichol",
                                    "1": "2017-08-20",
                                    "2": "851247.94",
                                    "3": "Beauty",
                                    "4": "12326028.49"
                                },
                                {
                                    "0": "Bennie",
                                    "1": "2017-11-15",
                                    "2": "353065.88",
                                    "3": "Beauty",
                                    "4": "12679094.37"
                                },
                                {
                                    "0": "Warde",
                                    "1": "2018-03-22",
                                    "2": "882712.00",
                                    "3": "Beauty",
                                    "4": "13561806.37"
                                },
                                {
                                    "0": "Lion",
                                    "1": "2018-05-27",
                                    "2": "95853.66",
                                    "3": "Beauty",
                                    "4": "13657660.03"
                                },
                                {
                                    "0": "Joleen",
                                    "1": "2018-06-30",
                                    "2": "420623.10",
                                    "3": "Beauty",
                                    "4": "14078283.13"
                                },
                                {
                                    "0": "Minnaminnie",
                                    "1": "2018-10-10",
                                    "2": "540984.44",
                                    "3": "Beauty",
                                    "4": "14619267.57"
                                },
                                {
                                    "0": "Loraine",
                                    "1": "2019-03-23",
                                    "2": "281916.44",
                                    "3": "Beauty",
                                    "4": "14901184.01"
                                },
                                {
                                    "0": "Gertrud",
                                    "1": "2011-07-11",
                                    "2": "869020.65",
                                    "3": "Books",
                                    "4": "869020.65"
                                },
                                {
                                    "0": "Cynthia",
                                    "1": "2011-07-24",
                                    "2": "868991.54",
                                    "3": "Books",
                                    "4": "1738012.19"
                                },
                                {
                                    "0": "Robbert",
                                    "1": "2011-08-22",
                                    "2": "64250.29",
                                    "3": "Books",
                                    "4": "1802262.48"
                                },
                                {
                                    "0": "Claudette",
                                    "1": "2011-10-29",
                                    "2": "426077.04",
                                    "3": "Books",
                                    "4": "2228339.52"
                                },
                                {
                                    "0": "Temple",
                                    "1": "2011-11-25",
                                    "2": "754250.17",
                                    "3": "Books",
                                    "4": "2982589.69"
                                },
                                {
                                    "0": "Krispin",
                                    "1": "2011-11-28",
                                    "2": "799403.21",
                                    "3": "Books",
                                    "4": "3781992.90"
                                },
                                {
                                    "0": "Gibbie",
                                    "1": "2012-01-10",
                                    "2": "412102.47",
                                    "3": "Books",
                                    "4": "4194095.37"
                                },
                                {
                                    "0": "Noble",
                                    "1": "2012-04-12",
                                    "2": "573624.98",
                                    "3": "Books",
                                    "4": "4767720.35"
                                },
                                {
                                    "0": "Micky",
                                    "1": "2012-06-01",
                                    "2": "186533.68",
                                    "3": "Books",
                                    "4": "4954254.03"
                                },
                                {
                                    "0": "Krishna",
                                    "1": "2012-06-28",
                                    "2": "97284.56",
                                    "3": "Books",
                                    "4": "5051538.59"
                                },
                                {
                                    "0": "Dex",
                                    "1": "2012-08-09",
                                    "2": "301902.26",
                                    "3": "Books",
                                    "4": "5353440.85"
                                },
                                {
                                    "0": "Kirbee",
                                    "1": "2012-09-10",
                                    "2": "172285.69",
                                    "3": "Books",
                                    "4": "5525726.54"
                                },
                                {
                                    "0": "Anthea",
                                    "1": "2012-10-09",
                                    "2": "112071.60",
                                    "3": "Books",
                                    "4": "5637798.14"
                                },
                                {
                                    "0": "Nora",
                                    "1": "2012-11-25",
                                    "2": "250316.23",
                                    "3": "Books",
                                    "4": "5888114.37"
                                },
                                {
                                    "0": "Bren",
                                    "1": "2012-11-26",
                                    "2": "649083.31",
                                    "3": "Books",
                                    "4": "6537197.68"
                                },
                                {
                                    "0": "Salomon",
                                    "1": "2013-01-12",
                                    "2": "233154.22",
                                    "3": "Books",
                                    "4": "6770351.90"
                                },
                                {
                                    "0": "Salaidh",
                                    "1": "2013-03-11",
                                    "2": "385279.85",
                                    "3": "Books",
                                    "4": "7155631.75"
                                },
                                {
                                    "0": "Jacky",
                                    "1": "2013-05-29",
                                    "2": "358322.97",
                                    "3": "Books",
                                    "4": "7513954.72"
                                },
                                {
                                    "0": "Lauree",
                                    "1": "2013-10-26",
                                    "2": "476288.96",
                                    "3": "Books",
                                    "4": "7990243.68"
                                },
                                {
                                    "0": "Arabele",
                                    "1": "2013-10-28",
                                    "2": "722198.30",
                                    "3": "Books",
                                    "4": "8712441.98"
                                },
                                {
                                    "0": "Jordan",
                                    "1": "2013-10-30",
                                    "2": "252839.92",
                                    "3": "Books",
                                    "4": "8965281.90"
                                },
                                {
                                    "0": "Odelle",
                                    "1": "2014-01-25",
                                    "2": "134302.87",
                                    "3": "Books",
                                    "4": "9099584.77"
                                },
                                {
                                    "0": "Harriot",
                                    "1": "2014-06-04",
                                    "2": "367740.00",
                                    "3": "Books",
                                    "4": "9467324.77"
                                }
                            ]
                        },
                        "text/html": "<table><tr><th>first_name</th><th>hire_date</th><th>salary</th><th>department</th><th>running_total</th></tr><tr><td>Abe</td><td>2011-03-05</td><td>33973.88</td><td>Automotive</td><td>33973.88</td></tr><tr><td>Rollin</td><td>2011-03-09</td><td>679293.30</td><td>Automotive</td><td>713267.18</td></tr><tr><td>Fidela</td><td>2011-05-25</td><td>169307.55</td><td>Automotive</td><td>882574.73</td></tr><tr><td>Lottie</td><td>2011-09-12</td><td>604584.00</td><td>Automotive</td><td>1487158.73</td></tr><tr><td>Kim</td><td>2011-10-20</td><td>243947.31</td><td>Automotive</td><td>1731106.04</td></tr><tr><td>Elga</td><td>2011-12-04</td><td>21395.65</td><td>Automotive</td><td>1752501.69</td></tr><tr><td>Perry</td><td>2012-05-27</td><td>257156.66</td><td>Automotive</td><td>2009658.35</td></tr><tr><td>Lynn</td><td>2012-06-19</td><td>701645.90</td><td>Automotive</td><td>2711304.25</td></tr><tr><td>Veradis</td><td>2012-07-17</td><td>784811.83</td><td>Automotive</td><td>3496116.08</td></tr><tr><td>Heywood</td><td>2012-08-25</td><td>604905.13</td><td>Automotive</td><td>4101021.21</td></tr><tr><td>Terencio</td><td>2013-01-09</td><td>497590.52</td><td>Automotive</td><td>4598611.73</td></tr><tr><td>Asa</td><td>2013-10-29</td><td>416037.09</td><td>Automotive</td><td>5014648.82</td></tr><tr><td>Arnie</td><td>2013-11-04</td><td>13182.30</td><td>Automotive</td><td>5027831.12</td></tr><tr><td>Oralee</td><td>2013-11-25</td><td>96782.86</td><td>Automotive</td><td>5124613.98</td></tr><tr><td>Mata</td><td>2013-12-07</td><td>891362.71</td><td>Automotive</td><td>6015976.69</td></tr><tr><td>Hank</td><td>2014-07-21</td><td>269600.56</td><td>Automotive</td><td>6285577.25</td></tr><tr><td>Ricki</td><td>2014-09-03</td><td>422788.58</td><td>Automotive</td><td>6708365.83</td></tr><tr><td>Amery</td><td>2014-12-14</td><td>212631.05</td><td>Automotive</td><td>6920996.88</td></tr><tr><td>Corrie</td><td>2015-03-06</td><td>270740.69</td><td>Automotive</td><td>7191737.57</td></tr><tr><td>Shirlene</td><td>2015-05-15</td><td>215463.72</td><td>Automotive</td><td>7407201.29</td></tr><tr><td>Amble</td><td>2015-06-01</td><td>233479.16</td><td>Automotive</td><td>7640680.45</td></tr><tr><td>Nesta</td><td>2015-07-21</td><td>233772.20</td><td>Automotive</td><td>7874452.65</td></tr><tr><td>Celisse</td><td>2015-08-01</td><td>115252.89</td><td>Automotive</td><td>7989705.54</td></tr><tr><td>Melva</td><td>2015-12-07</td><td>239110.18</td><td>Automotive</td><td>8228815.72</td></tr><tr><td>Clerkclaude</td><td>2016-02-11</td><td>14496.80</td><td>Automotive</td><td>8243312.52</td></tr><tr><td>Juan</td><td>2016-03-05</td><td>843209.15</td><td>Automotive</td><td>9086521.67</td></tr><tr><td>Colver</td><td>2016-04-22</td><td>204187.08</td><td>Automotive</td><td>9290708.75</td></tr><tr><td>Elysia</td><td>2016-05-05</td><td>829374.92</td><td>Automotive</td><td>10120083.67</td></tr><tr><td>Renato</td><td>2016-05-13</td><td>355547.30</td><td>Automotive</td><td>10475630.97</td></tr><tr><td>Madison</td><td>2016-07-27</td><td>545428.64</td><td>Automotive</td><td>11021059.61</td></tr><tr><td>Julian</td><td>2017-02-09</td><td>248206.97</td><td>Automotive</td><td>11269266.58</td></tr><tr><td>Mario</td><td>2017-05-08</td><td>24976.38</td><td>Automotive</td><td>11294242.96</td></tr><tr><td>Brice</td><td>2017-10-18</td><td>44530.58</td><td>Automotive</td><td>11338773.54</td></tr><tr><td>Kara</td><td>2017-10-22</td><td>840806.70</td><td>Automotive</td><td>12179580.24</td></tr><tr><td>Maximilien</td><td>2017-10-30</td><td>373083.37</td><td>Automotive</td><td>12552663.61</td></tr><tr><td>Brier</td><td>2017-11-26</td><td>888354.50</td><td>Automotive</td><td>13441018.11</td></tr><tr><td>Herby</td><td>2017-12-03</td><td>305766.16</td><td>Automotive</td><td>13746784.27</td></tr><tr><td>Delphinia</td><td>2017-12-29</td><td>547618.32</td><td>Automotive</td><td>14294402.59</td></tr><tr><td>Tildy</td><td>2018-09-04</td><td>142691.84</td><td>Automotive</td><td>14437094.43</td></tr><tr><td>Emerson</td><td>2018-09-27</td><td>590657.62</td><td>Automotive</td><td>15027752.05</td></tr><tr><td>Issiah</td><td>2018-10-26</td><td>610116.00</td><td>Automotive</td><td>15637868.05</td></tr><tr><td>Walther</td><td>2019-01-15</td><td>325144.69</td><td>Automotive</td><td>15963012.74</td></tr><tr><td>Lurleen</td><td>2019-03-31</td><td>359205.59</td><td>Automotive</td><td>16322218.33</td></tr><tr><td>Kristofer</td><td>2011-02-10</td><td>266426.00</td><td>Beauty</td><td>266426.00</td></tr><tr><td>Charlton</td><td>2011-08-10</td><td>630298.62</td><td>Beauty</td><td>896724.62</td></tr><tr><td>Thomasine</td><td>2011-11-15</td><td>396458.62</td><td>Beauty</td><td>1293183.24</td></tr><tr><td>Mahala</td><td>2011-12-11</td><td>198354.91</td><td>Beauty</td><td>1491538.15</td></tr><tr><td>Charles</td><td>2012-02-12</td><td>674081.49</td><td>Beauty</td><td>2165619.64</td></tr><tr><td>Hastie</td><td>2012-03-08</td><td>635462.74</td><td>Beauty</td><td>2801082.38</td></tr><tr><td>Hollie</td><td>2012-05-07</td><td>587429.18</td><td>Beauty</td><td>3388511.56</td></tr><tr><td>Arron</td><td>2012-12-20</td><td>646721.95</td><td>Beauty</td><td>4035233.51</td></tr><tr><td>Tedie</td><td>2013-04-07</td><td>119119.34</td><td>Beauty</td><td>4154352.85</td></tr><tr><td>Shaylah</td><td>2013-05-27</td><td>424597.45</td><td>Beauty</td><td>4578950.30</td></tr><tr><td>Tom</td><td>2013-05-31</td><td>883376.00</td><td>Beauty</td><td>5462326.30</td></tr><tr><td>Garvy</td><td>2013-10-08</td><td>558526.37</td><td>Beauty</td><td>6020852.67</td></tr><tr><td>Rod</td><td>2013-12-24</td><td>382119.66</td><td>Beauty</td><td>6402972.33</td></tr><tr><td>Rachel</td><td>2014-01-21</td><td>15189.47</td><td>Beauty</td><td>6418161.80</td></tr><tr><td>Florry</td><td>2014-11-06</td><td>488724.77</td><td>Beauty</td><td>6906886.57</td></tr><tr><td>Gerry</td><td>2014-12-11</td><td>465919.05</td><td>Beauty</td><td>7372805.62</td></tr><tr><td>Marieann</td><td>2015-06-12</td><td>151321.74</td><td>Beauty</td><td>7524127.36</td></tr><tr><td>Denny</td><td>2015-06-16</td><td>213625.82</td><td>Beauty</td><td>7737753.18</td></tr><tr><td>Letisha</td><td>2015-08-11</td><td>425552.65</td><td>Beauty</td><td>8163305.83</td></tr><tr><td>Donnie</td><td>2016-02-07</td><td>111954.02</td><td>Beauty</td><td>8275259.85</td></tr><tr><td>Benedict</td><td>2016-05-12</td><td>319277.50</td><td>Beauty</td><td>8594537.35</td></tr><tr><td>Kath</td><td>2016-05-14</td><td>558488.54</td><td>Beauty</td><td>9153025.89</td></tr><tr><td>Sloane</td><td>2016-06-22</td><td>86160.67</td><td>Beauty</td><td>9239186.56</td></tr><tr><td>Pamella</td><td>2016-09-01</td><td>758483.94</td><td>Beauty</td><td>9997670.50</td></tr><tr><td>Kipper</td><td>2016-11-11</td><td>546927.85</td><td>Beauty</td><td>10544598.35</td></tr><tr><td>Muire</td><td>2017-03-09</td><td>274068.20</td><td>Beauty</td><td>10818666.55</td></tr><tr><td>Ainslee</td><td>2017-04-08</td><td>656114.00</td><td>Beauty</td><td>11474780.55</td></tr><tr><td>Nichol</td><td>2017-08-20</td><td>851247.94</td><td>Beauty</td><td>12326028.49</td></tr><tr><td>Bennie</td><td>2017-11-15</td><td>353065.88</td><td>Beauty</td><td>12679094.37</td></tr><tr><td>Warde</td><td>2018-03-22</td><td>882712.00</td><td>Beauty</td><td>13561806.37</td></tr><tr><td>Lion</td><td>2018-05-27</td><td>95853.66</td><td>Beauty</td><td>13657660.03</td></tr><tr><td>Joleen</td><td>2018-06-30</td><td>420623.10</td><td>Beauty</td><td>14078283.13</td></tr><tr><td>Minnaminnie</td><td>2018-10-10</td><td>540984.44</td><td>Beauty</td><td>14619267.57</td></tr><tr><td>Loraine</td><td>2019-03-23</td><td>281916.44</td><td>Beauty</td><td>14901184.01</td></tr><tr><td>Gertrud</td><td>2011-07-11</td><td>869020.65</td><td>Books</td><td>869020.65</td></tr><tr><td>Cynthia</td><td>2011-07-24</td><td>868991.54</td><td>Books</td><td>1738012.19</td></tr><tr><td>Robbert</td><td>2011-08-22</td><td>64250.29</td><td>Books</td><td>1802262.48</td></tr><tr><td>Claudette</td><td>2011-10-29</td><td>426077.04</td><td>Books</td><td>2228339.52</td></tr><tr><td>Temple</td><td>2011-11-25</td><td>754250.17</td><td>Books</td><td>2982589.69</td></tr><tr><td>Krispin</td><td>2011-11-28</td><td>799403.21</td><td>Books</td><td>3781992.90</td></tr><tr><td>Gibbie</td><td>2012-01-10</td><td>412102.47</td><td>Books</td><td>4194095.37</td></tr><tr><td>Noble</td><td>2012-04-12</td><td>573624.98</td><td>Books</td><td>4767720.35</td></tr><tr><td>Micky</td><td>2012-06-01</td><td>186533.68</td><td>Books</td><td>4954254.03</td></tr><tr><td>Krishna</td><td>2012-06-28</td><td>97284.56</td><td>Books</td><td>5051538.59</td></tr><tr><td>Dex</td><td>2012-08-09</td><td>301902.26</td><td>Books</td><td>5353440.85</td></tr><tr><td>Kirbee</td><td>2012-09-10</td><td>172285.69</td><td>Books</td><td>5525726.54</td></tr><tr><td>Anthea</td><td>2012-10-09</td><td>112071.60</td><td>Books</td><td>5637798.14</td></tr><tr><td>Nora</td><td>2012-11-25</td><td>250316.23</td><td>Books</td><td>5888114.37</td></tr><tr><td>Bren</td><td>2012-11-26</td><td>649083.31</td><td>Books</td><td>6537197.68</td></tr><tr><td>Salomon</td><td>2013-01-12</td><td>233154.22</td><td>Books</td><td>6770351.90</td></tr><tr><td>Salaidh</td><td>2013-03-11</td><td>385279.85</td><td>Books</td><td>7155631.75</td></tr><tr><td>Jacky</td><td>2013-05-29</td><td>358322.97</td><td>Books</td><td>7513954.72</td></tr><tr><td>Lauree</td><td>2013-10-26</td><td>476288.96</td><td>Books</td><td>7990243.68</td></tr><tr><td>Arabele</td><td>2013-10-28</td><td>722198.30</td><td>Books</td><td>8712441.98</td></tr><tr><td>Jordan</td><td>2013-10-30</td><td>252839.92</td><td>Books</td><td>8965281.90</td></tr><tr><td>Odelle</td><td>2014-01-25</td><td>134302.87</td><td>Books</td><td>9099584.77</td></tr><tr><td>Harriot</td><td>2014-06-04</td><td>367740.00</td><td>Books</td><td>9467324.77</td></tr></table>"
                    }
                }
            ],
            "execution_count": 30
        },
        {
            "cell_type": "code",
            "source": "SELECT first_name, hire_date, salary, department,\nSUM(salary) OVER(\n    ORDER BY hire_date ROWS BETWEEN 1 PRECEDING AND CURRENT ROW\n) AS running_total\nFROM employees LIMIT 10;",
            "metadata": {},
            "outputs": [
                {
                    "output_type": "display_data",
                    "data": {
                        "text/html": "(10 row(s) affected)"
                    },
                    "metadata": {}
                },
                {
                    "output_type": "display_data",
                    "data": {
                        "text/html": "Total execution time: 0:00:00.013586"
                    },
                    "metadata": {}
                },
                {
                    "output_type": "execute_result",
                    "metadata": {},
                    "execution_count": 32,
                    "data": {
                        "application/vnd.dataresource+json": {
                            "schema": {
                                "fields": [
                                    {
                                        "name": "first_name"
                                    },
                                    {
                                        "name": "hire_date"
                                    },
                                    {
                                        "name": "salary"
                                    },
                                    {
                                        "name": "department"
                                    },
                                    {
                                        "name": "running_total"
                                    }
                                ]
                            },
                            "data": [
                                {
                                    "0": "Fleur",
                                    "1": "2010-11-04",
                                    "2": "353619.85",
                                    "3": "Music",
                                    "4": "353619.85"
                                },
                                {
                                    "0": "Elene",
                                    "1": "2010-11-06",
                                    "2": "315356.50",
                                    "3": "Toys",
                                    "4": "668976.35"
                                },
                                {
                                    "0": "Bary",
                                    "1": "2010-11-11",
                                    "2": "65854.25",
                                    "3": "Health",
                                    "4": "381210.75"
                                },
                                {
                                    "0": "Emmerich",
                                    "1": "2010-11-23",
                                    "2": "856849.91",
                                    "3": "Shoes",
                                    "4": "922704.16"
                                },
                                {
                                    "0": "Benedicto",
                                    "1": "2010-12-01",
                                    "2": "700440.62",
                                    "3": "Games",
                                    "4": "1557290.53"
                                },
                                {
                                    "0": "Reinhold",
                                    "1": "2010-12-03",
                                    "2": "739016.29",
                                    "3": "Toys",
                                    "4": "1439456.91"
                                },
                                {
                                    "0": "Wright",
                                    "1": "2010-12-08",
                                    "2": "252575.64",
                                    "3": "Garden",
                                    "4": "991591.93"
                                },
                                {
                                    "0": "Rebecca",
                                    "1": "2010-12-09",
                                    "2": "787375.58",
                                    "3": "Grocery",
                                    "4": "1039951.22"
                                },
                                {
                                    "0": "Natalee",
                                    "1": "2010-12-11",
                                    "2": "795147.67",
                                    "3": "Computers",
                                    "4": "1582523.25"
                                },
                                {
                                    "0": "Bron",
                                    "1": "2010-12-26",
                                    "2": "846884.83",
                                    "3": "Toys",
                                    "4": "1642032.50"
                                }
                            ]
                        },
                        "text/html": "<table><tr><th>first_name</th><th>hire_date</th><th>salary</th><th>department</th><th>running_total</th></tr><tr><td>Fleur</td><td>2010-11-04</td><td>353619.85</td><td>Music</td><td>353619.85</td></tr><tr><td>Elene</td><td>2010-11-06</td><td>315356.50</td><td>Toys</td><td>668976.35</td></tr><tr><td>Bary</td><td>2010-11-11</td><td>65854.25</td><td>Health</td><td>381210.75</td></tr><tr><td>Emmerich</td><td>2010-11-23</td><td>856849.91</td><td>Shoes</td><td>922704.16</td></tr><tr><td>Benedicto</td><td>2010-12-01</td><td>700440.62</td><td>Games</td><td>1557290.53</td></tr><tr><td>Reinhold</td><td>2010-12-03</td><td>739016.29</td><td>Toys</td><td>1439456.91</td></tr><tr><td>Wright</td><td>2010-12-08</td><td>252575.64</td><td>Garden</td><td>991591.93</td></tr><tr><td>Rebecca</td><td>2010-12-09</td><td>787375.58</td><td>Grocery</td><td>1039951.22</td></tr><tr><td>Natalee</td><td>2010-12-11</td><td>795147.67</td><td>Computers</td><td>1582523.25</td></tr><tr><td>Bron</td><td>2010-12-26</td><td>846884.83</td><td>Toys</td><td>1642032.50</td></tr></table>"
                    }
                }
            ],
            "execution_count": 32
        },
        {
            "cell_type": "code",
            "source": "SELECT first_name, department, email, salary,\nRANK() OVER(PARTITION BY department ORDER BY salary DESC)\nFROM employees LIMIT 100;",
            "metadata": {},
            "outputs": [
                {
                    "output_type": "display_data",
                    "data": {
                        "text/html": "(100 row(s) affected)"
                    },
                    "metadata": {}
                },
                {
                    "output_type": "display_data",
                    "data": {
                        "text/html": "Total execution time: 0:00:00.020316"
                    },
                    "metadata": {}
                },
                {
                    "output_type": "execute_result",
                    "metadata": {},
                    "execution_count": 33,
                    "data": {
                        "application/vnd.dataresource+json": {
                            "schema": {
                                "fields": [
                                    {
                                        "name": "first_name"
                                    },
                                    {
                                        "name": "department"
                                    },
                                    {
                                        "name": "email"
                                    },
                                    {
                                        "name": "salary"
                                    },
                                    {
                                        "name": "rank"
                                    }
                                ]
                            },
                            "data": [
                                {
                                    "0": "Mata",
                                    "1": "Automotive",
                                    "2": "mburnel3r@over-blog.com",
                                    "3": "891362.71",
                                    "4": "1"
                                },
                                {
                                    "0": "Brier",
                                    "1": "Automotive",
                                    "2": "NULL",
                                    "3": "888354.50",
                                    "4": "2"
                                },
                                {
                                    "0": "Juan",
                                    "1": "Automotive",
                                    "2": "NULL",
                                    "3": "843209.15",
                                    "4": "3"
                                },
                                {
                                    "0": "Kara",
                                    "1": "Automotive",
                                    "2": "khorder79@ted.com",
                                    "3": "840806.70",
                                    "4": "4"
                                },
                                {
                                    "0": "Elysia",
                                    "1": "Automotive",
                                    "2": "ebaythrop11@macromedia.com",
                                    "3": "829374.92",
                                    "4": "5"
                                },
                                {
                                    "0": "Veradis",
                                    "1": "Automotive",
                                    "2": "NULL",
                                    "3": "784811.83",
                                    "4": "6"
                                },
                                {
                                    "0": "Lynn",
                                    "1": "Automotive",
                                    "2": "lswapp43@xing.com",
                                    "3": "701645.90",
                                    "4": "7"
                                },
                                {
                                    "0": "Rollin",
                                    "1": "Automotive",
                                    "2": "rcroughan9s@pagesperso-orange.fr",
                                    "3": "679293.30",
                                    "4": "8"
                                },
                                {
                                    "0": "Issiah",
                                    "1": "Automotive",
                                    "2": "irojelaf@marketwatch.com",
                                    "3": "610116.00",
                                    "4": "9"
                                },
                                {
                                    "0": "Heywood",
                                    "1": "Automotive",
                                    "2": "hferenceaq@chron.com",
                                    "3": "604905.13",
                                    "4": "10"
                                },
                                {
                                    "0": "Lottie",
                                    "1": "Automotive",
                                    "2": "ldengeq@oaic.gov.au",
                                    "3": "604584.00",
                                    "4": "11"
                                },
                                {
                                    "0": "Emerson",
                                    "1": "Automotive",
                                    "2": "ehurchbw@hibu.com",
                                    "3": "590657.62",
                                    "4": "12"
                                },
                                {
                                    "0": "Delphinia",
                                    "1": "Automotive",
                                    "2": "dmenelr@china.com.cn",
                                    "3": "547618.32",
                                    "4": "13"
                                },
                                {
                                    "0": "Madison",
                                    "1": "Automotive",
                                    "2": "mjerkec@wp.com",
                                    "3": "545428.64",
                                    "4": "14"
                                },
                                {
                                    "0": "Terencio",
                                    "1": "Automotive",
                                    "2": "tcordall9r@auda.org.au",
                                    "3": "497590.52",
                                    "4": "15"
                                },
                                {
                                    "0": "Ricki",
                                    "1": "Automotive",
                                    "2": "rdregan7t@chronoengine.com",
                                    "3": "422788.58",
                                    "4": "16"
                                },
                                {
                                    "0": "Asa",
                                    "1": "Automotive",
                                    "2": "alanfear2r@aol.com",
                                    "3": "416037.09",
                                    "4": "17"
                                },
                                {
                                    "0": "Maximilien",
                                    "1": "Automotive",
                                    "2": "mwigginton6d@mit.edu",
                                    "3": "373083.37",
                                    "4": "18"
                                },
                                {
                                    "0": "Lurleen",
                                    "1": "Automotive",
                                    "2": "lespinheira8s@thetimes.co.uk",
                                    "3": "359205.59",
                                    "4": "19"
                                },
                                {
                                    "0": "Renato",
                                    "1": "Automotive",
                                    "2": "rdingleybs@arstechnica.com",
                                    "3": "355547.30",
                                    "4": "20"
                                },
                                {
                                    "0": "Walther",
                                    "1": "Automotive",
                                    "2": "wbates4p@wikipedia.org",
                                    "3": "325144.69",
                                    "4": "21"
                                },
                                {
                                    "0": "Herby",
                                    "1": "Automotive",
                                    "2": "hbozward26@ucsd.edu",
                                    "3": "305766.16",
                                    "4": "22"
                                },
                                {
                                    "0": "Corrie",
                                    "1": "Automotive",
                                    "2": "cstanford8w@apple.com",
                                    "3": "270740.69",
                                    "4": "23"
                                },
                                {
                                    "0": "Hank",
                                    "1": "Automotive",
                                    "2": "NULL",
                                    "3": "269600.56",
                                    "4": "24"
                                },
                                {
                                    "0": "Perry",
                                    "1": "Automotive",
                                    "2": "pproske4y@taobao.com",
                                    "3": "257156.66",
                                    "4": "25"
                                },
                                {
                                    "0": "Julian",
                                    "1": "Automotive",
                                    "2": "NULL",
                                    "3": "248206.97",
                                    "4": "26"
                                },
                                {
                                    "0": "Kim",
                                    "1": "Automotive",
                                    "2": "kmeaking8p@dailymail.co.uk",
                                    "3": "243947.31",
                                    "4": "27"
                                },
                                {
                                    "0": "Melva",
                                    "1": "Automotive",
                                    "2": "mlillicrap2f@sourceforge.net",
                                    "3": "239110.18",
                                    "4": "28"
                                },
                                {
                                    "0": "Nesta",
                                    "1": "Automotive",
                                    "2": "nneadscw@networksolutions.com",
                                    "3": "233772.20",
                                    "4": "29"
                                },
                                {
                                    "0": "Amble",
                                    "1": "Automotive",
                                    "2": "aajean6w@weather.com",
                                    "3": "233479.16",
                                    "4": "30"
                                },
                                {
                                    "0": "Shirlene",
                                    "1": "Automotive",
                                    "2": "sbills91@ucla.edu",
                                    "3": "215463.72",
                                    "4": "31"
                                },
                                {
                                    "0": "Amery",
                                    "1": "Automotive",
                                    "2": "aterbruggenm@aol.com",
                                    "3": "212631.05",
                                    "4": "32"
                                },
                                {
                                    "0": "Colver",
                                    "1": "Automotive",
                                    "2": "cmccusker2j@sfgate.com",
                                    "3": "204187.08",
                                    "4": "33"
                                },
                                {
                                    "0": "Fidela",
                                    "1": "Automotive",
                                    "2": "fpeart1k@who.int",
                                    "3": "169307.55",
                                    "4": "34"
                                },
                                {
                                    "0": "Tildy",
                                    "1": "Automotive",
                                    "2": "tlipgensee@yellowbook.com",
                                    "3": "142691.84",
                                    "4": "35"
                                },
                                {
                                    "0": "Celisse",
                                    "1": "Automotive",
                                    "2": "creims5c@state.gov",
                                    "3": "115252.89",
                                    "4": "36"
                                },
                                {
                                    "0": "Oralee",
                                    "1": "Automotive",
                                    "2": "orameta6@yahoo.co.jp",
                                    "3": "96782.86",
                                    "4": "37"
                                },
                                {
                                    "0": "Brice",
                                    "1": "Automotive",
                                    "2": "bpendreigh7x@forbes.com",
                                    "3": "44530.58",
                                    "4": "38"
                                },
                                {
                                    "0": "Abe",
                                    "1": "Automotive",
                                    "2": "abuck1y@jigsy.com",
                                    "3": "33973.88",
                                    "4": "39"
                                },
                                {
                                    "0": "Mario",
                                    "1": "Automotive",
                                    "2": "mgiacobonicm@csmonitor.com",
                                    "3": "24976.38",
                                    "4": "40"
                                },
                                {
                                    "0": "Elga",
                                    "1": "Automotive",
                                    "2": "eboldersondx@prlog.org",
                                    "3": "21395.65",
                                    "4": "41"
                                },
                                {
                                    "0": "Clerkclaude",
                                    "1": "Automotive",
                                    "2": "cmussalli7f@pinterest.com",
                                    "3": "14496.80",
                                    "4": "42"
                                },
                                {
                                    "0": "Arnie",
                                    "1": "Automotive",
                                    "2": "agillanic8@weibo.com",
                                    "3": "13182.30",
                                    "4": "43"
                                },
                                {
                                    "0": "Tom",
                                    "1": "Beauty",
                                    "2": "tplankh@va.gov",
                                    "3": "883376.00",
                                    "4": "1"
                                },
                                {
                                    "0": "Warde",
                                    "1": "Beauty",
                                    "2": "wdoerren4b@cornell.edu",
                                    "3": "882712.00",
                                    "4": "2"
                                },
                                {
                                    "0": "Nichol",
                                    "1": "Beauty",
                                    "2": "nmougenel8@google.com.br",
                                    "3": "851247.94",
                                    "4": "3"
                                },
                                {
                                    "0": "Pamella",
                                    "1": "Beauty",
                                    "2": "pdetoc54@cnn.com",
                                    "3": "758483.94",
                                    "4": "4"
                                },
                                {
                                    "0": "Charles",
                                    "1": "Beauty",
                                    "2": "cfossett2n@fc2.com",
                                    "3": "674081.49",
                                    "4": "5"
                                },
                                {
                                    "0": "Ainslee",
                                    "1": "Beauty",
                                    "2": "adorbon7w@over-blog.com",
                                    "3": "656114.00",
                                    "4": "6"
                                },
                                {
                                    "0": "Arron",
                                    "1": "Beauty",
                                    "2": "alamersbj@w3.org",
                                    "3": "646721.95",
                                    "4": "7"
                                },
                                {
                                    "0": "Hastie",
                                    "1": "Beauty",
                                    "2": "hpyzer67@nationalgeographic.com",
                                    "3": "635462.74",
                                    "4": "8"
                                },
                                {
                                    "0": "Charlton",
                                    "1": "Beauty",
                                    "2": "cspelmand2@cafepress.com",
                                    "3": "630298.62",
                                    "4": "9"
                                },
                                {
                                    "0": "Hollie",
                                    "1": "Beauty",
                                    "2": "hvaleria8@123-reg.co.uk",
                                    "3": "587429.18",
                                    "4": "10"
                                },
                                {
                                    "0": "Garvy",
                                    "1": "Beauty",
                                    "2": "gapplegarth46@kickstarter.com",
                                    "3": "558526.37",
                                    "4": "11"
                                },
                                {
                                    "0": "Kath",
                                    "1": "Beauty",
                                    "2": "kgranham40@rakuten.co.jp",
                                    "3": "558488.54",
                                    "4": "12"
                                },
                                {
                                    "0": "Kipper",
                                    "1": "Beauty",
                                    "2": "klaba1w@cdc.gov",
                                    "3": "546927.85",
                                    "4": "13"
                                },
                                {
                                    "0": "Minnaminnie",
                                    "1": "Beauty",
                                    "2": "mbrundellae@bbb.org",
                                    "3": "540984.44",
                                    "4": "14"
                                },
                                {
                                    "0": "Florry",
                                    "1": "Beauty",
                                    "2": "fmalyan9i@imdb.com",
                                    "3": "488724.77",
                                    "4": "15"
                                },
                                {
                                    "0": "Gerry",
                                    "1": "Beauty",
                                    "2": "gcable1r@hubpages.com",
                                    "3": "465919.05",
                                    "4": "16"
                                },
                                {
                                    "0": "Letisha",
                                    "1": "Beauty",
                                    "2": "NULL",
                                    "3": "425552.65",
                                    "4": "17"
                                },
                                {
                                    "0": "Shaylah",
                                    "1": "Beauty",
                                    "2": "NULL",
                                    "3": "424597.45",
                                    "4": "18"
                                },
                                {
                                    "0": "Joleen",
                                    "1": "Beauty",
                                    "2": "jblindermann2t@salon.com",
                                    "3": "420623.10",
                                    "4": "19"
                                },
                                {
                                    "0": "Thomasine",
                                    "1": "Beauty",
                                    "2": "tghidoni27@i2i.jp",
                                    "3": "396458.62",
                                    "4": "20"
                                },
                                {
                                    "0": "Rod",
                                    "1": "Beauty",
                                    "2": "rcreavinck@alibaba.com",
                                    "3": "382119.66",
                                    "4": "21"
                                },
                                {
                                    "0": "Bennie",
                                    "1": "Beauty",
                                    "2": "bcorsar2p@dell.com",
                                    "3": "353065.88",
                                    "4": "22"
                                },
                                {
                                    "0": "Benedict",
                                    "1": "Beauty",
                                    "2": "blaboune1s@xing.com",
                                    "3": "319277.50",
                                    "4": "23"
                                },
                                {
                                    "0": "Loraine",
                                    "1": "Beauty",
                                    "2": "lnoades3x@examiner.com",
                                    "3": "281916.44",
                                    "4": "24"
                                },
                                {
                                    "0": "Muire",
                                    "1": "Beauty",
                                    "2": "mrapsey4@zimbio.com",
                                    "3": "274068.20",
                                    "4": "25"
                                },
                                {
                                    "0": "Kristofer",
                                    "1": "Beauty",
                                    "2": "kingall2o@yale.edu",
                                    "3": "266426.00",
                                    "4": "26"
                                },
                                {
                                    "0": "Denny",
                                    "1": "Beauty",
                                    "2": "NULL",
                                    "3": "213625.82",
                                    "4": "27"
                                },
                                {
                                    "0": "Mahala",
                                    "1": "Beauty",
                                    "2": "mpedican32@springer.com",
                                    "3": "198354.91",
                                    "4": "28"
                                },
                                {
                                    "0": "Marieann",
                                    "1": "Beauty",
                                    "2": "mfusco3l@ameblo.jp",
                                    "3": "151321.74",
                                    "4": "29"
                                },
                                {
                                    "0": "Tedie",
                                    "1": "Beauty",
                                    "2": "tstorie7l@pbs.org",
                                    "3": "119119.34",
                                    "4": "30"
                                },
                                {
                                    "0": "Donnie",
                                    "1": "Beauty",
                                    "2": "dcasercd@wikispaces.com",
                                    "3": "111954.02",
                                    "4": "31"
                                },
                                {
                                    "0": "Lion",
                                    "1": "Beauty",
                                    "2": "lughetti5l@macromedia.com",
                                    "3": "95853.66",
                                    "4": "32"
                                },
                                {
                                    "0": "Sloane",
                                    "1": "Beauty",
                                    "2": "sglasard57@lulu.com",
                                    "3": "86160.67",
                                    "4": "33"
                                },
                                {
                                    "0": "Rachel",
                                    "1": "Beauty",
                                    "2": "rrobinson95@live.com",
                                    "3": "15189.47",
                                    "4": "34"
                                },
                                {
                                    "0": "Em",
                                    "1": "Books",
                                    "2": "ehayen6r@cdc.gov",
                                    "3": "893687.39",
                                    "4": "1"
                                },
                                {
                                    "0": "Jordan",
                                    "1": "Books",
                                    "2": "jdudderidge3w@dot.gov",
                                    "3": "883726.54",
                                    "4": "2"
                                },
                                {
                                    "0": "Gaby",
                                    "1": "Books",
                                    "2": "goldcroft5i@wsj.com",
                                    "3": "873079.07",
                                    "4": "3"
                                },
                                {
                                    "0": "Gertrud",
                                    "1": "Books",
                                    "2": "gcanelas4s@tinypic.com",
                                    "3": "869020.65",
                                    "4": "4"
                                },
                                {
                                    "0": "Cynthia",
                                    "1": "Books",
                                    "2": "cgerdes22@woothemes.com",
                                    "3": "868991.54",
                                    "4": "5"
                                },
                                {
                                    "0": "Darill",
                                    "1": "Books",
                                    "2": "dmacilhagga1l@tmall.com",
                                    "3": "862994.17",
                                    "4": "6"
                                },
                                {
                                    "0": "Kania",
                                    "1": "Books",
                                    "2": "kavison2o@jimdo.com",
                                    "3": "852122.11",
                                    "4": "7"
                                },
                                {
                                    "0": "Krispin",
                                    "1": "Books",
                                    "2": "klaidlow6x@dailymotion.com",
                                    "3": "799403.21",
                                    "4": "8"
                                },
                                {
                                    "0": "Temple",
                                    "1": "Books",
                                    "2": "tgroombridgedt@artisteer.com",
                                    "3": "754250.17",
                                    "4": "9"
                                },
                                {
                                    "0": "Nadeen",
                                    "1": "Books",
                                    "2": "nistedb4@issuu.com",
                                    "3": "751823.59",
                                    "4": "10"
                                },
                                {
                                    "0": "Shanon",
                                    "1": "Books",
                                    "2": "smccay90@uol.com.br",
                                    "3": "749534.69",
                                    "4": "11"
                                },
                                {
                                    "0": "Daniela",
                                    "1": "Books",
                                    "2": "dkenn6b@ihg.com",
                                    "3": "736448.67",
                                    "4": "12"
                                },
                                {
                                    "0": "Arabele",
                                    "1": "Books",
                                    "2": "acancellieri0@networkadvertising.org",
                                    "3": "722198.30",
                                    "4": "13"
                                },
                                {
                                    "0": "Claudianus",
                                    "1": "Books",
                                    "2": "cmagerci@discovery.com",
                                    "3": "709286.08",
                                    "4": "14"
                                },
                                {
                                    "0": "Cecily",
                                    "1": "Books",
                                    "2": "cmulqueen3e@seattletimes.com",
                                    "3": "677403.82",
                                    "4": "15"
                                },
                                {
                                    "0": "Gwenette",
                                    "1": "Books",
                                    "2": "gwoolger2k@livejournal.com",
                                    "3": "674268.31",
                                    "4": "16"
                                },
                                {
                                    "0": "Bren",
                                    "1": "Books",
                                    "2": "bpieruccibc@samsung.com",
                                    "3": "649083.31",
                                    "4": "17"
                                },
                                {
                                    "0": "Neddy",
                                    "1": "Books",
                                    "2": "nlacase93@gravatar.com",
                                    "3": "635959.98",
                                    "4": "18"
                                },
                                {
                                    "0": "Gene",
                                    "1": "Books",
                                    "2": "goldknow39@about.com",
                                    "3": "629086.13",
                                    "4": "19"
                                },
                                {
                                    "0": "Noble",
                                    "1": "Books",
                                    "2": "nbostona@ehow.com",
                                    "3": "573624.98",
                                    "4": "20"
                                },
                                {
                                    "0": "Briana",
                                    "1": "Books",
                                    "2": "brumsby3a@hc360.com",
                                    "3": "535511.00",
                                    "4": "21"
                                },
                                {
                                    "0": "Nancee",
                                    "1": "Books",
                                    "2": "NULL",
                                    "3": "506971.44",
                                    "4": "22"
                                },
                                {
                                    "0": "Maren",
                                    "1": "Books",
                                    "2": "mblackway35@pinterest.com",
                                    "3": "487754.68",
                                    "4": "23"
                                }
                            ]
                        },
                        "text/html": "<table><tr><th>first_name</th><th>department</th><th>email</th><th>salary</th><th>rank</th></tr><tr><td>Mata</td><td>Automotive</td><td>mburnel3r@over-blog.com</td><td>891362.71</td><td>1</td></tr><tr><td>Brier</td><td>Automotive</td><td>NULL</td><td>888354.50</td><td>2</td></tr><tr><td>Juan</td><td>Automotive</td><td>NULL</td><td>843209.15</td><td>3</td></tr><tr><td>Kara</td><td>Automotive</td><td>khorder79@ted.com</td><td>840806.70</td><td>4</td></tr><tr><td>Elysia</td><td>Automotive</td><td>ebaythrop11@macromedia.com</td><td>829374.92</td><td>5</td></tr><tr><td>Veradis</td><td>Automotive</td><td>NULL</td><td>784811.83</td><td>6</td></tr><tr><td>Lynn</td><td>Automotive</td><td>lswapp43@xing.com</td><td>701645.90</td><td>7</td></tr><tr><td>Rollin</td><td>Automotive</td><td>rcroughan9s@pagesperso-orange.fr</td><td>679293.30</td><td>8</td></tr><tr><td>Issiah</td><td>Automotive</td><td>irojelaf@marketwatch.com</td><td>610116.00</td><td>9</td></tr><tr><td>Heywood</td><td>Automotive</td><td>hferenceaq@chron.com</td><td>604905.13</td><td>10</td></tr><tr><td>Lottie</td><td>Automotive</td><td>ldengeq@oaic.gov.au</td><td>604584.00</td><td>11</td></tr><tr><td>Emerson</td><td>Automotive</td><td>ehurchbw@hibu.com</td><td>590657.62</td><td>12</td></tr><tr><td>Delphinia</td><td>Automotive</td><td>dmenelr@china.com.cn</td><td>547618.32</td><td>13</td></tr><tr><td>Madison</td><td>Automotive</td><td>mjerkec@wp.com</td><td>545428.64</td><td>14</td></tr><tr><td>Terencio</td><td>Automotive</td><td>tcordall9r@auda.org.au</td><td>497590.52</td><td>15</td></tr><tr><td>Ricki</td><td>Automotive</td><td>rdregan7t@chronoengine.com</td><td>422788.58</td><td>16</td></tr><tr><td>Asa</td><td>Automotive</td><td>alanfear2r@aol.com</td><td>416037.09</td><td>17</td></tr><tr><td>Maximilien</td><td>Automotive</td><td>mwigginton6d@mit.edu</td><td>373083.37</td><td>18</td></tr><tr><td>Lurleen</td><td>Automotive</td><td>lespinheira8s@thetimes.co.uk</td><td>359205.59</td><td>19</td></tr><tr><td>Renato</td><td>Automotive</td><td>rdingleybs@arstechnica.com</td><td>355547.30</td><td>20</td></tr><tr><td>Walther</td><td>Automotive</td><td>wbates4p@wikipedia.org</td><td>325144.69</td><td>21</td></tr><tr><td>Herby</td><td>Automotive</td><td>hbozward26@ucsd.edu</td><td>305766.16</td><td>22</td></tr><tr><td>Corrie</td><td>Automotive</td><td>cstanford8w@apple.com</td><td>270740.69</td><td>23</td></tr><tr><td>Hank</td><td>Automotive</td><td>NULL</td><td>269600.56</td><td>24</td></tr><tr><td>Perry</td><td>Automotive</td><td>pproske4y@taobao.com</td><td>257156.66</td><td>25</td></tr><tr><td>Julian</td><td>Automotive</td><td>NULL</td><td>248206.97</td><td>26</td></tr><tr><td>Kim</td><td>Automotive</td><td>kmeaking8p@dailymail.co.uk</td><td>243947.31</td><td>27</td></tr><tr><td>Melva</td><td>Automotive</td><td>mlillicrap2f@sourceforge.net</td><td>239110.18</td><td>28</td></tr><tr><td>Nesta</td><td>Automotive</td><td>nneadscw@networksolutions.com</td><td>233772.20</td><td>29</td></tr><tr><td>Amble</td><td>Automotive</td><td>aajean6w@weather.com</td><td>233479.16</td><td>30</td></tr><tr><td>Shirlene</td><td>Automotive</td><td>sbills91@ucla.edu</td><td>215463.72</td><td>31</td></tr><tr><td>Amery</td><td>Automotive</td><td>aterbruggenm@aol.com</td><td>212631.05</td><td>32</td></tr><tr><td>Colver</td><td>Automotive</td><td>cmccusker2j@sfgate.com</td><td>204187.08</td><td>33</td></tr><tr><td>Fidela</td><td>Automotive</td><td>fpeart1k@who.int</td><td>169307.55</td><td>34</td></tr><tr><td>Tildy</td><td>Automotive</td><td>tlipgensee@yellowbook.com</td><td>142691.84</td><td>35</td></tr><tr><td>Celisse</td><td>Automotive</td><td>creims5c@state.gov</td><td>115252.89</td><td>36</td></tr><tr><td>Oralee</td><td>Automotive</td><td>orameta6@yahoo.co.jp</td><td>96782.86</td><td>37</td></tr><tr><td>Brice</td><td>Automotive</td><td>bpendreigh7x@forbes.com</td><td>44530.58</td><td>38</td></tr><tr><td>Abe</td><td>Automotive</td><td>abuck1y@jigsy.com</td><td>33973.88</td><td>39</td></tr><tr><td>Mario</td><td>Automotive</td><td>mgiacobonicm@csmonitor.com</td><td>24976.38</td><td>40</td></tr><tr><td>Elga</td><td>Automotive</td><td>eboldersondx@prlog.org</td><td>21395.65</td><td>41</td></tr><tr><td>Clerkclaude</td><td>Automotive</td><td>cmussalli7f@pinterest.com</td><td>14496.80</td><td>42</td></tr><tr><td>Arnie</td><td>Automotive</td><td>agillanic8@weibo.com</td><td>13182.30</td><td>43</td></tr><tr><td>Tom</td><td>Beauty</td><td>tplankh@va.gov</td><td>883376.00</td><td>1</td></tr><tr><td>Warde</td><td>Beauty</td><td>wdoerren4b@cornell.edu</td><td>882712.00</td><td>2</td></tr><tr><td>Nichol</td><td>Beauty</td><td>nmougenel8@google.com.br</td><td>851247.94</td><td>3</td></tr><tr><td>Pamella</td><td>Beauty</td><td>pdetoc54@cnn.com</td><td>758483.94</td><td>4</td></tr><tr><td>Charles</td><td>Beauty</td><td>cfossett2n@fc2.com</td><td>674081.49</td><td>5</td></tr><tr><td>Ainslee</td><td>Beauty</td><td>adorbon7w@over-blog.com</td><td>656114.00</td><td>6</td></tr><tr><td>Arron</td><td>Beauty</td><td>alamersbj@w3.org</td><td>646721.95</td><td>7</td></tr><tr><td>Hastie</td><td>Beauty</td><td>hpyzer67@nationalgeographic.com</td><td>635462.74</td><td>8</td></tr><tr><td>Charlton</td><td>Beauty</td><td>cspelmand2@cafepress.com</td><td>630298.62</td><td>9</td></tr><tr><td>Hollie</td><td>Beauty</td><td>hvaleria8@123-reg.co.uk</td><td>587429.18</td><td>10</td></tr><tr><td>Garvy</td><td>Beauty</td><td>gapplegarth46@kickstarter.com</td><td>558526.37</td><td>11</td></tr><tr><td>Kath</td><td>Beauty</td><td>kgranham40@rakuten.co.jp</td><td>558488.54</td><td>12</td></tr><tr><td>Kipper</td><td>Beauty</td><td>klaba1w@cdc.gov</td><td>546927.85</td><td>13</td></tr><tr><td>Minnaminnie</td><td>Beauty</td><td>mbrundellae@bbb.org</td><td>540984.44</td><td>14</td></tr><tr><td>Florry</td><td>Beauty</td><td>fmalyan9i@imdb.com</td><td>488724.77</td><td>15</td></tr><tr><td>Gerry</td><td>Beauty</td><td>gcable1r@hubpages.com</td><td>465919.05</td><td>16</td></tr><tr><td>Letisha</td><td>Beauty</td><td>NULL</td><td>425552.65</td><td>17</td></tr><tr><td>Shaylah</td><td>Beauty</td><td>NULL</td><td>424597.45</td><td>18</td></tr><tr><td>Joleen</td><td>Beauty</td><td>jblindermann2t@salon.com</td><td>420623.10</td><td>19</td></tr><tr><td>Thomasine</td><td>Beauty</td><td>tghidoni27@i2i.jp</td><td>396458.62</td><td>20</td></tr><tr><td>Rod</td><td>Beauty</td><td>rcreavinck@alibaba.com</td><td>382119.66</td><td>21</td></tr><tr><td>Bennie</td><td>Beauty</td><td>bcorsar2p@dell.com</td><td>353065.88</td><td>22</td></tr><tr><td>Benedict</td><td>Beauty</td><td>blaboune1s@xing.com</td><td>319277.50</td><td>23</td></tr><tr><td>Loraine</td><td>Beauty</td><td>lnoades3x@examiner.com</td><td>281916.44</td><td>24</td></tr><tr><td>Muire</td><td>Beauty</td><td>mrapsey4@zimbio.com</td><td>274068.20</td><td>25</td></tr><tr><td>Kristofer</td><td>Beauty</td><td>kingall2o@yale.edu</td><td>266426.00</td><td>26</td></tr><tr><td>Denny</td><td>Beauty</td><td>NULL</td><td>213625.82</td><td>27</td></tr><tr><td>Mahala</td><td>Beauty</td><td>mpedican32@springer.com</td><td>198354.91</td><td>28</td></tr><tr><td>Marieann</td><td>Beauty</td><td>mfusco3l@ameblo.jp</td><td>151321.74</td><td>29</td></tr><tr><td>Tedie</td><td>Beauty</td><td>tstorie7l@pbs.org</td><td>119119.34</td><td>30</td></tr><tr><td>Donnie</td><td>Beauty</td><td>dcasercd@wikispaces.com</td><td>111954.02</td><td>31</td></tr><tr><td>Lion</td><td>Beauty</td><td>lughetti5l@macromedia.com</td><td>95853.66</td><td>32</td></tr><tr><td>Sloane</td><td>Beauty</td><td>sglasard57@lulu.com</td><td>86160.67</td><td>33</td></tr><tr><td>Rachel</td><td>Beauty</td><td>rrobinson95@live.com</td><td>15189.47</td><td>34</td></tr><tr><td>Em</td><td>Books</td><td>ehayen6r@cdc.gov</td><td>893687.39</td><td>1</td></tr><tr><td>Jordan</td><td>Books</td><td>jdudderidge3w@dot.gov</td><td>883726.54</td><td>2</td></tr><tr><td>Gaby</td><td>Books</td><td>goldcroft5i@wsj.com</td><td>873079.07</td><td>3</td></tr><tr><td>Gertrud</td><td>Books</td><td>gcanelas4s@tinypic.com</td><td>869020.65</td><td>4</td></tr><tr><td>Cynthia</td><td>Books</td><td>cgerdes22@woothemes.com</td><td>868991.54</td><td>5</td></tr><tr><td>Darill</td><td>Books</td><td>dmacilhagga1l@tmall.com</td><td>862994.17</td><td>6</td></tr><tr><td>Kania</td><td>Books</td><td>kavison2o@jimdo.com</td><td>852122.11</td><td>7</td></tr><tr><td>Krispin</td><td>Books</td><td>klaidlow6x@dailymotion.com</td><td>799403.21</td><td>8</td></tr><tr><td>Temple</td><td>Books</td><td>tgroombridgedt@artisteer.com</td><td>754250.17</td><td>9</td></tr><tr><td>Nadeen</td><td>Books</td><td>nistedb4@issuu.com</td><td>751823.59</td><td>10</td></tr><tr><td>Shanon</td><td>Books</td><td>smccay90@uol.com.br</td><td>749534.69</td><td>11</td></tr><tr><td>Daniela</td><td>Books</td><td>dkenn6b@ihg.com</td><td>736448.67</td><td>12</td></tr><tr><td>Arabele</td><td>Books</td><td>acancellieri0@networkadvertising.org</td><td>722198.30</td><td>13</td></tr><tr><td>Claudianus</td><td>Books</td><td>cmagerci@discovery.com</td><td>709286.08</td><td>14</td></tr><tr><td>Cecily</td><td>Books</td><td>cmulqueen3e@seattletimes.com</td><td>677403.82</td><td>15</td></tr><tr><td>Gwenette</td><td>Books</td><td>gwoolger2k@livejournal.com</td><td>674268.31</td><td>16</td></tr><tr><td>Bren</td><td>Books</td><td>bpieruccibc@samsung.com</td><td>649083.31</td><td>17</td></tr><tr><td>Neddy</td><td>Books</td><td>nlacase93@gravatar.com</td><td>635959.98</td><td>18</td></tr><tr><td>Gene</td><td>Books</td><td>goldknow39@about.com</td><td>629086.13</td><td>19</td></tr><tr><td>Noble</td><td>Books</td><td>nbostona@ehow.com</td><td>573624.98</td><td>20</td></tr><tr><td>Briana</td><td>Books</td><td>brumsby3a@hc360.com</td><td>535511.00</td><td>21</td></tr><tr><td>Nancee</td><td>Books</td><td>NULL</td><td>506971.44</td><td>22</td></tr><tr><td>Maren</td><td>Books</td><td>mblackway35@pinterest.com</td><td>487754.68</td><td>23</td></tr></table>"
                    }
                }
            ],
            "execution_count": 33
        },
        {
            "cell_type": "code",
            "source": "SELECT first_name, department, email, salary,\nNTILE(5) OVER(PARTITION BY department ORDER BY salary DESC)\nFROM employees LIMIT 100;",
            "metadata": {},
            "outputs": [
                {
                    "output_type": "display_data",
                    "data": {
                        "text/html": "(100 row(s) affected)"
                    },
                    "metadata": {}
                },
                {
                    "output_type": "display_data",
                    "data": {
                        "text/html": "Total execution time: 0:00:00.020484"
                    },
                    "metadata": {}
                },
                {
                    "output_type": "execute_result",
                    "metadata": {},
                    "execution_count": 34,
                    "data": {
                        "application/vnd.dataresource+json": {
                            "schema": {
                                "fields": [
                                    {
                                        "name": "first_name"
                                    },
                                    {
                                        "name": "department"
                                    },
                                    {
                                        "name": "email"
                                    },
                                    {
                                        "name": "salary"
                                    },
                                    {
                                        "name": "ntile"
                                    }
                                ]
                            },
                            "data": [
                                {
                                    "0": "Mata",
                                    "1": "Automotive",
                                    "2": "mburnel3r@over-blog.com",
                                    "3": "891362.71",
                                    "4": "1"
                                },
                                {
                                    "0": "Brier",
                                    "1": "Automotive",
                                    "2": "NULL",
                                    "3": "888354.50",
                                    "4": "1"
                                },
                                {
                                    "0": "Juan",
                                    "1": "Automotive",
                                    "2": "NULL",
                                    "3": "843209.15",
                                    "4": "1"
                                },
                                {
                                    "0": "Kara",
                                    "1": "Automotive",
                                    "2": "khorder79@ted.com",
                                    "3": "840806.70",
                                    "4": "1"
                                },
                                {
                                    "0": "Elysia",
                                    "1": "Automotive",
                                    "2": "ebaythrop11@macromedia.com",
                                    "3": "829374.92",
                                    "4": "1"
                                },
                                {
                                    "0": "Veradis",
                                    "1": "Automotive",
                                    "2": "NULL",
                                    "3": "784811.83",
                                    "4": "1"
                                },
                                {
                                    "0": "Lynn",
                                    "1": "Automotive",
                                    "2": "lswapp43@xing.com",
                                    "3": "701645.90",
                                    "4": "1"
                                },
                                {
                                    "0": "Rollin",
                                    "1": "Automotive",
                                    "2": "rcroughan9s@pagesperso-orange.fr",
                                    "3": "679293.30",
                                    "4": "1"
                                },
                                {
                                    "0": "Issiah",
                                    "1": "Automotive",
                                    "2": "irojelaf@marketwatch.com",
                                    "3": "610116.00",
                                    "4": "1"
                                },
                                {
                                    "0": "Heywood",
                                    "1": "Automotive",
                                    "2": "hferenceaq@chron.com",
                                    "3": "604905.13",
                                    "4": "2"
                                },
                                {
                                    "0": "Lottie",
                                    "1": "Automotive",
                                    "2": "ldengeq@oaic.gov.au",
                                    "3": "604584.00",
                                    "4": "2"
                                },
                                {
                                    "0": "Emerson",
                                    "1": "Automotive",
                                    "2": "ehurchbw@hibu.com",
                                    "3": "590657.62",
                                    "4": "2"
                                },
                                {
                                    "0": "Delphinia",
                                    "1": "Automotive",
                                    "2": "dmenelr@china.com.cn",
                                    "3": "547618.32",
                                    "4": "2"
                                },
                                {
                                    "0": "Madison",
                                    "1": "Automotive",
                                    "2": "mjerkec@wp.com",
                                    "3": "545428.64",
                                    "4": "2"
                                },
                                {
                                    "0": "Terencio",
                                    "1": "Automotive",
                                    "2": "tcordall9r@auda.org.au",
                                    "3": "497590.52",
                                    "4": "2"
                                },
                                {
                                    "0": "Ricki",
                                    "1": "Automotive",
                                    "2": "rdregan7t@chronoengine.com",
                                    "3": "422788.58",
                                    "4": "2"
                                },
                                {
                                    "0": "Asa",
                                    "1": "Automotive",
                                    "2": "alanfear2r@aol.com",
                                    "3": "416037.09",
                                    "4": "2"
                                },
                                {
                                    "0": "Maximilien",
                                    "1": "Automotive",
                                    "2": "mwigginton6d@mit.edu",
                                    "3": "373083.37",
                                    "4": "2"
                                },
                                {
                                    "0": "Lurleen",
                                    "1": "Automotive",
                                    "2": "lespinheira8s@thetimes.co.uk",
                                    "3": "359205.59",
                                    "4": "3"
                                },
                                {
                                    "0": "Renato",
                                    "1": "Automotive",
                                    "2": "rdingleybs@arstechnica.com",
                                    "3": "355547.30",
                                    "4": "3"
                                },
                                {
                                    "0": "Walther",
                                    "1": "Automotive",
                                    "2": "wbates4p@wikipedia.org",
                                    "3": "325144.69",
                                    "4": "3"
                                },
                                {
                                    "0": "Herby",
                                    "1": "Automotive",
                                    "2": "hbozward26@ucsd.edu",
                                    "3": "305766.16",
                                    "4": "3"
                                },
                                {
                                    "0": "Corrie",
                                    "1": "Automotive",
                                    "2": "cstanford8w@apple.com",
                                    "3": "270740.69",
                                    "4": "3"
                                },
                                {
                                    "0": "Hank",
                                    "1": "Automotive",
                                    "2": "NULL",
                                    "3": "269600.56",
                                    "4": "3"
                                },
                                {
                                    "0": "Perry",
                                    "1": "Automotive",
                                    "2": "pproske4y@taobao.com",
                                    "3": "257156.66",
                                    "4": "3"
                                },
                                {
                                    "0": "Julian",
                                    "1": "Automotive",
                                    "2": "NULL",
                                    "3": "248206.97",
                                    "4": "3"
                                },
                                {
                                    "0": "Kim",
                                    "1": "Automotive",
                                    "2": "kmeaking8p@dailymail.co.uk",
                                    "3": "243947.31",
                                    "4": "3"
                                },
                                {
                                    "0": "Melva",
                                    "1": "Automotive",
                                    "2": "mlillicrap2f@sourceforge.net",
                                    "3": "239110.18",
                                    "4": "4"
                                },
                                {
                                    "0": "Nesta",
                                    "1": "Automotive",
                                    "2": "nneadscw@networksolutions.com",
                                    "3": "233772.20",
                                    "4": "4"
                                },
                                {
                                    "0": "Amble",
                                    "1": "Automotive",
                                    "2": "aajean6w@weather.com",
                                    "3": "233479.16",
                                    "4": "4"
                                },
                                {
                                    "0": "Shirlene",
                                    "1": "Automotive",
                                    "2": "sbills91@ucla.edu",
                                    "3": "215463.72",
                                    "4": "4"
                                },
                                {
                                    "0": "Amery",
                                    "1": "Automotive",
                                    "2": "aterbruggenm@aol.com",
                                    "3": "212631.05",
                                    "4": "4"
                                },
                                {
                                    "0": "Colver",
                                    "1": "Automotive",
                                    "2": "cmccusker2j@sfgate.com",
                                    "3": "204187.08",
                                    "4": "4"
                                },
                                {
                                    "0": "Fidela",
                                    "1": "Automotive",
                                    "2": "fpeart1k@who.int",
                                    "3": "169307.55",
                                    "4": "4"
                                },
                                {
                                    "0": "Tildy",
                                    "1": "Automotive",
                                    "2": "tlipgensee@yellowbook.com",
                                    "3": "142691.84",
                                    "4": "4"
                                },
                                {
                                    "0": "Celisse",
                                    "1": "Automotive",
                                    "2": "creims5c@state.gov",
                                    "3": "115252.89",
                                    "4": "5"
                                },
                                {
                                    "0": "Oralee",
                                    "1": "Automotive",
                                    "2": "orameta6@yahoo.co.jp",
                                    "3": "96782.86",
                                    "4": "5"
                                },
                                {
                                    "0": "Brice",
                                    "1": "Automotive",
                                    "2": "bpendreigh7x@forbes.com",
                                    "3": "44530.58",
                                    "4": "5"
                                },
                                {
                                    "0": "Abe",
                                    "1": "Automotive",
                                    "2": "abuck1y@jigsy.com",
                                    "3": "33973.88",
                                    "4": "5"
                                },
                                {
                                    "0": "Mario",
                                    "1": "Automotive",
                                    "2": "mgiacobonicm@csmonitor.com",
                                    "3": "24976.38",
                                    "4": "5"
                                },
                                {
                                    "0": "Elga",
                                    "1": "Automotive",
                                    "2": "eboldersondx@prlog.org",
                                    "3": "21395.65",
                                    "4": "5"
                                },
                                {
                                    "0": "Clerkclaude",
                                    "1": "Automotive",
                                    "2": "cmussalli7f@pinterest.com",
                                    "3": "14496.80",
                                    "4": "5"
                                },
                                {
                                    "0": "Arnie",
                                    "1": "Automotive",
                                    "2": "agillanic8@weibo.com",
                                    "3": "13182.30",
                                    "4": "5"
                                },
                                {
                                    "0": "Tom",
                                    "1": "Beauty",
                                    "2": "tplankh@va.gov",
                                    "3": "883376.00",
                                    "4": "1"
                                },
                                {
                                    "0": "Warde",
                                    "1": "Beauty",
                                    "2": "wdoerren4b@cornell.edu",
                                    "3": "882712.00",
                                    "4": "1"
                                },
                                {
                                    "0": "Nichol",
                                    "1": "Beauty",
                                    "2": "nmougenel8@google.com.br",
                                    "3": "851247.94",
                                    "4": "1"
                                },
                                {
                                    "0": "Pamella",
                                    "1": "Beauty",
                                    "2": "pdetoc54@cnn.com",
                                    "3": "758483.94",
                                    "4": "1"
                                },
                                {
                                    "0": "Charles",
                                    "1": "Beauty",
                                    "2": "cfossett2n@fc2.com",
                                    "3": "674081.49",
                                    "4": "1"
                                },
                                {
                                    "0": "Ainslee",
                                    "1": "Beauty",
                                    "2": "adorbon7w@over-blog.com",
                                    "3": "656114.00",
                                    "4": "1"
                                },
                                {
                                    "0": "Arron",
                                    "1": "Beauty",
                                    "2": "alamersbj@w3.org",
                                    "3": "646721.95",
                                    "4": "1"
                                },
                                {
                                    "0": "Hastie",
                                    "1": "Beauty",
                                    "2": "hpyzer67@nationalgeographic.com",
                                    "3": "635462.74",
                                    "4": "2"
                                },
                                {
                                    "0": "Charlton",
                                    "1": "Beauty",
                                    "2": "cspelmand2@cafepress.com",
                                    "3": "630298.62",
                                    "4": "2"
                                },
                                {
                                    "0": "Hollie",
                                    "1": "Beauty",
                                    "2": "hvaleria8@123-reg.co.uk",
                                    "3": "587429.18",
                                    "4": "2"
                                },
                                {
                                    "0": "Garvy",
                                    "1": "Beauty",
                                    "2": "gapplegarth46@kickstarter.com",
                                    "3": "558526.37",
                                    "4": "2"
                                },
                                {
                                    "0": "Kath",
                                    "1": "Beauty",
                                    "2": "kgranham40@rakuten.co.jp",
                                    "3": "558488.54",
                                    "4": "2"
                                },
                                {
                                    "0": "Kipper",
                                    "1": "Beauty",
                                    "2": "klaba1w@cdc.gov",
                                    "3": "546927.85",
                                    "4": "2"
                                },
                                {
                                    "0": "Minnaminnie",
                                    "1": "Beauty",
                                    "2": "mbrundellae@bbb.org",
                                    "3": "540984.44",
                                    "4": "2"
                                },
                                {
                                    "0": "Florry",
                                    "1": "Beauty",
                                    "2": "fmalyan9i@imdb.com",
                                    "3": "488724.77",
                                    "4": "3"
                                },
                                {
                                    "0": "Gerry",
                                    "1": "Beauty",
                                    "2": "gcable1r@hubpages.com",
                                    "3": "465919.05",
                                    "4": "3"
                                },
                                {
                                    "0": "Letisha",
                                    "1": "Beauty",
                                    "2": "NULL",
                                    "3": "425552.65",
                                    "4": "3"
                                },
                                {
                                    "0": "Shaylah",
                                    "1": "Beauty",
                                    "2": "NULL",
                                    "3": "424597.45",
                                    "4": "3"
                                },
                                {
                                    "0": "Joleen",
                                    "1": "Beauty",
                                    "2": "jblindermann2t@salon.com",
                                    "3": "420623.10",
                                    "4": "3"
                                },
                                {
                                    "0": "Thomasine",
                                    "1": "Beauty",
                                    "2": "tghidoni27@i2i.jp",
                                    "3": "396458.62",
                                    "4": "3"
                                },
                                {
                                    "0": "Rod",
                                    "1": "Beauty",
                                    "2": "rcreavinck@alibaba.com",
                                    "3": "382119.66",
                                    "4": "3"
                                },
                                {
                                    "0": "Bennie",
                                    "1": "Beauty",
                                    "2": "bcorsar2p@dell.com",
                                    "3": "353065.88",
                                    "4": "4"
                                },
                                {
                                    "0": "Benedict",
                                    "1": "Beauty",
                                    "2": "blaboune1s@xing.com",
                                    "3": "319277.50",
                                    "4": "4"
                                },
                                {
                                    "0": "Loraine",
                                    "1": "Beauty",
                                    "2": "lnoades3x@examiner.com",
                                    "3": "281916.44",
                                    "4": "4"
                                },
                                {
                                    "0": "Muire",
                                    "1": "Beauty",
                                    "2": "mrapsey4@zimbio.com",
                                    "3": "274068.20",
                                    "4": "4"
                                },
                                {
                                    "0": "Kristofer",
                                    "1": "Beauty",
                                    "2": "kingall2o@yale.edu",
                                    "3": "266426.00",
                                    "4": "4"
                                },
                                {
                                    "0": "Denny",
                                    "1": "Beauty",
                                    "2": "NULL",
                                    "3": "213625.82",
                                    "4": "4"
                                },
                                {
                                    "0": "Mahala",
                                    "1": "Beauty",
                                    "2": "mpedican32@springer.com",
                                    "3": "198354.91",
                                    "4": "4"
                                },
                                {
                                    "0": "Marieann",
                                    "1": "Beauty",
                                    "2": "mfusco3l@ameblo.jp",
                                    "3": "151321.74",
                                    "4": "5"
                                },
                                {
                                    "0": "Tedie",
                                    "1": "Beauty",
                                    "2": "tstorie7l@pbs.org",
                                    "3": "119119.34",
                                    "4": "5"
                                },
                                {
                                    "0": "Donnie",
                                    "1": "Beauty",
                                    "2": "dcasercd@wikispaces.com",
                                    "3": "111954.02",
                                    "4": "5"
                                },
                                {
                                    "0": "Lion",
                                    "1": "Beauty",
                                    "2": "lughetti5l@macromedia.com",
                                    "3": "95853.66",
                                    "4": "5"
                                },
                                {
                                    "0": "Sloane",
                                    "1": "Beauty",
                                    "2": "sglasard57@lulu.com",
                                    "3": "86160.67",
                                    "4": "5"
                                },
                                {
                                    "0": "Rachel",
                                    "1": "Beauty",
                                    "2": "rrobinson95@live.com",
                                    "3": "15189.47",
                                    "4": "5"
                                },
                                {
                                    "0": "Em",
                                    "1": "Books",
                                    "2": "ehayen6r@cdc.gov",
                                    "3": "893687.39",
                                    "4": "1"
                                },
                                {
                                    "0": "Jordan",
                                    "1": "Books",
                                    "2": "jdudderidge3w@dot.gov",
                                    "3": "883726.54",
                                    "4": "1"
                                },
                                {
                                    "0": "Gaby",
                                    "1": "Books",
                                    "2": "goldcroft5i@wsj.com",
                                    "3": "873079.07",
                                    "4": "1"
                                },
                                {
                                    "0": "Gertrud",
                                    "1": "Books",
                                    "2": "gcanelas4s@tinypic.com",
                                    "3": "869020.65",
                                    "4": "1"
                                },
                                {
                                    "0": "Cynthia",
                                    "1": "Books",
                                    "2": "cgerdes22@woothemes.com",
                                    "3": "868991.54",
                                    "4": "1"
                                },
                                {
                                    "0": "Darill",
                                    "1": "Books",
                                    "2": "dmacilhagga1l@tmall.com",
                                    "3": "862994.17",
                                    "4": "1"
                                },
                                {
                                    "0": "Kania",
                                    "1": "Books",
                                    "2": "kavison2o@jimdo.com",
                                    "3": "852122.11",
                                    "4": "1"
                                },
                                {
                                    "0": "Krispin",
                                    "1": "Books",
                                    "2": "klaidlow6x@dailymotion.com",
                                    "3": "799403.21",
                                    "4": "1"
                                },
                                {
                                    "0": "Temple",
                                    "1": "Books",
                                    "2": "tgroombridgedt@artisteer.com",
                                    "3": "754250.17",
                                    "4": "1"
                                },
                                {
                                    "0": "Nadeen",
                                    "1": "Books",
                                    "2": "nistedb4@issuu.com",
                                    "3": "751823.59",
                                    "4": "1"
                                },
                                {
                                    "0": "Shanon",
                                    "1": "Books",
                                    "2": "smccay90@uol.com.br",
                                    "3": "749534.69",
                                    "4": "1"
                                },
                                {
                                    "0": "Daniela",
                                    "1": "Books",
                                    "2": "dkenn6b@ihg.com",
                                    "3": "736448.67",
                                    "4": "1"
                                },
                                {
                                    "0": "Arabele",
                                    "1": "Books",
                                    "2": "acancellieri0@networkadvertising.org",
                                    "3": "722198.30",
                                    "4": "2"
                                },
                                {
                                    "0": "Claudianus",
                                    "1": "Books",
                                    "2": "cmagerci@discovery.com",
                                    "3": "709286.08",
                                    "4": "2"
                                },
                                {
                                    "0": "Cecily",
                                    "1": "Books",
                                    "2": "cmulqueen3e@seattletimes.com",
                                    "3": "677403.82",
                                    "4": "2"
                                },
                                {
                                    "0": "Gwenette",
                                    "1": "Books",
                                    "2": "gwoolger2k@livejournal.com",
                                    "3": "674268.31",
                                    "4": "2"
                                },
                                {
                                    "0": "Bren",
                                    "1": "Books",
                                    "2": "bpieruccibc@samsung.com",
                                    "3": "649083.31",
                                    "4": "2"
                                },
                                {
                                    "0": "Neddy",
                                    "1": "Books",
                                    "2": "nlacase93@gravatar.com",
                                    "3": "635959.98",
                                    "4": "2"
                                },
                                {
                                    "0": "Gene",
                                    "1": "Books",
                                    "2": "goldknow39@about.com",
                                    "3": "629086.13",
                                    "4": "2"
                                },
                                {
                                    "0": "Noble",
                                    "1": "Books",
                                    "2": "nbostona@ehow.com",
                                    "3": "573624.98",
                                    "4": "2"
                                },
                                {
                                    "0": "Briana",
                                    "1": "Books",
                                    "2": "brumsby3a@hc360.com",
                                    "3": "535511.00",
                                    "4": "2"
                                },
                                {
                                    "0": "Nancee",
                                    "1": "Books",
                                    "2": "NULL",
                                    "3": "506971.44",
                                    "4": "2"
                                },
                                {
                                    "0": "Maren",
                                    "1": "Books",
                                    "2": "mblackway35@pinterest.com",
                                    "3": "487754.68",
                                    "4": "2"
                                }
                            ]
                        },
                        "text/html": "<table><tr><th>first_name</th><th>department</th><th>email</th><th>salary</th><th>ntile</th></tr><tr><td>Mata</td><td>Automotive</td><td>mburnel3r@over-blog.com</td><td>891362.71</td><td>1</td></tr><tr><td>Brier</td><td>Automotive</td><td>NULL</td><td>888354.50</td><td>1</td></tr><tr><td>Juan</td><td>Automotive</td><td>NULL</td><td>843209.15</td><td>1</td></tr><tr><td>Kara</td><td>Automotive</td><td>khorder79@ted.com</td><td>840806.70</td><td>1</td></tr><tr><td>Elysia</td><td>Automotive</td><td>ebaythrop11@macromedia.com</td><td>829374.92</td><td>1</td></tr><tr><td>Veradis</td><td>Automotive</td><td>NULL</td><td>784811.83</td><td>1</td></tr><tr><td>Lynn</td><td>Automotive</td><td>lswapp43@xing.com</td><td>701645.90</td><td>1</td></tr><tr><td>Rollin</td><td>Automotive</td><td>rcroughan9s@pagesperso-orange.fr</td><td>679293.30</td><td>1</td></tr><tr><td>Issiah</td><td>Automotive</td><td>irojelaf@marketwatch.com</td><td>610116.00</td><td>1</td></tr><tr><td>Heywood</td><td>Automotive</td><td>hferenceaq@chron.com</td><td>604905.13</td><td>2</td></tr><tr><td>Lottie</td><td>Automotive</td><td>ldengeq@oaic.gov.au</td><td>604584.00</td><td>2</td></tr><tr><td>Emerson</td><td>Automotive</td><td>ehurchbw@hibu.com</td><td>590657.62</td><td>2</td></tr><tr><td>Delphinia</td><td>Automotive</td><td>dmenelr@china.com.cn</td><td>547618.32</td><td>2</td></tr><tr><td>Madison</td><td>Automotive</td><td>mjerkec@wp.com</td><td>545428.64</td><td>2</td></tr><tr><td>Terencio</td><td>Automotive</td><td>tcordall9r@auda.org.au</td><td>497590.52</td><td>2</td></tr><tr><td>Ricki</td><td>Automotive</td><td>rdregan7t@chronoengine.com</td><td>422788.58</td><td>2</td></tr><tr><td>Asa</td><td>Automotive</td><td>alanfear2r@aol.com</td><td>416037.09</td><td>2</td></tr><tr><td>Maximilien</td><td>Automotive</td><td>mwigginton6d@mit.edu</td><td>373083.37</td><td>2</td></tr><tr><td>Lurleen</td><td>Automotive</td><td>lespinheira8s@thetimes.co.uk</td><td>359205.59</td><td>3</td></tr><tr><td>Renato</td><td>Automotive</td><td>rdingleybs@arstechnica.com</td><td>355547.30</td><td>3</td></tr><tr><td>Walther</td><td>Automotive</td><td>wbates4p@wikipedia.org</td><td>325144.69</td><td>3</td></tr><tr><td>Herby</td><td>Automotive</td><td>hbozward26@ucsd.edu</td><td>305766.16</td><td>3</td></tr><tr><td>Corrie</td><td>Automotive</td><td>cstanford8w@apple.com</td><td>270740.69</td><td>3</td></tr><tr><td>Hank</td><td>Automotive</td><td>NULL</td><td>269600.56</td><td>3</td></tr><tr><td>Perry</td><td>Automotive</td><td>pproske4y@taobao.com</td><td>257156.66</td><td>3</td></tr><tr><td>Julian</td><td>Automotive</td><td>NULL</td><td>248206.97</td><td>3</td></tr><tr><td>Kim</td><td>Automotive</td><td>kmeaking8p@dailymail.co.uk</td><td>243947.31</td><td>3</td></tr><tr><td>Melva</td><td>Automotive</td><td>mlillicrap2f@sourceforge.net</td><td>239110.18</td><td>4</td></tr><tr><td>Nesta</td><td>Automotive</td><td>nneadscw@networksolutions.com</td><td>233772.20</td><td>4</td></tr><tr><td>Amble</td><td>Automotive</td><td>aajean6w@weather.com</td><td>233479.16</td><td>4</td></tr><tr><td>Shirlene</td><td>Automotive</td><td>sbills91@ucla.edu</td><td>215463.72</td><td>4</td></tr><tr><td>Amery</td><td>Automotive</td><td>aterbruggenm@aol.com</td><td>212631.05</td><td>4</td></tr><tr><td>Colver</td><td>Automotive</td><td>cmccusker2j@sfgate.com</td><td>204187.08</td><td>4</td></tr><tr><td>Fidela</td><td>Automotive</td><td>fpeart1k@who.int</td><td>169307.55</td><td>4</td></tr><tr><td>Tildy</td><td>Automotive</td><td>tlipgensee@yellowbook.com</td><td>142691.84</td><td>4</td></tr><tr><td>Celisse</td><td>Automotive</td><td>creims5c@state.gov</td><td>115252.89</td><td>5</td></tr><tr><td>Oralee</td><td>Automotive</td><td>orameta6@yahoo.co.jp</td><td>96782.86</td><td>5</td></tr><tr><td>Brice</td><td>Automotive</td><td>bpendreigh7x@forbes.com</td><td>44530.58</td><td>5</td></tr><tr><td>Abe</td><td>Automotive</td><td>abuck1y@jigsy.com</td><td>33973.88</td><td>5</td></tr><tr><td>Mario</td><td>Automotive</td><td>mgiacobonicm@csmonitor.com</td><td>24976.38</td><td>5</td></tr><tr><td>Elga</td><td>Automotive</td><td>eboldersondx@prlog.org</td><td>21395.65</td><td>5</td></tr><tr><td>Clerkclaude</td><td>Automotive</td><td>cmussalli7f@pinterest.com</td><td>14496.80</td><td>5</td></tr><tr><td>Arnie</td><td>Automotive</td><td>agillanic8@weibo.com</td><td>13182.30</td><td>5</td></tr><tr><td>Tom</td><td>Beauty</td><td>tplankh@va.gov</td><td>883376.00</td><td>1</td></tr><tr><td>Warde</td><td>Beauty</td><td>wdoerren4b@cornell.edu</td><td>882712.00</td><td>1</td></tr><tr><td>Nichol</td><td>Beauty</td><td>nmougenel8@google.com.br</td><td>851247.94</td><td>1</td></tr><tr><td>Pamella</td><td>Beauty</td><td>pdetoc54@cnn.com</td><td>758483.94</td><td>1</td></tr><tr><td>Charles</td><td>Beauty</td><td>cfossett2n@fc2.com</td><td>674081.49</td><td>1</td></tr><tr><td>Ainslee</td><td>Beauty</td><td>adorbon7w@over-blog.com</td><td>656114.00</td><td>1</td></tr><tr><td>Arron</td><td>Beauty</td><td>alamersbj@w3.org</td><td>646721.95</td><td>1</td></tr><tr><td>Hastie</td><td>Beauty</td><td>hpyzer67@nationalgeographic.com</td><td>635462.74</td><td>2</td></tr><tr><td>Charlton</td><td>Beauty</td><td>cspelmand2@cafepress.com</td><td>630298.62</td><td>2</td></tr><tr><td>Hollie</td><td>Beauty</td><td>hvaleria8@123-reg.co.uk</td><td>587429.18</td><td>2</td></tr><tr><td>Garvy</td><td>Beauty</td><td>gapplegarth46@kickstarter.com</td><td>558526.37</td><td>2</td></tr><tr><td>Kath</td><td>Beauty</td><td>kgranham40@rakuten.co.jp</td><td>558488.54</td><td>2</td></tr><tr><td>Kipper</td><td>Beauty</td><td>klaba1w@cdc.gov</td><td>546927.85</td><td>2</td></tr><tr><td>Minnaminnie</td><td>Beauty</td><td>mbrundellae@bbb.org</td><td>540984.44</td><td>2</td></tr><tr><td>Florry</td><td>Beauty</td><td>fmalyan9i@imdb.com</td><td>488724.77</td><td>3</td></tr><tr><td>Gerry</td><td>Beauty</td><td>gcable1r@hubpages.com</td><td>465919.05</td><td>3</td></tr><tr><td>Letisha</td><td>Beauty</td><td>NULL</td><td>425552.65</td><td>3</td></tr><tr><td>Shaylah</td><td>Beauty</td><td>NULL</td><td>424597.45</td><td>3</td></tr><tr><td>Joleen</td><td>Beauty</td><td>jblindermann2t@salon.com</td><td>420623.10</td><td>3</td></tr><tr><td>Thomasine</td><td>Beauty</td><td>tghidoni27@i2i.jp</td><td>396458.62</td><td>3</td></tr><tr><td>Rod</td><td>Beauty</td><td>rcreavinck@alibaba.com</td><td>382119.66</td><td>3</td></tr><tr><td>Bennie</td><td>Beauty</td><td>bcorsar2p@dell.com</td><td>353065.88</td><td>4</td></tr><tr><td>Benedict</td><td>Beauty</td><td>blaboune1s@xing.com</td><td>319277.50</td><td>4</td></tr><tr><td>Loraine</td><td>Beauty</td><td>lnoades3x@examiner.com</td><td>281916.44</td><td>4</td></tr><tr><td>Muire</td><td>Beauty</td><td>mrapsey4@zimbio.com</td><td>274068.20</td><td>4</td></tr><tr><td>Kristofer</td><td>Beauty</td><td>kingall2o@yale.edu</td><td>266426.00</td><td>4</td></tr><tr><td>Denny</td><td>Beauty</td><td>NULL</td><td>213625.82</td><td>4</td></tr><tr><td>Mahala</td><td>Beauty</td><td>mpedican32@springer.com</td><td>198354.91</td><td>4</td></tr><tr><td>Marieann</td><td>Beauty</td><td>mfusco3l@ameblo.jp</td><td>151321.74</td><td>5</td></tr><tr><td>Tedie</td><td>Beauty</td><td>tstorie7l@pbs.org</td><td>119119.34</td><td>5</td></tr><tr><td>Donnie</td><td>Beauty</td><td>dcasercd@wikispaces.com</td><td>111954.02</td><td>5</td></tr><tr><td>Lion</td><td>Beauty</td><td>lughetti5l@macromedia.com</td><td>95853.66</td><td>5</td></tr><tr><td>Sloane</td><td>Beauty</td><td>sglasard57@lulu.com</td><td>86160.67</td><td>5</td></tr><tr><td>Rachel</td><td>Beauty</td><td>rrobinson95@live.com</td><td>15189.47</td><td>5</td></tr><tr><td>Em</td><td>Books</td><td>ehayen6r@cdc.gov</td><td>893687.39</td><td>1</td></tr><tr><td>Jordan</td><td>Books</td><td>jdudderidge3w@dot.gov</td><td>883726.54</td><td>1</td></tr><tr><td>Gaby</td><td>Books</td><td>goldcroft5i@wsj.com</td><td>873079.07</td><td>1</td></tr><tr><td>Gertrud</td><td>Books</td><td>gcanelas4s@tinypic.com</td><td>869020.65</td><td>1</td></tr><tr><td>Cynthia</td><td>Books</td><td>cgerdes22@woothemes.com</td><td>868991.54</td><td>1</td></tr><tr><td>Darill</td><td>Books</td><td>dmacilhagga1l@tmall.com</td><td>862994.17</td><td>1</td></tr><tr><td>Kania</td><td>Books</td><td>kavison2o@jimdo.com</td><td>852122.11</td><td>1</td></tr><tr><td>Krispin</td><td>Books</td><td>klaidlow6x@dailymotion.com</td><td>799403.21</td><td>1</td></tr><tr><td>Temple</td><td>Books</td><td>tgroombridgedt@artisteer.com</td><td>754250.17</td><td>1</td></tr><tr><td>Nadeen</td><td>Books</td><td>nistedb4@issuu.com</td><td>751823.59</td><td>1</td></tr><tr><td>Shanon</td><td>Books</td><td>smccay90@uol.com.br</td><td>749534.69</td><td>1</td></tr><tr><td>Daniela</td><td>Books</td><td>dkenn6b@ihg.com</td><td>736448.67</td><td>1</td></tr><tr><td>Arabele</td><td>Books</td><td>acancellieri0@networkadvertising.org</td><td>722198.30</td><td>2</td></tr><tr><td>Claudianus</td><td>Books</td><td>cmagerci@discovery.com</td><td>709286.08</td><td>2</td></tr><tr><td>Cecily</td><td>Books</td><td>cmulqueen3e@seattletimes.com</td><td>677403.82</td><td>2</td></tr><tr><td>Gwenette</td><td>Books</td><td>gwoolger2k@livejournal.com</td><td>674268.31</td><td>2</td></tr><tr><td>Bren</td><td>Books</td><td>bpieruccibc@samsung.com</td><td>649083.31</td><td>2</td></tr><tr><td>Neddy</td><td>Books</td><td>nlacase93@gravatar.com</td><td>635959.98</td><td>2</td></tr><tr><td>Gene</td><td>Books</td><td>goldknow39@about.com</td><td>629086.13</td><td>2</td></tr><tr><td>Noble</td><td>Books</td><td>nbostona@ehow.com</td><td>573624.98</td><td>2</td></tr><tr><td>Briana</td><td>Books</td><td>brumsby3a@hc360.com</td><td>535511.00</td><td>2</td></tr><tr><td>Nancee</td><td>Books</td><td>NULL</td><td>506971.44</td><td>2</td></tr><tr><td>Maren</td><td>Books</td><td>mblackway35@pinterest.com</td><td>487754.68</td><td>2</td></tr></table>"
                    }
                }
            ],
            "execution_count": 34
        },
        {
            "cell_type": "code",
            "source": "SELECT first_name, department, email, salary,\nFIRST_VALUE(salary) OVER(PARTITION BY department ORDER BY salary DESC)\nFROM employees LIMIT 100;",
            "metadata": {},
            "outputs": [
                {
                    "output_type": "display_data",
                    "data": {
                        "text/html": "(100 row(s) affected)"
                    },
                    "metadata": {}
                },
                {
                    "output_type": "display_data",
                    "data": {
                        "text/html": "Total execution time: 0:00:00.017394"
                    },
                    "metadata": {}
                },
                {
                    "output_type": "execute_result",
                    "metadata": {},
                    "execution_count": 39,
                    "data": {
                        "application/vnd.dataresource+json": {
                            "schema": {
                                "fields": [
                                    {
                                        "name": "first_name"
                                    },
                                    {
                                        "name": "department"
                                    },
                                    {
                                        "name": "email"
                                    },
                                    {
                                        "name": "salary"
                                    },
                                    {
                                        "name": "first_value"
                                    }
                                ]
                            },
                            "data": [
                                {
                                    "0": "Mata",
                                    "1": "Automotive",
                                    "2": "mburnel3r@over-blog.com",
                                    "3": "891362.71",
                                    "4": "891362.71"
                                },
                                {
                                    "0": "Brier",
                                    "1": "Automotive",
                                    "2": "NULL",
                                    "3": "888354.50",
                                    "4": "891362.71"
                                },
                                {
                                    "0": "Juan",
                                    "1": "Automotive",
                                    "2": "NULL",
                                    "3": "843209.15",
                                    "4": "891362.71"
                                },
                                {
                                    "0": "Kara",
                                    "1": "Automotive",
                                    "2": "khorder79@ted.com",
                                    "3": "840806.70",
                                    "4": "891362.71"
                                },
                                {
                                    "0": "Elysia",
                                    "1": "Automotive",
                                    "2": "ebaythrop11@macromedia.com",
                                    "3": "829374.92",
                                    "4": "891362.71"
                                },
                                {
                                    "0": "Veradis",
                                    "1": "Automotive",
                                    "2": "NULL",
                                    "3": "784811.83",
                                    "4": "891362.71"
                                },
                                {
                                    "0": "Lynn",
                                    "1": "Automotive",
                                    "2": "lswapp43@xing.com",
                                    "3": "701645.90",
                                    "4": "891362.71"
                                },
                                {
                                    "0": "Rollin",
                                    "1": "Automotive",
                                    "2": "rcroughan9s@pagesperso-orange.fr",
                                    "3": "679293.30",
                                    "4": "891362.71"
                                },
                                {
                                    "0": "Issiah",
                                    "1": "Automotive",
                                    "2": "irojelaf@marketwatch.com",
                                    "3": "610116.00",
                                    "4": "891362.71"
                                },
                                {
                                    "0": "Heywood",
                                    "1": "Automotive",
                                    "2": "hferenceaq@chron.com",
                                    "3": "604905.13",
                                    "4": "891362.71"
                                },
                                {
                                    "0": "Lottie",
                                    "1": "Automotive",
                                    "2": "ldengeq@oaic.gov.au",
                                    "3": "604584.00",
                                    "4": "891362.71"
                                },
                                {
                                    "0": "Emerson",
                                    "1": "Automotive",
                                    "2": "ehurchbw@hibu.com",
                                    "3": "590657.62",
                                    "4": "891362.71"
                                },
                                {
                                    "0": "Delphinia",
                                    "1": "Automotive",
                                    "2": "dmenelr@china.com.cn",
                                    "3": "547618.32",
                                    "4": "891362.71"
                                },
                                {
                                    "0": "Madison",
                                    "1": "Automotive",
                                    "2": "mjerkec@wp.com",
                                    "3": "545428.64",
                                    "4": "891362.71"
                                },
                                {
                                    "0": "Terencio",
                                    "1": "Automotive",
                                    "2": "tcordall9r@auda.org.au",
                                    "3": "497590.52",
                                    "4": "891362.71"
                                },
                                {
                                    "0": "Ricki",
                                    "1": "Automotive",
                                    "2": "rdregan7t@chronoengine.com",
                                    "3": "422788.58",
                                    "4": "891362.71"
                                },
                                {
                                    "0": "Asa",
                                    "1": "Automotive",
                                    "2": "alanfear2r@aol.com",
                                    "3": "416037.09",
                                    "4": "891362.71"
                                },
                                {
                                    "0": "Maximilien",
                                    "1": "Automotive",
                                    "2": "mwigginton6d@mit.edu",
                                    "3": "373083.37",
                                    "4": "891362.71"
                                },
                                {
                                    "0": "Lurleen",
                                    "1": "Automotive",
                                    "2": "lespinheira8s@thetimes.co.uk",
                                    "3": "359205.59",
                                    "4": "891362.71"
                                },
                                {
                                    "0": "Renato",
                                    "1": "Automotive",
                                    "2": "rdingleybs@arstechnica.com",
                                    "3": "355547.30",
                                    "4": "891362.71"
                                },
                                {
                                    "0": "Walther",
                                    "1": "Automotive",
                                    "2": "wbates4p@wikipedia.org",
                                    "3": "325144.69",
                                    "4": "891362.71"
                                },
                                {
                                    "0": "Herby",
                                    "1": "Automotive",
                                    "2": "hbozward26@ucsd.edu",
                                    "3": "305766.16",
                                    "4": "891362.71"
                                },
                                {
                                    "0": "Corrie",
                                    "1": "Automotive",
                                    "2": "cstanford8w@apple.com",
                                    "3": "270740.69",
                                    "4": "891362.71"
                                },
                                {
                                    "0": "Hank",
                                    "1": "Automotive",
                                    "2": "NULL",
                                    "3": "269600.56",
                                    "4": "891362.71"
                                },
                                {
                                    "0": "Perry",
                                    "1": "Automotive",
                                    "2": "pproske4y@taobao.com",
                                    "3": "257156.66",
                                    "4": "891362.71"
                                },
                                {
                                    "0": "Julian",
                                    "1": "Automotive",
                                    "2": "NULL",
                                    "3": "248206.97",
                                    "4": "891362.71"
                                },
                                {
                                    "0": "Kim",
                                    "1": "Automotive",
                                    "2": "kmeaking8p@dailymail.co.uk",
                                    "3": "243947.31",
                                    "4": "891362.71"
                                },
                                {
                                    "0": "Melva",
                                    "1": "Automotive",
                                    "2": "mlillicrap2f@sourceforge.net",
                                    "3": "239110.18",
                                    "4": "891362.71"
                                },
                                {
                                    "0": "Nesta",
                                    "1": "Automotive",
                                    "2": "nneadscw@networksolutions.com",
                                    "3": "233772.20",
                                    "4": "891362.71"
                                },
                                {
                                    "0": "Amble",
                                    "1": "Automotive",
                                    "2": "aajean6w@weather.com",
                                    "3": "233479.16",
                                    "4": "891362.71"
                                },
                                {
                                    "0": "Shirlene",
                                    "1": "Automotive",
                                    "2": "sbills91@ucla.edu",
                                    "3": "215463.72",
                                    "4": "891362.71"
                                },
                                {
                                    "0": "Amery",
                                    "1": "Automotive",
                                    "2": "aterbruggenm@aol.com",
                                    "3": "212631.05",
                                    "4": "891362.71"
                                },
                                {
                                    "0": "Colver",
                                    "1": "Automotive",
                                    "2": "cmccusker2j@sfgate.com",
                                    "3": "204187.08",
                                    "4": "891362.71"
                                },
                                {
                                    "0": "Fidela",
                                    "1": "Automotive",
                                    "2": "fpeart1k@who.int",
                                    "3": "169307.55",
                                    "4": "891362.71"
                                },
                                {
                                    "0": "Tildy",
                                    "1": "Automotive",
                                    "2": "tlipgensee@yellowbook.com",
                                    "3": "142691.84",
                                    "4": "891362.71"
                                },
                                {
                                    "0": "Celisse",
                                    "1": "Automotive",
                                    "2": "creims5c@state.gov",
                                    "3": "115252.89",
                                    "4": "891362.71"
                                },
                                {
                                    "0": "Oralee",
                                    "1": "Automotive",
                                    "2": "orameta6@yahoo.co.jp",
                                    "3": "96782.86",
                                    "4": "891362.71"
                                },
                                {
                                    "0": "Brice",
                                    "1": "Automotive",
                                    "2": "bpendreigh7x@forbes.com",
                                    "3": "44530.58",
                                    "4": "891362.71"
                                },
                                {
                                    "0": "Abe",
                                    "1": "Automotive",
                                    "2": "abuck1y@jigsy.com",
                                    "3": "33973.88",
                                    "4": "891362.71"
                                },
                                {
                                    "0": "Mario",
                                    "1": "Automotive",
                                    "2": "mgiacobonicm@csmonitor.com",
                                    "3": "24976.38",
                                    "4": "891362.71"
                                },
                                {
                                    "0": "Elga",
                                    "1": "Automotive",
                                    "2": "eboldersondx@prlog.org",
                                    "3": "21395.65",
                                    "4": "891362.71"
                                },
                                {
                                    "0": "Clerkclaude",
                                    "1": "Automotive",
                                    "2": "cmussalli7f@pinterest.com",
                                    "3": "14496.80",
                                    "4": "891362.71"
                                },
                                {
                                    "0": "Arnie",
                                    "1": "Automotive",
                                    "2": "agillanic8@weibo.com",
                                    "3": "13182.30",
                                    "4": "891362.71"
                                },
                                {
                                    "0": "Tom",
                                    "1": "Beauty",
                                    "2": "tplankh@va.gov",
                                    "3": "883376.00",
                                    "4": "883376.00"
                                },
                                {
                                    "0": "Warde",
                                    "1": "Beauty",
                                    "2": "wdoerren4b@cornell.edu",
                                    "3": "882712.00",
                                    "4": "883376.00"
                                },
                                {
                                    "0": "Nichol",
                                    "1": "Beauty",
                                    "2": "nmougenel8@google.com.br",
                                    "3": "851247.94",
                                    "4": "883376.00"
                                },
                                {
                                    "0": "Pamella",
                                    "1": "Beauty",
                                    "2": "pdetoc54@cnn.com",
                                    "3": "758483.94",
                                    "4": "883376.00"
                                },
                                {
                                    "0": "Charles",
                                    "1": "Beauty",
                                    "2": "cfossett2n@fc2.com",
                                    "3": "674081.49",
                                    "4": "883376.00"
                                },
                                {
                                    "0": "Ainslee",
                                    "1": "Beauty",
                                    "2": "adorbon7w@over-blog.com",
                                    "3": "656114.00",
                                    "4": "883376.00"
                                },
                                {
                                    "0": "Arron",
                                    "1": "Beauty",
                                    "2": "alamersbj@w3.org",
                                    "3": "646721.95",
                                    "4": "883376.00"
                                },
                                {
                                    "0": "Hastie",
                                    "1": "Beauty",
                                    "2": "hpyzer67@nationalgeographic.com",
                                    "3": "635462.74",
                                    "4": "883376.00"
                                },
                                {
                                    "0": "Charlton",
                                    "1": "Beauty",
                                    "2": "cspelmand2@cafepress.com",
                                    "3": "630298.62",
                                    "4": "883376.00"
                                },
                                {
                                    "0": "Hollie",
                                    "1": "Beauty",
                                    "2": "hvaleria8@123-reg.co.uk",
                                    "3": "587429.18",
                                    "4": "883376.00"
                                },
                                {
                                    "0": "Garvy",
                                    "1": "Beauty",
                                    "2": "gapplegarth46@kickstarter.com",
                                    "3": "558526.37",
                                    "4": "883376.00"
                                },
                                {
                                    "0": "Kath",
                                    "1": "Beauty",
                                    "2": "kgranham40@rakuten.co.jp",
                                    "3": "558488.54",
                                    "4": "883376.00"
                                },
                                {
                                    "0": "Kipper",
                                    "1": "Beauty",
                                    "2": "klaba1w@cdc.gov",
                                    "3": "546927.85",
                                    "4": "883376.00"
                                },
                                {
                                    "0": "Minnaminnie",
                                    "1": "Beauty",
                                    "2": "mbrundellae@bbb.org",
                                    "3": "540984.44",
                                    "4": "883376.00"
                                },
                                {
                                    "0": "Florry",
                                    "1": "Beauty",
                                    "2": "fmalyan9i@imdb.com",
                                    "3": "488724.77",
                                    "4": "883376.00"
                                },
                                {
                                    "0": "Gerry",
                                    "1": "Beauty",
                                    "2": "gcable1r@hubpages.com",
                                    "3": "465919.05",
                                    "4": "883376.00"
                                },
                                {
                                    "0": "Letisha",
                                    "1": "Beauty",
                                    "2": "NULL",
                                    "3": "425552.65",
                                    "4": "883376.00"
                                },
                                {
                                    "0": "Shaylah",
                                    "1": "Beauty",
                                    "2": "NULL",
                                    "3": "424597.45",
                                    "4": "883376.00"
                                },
                                {
                                    "0": "Joleen",
                                    "1": "Beauty",
                                    "2": "jblindermann2t@salon.com",
                                    "3": "420623.10",
                                    "4": "883376.00"
                                },
                                {
                                    "0": "Thomasine",
                                    "1": "Beauty",
                                    "2": "tghidoni27@i2i.jp",
                                    "3": "396458.62",
                                    "4": "883376.00"
                                },
                                {
                                    "0": "Rod",
                                    "1": "Beauty",
                                    "2": "rcreavinck@alibaba.com",
                                    "3": "382119.66",
                                    "4": "883376.00"
                                },
                                {
                                    "0": "Bennie",
                                    "1": "Beauty",
                                    "2": "bcorsar2p@dell.com",
                                    "3": "353065.88",
                                    "4": "883376.00"
                                },
                                {
                                    "0": "Benedict",
                                    "1": "Beauty",
                                    "2": "blaboune1s@xing.com",
                                    "3": "319277.50",
                                    "4": "883376.00"
                                },
                                {
                                    "0": "Loraine",
                                    "1": "Beauty",
                                    "2": "lnoades3x@examiner.com",
                                    "3": "281916.44",
                                    "4": "883376.00"
                                },
                                {
                                    "0": "Muire",
                                    "1": "Beauty",
                                    "2": "mrapsey4@zimbio.com",
                                    "3": "274068.20",
                                    "4": "883376.00"
                                },
                                {
                                    "0": "Kristofer",
                                    "1": "Beauty",
                                    "2": "kingall2o@yale.edu",
                                    "3": "266426.00",
                                    "4": "883376.00"
                                },
                                {
                                    "0": "Denny",
                                    "1": "Beauty",
                                    "2": "NULL",
                                    "3": "213625.82",
                                    "4": "883376.00"
                                },
                                {
                                    "0": "Mahala",
                                    "1": "Beauty",
                                    "2": "mpedican32@springer.com",
                                    "3": "198354.91",
                                    "4": "883376.00"
                                },
                                {
                                    "0": "Marieann",
                                    "1": "Beauty",
                                    "2": "mfusco3l@ameblo.jp",
                                    "3": "151321.74",
                                    "4": "883376.00"
                                },
                                {
                                    "0": "Tedie",
                                    "1": "Beauty",
                                    "2": "tstorie7l@pbs.org",
                                    "3": "119119.34",
                                    "4": "883376.00"
                                },
                                {
                                    "0": "Donnie",
                                    "1": "Beauty",
                                    "2": "dcasercd@wikispaces.com",
                                    "3": "111954.02",
                                    "4": "883376.00"
                                },
                                {
                                    "0": "Lion",
                                    "1": "Beauty",
                                    "2": "lughetti5l@macromedia.com",
                                    "3": "95853.66",
                                    "4": "883376.00"
                                },
                                {
                                    "0": "Sloane",
                                    "1": "Beauty",
                                    "2": "sglasard57@lulu.com",
                                    "3": "86160.67",
                                    "4": "883376.00"
                                },
                                {
                                    "0": "Rachel",
                                    "1": "Beauty",
                                    "2": "rrobinson95@live.com",
                                    "3": "15189.47",
                                    "4": "883376.00"
                                },
                                {
                                    "0": "Em",
                                    "1": "Books",
                                    "2": "ehayen6r@cdc.gov",
                                    "3": "893687.39",
                                    "4": "893687.39"
                                },
                                {
                                    "0": "Jordan",
                                    "1": "Books",
                                    "2": "jdudderidge3w@dot.gov",
                                    "3": "883726.54",
                                    "4": "893687.39"
                                },
                                {
                                    "0": "Gaby",
                                    "1": "Books",
                                    "2": "goldcroft5i@wsj.com",
                                    "3": "873079.07",
                                    "4": "893687.39"
                                },
                                {
                                    "0": "Gertrud",
                                    "1": "Books",
                                    "2": "gcanelas4s@tinypic.com",
                                    "3": "869020.65",
                                    "4": "893687.39"
                                },
                                {
                                    "0": "Cynthia",
                                    "1": "Books",
                                    "2": "cgerdes22@woothemes.com",
                                    "3": "868991.54",
                                    "4": "893687.39"
                                },
                                {
                                    "0": "Darill",
                                    "1": "Books",
                                    "2": "dmacilhagga1l@tmall.com",
                                    "3": "862994.17",
                                    "4": "893687.39"
                                },
                                {
                                    "0": "Kania",
                                    "1": "Books",
                                    "2": "kavison2o@jimdo.com",
                                    "3": "852122.11",
                                    "4": "893687.39"
                                },
                                {
                                    "0": "Krispin",
                                    "1": "Books",
                                    "2": "klaidlow6x@dailymotion.com",
                                    "3": "799403.21",
                                    "4": "893687.39"
                                },
                                {
                                    "0": "Temple",
                                    "1": "Books",
                                    "2": "tgroombridgedt@artisteer.com",
                                    "3": "754250.17",
                                    "4": "893687.39"
                                },
                                {
                                    "0": "Nadeen",
                                    "1": "Books",
                                    "2": "nistedb4@issuu.com",
                                    "3": "751823.59",
                                    "4": "893687.39"
                                },
                                {
                                    "0": "Shanon",
                                    "1": "Books",
                                    "2": "smccay90@uol.com.br",
                                    "3": "749534.69",
                                    "4": "893687.39"
                                },
                                {
                                    "0": "Daniela",
                                    "1": "Books",
                                    "2": "dkenn6b@ihg.com",
                                    "3": "736448.67",
                                    "4": "893687.39"
                                },
                                {
                                    "0": "Arabele",
                                    "1": "Books",
                                    "2": "acancellieri0@networkadvertising.org",
                                    "3": "722198.30",
                                    "4": "893687.39"
                                },
                                {
                                    "0": "Claudianus",
                                    "1": "Books",
                                    "2": "cmagerci@discovery.com",
                                    "3": "709286.08",
                                    "4": "893687.39"
                                },
                                {
                                    "0": "Cecily",
                                    "1": "Books",
                                    "2": "cmulqueen3e@seattletimes.com",
                                    "3": "677403.82",
                                    "4": "893687.39"
                                },
                                {
                                    "0": "Gwenette",
                                    "1": "Books",
                                    "2": "gwoolger2k@livejournal.com",
                                    "3": "674268.31",
                                    "4": "893687.39"
                                },
                                {
                                    "0": "Bren",
                                    "1": "Books",
                                    "2": "bpieruccibc@samsung.com",
                                    "3": "649083.31",
                                    "4": "893687.39"
                                },
                                {
                                    "0": "Neddy",
                                    "1": "Books",
                                    "2": "nlacase93@gravatar.com",
                                    "3": "635959.98",
                                    "4": "893687.39"
                                },
                                {
                                    "0": "Gene",
                                    "1": "Books",
                                    "2": "goldknow39@about.com",
                                    "3": "629086.13",
                                    "4": "893687.39"
                                },
                                {
                                    "0": "Noble",
                                    "1": "Books",
                                    "2": "nbostona@ehow.com",
                                    "3": "573624.98",
                                    "4": "893687.39"
                                },
                                {
                                    "0": "Briana",
                                    "1": "Books",
                                    "2": "brumsby3a@hc360.com",
                                    "3": "535511.00",
                                    "4": "893687.39"
                                },
                                {
                                    "0": "Nancee",
                                    "1": "Books",
                                    "2": "NULL",
                                    "3": "506971.44",
                                    "4": "893687.39"
                                },
                                {
                                    "0": "Maren",
                                    "1": "Books",
                                    "2": "mblackway35@pinterest.com",
                                    "3": "487754.68",
                                    "4": "893687.39"
                                }
                            ]
                        },
                        "text/html": "<table><tr><th>first_name</th><th>department</th><th>email</th><th>salary</th><th>first_value</th></tr><tr><td>Mata</td><td>Automotive</td><td>mburnel3r@over-blog.com</td><td>891362.71</td><td>891362.71</td></tr><tr><td>Brier</td><td>Automotive</td><td>NULL</td><td>888354.50</td><td>891362.71</td></tr><tr><td>Juan</td><td>Automotive</td><td>NULL</td><td>843209.15</td><td>891362.71</td></tr><tr><td>Kara</td><td>Automotive</td><td>khorder79@ted.com</td><td>840806.70</td><td>891362.71</td></tr><tr><td>Elysia</td><td>Automotive</td><td>ebaythrop11@macromedia.com</td><td>829374.92</td><td>891362.71</td></tr><tr><td>Veradis</td><td>Automotive</td><td>NULL</td><td>784811.83</td><td>891362.71</td></tr><tr><td>Lynn</td><td>Automotive</td><td>lswapp43@xing.com</td><td>701645.90</td><td>891362.71</td></tr><tr><td>Rollin</td><td>Automotive</td><td>rcroughan9s@pagesperso-orange.fr</td><td>679293.30</td><td>891362.71</td></tr><tr><td>Issiah</td><td>Automotive</td><td>irojelaf@marketwatch.com</td><td>610116.00</td><td>891362.71</td></tr><tr><td>Heywood</td><td>Automotive</td><td>hferenceaq@chron.com</td><td>604905.13</td><td>891362.71</td></tr><tr><td>Lottie</td><td>Automotive</td><td>ldengeq@oaic.gov.au</td><td>604584.00</td><td>891362.71</td></tr><tr><td>Emerson</td><td>Automotive</td><td>ehurchbw@hibu.com</td><td>590657.62</td><td>891362.71</td></tr><tr><td>Delphinia</td><td>Automotive</td><td>dmenelr@china.com.cn</td><td>547618.32</td><td>891362.71</td></tr><tr><td>Madison</td><td>Automotive</td><td>mjerkec@wp.com</td><td>545428.64</td><td>891362.71</td></tr><tr><td>Terencio</td><td>Automotive</td><td>tcordall9r@auda.org.au</td><td>497590.52</td><td>891362.71</td></tr><tr><td>Ricki</td><td>Automotive</td><td>rdregan7t@chronoengine.com</td><td>422788.58</td><td>891362.71</td></tr><tr><td>Asa</td><td>Automotive</td><td>alanfear2r@aol.com</td><td>416037.09</td><td>891362.71</td></tr><tr><td>Maximilien</td><td>Automotive</td><td>mwigginton6d@mit.edu</td><td>373083.37</td><td>891362.71</td></tr><tr><td>Lurleen</td><td>Automotive</td><td>lespinheira8s@thetimes.co.uk</td><td>359205.59</td><td>891362.71</td></tr><tr><td>Renato</td><td>Automotive</td><td>rdingleybs@arstechnica.com</td><td>355547.30</td><td>891362.71</td></tr><tr><td>Walther</td><td>Automotive</td><td>wbates4p@wikipedia.org</td><td>325144.69</td><td>891362.71</td></tr><tr><td>Herby</td><td>Automotive</td><td>hbozward26@ucsd.edu</td><td>305766.16</td><td>891362.71</td></tr><tr><td>Corrie</td><td>Automotive</td><td>cstanford8w@apple.com</td><td>270740.69</td><td>891362.71</td></tr><tr><td>Hank</td><td>Automotive</td><td>NULL</td><td>269600.56</td><td>891362.71</td></tr><tr><td>Perry</td><td>Automotive</td><td>pproske4y@taobao.com</td><td>257156.66</td><td>891362.71</td></tr><tr><td>Julian</td><td>Automotive</td><td>NULL</td><td>248206.97</td><td>891362.71</td></tr><tr><td>Kim</td><td>Automotive</td><td>kmeaking8p@dailymail.co.uk</td><td>243947.31</td><td>891362.71</td></tr><tr><td>Melva</td><td>Automotive</td><td>mlillicrap2f@sourceforge.net</td><td>239110.18</td><td>891362.71</td></tr><tr><td>Nesta</td><td>Automotive</td><td>nneadscw@networksolutions.com</td><td>233772.20</td><td>891362.71</td></tr><tr><td>Amble</td><td>Automotive</td><td>aajean6w@weather.com</td><td>233479.16</td><td>891362.71</td></tr><tr><td>Shirlene</td><td>Automotive</td><td>sbills91@ucla.edu</td><td>215463.72</td><td>891362.71</td></tr><tr><td>Amery</td><td>Automotive</td><td>aterbruggenm@aol.com</td><td>212631.05</td><td>891362.71</td></tr><tr><td>Colver</td><td>Automotive</td><td>cmccusker2j@sfgate.com</td><td>204187.08</td><td>891362.71</td></tr><tr><td>Fidela</td><td>Automotive</td><td>fpeart1k@who.int</td><td>169307.55</td><td>891362.71</td></tr><tr><td>Tildy</td><td>Automotive</td><td>tlipgensee@yellowbook.com</td><td>142691.84</td><td>891362.71</td></tr><tr><td>Celisse</td><td>Automotive</td><td>creims5c@state.gov</td><td>115252.89</td><td>891362.71</td></tr><tr><td>Oralee</td><td>Automotive</td><td>orameta6@yahoo.co.jp</td><td>96782.86</td><td>891362.71</td></tr><tr><td>Brice</td><td>Automotive</td><td>bpendreigh7x@forbes.com</td><td>44530.58</td><td>891362.71</td></tr><tr><td>Abe</td><td>Automotive</td><td>abuck1y@jigsy.com</td><td>33973.88</td><td>891362.71</td></tr><tr><td>Mario</td><td>Automotive</td><td>mgiacobonicm@csmonitor.com</td><td>24976.38</td><td>891362.71</td></tr><tr><td>Elga</td><td>Automotive</td><td>eboldersondx@prlog.org</td><td>21395.65</td><td>891362.71</td></tr><tr><td>Clerkclaude</td><td>Automotive</td><td>cmussalli7f@pinterest.com</td><td>14496.80</td><td>891362.71</td></tr><tr><td>Arnie</td><td>Automotive</td><td>agillanic8@weibo.com</td><td>13182.30</td><td>891362.71</td></tr><tr><td>Tom</td><td>Beauty</td><td>tplankh@va.gov</td><td>883376.00</td><td>883376.00</td></tr><tr><td>Warde</td><td>Beauty</td><td>wdoerren4b@cornell.edu</td><td>882712.00</td><td>883376.00</td></tr><tr><td>Nichol</td><td>Beauty</td><td>nmougenel8@google.com.br</td><td>851247.94</td><td>883376.00</td></tr><tr><td>Pamella</td><td>Beauty</td><td>pdetoc54@cnn.com</td><td>758483.94</td><td>883376.00</td></tr><tr><td>Charles</td><td>Beauty</td><td>cfossett2n@fc2.com</td><td>674081.49</td><td>883376.00</td></tr><tr><td>Ainslee</td><td>Beauty</td><td>adorbon7w@over-blog.com</td><td>656114.00</td><td>883376.00</td></tr><tr><td>Arron</td><td>Beauty</td><td>alamersbj@w3.org</td><td>646721.95</td><td>883376.00</td></tr><tr><td>Hastie</td><td>Beauty</td><td>hpyzer67@nationalgeographic.com</td><td>635462.74</td><td>883376.00</td></tr><tr><td>Charlton</td><td>Beauty</td><td>cspelmand2@cafepress.com</td><td>630298.62</td><td>883376.00</td></tr><tr><td>Hollie</td><td>Beauty</td><td>hvaleria8@123-reg.co.uk</td><td>587429.18</td><td>883376.00</td></tr><tr><td>Garvy</td><td>Beauty</td><td>gapplegarth46@kickstarter.com</td><td>558526.37</td><td>883376.00</td></tr><tr><td>Kath</td><td>Beauty</td><td>kgranham40@rakuten.co.jp</td><td>558488.54</td><td>883376.00</td></tr><tr><td>Kipper</td><td>Beauty</td><td>klaba1w@cdc.gov</td><td>546927.85</td><td>883376.00</td></tr><tr><td>Minnaminnie</td><td>Beauty</td><td>mbrundellae@bbb.org</td><td>540984.44</td><td>883376.00</td></tr><tr><td>Florry</td><td>Beauty</td><td>fmalyan9i@imdb.com</td><td>488724.77</td><td>883376.00</td></tr><tr><td>Gerry</td><td>Beauty</td><td>gcable1r@hubpages.com</td><td>465919.05</td><td>883376.00</td></tr><tr><td>Letisha</td><td>Beauty</td><td>NULL</td><td>425552.65</td><td>883376.00</td></tr><tr><td>Shaylah</td><td>Beauty</td><td>NULL</td><td>424597.45</td><td>883376.00</td></tr><tr><td>Joleen</td><td>Beauty</td><td>jblindermann2t@salon.com</td><td>420623.10</td><td>883376.00</td></tr><tr><td>Thomasine</td><td>Beauty</td><td>tghidoni27@i2i.jp</td><td>396458.62</td><td>883376.00</td></tr><tr><td>Rod</td><td>Beauty</td><td>rcreavinck@alibaba.com</td><td>382119.66</td><td>883376.00</td></tr><tr><td>Bennie</td><td>Beauty</td><td>bcorsar2p@dell.com</td><td>353065.88</td><td>883376.00</td></tr><tr><td>Benedict</td><td>Beauty</td><td>blaboune1s@xing.com</td><td>319277.50</td><td>883376.00</td></tr><tr><td>Loraine</td><td>Beauty</td><td>lnoades3x@examiner.com</td><td>281916.44</td><td>883376.00</td></tr><tr><td>Muire</td><td>Beauty</td><td>mrapsey4@zimbio.com</td><td>274068.20</td><td>883376.00</td></tr><tr><td>Kristofer</td><td>Beauty</td><td>kingall2o@yale.edu</td><td>266426.00</td><td>883376.00</td></tr><tr><td>Denny</td><td>Beauty</td><td>NULL</td><td>213625.82</td><td>883376.00</td></tr><tr><td>Mahala</td><td>Beauty</td><td>mpedican32@springer.com</td><td>198354.91</td><td>883376.00</td></tr><tr><td>Marieann</td><td>Beauty</td><td>mfusco3l@ameblo.jp</td><td>151321.74</td><td>883376.00</td></tr><tr><td>Tedie</td><td>Beauty</td><td>tstorie7l@pbs.org</td><td>119119.34</td><td>883376.00</td></tr><tr><td>Donnie</td><td>Beauty</td><td>dcasercd@wikispaces.com</td><td>111954.02</td><td>883376.00</td></tr><tr><td>Lion</td><td>Beauty</td><td>lughetti5l@macromedia.com</td><td>95853.66</td><td>883376.00</td></tr><tr><td>Sloane</td><td>Beauty</td><td>sglasard57@lulu.com</td><td>86160.67</td><td>883376.00</td></tr><tr><td>Rachel</td><td>Beauty</td><td>rrobinson95@live.com</td><td>15189.47</td><td>883376.00</td></tr><tr><td>Em</td><td>Books</td><td>ehayen6r@cdc.gov</td><td>893687.39</td><td>893687.39</td></tr><tr><td>Jordan</td><td>Books</td><td>jdudderidge3w@dot.gov</td><td>883726.54</td><td>893687.39</td></tr><tr><td>Gaby</td><td>Books</td><td>goldcroft5i@wsj.com</td><td>873079.07</td><td>893687.39</td></tr><tr><td>Gertrud</td><td>Books</td><td>gcanelas4s@tinypic.com</td><td>869020.65</td><td>893687.39</td></tr><tr><td>Cynthia</td><td>Books</td><td>cgerdes22@woothemes.com</td><td>868991.54</td><td>893687.39</td></tr><tr><td>Darill</td><td>Books</td><td>dmacilhagga1l@tmall.com</td><td>862994.17</td><td>893687.39</td></tr><tr><td>Kania</td><td>Books</td><td>kavison2o@jimdo.com</td><td>852122.11</td><td>893687.39</td></tr><tr><td>Krispin</td><td>Books</td><td>klaidlow6x@dailymotion.com</td><td>799403.21</td><td>893687.39</td></tr><tr><td>Temple</td><td>Books</td><td>tgroombridgedt@artisteer.com</td><td>754250.17</td><td>893687.39</td></tr><tr><td>Nadeen</td><td>Books</td><td>nistedb4@issuu.com</td><td>751823.59</td><td>893687.39</td></tr><tr><td>Shanon</td><td>Books</td><td>smccay90@uol.com.br</td><td>749534.69</td><td>893687.39</td></tr><tr><td>Daniela</td><td>Books</td><td>dkenn6b@ihg.com</td><td>736448.67</td><td>893687.39</td></tr><tr><td>Arabele</td><td>Books</td><td>acancellieri0@networkadvertising.org</td><td>722198.30</td><td>893687.39</td></tr><tr><td>Claudianus</td><td>Books</td><td>cmagerci@discovery.com</td><td>709286.08</td><td>893687.39</td></tr><tr><td>Cecily</td><td>Books</td><td>cmulqueen3e@seattletimes.com</td><td>677403.82</td><td>893687.39</td></tr><tr><td>Gwenette</td><td>Books</td><td>gwoolger2k@livejournal.com</td><td>674268.31</td><td>893687.39</td></tr><tr><td>Bren</td><td>Books</td><td>bpieruccibc@samsung.com</td><td>649083.31</td><td>893687.39</td></tr><tr><td>Neddy</td><td>Books</td><td>nlacase93@gravatar.com</td><td>635959.98</td><td>893687.39</td></tr><tr><td>Gene</td><td>Books</td><td>goldknow39@about.com</td><td>629086.13</td><td>893687.39</td></tr><tr><td>Noble</td><td>Books</td><td>nbostona@ehow.com</td><td>573624.98</td><td>893687.39</td></tr><tr><td>Briana</td><td>Books</td><td>brumsby3a@hc360.com</td><td>535511.00</td><td>893687.39</td></tr><tr><td>Nancee</td><td>Books</td><td>NULL</td><td>506971.44</td><td>893687.39</td></tr><tr><td>Maren</td><td>Books</td><td>mblackway35@pinterest.com</td><td>487754.68</td><td>893687.39</td></tr></table>"
                    }
                }
            ],
            "execution_count": 39
        },
        {
            "cell_type": "code",
            "source": "SELECT first_name, department, email, salary,\nNTH_VALUE(salary, 5) OVER(PARTITION BY department ORDER BY salary DESC)\nFROM employees LIMIT 100;",
            "metadata": {},
            "outputs": [
                {
                    "output_type": "display_data",
                    "data": {
                        "text/html": "(100 row(s) affected)"
                    },
                    "metadata": {}
                },
                {
                    "output_type": "display_data",
                    "data": {
                        "text/html": "Total execution time: 0:00:00.032380"
                    },
                    "metadata": {}
                },
                {
                    "output_type": "execute_result",
                    "metadata": {},
                    "execution_count": 40,
                    "data": {
                        "application/vnd.dataresource+json": {
                            "schema": {
                                "fields": [
                                    {
                                        "name": "first_name"
                                    },
                                    {
                                        "name": "department"
                                    },
                                    {
                                        "name": "email"
                                    },
                                    {
                                        "name": "salary"
                                    },
                                    {
                                        "name": "nth_value"
                                    }
                                ]
                            },
                            "data": [
                                {
                                    "0": "Mata",
                                    "1": "Automotive",
                                    "2": "mburnel3r@over-blog.com",
                                    "3": "891362.71",
                                    "4": "NULL"
                                },
                                {
                                    "0": "Brier",
                                    "1": "Automotive",
                                    "2": "NULL",
                                    "3": "888354.50",
                                    "4": "NULL"
                                },
                                {
                                    "0": "Juan",
                                    "1": "Automotive",
                                    "2": "NULL",
                                    "3": "843209.15",
                                    "4": "NULL"
                                },
                                {
                                    "0": "Kara",
                                    "1": "Automotive",
                                    "2": "khorder79@ted.com",
                                    "3": "840806.70",
                                    "4": "NULL"
                                },
                                {
                                    "0": "Elysia",
                                    "1": "Automotive",
                                    "2": "ebaythrop11@macromedia.com",
                                    "3": "829374.92",
                                    "4": "829374.92"
                                },
                                {
                                    "0": "Veradis",
                                    "1": "Automotive",
                                    "2": "NULL",
                                    "3": "784811.83",
                                    "4": "829374.92"
                                },
                                {
                                    "0": "Lynn",
                                    "1": "Automotive",
                                    "2": "lswapp43@xing.com",
                                    "3": "701645.90",
                                    "4": "829374.92"
                                },
                                {
                                    "0": "Rollin",
                                    "1": "Automotive",
                                    "2": "rcroughan9s@pagesperso-orange.fr",
                                    "3": "679293.30",
                                    "4": "829374.92"
                                },
                                {
                                    "0": "Issiah",
                                    "1": "Automotive",
                                    "2": "irojelaf@marketwatch.com",
                                    "3": "610116.00",
                                    "4": "829374.92"
                                },
                                {
                                    "0": "Heywood",
                                    "1": "Automotive",
                                    "2": "hferenceaq@chron.com",
                                    "3": "604905.13",
                                    "4": "829374.92"
                                },
                                {
                                    "0": "Lottie",
                                    "1": "Automotive",
                                    "2": "ldengeq@oaic.gov.au",
                                    "3": "604584.00",
                                    "4": "829374.92"
                                },
                                {
                                    "0": "Emerson",
                                    "1": "Automotive",
                                    "2": "ehurchbw@hibu.com",
                                    "3": "590657.62",
                                    "4": "829374.92"
                                },
                                {
                                    "0": "Delphinia",
                                    "1": "Automotive",
                                    "2": "dmenelr@china.com.cn",
                                    "3": "547618.32",
                                    "4": "829374.92"
                                },
                                {
                                    "0": "Madison",
                                    "1": "Automotive",
                                    "2": "mjerkec@wp.com",
                                    "3": "545428.64",
                                    "4": "829374.92"
                                },
                                {
                                    "0": "Terencio",
                                    "1": "Automotive",
                                    "2": "tcordall9r@auda.org.au",
                                    "3": "497590.52",
                                    "4": "829374.92"
                                },
                                {
                                    "0": "Ricki",
                                    "1": "Automotive",
                                    "2": "rdregan7t@chronoengine.com",
                                    "3": "422788.58",
                                    "4": "829374.92"
                                },
                                {
                                    "0": "Asa",
                                    "1": "Automotive",
                                    "2": "alanfear2r@aol.com",
                                    "3": "416037.09",
                                    "4": "829374.92"
                                },
                                {
                                    "0": "Maximilien",
                                    "1": "Automotive",
                                    "2": "mwigginton6d@mit.edu",
                                    "3": "373083.37",
                                    "4": "829374.92"
                                },
                                {
                                    "0": "Lurleen",
                                    "1": "Automotive",
                                    "2": "lespinheira8s@thetimes.co.uk",
                                    "3": "359205.59",
                                    "4": "829374.92"
                                },
                                {
                                    "0": "Renato",
                                    "1": "Automotive",
                                    "2": "rdingleybs@arstechnica.com",
                                    "3": "355547.30",
                                    "4": "829374.92"
                                },
                                {
                                    "0": "Walther",
                                    "1": "Automotive",
                                    "2": "wbates4p@wikipedia.org",
                                    "3": "325144.69",
                                    "4": "829374.92"
                                },
                                {
                                    "0": "Herby",
                                    "1": "Automotive",
                                    "2": "hbozward26@ucsd.edu",
                                    "3": "305766.16",
                                    "4": "829374.92"
                                },
                                {
                                    "0": "Corrie",
                                    "1": "Automotive",
                                    "2": "cstanford8w@apple.com",
                                    "3": "270740.69",
                                    "4": "829374.92"
                                },
                                {
                                    "0": "Hank",
                                    "1": "Automotive",
                                    "2": "NULL",
                                    "3": "269600.56",
                                    "4": "829374.92"
                                },
                                {
                                    "0": "Perry",
                                    "1": "Automotive",
                                    "2": "pproske4y@taobao.com",
                                    "3": "257156.66",
                                    "4": "829374.92"
                                },
                                {
                                    "0": "Julian",
                                    "1": "Automotive",
                                    "2": "NULL",
                                    "3": "248206.97",
                                    "4": "829374.92"
                                },
                                {
                                    "0": "Kim",
                                    "1": "Automotive",
                                    "2": "kmeaking8p@dailymail.co.uk",
                                    "3": "243947.31",
                                    "4": "829374.92"
                                },
                                {
                                    "0": "Melva",
                                    "1": "Automotive",
                                    "2": "mlillicrap2f@sourceforge.net",
                                    "3": "239110.18",
                                    "4": "829374.92"
                                },
                                {
                                    "0": "Nesta",
                                    "1": "Automotive",
                                    "2": "nneadscw@networksolutions.com",
                                    "3": "233772.20",
                                    "4": "829374.92"
                                },
                                {
                                    "0": "Amble",
                                    "1": "Automotive",
                                    "2": "aajean6w@weather.com",
                                    "3": "233479.16",
                                    "4": "829374.92"
                                },
                                {
                                    "0": "Shirlene",
                                    "1": "Automotive",
                                    "2": "sbills91@ucla.edu",
                                    "3": "215463.72",
                                    "4": "829374.92"
                                },
                                {
                                    "0": "Amery",
                                    "1": "Automotive",
                                    "2": "aterbruggenm@aol.com",
                                    "3": "212631.05",
                                    "4": "829374.92"
                                },
                                {
                                    "0": "Colver",
                                    "1": "Automotive",
                                    "2": "cmccusker2j@sfgate.com",
                                    "3": "204187.08",
                                    "4": "829374.92"
                                },
                                {
                                    "0": "Fidela",
                                    "1": "Automotive",
                                    "2": "fpeart1k@who.int",
                                    "3": "169307.55",
                                    "4": "829374.92"
                                },
                                {
                                    "0": "Tildy",
                                    "1": "Automotive",
                                    "2": "tlipgensee@yellowbook.com",
                                    "3": "142691.84",
                                    "4": "829374.92"
                                },
                                {
                                    "0": "Celisse",
                                    "1": "Automotive",
                                    "2": "creims5c@state.gov",
                                    "3": "115252.89",
                                    "4": "829374.92"
                                },
                                {
                                    "0": "Oralee",
                                    "1": "Automotive",
                                    "2": "orameta6@yahoo.co.jp",
                                    "3": "96782.86",
                                    "4": "829374.92"
                                },
                                {
                                    "0": "Brice",
                                    "1": "Automotive",
                                    "2": "bpendreigh7x@forbes.com",
                                    "3": "44530.58",
                                    "4": "829374.92"
                                },
                                {
                                    "0": "Abe",
                                    "1": "Automotive",
                                    "2": "abuck1y@jigsy.com",
                                    "3": "33973.88",
                                    "4": "829374.92"
                                },
                                {
                                    "0": "Mario",
                                    "1": "Automotive",
                                    "2": "mgiacobonicm@csmonitor.com",
                                    "3": "24976.38",
                                    "4": "829374.92"
                                },
                                {
                                    "0": "Elga",
                                    "1": "Automotive",
                                    "2": "eboldersondx@prlog.org",
                                    "3": "21395.65",
                                    "4": "829374.92"
                                },
                                {
                                    "0": "Clerkclaude",
                                    "1": "Automotive",
                                    "2": "cmussalli7f@pinterest.com",
                                    "3": "14496.80",
                                    "4": "829374.92"
                                },
                                {
                                    "0": "Arnie",
                                    "1": "Automotive",
                                    "2": "agillanic8@weibo.com",
                                    "3": "13182.30",
                                    "4": "829374.92"
                                },
                                {
                                    "0": "Tom",
                                    "1": "Beauty",
                                    "2": "tplankh@va.gov",
                                    "3": "883376.00",
                                    "4": "NULL"
                                },
                                {
                                    "0": "Warde",
                                    "1": "Beauty",
                                    "2": "wdoerren4b@cornell.edu",
                                    "3": "882712.00",
                                    "4": "NULL"
                                },
                                {
                                    "0": "Nichol",
                                    "1": "Beauty",
                                    "2": "nmougenel8@google.com.br",
                                    "3": "851247.94",
                                    "4": "NULL"
                                },
                                {
                                    "0": "Pamella",
                                    "1": "Beauty",
                                    "2": "pdetoc54@cnn.com",
                                    "3": "758483.94",
                                    "4": "NULL"
                                },
                                {
                                    "0": "Charles",
                                    "1": "Beauty",
                                    "2": "cfossett2n@fc2.com",
                                    "3": "674081.49",
                                    "4": "674081.49"
                                },
                                {
                                    "0": "Ainslee",
                                    "1": "Beauty",
                                    "2": "adorbon7w@over-blog.com",
                                    "3": "656114.00",
                                    "4": "674081.49"
                                },
                                {
                                    "0": "Arron",
                                    "1": "Beauty",
                                    "2": "alamersbj@w3.org",
                                    "3": "646721.95",
                                    "4": "674081.49"
                                },
                                {
                                    "0": "Hastie",
                                    "1": "Beauty",
                                    "2": "hpyzer67@nationalgeographic.com",
                                    "3": "635462.74",
                                    "4": "674081.49"
                                },
                                {
                                    "0": "Charlton",
                                    "1": "Beauty",
                                    "2": "cspelmand2@cafepress.com",
                                    "3": "630298.62",
                                    "4": "674081.49"
                                },
                                {
                                    "0": "Hollie",
                                    "1": "Beauty",
                                    "2": "hvaleria8@123-reg.co.uk",
                                    "3": "587429.18",
                                    "4": "674081.49"
                                },
                                {
                                    "0": "Garvy",
                                    "1": "Beauty",
                                    "2": "gapplegarth46@kickstarter.com",
                                    "3": "558526.37",
                                    "4": "674081.49"
                                },
                                {
                                    "0": "Kath",
                                    "1": "Beauty",
                                    "2": "kgranham40@rakuten.co.jp",
                                    "3": "558488.54",
                                    "4": "674081.49"
                                },
                                {
                                    "0": "Kipper",
                                    "1": "Beauty",
                                    "2": "klaba1w@cdc.gov",
                                    "3": "546927.85",
                                    "4": "674081.49"
                                },
                                {
                                    "0": "Minnaminnie",
                                    "1": "Beauty",
                                    "2": "mbrundellae@bbb.org",
                                    "3": "540984.44",
                                    "4": "674081.49"
                                },
                                {
                                    "0": "Florry",
                                    "1": "Beauty",
                                    "2": "fmalyan9i@imdb.com",
                                    "3": "488724.77",
                                    "4": "674081.49"
                                },
                                {
                                    "0": "Gerry",
                                    "1": "Beauty",
                                    "2": "gcable1r@hubpages.com",
                                    "3": "465919.05",
                                    "4": "674081.49"
                                },
                                {
                                    "0": "Letisha",
                                    "1": "Beauty",
                                    "2": "NULL",
                                    "3": "425552.65",
                                    "4": "674081.49"
                                },
                                {
                                    "0": "Shaylah",
                                    "1": "Beauty",
                                    "2": "NULL",
                                    "3": "424597.45",
                                    "4": "674081.49"
                                },
                                {
                                    "0": "Joleen",
                                    "1": "Beauty",
                                    "2": "jblindermann2t@salon.com",
                                    "3": "420623.10",
                                    "4": "674081.49"
                                },
                                {
                                    "0": "Thomasine",
                                    "1": "Beauty",
                                    "2": "tghidoni27@i2i.jp",
                                    "3": "396458.62",
                                    "4": "674081.49"
                                },
                                {
                                    "0": "Rod",
                                    "1": "Beauty",
                                    "2": "rcreavinck@alibaba.com",
                                    "3": "382119.66",
                                    "4": "674081.49"
                                },
                                {
                                    "0": "Bennie",
                                    "1": "Beauty",
                                    "2": "bcorsar2p@dell.com",
                                    "3": "353065.88",
                                    "4": "674081.49"
                                },
                                {
                                    "0": "Benedict",
                                    "1": "Beauty",
                                    "2": "blaboune1s@xing.com",
                                    "3": "319277.50",
                                    "4": "674081.49"
                                },
                                {
                                    "0": "Loraine",
                                    "1": "Beauty",
                                    "2": "lnoades3x@examiner.com",
                                    "3": "281916.44",
                                    "4": "674081.49"
                                },
                                {
                                    "0": "Muire",
                                    "1": "Beauty",
                                    "2": "mrapsey4@zimbio.com",
                                    "3": "274068.20",
                                    "4": "674081.49"
                                },
                                {
                                    "0": "Kristofer",
                                    "1": "Beauty",
                                    "2": "kingall2o@yale.edu",
                                    "3": "266426.00",
                                    "4": "674081.49"
                                },
                                {
                                    "0": "Denny",
                                    "1": "Beauty",
                                    "2": "NULL",
                                    "3": "213625.82",
                                    "4": "674081.49"
                                },
                                {
                                    "0": "Mahala",
                                    "1": "Beauty",
                                    "2": "mpedican32@springer.com",
                                    "3": "198354.91",
                                    "4": "674081.49"
                                },
                                {
                                    "0": "Marieann",
                                    "1": "Beauty",
                                    "2": "mfusco3l@ameblo.jp",
                                    "3": "151321.74",
                                    "4": "674081.49"
                                },
                                {
                                    "0": "Tedie",
                                    "1": "Beauty",
                                    "2": "tstorie7l@pbs.org",
                                    "3": "119119.34",
                                    "4": "674081.49"
                                },
                                {
                                    "0": "Donnie",
                                    "1": "Beauty",
                                    "2": "dcasercd@wikispaces.com",
                                    "3": "111954.02",
                                    "4": "674081.49"
                                },
                                {
                                    "0": "Lion",
                                    "1": "Beauty",
                                    "2": "lughetti5l@macromedia.com",
                                    "3": "95853.66",
                                    "4": "674081.49"
                                },
                                {
                                    "0": "Sloane",
                                    "1": "Beauty",
                                    "2": "sglasard57@lulu.com",
                                    "3": "86160.67",
                                    "4": "674081.49"
                                },
                                {
                                    "0": "Rachel",
                                    "1": "Beauty",
                                    "2": "rrobinson95@live.com",
                                    "3": "15189.47",
                                    "4": "674081.49"
                                },
                                {
                                    "0": "Em",
                                    "1": "Books",
                                    "2": "ehayen6r@cdc.gov",
                                    "3": "893687.39",
                                    "4": "NULL"
                                },
                                {
                                    "0": "Jordan",
                                    "1": "Books",
                                    "2": "jdudderidge3w@dot.gov",
                                    "3": "883726.54",
                                    "4": "NULL"
                                },
                                {
                                    "0": "Gaby",
                                    "1": "Books",
                                    "2": "goldcroft5i@wsj.com",
                                    "3": "873079.07",
                                    "4": "NULL"
                                },
                                {
                                    "0": "Gertrud",
                                    "1": "Books",
                                    "2": "gcanelas4s@tinypic.com",
                                    "3": "869020.65",
                                    "4": "NULL"
                                },
                                {
                                    "0": "Cynthia",
                                    "1": "Books",
                                    "2": "cgerdes22@woothemes.com",
                                    "3": "868991.54",
                                    "4": "868991.54"
                                },
                                {
                                    "0": "Darill",
                                    "1": "Books",
                                    "2": "dmacilhagga1l@tmall.com",
                                    "3": "862994.17",
                                    "4": "868991.54"
                                },
                                {
                                    "0": "Kania",
                                    "1": "Books",
                                    "2": "kavison2o@jimdo.com",
                                    "3": "852122.11",
                                    "4": "868991.54"
                                },
                                {
                                    "0": "Krispin",
                                    "1": "Books",
                                    "2": "klaidlow6x@dailymotion.com",
                                    "3": "799403.21",
                                    "4": "868991.54"
                                },
                                {
                                    "0": "Temple",
                                    "1": "Books",
                                    "2": "tgroombridgedt@artisteer.com",
                                    "3": "754250.17",
                                    "4": "868991.54"
                                },
                                {
                                    "0": "Nadeen",
                                    "1": "Books",
                                    "2": "nistedb4@issuu.com",
                                    "3": "751823.59",
                                    "4": "868991.54"
                                },
                                {
                                    "0": "Shanon",
                                    "1": "Books",
                                    "2": "smccay90@uol.com.br",
                                    "3": "749534.69",
                                    "4": "868991.54"
                                },
                                {
                                    "0": "Daniela",
                                    "1": "Books",
                                    "2": "dkenn6b@ihg.com",
                                    "3": "736448.67",
                                    "4": "868991.54"
                                },
                                {
                                    "0": "Arabele",
                                    "1": "Books",
                                    "2": "acancellieri0@networkadvertising.org",
                                    "3": "722198.30",
                                    "4": "868991.54"
                                },
                                {
                                    "0": "Claudianus",
                                    "1": "Books",
                                    "2": "cmagerci@discovery.com",
                                    "3": "709286.08",
                                    "4": "868991.54"
                                },
                                {
                                    "0": "Cecily",
                                    "1": "Books",
                                    "2": "cmulqueen3e@seattletimes.com",
                                    "3": "677403.82",
                                    "4": "868991.54"
                                },
                                {
                                    "0": "Gwenette",
                                    "1": "Books",
                                    "2": "gwoolger2k@livejournal.com",
                                    "3": "674268.31",
                                    "4": "868991.54"
                                },
                                {
                                    "0": "Bren",
                                    "1": "Books",
                                    "2": "bpieruccibc@samsung.com",
                                    "3": "649083.31",
                                    "4": "868991.54"
                                },
                                {
                                    "0": "Neddy",
                                    "1": "Books",
                                    "2": "nlacase93@gravatar.com",
                                    "3": "635959.98",
                                    "4": "868991.54"
                                },
                                {
                                    "0": "Gene",
                                    "1": "Books",
                                    "2": "goldknow39@about.com",
                                    "3": "629086.13",
                                    "4": "868991.54"
                                },
                                {
                                    "0": "Noble",
                                    "1": "Books",
                                    "2": "nbostona@ehow.com",
                                    "3": "573624.98",
                                    "4": "868991.54"
                                },
                                {
                                    "0": "Briana",
                                    "1": "Books",
                                    "2": "brumsby3a@hc360.com",
                                    "3": "535511.00",
                                    "4": "868991.54"
                                },
                                {
                                    "0": "Nancee",
                                    "1": "Books",
                                    "2": "NULL",
                                    "3": "506971.44",
                                    "4": "868991.54"
                                },
                                {
                                    "0": "Maren",
                                    "1": "Books",
                                    "2": "mblackway35@pinterest.com",
                                    "3": "487754.68",
                                    "4": "868991.54"
                                }
                            ]
                        },
                        "text/html": "<table><tr><th>first_name</th><th>department</th><th>email</th><th>salary</th><th>nth_value</th></tr><tr><td>Mata</td><td>Automotive</td><td>mburnel3r@over-blog.com</td><td>891362.71</td><td>NULL</td></tr><tr><td>Brier</td><td>Automotive</td><td>NULL</td><td>888354.50</td><td>NULL</td></tr><tr><td>Juan</td><td>Automotive</td><td>NULL</td><td>843209.15</td><td>NULL</td></tr><tr><td>Kara</td><td>Automotive</td><td>khorder79@ted.com</td><td>840806.70</td><td>NULL</td></tr><tr><td>Elysia</td><td>Automotive</td><td>ebaythrop11@macromedia.com</td><td>829374.92</td><td>829374.92</td></tr><tr><td>Veradis</td><td>Automotive</td><td>NULL</td><td>784811.83</td><td>829374.92</td></tr><tr><td>Lynn</td><td>Automotive</td><td>lswapp43@xing.com</td><td>701645.90</td><td>829374.92</td></tr><tr><td>Rollin</td><td>Automotive</td><td>rcroughan9s@pagesperso-orange.fr</td><td>679293.30</td><td>829374.92</td></tr><tr><td>Issiah</td><td>Automotive</td><td>irojelaf@marketwatch.com</td><td>610116.00</td><td>829374.92</td></tr><tr><td>Heywood</td><td>Automotive</td><td>hferenceaq@chron.com</td><td>604905.13</td><td>829374.92</td></tr><tr><td>Lottie</td><td>Automotive</td><td>ldengeq@oaic.gov.au</td><td>604584.00</td><td>829374.92</td></tr><tr><td>Emerson</td><td>Automotive</td><td>ehurchbw@hibu.com</td><td>590657.62</td><td>829374.92</td></tr><tr><td>Delphinia</td><td>Automotive</td><td>dmenelr@china.com.cn</td><td>547618.32</td><td>829374.92</td></tr><tr><td>Madison</td><td>Automotive</td><td>mjerkec@wp.com</td><td>545428.64</td><td>829374.92</td></tr><tr><td>Terencio</td><td>Automotive</td><td>tcordall9r@auda.org.au</td><td>497590.52</td><td>829374.92</td></tr><tr><td>Ricki</td><td>Automotive</td><td>rdregan7t@chronoengine.com</td><td>422788.58</td><td>829374.92</td></tr><tr><td>Asa</td><td>Automotive</td><td>alanfear2r@aol.com</td><td>416037.09</td><td>829374.92</td></tr><tr><td>Maximilien</td><td>Automotive</td><td>mwigginton6d@mit.edu</td><td>373083.37</td><td>829374.92</td></tr><tr><td>Lurleen</td><td>Automotive</td><td>lespinheira8s@thetimes.co.uk</td><td>359205.59</td><td>829374.92</td></tr><tr><td>Renato</td><td>Automotive</td><td>rdingleybs@arstechnica.com</td><td>355547.30</td><td>829374.92</td></tr><tr><td>Walther</td><td>Automotive</td><td>wbates4p@wikipedia.org</td><td>325144.69</td><td>829374.92</td></tr><tr><td>Herby</td><td>Automotive</td><td>hbozward26@ucsd.edu</td><td>305766.16</td><td>829374.92</td></tr><tr><td>Corrie</td><td>Automotive</td><td>cstanford8w@apple.com</td><td>270740.69</td><td>829374.92</td></tr><tr><td>Hank</td><td>Automotive</td><td>NULL</td><td>269600.56</td><td>829374.92</td></tr><tr><td>Perry</td><td>Automotive</td><td>pproske4y@taobao.com</td><td>257156.66</td><td>829374.92</td></tr><tr><td>Julian</td><td>Automotive</td><td>NULL</td><td>248206.97</td><td>829374.92</td></tr><tr><td>Kim</td><td>Automotive</td><td>kmeaking8p@dailymail.co.uk</td><td>243947.31</td><td>829374.92</td></tr><tr><td>Melva</td><td>Automotive</td><td>mlillicrap2f@sourceforge.net</td><td>239110.18</td><td>829374.92</td></tr><tr><td>Nesta</td><td>Automotive</td><td>nneadscw@networksolutions.com</td><td>233772.20</td><td>829374.92</td></tr><tr><td>Amble</td><td>Automotive</td><td>aajean6w@weather.com</td><td>233479.16</td><td>829374.92</td></tr><tr><td>Shirlene</td><td>Automotive</td><td>sbills91@ucla.edu</td><td>215463.72</td><td>829374.92</td></tr><tr><td>Amery</td><td>Automotive</td><td>aterbruggenm@aol.com</td><td>212631.05</td><td>829374.92</td></tr><tr><td>Colver</td><td>Automotive</td><td>cmccusker2j@sfgate.com</td><td>204187.08</td><td>829374.92</td></tr><tr><td>Fidela</td><td>Automotive</td><td>fpeart1k@who.int</td><td>169307.55</td><td>829374.92</td></tr><tr><td>Tildy</td><td>Automotive</td><td>tlipgensee@yellowbook.com</td><td>142691.84</td><td>829374.92</td></tr><tr><td>Celisse</td><td>Automotive</td><td>creims5c@state.gov</td><td>115252.89</td><td>829374.92</td></tr><tr><td>Oralee</td><td>Automotive</td><td>orameta6@yahoo.co.jp</td><td>96782.86</td><td>829374.92</td></tr><tr><td>Brice</td><td>Automotive</td><td>bpendreigh7x@forbes.com</td><td>44530.58</td><td>829374.92</td></tr><tr><td>Abe</td><td>Automotive</td><td>abuck1y@jigsy.com</td><td>33973.88</td><td>829374.92</td></tr><tr><td>Mario</td><td>Automotive</td><td>mgiacobonicm@csmonitor.com</td><td>24976.38</td><td>829374.92</td></tr><tr><td>Elga</td><td>Automotive</td><td>eboldersondx@prlog.org</td><td>21395.65</td><td>829374.92</td></tr><tr><td>Clerkclaude</td><td>Automotive</td><td>cmussalli7f@pinterest.com</td><td>14496.80</td><td>829374.92</td></tr><tr><td>Arnie</td><td>Automotive</td><td>agillanic8@weibo.com</td><td>13182.30</td><td>829374.92</td></tr><tr><td>Tom</td><td>Beauty</td><td>tplankh@va.gov</td><td>883376.00</td><td>NULL</td></tr><tr><td>Warde</td><td>Beauty</td><td>wdoerren4b@cornell.edu</td><td>882712.00</td><td>NULL</td></tr><tr><td>Nichol</td><td>Beauty</td><td>nmougenel8@google.com.br</td><td>851247.94</td><td>NULL</td></tr><tr><td>Pamella</td><td>Beauty</td><td>pdetoc54@cnn.com</td><td>758483.94</td><td>NULL</td></tr><tr><td>Charles</td><td>Beauty</td><td>cfossett2n@fc2.com</td><td>674081.49</td><td>674081.49</td></tr><tr><td>Ainslee</td><td>Beauty</td><td>adorbon7w@over-blog.com</td><td>656114.00</td><td>674081.49</td></tr><tr><td>Arron</td><td>Beauty</td><td>alamersbj@w3.org</td><td>646721.95</td><td>674081.49</td></tr><tr><td>Hastie</td><td>Beauty</td><td>hpyzer67@nationalgeographic.com</td><td>635462.74</td><td>674081.49</td></tr><tr><td>Charlton</td><td>Beauty</td><td>cspelmand2@cafepress.com</td><td>630298.62</td><td>674081.49</td></tr><tr><td>Hollie</td><td>Beauty</td><td>hvaleria8@123-reg.co.uk</td><td>587429.18</td><td>674081.49</td></tr><tr><td>Garvy</td><td>Beauty</td><td>gapplegarth46@kickstarter.com</td><td>558526.37</td><td>674081.49</td></tr><tr><td>Kath</td><td>Beauty</td><td>kgranham40@rakuten.co.jp</td><td>558488.54</td><td>674081.49</td></tr><tr><td>Kipper</td><td>Beauty</td><td>klaba1w@cdc.gov</td><td>546927.85</td><td>674081.49</td></tr><tr><td>Minnaminnie</td><td>Beauty</td><td>mbrundellae@bbb.org</td><td>540984.44</td><td>674081.49</td></tr><tr><td>Florry</td><td>Beauty</td><td>fmalyan9i@imdb.com</td><td>488724.77</td><td>674081.49</td></tr><tr><td>Gerry</td><td>Beauty</td><td>gcable1r@hubpages.com</td><td>465919.05</td><td>674081.49</td></tr><tr><td>Letisha</td><td>Beauty</td><td>NULL</td><td>425552.65</td><td>674081.49</td></tr><tr><td>Shaylah</td><td>Beauty</td><td>NULL</td><td>424597.45</td><td>674081.49</td></tr><tr><td>Joleen</td><td>Beauty</td><td>jblindermann2t@salon.com</td><td>420623.10</td><td>674081.49</td></tr><tr><td>Thomasine</td><td>Beauty</td><td>tghidoni27@i2i.jp</td><td>396458.62</td><td>674081.49</td></tr><tr><td>Rod</td><td>Beauty</td><td>rcreavinck@alibaba.com</td><td>382119.66</td><td>674081.49</td></tr><tr><td>Bennie</td><td>Beauty</td><td>bcorsar2p@dell.com</td><td>353065.88</td><td>674081.49</td></tr><tr><td>Benedict</td><td>Beauty</td><td>blaboune1s@xing.com</td><td>319277.50</td><td>674081.49</td></tr><tr><td>Loraine</td><td>Beauty</td><td>lnoades3x@examiner.com</td><td>281916.44</td><td>674081.49</td></tr><tr><td>Muire</td><td>Beauty</td><td>mrapsey4@zimbio.com</td><td>274068.20</td><td>674081.49</td></tr><tr><td>Kristofer</td><td>Beauty</td><td>kingall2o@yale.edu</td><td>266426.00</td><td>674081.49</td></tr><tr><td>Denny</td><td>Beauty</td><td>NULL</td><td>213625.82</td><td>674081.49</td></tr><tr><td>Mahala</td><td>Beauty</td><td>mpedican32@springer.com</td><td>198354.91</td><td>674081.49</td></tr><tr><td>Marieann</td><td>Beauty</td><td>mfusco3l@ameblo.jp</td><td>151321.74</td><td>674081.49</td></tr><tr><td>Tedie</td><td>Beauty</td><td>tstorie7l@pbs.org</td><td>119119.34</td><td>674081.49</td></tr><tr><td>Donnie</td><td>Beauty</td><td>dcasercd@wikispaces.com</td><td>111954.02</td><td>674081.49</td></tr><tr><td>Lion</td><td>Beauty</td><td>lughetti5l@macromedia.com</td><td>95853.66</td><td>674081.49</td></tr><tr><td>Sloane</td><td>Beauty</td><td>sglasard57@lulu.com</td><td>86160.67</td><td>674081.49</td></tr><tr><td>Rachel</td><td>Beauty</td><td>rrobinson95@live.com</td><td>15189.47</td><td>674081.49</td></tr><tr><td>Em</td><td>Books</td><td>ehayen6r@cdc.gov</td><td>893687.39</td><td>NULL</td></tr><tr><td>Jordan</td><td>Books</td><td>jdudderidge3w@dot.gov</td><td>883726.54</td><td>NULL</td></tr><tr><td>Gaby</td><td>Books</td><td>goldcroft5i@wsj.com</td><td>873079.07</td><td>NULL</td></tr><tr><td>Gertrud</td><td>Books</td><td>gcanelas4s@tinypic.com</td><td>869020.65</td><td>NULL</td></tr><tr><td>Cynthia</td><td>Books</td><td>cgerdes22@woothemes.com</td><td>868991.54</td><td>868991.54</td></tr><tr><td>Darill</td><td>Books</td><td>dmacilhagga1l@tmall.com</td><td>862994.17</td><td>868991.54</td></tr><tr><td>Kania</td><td>Books</td><td>kavison2o@jimdo.com</td><td>852122.11</td><td>868991.54</td></tr><tr><td>Krispin</td><td>Books</td><td>klaidlow6x@dailymotion.com</td><td>799403.21</td><td>868991.54</td></tr><tr><td>Temple</td><td>Books</td><td>tgroombridgedt@artisteer.com</td><td>754250.17</td><td>868991.54</td></tr><tr><td>Nadeen</td><td>Books</td><td>nistedb4@issuu.com</td><td>751823.59</td><td>868991.54</td></tr><tr><td>Shanon</td><td>Books</td><td>smccay90@uol.com.br</td><td>749534.69</td><td>868991.54</td></tr><tr><td>Daniela</td><td>Books</td><td>dkenn6b@ihg.com</td><td>736448.67</td><td>868991.54</td></tr><tr><td>Arabele</td><td>Books</td><td>acancellieri0@networkadvertising.org</td><td>722198.30</td><td>868991.54</td></tr><tr><td>Claudianus</td><td>Books</td><td>cmagerci@discovery.com</td><td>709286.08</td><td>868991.54</td></tr><tr><td>Cecily</td><td>Books</td><td>cmulqueen3e@seattletimes.com</td><td>677403.82</td><td>868991.54</td></tr><tr><td>Gwenette</td><td>Books</td><td>gwoolger2k@livejournal.com</td><td>674268.31</td><td>868991.54</td></tr><tr><td>Bren</td><td>Books</td><td>bpieruccibc@samsung.com</td><td>649083.31</td><td>868991.54</td></tr><tr><td>Neddy</td><td>Books</td><td>nlacase93@gravatar.com</td><td>635959.98</td><td>868991.54</td></tr><tr><td>Gene</td><td>Books</td><td>goldknow39@about.com</td><td>629086.13</td><td>868991.54</td></tr><tr><td>Noble</td><td>Books</td><td>nbostona@ehow.com</td><td>573624.98</td><td>868991.54</td></tr><tr><td>Briana</td><td>Books</td><td>brumsby3a@hc360.com</td><td>535511.00</td><td>868991.54</td></tr><tr><td>Nancee</td><td>Books</td><td>NULL</td><td>506971.44</td><td>868991.54</td></tr><tr><td>Maren</td><td>Books</td><td>mblackway35@pinterest.com</td><td>487754.68</td><td>868991.54</td></tr></table>"
                    }
                }
            ],
            "execution_count": 40
        },
        {
            "cell_type": "code",
            "source": "SELECT first_name, last_name, salary,\nLEAD(salary) OVER() next_salary\nFROM employees LIMIT 10;",
            "metadata": {},
            "outputs": [
                {
                    "output_type": "display_data",
                    "data": {
                        "text/html": "(10 row(s) affected)"
                    },
                    "metadata": {}
                },
                {
                    "output_type": "display_data",
                    "data": {
                        "text/html": "Total execution time: 0:00:00.008616"
                    },
                    "metadata": {}
                },
                {
                    "output_type": "execute_result",
                    "metadata": {},
                    "execution_count": 41,
                    "data": {
                        "application/vnd.dataresource+json": {
                            "schema": {
                                "fields": [
                                    {
                                        "name": "first_name"
                                    },
                                    {
                                        "name": "last_name"
                                    },
                                    {
                                        "name": "salary"
                                    },
                                    {
                                        "name": "next_salary"
                                    }
                                ]
                            },
                            "data": [
                                {
                                    "0": "Arabele",
                                    "1": "Cancellieri",
                                    "2": "722198.30",
                                    "3": "381553.72"
                                },
                                {
                                    "0": "Manuel",
                                    "1": "Giffaut",
                                    "2": "381553.72",
                                    "3": "294478.26"
                                },
                                {
                                    "0": "Pinchas",
                                    "1": "Bargery",
                                    "2": "294478.26",
                                    "3": "401075.77"
                                },
                                {
                                    "0": "Pierson",
                                    "1": "McCrudden",
                                    "2": "401075.77",
                                    "3": "274068.20"
                                },
                                {
                                    "0": "Muire",
                                    "1": "Rapsey",
                                    "2": "274068.20",
                                    "3": "808765.04"
                                },
                                {
                                    "0": "Melony",
                                    "1": "MacAless",
                                    "2": "808765.04",
                                    "3": "127556.89"
                                },
                                {
                                    "0": "Berkley",
                                    "1": "Koopman",
                                    "2": "127556.89",
                                    "3": "693861.00"
                                },
                                {
                                    "0": "Lesly",
                                    "1": "Luigi",
                                    "2": "693861.00",
                                    "3": "851247.94"
                                },
                                {
                                    "0": "Nichol",
                                    "1": "Mougenel",
                                    "2": "851247.94",
                                    "3": "110128.68"
                                },
                                {
                                    "0": "Delmore",
                                    "1": "Shackleton",
                                    "2": "110128.68",
                                    "3": "573624.98"
                                }
                            ]
                        },
                        "text/html": "<table><tr><th>first_name</th><th>last_name</th><th>salary</th><th>next_salary</th></tr><tr><td>Arabele</td><td>Cancellieri</td><td>722198.30</td><td>381553.72</td></tr><tr><td>Manuel</td><td>Giffaut</td><td>381553.72</td><td>294478.26</td></tr><tr><td>Pinchas</td><td>Bargery</td><td>294478.26</td><td>401075.77</td></tr><tr><td>Pierson</td><td>McCrudden</td><td>401075.77</td><td>274068.20</td></tr><tr><td>Muire</td><td>Rapsey</td><td>274068.20</td><td>808765.04</td></tr><tr><td>Melony</td><td>MacAless</td><td>808765.04</td><td>127556.89</td></tr><tr><td>Berkley</td><td>Koopman</td><td>127556.89</td><td>693861.00</td></tr><tr><td>Lesly</td><td>Luigi</td><td>693861.00</td><td>851247.94</td></tr><tr><td>Nichol</td><td>Mougenel</td><td>851247.94</td><td>110128.68</td></tr><tr><td>Delmore</td><td>Shackleton</td><td>110128.68</td><td>573624.98</td></tr></table>"
                    }
                }
            ],
            "execution_count": 41
        },
        {
            "cell_type": "code",
            "source": "SELECT first_name, last_name, salary,\nLAG(salary) OVER() previous_salary\nFROM employees LIMIT 10;",
            "metadata": {},
            "outputs": [
                {
                    "output_type": "display_data",
                    "data": {
                        "text/html": "(10 row(s) affected)"
                    },
                    "metadata": {}
                },
                {
                    "output_type": "display_data",
                    "data": {
                        "text/html": "Total execution time: 0:00:00.007262"
                    },
                    "metadata": {}
                },
                {
                    "output_type": "execute_result",
                    "metadata": {},
                    "execution_count": 42,
                    "data": {
                        "application/vnd.dataresource+json": {
                            "schema": {
                                "fields": [
                                    {
                                        "name": "first_name"
                                    },
                                    {
                                        "name": "last_name"
                                    },
                                    {
                                        "name": "salary"
                                    },
                                    {
                                        "name": "previous_salary"
                                    }
                                ]
                            },
                            "data": [
                                {
                                    "0": "Arabele",
                                    "1": "Cancellieri",
                                    "2": "722198.30",
                                    "3": "NULL"
                                },
                                {
                                    "0": "Manuel",
                                    "1": "Giffaut",
                                    "2": "381553.72",
                                    "3": "722198.30"
                                },
                                {
                                    "0": "Pinchas",
                                    "1": "Bargery",
                                    "2": "294478.26",
                                    "3": "381553.72"
                                },
                                {
                                    "0": "Pierson",
                                    "1": "McCrudden",
                                    "2": "401075.77",
                                    "3": "294478.26"
                                },
                                {
                                    "0": "Muire",
                                    "1": "Rapsey",
                                    "2": "274068.20",
                                    "3": "401075.77"
                                },
                                {
                                    "0": "Melony",
                                    "1": "MacAless",
                                    "2": "808765.04",
                                    "3": "274068.20"
                                },
                                {
                                    "0": "Berkley",
                                    "1": "Koopman",
                                    "2": "127556.89",
                                    "3": "808765.04"
                                },
                                {
                                    "0": "Lesly",
                                    "1": "Luigi",
                                    "2": "693861.00",
                                    "3": "127556.89"
                                },
                                {
                                    "0": "Nichol",
                                    "1": "Mougenel",
                                    "2": "851247.94",
                                    "3": "693861.00"
                                },
                                {
                                    "0": "Delmore",
                                    "1": "Shackleton",
                                    "2": "110128.68",
                                    "3": "851247.94"
                                }
                            ]
                        },
                        "text/html": "<table><tr><th>first_name</th><th>last_name</th><th>salary</th><th>previous_salary</th></tr><tr><td>Arabele</td><td>Cancellieri</td><td>722198.30</td><td>NULL</td></tr><tr><td>Manuel</td><td>Giffaut</td><td>381553.72</td><td>722198.30</td></tr><tr><td>Pinchas</td><td>Bargery</td><td>294478.26</td><td>381553.72</td></tr><tr><td>Pierson</td><td>McCrudden</td><td>401075.77</td><td>294478.26</td></tr><tr><td>Muire</td><td>Rapsey</td><td>274068.20</td><td>401075.77</td></tr><tr><td>Melony</td><td>MacAless</td><td>808765.04</td><td>274068.20</td></tr><tr><td>Berkley</td><td>Koopman</td><td>127556.89</td><td>808765.04</td></tr><tr><td>Lesly</td><td>Luigi</td><td>693861.00</td><td>127556.89</td></tr><tr><td>Nichol</td><td>Mougenel</td><td>851247.94</td><td>693861.00</td></tr><tr><td>Delmore</td><td>Shackleton</td><td>110128.68</td><td>851247.94</td></tr></table>"
                    }
                }
            ],
            "execution_count": 42
        },
        {
            "cell_type": "code",
            "source": "SELECT first_name, last_name, salary,\nLAG(salary) OVER(ORDER BY salary DESC) near_higher_salary\nFROM employees LIMIT 10;",
            "metadata": {},
            "outputs": [
                {
                    "output_type": "display_data",
                    "data": {
                        "text/html": "(10 row(s) affected)"
                    },
                    "metadata": {}
                },
                {
                    "output_type": "display_data",
                    "data": {
                        "text/html": "Total execution time: 0:00:00.005517"
                    },
                    "metadata": {}
                },
                {
                    "output_type": "execute_result",
                    "metadata": {},
                    "execution_count": 43,
                    "data": {
                        "application/vnd.dataresource+json": {
                            "schema": {
                                "fields": [
                                    {
                                        "name": "first_name"
                                    },
                                    {
                                        "name": "last_name"
                                    },
                                    {
                                        "name": "salary"
                                    },
                                    {
                                        "name": "near_higher_salary"
                                    }
                                ]
                            },
                            "data": [
                                {
                                    "0": "Isaak",
                                    "1": "Wotton",
                                    "2": "899971.34",
                                    "3": "NULL"
                                },
                                {
                                    "0": "Amara",
                                    "1": "Balls",
                                    "2": "895204.82",
                                    "3": "899971.34"
                                },
                                {
                                    "0": "Em",
                                    "1": "Hayen",
                                    "2": "893687.39",
                                    "3": "895204.82"
                                },
                                {
                                    "0": "Mata",
                                    "1": "Burnel",
                                    "2": "891362.71",
                                    "3": "893687.39"
                                },
                                {
                                    "0": "Sabrina",
                                    "1": "Logie",
                                    "2": "891062.15",
                                    "3": "891362.71"
                                },
                                {
                                    "0": "Lorinda",
                                    "1": "Challis",
                                    "2": "890897.12",
                                    "3": "891062.15"
                                },
                                {
                                    "0": "Brier",
                                    "1": "Hynes",
                                    "2": "888354.50",
                                    "3": "890897.12"
                                },
                                {
                                    "0": "Page",
                                    "1": "Jurgen",
                                    "2": "884220.42",
                                    "3": "888354.50"
                                },
                                {
                                    "0": "Emmalynn",
                                    "1": "Grishmanov",
                                    "2": "883740.12",
                                    "3": "884220.42"
                                },
                                {
                                    "0": "Jordan",
                                    "1": "Dudderidge",
                                    "2": "883726.54",
                                    "3": "883740.12"
                                }
                            ]
                        },
                        "text/html": "<table><tr><th>first_name</th><th>last_name</th><th>salary</th><th>near_higher_salary</th></tr><tr><td>Isaak</td><td>Wotton</td><td>899971.34</td><td>NULL</td></tr><tr><td>Amara</td><td>Balls</td><td>895204.82</td><td>899971.34</td></tr><tr><td>Em</td><td>Hayen</td><td>893687.39</td><td>895204.82</td></tr><tr><td>Mata</td><td>Burnel</td><td>891362.71</td><td>893687.39</td></tr><tr><td>Sabrina</td><td>Logie</td><td>891062.15</td><td>891362.71</td></tr><tr><td>Lorinda</td><td>Challis</td><td>890897.12</td><td>891062.15</td></tr><tr><td>Brier</td><td>Hynes</td><td>888354.50</td><td>890897.12</td></tr><tr><td>Page</td><td>Jurgen</td><td>884220.42</td><td>888354.50</td></tr><tr><td>Emmalynn</td><td>Grishmanov</td><td>883740.12</td><td>884220.42</td></tr><tr><td>Jordan</td><td>Dudderidge</td><td>883726.54</td><td>883740.12</td></tr></table>"
                    }
                }
            ],
            "execution_count": 43
        },
        {
            "cell_type": "code",
            "source": "",
            "metadata": {},
            "outputs": []
        },
        {
            "cell_type": "code",
            "source": "",
            "metadata": {},
            "outputs": []
        }
    ]
}