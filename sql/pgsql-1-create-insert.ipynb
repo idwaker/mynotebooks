{
    "metadata": {
        "kernelspec": {
            "name": "SQL",
            "display_name": "SQL",
            "language": "sql"
        },
        "language_info": {
            "name": "sql",
            "version": ""
        }
    },
    "nbformat_minor": 2,
    "nbformat": 4,
    "cells": [
        {
            "cell_type": "code",
            "source": "-- create database\n-- CREATE DATABASE learnings;",
            "metadata": {},
            "outputs": [],
            "execution_count": 1
        },
        {
            "cell_type": "code",
            "source": "-- create departments table\nCREATE TABLE departments(\n    department VARCHAR(100),\n    division VARCHAR(100),\n    PRIMARY KEY (department)\n);",
            "metadata": {},
            "outputs": [
                {
                    "output_type": "display_data",
                    "data": {
                        "text/html": "Commands completed successfully"
                    },
                    "metadata": {}
                },
                {
                    "output_type": "display_data",
                    "data": {
                        "text/html": "Total execution time: 0:00:00.009728"
                    },
                    "metadata": {}
                }
            ],
            "execution_count": 1
        },
        {
            "cell_type": "code",
            "source": "-- populate departments from dummy_departments.sql",
            "metadata": {},
            "outputs": [],
            "execution_count": 2
        },
        {
            "cell_type": "code",
            "source": "-- create regions table\nCREATE TABLE regions (\n    id INTEGER,\n    name VARCHAR(20),\n    country VARCHAR(20),\n    PRIMARY KEY (id)\n);",
            "metadata": {},
            "outputs": [
                {
                    "output_type": "display_data",
                    "data": {
                        "text/html": "Commands completed successfully"
                    },
                    "metadata": {}
                },
                {
                    "output_type": "display_data",
                    "data": {
                        "text/html": "Total execution time: 0:00:00.007384"
                    },
                    "metadata": {}
                }
            ],
            "execution_count": 3
        },
        {
            "cell_type": "code",
            "source": "-- populate regions table from dummy_regions.sql",
            "metadata": {},
            "outputs": [],
            "execution_count": 4
        },
        {
            "cell_type": "code",
            "source": "-- create employees table\nCREATE TABLE employees (\n    id SERIAL PRIMARY KEY,\n    first_name VARCHAR(50),\n    last_name VARCHAR(50),\n    email VARCHAR(50),\n    hire_date DATE,\n    department VARCHAR(50),\n    gender VARCHAR(1),\n    salary DECIMAL(10, 2),\n    region_id INTEGER REFERENCES regions(id)\n);",
            "metadata": {},
            "outputs": [
                {
                    "output_type": "display_data",
                    "data": {
                        "text/html": "Commands completed successfully"
                    },
                    "metadata": {}
                },
                {
                    "output_type": "display_data",
                    "data": {
                        "text/html": "Total execution time: 0:00:00.017005"
                    },
                    "metadata": {}
                }
            ],
            "execution_count": 5
        },
        {
            "cell_type": "code",
            "source": "-- populate employees table from dummy_employees.sql",
            "metadata": {},
            "outputs": [],
            "execution_count": 6
        },
        {
            "cell_type": "code",
            "source": "-- create customers table\nCREATE TABLE customers(\n    id INTEGER PRIMARY KEY,\n    firstname VARCHAR(120) NOT NULL,\n    lastname VARCHAR(120) NOT NULL,\n    address VARCHAR(250)\n)",
            "metadata": {},
            "outputs": [
                {
                    "output_type": "display_data",
                    "data": {
                        "text/html": "Commands completed successfully"
                    },
                    "metadata": {}
                },
                {
                    "output_type": "display_data",
                    "data": {
                        "text/html": "Total execution time: 0:00:00.031441"
                    },
                    "metadata": {}
                }
            ],
            "execution_count": 2
        },
        {
            "cell_type": "code",
            "source": "-- insert data into table\nINSERT INTO customers(id, firstname, lastname, address) VALUES\n    (1, 'John', 'Doe', 'New York'),\n    (2, 'Jane', 'Doe', 'York');",
            "metadata": {},
            "outputs": [
                {
                    "output_type": "display_data",
                    "data": {
                        "text/html": "Commands completed successfully"
                    },
                    "metadata": {}
                },
                {
                    "output_type": "display_data",
                    "data": {
                        "text/html": "Total execution time: 0:00:00.001948"
                    },
                    "metadata": {}
                }
            ],
            "execution_count": 4
        },
        {
            "cell_type": "code",
            "source": "-- insert one more customer\nINSERT INTO customers(id, firstname, lastname, address) VALUES(\n    3, 'John', 'Watson', 'London'\n);",
            "metadata": {},
            "outputs": [
                {
                    "output_type": "display_data",
                    "data": {
                        "text/html": "Commands completed successfully"
                    },
                    "metadata": {}
                },
                {
                    "output_type": "display_data",
                    "data": {
                        "text/html": "Total execution time: 0:00:00.006994"
                    },
                    "metadata": {}
                }
            ],
            "execution_count": 9
        },
        {
            "cell_type": "code",
            "source": "-- create items table\nCREATE TABLE items(\n    id SERIAL PRIMARY KEY, -- serial is autoincrement number\n    name VARCHAR(255) NOT NULL,\n    price DECIMAL(6, 2)\n); ",
            "metadata": {},
            "outputs": [
                {
                    "output_type": "display_data",
                    "data": {
                        "text/html": "Commands completed successfully"
                    },
                    "metadata": {}
                },
                {
                    "output_type": "display_data",
                    "data": {
                        "text/html": "Total execution time: 0:00:00.016140"
                    },
                    "metadata": {}
                }
            ],
            "execution_count": 13
        },
        {
            "cell_type": "code",
            "source": "-- insert bunch of data\nINSERT INTO items(name, price) VALUES\n    ('Pencil', 12.20),\n    ('Sharpner', 9.00),\n    ('Notebook', 20),\n    ('Spiral Pad', 120),\n    ('Glue stick', 48),\n    ('White board', 580);",
            "metadata": {},
            "outputs": [
                {
                    "output_type": "display_data",
                    "data": {
                        "text/html": "Commands completed successfully"
                    },
                    "metadata": {}
                },
                {
                    "output_type": "display_data",
                    "data": {
                        "text/html": "Total execution time: 0:00:00.006445"
                    },
                    "metadata": {}
                }
            ],
            "execution_count": 14
        },
        {
            "cell_type": "code",
            "source": "-- update price of Glue stick\nUPDATE items SET price=50 WHERE id=5;",
            "metadata": {},
            "outputs": [
                {
                    "output_type": "display_data",
                    "data": {
                        "text/html": "Commands completed successfully"
                    },
                    "metadata": {}
                },
                {
                    "output_type": "display_data",
                    "data": {
                        "text/html": "Total execution time: 0:00:00.005158"
                    },
                    "metadata": {}
                }
            ],
            "execution_count": 16
        },
        {
            "cell_type": "code",
            "source": "-- delete spiral pad\nDELETE FROM items WHERE id=4;",
            "metadata": {},
            "outputs": [
                {
                    "output_type": "display_data",
                    "data": {
                        "text/html": "Commands completed successfully"
                    },
                    "metadata": {}
                },
                {
                    "output_type": "display_data",
                    "data": {
                        "text/html": "Total execution time: 0:00:00.004753"
                    },
                    "metadata": {}
                }
            ],
            "execution_count": 18
        },
        {
            "cell_type": "code",
            "source": "",
            "metadata": {},
            "outputs": []
        }
    ]
}