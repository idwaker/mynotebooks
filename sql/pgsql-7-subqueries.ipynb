{
    "metadata": {
        "kernelspec": {
            "name": "SQL",
            "display_name": "SQL",
            "language": "sql"
        },
        "language_info": {
            "name": "sql",
            "version": ""
        }
    },
    "nbformat_minor": 2,
    "nbformat": 4,
    "cells": [
        {
            "cell_type": "code",
            "source": "SELECT * FROM employees\nWHERE department NOT IN (SELECT department FROM departments);",
            "metadata": {},
            "outputs": [
                {
                    "output_type": "display_data",
                    "data": {
                        "text/html": "(80 row(s) affected)"
                    },
                    "metadata": {}
                },
                {
                    "output_type": "display_data",
                    "data": {
                        "text/html": "Total execution time: 0:00:00.019471"
                    },
                    "metadata": {}
                },
                {
                    "output_type": "execute_result",
                    "metadata": {},
                    "execution_count": 2,
                    "data": {
                        "application/vnd.dataresource+json": {
                            "schema": {
                                "fields": [
                                    {
                                        "name": "id"
                                    },
                                    {
                                        "name": "first_name"
                                    },
                                    {
                                        "name": "last_name"
                                    },
                                    {
                                        "name": "email"
                                    },
                                    {
                                        "name": "hire_date"
                                    },
                                    {
                                        "name": "department"
                                    },
                                    {
                                        "name": "gender"
                                    },
                                    {
                                        "name": "salary"
                                    },
                                    {
                                        "name": "region_id"
                                    }
                                ]
                            },
                            "data": [
                                {
                                    "0": "621",
                                    "1": "Dolli",
                                    "2": "Griffin",
                                    "3": "dgriffin0@java.com",
                                    "4": "2017-03-19",
                                    "5": "Health",
                                    "6": "F",
                                    "7": "42264.03",
                                    "8": "3"
                                },
                                {
                                    "0": "622",
                                    "1": "Anatole",
                                    "2": "Van der Beken",
                                    "3": "avanderbeken1@si.edu",
                                    "4": "2015-07-12",
                                    "5": "Health",
                                    "6": "M",
                                    "7": "19771.51",
                                    "8": "7"
                                },
                                {
                                    "0": "623",
                                    "1": "Pavlov",
                                    "2": "Bootell",
                                    "3": "pbootell2@indiegogo.com",
                                    "4": "2016-07-22",
                                    "5": "Health",
                                    "6": "M",
                                    "7": "25048.41",
                                    "8": "3"
                                },
                                {
                                    "0": "624",
                                    "1": "Veronike",
                                    "2": "Ship",
                                    "3": "NULL",
                                    "4": "2011-08-05",
                                    "5": "Security",
                                    "6": "F",
                                    "7": "54698.27",
                                    "8": "4"
                                },
                                {
                                    "0": "625",
                                    "1": "Dita",
                                    "2": "Mocher",
                                    "3": "dmocher4@cdc.gov",
                                    "4": "2016-06-12",
                                    "5": "Security",
                                    "6": "F",
                                    "7": "45748.50",
                                    "8": "5"
                                },
                                {
                                    "0": "626",
                                    "1": "Hayes",
                                    "2": "Zamboniari",
                                    "3": "hzamboniari5@delicious.com",
                                    "4": "2013-02-09",
                                    "5": "Camping",
                                    "6": "M",
                                    "7": "28749.10",
                                    "8": "2"
                                },
                                {
                                    "0": "627",
                                    "1": "Korella",
                                    "2": "McElvine",
                                    "3": "kmcelvine6@columbia.edu",
                                    "4": "2018-07-27",
                                    "5": "Camping",
                                    "6": "F",
                                    "7": "53904.65",
                                    "8": "3"
                                },
                                {
                                    "0": "628",
                                    "1": "Kathryne",
                                    "2": "Jereatt",
                                    "3": "kjereatt7@tamu.edu",
                                    "4": "2016-12-27",
                                    "5": "Security",
                                    "6": "F",
                                    "7": "77303.55",
                                    "8": "1"
                                },
                                {
                                    "0": "629",
                                    "1": "Francisca",
                                    "2": "Mikalski",
                                    "3": "fmikalski8@nymag.com",
                                    "4": "2012-12-14",
                                    "5": "Camping",
                                    "6": "F",
                                    "7": "89655.07",
                                    "8": "2"
                                },
                                {
                                    "0": "630",
                                    "1": "Rick",
                                    "2": "Sheeran",
                                    "3": "rsheeran9@seattletimes.com",
                                    "4": "2017-07-02",
                                    "5": "Security",
                                    "6": "M",
                                    "7": "34222.26",
                                    "8": "5"
                                },
                                {
                                    "0": "631",
                                    "1": "Randee",
                                    "2": "Neeves",
                                    "3": "rneevesa@prnewswire.com",
                                    "4": "2017-07-02",
                                    "5": "Camping",
                                    "6": "F",
                                    "7": "62443.67",
                                    "8": "3"
                                },
                                {
                                    "0": "632",
                                    "1": "Thayne",
                                    "2": "Sargent",
                                    "3": "NULL",
                                    "4": "2012-02-15",
                                    "5": "Health",
                                    "6": "M",
                                    "7": "15801.87",
                                    "8": "1"
                                },
                                {
                                    "0": "633",
                                    "1": "Connie",
                                    "2": "Cutbush",
                                    "3": "NULL",
                                    "4": "2016-01-13",
                                    "5": "Health",
                                    "6": "F",
                                    "7": "83802.08",
                                    "8": "8"
                                },
                                {
                                    "0": "634",
                                    "1": "Evelin",
                                    "2": "Hamblen",
                                    "3": "ehamblend@clickbank.net",
                                    "4": "2016-11-11",
                                    "5": "Security",
                                    "6": "M",
                                    "7": "15151.11",
                                    "8": "7"
                                },
                                {
                                    "0": "635",
                                    "1": "Ogdan",
                                    "2": "Hubery",
                                    "3": "NULL",
                                    "4": "2018-06-23",
                                    "5": "Camping",
                                    "6": "M",
                                    "7": "26918.36",
                                    "8": "5"
                                },
                                {
                                    "0": "636",
                                    "1": "Rudy",
                                    "2": "Abramcik",
                                    "3": "rabramcikf@vistaprint.com",
                                    "4": "2013-07-13",
                                    "5": "Camping",
                                    "6": "M",
                                    "7": "75263.17",
                                    "8": "6"
                                },
                                {
                                    "0": "637",
                                    "1": "Tamas",
                                    "2": "Hodge",
                                    "3": "NULL",
                                    "4": "2011-06-09",
                                    "5": "Health",
                                    "6": "M",
                                    "7": "88225.24",
                                    "8": "1"
                                },
                                {
                                    "0": "638",
                                    "1": "Archambault",
                                    "2": "Kleint",
                                    "3": "akleinth@npr.org",
                                    "4": "2018-10-03",
                                    "5": "Health",
                                    "6": "M",
                                    "7": "73316.05",
                                    "8": "5"
                                },
                                {
                                    "0": "639",
                                    "1": "Alanson",
                                    "2": "Castillon",
                                    "3": "acastilloni@mysql.com",
                                    "4": "2012-06-17",
                                    "5": "Camping",
                                    "6": "M",
                                    "7": "35989.34",
                                    "8": "8"
                                },
                                {
                                    "0": "640",
                                    "1": "Jemmy",
                                    "2": "Grove",
                                    "3": "jgrovej@google.de",
                                    "4": "2018-05-16",
                                    "5": "Camping",
                                    "6": "F",
                                    "7": "59785.35",
                                    "8": "7"
                                },
                                {
                                    "0": "641",
                                    "1": "Warde",
                                    "2": "Palister",
                                    "3": "wpalisterk@stumbleupon.com",
                                    "4": "2018-02-26",
                                    "5": "Camping",
                                    "6": "M",
                                    "7": "44759.24",
                                    "8": "6"
                                },
                                {
                                    "0": "642",
                                    "1": "Calla",
                                    "2": "Surcomb",
                                    "3": "csurcombl@hatena.ne.jp",
                                    "4": "2017-04-14",
                                    "5": "Health",
                                    "6": "F",
                                    "7": "67071.66",
                                    "8": "5"
                                },
                                {
                                    "0": "643",
                                    "1": "L;urette",
                                    "2": "Persey",
                                    "3": "lperseym@odnoklassniki.ru",
                                    "4": "2019-02-25",
                                    "5": "Security",
                                    "6": "F",
                                    "7": "11757.32",
                                    "8": "4"
                                },
                                {
                                    "0": "644",
                                    "1": "Myrta",
                                    "2": "Trevain",
                                    "3": "mtrevainn@unc.edu",
                                    "4": "2012-03-26",
                                    "5": "Health",
                                    "6": "F",
                                    "7": "75111.76",
                                    "8": "5"
                                },
                                {
                                    "0": "645",
                                    "1": "Ritchie",
                                    "2": "Sifflett",
                                    "3": "rsiffletto@stanford.edu",
                                    "4": "2017-04-24",
                                    "5": "Health",
                                    "6": "M",
                                    "7": "42746.09",
                                    "8": "1"
                                },
                                {
                                    "0": "646",
                                    "1": "Jean",
                                    "2": "Pursehouse",
                                    "3": "jpursehousep@dyndns.org",
                                    "4": "2017-07-25",
                                    "5": "Security",
                                    "6": "M",
                                    "7": "45566.82",
                                    "8": "6"
                                },
                                {
                                    "0": "647",
                                    "1": "Nikkie",
                                    "2": "Ganford",
                                    "3": "nganfordq@japanpost.jp",
                                    "4": "2011-01-06",
                                    "5": "Camping",
                                    "6": "F",
                                    "7": "73222.22",
                                    "8": "2"
                                },
                                {
                                    "0": "648",
                                    "1": "Raven",
                                    "2": "Siret",
                                    "3": "NULL",
                                    "4": "2012-02-10",
                                    "5": "Security",
                                    "6": "F",
                                    "7": "71577.15",
                                    "8": "1"
                                },
                                {
                                    "0": "649",
                                    "1": "Skippie",
                                    "2": "Genty",
                                    "3": "sgentys@smh.com.au",
                                    "4": "2016-03-11",
                                    "5": "Camping",
                                    "6": "M",
                                    "7": "72633.84",
                                    "8": "7"
                                },
                                {
                                    "0": "650",
                                    "1": "Jenifer",
                                    "2": "Cullingford",
                                    "3": "jcullingfordt@pcworld.com",
                                    "4": "2014-04-17",
                                    "5": "Security",
                                    "6": "F",
                                    "7": "85237.85",
                                    "8": "3"
                                },
                                {
                                    "0": "651",
                                    "1": "Percival",
                                    "2": "O'Duilleain",
                                    "3": "poduilleainu@ebay.com",
                                    "4": "2016-06-26",
                                    "5": "Camping",
                                    "6": "M",
                                    "7": "52341.40",
                                    "8": "4"
                                },
                                {
                                    "0": "652",
                                    "1": "Nevsa",
                                    "2": "Regnard",
                                    "3": "NULL",
                                    "4": "2014-03-26",
                                    "5": "Camping",
                                    "6": "F",
                                    "7": "70130.20",
                                    "8": "7"
                                },
                                {
                                    "0": "653",
                                    "1": "Elliott",
                                    "2": "Sakins",
                                    "3": "esakinsw@arstechnica.com",
                                    "4": "2013-12-08",
                                    "5": "Security",
                                    "6": "M",
                                    "7": "99023.29",
                                    "8": "8"
                                },
                                {
                                    "0": "654",
                                    "1": "Eldon",
                                    "2": "Argue",
                                    "3": "earguex@smh.com.au",
                                    "4": "2011-05-20",
                                    "5": "Health",
                                    "6": "M",
                                    "7": "73429.59",
                                    "8": "6"
                                },
                                {
                                    "0": "655",
                                    "1": "Stan",
                                    "2": "Freund",
                                    "3": "sfreundy@usatoday.com",
                                    "4": "2018-04-10",
                                    "5": "Health",
                                    "6": "M",
                                    "7": "34569.45",
                                    "8": "6"
                                },
                                {
                                    "0": "656",
                                    "1": "Petronilla",
                                    "2": "McIlriach",
                                    "3": "pmcilriachz@nationalgeographic.com",
                                    "4": "2012-04-17",
                                    "5": "Camping",
                                    "6": "F",
                                    "7": "28157.84",
                                    "8": "8"
                                },
                                {
                                    "0": "657",
                                    "1": "Lucas",
                                    "2": "McCrorie",
                                    "3": "NULL",
                                    "4": "2017-07-12",
                                    "5": "Camping",
                                    "6": "M",
                                    "7": "90628.33",
                                    "8": "2"
                                },
                                {
                                    "0": "658",
                                    "1": "Janel",
                                    "2": "Delamere",
                                    "3": "NULL",
                                    "4": "2011-09-03",
                                    "5": "Health",
                                    "6": "F",
                                    "7": "78060.06",
                                    "8": "7"
                                },
                                {
                                    "0": "659",
                                    "1": "Debi",
                                    "2": "Molines",
                                    "3": "dmolines12@goo.ne.jp",
                                    "4": "2015-05-22",
                                    "5": "Security",
                                    "6": "F",
                                    "7": "22987.68",
                                    "8": "5"
                                },
                                {
                                    "0": "660",
                                    "1": "Alic",
                                    "2": "Elesander",
                                    "3": "aelesander13@nytimes.com",
                                    "4": "2012-09-13",
                                    "5": "Camping",
                                    "6": "M",
                                    "7": "85132.38",
                                    "8": "4"
                                },
                                {
                                    "0": "661",
                                    "1": "Joby",
                                    "2": "Thomann",
                                    "3": "jthomann14@cbslocal.com",
                                    "4": "2017-12-01",
                                    "5": "Security",
                                    "6": "F",
                                    "7": "25466.81",
                                    "8": "2"
                                },
                                {
                                    "0": "662",
                                    "1": "Bary",
                                    "2": "Carbonell",
                                    "3": "bcarbonell15@hao123.com",
                                    "4": "2010-11-11",
                                    "5": "Health",
                                    "6": "M",
                                    "7": "65854.25",
                                    "8": "2"
                                },
                                {
                                    "0": "663",
                                    "1": "Walton",
                                    "2": "Aland",
                                    "3": "waland16@sourceforge.net",
                                    "4": "2013-08-12",
                                    "5": "Security",
                                    "6": "M",
                                    "7": "49626.29",
                                    "8": "7"
                                },
                                {
                                    "0": "664",
                                    "1": "Fredrika",
                                    "2": "Crowth",
                                    "3": "fcrowth17@comcast.net",
                                    "4": "2014-01-19",
                                    "5": "Camping",
                                    "6": "F",
                                    "7": "52240.06",
                                    "8": "1"
                                },
                                {
                                    "0": "665",
                                    "1": "Amandi",
                                    "2": "Riccelli",
                                    "3": "ariccelli18@de.vu",
                                    "4": "2012-11-25",
                                    "5": "Security",
                                    "6": "F",
                                    "7": "15590.30",
                                    "8": "5"
                                },
                                {
                                    "0": "666",
                                    "1": "Gabie",
                                    "2": "Hultberg",
                                    "3": "ghultberg19@sun.com",
                                    "4": "2017-09-09",
                                    "5": "Camping",
                                    "6": "M",
                                    "7": "73592.33",
                                    "8": "7"
                                },
                                {
                                    "0": "667",
                                    "1": "Osbourne",
                                    "2": "Trudgeon",
                                    "3": "otrudgeon1a@engadget.com",
                                    "4": "2011-12-20",
                                    "5": "Camping",
                                    "6": "M",
                                    "7": "76035.95",
                                    "8": "7"
                                },
                                {
                                    "0": "668",
                                    "1": "Kaine",
                                    "2": "Tullot",
                                    "3": "ktullot1b@irs.gov",
                                    "4": "2012-07-28",
                                    "5": "Security",
                                    "6": "M",
                                    "7": "69632.54",
                                    "8": "1"
                                },
                                {
                                    "0": "669",
                                    "1": "Karine",
                                    "2": "Flanner",
                                    "3": "kflanner1c@imageshack.us",
                                    "4": "2017-11-19",
                                    "5": "Camping",
                                    "6": "F",
                                    "7": "18809.15",
                                    "8": "1"
                                },
                                {
                                    "0": "670",
                                    "1": "Elisabeth",
                                    "2": "Bickerdicke",
                                    "3": "ebickerdicke1d@skyrock.com",
                                    "4": "2018-05-27",
                                    "5": "Camping",
                                    "6": "F",
                                    "7": "57481.98",
                                    "8": "2"
                                },
                                {
                                    "0": "671",
                                    "1": "Kakalina",
                                    "2": "Tallon",
                                    "3": "ktallon1e@so-net.ne.jp",
                                    "4": "2013-05-11",
                                    "5": "Health",
                                    "6": "F",
                                    "7": "31027.13",
                                    "8": "7"
                                },
                                {
                                    "0": "672",
                                    "1": "Terrye",
                                    "2": "Segot",
                                    "3": "tsegot1f@hostgator.com",
                                    "4": "2016-06-12",
                                    "5": "Camping",
                                    "6": "F",
                                    "7": "72805.71",
                                    "8": "7"
                                },
                                {
                                    "0": "673",
                                    "1": "Jae",
                                    "2": "Ladlow",
                                    "3": "jladlow1g@istockphoto.com",
                                    "4": "2014-07-14",
                                    "5": "Security",
                                    "6": "M",
                                    "7": "34138.20",
                                    "8": "7"
                                },
                                {
                                    "0": "674",
                                    "1": "Addia",
                                    "2": "Ring",
                                    "3": "aring1h@telegraph.co.uk",
                                    "4": "2013-10-08",
                                    "5": "Health",
                                    "6": "F",
                                    "7": "13647.34",
                                    "8": "4"
                                },
                                {
                                    "0": "675",
                                    "1": "Leo",
                                    "2": "Jellings",
                                    "3": "ljellings1i@princeton.edu",
                                    "4": "2011-04-12",
                                    "5": "Camping",
                                    "6": "M",
                                    "7": "95611.47",
                                    "8": "4"
                                },
                                {
                                    "0": "676",
                                    "1": "Iorgo",
                                    "2": "Gammack",
                                    "3": "igammack1j@github.io",
                                    "4": "2017-08-02",
                                    "5": "Health",
                                    "6": "M",
                                    "7": "55953.34",
                                    "8": "7"
                                },
                                {
                                    "0": "677",
                                    "1": "Josias",
                                    "2": "Roumier",
                                    "3": "jroumier1k@bigcartel.com",
                                    "4": "2012-12-22",
                                    "5": "Camping",
                                    "6": "M",
                                    "7": "58034.08",
                                    "8": "7"
                                },
                                {
                                    "0": "678",
                                    "1": "Dilly",
                                    "2": "Crosse",
                                    "3": "dcrosse1l@arstechnica.com",
                                    "4": "2018-07-15",
                                    "5": "Security",
                                    "6": "M",
                                    "7": "36151.91",
                                    "8": "1"
                                },
                                {
                                    "0": "679",
                                    "1": "Lewiss",
                                    "2": "Soffe",
                                    "3": "NULL",
                                    "4": "2015-02-01",
                                    "5": "Camping",
                                    "6": "M",
                                    "7": "33809.84",
                                    "8": "5"
                                },
                                {
                                    "0": "680",
                                    "1": "Neile",
                                    "2": "Ranyelld",
                                    "3": "nranyelld1n@narod.ru",
                                    "4": "2011-06-19",
                                    "5": "Security",
                                    "6": "F",
                                    "7": "77753.96",
                                    "8": "8"
                                },
                                {
                                    "0": "681",
                                    "1": "Leonard",
                                    "2": "Wolstencroft",
                                    "3": "lwolstencroft1o@google.nl",
                                    "4": "2011-03-25",
                                    "5": "Health",
                                    "6": "M",
                                    "7": "64239.31",
                                    "8": "5"
                                },
                                {
                                    "0": "682",
                                    "1": "Liz",
                                    "2": "Guilayn",
                                    "3": "lguilayn1p@loc.gov",
                                    "4": "2017-12-30",
                                    "5": "Security",
                                    "6": "F",
                                    "7": "75002.85",
                                    "8": "3"
                                },
                                {
                                    "0": "683",
                                    "1": "Cullin",
                                    "2": "Cuniffe",
                                    "3": "ccuniffe1q@netscape.com",
                                    "4": "2015-08-22",
                                    "5": "Security",
                                    "6": "M",
                                    "7": "53944.58",
                                    "8": "2"
                                },
                                {
                                    "0": "684",
                                    "1": "Bartolomeo",
                                    "2": "Nicholas",
                                    "3": "bnicholas1r@biblegateway.com",
                                    "4": "2011-04-14",
                                    "5": "Security",
                                    "6": "M",
                                    "7": "19389.39",
                                    "8": "4"
                                },
                                {
                                    "0": "685",
                                    "1": "Jereme",
                                    "2": "Lambourne",
                                    "3": "jlambourne1s@yahoo.com",
                                    "4": "2019-02-15",
                                    "5": "Health",
                                    "6": "M",
                                    "7": "52754.17",
                                    "8": "2"
                                },
                                {
                                    "0": "686",
                                    "1": "Evangeline",
                                    "2": "Siviour",
                                    "3": "esiviour1t@mlb.com",
                                    "4": "2013-07-19",
                                    "5": "Health",
                                    "6": "F",
                                    "7": "51028.59",
                                    "8": "8"
                                },
                                {
                                    "0": "687",
                                    "1": "Bengt",
                                    "2": "Donat",
                                    "3": "bdonat1u@columbia.edu",
                                    "4": "2016-11-23",
                                    "5": "Security",
                                    "6": "M",
                                    "7": "17387.82",
                                    "8": "3"
                                },
                                {
                                    "0": "688",
                                    "1": "Lorne",
                                    "2": "Ranns",
                                    "3": "lranns1v@netscape.com",
                                    "4": "2012-07-29",
                                    "5": "Health",
                                    "6": "M",
                                    "7": "31787.55",
                                    "8": "8"
                                },
                                {
                                    "0": "689",
                                    "1": "Winifred",
                                    "2": "Iddenden",
                                    "3": "widdenden1w@deliciousdays.com",
                                    "4": "2017-12-16",
                                    "5": "Security",
                                    "6": "F",
                                    "7": "33432.89",
                                    "8": "5"
                                },
                                {
                                    "0": "690",
                                    "1": "Farleigh",
                                    "2": "Pallaske",
                                    "3": "fpallaske1x@123-reg.co.uk",
                                    "4": "2015-03-15",
                                    "5": "Camping",
                                    "6": "M",
                                    "7": "97377.64",
                                    "8": "7"
                                },
                                {
                                    "0": "691",
                                    "1": "Valma",
                                    "2": "Richemont",
                                    "3": "vrichemont1y@columbia.edu",
                                    "4": "2011-10-11",
                                    "5": "Camping",
                                    "6": "F",
                                    "7": "33354.72",
                                    "8": "4"
                                },
                                {
                                    "0": "692",
                                    "1": "Natasha",
                                    "2": "Sproat",
                                    "3": "nsproat1z@tinyurl.com",
                                    "4": "2013-08-04",
                                    "5": "Security",
                                    "6": "F",
                                    "7": "88808.36",
                                    "8": "5"
                                },
                                {
                                    "0": "693",
                                    "1": "Sophronia",
                                    "2": "Eckart",
                                    "3": "seckart20@bluehost.com",
                                    "4": "2013-04-20",
                                    "5": "Health",
                                    "6": "F",
                                    "7": "90707.38",
                                    "8": "8"
                                },
                                {
                                    "0": "694",
                                    "1": "Artie",
                                    "2": "Vaughton",
                                    "3": "avaughton21@gov.uk",
                                    "4": "2018-09-23",
                                    "5": "Security",
                                    "6": "M",
                                    "7": "72333.56",
                                    "8": "8"
                                },
                                {
                                    "0": "695",
                                    "1": "Beverlie",
                                    "2": "Pryde",
                                    "3": "bpryde22@independent.co.uk",
                                    "4": "2013-09-06",
                                    "5": "Camping",
                                    "6": "F",
                                    "7": "33266.32",
                                    "8": "5"
                                },
                                {
                                    "0": "696",
                                    "1": "Hyacinthia",
                                    "2": "Frissell",
                                    "3": "NULL",
                                    "4": "2017-09-25",
                                    "5": "Camping",
                                    "6": "F",
                                    "7": "43655.86",
                                    "8": "8"
                                },
                                {
                                    "0": "697",
                                    "1": "Monika",
                                    "2": "Whickman",
                                    "3": "mwhickman24@engadget.com",
                                    "4": "2013-06-20",
                                    "5": "Security",
                                    "6": "F",
                                    "7": "67970.09",
                                    "8": "1"
                                },
                                {
                                    "0": "698",
                                    "1": "Kristien",
                                    "2": "Nunson",
                                    "3": "knunson25@apple.com",
                                    "4": "2015-09-30",
                                    "5": "Camping",
                                    "6": "F",
                                    "7": "73939.65",
                                    "8": "3"
                                },
                                {
                                    "0": "699",
                                    "1": "Bernice",
                                    "2": "Shuttlewood",
                                    "3": "bshuttlewood26@sitemeter.com",
                                    "4": "2013-06-24",
                                    "5": "Camping",
                                    "6": "F",
                                    "7": "97087.45",
                                    "8": "8"
                                },
                                {
                                    "0": "700",
                                    "1": "Padgett",
                                    "2": "Goodlatt",
                                    "3": "pgoodlatt27@twitter.com",
                                    "4": "2012-03-01",
                                    "5": "Security",
                                    "6": "M",
                                    "7": "30619.12",
                                    "8": "5"
                                }
                            ]
                        },
                        "text/html": "<table><tr><th>id</th><th>first_name</th><th>last_name</th><th>email</th><th>hire_date</th><th>department</th><th>gender</th><th>salary</th><th>region_id</th></tr><tr><td>621</td><td>Dolli</td><td>Griffin</td><td>dgriffin0@java.com</td><td>2017-03-19</td><td>Health</td><td>F</td><td>42264.03</td><td>3</td></tr><tr><td>622</td><td>Anatole</td><td>Van der Beken</td><td>avanderbeken1@si.edu</td><td>2015-07-12</td><td>Health</td><td>M</td><td>19771.51</td><td>7</td></tr><tr><td>623</td><td>Pavlov</td><td>Bootell</td><td>pbootell2@indiegogo.com</td><td>2016-07-22</td><td>Health</td><td>M</td><td>25048.41</td><td>3</td></tr><tr><td>624</td><td>Veronike</td><td>Ship</td><td>NULL</td><td>2011-08-05</td><td>Security</td><td>F</td><td>54698.27</td><td>4</td></tr><tr><td>625</td><td>Dita</td><td>Mocher</td><td>dmocher4@cdc.gov</td><td>2016-06-12</td><td>Security</td><td>F</td><td>45748.50</td><td>5</td></tr><tr><td>626</td><td>Hayes</td><td>Zamboniari</td><td>hzamboniari5@delicious.com</td><td>2013-02-09</td><td>Camping</td><td>M</td><td>28749.10</td><td>2</td></tr><tr><td>627</td><td>Korella</td><td>McElvine</td><td>kmcelvine6@columbia.edu</td><td>2018-07-27</td><td>Camping</td><td>F</td><td>53904.65</td><td>3</td></tr><tr><td>628</td><td>Kathryne</td><td>Jereatt</td><td>kjereatt7@tamu.edu</td><td>2016-12-27</td><td>Security</td><td>F</td><td>77303.55</td><td>1</td></tr><tr><td>629</td><td>Francisca</td><td>Mikalski</td><td>fmikalski8@nymag.com</td><td>2012-12-14</td><td>Camping</td><td>F</td><td>89655.07</td><td>2</td></tr><tr><td>630</td><td>Rick</td><td>Sheeran</td><td>rsheeran9@seattletimes.com</td><td>2017-07-02</td><td>Security</td><td>M</td><td>34222.26</td><td>5</td></tr><tr><td>631</td><td>Randee</td><td>Neeves</td><td>rneevesa@prnewswire.com</td><td>2017-07-02</td><td>Camping</td><td>F</td><td>62443.67</td><td>3</td></tr><tr><td>632</td><td>Thayne</td><td>Sargent</td><td>NULL</td><td>2012-02-15</td><td>Health</td><td>M</td><td>15801.87</td><td>1</td></tr><tr><td>633</td><td>Connie</td><td>Cutbush</td><td>NULL</td><td>2016-01-13</td><td>Health</td><td>F</td><td>83802.08</td><td>8</td></tr><tr><td>634</td><td>Evelin</td><td>Hamblen</td><td>ehamblend@clickbank.net</td><td>2016-11-11</td><td>Security</td><td>M</td><td>15151.11</td><td>7</td></tr><tr><td>635</td><td>Ogdan</td><td>Hubery</td><td>NULL</td><td>2018-06-23</td><td>Camping</td><td>M</td><td>26918.36</td><td>5</td></tr><tr><td>636</td><td>Rudy</td><td>Abramcik</td><td>rabramcikf@vistaprint.com</td><td>2013-07-13</td><td>Camping</td><td>M</td><td>75263.17</td><td>6</td></tr><tr><td>637</td><td>Tamas</td><td>Hodge</td><td>NULL</td><td>2011-06-09</td><td>Health</td><td>M</td><td>88225.24</td><td>1</td></tr><tr><td>638</td><td>Archambault</td><td>Kleint</td><td>akleinth@npr.org</td><td>2018-10-03</td><td>Health</td><td>M</td><td>73316.05</td><td>5</td></tr><tr><td>639</td><td>Alanson</td><td>Castillon</td><td>acastilloni@mysql.com</td><td>2012-06-17</td><td>Camping</td><td>M</td><td>35989.34</td><td>8</td></tr><tr><td>640</td><td>Jemmy</td><td>Grove</td><td>jgrovej@google.de</td><td>2018-05-16</td><td>Camping</td><td>F</td><td>59785.35</td><td>7</td></tr><tr><td>641</td><td>Warde</td><td>Palister</td><td>wpalisterk@stumbleupon.com</td><td>2018-02-26</td><td>Camping</td><td>M</td><td>44759.24</td><td>6</td></tr><tr><td>642</td><td>Calla</td><td>Surcomb</td><td>csurcombl@hatena.ne.jp</td><td>2017-04-14</td><td>Health</td><td>F</td><td>67071.66</td><td>5</td></tr><tr><td>643</td><td>L;urette</td><td>Persey</td><td>lperseym@odnoklassniki.ru</td><td>2019-02-25</td><td>Security</td><td>F</td><td>11757.32</td><td>4</td></tr><tr><td>644</td><td>Myrta</td><td>Trevain</td><td>mtrevainn@unc.edu</td><td>2012-03-26</td><td>Health</td><td>F</td><td>75111.76</td><td>5</td></tr><tr><td>645</td><td>Ritchie</td><td>Sifflett</td><td>rsiffletto@stanford.edu</td><td>2017-04-24</td><td>Health</td><td>M</td><td>42746.09</td><td>1</td></tr><tr><td>646</td><td>Jean</td><td>Pursehouse</td><td>jpursehousep@dyndns.org</td><td>2017-07-25</td><td>Security</td><td>M</td><td>45566.82</td><td>6</td></tr><tr><td>647</td><td>Nikkie</td><td>Ganford</td><td>nganfordq@japanpost.jp</td><td>2011-01-06</td><td>Camping</td><td>F</td><td>73222.22</td><td>2</td></tr><tr><td>648</td><td>Raven</td><td>Siret</td><td>NULL</td><td>2012-02-10</td><td>Security</td><td>F</td><td>71577.15</td><td>1</td></tr><tr><td>649</td><td>Skippie</td><td>Genty</td><td>sgentys@smh.com.au</td><td>2016-03-11</td><td>Camping</td><td>M</td><td>72633.84</td><td>7</td></tr><tr><td>650</td><td>Jenifer</td><td>Cullingford</td><td>jcullingfordt@pcworld.com</td><td>2014-04-17</td><td>Security</td><td>F</td><td>85237.85</td><td>3</td></tr><tr><td>651</td><td>Percival</td><td>O'Duilleain</td><td>poduilleainu@ebay.com</td><td>2016-06-26</td><td>Camping</td><td>M</td><td>52341.40</td><td>4</td></tr><tr><td>652</td><td>Nevsa</td><td>Regnard</td><td>NULL</td><td>2014-03-26</td><td>Camping</td><td>F</td><td>70130.20</td><td>7</td></tr><tr><td>653</td><td>Elliott</td><td>Sakins</td><td>esakinsw@arstechnica.com</td><td>2013-12-08</td><td>Security</td><td>M</td><td>99023.29</td><td>8</td></tr><tr><td>654</td><td>Eldon</td><td>Argue</td><td>earguex@smh.com.au</td><td>2011-05-20</td><td>Health</td><td>M</td><td>73429.59</td><td>6</td></tr><tr><td>655</td><td>Stan</td><td>Freund</td><td>sfreundy@usatoday.com</td><td>2018-04-10</td><td>Health</td><td>M</td><td>34569.45</td><td>6</td></tr><tr><td>656</td><td>Petronilla</td><td>McIlriach</td><td>pmcilriachz@nationalgeographic.com</td><td>2012-04-17</td><td>Camping</td><td>F</td><td>28157.84</td><td>8</td></tr><tr><td>657</td><td>Lucas</td><td>McCrorie</td><td>NULL</td><td>2017-07-12</td><td>Camping</td><td>M</td><td>90628.33</td><td>2</td></tr><tr><td>658</td><td>Janel</td><td>Delamere</td><td>NULL</td><td>2011-09-03</td><td>Health</td><td>F</td><td>78060.06</td><td>7</td></tr><tr><td>659</td><td>Debi</td><td>Molines</td><td>dmolines12@goo.ne.jp</td><td>2015-05-22</td><td>Security</td><td>F</td><td>22987.68</td><td>5</td></tr><tr><td>660</td><td>Alic</td><td>Elesander</td><td>aelesander13@nytimes.com</td><td>2012-09-13</td><td>Camping</td><td>M</td><td>85132.38</td><td>4</td></tr><tr><td>661</td><td>Joby</td><td>Thomann</td><td>jthomann14@cbslocal.com</td><td>2017-12-01</td><td>Security</td><td>F</td><td>25466.81</td><td>2</td></tr><tr><td>662</td><td>Bary</td><td>Carbonell</td><td>bcarbonell15@hao123.com</td><td>2010-11-11</td><td>Health</td><td>M</td><td>65854.25</td><td>2</td></tr><tr><td>663</td><td>Walton</td><td>Aland</td><td>waland16@sourceforge.net</td><td>2013-08-12</td><td>Security</td><td>M</td><td>49626.29</td><td>7</td></tr><tr><td>664</td><td>Fredrika</td><td>Crowth</td><td>fcrowth17@comcast.net</td><td>2014-01-19</td><td>Camping</td><td>F</td><td>52240.06</td><td>1</td></tr><tr><td>665</td><td>Amandi</td><td>Riccelli</td><td>ariccelli18@de.vu</td><td>2012-11-25</td><td>Security</td><td>F</td><td>15590.30</td><td>5</td></tr><tr><td>666</td><td>Gabie</td><td>Hultberg</td><td>ghultberg19@sun.com</td><td>2017-09-09</td><td>Camping</td><td>M</td><td>73592.33</td><td>7</td></tr><tr><td>667</td><td>Osbourne</td><td>Trudgeon</td><td>otrudgeon1a@engadget.com</td><td>2011-12-20</td><td>Camping</td><td>M</td><td>76035.95</td><td>7</td></tr><tr><td>668</td><td>Kaine</td><td>Tullot</td><td>ktullot1b@irs.gov</td><td>2012-07-28</td><td>Security</td><td>M</td><td>69632.54</td><td>1</td></tr><tr><td>669</td><td>Karine</td><td>Flanner</td><td>kflanner1c@imageshack.us</td><td>2017-11-19</td><td>Camping</td><td>F</td><td>18809.15</td><td>1</td></tr><tr><td>670</td><td>Elisabeth</td><td>Bickerdicke</td><td>ebickerdicke1d@skyrock.com</td><td>2018-05-27</td><td>Camping</td><td>F</td><td>57481.98</td><td>2</td></tr><tr><td>671</td><td>Kakalina</td><td>Tallon</td><td>ktallon1e@so-net.ne.jp</td><td>2013-05-11</td><td>Health</td><td>F</td><td>31027.13</td><td>7</td></tr><tr><td>672</td><td>Terrye</td><td>Segot</td><td>tsegot1f@hostgator.com</td><td>2016-06-12</td><td>Camping</td><td>F</td><td>72805.71</td><td>7</td></tr><tr><td>673</td><td>Jae</td><td>Ladlow</td><td>jladlow1g@istockphoto.com</td><td>2014-07-14</td><td>Security</td><td>M</td><td>34138.20</td><td>7</td></tr><tr><td>674</td><td>Addia</td><td>Ring</td><td>aring1h@telegraph.co.uk</td><td>2013-10-08</td><td>Health</td><td>F</td><td>13647.34</td><td>4</td></tr><tr><td>675</td><td>Leo</td><td>Jellings</td><td>ljellings1i@princeton.edu</td><td>2011-04-12</td><td>Camping</td><td>M</td><td>95611.47</td><td>4</td></tr><tr><td>676</td><td>Iorgo</td><td>Gammack</td><td>igammack1j@github.io</td><td>2017-08-02</td><td>Health</td><td>M</td><td>55953.34</td><td>7</td></tr><tr><td>677</td><td>Josias</td><td>Roumier</td><td>jroumier1k@bigcartel.com</td><td>2012-12-22</td><td>Camping</td><td>M</td><td>58034.08</td><td>7</td></tr><tr><td>678</td><td>Dilly</td><td>Crosse</td><td>dcrosse1l@arstechnica.com</td><td>2018-07-15</td><td>Security</td><td>M</td><td>36151.91</td><td>1</td></tr><tr><td>679</td><td>Lewiss</td><td>Soffe</td><td>NULL</td><td>2015-02-01</td><td>Camping</td><td>M</td><td>33809.84</td><td>5</td></tr><tr><td>680</td><td>Neile</td><td>Ranyelld</td><td>nranyelld1n@narod.ru</td><td>2011-06-19</td><td>Security</td><td>F</td><td>77753.96</td><td>8</td></tr><tr><td>681</td><td>Leonard</td><td>Wolstencroft</td><td>lwolstencroft1o@google.nl</td><td>2011-03-25</td><td>Health</td><td>M</td><td>64239.31</td><td>5</td></tr><tr><td>682</td><td>Liz</td><td>Guilayn</td><td>lguilayn1p@loc.gov</td><td>2017-12-30</td><td>Security</td><td>F</td><td>75002.85</td><td>3</td></tr><tr><td>683</td><td>Cullin</td><td>Cuniffe</td><td>ccuniffe1q@netscape.com</td><td>2015-08-22</td><td>Security</td><td>M</td><td>53944.58</td><td>2</td></tr><tr><td>684</td><td>Bartolomeo</td><td>Nicholas</td><td>bnicholas1r@biblegateway.com</td><td>2011-04-14</td><td>Security</td><td>M</td><td>19389.39</td><td>4</td></tr><tr><td>685</td><td>Jereme</td><td>Lambourne</td><td>jlambourne1s@yahoo.com</td><td>2019-02-15</td><td>Health</td><td>M</td><td>52754.17</td><td>2</td></tr><tr><td>686</td><td>Evangeline</td><td>Siviour</td><td>esiviour1t@mlb.com</td><td>2013-07-19</td><td>Health</td><td>F</td><td>51028.59</td><td>8</td></tr><tr><td>687</td><td>Bengt</td><td>Donat</td><td>bdonat1u@columbia.edu</td><td>2016-11-23</td><td>Security</td><td>M</td><td>17387.82</td><td>3</td></tr><tr><td>688</td><td>Lorne</td><td>Ranns</td><td>lranns1v@netscape.com</td><td>2012-07-29</td><td>Health</td><td>M</td><td>31787.55</td><td>8</td></tr><tr><td>689</td><td>Winifred</td><td>Iddenden</td><td>widdenden1w@deliciousdays.com</td><td>2017-12-16</td><td>Security</td><td>F</td><td>33432.89</td><td>5</td></tr><tr><td>690</td><td>Farleigh</td><td>Pallaske</td><td>fpallaske1x@123-reg.co.uk</td><td>2015-03-15</td><td>Camping</td><td>M</td><td>97377.64</td><td>7</td></tr><tr><td>691</td><td>Valma</td><td>Richemont</td><td>vrichemont1y@columbia.edu</td><td>2011-10-11</td><td>Camping</td><td>F</td><td>33354.72</td><td>4</td></tr><tr><td>692</td><td>Natasha</td><td>Sproat</td><td>nsproat1z@tinyurl.com</td><td>2013-08-04</td><td>Security</td><td>F</td><td>88808.36</td><td>5</td></tr><tr><td>693</td><td>Sophronia</td><td>Eckart</td><td>seckart20@bluehost.com</td><td>2013-04-20</td><td>Health</td><td>F</td><td>90707.38</td><td>8</td></tr><tr><td>694</td><td>Artie</td><td>Vaughton</td><td>avaughton21@gov.uk</td><td>2018-09-23</td><td>Security</td><td>M</td><td>72333.56</td><td>8</td></tr><tr><td>695</td><td>Beverlie</td><td>Pryde</td><td>bpryde22@independent.co.uk</td><td>2013-09-06</td><td>Camping</td><td>F</td><td>33266.32</td><td>5</td></tr><tr><td>696</td><td>Hyacinthia</td><td>Frissell</td><td>NULL</td><td>2017-09-25</td><td>Camping</td><td>F</td><td>43655.86</td><td>8</td></tr><tr><td>697</td><td>Monika</td><td>Whickman</td><td>mwhickman24@engadget.com</td><td>2013-06-20</td><td>Security</td><td>F</td><td>67970.09</td><td>1</td></tr><tr><td>698</td><td>Kristien</td><td>Nunson</td><td>knunson25@apple.com</td><td>2015-09-30</td><td>Camping</td><td>F</td><td>73939.65</td><td>3</td></tr><tr><td>699</td><td>Bernice</td><td>Shuttlewood</td><td>bshuttlewood26@sitemeter.com</td><td>2013-06-24</td><td>Camping</td><td>F</td><td>97087.45</td><td>8</td></tr><tr><td>700</td><td>Padgett</td><td>Goodlatt</td><td>pgoodlatt27@twitter.com</td><td>2012-03-01</td><td>Security</td><td>M</td><td>30619.12</td><td>5</td></tr></table>"
                    }
                }
            ],
            "execution_count": 2
        },
        {
            "cell_type": "code",
            "source": "SELECT a.first_name, a.salary\nFROM (SELECT * FROM employees WHERE salary > 890000) a;",
            "metadata": {},
            "outputs": [
                {
                    "output_type": "display_data",
                    "data": {
                        "text/html": "(6 row(s) affected)"
                    },
                    "metadata": {}
                },
                {
                    "output_type": "display_data",
                    "data": {
                        "text/html": "Total execution time: 0:00:00.011397"
                    },
                    "metadata": {}
                },
                {
                    "output_type": "execute_result",
                    "metadata": {},
                    "execution_count": 4,
                    "data": {
                        "application/vnd.dataresource+json": {
                            "schema": {
                                "fields": [
                                    {
                                        "name": "first_name"
                                    },
                                    {
                                        "name": "salary"
                                    }
                                ]
                            },
                            "data": [
                                {
                                    "0": "Mata",
                                    "1": "891362.71"
                                },
                                {
                                    "0": "Em",
                                    "1": "893687.39"
                                },
                                {
                                    "0": "Lorinda",
                                    "1": "890897.12"
                                },
                                {
                                    "0": "Sabrina",
                                    "1": "891062.15"
                                },
                                {
                                    "0": "Isaak",
                                    "1": "899971.34"
                                },
                                {
                                    "0": "Amara",
                                    "1": "895204.82"
                                }
                            ]
                        },
                        "text/html": "<table><tr><th>first_name</th><th>salary</th></tr><tr><td>Mata</td><td>891362.71</td></tr><tr><td>Em</td><td>893687.39</td></tr><tr><td>Lorinda</td><td>890897.12</td></tr><tr><td>Sabrina</td><td>891062.15</td></tr><tr><td>Isaak</td><td>899971.34</td></tr><tr><td>Amara</td><td>895204.82</td></tr></table>"
                    }
                }
            ],
            "execution_count": 4
        },
        {
            "cell_type": "code",
            "source": "SELECT a.fullname, a.yearly_salary\nFROM (\n    SELECT first_name || ' ' || last_name AS fullname, salary AS yearly_salary\n    FROM employees WHERE salary > 890000\n) a;",
            "metadata": {},
            "outputs": [
                {
                    "output_type": "display_data",
                    "data": {
                        "text/html": "(6 row(s) affected)"
                    },
                    "metadata": {}
                },
                {
                    "output_type": "display_data",
                    "data": {
                        "text/html": "Total execution time: 0:00:00.006394"
                    },
                    "metadata": {}
                },
                {
                    "output_type": "execute_result",
                    "metadata": {},
                    "execution_count": 6,
                    "data": {
                        "application/vnd.dataresource+json": {
                            "schema": {
                                "fields": [
                                    {
                                        "name": "fullname"
                                    },
                                    {
                                        "name": "yearly_salary"
                                    }
                                ]
                            },
                            "data": [
                                {
                                    "0": "Mata Burnel",
                                    "1": "891362.71"
                                },
                                {
                                    "0": "Em Hayen",
                                    "1": "893687.39"
                                },
                                {
                                    "0": "Lorinda Challis",
                                    "1": "890897.12"
                                },
                                {
                                    "0": "Sabrina Logie",
                                    "1": "891062.15"
                                },
                                {
                                    "0": "Isaak Wotton",
                                    "1": "899971.34"
                                },
                                {
                                    "0": "Amara Balls",
                                    "1": "895204.82"
                                }
                            ]
                        },
                        "text/html": "<table><tr><th>fullname</th><th>yearly_salary</th></tr><tr><td>Mata Burnel</td><td>891362.71</td></tr><tr><td>Em Hayen</td><td>893687.39</td></tr><tr><td>Lorinda Challis</td><td>890897.12</td></tr><tr><td>Sabrina Logie</td><td>891062.15</td></tr><tr><td>Isaak Wotton</td><td>899971.34</td></tr><tr><td>Amara Balls</td><td>895204.82</td></tr></table>"
                    }
                }
            ],
            "execution_count": 6
        },
        {
            "cell_type": "code",
            "source": "SELECT * FROM employees\nWHERE department IN (\n    SELECT department FROM departments WHERE division = 'Kids'\n);",
            "metadata": {},
            "outputs": [
                {
                    "output_type": "display_data",
                    "data": {
                        "text/html": "(97 row(s) affected)"
                    },
                    "metadata": {}
                },
                {
                    "output_type": "display_data",
                    "data": {
                        "text/html": "Total execution time: 0:00:00.014387"
                    },
                    "metadata": {}
                },
                {
                    "output_type": "execute_result",
                    "metadata": {},
                    "execution_count": 9,
                    "data": {
                        "application/vnd.dataresource+json": {
                            "schema": {
                                "fields": [
                                    {
                                        "name": "id"
                                    },
                                    {
                                        "name": "first_name"
                                    },
                                    {
                                        "name": "last_name"
                                    },
                                    {
                                        "name": "email"
                                    },
                                    {
                                        "name": "hire_date"
                                    },
                                    {
                                        "name": "department"
                                    },
                                    {
                                        "name": "gender"
                                    },
                                    {
                                        "name": "salary"
                                    },
                                    {
                                        "name": "region_id"
                                    }
                                ]
                            },
                            "data": [
                                {
                                    "0": "4",
                                    "1": "Pierson",
                                    "2": "McCrudden",
                                    "3": "pmccrudden3@mysql.com",
                                    "4": "2017-09-09",
                                    "5": "Games",
                                    "6": "M",
                                    "7": "401075.77",
                                    "8": "8"
                                },
                                {
                                    "0": "15",
                                    "1": "Benedicto",
                                    "2": "Siddeley",
                                    "3": "bsiddeleye@goo.ne.jp",
                                    "4": "2010-12-01",
                                    "5": "Games",
                                    "6": "M",
                                    "7": "700440.62",
                                    "8": "5"
                                },
                                {
                                    "0": "17",
                                    "1": "Celene",
                                    "2": "Sauvain",
                                    "3": "csauvaing@seesaa.net",
                                    "4": "2011-09-15",
                                    "5": "Games",
                                    "6": "F",
                                    "7": "514976.94",
                                    "8": "4"
                                },
                                {
                                    "0": "28",
                                    "1": "Ertha",
                                    "2": "Clayhill",
                                    "3": "eclayhillr@twitter.com",
                                    "4": "2016-08-02",
                                    "5": "Games",
                                    "6": "F",
                                    "7": "62988.95",
                                    "8": "7"
                                },
                                {
                                    "0": "30",
                                    "1": "Abbey",
                                    "2": "Pagin",
                                    "3": "apagint@icio.us",
                                    "4": "2017-04-29",
                                    "5": "Games",
                                    "6": "F",
                                    "7": "600916.21",
                                    "8": "5"
                                },
                                {
                                    "0": "37",
                                    "1": "Kessiah",
                                    "2": "Innott",
                                    "3": "kinnott10@canalblog.com",
                                    "4": "2017-05-24",
                                    "5": "Games",
                                    "6": "F",
                                    "7": "419623.17",
                                    "8": "2"
                                },
                                {
                                    "0": "63",
                                    "1": "Bobbe",
                                    "2": "Orrin",
                                    "3": "borrin1q@uol.com.br",
                                    "4": "2013-08-30",
                                    "5": "Games",
                                    "6": "F",
                                    "7": "573366.64",
                                    "8": "7"
                                },
                                {
                                    "0": "82",
                                    "1": "Mata",
                                    "2": "Timlett",
                                    "3": "mtimlett29@state.tx.us",
                                    "4": "2013-03-28",
                                    "5": "Games",
                                    "6": "M",
                                    "7": "196045.97",
                                    "8": "4"
                                },
                                {
                                    "0": "112",
                                    "1": "Hetti",
                                    "2": "MacKean",
                                    "3": "hmackean33@ucoz.ru",
                                    "4": "2018-06-22",
                                    "5": "Games",
                                    "6": "F",
                                    "7": "554953.22",
                                    "8": "3"
                                },
                                {
                                    "0": "121",
                                    "1": "Stephana",
                                    "2": "Knapton",
                                    "3": "sknapton3c@newyorker.com",
                                    "4": "2015-01-03",
                                    "5": "Games",
                                    "6": "F",
                                    "7": "230521.00",
                                    "8": "1"
                                },
                                {
                                    "0": "126",
                                    "1": "Hannah",
                                    "2": "Burrows",
                                    "3": "hburrows3h@earthlink.net",
                                    "4": "2016-01-02",
                                    "5": "Games",
                                    "6": "F",
                                    "7": "225044.73",
                                    "8": "8"
                                },
                                {
                                    "0": "135",
                                    "1": "Kaiser",
                                    "2": "Heaven",
                                    "3": "kheaven3q@adobe.com",
                                    "4": "2012-09-28",
                                    "5": "Games",
                                    "6": "M",
                                    "7": "859208.20",
                                    "8": "8"
                                },
                                {
                                    "0": "143",
                                    "1": "Christoph",
                                    "2": "Sygroves",
                                    "3": "csygroves3y@github.com",
                                    "4": "2012-02-18",
                                    "5": "Games",
                                    "6": "M",
                                    "7": "527409.59",
                                    "8": "1"
                                },
                                {
                                    "0": "163",
                                    "1": "Dilan",
                                    "2": "Vitet",
                                    "3": "dvitet4i@hexun.com",
                                    "4": "2015-08-12",
                                    "5": "Games",
                                    "6": "M",
                                    "7": "591790.25",
                                    "8": "3"
                                },
                                {
                                    "0": "169",
                                    "1": "Leta",
                                    "2": "Howsan",
                                    "3": "lhowsan4o@icq.com",
                                    "4": "2014-11-06",
                                    "5": "Games",
                                    "6": "F",
                                    "7": "858421.40",
                                    "8": "8"
                                },
                                {
                                    "0": "195",
                                    "1": "Arlyn",
                                    "2": "Rowesby",
                                    "3": "arowesby5e@microsoft.com",
                                    "4": "2013-05-10",
                                    "5": "Games",
                                    "6": "F",
                                    "7": "425055.75",
                                    "8": "7"
                                },
                                {
                                    "0": "206",
                                    "1": "Avrit",
                                    "2": "Winkell",
                                    "3": "awinkell5p@webnode.com",
                                    "4": "2016-05-04",
                                    "5": "Games",
                                    "6": "F",
                                    "7": "144714.28",
                                    "8": "2"
                                },
                                {
                                    "0": "215",
                                    "1": "Windy",
                                    "2": "Leggis",
                                    "3": "wleggis5y@wp.com",
                                    "4": "2015-05-24",
                                    "5": "Games",
                                    "6": "F",
                                    "7": "701691.25",
                                    "8": "7"
                                },
                                {
                                    "0": "226",
                                    "1": "Jerrold",
                                    "2": "Girtin",
                                    "3": "jgirtin69@kickstarter.com",
                                    "4": "2013-11-18",
                                    "5": "Games",
                                    "6": "M",
                                    "7": "444420.85",
                                    "8": "4"
                                },
                                {
                                    "0": "233",
                                    "1": "Lynn",
                                    "2": "Beachamp",
                                    "3": "lbeachamp6g@ucoz.ru",
                                    "4": "2012-04-23",
                                    "5": "Games",
                                    "6": "M",
                                    "7": "596834.15",
                                    "8": "1"
                                },
                                {
                                    "0": "237",
                                    "1": "Whitney",
                                    "2": "Graffin",
                                    "3": "wgraffin6k@mtv.com",
                                    "4": "2011-11-17",
                                    "5": "Games",
                                    "6": "M",
                                    "7": "600459.21",
                                    "8": "7"
                                },
                                {
                                    "0": "251",
                                    "1": "Konstanze",
                                    "2": "Madelin",
                                    "3": "kmadelin6y@arstechnica.com",
                                    "4": "2016-04-29",
                                    "5": "Games",
                                    "6": "F",
                                    "7": "673911.52",
                                    "8": "8"
                                },
                                {
                                    "0": "266",
                                    "1": "Merci",
                                    "2": "Swanne",
                                    "3": "mswanne7d@google.fr",
                                    "4": "2018-01-26",
                                    "5": "Games",
                                    "6": "F",
                                    "7": "530688.71",
                                    "8": "1"
                                },
                                {
                                    "0": "288",
                                    "1": "Gretel",
                                    "2": "Grishukhin",
                                    "3": "ggrishukhin7z@princeton.edu",
                                    "4": "2011-06-08",
                                    "5": "Games",
                                    "6": "F",
                                    "7": "389185.75",
                                    "8": "6"
                                },
                                {
                                    "0": "309",
                                    "1": "Camille",
                                    "2": "Grayland",
                                    "3": "cgrayland8k@cdc.gov",
                                    "4": "2016-10-20",
                                    "5": "Games",
                                    "6": "F",
                                    "7": "366087.33",
                                    "8": "4"
                                },
                                {
                                    "0": "312",
                                    "1": "Kin",
                                    "2": "Malinson",
                                    "3": "kmalinson8n@moonfruit.com",
                                    "4": "2014-09-07",
                                    "5": "Games",
                                    "6": "M",
                                    "7": "321191.38",
                                    "8": "5"
                                },
                                {
                                    "0": "324",
                                    "1": "Lavinie",
                                    "2": "Whyborne",
                                    "3": "lwhyborne8z@usnews.com",
                                    "4": "2016-10-01",
                                    "5": "Games",
                                    "6": "F",
                                    "7": "21754.91",
                                    "8": "7"
                                },
                                {
                                    "0": "336",
                                    "1": "Allister",
                                    "2": "Pease",
                                    "3": "apease9b@wix.com",
                                    "4": "2016-02-04",
                                    "5": "Games",
                                    "6": "M",
                                    "7": "142770.39",
                                    "8": "1"
                                },
                                {
                                    "0": "360",
                                    "1": "Winthrop",
                                    "2": "Pampling",
                                    "3": "wpampling9z@europa.eu",
                                    "4": "2015-05-19",
                                    "5": "Games",
                                    "6": "M",
                                    "7": "596095.57",
                                    "8": "2"
                                },
                                {
                                    "0": "361",
                                    "1": "Javier",
                                    "2": "D'Alesco",
                                    "3": "jdalescoa0@macromedia.com",
                                    "4": "2011-07-27",
                                    "5": "Games",
                                    "6": "M",
                                    "7": "408540.75",
                                    "8": "6"
                                },
                                {
                                    "0": "362",
                                    "1": "Alonso",
                                    "2": "Hudd",
                                    "3": "ahudda1@ovh.net",
                                    "4": "2015-12-19",
                                    "5": "Games",
                                    "6": "M",
                                    "7": "285448.02",
                                    "8": "1"
                                },
                                {
                                    "0": "365",
                                    "1": "Millie",
                                    "2": "Castagneri",
                                    "3": "mcastagneria4@dion.ne.jp",
                                    "4": "2011-03-02",
                                    "5": "Games",
                                    "6": "F",
                                    "7": "37401.22",
                                    "8": "5"
                                },
                                {
                                    "0": "366",
                                    "1": "Ciel",
                                    "2": "Saull",
                                    "3": "csaulla5@wisc.edu",
                                    "4": "2011-05-27",
                                    "5": "Games",
                                    "6": "F",
                                    "7": "836641.50",
                                    "8": "2"
                                },
                                {
                                    "0": "373",
                                    "1": "Ambrosi",
                                    "2": "Benedite",
                                    "3": "abenediteac@apple.com",
                                    "4": "2010-12-29",
                                    "5": "Games",
                                    "6": "M",
                                    "7": "584383.72",
                                    "8": "5"
                                },
                                {
                                    "0": "374",
                                    "1": "Eduino",
                                    "2": "McCook",
                                    "3": "emccookad@accuweather.com",
                                    "4": "2012-09-05",
                                    "5": "Games",
                                    "6": "M",
                                    "7": "263374.00",
                                    "8": "5"
                                },
                                {
                                    "0": "378",
                                    "1": "Anderson",
                                    "2": "Monkeman",
                                    "3": "amonkemanah@intel.com",
                                    "4": "2017-08-17",
                                    "5": "Games",
                                    "6": "M",
                                    "7": "674074.42",
                                    "8": "2"
                                },
                                {
                                    "0": "408",
                                    "1": "Bob",
                                    "2": "Picardo",
                                    "3": "bpicardobb@businessweek.com",
                                    "4": "2016-05-13",
                                    "5": "Games",
                                    "6": "M",
                                    "7": "55895.76",
                                    "8": "6"
                                },
                                {
                                    "0": "418",
                                    "1": "Jayne",
                                    "2": "Kayser",
                                    "3": "jkayserbl@java.com",
                                    "4": "2017-06-15",
                                    "5": "Games",
                                    "6": "F",
                                    "7": "279154.97",
                                    "8": "2"
                                },
                                {
                                    "0": "427",
                                    "1": "Staford",
                                    "2": "Pierce",
                                    "3": "spiercebu@marriott.com",
                                    "4": "2017-06-19",
                                    "5": "Games",
                                    "6": "M",
                                    "7": "152260.75",
                                    "8": "7"
                                },
                                {
                                    "0": "432",
                                    "1": "Rosalie",
                                    "2": "Gawkes",
                                    "3": "rgawkesbz@tinyurl.com",
                                    "4": "2012-10-31",
                                    "5": "Games",
                                    "6": "F",
                                    "7": "21883.44",
                                    "8": "7"
                                },
                                {
                                    "0": "433",
                                    "1": "Willy",
                                    "2": "Page",
                                    "3": "wpagec0@nytimes.com",
                                    "4": "2014-03-19",
                                    "5": "Games",
                                    "6": "F",
                                    "7": "710428.33",
                                    "8": "6"
                                },
                                {
                                    "0": "437",
                                    "1": "Roi",
                                    "2": "Hannum",
                                    "3": "rhannumc4@dailymotion.com",
                                    "4": "2015-10-03",
                                    "5": "Games",
                                    "6": "M",
                                    "7": "861543.05",
                                    "8": "4"
                                },
                                {
                                    "0": "458",
                                    "1": "Yalonda",
                                    "2": "Musico",
                                    "3": "ymusicocp@china.com.cn",
                                    "4": "2017-06-07",
                                    "5": "Games",
                                    "6": "F",
                                    "7": "207492.70",
                                    "8": "1"
                                },
                                {
                                    "0": "468",
                                    "1": "Berry",
                                    "2": "Slamaker",
                                    "3": "bslamakercz@cornell.edu",
                                    "4": "2011-06-22",
                                    "5": "Games",
                                    "6": "F",
                                    "7": "149003.34",
                                    "8": "7"
                                },
                                {
                                    "0": "472",
                                    "1": "Noni",
                                    "2": "Spary",
                                    "3": "nsparyd3@columbia.edu",
                                    "4": "2016-04-05",
                                    "5": "Games",
                                    "6": "F",
                                    "7": "723590.46",
                                    "8": "4"
                                },
                                {
                                    "0": "475",
                                    "1": "Maxim",
                                    "2": "Goodban",
                                    "3": "mgoodband6@bloglines.com",
                                    "4": "2017-05-07",
                                    "5": "Games",
                                    "6": "M",
                                    "7": "741425.05",
                                    "8": "5"
                                },
                                {
                                    "0": "482",
                                    "1": "Milissent",
                                    "2": "Sambath",
                                    "3": "msambathdd@bing.com",
                                    "4": "2013-10-03",
                                    "5": "Games",
                                    "6": "F",
                                    "7": "371399.91",
                                    "8": "8"
                                },
                                {
                                    "0": "490",
                                    "1": "Allegra",
                                    "2": "Stonhard",
                                    "3": "astonharddl@mozilla.com",
                                    "4": "2011-12-29",
                                    "5": "Games",
                                    "6": "F",
                                    "7": "529743.20",
                                    "8": "8"
                                },
                                {
                                    "0": "492",
                                    "1": "Vergil",
                                    "2": "McCrohon",
                                    "3": "vmccrohondn@pcworld.com",
                                    "4": "2018-03-21",
                                    "5": "Games",
                                    "6": "M",
                                    "7": "163141.63",
                                    "8": "5"
                                },
                                {
                                    "0": "495",
                                    "1": "Adria",
                                    "2": "Witherington",
                                    "3": "awitheringtondq@ycombinator.com",
                                    "4": "2012-04-14",
                                    "5": "Games",
                                    "6": "F",
                                    "7": "138007.56",
                                    "8": "4"
                                },
                                {
                                    "0": "524",
                                    "1": "Randolph",
                                    "2": "Treble",
                                    "3": "rtreble3@jimdo.com",
                                    "4": "2018-02-03",
                                    "5": "Games",
                                    "6": "M",
                                    "7": "562692.00",
                                    "8": "5"
                                },
                                {
                                    "0": "562",
                                    "1": "Vi",
                                    "2": "Marchelli",
                                    "3": "vmarchelli15@cbsnews.com",
                                    "4": "2013-10-15",
                                    "5": "Games",
                                    "6": "F",
                                    "7": "332655.48",
                                    "8": "4"
                                },
                                {
                                    "0": "576",
                                    "1": "Norry",
                                    "2": "Shurmer",
                                    "3": "NULL",
                                    "4": "2013-09-27",
                                    "5": "Games",
                                    "6": "F",
                                    "7": "357816.65",
                                    "8": "3"
                                },
                                {
                                    "0": "588",
                                    "1": "Kean",
                                    "2": "Schwartz",
                                    "3": "NULL",
                                    "4": "2013-04-28",
                                    "5": "Games",
                                    "6": "M",
                                    "7": "443084.63",
                                    "8": "2"
                                },
                                {
                                    "0": "604",
                                    "1": "Franky",
                                    "2": "Cloute",
                                    "3": "fcloute2b@sakura.ne.jp",
                                    "4": "2016-03-10",
                                    "5": "Games",
                                    "6": "F",
                                    "7": "839862.03",
                                    "8": "6"
                                },
                                {
                                    "0": "7",
                                    "1": "Berkley",
                                    "2": "Koopman",
                                    "3": "bkoopman6@tuttocitta.it",
                                    "4": "2017-01-15",
                                    "5": "Toys",
                                    "6": "M",
                                    "7": "127556.89",
                                    "8": "5"
                                },
                                {
                                    "0": "14",
                                    "1": "Jeno",
                                    "2": "O'Hannen",
                                    "3": "johannend@woothemes.com",
                                    "4": "2011-07-03",
                                    "5": "Toys",
                                    "6": "M",
                                    "7": "244907.21",
                                    "8": "6"
                                },
                                {
                                    "0": "19",
                                    "1": "Daron",
                                    "2": "Sprake",
                                    "3": "dsprakei@imgur.com",
                                    "4": "2014-08-09",
                                    "5": "Toys",
                                    "6": "M",
                                    "7": "233990.26",
                                    "8": "4"
                                },
                                {
                                    "0": "25",
                                    "1": "Antonin",
                                    "2": "Greenstead",
                                    "3": "agreensteado@dailymail.co.uk",
                                    "4": "2015-12-29",
                                    "5": "Toys",
                                    "6": "M",
                                    "7": "70627.77",
                                    "8": "5"
                                },
                                {
                                    "0": "27",
                                    "1": "Sauveur",
                                    "2": "Moriarty",
                                    "3": "smoriartyq@yellowpages.com",
                                    "4": "2016-06-15",
                                    "5": "Toys",
                                    "6": "M",
                                    "7": "428001.93",
                                    "8": "4"
                                },
                                {
                                    "0": "39",
                                    "1": "Pieter",
                                    "2": "Ornells",
                                    "3": "pornells12@sphinn.com",
                                    "4": "2017-10-21",
                                    "5": "Toys",
                                    "6": "M",
                                    "7": "475492.54",
                                    "8": "3"
                                },
                                {
                                    "0": "42",
                                    "1": "Clayton",
                                    "2": "Ixer",
                                    "3": "cixer15@imdb.com",
                                    "4": "2011-09-02",
                                    "5": "Toys",
                                    "6": "M",
                                    "7": "187409.16",
                                    "8": "5"
                                },
                                {
                                    "0": "60",
                                    "1": "Noelle",
                                    "2": "Rich",
                                    "3": "nrich1n@timesonline.co.uk",
                                    "4": "2018-06-27",
                                    "5": "Toys",
                                    "6": "F",
                                    "7": "724542.53",
                                    "8": "2"
                                },
                                {
                                    "0": "110",
                                    "1": "Quent",
                                    "2": "Credland",
                                    "3": "qcredland31@cbslocal.com",
                                    "4": "2013-12-04",
                                    "5": "Toys",
                                    "6": "M",
                                    "7": "321859.53",
                                    "8": "4"
                                },
                                {
                                    "0": "122",
                                    "1": "Elene",
                                    "2": "Mingasson",
                                    "3": "emingasson3d@oracle.com",
                                    "4": "2010-11-06",
                                    "5": "Toys",
                                    "6": "F",
                                    "7": "315356.50",
                                    "8": "2"
                                },
                                {
                                    "0": "139",
                                    "1": "Minny",
                                    "2": "McCaskill",
                                    "3": "mmccaskill3u@domainmarket.com",
                                    "4": "2018-07-07",
                                    "5": "Toys",
                                    "6": "F",
                                    "7": "598320.88",
                                    "8": "6"
                                },
                                {
                                    "0": "140",
                                    "1": "Harald",
                                    "2": "Sigge",
                                    "3": "hsigge3v@prnewswire.com",
                                    "4": "2019-02-20",
                                    "5": "Toys",
                                    "6": "M",
                                    "7": "513661.49",
                                    "8": "6"
                                },
                                {
                                    "0": "149",
                                    "1": "Tomasina",
                                    "2": "Lampkin",
                                    "3": "tlampkin44@admin.ch",
                                    "4": "2012-04-18",
                                    "5": "Toys",
                                    "6": "F",
                                    "7": "648306.25",
                                    "8": "7"
                                },
                                {
                                    "0": "182",
                                    "1": "Cozmo",
                                    "2": "Blamphin",
                                    "3": "cblamphin51@spiegel.de",
                                    "4": "2015-12-26",
                                    "5": "Toys",
                                    "6": "M",
                                    "7": "273607.34",
                                    "8": "6"
                                },
                                {
                                    "0": "184",
                                    "1": "Neville",
                                    "2": "Hayman",
                                    "3": "nhayman53@vinaora.com",
                                    "4": "2013-11-07",
                                    "5": "Toys",
                                    "6": "M",
                                    "7": "252123.95",
                                    "8": "4"
                                },
                                {
                                    "0": "191",
                                    "1": "Bron",
                                    "2": "Thorold",
                                    "3": "bthorold5a@linkedin.com",
                                    "4": "2010-12-26",
                                    "5": "Toys",
                                    "6": "M",
                                    "7": "846884.83",
                                    "8": "5"
                                },
                                {
                                    "0": "210",
                                    "1": "Efren",
                                    "2": "Rizzone",
                                    "3": "erizzone5t@yale.edu",
                                    "4": "2012-11-29",
                                    "5": "Toys",
                                    "6": "M",
                                    "7": "669012.02",
                                    "8": "8"
                                },
                                {
                                    "0": "214",
                                    "1": "Quillan",
                                    "2": "Faustin",
                                    "3": "qfaustin5x@marketwatch.com",
                                    "4": "2018-05-19",
                                    "5": "Toys",
                                    "6": "M",
                                    "7": "390027.77",
                                    "8": "2"
                                },
                                {
                                    "0": "216",
                                    "1": "Tyrus",
                                    "2": "Meir",
                                    "3": "tmeir5z@foxnews.com",
                                    "4": "2018-08-30",
                                    "5": "Toys",
                                    "6": "M",
                                    "7": "165795.23",
                                    "8": "2"
                                },
                                {
                                    "0": "217",
                                    "1": "Vanya",
                                    "2": "Crystal",
                                    "3": "vcrystal60@w3.org",
                                    "4": "2013-09-01",
                                    "5": "Toys",
                                    "6": "F",
                                    "7": "883536.82",
                                    "8": "3"
                                },
                                {
                                    "0": "222",
                                    "1": "Ellswerth",
                                    "2": "Bidnall",
                                    "3": "ebidnall65@statcounter.com",
                                    "4": "2011-10-25",
                                    "5": "Toys",
                                    "6": "M",
                                    "7": "408574.89",
                                    "8": "5"
                                },
                                {
                                    "0": "223",
                                    "1": "Cissy",
                                    "2": "Manon",
                                    "3": "cmanon66@sun.com",
                                    "4": "2016-12-24",
                                    "5": "Toys",
                                    "6": "F",
                                    "7": "182812.35",
                                    "8": "7"
                                },
                                {
                                    "0": "231",
                                    "1": "Jolyn",
                                    "2": "Rattray",
                                    "3": "jrattray6e@blogtalkradio.com",
                                    "4": "2014-05-04",
                                    "5": "Toys",
                                    "6": "F",
                                    "7": "475440.08",
                                    "8": "5"
                                },
                                {
                                    "0": "235",
                                    "1": "Yorker",
                                    "2": "Lillie",
                                    "3": "ylillie6i@nasa.gov",
                                    "4": "2016-02-10",
                                    "5": "Toys",
                                    "6": "M",
                                    "7": "245664.69",
                                    "8": "2"
                                },
                                {
                                    "0": "239",
                                    "1": "Roxana",
                                    "2": "Spohrmann",
                                    "3": "rspohrmann6m@usda.gov",
                                    "4": "2014-08-03",
                                    "5": "Toys",
                                    "6": "F",
                                    "7": "845508.44",
                                    "8": "5"
                                },
                                {
                                    "0": "253",
                                    "1": "Willetta",
                                    "2": "Steptowe",
                                    "3": "wsteptowe70@hp.com",
                                    "4": "2013-02-03",
                                    "5": "Toys",
                                    "6": "F",
                                    "7": "869687.17",
                                    "8": "5"
                                },
                                {
                                    "0": "257",
                                    "1": "Pammy",
                                    "2": "Grimbleby",
                                    "3": "pgrimbleby74@nydailynews.com",
                                    "4": "2014-04-06",
                                    "5": "Toys",
                                    "6": "F",
                                    "7": "570567.00",
                                    "8": "5"
                                },
                                {
                                    "0": "271",
                                    "1": "Sheppard",
                                    "2": "Paty",
                                    "3": "spaty7i@paypal.com",
                                    "4": "2017-02-20",
                                    "5": "Toys",
                                    "6": "M",
                                    "7": "341813.94",
                                    "8": "8"
                                },
                                {
                                    "0": "287",
                                    "1": "Aurea",
                                    "2": "Kabos",
                                    "3": "akabos7y@nba.com",
                                    "4": "2012-06-14",
                                    "5": "Toys",
                                    "6": "F",
                                    "7": "488595.83",
                                    "8": "1"
                                },
                                {
                                    "0": "293",
                                    "1": "Meg",
                                    "2": "Tixier",
                                    "3": "mtixier84@npr.org",
                                    "4": "2013-07-31",
                                    "5": "Toys",
                                    "6": "F",
                                    "7": "52936.25",
                                    "8": "3"
                                },
                                {
                                    "0": "331",
                                    "1": "Bette",
                                    "2": "Harbinson",
                                    "3": "bharbinson96@eventbrite.com",
                                    "4": "2014-12-10",
                                    "5": "Toys",
                                    "6": "F",
                                    "7": "467862.05",
                                    "8": "1"
                                },
                                {
                                    "0": "363",
                                    "1": "Gare",
                                    "2": "Pettit",
                                    "3": "gpettita2@odnoklassniki.ru",
                                    "4": "2016-08-06",
                                    "5": "Toys",
                                    "6": "M",
                                    "7": "140758.19",
                                    "8": "3"
                                },
                                {
                                    "0": "370",
                                    "1": "Austina",
                                    "2": "Crosi",
                                    "3": "acrosia9@addtoany.com",
                                    "4": "2011-09-18",
                                    "5": "Toys",
                                    "6": "F",
                                    "7": "270958.89",
                                    "8": "6"
                                },
                                {
                                    "0": "428",
                                    "1": "Electra",
                                    "2": "Durbyn",
                                    "3": "edurbynbv@businessinsider.com",
                                    "4": "2016-05-22",
                                    "5": "Toys",
                                    "6": "F",
                                    "7": "647381.28",
                                    "8": "2"
                                },
                                {
                                    "0": "449",
                                    "1": "Page",
                                    "2": "Jurgen",
                                    "3": "pjurgencg@stumbleupon.com",
                                    "4": "2014-01-06",
                                    "5": "Toys",
                                    "6": "F",
                                    "7": "884220.42",
                                    "8": "1"
                                },
                                {
                                    "0": "479",
                                    "1": "Reinhold",
                                    "2": "Vaughan-Hughes",
                                    "3": "rvaughanhughesda@hud.gov",
                                    "4": "2010-12-03",
                                    "5": "Toys",
                                    "6": "M",
                                    "7": "739016.29",
                                    "8": "1"
                                },
                                {
                                    "0": "499",
                                    "1": "Eugenius",
                                    "2": "Garron",
                                    "3": "egarrondu@friendfeed.com",
                                    "4": "2011-09-18",
                                    "5": "Toys",
                                    "6": "M",
                                    "7": "282739.11",
                                    "8": "8"
                                },
                                {
                                    "0": "579",
                                    "1": "Rosina",
                                    "2": "Dalbey",
                                    "3": "NULL",
                                    "4": "2012-12-27",
                                    "5": "Toys",
                                    "6": "F",
                                    "7": "836171.96",
                                    "8": "4"
                                },
                                {
                                    "0": "583",
                                    "1": "Myrtia",
                                    "2": "Jillins",
                                    "3": "mjillins1q@google.ru",
                                    "4": "2018-07-25",
                                    "5": "Toys",
                                    "6": "F",
                                    "7": "807991.26",
                                    "8": "4"
                                },
                                {
                                    "0": "591",
                                    "1": "Adlai",
                                    "2": "Balsellie",
                                    "3": "NULL",
                                    "4": "2011-11-14",
                                    "5": "Toys",
                                    "6": "M",
                                    "7": "675666.46",
                                    "8": "8"
                                },
                                {
                                    "0": "595",
                                    "1": "Roxine",
                                    "2": "Wheowall",
                                    "3": "rwheowall22@lycos.com",
                                    "4": "2016-10-06",
                                    "5": "Toys",
                                    "6": "F",
                                    "7": "435416.27",
                                    "8": "2"
                                },
                                {
                                    "0": "615",
                                    "1": "Laural",
                                    "2": "O' Mullan",
                                    "3": "lomullan2m@ning.com",
                                    "4": "2015-07-16",
                                    "5": "Toys",
                                    "6": "F",
                                    "7": "817259.74",
                                    "8": "2"
                                }
                            ]
                        },
                        "text/html": "<table><tr><th>id</th><th>first_name</th><th>last_name</th><th>email</th><th>hire_date</th><th>department</th><th>gender</th><th>salary</th><th>region_id</th></tr><tr><td>4</td><td>Pierson</td><td>McCrudden</td><td>pmccrudden3@mysql.com</td><td>2017-09-09</td><td>Games</td><td>M</td><td>401075.77</td><td>8</td></tr><tr><td>15</td><td>Benedicto</td><td>Siddeley</td><td>bsiddeleye@goo.ne.jp</td><td>2010-12-01</td><td>Games</td><td>M</td><td>700440.62</td><td>5</td></tr><tr><td>17</td><td>Celene</td><td>Sauvain</td><td>csauvaing@seesaa.net</td><td>2011-09-15</td><td>Games</td><td>F</td><td>514976.94</td><td>4</td></tr><tr><td>28</td><td>Ertha</td><td>Clayhill</td><td>eclayhillr@twitter.com</td><td>2016-08-02</td><td>Games</td><td>F</td><td>62988.95</td><td>7</td></tr><tr><td>30</td><td>Abbey</td><td>Pagin</td><td>apagint@icio.us</td><td>2017-04-29</td><td>Games</td><td>F</td><td>600916.21</td><td>5</td></tr><tr><td>37</td><td>Kessiah</td><td>Innott</td><td>kinnott10@canalblog.com</td><td>2017-05-24</td><td>Games</td><td>F</td><td>419623.17</td><td>2</td></tr><tr><td>63</td><td>Bobbe</td><td>Orrin</td><td>borrin1q@uol.com.br</td><td>2013-08-30</td><td>Games</td><td>F</td><td>573366.64</td><td>7</td></tr><tr><td>82</td><td>Mata</td><td>Timlett</td><td>mtimlett29@state.tx.us</td><td>2013-03-28</td><td>Games</td><td>M</td><td>196045.97</td><td>4</td></tr><tr><td>112</td><td>Hetti</td><td>MacKean</td><td>hmackean33@ucoz.ru</td><td>2018-06-22</td><td>Games</td><td>F</td><td>554953.22</td><td>3</td></tr><tr><td>121</td><td>Stephana</td><td>Knapton</td><td>sknapton3c@newyorker.com</td><td>2015-01-03</td><td>Games</td><td>F</td><td>230521.00</td><td>1</td></tr><tr><td>126</td><td>Hannah</td><td>Burrows</td><td>hburrows3h@earthlink.net</td><td>2016-01-02</td><td>Games</td><td>F</td><td>225044.73</td><td>8</td></tr><tr><td>135</td><td>Kaiser</td><td>Heaven</td><td>kheaven3q@adobe.com</td><td>2012-09-28</td><td>Games</td><td>M</td><td>859208.20</td><td>8</td></tr><tr><td>143</td><td>Christoph</td><td>Sygroves</td><td>csygroves3y@github.com</td><td>2012-02-18</td><td>Games</td><td>M</td><td>527409.59</td><td>1</td></tr><tr><td>163</td><td>Dilan</td><td>Vitet</td><td>dvitet4i@hexun.com</td><td>2015-08-12</td><td>Games</td><td>M</td><td>591790.25</td><td>3</td></tr><tr><td>169</td><td>Leta</td><td>Howsan</td><td>lhowsan4o@icq.com</td><td>2014-11-06</td><td>Games</td><td>F</td><td>858421.40</td><td>8</td></tr><tr><td>195</td><td>Arlyn</td><td>Rowesby</td><td>arowesby5e@microsoft.com</td><td>2013-05-10</td><td>Games</td><td>F</td><td>425055.75</td><td>7</td></tr><tr><td>206</td><td>Avrit</td><td>Winkell</td><td>awinkell5p@webnode.com</td><td>2016-05-04</td><td>Games</td><td>F</td><td>144714.28</td><td>2</td></tr><tr><td>215</td><td>Windy</td><td>Leggis</td><td>wleggis5y@wp.com</td><td>2015-05-24</td><td>Games</td><td>F</td><td>701691.25</td><td>7</td></tr><tr><td>226</td><td>Jerrold</td><td>Girtin</td><td>jgirtin69@kickstarter.com</td><td>2013-11-18</td><td>Games</td><td>M</td><td>444420.85</td><td>4</td></tr><tr><td>233</td><td>Lynn</td><td>Beachamp</td><td>lbeachamp6g@ucoz.ru</td><td>2012-04-23</td><td>Games</td><td>M</td><td>596834.15</td><td>1</td></tr><tr><td>237</td><td>Whitney</td><td>Graffin</td><td>wgraffin6k@mtv.com</td><td>2011-11-17</td><td>Games</td><td>M</td><td>600459.21</td><td>7</td></tr><tr><td>251</td><td>Konstanze</td><td>Madelin</td><td>kmadelin6y@arstechnica.com</td><td>2016-04-29</td><td>Games</td><td>F</td><td>673911.52</td><td>8</td></tr><tr><td>266</td><td>Merci</td><td>Swanne</td><td>mswanne7d@google.fr</td><td>2018-01-26</td><td>Games</td><td>F</td><td>530688.71</td><td>1</td></tr><tr><td>288</td><td>Gretel</td><td>Grishukhin</td><td>ggrishukhin7z@princeton.edu</td><td>2011-06-08</td><td>Games</td><td>F</td><td>389185.75</td><td>6</td></tr><tr><td>309</td><td>Camille</td><td>Grayland</td><td>cgrayland8k@cdc.gov</td><td>2016-10-20</td><td>Games</td><td>F</td><td>366087.33</td><td>4</td></tr><tr><td>312</td><td>Kin</td><td>Malinson</td><td>kmalinson8n@moonfruit.com</td><td>2014-09-07</td><td>Games</td><td>M</td><td>321191.38</td><td>5</td></tr><tr><td>324</td><td>Lavinie</td><td>Whyborne</td><td>lwhyborne8z@usnews.com</td><td>2016-10-01</td><td>Games</td><td>F</td><td>21754.91</td><td>7</td></tr><tr><td>336</td><td>Allister</td><td>Pease</td><td>apease9b@wix.com</td><td>2016-02-04</td><td>Games</td><td>M</td><td>142770.39</td><td>1</td></tr><tr><td>360</td><td>Winthrop</td><td>Pampling</td><td>wpampling9z@europa.eu</td><td>2015-05-19</td><td>Games</td><td>M</td><td>596095.57</td><td>2</td></tr><tr><td>361</td><td>Javier</td><td>D'Alesco</td><td>jdalescoa0@macromedia.com</td><td>2011-07-27</td><td>Games</td><td>M</td><td>408540.75</td><td>6</td></tr><tr><td>362</td><td>Alonso</td><td>Hudd</td><td>ahudda1@ovh.net</td><td>2015-12-19</td><td>Games</td><td>M</td><td>285448.02</td><td>1</td></tr><tr><td>365</td><td>Millie</td><td>Castagneri</td><td>mcastagneria4@dion.ne.jp</td><td>2011-03-02</td><td>Games</td><td>F</td><td>37401.22</td><td>5</td></tr><tr><td>366</td><td>Ciel</td><td>Saull</td><td>csaulla5@wisc.edu</td><td>2011-05-27</td><td>Games</td><td>F</td><td>836641.50</td><td>2</td></tr><tr><td>373</td><td>Ambrosi</td><td>Benedite</td><td>abenediteac@apple.com</td><td>2010-12-29</td><td>Games</td><td>M</td><td>584383.72</td><td>5</td></tr><tr><td>374</td><td>Eduino</td><td>McCook</td><td>emccookad@accuweather.com</td><td>2012-09-05</td><td>Games</td><td>M</td><td>263374.00</td><td>5</td></tr><tr><td>378</td><td>Anderson</td><td>Monkeman</td><td>amonkemanah@intel.com</td><td>2017-08-17</td><td>Games</td><td>M</td><td>674074.42</td><td>2</td></tr><tr><td>408</td><td>Bob</td><td>Picardo</td><td>bpicardobb@businessweek.com</td><td>2016-05-13</td><td>Games</td><td>M</td><td>55895.76</td><td>6</td></tr><tr><td>418</td><td>Jayne</td><td>Kayser</td><td>jkayserbl@java.com</td><td>2017-06-15</td><td>Games</td><td>F</td><td>279154.97</td><td>2</td></tr><tr><td>427</td><td>Staford</td><td>Pierce</td><td>spiercebu@marriott.com</td><td>2017-06-19</td><td>Games</td><td>M</td><td>152260.75</td><td>7</td></tr><tr><td>432</td><td>Rosalie</td><td>Gawkes</td><td>rgawkesbz@tinyurl.com</td><td>2012-10-31</td><td>Games</td><td>F</td><td>21883.44</td><td>7</td></tr><tr><td>433</td><td>Willy</td><td>Page</td><td>wpagec0@nytimes.com</td><td>2014-03-19</td><td>Games</td><td>F</td><td>710428.33</td><td>6</td></tr><tr><td>437</td><td>Roi</td><td>Hannum</td><td>rhannumc4@dailymotion.com</td><td>2015-10-03</td><td>Games</td><td>M</td><td>861543.05</td><td>4</td></tr><tr><td>458</td><td>Yalonda</td><td>Musico</td><td>ymusicocp@china.com.cn</td><td>2017-06-07</td><td>Games</td><td>F</td><td>207492.70</td><td>1</td></tr><tr><td>468</td><td>Berry</td><td>Slamaker</td><td>bslamakercz@cornell.edu</td><td>2011-06-22</td><td>Games</td><td>F</td><td>149003.34</td><td>7</td></tr><tr><td>472</td><td>Noni</td><td>Spary</td><td>nsparyd3@columbia.edu</td><td>2016-04-05</td><td>Games</td><td>F</td><td>723590.46</td><td>4</td></tr><tr><td>475</td><td>Maxim</td><td>Goodban</td><td>mgoodband6@bloglines.com</td><td>2017-05-07</td><td>Games</td><td>M</td><td>741425.05</td><td>5</td></tr><tr><td>482</td><td>Milissent</td><td>Sambath</td><td>msambathdd@bing.com</td><td>2013-10-03</td><td>Games</td><td>F</td><td>371399.91</td><td>8</td></tr><tr><td>490</td><td>Allegra</td><td>Stonhard</td><td>astonharddl@mozilla.com</td><td>2011-12-29</td><td>Games</td><td>F</td><td>529743.20</td><td>8</td></tr><tr><td>492</td><td>Vergil</td><td>McCrohon</td><td>vmccrohondn@pcworld.com</td><td>2018-03-21</td><td>Games</td><td>M</td><td>163141.63</td><td>5</td></tr><tr><td>495</td><td>Adria</td><td>Witherington</td><td>awitheringtondq@ycombinator.com</td><td>2012-04-14</td><td>Games</td><td>F</td><td>138007.56</td><td>4</td></tr><tr><td>524</td><td>Randolph</td><td>Treble</td><td>rtreble3@jimdo.com</td><td>2018-02-03</td><td>Games</td><td>M</td><td>562692.00</td><td>5</td></tr><tr><td>562</td><td>Vi</td><td>Marchelli</td><td>vmarchelli15@cbsnews.com</td><td>2013-10-15</td><td>Games</td><td>F</td><td>332655.48</td><td>4</td></tr><tr><td>576</td><td>Norry</td><td>Shurmer</td><td>NULL</td><td>2013-09-27</td><td>Games</td><td>F</td><td>357816.65</td><td>3</td></tr><tr><td>588</td><td>Kean</td><td>Schwartz</td><td>NULL</td><td>2013-04-28</td><td>Games</td><td>M</td><td>443084.63</td><td>2</td></tr><tr><td>604</td><td>Franky</td><td>Cloute</td><td>fcloute2b@sakura.ne.jp</td><td>2016-03-10</td><td>Games</td><td>F</td><td>839862.03</td><td>6</td></tr><tr><td>7</td><td>Berkley</td><td>Koopman</td><td>bkoopman6@tuttocitta.it</td><td>2017-01-15</td><td>Toys</td><td>M</td><td>127556.89</td><td>5</td></tr><tr><td>14</td><td>Jeno</td><td>O'Hannen</td><td>johannend@woothemes.com</td><td>2011-07-03</td><td>Toys</td><td>M</td><td>244907.21</td><td>6</td></tr><tr><td>19</td><td>Daron</td><td>Sprake</td><td>dsprakei@imgur.com</td><td>2014-08-09</td><td>Toys</td><td>M</td><td>233990.26</td><td>4</td></tr><tr><td>25</td><td>Antonin</td><td>Greenstead</td><td>agreensteado@dailymail.co.uk</td><td>2015-12-29</td><td>Toys</td><td>M</td><td>70627.77</td><td>5</td></tr><tr><td>27</td><td>Sauveur</td><td>Moriarty</td><td>smoriartyq@yellowpages.com</td><td>2016-06-15</td><td>Toys</td><td>M</td><td>428001.93</td><td>4</td></tr><tr><td>39</td><td>Pieter</td><td>Ornells</td><td>pornells12@sphinn.com</td><td>2017-10-21</td><td>Toys</td><td>M</td><td>475492.54</td><td>3</td></tr><tr><td>42</td><td>Clayton</td><td>Ixer</td><td>cixer15@imdb.com</td><td>2011-09-02</td><td>Toys</td><td>M</td><td>187409.16</td><td>5</td></tr><tr><td>60</td><td>Noelle</td><td>Rich</td><td>nrich1n@timesonline.co.uk</td><td>2018-06-27</td><td>Toys</td><td>F</td><td>724542.53</td><td>2</td></tr><tr><td>110</td><td>Quent</td><td>Credland</td><td>qcredland31@cbslocal.com</td><td>2013-12-04</td><td>Toys</td><td>M</td><td>321859.53</td><td>4</td></tr><tr><td>122</td><td>Elene</td><td>Mingasson</td><td>emingasson3d@oracle.com</td><td>2010-11-06</td><td>Toys</td><td>F</td><td>315356.50</td><td>2</td></tr><tr><td>139</td><td>Minny</td><td>McCaskill</td><td>mmccaskill3u@domainmarket.com</td><td>2018-07-07</td><td>Toys</td><td>F</td><td>598320.88</td><td>6</td></tr><tr><td>140</td><td>Harald</td><td>Sigge</td><td>hsigge3v@prnewswire.com</td><td>2019-02-20</td><td>Toys</td><td>M</td><td>513661.49</td><td>6</td></tr><tr><td>149</td><td>Tomasina</td><td>Lampkin</td><td>tlampkin44@admin.ch</td><td>2012-04-18</td><td>Toys</td><td>F</td><td>648306.25</td><td>7</td></tr><tr><td>182</td><td>Cozmo</td><td>Blamphin</td><td>cblamphin51@spiegel.de</td><td>2015-12-26</td><td>Toys</td><td>M</td><td>273607.34</td><td>6</td></tr><tr><td>184</td><td>Neville</td><td>Hayman</td><td>nhayman53@vinaora.com</td><td>2013-11-07</td><td>Toys</td><td>M</td><td>252123.95</td><td>4</td></tr><tr><td>191</td><td>Bron</td><td>Thorold</td><td>bthorold5a@linkedin.com</td><td>2010-12-26</td><td>Toys</td><td>M</td><td>846884.83</td><td>5</td></tr><tr><td>210</td><td>Efren</td><td>Rizzone</td><td>erizzone5t@yale.edu</td><td>2012-11-29</td><td>Toys</td><td>M</td><td>669012.02</td><td>8</td></tr><tr><td>214</td><td>Quillan</td><td>Faustin</td><td>qfaustin5x@marketwatch.com</td><td>2018-05-19</td><td>Toys</td><td>M</td><td>390027.77</td><td>2</td></tr><tr><td>216</td><td>Tyrus</td><td>Meir</td><td>tmeir5z@foxnews.com</td><td>2018-08-30</td><td>Toys</td><td>M</td><td>165795.23</td><td>2</td></tr><tr><td>217</td><td>Vanya</td><td>Crystal</td><td>vcrystal60@w3.org</td><td>2013-09-01</td><td>Toys</td><td>F</td><td>883536.82</td><td>3</td></tr><tr><td>222</td><td>Ellswerth</td><td>Bidnall</td><td>ebidnall65@statcounter.com</td><td>2011-10-25</td><td>Toys</td><td>M</td><td>408574.89</td><td>5</td></tr><tr><td>223</td><td>Cissy</td><td>Manon</td><td>cmanon66@sun.com</td><td>2016-12-24</td><td>Toys</td><td>F</td><td>182812.35</td><td>7</td></tr><tr><td>231</td><td>Jolyn</td><td>Rattray</td><td>jrattray6e@blogtalkradio.com</td><td>2014-05-04</td><td>Toys</td><td>F</td><td>475440.08</td><td>5</td></tr><tr><td>235</td><td>Yorker</td><td>Lillie</td><td>ylillie6i@nasa.gov</td><td>2016-02-10</td><td>Toys</td><td>M</td><td>245664.69</td><td>2</td></tr><tr><td>239</td><td>Roxana</td><td>Spohrmann</td><td>rspohrmann6m@usda.gov</td><td>2014-08-03</td><td>Toys</td><td>F</td><td>845508.44</td><td>5</td></tr><tr><td>253</td><td>Willetta</td><td>Steptowe</td><td>wsteptowe70@hp.com</td><td>2013-02-03</td><td>Toys</td><td>F</td><td>869687.17</td><td>5</td></tr><tr><td>257</td><td>Pammy</td><td>Grimbleby</td><td>pgrimbleby74@nydailynews.com</td><td>2014-04-06</td><td>Toys</td><td>F</td><td>570567.00</td><td>5</td></tr><tr><td>271</td><td>Sheppard</td><td>Paty</td><td>spaty7i@paypal.com</td><td>2017-02-20</td><td>Toys</td><td>M</td><td>341813.94</td><td>8</td></tr><tr><td>287</td><td>Aurea</td><td>Kabos</td><td>akabos7y@nba.com</td><td>2012-06-14</td><td>Toys</td><td>F</td><td>488595.83</td><td>1</td></tr><tr><td>293</td><td>Meg</td><td>Tixier</td><td>mtixier84@npr.org</td><td>2013-07-31</td><td>Toys</td><td>F</td><td>52936.25</td><td>3</td></tr><tr><td>331</td><td>Bette</td><td>Harbinson</td><td>bharbinson96@eventbrite.com</td><td>2014-12-10</td><td>Toys</td><td>F</td><td>467862.05</td><td>1</td></tr><tr><td>363</td><td>Gare</td><td>Pettit</td><td>gpettita2@odnoklassniki.ru</td><td>2016-08-06</td><td>Toys</td><td>M</td><td>140758.19</td><td>3</td></tr><tr><td>370</td><td>Austina</td><td>Crosi</td><td>acrosia9@addtoany.com</td><td>2011-09-18</td><td>Toys</td><td>F</td><td>270958.89</td><td>6</td></tr><tr><td>428</td><td>Electra</td><td>Durbyn</td><td>edurbynbv@businessinsider.com</td><td>2016-05-22</td><td>Toys</td><td>F</td><td>647381.28</td><td>2</td></tr><tr><td>449</td><td>Page</td><td>Jurgen</td><td>pjurgencg@stumbleupon.com</td><td>2014-01-06</td><td>Toys</td><td>F</td><td>884220.42</td><td>1</td></tr><tr><td>479</td><td>Reinhold</td><td>Vaughan-Hughes</td><td>rvaughanhughesda@hud.gov</td><td>2010-12-03</td><td>Toys</td><td>M</td><td>739016.29</td><td>1</td></tr><tr><td>499</td><td>Eugenius</td><td>Garron</td><td>egarrondu@friendfeed.com</td><td>2011-09-18</td><td>Toys</td><td>M</td><td>282739.11</td><td>8</td></tr><tr><td>579</td><td>Rosina</td><td>Dalbey</td><td>NULL</td><td>2012-12-27</td><td>Toys</td><td>F</td><td>836171.96</td><td>4</td></tr><tr><td>583</td><td>Myrtia</td><td>Jillins</td><td>mjillins1q@google.ru</td><td>2018-07-25</td><td>Toys</td><td>F</td><td>807991.26</td><td>4</td></tr><tr><td>591</td><td>Adlai</td><td>Balsellie</td><td>NULL</td><td>2011-11-14</td><td>Toys</td><td>M</td><td>675666.46</td><td>8</td></tr><tr><td>595</td><td>Roxine</td><td>Wheowall</td><td>rwheowall22@lycos.com</td><td>2016-10-06</td><td>Toys</td><td>F</td><td>435416.27</td><td>2</td></tr><tr><td>615</td><td>Laural</td><td>O' Mullan</td><td>lomullan2m@ning.com</td><td>2015-07-16</td><td>Toys</td><td>F</td><td>817259.74</td><td>2</td></tr></table>"
                    }
                }
            ],
            "execution_count": 9
        },
        {
            "cell_type": "code",
            "source": "SELECT * FROM employees\nWHERE region_id IN (\n    SELECT id FROM regions WHERE country IN ('Canada', 'Germany')\n) AND salary > 800000;",
            "metadata": {},
            "outputs": [
                {
                    "output_type": "display_data",
                    "data": {
                        "text/html": "(54 row(s) affected)"
                    },
                    "metadata": {}
                },
                {
                    "output_type": "display_data",
                    "data": {
                        "text/html": "Total execution time: 0:00:00.015032"
                    },
                    "metadata": {}
                },
                {
                    "output_type": "execute_result",
                    "metadata": {},
                    "execution_count": 10,
                    "data": {
                        "application/vnd.dataresource+json": {
                            "schema": {
                                "fields": [
                                    {
                                        "name": "id"
                                    },
                                    {
                                        "name": "first_name"
                                    },
                                    {
                                        "name": "last_name"
                                    },
                                    {
                                        "name": "email"
                                    },
                                    {
                                        "name": "hire_date"
                                    },
                                    {
                                        "name": "department"
                                    },
                                    {
                                        "name": "gender"
                                    },
                                    {
                                        "name": "salary"
                                    },
                                    {
                                        "name": "region_id"
                                    }
                                ]
                            },
                            "data": [
                                {
                                    "0": "9",
                                    "1": "Nichol",
                                    "2": "Mougenel",
                                    "3": "nmougenel8@google.com.br",
                                    "4": "2017-08-20",
                                    "5": "Beauty",
                                    "6": "F",
                                    "7": "851247.94",
                                    "8": "7"
                                },
                                {
                                    "0": "31",
                                    "1": "Devora",
                                    "2": "Ropkins",
                                    "3": "dropkinsu@mozilla.com",
                                    "4": "2016-01-08",
                                    "5": "Jewelery",
                                    "6": "F",
                                    "7": "801166.65",
                                    "8": "6"
                                },
                                {
                                    "0": "34",
                                    "1": "Lothario",
                                    "2": "Di Biagi",
                                    "3": "ldibiagix@joomla.org",
                                    "4": "2016-06-29",
                                    "5": "Shoes",
                                    "6": "M",
                                    "7": "875530.91",
                                    "8": "8"
                                },
                                {
                                    "0": "38",
                                    "1": "Elysia",
                                    "2": "Baythrop",
                                    "3": "ebaythrop11@macromedia.com",
                                    "4": "2016-05-05",
                                    "5": "Automotive",
                                    "6": "F",
                                    "7": "829374.92",
                                    "8": "5"
                                },
                                {
                                    "0": "124",
                                    "1": "Zilvia",
                                    "2": "Berens",
                                    "3": "zberens3f@soundcloud.com",
                                    "4": "2011-03-07",
                                    "5": "Jewelery",
                                    "6": "F",
                                    "7": "870960.74",
                                    "8": "6"
                                },
                                {
                                    "0": "131",
                                    "1": "Christy",
                                    "2": "Buttler",
                                    "3": "cbuttler3m@fc2.com",
                                    "4": "2018-11-23",
                                    "5": "Movies",
                                    "6": "M",
                                    "7": "811754.61",
                                    "8": "7"
                                },
                                {
                                    "0": "135",
                                    "1": "Kaiser",
                                    "2": "Heaven",
                                    "3": "kheaven3q@adobe.com",
                                    "4": "2012-09-28",
                                    "5": "Games",
                                    "6": "M",
                                    "7": "859208.20",
                                    "8": "8"
                                },
                                {
                                    "0": "156",
                                    "1": "Warde",
                                    "2": "Doerren",
                                    "3": "wdoerren4b@cornell.edu",
                                    "4": "2018-03-22",
                                    "5": "Beauty",
                                    "6": "M",
                                    "7": "882712.00",
                                    "8": "6"
                                },
                                {
                                    "0": "166",
                                    "1": "Bridgette",
                                    "2": "Attiwill",
                                    "3": "battiwill4l@1und1.de",
                                    "4": "2014-07-05",
                                    "5": "Music",
                                    "6": "F",
                                    "7": "848774.68",
                                    "8": "1"
                                },
                                {
                                    "0": "167",
                                    "1": "Phil",
                                    "2": "Hartfield",
                                    "3": "phartfield4m@senate.gov",
                                    "4": "2014-02-16",
                                    "5": "Movies",
                                    "6": "M",
                                    "7": "871572.80",
                                    "8": "7"
                                },
                                {
                                    "0": "169",
                                    "1": "Leta",
                                    "2": "Howsan",
                                    "3": "lhowsan4o@icq.com",
                                    "4": "2014-11-06",
                                    "5": "Games",
                                    "6": "F",
                                    "7": "858421.40",
                                    "8": "8"
                                },
                                {
                                    "0": "173",
                                    "1": "Gertrud",
                                    "2": "Canelas",
                                    "3": "gcanelas4s@tinypic.com",
                                    "4": "2011-07-11",
                                    "5": "Books",
                                    "6": "F",
                                    "7": "869020.65",
                                    "8": "5"
                                },
                                {
                                    "0": "177",
                                    "1": "Genevieve",
                                    "2": "Bentson",
                                    "3": "gbentson4w@myspace.com",
                                    "4": "2015-10-27",
                                    "5": "Music",
                                    "6": "F",
                                    "7": "819623.86",
                                    "8": "5"
                                },
                                {
                                    "0": "191",
                                    "1": "Bron",
                                    "2": "Thorold",
                                    "3": "bthorold5a@linkedin.com",
                                    "4": "2010-12-26",
                                    "5": "Toys",
                                    "6": "M",
                                    "7": "846884.83",
                                    "8": "5"
                                },
                                {
                                    "0": "211",
                                    "1": "Emmalynn",
                                    "2": "Grishmanov",
                                    "3": "egrishmanov5u@qq.com",
                                    "4": "2013-01-12",
                                    "5": "Computers",
                                    "6": "F",
                                    "7": "883740.12",
                                    "8": "8"
                                },
                                {
                                    "0": "213",
                                    "1": "Cecily",
                                    "2": "Stubbes",
                                    "3": "cstubbes5w@mashable.com",
                                    "4": "2015-01-11",
                                    "5": "Clothing",
                                    "6": "F",
                                    "7": "876688.06",
                                    "8": "6"
                                },
                                {
                                    "0": "239",
                                    "1": "Roxana",
                                    "2": "Spohrmann",
                                    "3": "rspohrmann6m@usda.gov",
                                    "4": "2014-08-03",
                                    "5": "Toys",
                                    "6": "F",
                                    "7": "845508.44",
                                    "8": "5"
                                },
                                {
                                    "0": "240",
                                    "1": "Corene",
                                    "2": "Elliot",
                                    "3": "celliot6n@sourceforge.net",
                                    "4": "2015-06-12",
                                    "5": "Garden",
                                    "6": "F",
                                    "7": "863358.26",
                                    "8": "7"
                                },
                                {
                                    "0": "253",
                                    "1": "Willetta",
                                    "2": "Steptowe",
                                    "3": "wsteptowe70@hp.com",
                                    "4": "2013-02-03",
                                    "5": "Toys",
                                    "6": "F",
                                    "7": "869687.17",
                                    "8": "5"
                                },
                                {
                                    "0": "255",
                                    "1": "Viva",
                                    "2": "Chapelhow",
                                    "3": "vchapelhow72@wiley.com",
                                    "4": "2017-11-15",
                                    "5": "Shoes",
                                    "6": "F",
                                    "7": "877379.70",
                                    "8": "6"
                                },
                                {
                                    "0": "262",
                                    "1": "Kara",
                                    "2": "Horder",
                                    "3": "khorder79@ted.com",
                                    "4": "2017-10-22",
                                    "5": "Automotive",
                                    "6": "F",
                                    "7": "840806.70",
                                    "8": "7"
                                },
                                {
                                    "0": "272",
                                    "1": "Conant",
                                    "2": "Reubbens",
                                    "3": "creubbens7j@mail.ru",
                                    "4": "2011-12-11",
                                    "5": "Clothing",
                                    "6": "M",
                                    "7": "841394.67",
                                    "8": "7"
                                },
                                {
                                    "0": "277",
                                    "1": "Calv",
                                    "2": "Flowerdew",
                                    "3": "cflowerdew7o@g.co",
                                    "4": "2018-10-19",
                                    "5": "Garden",
                                    "6": "M",
                                    "7": "816874.90",
                                    "8": "5"
                                },
                                {
                                    "0": "310",
                                    "1": "Teena",
                                    "2": "McGucken",
                                    "3": "tmcgucken8l@merriam-webster.com",
                                    "4": "2017-07-07",
                                    "5": "Shoes",
                                    "6": "F",
                                    "7": "820255.31",
                                    "8": "1"
                                },
                                {
                                    "0": "320",
                                    "1": "Anastasie",
                                    "2": "Starie",
                                    "3": "astarie8v@i2i.jp",
                                    "4": "2014-02-17",
                                    "5": "Grocery",
                                    "6": "F",
                                    "7": "868536.30",
                                    "8": "7"
                                },
                                {
                                    "0": "323",
                                    "1": "Lorinda",
                                    "2": "Challis",
                                    "3": "lchallis8y@t.co",
                                    "4": "2016-12-14",
                                    "5": "Shoes",
                                    "6": "F",
                                    "7": "890897.12",
                                    "8": "6"
                                },
                                {
                                    "0": "358",
                                    "1": "Rolph",
                                    "2": "Tyrwhitt",
                                    "3": "rtyrwhitt9x@prweb.com",
                                    "4": "2016-11-02",
                                    "5": "Jewelery",
                                    "6": "M",
                                    "7": "838843.90",
                                    "8": "5"
                                },
                                {
                                    "0": "385",
                                    "1": "Sabrina",
                                    "2": "Logie",
                                    "3": "slogieao@usda.gov",
                                    "4": "2017-06-20",
                                    "5": "Computers",
                                    "6": "F",
                                    "7": "891062.15",
                                    "8": "1"
                                },
                                {
                                    "0": "386",
                                    "1": "Samaria",
                                    "2": "Beel",
                                    "3": "sbeelap@blog.com",
                                    "4": "2013-06-30",
                                    "5": "Movies",
                                    "6": "F",
                                    "7": "811405.53",
                                    "8": "5"
                                },
                                {
                                    "0": "406",
                                    "1": "Chalmers",
                                    "2": "Minguet",
                                    "3": "cminguetb9@eepurl.com",
                                    "4": "2015-11-13",
                                    "5": "Computers",
                                    "6": "M",
                                    "7": "829976.29",
                                    "8": "7"
                                },
                                {
                                    "0": "422",
                                    "1": "Gerick",
                                    "2": "Warrener",
                                    "3": "gwarrenerbp@skyrock.com",
                                    "4": "2012-05-04",
                                    "5": "Movies",
                                    "6": "M",
                                    "7": "841836.55",
                                    "8": "1"
                                },
                                {
                                    "0": "423",
                                    "1": "Kaja",
                                    "2": "Besse",
                                    "3": "kbessebq@lulu.com",
                                    "4": "2019-03-01",
                                    "5": "Computers",
                                    "6": "F",
                                    "7": "829503.08",
                                    "8": "6"
                                },
                                {
                                    "0": "424",
                                    "1": "Emmerich",
                                    "2": "Shepland",
                                    "3": "esheplandbr@nasa.gov",
                                    "4": "2010-11-23",
                                    "5": "Shoes",
                                    "6": "M",
                                    "7": "856849.91",
                                    "8": "7"
                                },
                                {
                                    "0": "444",
                                    "1": "Celina",
                                    "2": "O'Carmody",
                                    "3": "cocarmodycb@google.fr",
                                    "4": "2014-08-04",
                                    "5": "Grocery",
                                    "6": "F",
                                    "7": "860604.98",
                                    "8": "8"
                                },
                                {
                                    "0": "449",
                                    "1": "Page",
                                    "2": "Jurgen",
                                    "3": "pjurgencg@stumbleupon.com",
                                    "4": "2014-01-06",
                                    "5": "Toys",
                                    "6": "F",
                                    "7": "884220.42",
                                    "8": "1"
                                },
                                {
                                    "0": "462",
                                    "1": "Velvet",
                                    "2": "Desson",
                                    "3": "vdessonct@prlog.org",
                                    "4": "2016-11-05",
                                    "5": "Music",
                                    "6": "F",
                                    "7": "804116.94",
                                    "8": "5"
                                },
                                {
                                    "0": "473",
                                    "1": "Zachariah",
                                    "2": "Meriguet",
                                    "3": "zmeriguetd4@mail.ru",
                                    "4": "2018-02-26",
                                    "5": "Shoes",
                                    "6": "M",
                                    "7": "854340.34",
                                    "8": "5"
                                },
                                {
                                    "0": "485",
                                    "1": "Deeann",
                                    "2": "Ferdinand",
                                    "3": "dferdinanddg@about.com",
                                    "4": "2016-12-15",
                                    "5": "Grocery",
                                    "6": "F",
                                    "7": "883227.93",
                                    "8": "6"
                                },
                                {
                                    "0": "487",
                                    "1": "Neal",
                                    "2": "White",
                                    "3": "nwhitedi@uiuc.edu",
                                    "4": "2018-07-16",
                                    "5": "Garden",
                                    "6": "M",
                                    "7": "882000.75",
                                    "8": "8"
                                },
                                {
                                    "0": "521",
                                    "1": "Brier",
                                    "2": "Hynes",
                                    "3": "NULL",
                                    "4": "2017-11-26",
                                    "5": "Automotive",
                                    "6": "F",
                                    "7": "888354.50",
                                    "8": "8"
                                },
                                {
                                    "0": "530",
                                    "1": "Bordie",
                                    "2": "Pennock",
                                    "3": "NULL",
                                    "4": "2017-01-24",
                                    "5": "Grocery",
                                    "6": "M",
                                    "7": "822804.51",
                                    "8": "8"
                                },
                                {
                                    "0": "531",
                                    "1": "Wendell",
                                    "2": "Norquoy",
                                    "3": "NULL",
                                    "4": "2014-07-26",
                                    "5": "Clothing",
                                    "6": "M",
                                    "7": "818501.91",
                                    "8": "1"
                                },
                                {
                                    "0": "537",
                                    "1": "Juan",
                                    "2": "Wylam",
                                    "3": "NULL",
                                    "4": "2016-03-05",
                                    "5": "Automotive",
                                    "6": "M",
                                    "7": "843209.15",
                                    "8": "1"
                                },
                                {
                                    "0": "542",
                                    "1": "Carrol",
                                    "2": "Cammomile",
                                    "3": "NULL",
                                    "4": "2015-12-01",
                                    "5": "Grocery",
                                    "6": "M",
                                    "7": "855296.06",
                                    "8": "8"
                                },
                                {
                                    "0": "546",
                                    "1": "Lanny",
                                    "2": "Fibbens",
                                    "3": "NULL",
                                    "4": "2012-05-26",
                                    "5": "Shoes",
                                    "6": "F",
                                    "7": "801212.36",
                                    "8": "8"
                                },
                                {
                                    "0": "555",
                                    "1": "Malinda",
                                    "2": "Sire",
                                    "3": "NULL",
                                    "4": "2012-07-27",
                                    "5": "Grocery",
                                    "6": "F",
                                    "7": "847651.55",
                                    "8": "1"
                                },
                                {
                                    "0": "558",
                                    "1": "Carlyle",
                                    "2": "Loache",
                                    "3": "cloache11@skype.com",
                                    "4": "2014-01-14",
                                    "5": "Music",
                                    "6": "M",
                                    "7": "863392.16",
                                    "8": "1"
                                },
                                {
                                    "0": "564",
                                    "1": "Worthington",
                                    "2": "Stancer",
                                    "3": "wstancer17@toplist.cz",
                                    "4": "2015-03-18",
                                    "5": "Music",
                                    "6": "M",
                                    "7": "826369.60",
                                    "8": "6"
                                },
                                {
                                    "0": "567",
                                    "1": "Katti",
                                    "2": "Gaspard",
                                    "3": "kgaspard1a@flickr.com",
                                    "4": "2011-01-19",
                                    "5": "Music",
                                    "6": "F",
                                    "7": "834710.00",
                                    "8": "1"
                                },
                                {
                                    "0": "593",
                                    "1": "Eleonore",
                                    "2": "Czajkowski",
                                    "3": "eczajkowski20@hubpages.com",
                                    "4": "2014-09-03",
                                    "5": "Computers",
                                    "6": "F",
                                    "7": "800304.19",
                                    "8": "7"
                                },
                                {
                                    "0": "598",
                                    "1": "Kelsey",
                                    "2": "Kennewell",
                                    "3": "NULL",
                                    "4": "2011-08-23",
                                    "5": "Jewelery",
                                    "6": "M",
                                    "7": "838362.17",
                                    "8": "1"
                                },
                                {
                                    "0": "604",
                                    "1": "Franky",
                                    "2": "Cloute",
                                    "3": "fcloute2b@sakura.ne.jp",
                                    "4": "2016-03-10",
                                    "5": "Games",
                                    "6": "F",
                                    "7": "839862.03",
                                    "8": "6"
                                },
                                {
                                    "0": "612",
                                    "1": "Amara",
                                    "2": "Balls",
                                    "3": "NULL",
                                    "4": "2015-10-17",
                                    "5": "Shoes",
                                    "6": "F",
                                    "7": "895204.82",
                                    "8": "6"
                                },
                                {
                                    "0": "616",
                                    "1": "Ariel",
                                    "2": "Brickett",
                                    "3": "abrickett2n@oaic.gov.au",
                                    "4": "2018-10-30",
                                    "5": "Shoes",
                                    "6": "M",
                                    "7": "864218.48",
                                    "8": "1"
                                }
                            ]
                        },
                        "text/html": "<table><tr><th>id</th><th>first_name</th><th>last_name</th><th>email</th><th>hire_date</th><th>department</th><th>gender</th><th>salary</th><th>region_id</th></tr><tr><td>9</td><td>Nichol</td><td>Mougenel</td><td>nmougenel8@google.com.br</td><td>2017-08-20</td><td>Beauty</td><td>F</td><td>851247.94</td><td>7</td></tr><tr><td>31</td><td>Devora</td><td>Ropkins</td><td>dropkinsu@mozilla.com</td><td>2016-01-08</td><td>Jewelery</td><td>F</td><td>801166.65</td><td>6</td></tr><tr><td>34</td><td>Lothario</td><td>Di Biagi</td><td>ldibiagix@joomla.org</td><td>2016-06-29</td><td>Shoes</td><td>M</td><td>875530.91</td><td>8</td></tr><tr><td>38</td><td>Elysia</td><td>Baythrop</td><td>ebaythrop11@macromedia.com</td><td>2016-05-05</td><td>Automotive</td><td>F</td><td>829374.92</td><td>5</td></tr><tr><td>124</td><td>Zilvia</td><td>Berens</td><td>zberens3f@soundcloud.com</td><td>2011-03-07</td><td>Jewelery</td><td>F</td><td>870960.74</td><td>6</td></tr><tr><td>131</td><td>Christy</td><td>Buttler</td><td>cbuttler3m@fc2.com</td><td>2018-11-23</td><td>Movies</td><td>M</td><td>811754.61</td><td>7</td></tr><tr><td>135</td><td>Kaiser</td><td>Heaven</td><td>kheaven3q@adobe.com</td><td>2012-09-28</td><td>Games</td><td>M</td><td>859208.20</td><td>8</td></tr><tr><td>156</td><td>Warde</td><td>Doerren</td><td>wdoerren4b@cornell.edu</td><td>2018-03-22</td><td>Beauty</td><td>M</td><td>882712.00</td><td>6</td></tr><tr><td>166</td><td>Bridgette</td><td>Attiwill</td><td>battiwill4l@1und1.de</td><td>2014-07-05</td><td>Music</td><td>F</td><td>848774.68</td><td>1</td></tr><tr><td>167</td><td>Phil</td><td>Hartfield</td><td>phartfield4m@senate.gov</td><td>2014-02-16</td><td>Movies</td><td>M</td><td>871572.80</td><td>7</td></tr><tr><td>169</td><td>Leta</td><td>Howsan</td><td>lhowsan4o@icq.com</td><td>2014-11-06</td><td>Games</td><td>F</td><td>858421.40</td><td>8</td></tr><tr><td>173</td><td>Gertrud</td><td>Canelas</td><td>gcanelas4s@tinypic.com</td><td>2011-07-11</td><td>Books</td><td>F</td><td>869020.65</td><td>5</td></tr><tr><td>177</td><td>Genevieve</td><td>Bentson</td><td>gbentson4w@myspace.com</td><td>2015-10-27</td><td>Music</td><td>F</td><td>819623.86</td><td>5</td></tr><tr><td>191</td><td>Bron</td><td>Thorold</td><td>bthorold5a@linkedin.com</td><td>2010-12-26</td><td>Toys</td><td>M</td><td>846884.83</td><td>5</td></tr><tr><td>211</td><td>Emmalynn</td><td>Grishmanov</td><td>egrishmanov5u@qq.com</td><td>2013-01-12</td><td>Computers</td><td>F</td><td>883740.12</td><td>8</td></tr><tr><td>213</td><td>Cecily</td><td>Stubbes</td><td>cstubbes5w@mashable.com</td><td>2015-01-11</td><td>Clothing</td><td>F</td><td>876688.06</td><td>6</td></tr><tr><td>239</td><td>Roxana</td><td>Spohrmann</td><td>rspohrmann6m@usda.gov</td><td>2014-08-03</td><td>Toys</td><td>F</td><td>845508.44</td><td>5</td></tr><tr><td>240</td><td>Corene</td><td>Elliot</td><td>celliot6n@sourceforge.net</td><td>2015-06-12</td><td>Garden</td><td>F</td><td>863358.26</td><td>7</td></tr><tr><td>253</td><td>Willetta</td><td>Steptowe</td><td>wsteptowe70@hp.com</td><td>2013-02-03</td><td>Toys</td><td>F</td><td>869687.17</td><td>5</td></tr><tr><td>255</td><td>Viva</td><td>Chapelhow</td><td>vchapelhow72@wiley.com</td><td>2017-11-15</td><td>Shoes</td><td>F</td><td>877379.70</td><td>6</td></tr><tr><td>262</td><td>Kara</td><td>Horder</td><td>khorder79@ted.com</td><td>2017-10-22</td><td>Automotive</td><td>F</td><td>840806.70</td><td>7</td></tr><tr><td>272</td><td>Conant</td><td>Reubbens</td><td>creubbens7j@mail.ru</td><td>2011-12-11</td><td>Clothing</td><td>M</td><td>841394.67</td><td>7</td></tr><tr><td>277</td><td>Calv</td><td>Flowerdew</td><td>cflowerdew7o@g.co</td><td>2018-10-19</td><td>Garden</td><td>M</td><td>816874.90</td><td>5</td></tr><tr><td>310</td><td>Teena</td><td>McGucken</td><td>tmcgucken8l@merriam-webster.com</td><td>2017-07-07</td><td>Shoes</td><td>F</td><td>820255.31</td><td>1</td></tr><tr><td>320</td><td>Anastasie</td><td>Starie</td><td>astarie8v@i2i.jp</td><td>2014-02-17</td><td>Grocery</td><td>F</td><td>868536.30</td><td>7</td></tr><tr><td>323</td><td>Lorinda</td><td>Challis</td><td>lchallis8y@t.co</td><td>2016-12-14</td><td>Shoes</td><td>F</td><td>890897.12</td><td>6</td></tr><tr><td>358</td><td>Rolph</td><td>Tyrwhitt</td><td>rtyrwhitt9x@prweb.com</td><td>2016-11-02</td><td>Jewelery</td><td>M</td><td>838843.90</td><td>5</td></tr><tr><td>385</td><td>Sabrina</td><td>Logie</td><td>slogieao@usda.gov</td><td>2017-06-20</td><td>Computers</td><td>F</td><td>891062.15</td><td>1</td></tr><tr><td>386</td><td>Samaria</td><td>Beel</td><td>sbeelap@blog.com</td><td>2013-06-30</td><td>Movies</td><td>F</td><td>811405.53</td><td>5</td></tr><tr><td>406</td><td>Chalmers</td><td>Minguet</td><td>cminguetb9@eepurl.com</td><td>2015-11-13</td><td>Computers</td><td>M</td><td>829976.29</td><td>7</td></tr><tr><td>422</td><td>Gerick</td><td>Warrener</td><td>gwarrenerbp@skyrock.com</td><td>2012-05-04</td><td>Movies</td><td>M</td><td>841836.55</td><td>1</td></tr><tr><td>423</td><td>Kaja</td><td>Besse</td><td>kbessebq@lulu.com</td><td>2019-03-01</td><td>Computers</td><td>F</td><td>829503.08</td><td>6</td></tr><tr><td>424</td><td>Emmerich</td><td>Shepland</td><td>esheplandbr@nasa.gov</td><td>2010-11-23</td><td>Shoes</td><td>M</td><td>856849.91</td><td>7</td></tr><tr><td>444</td><td>Celina</td><td>O'Carmody</td><td>cocarmodycb@google.fr</td><td>2014-08-04</td><td>Grocery</td><td>F</td><td>860604.98</td><td>8</td></tr><tr><td>449</td><td>Page</td><td>Jurgen</td><td>pjurgencg@stumbleupon.com</td><td>2014-01-06</td><td>Toys</td><td>F</td><td>884220.42</td><td>1</td></tr><tr><td>462</td><td>Velvet</td><td>Desson</td><td>vdessonct@prlog.org</td><td>2016-11-05</td><td>Music</td><td>F</td><td>804116.94</td><td>5</td></tr><tr><td>473</td><td>Zachariah</td><td>Meriguet</td><td>zmeriguetd4@mail.ru</td><td>2018-02-26</td><td>Shoes</td><td>M</td><td>854340.34</td><td>5</td></tr><tr><td>485</td><td>Deeann</td><td>Ferdinand</td><td>dferdinanddg@about.com</td><td>2016-12-15</td><td>Grocery</td><td>F</td><td>883227.93</td><td>6</td></tr><tr><td>487</td><td>Neal</td><td>White</td><td>nwhitedi@uiuc.edu</td><td>2018-07-16</td><td>Garden</td><td>M</td><td>882000.75</td><td>8</td></tr><tr><td>521</td><td>Brier</td><td>Hynes</td><td>NULL</td><td>2017-11-26</td><td>Automotive</td><td>F</td><td>888354.50</td><td>8</td></tr><tr><td>530</td><td>Bordie</td><td>Pennock</td><td>NULL</td><td>2017-01-24</td><td>Grocery</td><td>M</td><td>822804.51</td><td>8</td></tr><tr><td>531</td><td>Wendell</td><td>Norquoy</td><td>NULL</td><td>2014-07-26</td><td>Clothing</td><td>M</td><td>818501.91</td><td>1</td></tr><tr><td>537</td><td>Juan</td><td>Wylam</td><td>NULL</td><td>2016-03-05</td><td>Automotive</td><td>M</td><td>843209.15</td><td>1</td></tr><tr><td>542</td><td>Carrol</td><td>Cammomile</td><td>NULL</td><td>2015-12-01</td><td>Grocery</td><td>M</td><td>855296.06</td><td>8</td></tr><tr><td>546</td><td>Lanny</td><td>Fibbens</td><td>NULL</td><td>2012-05-26</td><td>Shoes</td><td>F</td><td>801212.36</td><td>8</td></tr><tr><td>555</td><td>Malinda</td><td>Sire</td><td>NULL</td><td>2012-07-27</td><td>Grocery</td><td>F</td><td>847651.55</td><td>1</td></tr><tr><td>558</td><td>Carlyle</td><td>Loache</td><td>cloache11@skype.com</td><td>2014-01-14</td><td>Music</td><td>M</td><td>863392.16</td><td>1</td></tr><tr><td>564</td><td>Worthington</td><td>Stancer</td><td>wstancer17@toplist.cz</td><td>2015-03-18</td><td>Music</td><td>M</td><td>826369.60</td><td>6</td></tr><tr><td>567</td><td>Katti</td><td>Gaspard</td><td>kgaspard1a@flickr.com</td><td>2011-01-19</td><td>Music</td><td>F</td><td>834710.00</td><td>1</td></tr><tr><td>593</td><td>Eleonore</td><td>Czajkowski</td><td>eczajkowski20@hubpages.com</td><td>2014-09-03</td><td>Computers</td><td>F</td><td>800304.19</td><td>7</td></tr><tr><td>598</td><td>Kelsey</td><td>Kennewell</td><td>NULL</td><td>2011-08-23</td><td>Jewelery</td><td>M</td><td>838362.17</td><td>1</td></tr><tr><td>604</td><td>Franky</td><td>Cloute</td><td>fcloute2b@sakura.ne.jp</td><td>2016-03-10</td><td>Games</td><td>F</td><td>839862.03</td><td>6</td></tr><tr><td>612</td><td>Amara</td><td>Balls</td><td>NULL</td><td>2015-10-17</td><td>Shoes</td><td>F</td><td>895204.82</td><td>6</td></tr><tr><td>616</td><td>Ariel</td><td>Brickett</td><td>abrickett2n@oaic.gov.au</td><td>2018-10-30</td><td>Shoes</td><td>M</td><td>864218.48</td><td>1</td></tr></table>"
                    }
                }
            ],
            "execution_count": 10
        },
        {
            "cell_type": "code",
            "source": "SELECT first_name, department, (SELECT MAX(salary) FROM employees) - salary AS diff\nFROM employees LIMIT 30;",
            "metadata": {},
            "outputs": [
                {
                    "output_type": "display_data",
                    "data": {
                        "text/html": "(30 row(s) affected)"
                    },
                    "metadata": {}
                },
                {
                    "output_type": "display_data",
                    "data": {
                        "text/html": "Total execution time: 0:00:00.005235"
                    },
                    "metadata": {}
                },
                {
                    "output_type": "execute_result",
                    "metadata": {},
                    "execution_count": 11,
                    "data": {
                        "application/vnd.dataresource+json": {
                            "schema": {
                                "fields": [
                                    {
                                        "name": "first_name"
                                    },
                                    {
                                        "name": "department"
                                    },
                                    {
                                        "name": "diff"
                                    }
                                ]
                            },
                            "data": [
                                {
                                    "0": "Arabele",
                                    "1": "Books",
                                    "2": "177773.04"
                                },
                                {
                                    "0": "Manuel",
                                    "1": "Computers",
                                    "2": "518417.62"
                                },
                                {
                                    "0": "Pinchas",
                                    "1": "Grocery",
                                    "2": "605493.08"
                                },
                                {
                                    "0": "Pierson",
                                    "1": "Games",
                                    "2": "498895.57"
                                },
                                {
                                    "0": "Muire",
                                    "1": "Beauty",
                                    "2": "625903.14"
                                },
                                {
                                    "0": "Melony",
                                    "1": "Jewelery",
                                    "2": "91206.30"
                                },
                                {
                                    "0": "Berkley",
                                    "1": "Toys",
                                    "2": "772414.45"
                                },
                                {
                                    "0": "Lesly",
                                    "1": "Computers",
                                    "2": "206110.34"
                                },
                                {
                                    "0": "Nichol",
                                    "1": "Beauty",
                                    "2": "48723.40"
                                },
                                {
                                    "0": "Delmore",
                                    "1": "Movies",
                                    "2": "789842.66"
                                },
                                {
                                    "0": "Noble",
                                    "1": "Books",
                                    "2": "326346.36"
                                },
                                {
                                    "0": "Dita",
                                    "1": "Movies",
                                    "2": "114184.05"
                                },
                                {
                                    "0": "Maryl",
                                    "1": "Garden",
                                    "2": "246560.75"
                                },
                                {
                                    "0": "Jeno",
                                    "1": "Toys",
                                    "2": "655064.13"
                                },
                                {
                                    "0": "Benedicto",
                                    "1": "Games",
                                    "2": "199530.72"
                                },
                                {
                                    "0": "Horace",
                                    "1": "Clothing",
                                    "2": "235918.23"
                                },
                                {
                                    "0": "Celene",
                                    "1": "Games",
                                    "2": "384994.40"
                                },
                                {
                                    "0": "Martainn",
                                    "1": "Music",
                                    "2": "101331.87"
                                },
                                {
                                    "0": "Daron",
                                    "1": "Toys",
                                    "2": "665981.08"
                                },
                                {
                                    "0": "Der",
                                    "1": "Shoes",
                                    "2": "624203.79"
                                },
                                {
                                    "0": "Consalve",
                                    "1": "Shoes",
                                    "2": "426094.38"
                                },
                                {
                                    "0": "Charlotta",
                                    "1": "Shoes",
                                    "2": "296643.95"
                                },
                                {
                                    "0": "Amery",
                                    "1": "Automotive",
                                    "2": "687340.29"
                                },
                                {
                                    "0": "Anna-maria",
                                    "1": "Movies",
                                    "2": "161386.79"
                                },
                                {
                                    "0": "Antonin",
                                    "1": "Toys",
                                    "2": "829343.57"
                                },
                                {
                                    "0": "Sharia",
                                    "1": "Books",
                                    "2": "435701.49"
                                },
                                {
                                    "0": "Sauveur",
                                    "1": "Toys",
                                    "2": "471969.41"
                                },
                                {
                                    "0": "Ertha",
                                    "1": "Games",
                                    "2": "836982.39"
                                },
                                {
                                    "0": "Elmore",
                                    "1": "Music",
                                    "2": "379414.81"
                                },
                                {
                                    "0": "Abbey",
                                    "1": "Games",
                                    "2": "299055.13"
                                }
                            ]
                        },
                        "text/html": "<table><tr><th>first_name</th><th>department</th><th>diff</th></tr><tr><td>Arabele</td><td>Books</td><td>177773.04</td></tr><tr><td>Manuel</td><td>Computers</td><td>518417.62</td></tr><tr><td>Pinchas</td><td>Grocery</td><td>605493.08</td></tr><tr><td>Pierson</td><td>Games</td><td>498895.57</td></tr><tr><td>Muire</td><td>Beauty</td><td>625903.14</td></tr><tr><td>Melony</td><td>Jewelery</td><td>91206.30</td></tr><tr><td>Berkley</td><td>Toys</td><td>772414.45</td></tr><tr><td>Lesly</td><td>Computers</td><td>206110.34</td></tr><tr><td>Nichol</td><td>Beauty</td><td>48723.40</td></tr><tr><td>Delmore</td><td>Movies</td><td>789842.66</td></tr><tr><td>Noble</td><td>Books</td><td>326346.36</td></tr><tr><td>Dita</td><td>Movies</td><td>114184.05</td></tr><tr><td>Maryl</td><td>Garden</td><td>246560.75</td></tr><tr><td>Jeno</td><td>Toys</td><td>655064.13</td></tr><tr><td>Benedicto</td><td>Games</td><td>199530.72</td></tr><tr><td>Horace</td><td>Clothing</td><td>235918.23</td></tr><tr><td>Celene</td><td>Games</td><td>384994.40</td></tr><tr><td>Martainn</td><td>Music</td><td>101331.87</td></tr><tr><td>Daron</td><td>Toys</td><td>665981.08</td></tr><tr><td>Der</td><td>Shoes</td><td>624203.79</td></tr><tr><td>Consalve</td><td>Shoes</td><td>426094.38</td></tr><tr><td>Charlotta</td><td>Shoes</td><td>296643.95</td></tr><tr><td>Amery</td><td>Automotive</td><td>687340.29</td></tr><tr><td>Anna-maria</td><td>Movies</td><td>161386.79</td></tr><tr><td>Antonin</td><td>Toys</td><td>829343.57</td></tr><tr><td>Sharia</td><td>Books</td><td>435701.49</td></tr><tr><td>Sauveur</td><td>Toys</td><td>471969.41</td></tr><tr><td>Ertha</td><td>Games</td><td>836982.39</td></tr><tr><td>Elmore</td><td>Music</td><td>379414.81</td></tr><tr><td>Abbey</td><td>Games</td><td>299055.13</td></tr></table>"
                    }
                }
            ],
            "execution_count": 11
        },
        {
            "cell_type": "code",
            "source": "SELECT * FROM employees\nWHERE department = ANY(SELECT department FROM departments WHERE division = 'Kids')\nAND hire_date > ALL(\n    SELECT hire_date FROM employees WHERE department = 'Movies'\n);",
            "metadata": {},
            "outputs": [
                {
                    "output_type": "display_data",
                    "data": {
                        "text/html": "(1 row(s) affected)"
                    },
                    "metadata": {}
                },
                {
                    "output_type": "display_data",
                    "data": {
                        "text/html": "Total execution time: 0:00:00.015704"
                    },
                    "metadata": {}
                },
                {
                    "output_type": "execute_result",
                    "metadata": {},
                    "execution_count": 20,
                    "data": {
                        "application/vnd.dataresource+json": {
                            "schema": {
                                "fields": [
                                    {
                                        "name": "id"
                                    },
                                    {
                                        "name": "first_name"
                                    },
                                    {
                                        "name": "last_name"
                                    },
                                    {
                                        "name": "email"
                                    },
                                    {
                                        "name": "hire_date"
                                    },
                                    {
                                        "name": "department"
                                    },
                                    {
                                        "name": "gender"
                                    },
                                    {
                                        "name": "salary"
                                    },
                                    {
                                        "name": "region_id"
                                    }
                                ]
                            },
                            "data": [
                                {
                                    "0": "140",
                                    "1": "Harald",
                                    "2": "Sigge",
                                    "3": "hsigge3v@prnewswire.com",
                                    "4": "2019-02-20",
                                    "5": "Toys",
                                    "6": "M",
                                    "7": "513661.49",
                                    "8": "6"
                                }
                            ]
                        },
                        "text/html": "<table><tr><th>id</th><th>first_name</th><th>last_name</th><th>email</th><th>hire_date</th><th>department</th><th>gender</th><th>salary</th><th>region_id</th></tr><tr><td>140</td><td>Harald</td><td>Sigge</td><td>hsigge3v@prnewswire.com</td><td>2019-02-20</td><td>Toys</td><td>M</td><td>513661.49</td><td>6</td></tr></table>"
                    }
                }
            ],
            "execution_count": 20
        },
        {
            "cell_type": "code",
            "source": "SELECT ROUND(salary) AS sal, count(*)\nFROM employees\nGROUP BY sal\nORDER BY count(*) DESC, sal DESC\nLIMIT 5;",
            "metadata": {},
            "outputs": [
                {
                    "output_type": "display_data",
                    "data": {
                        "text/html": "(5 row(s) affected)"
                    },
                    "metadata": {}
                },
                {
                    "output_type": "display_data",
                    "data": {
                        "text/html": "Total execution time: 0:00:00.008876"
                    },
                    "metadata": {}
                },
                {
                    "output_type": "execute_result",
                    "metadata": {},
                    "execution_count": 26,
                    "data": {
                        "application/vnd.dataresource+json": {
                            "schema": {
                                "fields": [
                                    {
                                        "name": "sal"
                                    },
                                    {
                                        "name": "count"
                                    }
                                ]
                            },
                            "data": [
                                {
                                    "0": "899971",
                                    "1": "1"
                                },
                                {
                                    "0": "895205",
                                    "1": "1"
                                },
                                {
                                    "0": "893687",
                                    "1": "1"
                                },
                                {
                                    "0": "891363",
                                    "1": "1"
                                },
                                {
                                    "0": "891062",
                                    "1": "1"
                                }
                            ]
                        },
                        "text/html": "<table><tr><th>sal</th><th>count</th></tr><tr><td>899971</td><td>1</td></tr><tr><td>895205</td><td>1</td></tr><tr><td>893687</td><td>1</td></tr><tr><td>891363</td><td>1</td></tr><tr><td>891062</td><td>1</td></tr></table>"
                    }
                }
            ],
            "execution_count": 26
        },
        {
            "cell_type": "code",
            "source": "SELECT salary\nFROM employees\nGROUP BY salary\nHAVING count(*) >= ALL(SELECT count(*) FROM employees GROUP BY salary)\nORDER BY salary DESC\nLIMIT 5;",
            "metadata": {},
            "outputs": [
                {
                    "output_type": "display_data",
                    "data": {
                        "text/html": "(5 row(s) affected)"
                    },
                    "metadata": {}
                },
                {
                    "output_type": "display_data",
                    "data": {
                        "text/html": "Total execution time: 0:00:00.008337"
                    },
                    "metadata": {}
                },
                {
                    "output_type": "execute_result",
                    "metadata": {},
                    "execution_count": 28,
                    "data": {
                        "application/vnd.dataresource+json": {
                            "schema": {
                                "fields": [
                                    {
                                        "name": "salary"
                                    }
                                ]
                            },
                            "data": [
                                {
                                    "0": "899971.34"
                                },
                                {
                                    "0": "895204.82"
                                },
                                {
                                    "0": "893687.39"
                                },
                                {
                                    "0": "891362.71"
                                },
                                {
                                    "0": "891062.15"
                                }
                            ]
                        },
                        "text/html": "<table><tr><th>salary</th></tr><tr><td>899971.34</td></tr><tr><td>895204.82</td></tr><tr><td>893687.39</td></tr><tr><td>891362.71</td></tr><tr><td>891062.15</td></tr></table>"
                    }
                }
            ],
            "execution_count": 28
        }
    ]
}