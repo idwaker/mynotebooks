{
    "metadata": {
        "kernelspec": {
            "name": "SQL",
            "display_name": "SQL",
            "language": "sql"
        },
        "language_info": {
            "name": "sql",
            "version": ""
        }
    },
    "nbformat_minor": 2,
    "nbformat": 4,
    "cells": [
        {
            "cell_type": "code",
            "source": "SELECT customers.firstname, customers.lastname, SUM(items.price) FROM customers\nJOIN purchases ON customers.id = purchases.customer_id\nJOIN items ON purchases.item_id = items.id\nGROUP BY customers.id;",
            "metadata": {},
            "outputs": [
                {
                    "output_type": "display_data",
                    "data": {
                        "text/html": "(3 row(s) affected)"
                    },
                    "metadata": {}
                },
                {
                    "output_type": "display_data",
                    "data": {
                        "text/html": "Total execution time: 0:00:00.009935"
                    },
                    "metadata": {}
                },
                {
                    "output_type": "execute_result",
                    "metadata": {},
                    "execution_count": 3,
                    "data": {
                        "application/vnd.dataresource+json": {
                            "schema": {
                                "fields": [
                                    {
                                        "name": "firstname"
                                    },
                                    {
                                        "name": "lastname"
                                    },
                                    {
                                        "name": "sum"
                                    }
                                ]
                            },
                            "data": [
                                {
                                    "0": "Jane",
                                    "1": "Doe",
                                    "2": "71.20"
                                },
                                {
                                    "0": "John",
                                    "1": "Watson",
                                    "2": "50.00"
                                },
                                {
                                    "0": "John",
                                    "1": "Doe",
                                    "2": "651.20"
                                }
                            ]
                        },
                        "text/html": "<table><tr><th>firstname</th><th>lastname</th><th>sum</th></tr><tr><td>Jane</td><td>Doe</td><td>71.20</td></tr><tr><td>John</td><td>Watson</td><td>50.00</td></tr><tr><td>John</td><td>Doe</td><td>651.20</td></tr></table>"
                    }
                }
            ],
            "execution_count": 3
        },
        {
            "cell_type": "code",
            "source": "CREATE VIEW total_revenue_customer AS\nSELECT customers.firstname, customers.lastname, SUM(items.price) FROM customers\nJOIN purchases ON customers.id = purchases.customer_id\nJOIN items ON purchases.item_id = items.id\nGROUP BY customers.id;",
            "metadata": {},
            "outputs": [
                {
                    "output_type": "display_data",
                    "data": {
                        "text/html": "Commands completed successfully"
                    },
                    "metadata": {}
                },
                {
                    "output_type": "display_data",
                    "data": {
                        "text/html": "Total execution time: 0:00:00.031112"
                    },
                    "metadata": {}
                }
            ],
            "execution_count": 4
        },
        {
            "cell_type": "code",
            "source": "SELECT * from total_revenue_customer;",
            "metadata": {},
            "outputs": [
                {
                    "output_type": "display_data",
                    "data": {
                        "text/html": "(3 row(s) affected)"
                    },
                    "metadata": {}
                },
                {
                    "output_type": "display_data",
                    "data": {
                        "text/html": "Total execution time: 0:00:00.008783"
                    },
                    "metadata": {}
                },
                {
                    "output_type": "execute_result",
                    "metadata": {},
                    "execution_count": 5,
                    "data": {
                        "application/vnd.dataresource+json": {
                            "schema": {
                                "fields": [
                                    {
                                        "name": "firstname"
                                    },
                                    {
                                        "name": "lastname"
                                    },
                                    {
                                        "name": "sum"
                                    }
                                ]
                            },
                            "data": [
                                {
                                    "0": "Jane",
                                    "1": "Doe",
                                    "2": "71.20"
                                },
                                {
                                    "0": "John",
                                    "1": "Watson",
                                    "2": "50.00"
                                },
                                {
                                    "0": "John",
                                    "1": "Doe",
                                    "2": "651.20"
                                }
                            ]
                        },
                        "text/html": "<table><tr><th>firstname</th><th>lastname</th><th>sum</th></tr><tr><td>Jane</td><td>Doe</td><td>71.20</td></tr><tr><td>John</td><td>Watson</td><td>50.00</td></tr><tr><td>John</td><td>Doe</td><td>651.20</td></tr></table>"
                    }
                }
            ],
            "execution_count": 5
        },
        {
            "cell_type": "code",
            "source": "-- views and inserting\nCREATE VIEW expensive_items AS\nSELECT * FROM items WHERE price > 100;",
            "metadata": {},
            "outputs": [
                {
                    "output_type": "display_data",
                    "data": {
                        "text/html": "Commands completed successfully"
                    },
                    "metadata": {}
                },
                {
                    "output_type": "display_data",
                    "data": {
                        "text/html": "Total execution time: 0:00:00.029487"
                    },
                    "metadata": {}
                }
            ],
            "execution_count": 6
        },
        {
            "cell_type": "code",
            "source": "SELECT * FROM expensive_items;",
            "metadata": {},
            "outputs": [
                {
                    "output_type": "display_data",
                    "data": {
                        "text/html": "(1 row(s) affected)"
                    },
                    "metadata": {}
                },
                {
                    "output_type": "display_data",
                    "data": {
                        "text/html": "Total execution time: 0:00:00.013467"
                    },
                    "metadata": {}
                },
                {
                    "output_type": "execute_result",
                    "metadata": {},
                    "execution_count": 7,
                    "data": {
                        "application/vnd.dataresource+json": {
                            "schema": {
                                "fields": [
                                    {
                                        "name": "id"
                                    },
                                    {
                                        "name": "name"
                                    },
                                    {
                                        "name": "price"
                                    }
                                ]
                            },
                            "data": [
                                {
                                    "0": "6",
                                    "1": "White board",
                                    "2": "580.00"
                                }
                            ]
                        },
                        "text/html": "<table><tr><th>id</th><th>name</th><th>price</th></tr><tr><td>6</td><td>White board</td><td>580.00</td></tr></table>"
                    }
                }
            ],
            "execution_count": 7
        },
        {
            "cell_type": "code",
            "source": "SELECT * FROM items;",
            "metadata": {},
            "outputs": [
                {
                    "output_type": "display_data",
                    "data": {
                        "text/html": "(5 row(s) affected)"
                    },
                    "metadata": {}
                },
                {
                    "output_type": "display_data",
                    "data": {
                        "text/html": "Total execution time: 0:00:00.006403"
                    },
                    "metadata": {}
                },
                {
                    "output_type": "execute_result",
                    "metadata": {},
                    "execution_count": 8,
                    "data": {
                        "application/vnd.dataresource+json": {
                            "schema": {
                                "fields": [
                                    {
                                        "name": "id"
                                    },
                                    {
                                        "name": "name"
                                    },
                                    {
                                        "name": "price"
                                    }
                                ]
                            },
                            "data": [
                                {
                                    "0": "1",
                                    "1": "Pencil",
                                    "2": "12.20"
                                },
                                {
                                    "0": "2",
                                    "1": "Sharpner",
                                    "2": "9.00"
                                },
                                {
                                    "0": "3",
                                    "1": "Notebook",
                                    "2": "20.00"
                                },
                                {
                                    "0": "6",
                                    "1": "White board",
                                    "2": "580.00"
                                },
                                {
                                    "0": "5",
                                    "1": "Glue stick",
                                    "2": "50.00"
                                }
                            ]
                        },
                        "text/html": "<table><tr><th>id</th><th>name</th><th>price</th></tr><tr><td>1</td><td>Pencil</td><td>12.20</td></tr><tr><td>2</td><td>Sharpner</td><td>9.00</td></tr><tr><td>3</td><td>Notebook</td><td>20.00</td></tr><tr><td>6</td><td>White board</td><td>580.00</td></tr><tr><td>5</td><td>Glue stick</td><td>50.00</td></tr></table>"
                    }
                }
            ],
            "execution_count": 8
        },
        {
            "cell_type": "code",
            "source": "-- insert using view\nINSERT INTO expensive_items(id, name, price) VALUES (7, 'Marker', 12.8);",
            "metadata": {},
            "outputs": [
                {
                    "output_type": "display_data",
                    "data": {
                        "text/html": "Commands completed successfully"
                    },
                    "metadata": {}
                },
                {
                    "output_type": "display_data",
                    "data": {
                        "text/html": "Total execution time: 0:00:00.014745"
                    },
                    "metadata": {}
                }
            ],
            "execution_count": 9
        },
        {
            "cell_type": "code",
            "source": "SELECT * FROM items;",
            "metadata": {},
            "outputs": [
                {
                    "output_type": "display_data",
                    "data": {
                        "text/html": "(6 row(s) affected)"
                    },
                    "metadata": {}
                },
                {
                    "output_type": "display_data",
                    "data": {
                        "text/html": "Total execution time: 0:00:00.004735"
                    },
                    "metadata": {}
                },
                {
                    "output_type": "execute_result",
                    "metadata": {},
                    "execution_count": 10,
                    "data": {
                        "application/vnd.dataresource+json": {
                            "schema": {
                                "fields": [
                                    {
                                        "name": "id"
                                    },
                                    {
                                        "name": "name"
                                    },
                                    {
                                        "name": "price"
                                    }
                                ]
                            },
                            "data": [
                                {
                                    "0": "1",
                                    "1": "Pencil",
                                    "2": "12.20"
                                },
                                {
                                    "0": "2",
                                    "1": "Sharpner",
                                    "2": "9.00"
                                },
                                {
                                    "0": "3",
                                    "1": "Notebook",
                                    "2": "20.00"
                                },
                                {
                                    "0": "6",
                                    "1": "White board",
                                    "2": "580.00"
                                },
                                {
                                    "0": "5",
                                    "1": "Glue stick",
                                    "2": "50.00"
                                },
                                {
                                    "0": "7",
                                    "1": "Marker",
                                    "2": "12.80"
                                }
                            ]
                        },
                        "text/html": "<table><tr><th>id</th><th>name</th><th>price</th></tr><tr><td>1</td><td>Pencil</td><td>12.20</td></tr><tr><td>2</td><td>Sharpner</td><td>9.00</td></tr><tr><td>3</td><td>Notebook</td><td>20.00</td></tr><tr><td>6</td><td>White board</td><td>580.00</td></tr><tr><td>5</td><td>Glue stick</td><td>50.00</td></tr><tr><td>7</td><td>Marker</td><td>12.80</td></tr></table>"
                    }
                }
            ],
            "execution_count": 10
        },
        {
            "cell_type": "code",
            "source": "DROP VIEW expensive_items;",
            "metadata": {},
            "outputs": [
                {
                    "output_type": "display_data",
                    "data": {
                        "text/html": "Commands completed successfully"
                    },
                    "metadata": {}
                },
                {
                    "output_type": "display_data",
                    "data": {
                        "text/html": "Total execution time: 0:00:00.022244"
                    },
                    "metadata": {}
                }
            ],
            "execution_count": 11
        },
        {
            "cell_type": "code",
            "source": "-- views and inserting\nCREATE VIEW expensive_items AS\nSELECT * FROM items WHERE price > 100\nWITH LOCAL CHECK OPTION;",
            "metadata": {},
            "outputs": [
                {
                    "output_type": "display_data",
                    "data": {
                        "text/html": "Commands completed successfully"
                    },
                    "metadata": {}
                },
                {
                    "output_type": "display_data",
                    "data": {
                        "text/html": "Total execution time: 0:00:00.007273"
                    },
                    "metadata": {}
                }
            ],
            "execution_count": 13
        },
        {
            "cell_type": "code",
            "source": "INSERT INTO expensive_items(id, name, price) VALUES (8, 'Marker Black', 10.1);",
            "metadata": {},
            "outputs": [
                {
                    "output_type": "display_data",
                    "data": {
                        "text/html": "Total execution time: 0:00:00.007065"
                    },
                    "metadata": {}
                },
                {
                    "output_type": "error",
                    "evalue": "new row violates check option for view \"expensive_items\"",
                    "ename": "",
                    "traceback": []
                }
            ],
            "execution_count": 14
        },
        {
            "cell_type": "code",
            "source": "INSERT INTO expensive_items(id, name, price) VALUES (8, 'DSLR', 200);",
            "metadata": {},
            "outputs": [
                {
                    "output_type": "display_data",
                    "data": {
                        "text/html": "Commands completed successfully"
                    },
                    "metadata": {}
                },
                {
                    "output_type": "display_data",
                    "data": {
                        "text/html": "Total execution time: 0:00:00.004946"
                    },
                    "metadata": {}
                }
            ],
            "execution_count": 15
        },
        {
            "cell_type": "code",
            "source": "SELECT * FROM items;",
            "metadata": {},
            "outputs": [
                {
                    "output_type": "display_data",
                    "data": {
                        "text/html": "(7 row(s) affected)"
                    },
                    "metadata": {}
                },
                {
                    "output_type": "display_data",
                    "data": {
                        "text/html": "Total execution time: 0:00:00.011906"
                    },
                    "metadata": {}
                },
                {
                    "output_type": "execute_result",
                    "metadata": {},
                    "execution_count": 16,
                    "data": {
                        "application/vnd.dataresource+json": {
                            "schema": {
                                "fields": [
                                    {
                                        "name": "id"
                                    },
                                    {
                                        "name": "name"
                                    },
                                    {
                                        "name": "price"
                                    }
                                ]
                            },
                            "data": [
                                {
                                    "0": "1",
                                    "1": "Pencil",
                                    "2": "12.20"
                                },
                                {
                                    "0": "2",
                                    "1": "Sharpner",
                                    "2": "9.00"
                                },
                                {
                                    "0": "3",
                                    "1": "Notebook",
                                    "2": "20.00"
                                },
                                {
                                    "0": "6",
                                    "1": "White board",
                                    "2": "580.00"
                                },
                                {
                                    "0": "5",
                                    "1": "Glue stick",
                                    "2": "50.00"
                                },
                                {
                                    "0": "7",
                                    "1": "Marker",
                                    "2": "12.80"
                                },
                                {
                                    "0": "8",
                                    "1": "DSLR",
                                    "2": "200.00"
                                }
                            ]
                        },
                        "text/html": "<table><tr><th>id</th><th>name</th><th>price</th></tr><tr><td>1</td><td>Pencil</td><td>12.20</td></tr><tr><td>2</td><td>Sharpner</td><td>9.00</td></tr><tr><td>3</td><td>Notebook</td><td>20.00</td></tr><tr><td>6</td><td>White board</td><td>580.00</td></tr><tr><td>5</td><td>Glue stick</td><td>50.00</td></tr><tr><td>7</td><td>Marker</td><td>12.80</td></tr><tr><td>8</td><td>DSLR</td><td>200.00</td></tr></table>"
                    }
                }
            ],
            "execution_count": 16
        },
        {
            "cell_type": "code",
            "source": "DROP VIEW expensive_items;",
            "metadata": {},
            "outputs": [
                {
                    "output_type": "display_data",
                    "data": {
                        "text/html": "Commands completed successfully"
                    },
                    "metadata": {}
                },
                {
                    "output_type": "display_data",
                    "data": {
                        "text/html": "Total execution time: 0:00:00.005710"
                    },
                    "metadata": {}
                }
            ],
            "execution_count": 17
        },
        {
            "cell_type": "code",
            "source": "-- views and inserting\nCREATE VIEW expensive_items AS\nSELECT * FROM items WHERE price > 100;",
            "metadata": {},
            "outputs": [
                {
                    "output_type": "display_data",
                    "data": {
                        "text/html": "Commands completed successfully"
                    },
                    "metadata": {}
                },
                {
                    "output_type": "display_data",
                    "data": {
                        "text/html": "Total execution time: 0:00:00.004635"
                    },
                    "metadata": {}
                }
            ],
            "execution_count": 18
        },
        {
            "cell_type": "code",
            "source": "CREATE VIEW non_luxury_items AS\nSELECT * FROM expensive_items WHERE price < 1000\nWITH LOCAL CHECK OPTION;",
            "metadata": {},
            "outputs": [
                {
                    "output_type": "display_data",
                    "data": {
                        "text/html": "Commands completed successfully"
                    },
                    "metadata": {}
                },
                {
                    "output_type": "display_data",
                    "data": {
                        "text/html": "Total execution time: 0:00:00.008812"
                    },
                    "metadata": {}
                }
            ],
            "execution_count": 19
        },
        {
            "cell_type": "code",
            "source": "INSERT INTO non_luxury_items(id, name, price) VALUES (10, 'Camera Black', 200);",
            "metadata": {},
            "outputs": [
                {
                    "output_type": "display_data",
                    "data": {
                        "text/html": "Commands completed successfully"
                    },
                    "metadata": {}
                },
                {
                    "output_type": "display_data",
                    "data": {
                        "text/html": "Total execution time: 0:00:00.005175"
                    },
                    "metadata": {}
                }
            ],
            "execution_count": 22
        },
        {
            "cell_type": "code",
            "source": "INSERT INTO non_luxury_items(id, name, price) VALUES (11, 'Pencil Red', 2.0);",
            "metadata": {},
            "outputs": [
                {
                    "output_type": "display_data",
                    "data": {
                        "text/html": "Commands completed successfully"
                    },
                    "metadata": {}
                },
                {
                    "output_type": "display_data",
                    "data": {
                        "text/html": "Total execution time: 0:00:00.004859"
                    },
                    "metadata": {}
                }
            ],
            "execution_count": 24
        },
        {
            "cell_type": "code",
            "source": "SELECT * FROM items;",
            "metadata": {},
            "outputs": [
                {
                    "output_type": "display_data",
                    "data": {
                        "text/html": "(10 row(s) affected)"
                    },
                    "metadata": {}
                },
                {
                    "output_type": "display_data",
                    "data": {
                        "text/html": "Total execution time: 0:00:00.004771"
                    },
                    "metadata": {}
                },
                {
                    "output_type": "execute_result",
                    "metadata": {},
                    "execution_count": 25,
                    "data": {
                        "application/vnd.dataresource+json": {
                            "schema": {
                                "fields": [
                                    {
                                        "name": "id"
                                    },
                                    {
                                        "name": "name"
                                    },
                                    {
                                        "name": "price"
                                    }
                                ]
                            },
                            "data": [
                                {
                                    "0": "1",
                                    "1": "Pencil",
                                    "2": "12.20"
                                },
                                {
                                    "0": "2",
                                    "1": "Sharpner",
                                    "2": "9.00"
                                },
                                {
                                    "0": "3",
                                    "1": "Notebook",
                                    "2": "20.00"
                                },
                                {
                                    "0": "6",
                                    "1": "White board",
                                    "2": "580.00"
                                },
                                {
                                    "0": "5",
                                    "1": "Glue stick",
                                    "2": "50.00"
                                },
                                {
                                    "0": "7",
                                    "1": "Marker",
                                    "2": "12.80"
                                },
                                {
                                    "0": "8",
                                    "1": "DSLR",
                                    "2": "200.00"
                                },
                                {
                                    "0": "9",
                                    "1": "Camera",
                                    "2": "200.00"
                                },
                                {
                                    "0": "10",
                                    "1": "Camera Black",
                                    "2": "200.00"
                                },
                                {
                                    "0": "11",
                                    "1": "Pencil Red",
                                    "2": "2.00"
                                }
                            ]
                        },
                        "text/html": "<table><tr><th>id</th><th>name</th><th>price</th></tr><tr><td>1</td><td>Pencil</td><td>12.20</td></tr><tr><td>2</td><td>Sharpner</td><td>9.00</td></tr><tr><td>3</td><td>Notebook</td><td>20.00</td></tr><tr><td>6</td><td>White board</td><td>580.00</td></tr><tr><td>5</td><td>Glue stick</td><td>50.00</td></tr><tr><td>7</td><td>Marker</td><td>12.80</td></tr><tr><td>8</td><td>DSLR</td><td>200.00</td></tr><tr><td>9</td><td>Camera</td><td>200.00</td></tr><tr><td>10</td><td>Camera Black</td><td>200.00</td></tr><tr><td>11</td><td>Pencil Red</td><td>2.00</td></tr></table>"
                    }
                }
            ],
            "execution_count": 25
        },
        {
            "cell_type": "code",
            "source": "DROP VIEW non_luxury_items;",
            "metadata": {},
            "outputs": [
                {
                    "output_type": "display_data",
                    "data": {
                        "text/html": "Commands completed successfully"
                    },
                    "metadata": {}
                },
                {
                    "output_type": "display_data",
                    "data": {
                        "text/html": "Total execution time: 0:00:00.006677"
                    },
                    "metadata": {}
                }
            ],
            "execution_count": 26
        },
        {
            "cell_type": "code",
            "source": "CREATE VIEW non_luxury_items AS\nSELECT * FROM expensive_items WHERE price < 1000\nWITH CASCADED CHECK OPTION;",
            "metadata": {},
            "outputs": [
                {
                    "output_type": "display_data",
                    "data": {
                        "text/html": "Commands completed successfully"
                    },
                    "metadata": {}
                },
                {
                    "output_type": "display_data",
                    "data": {
                        "text/html": "Total execution time: 0:00:00.006678"
                    },
                    "metadata": {}
                }
            ],
            "execution_count": 27
        },
        {
            "cell_type": "code",
            "source": "INSERT INTO non_luxury_items(id, name, price) VALUES (12, 'Camera White', 160);",
            "metadata": {},
            "outputs": [
                {
                    "output_type": "display_data",
                    "data": {
                        "text/html": "Commands completed successfully"
                    },
                    "metadata": {}
                },
                {
                    "output_type": "display_data",
                    "data": {
                        "text/html": "Total execution time: 0:00:00.004776"
                    },
                    "metadata": {}
                }
            ],
            "execution_count": 29
        },
        {
            "cell_type": "code",
            "source": "INSERT INTO non_luxury_items(id, name, price) VALUES (12, 'Camera White', 160);",
            "metadata": {},
            "outputs": []
        },
        {
            "cell_type": "code",
            "source": "",
            "metadata": {},
            "outputs": []
        }
    ]
}