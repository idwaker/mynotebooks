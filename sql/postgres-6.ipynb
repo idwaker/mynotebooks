{
    "metadata": {
        "kernelspec": {
            "name": "SQL",
            "display_name": "SQL",
            "language": "sql"
        },
        "language_info": {
            "name": "sql",
            "version": ""
        }
    },
    "nbformat_minor": 2,
    "nbformat": 4,
    "cells": [
        {
            "cell_type": "code",
            "source": "-- BYTEA , binary data such as image or other binary files\n-- ENUM",
            "metadata": {},
            "outputs": [],
            "execution_count": 1
        },
        {
            "cell_type": "code",
            "source": "CREATE TYPE status AS ENUM('Active', 'Inactive');",
            "metadata": {},
            "outputs": [
                {
                    "output_type": "display_data",
                    "data": {
                        "text/html": "Commands completed successfully"
                    },
                    "metadata": {}
                },
                {
                    "output_type": "display_data",
                    "data": {
                        "text/html": "Total execution time: 0:00:00.011082"
                    },
                    "metadata": {}
                }
            ],
            "execution_count": 2
        },
        {
            "cell_type": "code",
            "source": "CREATE TABLE students(\n    name VARCHAR(30),\n    stat status\n);",
            "metadata": {},
            "outputs": [
                {
                    "output_type": "display_data",
                    "data": {
                        "text/html": "Commands completed successfully"
                    },
                    "metadata": {}
                },
                {
                    "output_type": "display_data",
                    "data": {
                        "text/html": "Total execution time: 0:00:00.011949"
                    },
                    "metadata": {}
                }
            ],
            "execution_count": 3
        },
        {
            "cell_type": "code",
            "source": "SELECT * FROM students;",
            "metadata": {},
            "outputs": [
                {
                    "output_type": "display_data",
                    "data": {
                        "text/html": "(0 row(s) affected)"
                    },
                    "metadata": {}
                },
                {
                    "output_type": "display_data",
                    "data": {
                        "text/html": "Total execution time: 0:00:00.003410"
                    },
                    "metadata": {}
                },
                {
                    "output_type": "execute_result",
                    "metadata": {},
                    "execution_count": 4,
                    "data": {
                        "application/vnd.dataresource+json": {
                            "schema": {
                                "fields": [
                                    {
                                        "name": "name"
                                    },
                                    {
                                        "name": "stat"
                                    }
                                ]
                            },
                            "data": []
                        },
                        "text/html": "<table><tr><th>name</th><th>stat</th></tr></table>"
                    }
                }
            ],
            "execution_count": 4
        },
        {
            "cell_type": "code",
            "source": "INSERT INTO students(name, stat) VALUES('A', 'Inactive');",
            "metadata": {},
            "outputs": [
                {
                    "output_type": "display_data",
                    "data": {
                        "text/html": "Commands completed successfully"
                    },
                    "metadata": {}
                },
                {
                    "output_type": "display_data",
                    "data": {
                        "text/html": "Total execution time: 0:00:00.005242"
                    },
                    "metadata": {}
                }
            ],
            "execution_count": 5
        },
        {
            "cell_type": "code",
            "source": "SELECT * FROM students;",
            "metadata": {},
            "outputs": [
                {
                    "output_type": "display_data",
                    "data": {
                        "text/html": "(1 row(s) affected)"
                    },
                    "metadata": {}
                },
                {
                    "output_type": "display_data",
                    "data": {
                        "text/html": "Total execution time: 0:00:00.003991"
                    },
                    "metadata": {}
                },
                {
                    "output_type": "execute_result",
                    "metadata": {},
                    "execution_count": 6,
                    "data": {
                        "application/vnd.dataresource+json": {
                            "schema": {
                                "fields": [
                                    {
                                        "name": "name"
                                    },
                                    {
                                        "name": "stat"
                                    }
                                ]
                            },
                            "data": [
                                {
                                    "0": "A",
                                    "1": "Inactive"
                                }
                            ]
                        },
                        "text/html": "<table><tr><th>name</th><th>stat</th></tr><tr><td>A</td><td>Inactive</td></tr></table>"
                    }
                }
            ],
            "execution_count": 6
        },
        {
            "cell_type": "code",
            "source": "INSERT INTO students(name, stat) VALUES('A', 'Happy');",
            "metadata": {},
            "outputs": [
                {
                    "output_type": "display_data",
                    "data": {
                        "text/html": "Total execution time: 0:00:00.001063"
                    },
                    "metadata": {}
                },
                {
                    "output_type": "error",
                    "evalue": "invalid input value for enum status: \"Happy\"",
                    "ename": "",
                    "traceback": []
                }
            ],
            "execution_count": 7
        },
        {
            "cell_type": "code",
            "source": "SELECT * FROM items WHERE price > (\n    SELECT AVG(price) FROM items\n);",
            "metadata": {},
            "outputs": [
                {
                    "output_type": "display_data",
                    "data": {
                        "text/html": "(5 row(s) affected)"
                    },
                    "metadata": {}
                },
                {
                    "output_type": "display_data",
                    "data": {
                        "text/html": "Total execution time: 0:00:00.006101"
                    },
                    "metadata": {}
                },
                {
                    "output_type": "execute_result",
                    "metadata": {},
                    "execution_count": 8,
                    "data": {
                        "application/vnd.dataresource+json": {
                            "schema": {
                                "fields": [
                                    {
                                        "name": "id"
                                    },
                                    {
                                        "name": "name"
                                    },
                                    {
                                        "name": "price"
                                    }
                                ]
                            },
                            "data": [
                                {
                                    "0": "6",
                                    "1": "White board",
                                    "2": "580.00"
                                },
                                {
                                    "0": "8",
                                    "1": "DSLR",
                                    "2": "200.00"
                                },
                                {
                                    "0": "9",
                                    "1": "Camera",
                                    "2": "200.00"
                                },
                                {
                                    "0": "10",
                                    "1": "Camera Black",
                                    "2": "200.00"
                                },
                                {
                                    "0": "12",
                                    "1": "Camera White",
                                    "2": "160.00"
                                }
                            ]
                        },
                        "text/html": "<table><tr><th>id</th><th>name</th><th>price</th></tr><tr><td>6</td><td>White board</td><td>580.00</td></tr><tr><td>8</td><td>DSLR</td><td>200.00</td></tr><tr><td>9</td><td>Camera</td><td>200.00</td></tr><tr><td>10</td><td>Camera Black</td><td>200.00</td></tr><tr><td>12</td><td>Camera White</td><td>160.00</td></tr></table>"
                    }
                }
            ],
            "execution_count": 8
        },
        {
            "cell_type": "code",
            "source": "SELECT items.name, items.price - (SELECT AVG(price) FROM items) FROM items;",
            "metadata": {},
            "outputs": [
                {
                    "output_type": "display_data",
                    "data": {
                        "text/html": "(11 row(s) affected)"
                    },
                    "metadata": {}
                },
                {
                    "output_type": "display_data",
                    "data": {
                        "text/html": "Total execution time: 0:00:00.005672"
                    },
                    "metadata": {}
                },
                {
                    "output_type": "execute_result",
                    "metadata": {},
                    "execution_count": 9,
                    "data": {
                        "application/vnd.dataresource+json": {
                            "schema": {
                                "fields": [
                                    {
                                        "name": "name"
                                    },
                                    {
                                        "name": "Column2"
                                    }
                                ]
                            },
                            "data": [
                                {
                                    "0": "Pencil",
                                    "1": "-119.2545454545454545"
                                },
                                {
                                    "0": "Sharpner",
                                    "1": "-122.4545454545454545"
                                },
                                {
                                    "0": "Notebook",
                                    "1": "-111.4545454545454545"
                                },
                                {
                                    "0": "White board",
                                    "1": "448.5454545454545455"
                                },
                                {
                                    "0": "Glue stick",
                                    "1": "-81.4545454545454545"
                                },
                                {
                                    "0": "Marker",
                                    "1": "-118.6545454545454545"
                                },
                                {
                                    "0": "DSLR",
                                    "1": "68.5454545454545455"
                                },
                                {
                                    "0": "Camera",
                                    "1": "68.5454545454545455"
                                },
                                {
                                    "0": "Camera Black",
                                    "1": "68.5454545454545455"
                                },
                                {
                                    "0": "Pencil Red",
                                    "1": "-129.4545454545454545"
                                },
                                {
                                    "0": "Camera White",
                                    "1": "28.5454545454545455"
                                }
                            ]
                        },
                        "text/html": "<table><tr><th>name</th><th>Column2</th></tr><tr><td>Pencil</td><td>-119.2545454545454545</td></tr><tr><td>Sharpner</td><td>-122.4545454545454545</td></tr><tr><td>Notebook</td><td>-111.4545454545454545</td></tr><tr><td>White board</td><td>448.5454545454545455</td></tr><tr><td>Glue stick</td><td>-81.4545454545454545</td></tr><tr><td>Marker</td><td>-118.6545454545454545</td></tr><tr><td>DSLR</td><td>68.5454545454545455</td></tr><tr><td>Camera</td><td>68.5454545454545455</td></tr><tr><td>Camera Black</td><td>68.5454545454545455</td></tr><tr><td>Pencil Red</td><td>-129.4545454545454545</td></tr><tr><td>Camera White</td><td>28.5454545454545455</td></tr></table>"
                    }
                }
            ],
            "execution_count": 9
        },
        {
            "cell_type": "code",
            "source": "",
            "metadata": {},
            "outputs": []
        }
    ]
}