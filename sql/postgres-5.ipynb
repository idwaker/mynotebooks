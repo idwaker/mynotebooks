{
    "metadata": {
        "kernelspec": {
            "name": "SQL",
            "display_name": "SQL",
            "language": "sql"
        },
        "language_info": {
            "name": "sql",
            "version": ""
        }
    },
    "nbformat_minor": 2,
    "nbformat": 4,
    "cells": [
        {
            "cell_type": "code",
            "source": "-- COUNT\n-- SUM",
            "metadata": {},
            "outputs": [],
            "execution_count": 1
        },
        {
            "cell_type": "code",
            "source": "SELECT AVG(items.price) FROM items;",
            "metadata": {},
            "outputs": [
                {
                    "output_type": "display_data",
                    "data": {
                        "text/html": "(1 row(s) affected)"
                    },
                    "metadata": {}
                },
                {
                    "output_type": "display_data",
                    "data": {
                        "text/html": "Total execution time: 0:00:00.005152"
                    },
                    "metadata": {}
                },
                {
                    "output_type": "execute_result",
                    "metadata": {},
                    "execution_count": 2,
                    "data": {
                        "application/vnd.dataresource+json": {
                            "schema": {
                                "fields": [
                                    {
                                        "name": "avg"
                                    }
                                ]
                            },
                            "data": [
                                {
                                    "0": "131.4545454545454545"
                                }
                            ]
                        },
                        "text/html": "<table><tr><th>avg</th></tr><tr><td>131.4545454545454545</td></tr></table>"
                    }
                }
            ],
            "execution_count": 2
        },
        {
            "cell_type": "code",
            "source": "SELECT AVG(items.price) FROM items JOIN purchases ON items.id = purchases.item_id;",
            "metadata": {},
            "outputs": [
                {
                    "output_type": "display_data",
                    "data": {
                        "text/html": "(1 row(s) affected)"
                    },
                    "metadata": {}
                },
                {
                    "output_type": "display_data",
                    "data": {
                        "text/html": "Total execution time: 0:00:00.005202"
                    },
                    "metadata": {}
                },
                {
                    "output_type": "execute_result",
                    "metadata": {},
                    "execution_count": 3,
                    "data": {
                        "application/vnd.dataresource+json": {
                            "schema": {
                                "fields": [
                                    {
                                        "name": "avg"
                                    }
                                ]
                            },
                            "data": [
                                {
                                    "0": "96.5500000000000000"
                                }
                            ]
                        },
                        "text/html": "<table><tr><th>avg</th></tr><tr><td>96.5500000000000000</td></tr></table>"
                    }
                }
            ],
            "execution_count": 3
        },
        {
            "cell_type": "code",
            "source": "SELECT MAX(items.price) FROM items JOIN purchases ON items.id = purchases.item_id;",
            "metadata": {},
            "outputs": [
                {
                    "output_type": "display_data",
                    "data": {
                        "text/html": "(1 row(s) affected)"
                    },
                    "metadata": {}
                },
                {
                    "output_type": "display_data",
                    "data": {
                        "text/html": "Total execution time: 0:00:00.003636"
                    },
                    "metadata": {}
                },
                {
                    "output_type": "execute_result",
                    "metadata": {},
                    "execution_count": 4,
                    "data": {
                        "application/vnd.dataresource+json": {
                            "schema": {
                                "fields": [
                                    {
                                        "name": "max"
                                    }
                                ]
                            },
                            "data": [
                                {
                                    "0": "580.00"
                                }
                            ]
                        },
                        "text/html": "<table><tr><th>max</th></tr><tr><td>580.00</td></tr></table>"
                    }
                }
            ],
            "execution_count": 4
        },
        {
            "cell_type": "code",
            "source": "SELECT customers.firstname, customers.lastname, COUNT(purchases.id) AS purchase_count\nFROM customers\nJOIN purchases ON customers.id = purchases.customer_id\nGROUP BY customers.id;",
            "metadata": {},
            "outputs": [
                {
                    "output_type": "display_data",
                    "data": {
                        "text/html": "(3 row(s) affected)"
                    },
                    "metadata": {}
                },
                {
                    "output_type": "display_data",
                    "data": {
                        "text/html": "Total execution time: 0:00:00.008902"
                    },
                    "metadata": {}
                },
                {
                    "output_type": "execute_result",
                    "metadata": {},
                    "execution_count": 5,
                    "data": {
                        "application/vnd.dataresource+json": {
                            "schema": {
                                "fields": [
                                    {
                                        "name": "firstname"
                                    },
                                    {
                                        "name": "lastname"
                                    },
                                    {
                                        "name": "purchase_count"
                                    }
                                ]
                            },
                            "data": [
                                {
                                    "0": "Jane",
                                    "1": "Doe",
                                    "2": "3"
                                },
                                {
                                    "0": "John",
                                    "1": "Watson",
                                    "2": "1"
                                },
                                {
                                    "0": "John",
                                    "1": "Doe",
                                    "2": "4"
                                }
                            ]
                        },
                        "text/html": "<table><tr><th>firstname</th><th>lastname</th><th>purchase_count</th></tr><tr><td>Jane</td><td>Doe</td><td>3</td></tr><tr><td>John</td><td>Watson</td><td>1</td></tr><tr><td>John</td><td>Doe</td><td>4</td></tr></table>"
                    }
                }
            ],
            "execution_count": 5
        },
        {
            "cell_type": "code",
            "source": "SELECT customers.firstname, customers.lastname, COUNT(purchases.id) AS purchase_count\nFROM customers\nJOIN purchases ON customers.id = purchases.customer_id\nGROUP BY customers.id\nHAVING count(purchases.id) > 3;",
            "metadata": {},
            "outputs": [
                {
                    "output_type": "display_data",
                    "data": {
                        "text/html": "(1 row(s) affected)"
                    },
                    "metadata": {}
                },
                {
                    "output_type": "display_data",
                    "data": {
                        "text/html": "Total execution time: 0:00:00.008194"
                    },
                    "metadata": {}
                },
                {
                    "output_type": "execute_result",
                    "metadata": {},
                    "execution_count": 6,
                    "data": {
                        "application/vnd.dataresource+json": {
                            "schema": {
                                "fields": [
                                    {
                                        "name": "firstname"
                                    },
                                    {
                                        "name": "lastname"
                                    },
                                    {
                                        "name": "purchase_count"
                                    }
                                ]
                            },
                            "data": [
                                {
                                    "0": "John",
                                    "1": "Doe",
                                    "2": "4"
                                }
                            ]
                        },
                        "text/html": "<table><tr><th>firstname</th><th>lastname</th><th>purchase_count</th></tr><tr><td>John</td><td>Doe</td><td>4</td></tr></table>"
                    }
                }
            ],
            "execution_count": 6
        },
        {
            "cell_type": "code",
            "source": "SELECT TIMESTAMP '2018-10-08 05:06:12';",
            "metadata": {},
            "outputs": [
                {
                    "output_type": "display_data",
                    "data": {
                        "text/html": "(1 row(s) affected)"
                    },
                    "metadata": {}
                },
                {
                    "output_type": "display_data",
                    "data": {
                        "text/html": "Total execution time: 0:00:00.009450"
                    },
                    "metadata": {}
                },
                {
                    "output_type": "execute_result",
                    "metadata": {},
                    "execution_count": 7,
                    "data": {
                        "application/vnd.dataresource+json": {
                            "schema": {
                                "fields": [
                                    {
                                        "name": "timestamp"
                                    }
                                ]
                            },
                            "data": [
                                {
                                    "0": "2018-10-08T05:06:12"
                                }
                            ]
                        },
                        "text/html": "<table><tr><th>timestamp</th></tr><tr><td>2018-10-08T05:06:12</td></tr></table>"
                    }
                }
            ],
            "execution_count": 7
        },
        {
            "cell_type": "code",
            "source": "SELECT NOW();",
            "metadata": {},
            "outputs": [
                {
                    "output_type": "display_data",
                    "data": {
                        "text/html": "(1 row(s) affected)"
                    },
                    "metadata": {}
                },
                {
                    "output_type": "display_data",
                    "data": {
                        "text/html": "Total execution time: 0:00:00.009571"
                    },
                    "metadata": {}
                },
                {
                    "output_type": "execute_result",
                    "metadata": {},
                    "execution_count": 8,
                    "data": {
                        "application/vnd.dataresource+json": {
                            "schema": {
                                "fields": [
                                    {
                                        "name": "now"
                                    }
                                ]
                            },
                            "data": [
                                {
                                    "0": "2019-03-31T23:04:11.640285+05:45"
                                }
                            ]
                        },
                        "text/html": "<table><tr><th>now</th></tr><tr><td>2019-03-31T23:04:11.640285+05:45</td></tr></table>"
                    }
                }
            ],
            "execution_count": 8
        },
        {
            "cell_type": "code",
            "source": "SELECT TO_CHAR(NOW(), 'DD-MM-YYYY');",
            "metadata": {},
            "outputs": [
                {
                    "output_type": "display_data",
                    "data": {
                        "text/html": "(1 row(s) affected)"
                    },
                    "metadata": {}
                },
                {
                    "output_type": "display_data",
                    "data": {
                        "text/html": "Total execution time: 0:00:00.011219"
                    },
                    "metadata": {}
                },
                {
                    "output_type": "execute_result",
                    "metadata": {},
                    "execution_count": 9,
                    "data": {
                        "application/vnd.dataresource+json": {
                            "schema": {
                                "fields": [
                                    {
                                        "name": "to_char"
                                    }
                                ]
                            },
                            "data": [
                                {
                                    "0": "31-03-2019"
                                }
                            ]
                        },
                        "text/html": "<table><tr><th>to_char</th></tr><tr><td>31-03-2019</td></tr></table>"
                    }
                }
            ],
            "execution_count": 9
        },
        {
            "cell_type": "code",
            "source": "SELECT TO_CHAR(NOW(), 'DD-MM-YYYY HH:MI:SS');",
            "metadata": {},
            "outputs": [
                {
                    "output_type": "display_data",
                    "data": {
                        "text/html": "(1 row(s) affected)"
                    },
                    "metadata": {}
                },
                {
                    "output_type": "display_data",
                    "data": {
                        "text/html": "Total execution time: 0:00:00.003698"
                    },
                    "metadata": {}
                },
                {
                    "output_type": "execute_result",
                    "metadata": {},
                    "execution_count": 10,
                    "data": {
                        "application/vnd.dataresource+json": {
                            "schema": {
                                "fields": [
                                    {
                                        "name": "to_char"
                                    }
                                ]
                            },
                            "data": [
                                {
                                    "0": "31-03-2019 11:05:58"
                                }
                            ]
                        },
                        "text/html": "<table><tr><th>to_char</th></tr><tr><td>31-03-2019 11:05:58</td></tr></table>"
                    }
                }
            ],
            "execution_count": 10
        },
        {
            "cell_type": "code",
            "source": "SELECT TO_CHAR(NOW(), 'Day, DD-MM-YYYY HH:MI:SS');",
            "metadata": {},
            "outputs": [
                {
                    "output_type": "display_data",
                    "data": {
                        "text/html": "(1 row(s) affected)"
                    },
                    "metadata": {}
                },
                {
                    "output_type": "display_data",
                    "data": {
                        "text/html": "Total execution time: 0:00:00.003359"
                    },
                    "metadata": {}
                },
                {
                    "output_type": "execute_result",
                    "metadata": {},
                    "execution_count": 11,
                    "data": {
                        "application/vnd.dataresource+json": {
                            "schema": {
                                "fields": [
                                    {
                                        "name": "to_char"
                                    }
                                ]
                            },
                            "data": [
                                {
                                    "0": "Sunday   , 31-03-2019 11:06:22"
                                }
                            ]
                        },
                        "text/html": "<table><tr><th>to_char</th></tr><tr><td>Sunday   , 31-03-2019 11:06:22</td></tr></table>"
                    }
                }
            ],
            "execution_count": 11
        },
        {
            "cell_type": "code",
            "source": "SELECT TO_CHAR(NOW(), 'FMDay, DD-MM-YYYY HH:MI:SS');",
            "metadata": {},
            "outputs": [
                {
                    "output_type": "display_data",
                    "data": {
                        "text/html": "(1 row(s) affected)"
                    },
                    "metadata": {}
                },
                {
                    "output_type": "display_data",
                    "data": {
                        "text/html": "Total execution time: 0:00:00.004597"
                    },
                    "metadata": {}
                },
                {
                    "output_type": "execute_result",
                    "metadata": {},
                    "execution_count": 12,
                    "data": {
                        "application/vnd.dataresource+json": {
                            "schema": {
                                "fields": [
                                    {
                                        "name": "to_char"
                                    }
                                ]
                            },
                            "data": [
                                {
                                    "0": "Sunday, 31-03-2019 11:06:49"
                                }
                            ]
                        },
                        "text/html": "<table><tr><th>to_char</th></tr><tr><td>Sunday, 31-03-2019 11:06:49</td></tr></table>"
                    }
                }
            ],
            "execution_count": 12
        },
        {
            "cell_type": "code",
            "source": "SELECT TO_CHAR(NOW(), 'FMDay DDth FMMonth');",
            "metadata": {},
            "outputs": [
                {
                    "output_type": "display_data",
                    "data": {
                        "text/html": "(1 row(s) affected)"
                    },
                    "metadata": {}
                },
                {
                    "output_type": "display_data",
                    "data": {
                        "text/html": "Total execution time: 0:00:00.004729"
                    },
                    "metadata": {}
                },
                {
                    "output_type": "execute_result",
                    "metadata": {},
                    "execution_count": 13,
                    "data": {
                        "application/vnd.dataresource+json": {
                            "schema": {
                                "fields": [
                                    {
                                        "name": "to_char"
                                    }
                                ]
                            },
                            "data": [
                                {
                                    "0": "Sunday 31st March"
                                }
                            ]
                        },
                        "text/html": "<table><tr><th>to_char</th></tr><tr><td>Sunday 31st March</td></tr></table>"
                    }
                }
            ],
            "execution_count": 13
        },
        {
            "cell_type": "code",
            "source": "SELECT TO_TIMESTAMP('Sunday 31st March 2019', 'FMDay DDth FMMonth YYYY');",
            "metadata": {},
            "outputs": [
                {
                    "output_type": "display_data",
                    "data": {
                        "text/html": "(1 row(s) affected)"
                    },
                    "metadata": {}
                },
                {
                    "output_type": "display_data",
                    "data": {
                        "text/html": "Total execution time: 0:00:00.004722"
                    },
                    "metadata": {}
                },
                {
                    "output_type": "execute_result",
                    "metadata": {},
                    "execution_count": 15,
                    "data": {
                        "application/vnd.dataresource+json": {
                            "schema": {
                                "fields": [
                                    {
                                        "name": "to_timestamp"
                                    }
                                ]
                            },
                            "data": [
                                {
                                    "0": "2019-03-31T00:00:00+05:45"
                                }
                            ]
                        },
                        "text/html": "<table><tr><th>to_timestamp</th></tr><tr><td>2019-03-31T00:00:00+05:45</td></tr></table>"
                    }
                }
            ],
            "execution_count": 15
        },
        {
            "cell_type": "code",
            "source": "",
            "metadata": {},
            "outputs": []
        }
    ]
}