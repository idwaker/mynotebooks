{
    "metadata": {
        "kernelspec": {
            "name": "SQL",
            "display_name": "SQL",
            "language": "sql"
        },
        "language_info": {
            "name": "sql",
            "version": ""
        }
    },
    "nbformat_minor": 2,
    "nbformat": 4,
    "cells": [
        {
            "cell_type": "code",
            "source": "SELECT * FROM departments ORDER BY department;",
            "metadata": {},
            "outputs": [
                {
                    "output_type": "display_data",
                    "data": {
                        "text/html": "(13 row(s) affected)"
                    },
                    "metadata": {}
                },
                {
                    "output_type": "display_data",
                    "data": {
                        "text/html": "Total execution time: 0:00:00.006291"
                    },
                    "metadata": {}
                },
                {
                    "output_type": "execute_result",
                    "metadata": {},
                    "execution_count": 2,
                    "data": {
                        "application/vnd.dataresource+json": {
                            "schema": {
                                "fields": [
                                    {
                                        "name": "department"
                                    },
                                    {
                                        "name": "division"
                                    }
                                ]
                            },
                            "data": [
                                {
                                    "0": "Automotive",
                                    "1": "Hardware"
                                },
                                {
                                    "0": "Beauty",
                                    "1": "Home"
                                },
                                {
                                    "0": "Books",
                                    "1": "Entertainment"
                                },
                                {
                                    "0": "Clothing",
                                    "1": "Home"
                                },
                                {
                                    "0": "Computers",
                                    "1": "Electronics"
                                },
                                {
                                    "0": "Games",
                                    "1": "Kids"
                                },
                                {
                                    "0": "Garden",
                                    "1": "Outdoors"
                                },
                                {
                                    "0": "Grocery",
                                    "1": "Home"
                                },
                                {
                                    "0": "Jewelery",
                                    "1": "Home"
                                },
                                {
                                    "0": "Movies",
                                    "1": "Entertainment"
                                },
                                {
                                    "0": "Music",
                                    "1": "Entertainment"
                                },
                                {
                                    "0": "Shoes",
                                    "1": "Home"
                                },
                                {
                                    "0": "Toys",
                                    "1": "Kids"
                                }
                            ]
                        },
                        "text/html": "<table><tr><th>department</th><th>division</th></tr><tr><td>Automotive</td><td>Hardware</td></tr><tr><td>Beauty</td><td>Home</td></tr><tr><td>Books</td><td>Entertainment</td></tr><tr><td>Clothing</td><td>Home</td></tr><tr><td>Computers</td><td>Electronics</td></tr><tr><td>Games</td><td>Kids</td></tr><tr><td>Garden</td><td>Outdoors</td></tr><tr><td>Grocery</td><td>Home</td></tr><tr><td>Jewelery</td><td>Home</td></tr><tr><td>Movies</td><td>Entertainment</td></tr><tr><td>Music</td><td>Entertainment</td></tr><tr><td>Shoes</td><td>Home</td></tr><tr><td>Toys</td><td>Kids</td></tr></table>"
                    }
                }
            ],
            "execution_count": 2
        },
        {
            "cell_type": "code",
            "source": "SELECT * FROM departments ORDER BY department DESC;",
            "metadata": {},
            "outputs": [
                {
                    "output_type": "display_data",
                    "data": {
                        "text/html": "(13 row(s) affected)"
                    },
                    "metadata": {}
                },
                {
                    "output_type": "display_data",
                    "data": {
                        "text/html": "Total execution time: 0:00:00.007536"
                    },
                    "metadata": {}
                },
                {
                    "output_type": "execute_result",
                    "metadata": {},
                    "execution_count": 3,
                    "data": {
                        "application/vnd.dataresource+json": {
                            "schema": {
                                "fields": [
                                    {
                                        "name": "department"
                                    },
                                    {
                                        "name": "division"
                                    }
                                ]
                            },
                            "data": [
                                {
                                    "0": "Toys",
                                    "1": "Kids"
                                },
                                {
                                    "0": "Shoes",
                                    "1": "Home"
                                },
                                {
                                    "0": "Music",
                                    "1": "Entertainment"
                                },
                                {
                                    "0": "Movies",
                                    "1": "Entertainment"
                                },
                                {
                                    "0": "Jewelery",
                                    "1": "Home"
                                },
                                {
                                    "0": "Grocery",
                                    "1": "Home"
                                },
                                {
                                    "0": "Garden",
                                    "1": "Outdoors"
                                },
                                {
                                    "0": "Games",
                                    "1": "Kids"
                                },
                                {
                                    "0": "Computers",
                                    "1": "Electronics"
                                },
                                {
                                    "0": "Clothing",
                                    "1": "Home"
                                },
                                {
                                    "0": "Books",
                                    "1": "Entertainment"
                                },
                                {
                                    "0": "Beauty",
                                    "1": "Home"
                                },
                                {
                                    "0": "Automotive",
                                    "1": "Hardware"
                                }
                            ]
                        },
                        "text/html": "<table><tr><th>department</th><th>division</th></tr><tr><td>Toys</td><td>Kids</td></tr><tr><td>Shoes</td><td>Home</td></tr><tr><td>Music</td><td>Entertainment</td></tr><tr><td>Movies</td><td>Entertainment</td></tr><tr><td>Jewelery</td><td>Home</td></tr><tr><td>Grocery</td><td>Home</td></tr><tr><td>Garden</td><td>Outdoors</td></tr><tr><td>Games</td><td>Kids</td></tr><tr><td>Computers</td><td>Electronics</td></tr><tr><td>Clothing</td><td>Home</td></tr><tr><td>Books</td><td>Entertainment</td></tr><tr><td>Beauty</td><td>Home</td></tr><tr><td>Automotive</td><td>Hardware</td></tr></table>"
                    }
                }
            ],
            "execution_count": 3
        },
        {
            "cell_type": "code",
            "source": "SELECT * FROM employees ORDER BY salary DESC LIMIT 10;",
            "metadata": {},
            "outputs": [
                {
                    "output_type": "display_data",
                    "data": {
                        "text/html": "(10 row(s) affected)"
                    },
                    "metadata": {}
                },
                {
                    "output_type": "display_data",
                    "data": {
                        "text/html": "Total execution time: 0:00:00.008169"
                    },
                    "metadata": {}
                },
                {
                    "output_type": "execute_result",
                    "metadata": {},
                    "execution_count": 4,
                    "data": {
                        "application/vnd.dataresource+json": {
                            "schema": {
                                "fields": [
                                    {
                                        "name": "id"
                                    },
                                    {
                                        "name": "first_name"
                                    },
                                    {
                                        "name": "last_name"
                                    },
                                    {
                                        "name": "email"
                                    },
                                    {
                                        "name": "hire_date"
                                    },
                                    {
                                        "name": "department"
                                    },
                                    {
                                        "name": "gender"
                                    },
                                    {
                                        "name": "salary"
                                    },
                                    {
                                        "name": "region_id"
                                    }
                                ]
                            },
                            "data": [
                                {
                                    "0": "460",
                                    "1": "Isaak",
                                    "2": "Wotton",
                                    "3": "iwottoncr@jigsy.com",
                                    "4": "2013-06-29",
                                    "5": "Music",
                                    "6": "M",
                                    "7": "899971.34",
                                    "8": "3"
                                },
                                {
                                    "0": "612",
                                    "1": "Amara",
                                    "2": "Balls",
                                    "3": "NULL",
                                    "4": "2015-10-17",
                                    "5": "Shoes",
                                    "6": "F",
                                    "7": "895204.82",
                                    "8": "6"
                                },
                                {
                                    "0": "244",
                                    "1": "Em",
                                    "2": "Hayen",
                                    "3": "ehayen6r@cdc.gov",
                                    "4": "2015-03-19",
                                    "5": "Books",
                                    "6": "M",
                                    "7": "893687.39",
                                    "8": "3"
                                },
                                {
                                    "0": "136",
                                    "1": "Mata",
                                    "2": "Burnel",
                                    "3": "mburnel3r@over-blog.com",
                                    "4": "2013-12-07",
                                    "5": "Automotive",
                                    "6": "M",
                                    "7": "891362.71",
                                    "8": "3"
                                },
                                {
                                    "0": "385",
                                    "1": "Sabrina",
                                    "2": "Logie",
                                    "3": "slogieao@usda.gov",
                                    "4": "2017-06-20",
                                    "5": "Computers",
                                    "6": "F",
                                    "7": "891062.15",
                                    "8": "1"
                                },
                                {
                                    "0": "323",
                                    "1": "Lorinda",
                                    "2": "Challis",
                                    "3": "lchallis8y@t.co",
                                    "4": "2016-12-14",
                                    "5": "Shoes",
                                    "6": "F",
                                    "7": "890897.12",
                                    "8": "6"
                                },
                                {
                                    "0": "521",
                                    "1": "Brier",
                                    "2": "Hynes",
                                    "3": "NULL",
                                    "4": "2017-11-26",
                                    "5": "Automotive",
                                    "6": "F",
                                    "7": "888354.50",
                                    "8": "8"
                                },
                                {
                                    "0": "449",
                                    "1": "Page",
                                    "2": "Jurgen",
                                    "3": "pjurgencg@stumbleupon.com",
                                    "4": "2014-01-06",
                                    "5": "Toys",
                                    "6": "F",
                                    "7": "884220.42",
                                    "8": "1"
                                },
                                {
                                    "0": "211",
                                    "1": "Emmalynn",
                                    "2": "Grishmanov",
                                    "3": "egrishmanov5u@qq.com",
                                    "4": "2013-01-12",
                                    "5": "Computers",
                                    "6": "F",
                                    "7": "883740.12",
                                    "8": "8"
                                },
                                {
                                    "0": "141",
                                    "1": "Jordan",
                                    "2": "Dudderidge",
                                    "3": "jdudderidge3w@dot.gov",
                                    "4": "2014-11-15",
                                    "5": "Books",
                                    "6": "F",
                                    "7": "883726.54",
                                    "8": "4"
                                }
                            ]
                        },
                        "text/html": "<table><tr><th>id</th><th>first_name</th><th>last_name</th><th>email</th><th>hire_date</th><th>department</th><th>gender</th><th>salary</th><th>region_id</th></tr><tr><td>460</td><td>Isaak</td><td>Wotton</td><td>iwottoncr@jigsy.com</td><td>2013-06-29</td><td>Music</td><td>M</td><td>899971.34</td><td>3</td></tr><tr><td>612</td><td>Amara</td><td>Balls</td><td>NULL</td><td>2015-10-17</td><td>Shoes</td><td>F</td><td>895204.82</td><td>6</td></tr><tr><td>244</td><td>Em</td><td>Hayen</td><td>ehayen6r@cdc.gov</td><td>2015-03-19</td><td>Books</td><td>M</td><td>893687.39</td><td>3</td></tr><tr><td>136</td><td>Mata</td><td>Burnel</td><td>mburnel3r@over-blog.com</td><td>2013-12-07</td><td>Automotive</td><td>M</td><td>891362.71</td><td>3</td></tr><tr><td>385</td><td>Sabrina</td><td>Logie</td><td>slogieao@usda.gov</td><td>2017-06-20</td><td>Computers</td><td>F</td><td>891062.15</td><td>1</td></tr><tr><td>323</td><td>Lorinda</td><td>Challis</td><td>lchallis8y@t.co</td><td>2016-12-14</td><td>Shoes</td><td>F</td><td>890897.12</td><td>6</td></tr><tr><td>521</td><td>Brier</td><td>Hynes</td><td>NULL</td><td>2017-11-26</td><td>Automotive</td><td>F</td><td>888354.50</td><td>8</td></tr><tr><td>449</td><td>Page</td><td>Jurgen</td><td>pjurgencg@stumbleupon.com</td><td>2014-01-06</td><td>Toys</td><td>F</td><td>884220.42</td><td>1</td></tr><tr><td>211</td><td>Emmalynn</td><td>Grishmanov</td><td>egrishmanov5u@qq.com</td><td>2013-01-12</td><td>Computers</td><td>F</td><td>883740.12</td><td>8</td></tr><tr><td>141</td><td>Jordan</td><td>Dudderidge</td><td>jdudderidge3w@dot.gov</td><td>2014-11-15</td><td>Books</td><td>F</td><td>883726.54</td><td>4</td></tr></table>"
                    }
                }
            ],
            "execution_count": 4
        },
        {
            "cell_type": "code",
            "source": "-- distinct\nSELECT DISTINCT department FROM employees;",
            "metadata": {},
            "outputs": [
                {
                    "output_type": "display_data",
                    "data": {
                        "text/html": "(13 row(s) affected)"
                    },
                    "metadata": {}
                },
                {
                    "output_type": "display_data",
                    "data": {
                        "text/html": "Total execution time: 0:00:00.007492"
                    },
                    "metadata": {}
                },
                {
                    "output_type": "execute_result",
                    "metadata": {},
                    "execution_count": 5,
                    "data": {
                        "application/vnd.dataresource+json": {
                            "schema": {
                                "fields": [
                                    {
                                        "name": "department"
                                    }
                                ]
                            },
                            "data": [
                                {
                                    "0": "Grocery"
                                },
                                {
                                    "0": "Movies"
                                },
                                {
                                    "0": "Clothing"
                                },
                                {
                                    "0": "Jewelery"
                                },
                                {
                                    "0": "Books"
                                },
                                {
                                    "0": "Music"
                                },
                                {
                                    "0": "Automotive"
                                },
                                {
                                    "0": "Garden"
                                },
                                {
                                    "0": "Toys"
                                },
                                {
                                    "0": "Shoes"
                                },
                                {
                                    "0": "Games"
                                },
                                {
                                    "0": "Beauty"
                                },
                                {
                                    "0": "Computers"
                                }
                            ]
                        },
                        "text/html": "<table><tr><th>department</th></tr><tr><td>Grocery</td></tr><tr><td>Movies</td></tr><tr><td>Clothing</td></tr><tr><td>Jewelery</td></tr><tr><td>Books</td></tr><tr><td>Music</td></tr><tr><td>Automotive</td></tr><tr><td>Garden</td></tr><tr><td>Toys</td></tr><tr><td>Shoes</td></tr><tr><td>Games</td></tr><tr><td>Beauty</td></tr><tr><td>Computers</td></tr></table>"
                    }
                }
            ],
            "execution_count": 5
        },
        {
            "cell_type": "code",
            "source": "SELECT DISTINCT department FROM employees ORDER BY 1;",
            "metadata": {},
            "outputs": [
                {
                    "output_type": "display_data",
                    "data": {
                        "text/html": "(13 row(s) affected)"
                    },
                    "metadata": {}
                },
                {
                    "output_type": "display_data",
                    "data": {
                        "text/html": "Total execution time: 0:00:00.011094"
                    },
                    "metadata": {}
                },
                {
                    "output_type": "execute_result",
                    "metadata": {},
                    "execution_count": 6,
                    "data": {
                        "application/vnd.dataresource+json": {
                            "schema": {
                                "fields": [
                                    {
                                        "name": "department"
                                    }
                                ]
                            },
                            "data": [
                                {
                                    "0": "Automotive"
                                },
                                {
                                    "0": "Beauty"
                                },
                                {
                                    "0": "Books"
                                },
                                {
                                    "0": "Clothing"
                                },
                                {
                                    "0": "Computers"
                                },
                                {
                                    "0": "Games"
                                },
                                {
                                    "0": "Garden"
                                },
                                {
                                    "0": "Grocery"
                                },
                                {
                                    "0": "Jewelery"
                                },
                                {
                                    "0": "Movies"
                                },
                                {
                                    "0": "Music"
                                },
                                {
                                    "0": "Shoes"
                                },
                                {
                                    "0": "Toys"
                                }
                            ]
                        },
                        "text/html": "<table><tr><th>department</th></tr><tr><td>Automotive</td></tr><tr><td>Beauty</td></tr><tr><td>Books</td></tr><tr><td>Clothing</td></tr><tr><td>Computers</td></tr><tr><td>Games</td></tr><tr><td>Garden</td></tr><tr><td>Grocery</td></tr><tr><td>Jewelery</td></tr><tr><td>Movies</td></tr><tr><td>Music</td></tr><tr><td>Shoes</td></tr><tr><td>Toys</td></tr></table>"
                    }
                }
            ],
            "execution_count": 6
        },
        {
            "cell_type": "code",
            "source": "SELECT DISTINCT department FROM employees ORDER BY 1 LIMIT 5;",
            "metadata": {},
            "outputs": [
                {
                    "output_type": "display_data",
                    "data": {
                        "text/html": "(5 row(s) affected)"
                    },
                    "metadata": {}
                },
                {
                    "output_type": "display_data",
                    "data": {
                        "text/html": "Total execution time: 0:00:00.009057"
                    },
                    "metadata": {}
                },
                {
                    "output_type": "execute_result",
                    "metadata": {},
                    "execution_count": 7,
                    "data": {
                        "application/vnd.dataresource+json": {
                            "schema": {
                                "fields": [
                                    {
                                        "name": "department"
                                    }
                                ]
                            },
                            "data": [
                                {
                                    "0": "Automotive"
                                },
                                {
                                    "0": "Beauty"
                                },
                                {
                                    "0": "Books"
                                },
                                {
                                    "0": "Clothing"
                                },
                                {
                                    "0": "Computers"
                                }
                            ]
                        },
                        "text/html": "<table><tr><th>department</th></tr><tr><td>Automotive</td></tr><tr><td>Beauty</td></tr><tr><td>Books</td></tr><tr><td>Clothing</td></tr><tr><td>Computers</td></tr></table>"
                    }
                }
            ],
            "execution_count": 7
        },
        {
            "cell_type": "code",
            "source": "SELECT DISTINCT department FROM employees ORDER BY 1\nFETCH FIRST 5 ROWS ONLY;",
            "metadata": {},
            "outputs": [
                {
                    "output_type": "display_data",
                    "data": {
                        "text/html": "(5 row(s) affected)"
                    },
                    "metadata": {}
                },
                {
                    "output_type": "display_data",
                    "data": {
                        "text/html": "Total execution time: 0:00:00.014972"
                    },
                    "metadata": {}
                },
                {
                    "output_type": "execute_result",
                    "metadata": {},
                    "execution_count": 8,
                    "data": {
                        "application/vnd.dataresource+json": {
                            "schema": {
                                "fields": [
                                    {
                                        "name": "department"
                                    }
                                ]
                            },
                            "data": [
                                {
                                    "0": "Automotive"
                                },
                                {
                                    "0": "Beauty"
                                },
                                {
                                    "0": "Books"
                                },
                                {
                                    "0": "Clothing"
                                },
                                {
                                    "0": "Computers"
                                }
                            ]
                        },
                        "text/html": "<table><tr><th>department</th></tr><tr><td>Automotive</td></tr><tr><td>Beauty</td></tr><tr><td>Books</td></tr><tr><td>Clothing</td></tr><tr><td>Computers</td></tr></table>"
                    }
                }
            ],
            "execution_count": 8
        }
    ]
}