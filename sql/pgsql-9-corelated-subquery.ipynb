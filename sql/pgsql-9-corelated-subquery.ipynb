{
    "metadata": {
        "kernelspec": {
            "name": "SQL",
            "display_name": "SQL",
            "language": "sql"
        },
        "language_info": {
            "name": "sql",
            "version": ""
        }
    },
    "nbformat_minor": 2,
    "nbformat": 4,
    "cells": [
        {
            "cell_type": "code",
            "source": "SELECT first_name, salary\nFROM employees e1\nWHERE salary > (\n    SELECT ROUND(AVG(salary)) FROM employees e2\n    WHERE e1.department = e2.department\n)\nLIMIT 10;",
            "metadata": {},
            "outputs": [
                {
                    "output_type": "display_data",
                    "data": {
                        "text/html": "(10 row(s) affected)"
                    },
                    "metadata": {}
                },
                {
                    "output_type": "display_data",
                    "data": {
                        "text/html": "Total execution time: 0:00:00.013879"
                    },
                    "metadata": {}
                },
                {
                    "output_type": "execute_result",
                    "metadata": {},
                    "execution_count": 2,
                    "data": {
                        "application/vnd.dataresource+json": {
                            "schema": {
                                "fields": [
                                    {
                                        "name": "first_name"
                                    },
                                    {
                                        "name": "salary"
                                    }
                                ]
                            },
                            "data": [
                                {
                                    "0": "Arabele",
                                    "1": "722198.30"
                                },
                                {
                                    "0": "Melony",
                                    "1": "808765.04"
                                },
                                {
                                    "0": "Lesly",
                                    "1": "693861.00"
                                },
                                {
                                    "0": "Nichol",
                                    "1": "851247.94"
                                },
                                {
                                    "0": "Noble",
                                    "1": "573624.98"
                                },
                                {
                                    "0": "Dita",
                                    "1": "785787.29"
                                },
                                {
                                    "0": "Maryl",
                                    "1": "653410.59"
                                },
                                {
                                    "0": "Benedicto",
                                    "1": "700440.62"
                                },
                                {
                                    "0": "Horace",
                                    "1": "664053.11"
                                },
                                {
                                    "0": "Celene",
                                    "1": "514976.94"
                                }
                            ]
                        },
                        "text/html": "<table><tr><th>first_name</th><th>salary</th></tr><tr><td>Arabele</td><td>722198.30</td></tr><tr><td>Melony</td><td>808765.04</td></tr><tr><td>Lesly</td><td>693861.00</td></tr><tr><td>Nichol</td><td>851247.94</td></tr><tr><td>Noble</td><td>573624.98</td></tr><tr><td>Dita</td><td>785787.29</td></tr><tr><td>Maryl</td><td>653410.59</td></tr><tr><td>Benedicto</td><td>700440.62</td></tr><tr><td>Horace</td><td>664053.11</td></tr><tr><td>Celene</td><td>514976.94</td></tr></table>"
                    }
                }
            ],
            "execution_count": 2
        },
        {
            "cell_type": "code",
            "source": "SELECT first_name, department, salary, (\n    SELECT ROUND(AVG(salary)) FROM employees e2\n    WHERE e1.department = e2.department\n) AS average_departmental_salary\nFROM employees e1\nLIMIT 10;",
            "metadata": {},
            "outputs": [
                {
                    "output_type": "display_data",
                    "data": {
                        "text/html": "(10 row(s) affected)"
                    },
                    "metadata": {}
                },
                {
                    "output_type": "display_data",
                    "data": {
                        "text/html": "Total execution time: 0:00:00.006986"
                    },
                    "metadata": {}
                },
                {
                    "output_type": "execute_result",
                    "metadata": {},
                    "execution_count": 4,
                    "data": {
                        "application/vnd.dataresource+json": {
                            "schema": {
                                "fields": [
                                    {
                                        "name": "first_name"
                                    },
                                    {
                                        "name": "department"
                                    },
                                    {
                                        "name": "salary"
                                    },
                                    {
                                        "name": "average_departmental_salary"
                                    }
                                ]
                            },
                            "data": [
                                {
                                    "0": "Arabele",
                                    "1": "Books",
                                    "2": "722198.30",
                                    "3": "461076"
                                },
                                {
                                    "0": "Manuel",
                                    "1": "Computers",
                                    "2": "381553.72",
                                    "3": "500776"
                                },
                                {
                                    "0": "Pinchas",
                                    "1": "Grocery",
                                    "2": "294478.26",
                                    "3": "501584"
                                },
                                {
                                    "0": "Pierson",
                                    "1": "Games",
                                    "2": "401075.77",
                                    "3": "436411"
                                },
                                {
                                    "0": "Muire",
                                    "1": "Beauty",
                                    "2": "274068.20",
                                    "3": "438270"
                                },
                                {
                                    "0": "Melony",
                                    "1": "Jewelery",
                                    "2": "808765.04",
                                    "3": "462669"
                                },
                                {
                                    "0": "Berkley",
                                    "1": "Toys",
                                    "2": "127556.89",
                                    "3": "472811"
                                },
                                {
                                    "0": "Lesly",
                                    "1": "Computers",
                                    "2": "693861.00",
                                    "3": "500776"
                                },
                                {
                                    "0": "Nichol",
                                    "1": "Beauty",
                                    "2": "851247.94",
                                    "3": "438270"
                                },
                                {
                                    "0": "Delmore",
                                    "1": "Movies",
                                    "2": "110128.68",
                                    "3": "486536"
                                }
                            ]
                        },
                        "text/html": "<table><tr><th>first_name</th><th>department</th><th>salary</th><th>average_departmental_salary</th></tr><tr><td>Arabele</td><td>Books</td><td>722198.30</td><td>461076</td></tr><tr><td>Manuel</td><td>Computers</td><td>381553.72</td><td>500776</td></tr><tr><td>Pinchas</td><td>Grocery</td><td>294478.26</td><td>501584</td></tr><tr><td>Pierson</td><td>Games</td><td>401075.77</td><td>436411</td></tr><tr><td>Muire</td><td>Beauty</td><td>274068.20</td><td>438270</td></tr><tr><td>Melony</td><td>Jewelery</td><td>808765.04</td><td>462669</td></tr><tr><td>Berkley</td><td>Toys</td><td>127556.89</td><td>472811</td></tr><tr><td>Lesly</td><td>Computers</td><td>693861.00</td><td>500776</td></tr><tr><td>Nichol</td><td>Beauty</td><td>851247.94</td><td>438270</td></tr><tr><td>Delmore</td><td>Movies</td><td>110128.68</td><td>486536</td></tr></table>"
                    }
                }
            ],
            "execution_count": 4
        }
    ]
}