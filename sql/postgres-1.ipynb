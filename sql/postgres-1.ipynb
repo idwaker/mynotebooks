{
    "metadata": {
        "kernelspec": {
            "name": "SQL",
            "display_name": "SQL",
            "language": "sql"
        },
        "language_info": {
            "name": "sql",
            "version": ""
        }
    },
    "nbformat_minor": 2,
    "nbformat": 4,
    "cells": [
        {
            "cell_type": "code",
            "source": "-- create database\n-- CREATE DATABASE learnings;",
            "metadata": {},
            "outputs": [],
            "execution_count": 1
        },
        {
            "cell_type": "code",
            "source": "-- create customers table\nCREATE TABLE customers(\n    id INTEGER PRIMARY KEY,\n    firstname VARCHAR(120) NOT NULL,\n    lastname VARCHAR(120) NOT NULL,\n    address VARCHAR(250)\n)",
            "metadata": {},
            "outputs": [
                {
                    "output_type": "display_data",
                    "data": {
                        "text/html": "Commands completed successfully"
                    },
                    "metadata": {}
                },
                {
                    "output_type": "display_data",
                    "data": {
                        "text/html": "Total execution time: 0:00:00.031441"
                    },
                    "metadata": {}
                }
            ],
            "execution_count": 2
        },
        {
            "cell_type": "code",
            "source": "-- select data from table\nSELECT * FROM customers;",
            "metadata": {},
            "outputs": [
                {
                    "output_type": "display_data",
                    "data": {
                        "text/html": "(0 row(s) affected)"
                    },
                    "metadata": {}
                },
                {
                    "output_type": "display_data",
                    "data": {
                        "text/html": "Total execution time: 0:00:00.007673"
                    },
                    "metadata": {}
                },
                {
                    "output_type": "execute_result",
                    "metadata": {},
                    "execution_count": 3,
                    "data": {
                        "application/vnd.dataresource+json": {
                            "schema": {
                                "fields": [
                                    {
                                        "name": "id"
                                    },
                                    {
                                        "name": "firstname"
                                    },
                                    {
                                        "name": "lastname"
                                    },
                                    {
                                        "name": "address"
                                    }
                                ]
                            },
                            "data": []
                        },
                        "text/html": "<table><tr><th>id</th><th>firstname</th><th>lastname</th><th>address</th></tr></table>"
                    }
                }
            ],
            "execution_count": 3
        },
        {
            "cell_type": "code",
            "source": "-- insert data into table\nINSERT INTO customers(id, firstname, lastname, address) VALUES\n    (1, 'John', 'Doe', 'New York'),\n    (2, 'Jane', 'Doe', 'York');",
            "metadata": {},
            "outputs": [
                {
                    "output_type": "display_data",
                    "data": {
                        "text/html": "Commands completed successfully"
                    },
                    "metadata": {}
                },
                {
                    "output_type": "display_data",
                    "data": {
                        "text/html": "Total execution time: 0:00:00.001948"
                    },
                    "metadata": {}
                }
            ],
            "execution_count": 4
        },
        {
            "cell_type": "code",
            "source": "-- select data from table\nSELECT * FROM customers;",
            "metadata": {},
            "outputs": [
                {
                    "output_type": "display_data",
                    "data": {
                        "text/html": "(2 row(s) affected)"
                    },
                    "metadata": {}
                },
                {
                    "output_type": "display_data",
                    "data": {
                        "text/html": "Total execution time: 0:00:00.007660"
                    },
                    "metadata": {}
                },
                {
                    "output_type": "execute_result",
                    "metadata": {},
                    "execution_count": 5,
                    "data": {
                        "application/vnd.dataresource+json": {
                            "schema": {
                                "fields": [
                                    {
                                        "name": "id"
                                    },
                                    {
                                        "name": "firstname"
                                    },
                                    {
                                        "name": "lastname"
                                    },
                                    {
                                        "name": "address"
                                    }
                                ]
                            },
                            "data": [
                                {
                                    "0": "1",
                                    "1": "John",
                                    "2": "Doe",
                                    "3": "New York"
                                },
                                {
                                    "0": "2",
                                    "1": "Jane",
                                    "2": "Doe",
                                    "3": "York"
                                }
                            ]
                        },
                        "text/html": "<table><tr><th>id</th><th>firstname</th><th>lastname</th><th>address</th></tr><tr><td>1</td><td>John</td><td>Doe</td><td>New York</td></tr><tr><td>2</td><td>Jane</td><td>Doe</td><td>York</td></tr></table>"
                    }
                }
            ],
            "execution_count": 5
        },
        {
            "cell_type": "code",
            "source": "-- select only columns\nSELECT firstname, lastname FROM customers;",
            "metadata": {},
            "outputs": [
                {
                    "output_type": "display_data",
                    "data": {
                        "text/html": "(2 row(s) affected)"
                    },
                    "metadata": {}
                },
                {
                    "output_type": "display_data",
                    "data": {
                        "text/html": "Total execution time: 0:00:00.006736"
                    },
                    "metadata": {}
                },
                {
                    "output_type": "execute_result",
                    "metadata": {},
                    "execution_count": 6,
                    "data": {
                        "application/vnd.dataresource+json": {
                            "schema": {
                                "fields": [
                                    {
                                        "name": "firstname"
                                    },
                                    {
                                        "name": "lastname"
                                    }
                                ]
                            },
                            "data": [
                                {
                                    "0": "John",
                                    "1": "Doe"
                                },
                                {
                                    "0": "Jane",
                                    "1": "Doe"
                                }
                            ]
                        },
                        "text/html": "<table><tr><th>firstname</th><th>lastname</th></tr><tr><td>John</td><td>Doe</td></tr><tr><td>Jane</td><td>Doe</td></tr></table>"
                    }
                }
            ],
            "execution_count": 6
        },
        {
            "cell_type": "code",
            "source": "-- select with alias\nSELECT firstname AS \"First Name\" FROM customers; ",
            "metadata": {},
            "outputs": [
                {
                    "output_type": "display_data",
                    "data": {
                        "text/html": "(2 row(s) affected)"
                    },
                    "metadata": {}
                },
                {
                    "output_type": "display_data",
                    "data": {
                        "text/html": "Total execution time: 0:00:00.006038"
                    },
                    "metadata": {}
                },
                {
                    "output_type": "execute_result",
                    "metadata": {},
                    "execution_count": 7,
                    "data": {
                        "application/vnd.dataresource+json": {
                            "schema": {
                                "fields": [
                                    {
                                        "name": "First Name"
                                    }
                                ]
                            },
                            "data": [
                                {
                                    "0": "John"
                                },
                                {
                                    "0": "Jane"
                                }
                            ]
                        },
                        "text/html": "<table><tr><th>First Name</th></tr><tr><td>John</td></tr><tr><td>Jane</td></tr></table>"
                    }
                }
            ],
            "execution_count": 7
        },
        {
            "cell_type": "code",
            "source": "-- select with where\nSELECT * FROM customers WHERE customers.firstname = 'Jane';",
            "metadata": {},
            "outputs": [
                {
                    "output_type": "display_data",
                    "data": {
                        "text/html": "(1 row(s) affected)"
                    },
                    "metadata": {}
                },
                {
                    "output_type": "display_data",
                    "data": {
                        "text/html": "Total execution time: 0:00:00.015403"
                    },
                    "metadata": {}
                },
                {
                    "output_type": "execute_result",
                    "metadata": {},
                    "execution_count": 8,
                    "data": {
                        "application/vnd.dataresource+json": {
                            "schema": {
                                "fields": [
                                    {
                                        "name": "id"
                                    },
                                    {
                                        "name": "firstname"
                                    },
                                    {
                                        "name": "lastname"
                                    },
                                    {
                                        "name": "address"
                                    }
                                ]
                            },
                            "data": [
                                {
                                    "0": "2",
                                    "1": "Jane",
                                    "2": "Doe",
                                    "3": "York"
                                }
                            ]
                        },
                        "text/html": "<table><tr><th>id</th><th>firstname</th><th>lastname</th><th>address</th></tr><tr><td>2</td><td>Jane</td><td>Doe</td><td>York</td></tr></table>"
                    }
                }
            ],
            "execution_count": 8
        },
        {
            "cell_type": "code",
            "source": "-- insert one more customer\nINSERT INTO customers(id, firstname, lastname, address) VALUES(\n    3, 'John', 'Watson', 'London'\n);",
            "metadata": {},
            "outputs": [
                {
                    "output_type": "display_data",
                    "data": {
                        "text/html": "Commands completed successfully"
                    },
                    "metadata": {}
                },
                {
                    "output_type": "display_data",
                    "data": {
                        "text/html": "Total execution time: 0:00:00.006994"
                    },
                    "metadata": {}
                }
            ],
            "execution_count": 9
        },
        {
            "cell_type": "code",
            "source": "-- count number of items\nSELECT COUNT(*) FROM customers;",
            "metadata": {},
            "outputs": [
                {
                    "output_type": "display_data",
                    "data": {
                        "text/html": "(1 row(s) affected)"
                    },
                    "metadata": {}
                },
                {
                    "output_type": "display_data",
                    "data": {
                        "text/html": "Total execution time: 0:00:00.009617"
                    },
                    "metadata": {}
                },
                {
                    "output_type": "execute_result",
                    "metadata": {},
                    "execution_count": 10,
                    "data": {
                        "application/vnd.dataresource+json": {
                            "schema": {
                                "fields": [
                                    {
                                        "name": "count"
                                    }
                                ]
                            },
                            "data": [
                                {
                                    "0": "3"
                                }
                            ]
                        },
                        "text/html": "<table><tr><th>count</th></tr><tr><td>3</td></tr></table>"
                    }
                }
            ],
            "execution_count": 10
        },
        {
            "cell_type": "code",
            "source": "-- select all cusotmers whose lastname is Doe\nSELECT * FROM customers WHERE lastname='Doe';",
            "metadata": {},
            "outputs": [
                {
                    "output_type": "display_data",
                    "data": {
                        "text/html": "(2 row(s) affected)"
                    },
                    "metadata": {}
                },
                {
                    "output_type": "display_data",
                    "data": {
                        "text/html": "Total execution time: 0:00:00.005384"
                    },
                    "metadata": {}
                },
                {
                    "output_type": "execute_result",
                    "metadata": {},
                    "execution_count": 11,
                    "data": {
                        "application/vnd.dataresource+json": {
                            "schema": {
                                "fields": [
                                    {
                                        "name": "id"
                                    },
                                    {
                                        "name": "firstname"
                                    },
                                    {
                                        "name": "lastname"
                                    },
                                    {
                                        "name": "address"
                                    }
                                ]
                            },
                            "data": [
                                {
                                    "0": "1",
                                    "1": "John",
                                    "2": "Doe",
                                    "3": "New York"
                                },
                                {
                                    "0": "2",
                                    "1": "Jane",
                                    "2": "Doe",
                                    "3": "York"
                                }
                            ]
                        },
                        "text/html": "<table><tr><th>id</th><th>firstname</th><th>lastname</th><th>address</th></tr><tr><td>1</td><td>John</td><td>Doe</td><td>New York</td></tr><tr><td>2</td><td>Jane</td><td>Doe</td><td>York</td></tr></table>"
                    }
                }
            ],
            "execution_count": 11
        },
        {
            "cell_type": "code",
            "source": "-- select only one customer whose lastname is Doe\nSELECT * FROM customers WHERE lastname='Doe' limit 1;",
            "metadata": {},
            "outputs": [
                {
                    "output_type": "display_data",
                    "data": {
                        "text/html": "(1 row(s) affected)"
                    },
                    "metadata": {}
                },
                {
                    "output_type": "display_data",
                    "data": {
                        "text/html": "Total execution time: 0:00:00.006042"
                    },
                    "metadata": {}
                },
                {
                    "output_type": "execute_result",
                    "metadata": {},
                    "execution_count": 12,
                    "data": {
                        "application/vnd.dataresource+json": {
                            "schema": {
                                "fields": [
                                    {
                                        "name": "id"
                                    },
                                    {
                                        "name": "firstname"
                                    },
                                    {
                                        "name": "lastname"
                                    },
                                    {
                                        "name": "address"
                                    }
                                ]
                            },
                            "data": [
                                {
                                    "0": "1",
                                    "1": "John",
                                    "2": "Doe",
                                    "3": "New York"
                                }
                            ]
                        },
                        "text/html": "<table><tr><th>id</th><th>firstname</th><th>lastname</th><th>address</th></tr><tr><td>1</td><td>John</td><td>Doe</td><td>New York</td></tr></table>"
                    }
                }
            ],
            "execution_count": 12
        },
        {
            "cell_type": "code",
            "source": "-- create items table\nCREATE TABLE items(\n    id SERIAL PRIMARY KEY, -- serial is autoincrement number\n    name VARCHAR(255) NOT NULL,\n    price DECIMAL(6, 2)\n); ",
            "metadata": {},
            "outputs": [
                {
                    "output_type": "display_data",
                    "data": {
                        "text/html": "Commands completed successfully"
                    },
                    "metadata": {}
                },
                {
                    "output_type": "display_data",
                    "data": {
                        "text/html": "Total execution time: 0:00:00.016140"
                    },
                    "metadata": {}
                }
            ],
            "execution_count": 13
        },
        {
            "cell_type": "code",
            "source": "-- insert bunch of data\nINSERT INTO items(name, price) VALUES\n    ('Pencil', 12.20),\n    ('Sharpner', 9.00),\n    ('Notebook', 20),\n    ('Spiral Pad', 120),\n    ('Glue stick', 48),\n    ('White board', 580);",
            "metadata": {},
            "outputs": [
                {
                    "output_type": "display_data",
                    "data": {
                        "text/html": "Commands completed successfully"
                    },
                    "metadata": {}
                },
                {
                    "output_type": "display_data",
                    "data": {
                        "text/html": "Total execution time: 0:00:00.006445"
                    },
                    "metadata": {}
                }
            ],
            "execution_count": 14
        },
        {
            "cell_type": "code",
            "source": "-- select items\nSELECT * FROM items;",
            "metadata": {},
            "outputs": [
                {
                    "output_type": "display_data",
                    "data": {
                        "text/html": "(6 row(s) affected)"
                    },
                    "metadata": {}
                },
                {
                    "output_type": "display_data",
                    "data": {
                        "text/html": "Total execution time: 0:00:00.005292"
                    },
                    "metadata": {}
                },
                {
                    "output_type": "execute_result",
                    "metadata": {},
                    "execution_count": 15,
                    "data": {
                        "application/vnd.dataresource+json": {
                            "schema": {
                                "fields": [
                                    {
                                        "name": "id"
                                    },
                                    {
                                        "name": "name"
                                    },
                                    {
                                        "name": "price"
                                    }
                                ]
                            },
                            "data": [
                                {
                                    "0": "1",
                                    "1": "Pencil",
                                    "2": "12.20"
                                },
                                {
                                    "0": "2",
                                    "1": "Sharpner",
                                    "2": "9.00"
                                },
                                {
                                    "0": "3",
                                    "1": "Notebook",
                                    "2": "20.00"
                                },
                                {
                                    "0": "4",
                                    "1": "Spiral Pad",
                                    "2": "120.00"
                                },
                                {
                                    "0": "5",
                                    "1": "Glue stick",
                                    "2": "48.00"
                                },
                                {
                                    "0": "6",
                                    "1": "White board",
                                    "2": "580.00"
                                }
                            ]
                        },
                        "text/html": "<table><tr><th>id</th><th>name</th><th>price</th></tr><tr><td>1</td><td>Pencil</td><td>12.20</td></tr><tr><td>2</td><td>Sharpner</td><td>9.00</td></tr><tr><td>3</td><td>Notebook</td><td>20.00</td></tr><tr><td>4</td><td>Spiral Pad</td><td>120.00</td></tr><tr><td>5</td><td>Glue stick</td><td>48.00</td></tr><tr><td>6</td><td>White board</td><td>580.00</td></tr></table>"
                    }
                }
            ],
            "execution_count": 15
        },
        {
            "cell_type": "code",
            "source": "-- update price of Glue stick\nUPDATE items SET price=50 WHERE id=5;",
            "metadata": {},
            "outputs": [
                {
                    "output_type": "display_data",
                    "data": {
                        "text/html": "Commands completed successfully"
                    },
                    "metadata": {}
                },
                {
                    "output_type": "display_data",
                    "data": {
                        "text/html": "Total execution time: 0:00:00.005158"
                    },
                    "metadata": {}
                }
            ],
            "execution_count": 16
        },
        {
            "cell_type": "code",
            "source": "-- select by id\nSELECT * FROM items WHERE id=5;",
            "metadata": {},
            "outputs": [
                {
                    "output_type": "display_data",
                    "data": {
                        "text/html": "(1 row(s) affected)"
                    },
                    "metadata": {}
                },
                {
                    "output_type": "display_data",
                    "data": {
                        "text/html": "Total execution time: 0:00:00.005118"
                    },
                    "metadata": {}
                },
                {
                    "output_type": "execute_result",
                    "metadata": {},
                    "execution_count": 17,
                    "data": {
                        "application/vnd.dataresource+json": {
                            "schema": {
                                "fields": [
                                    {
                                        "name": "id"
                                    },
                                    {
                                        "name": "name"
                                    },
                                    {
                                        "name": "price"
                                    }
                                ]
                            },
                            "data": [
                                {
                                    "0": "5",
                                    "1": "Glue stick",
                                    "2": "50.00"
                                }
                            ]
                        },
                        "text/html": "<table><tr><th>id</th><th>name</th><th>price</th></tr><tr><td>5</td><td>Glue stick</td><td>50.00</td></tr></table>"
                    }
                }
            ],
            "execution_count": 17
        },
        {
            "cell_type": "code",
            "source": "-- delete spiral pad\nDELETE FROM items WHERE id=4;",
            "metadata": {},
            "outputs": [
                {
                    "output_type": "display_data",
                    "data": {
                        "text/html": "Commands completed successfully"
                    },
                    "metadata": {}
                },
                {
                    "output_type": "display_data",
                    "data": {
                        "text/html": "Total execution time: 0:00:00.004753"
                    },
                    "metadata": {}
                }
            ],
            "execution_count": 18
        },
        {
            "cell_type": "code",
            "source": "-- list all items\nSELECT * FROM items;",
            "metadata": {},
            "outputs": [
                {
                    "output_type": "display_data",
                    "data": {
                        "text/html": "(5 row(s) affected)"
                    },
                    "metadata": {}
                },
                {
                    "output_type": "display_data",
                    "data": {
                        "text/html": "Total execution time: 0:00:00.005405"
                    },
                    "metadata": {}
                },
                {
                    "output_type": "execute_result",
                    "metadata": {},
                    "execution_count": 19,
                    "data": {
                        "application/vnd.dataresource+json": {
                            "schema": {
                                "fields": [
                                    {
                                        "name": "id"
                                    },
                                    {
                                        "name": "name"
                                    },
                                    {
                                        "name": "price"
                                    }
                                ]
                            },
                            "data": [
                                {
                                    "0": "1",
                                    "1": "Pencil",
                                    "2": "12.20"
                                },
                                {
                                    "0": "2",
                                    "1": "Sharpner",
                                    "2": "9.00"
                                },
                                {
                                    "0": "3",
                                    "1": "Notebook",
                                    "2": "20.00"
                                },
                                {
                                    "0": "6",
                                    "1": "White board",
                                    "2": "580.00"
                                },
                                {
                                    "0": "5",
                                    "1": "Glue stick",
                                    "2": "50.00"
                                }
                            ]
                        },
                        "text/html": "<table><tr><th>id</th><th>name</th><th>price</th></tr><tr><td>1</td><td>Pencil</td><td>12.20</td></tr><tr><td>2</td><td>Sharpner</td><td>9.00</td></tr><tr><td>3</td><td>Notebook</td><td>20.00</td></tr><tr><td>6</td><td>White board</td><td>580.00</td></tr><tr><td>5</td><td>Glue stick</td><td>50.00</td></tr></table>"
                    }
                }
            ],
            "execution_count": 19
        },
        {
            "cell_type": "code",
            "source": "-- wild cards\nSELECT * FROM customers WHERE lastname LIKE '%';",
            "metadata": {},
            "outputs": [
                {
                    "output_type": "display_data",
                    "data": {
                        "text/html": "(3 row(s) affected)"
                    },
                    "metadata": {}
                },
                {
                    "output_type": "display_data",
                    "data": {
                        "text/html": "Total execution time: 0:00:00.006079"
                    },
                    "metadata": {}
                },
                {
                    "output_type": "execute_result",
                    "metadata": {},
                    "execution_count": 20,
                    "data": {
                        "application/vnd.dataresource+json": {
                            "schema": {
                                "fields": [
                                    {
                                        "name": "id"
                                    },
                                    {
                                        "name": "firstname"
                                    },
                                    {
                                        "name": "lastname"
                                    },
                                    {
                                        "name": "address"
                                    }
                                ]
                            },
                            "data": [
                                {
                                    "0": "1",
                                    "1": "John",
                                    "2": "Doe",
                                    "3": "New York"
                                },
                                {
                                    "0": "2",
                                    "1": "Jane",
                                    "2": "Doe",
                                    "3": "York"
                                },
                                {
                                    "0": "3",
                                    "1": "John",
                                    "2": "Watson",
                                    "3": "London"
                                }
                            ]
                        },
                        "text/html": "<table><tr><th>id</th><th>firstname</th><th>lastname</th><th>address</th></tr><tr><td>1</td><td>John</td><td>Doe</td><td>New York</td></tr><tr><td>2</td><td>Jane</td><td>Doe</td><td>York</td></tr><tr><td>3</td><td>John</td><td>Watson</td><td>London</td></tr></table>"
                    }
                }
            ],
            "execution_count": 20
        },
        {
            "cell_type": "code",
            "source": "SELECT * FROM customers WHERE lastname LIKE '_';",
            "metadata": {},
            "outputs": [
                {
                    "output_type": "display_data",
                    "data": {
                        "text/html": "(0 row(s) affected)"
                    },
                    "metadata": {}
                },
                {
                    "output_type": "display_data",
                    "data": {
                        "text/html": "Total execution time: 0:00:00.004249"
                    },
                    "metadata": {}
                },
                {
                    "output_type": "execute_result",
                    "metadata": {},
                    "execution_count": 21,
                    "data": {
                        "application/vnd.dataresource+json": {
                            "schema": {
                                "fields": [
                                    {
                                        "name": "id"
                                    },
                                    {
                                        "name": "firstname"
                                    },
                                    {
                                        "name": "lastname"
                                    },
                                    {
                                        "name": "address"
                                    }
                                ]
                            },
                            "data": []
                        },
                        "text/html": "<table><tr><th>id</th><th>firstname</th><th>lastname</th><th>address</th></tr></table>"
                    }
                }
            ],
            "execution_count": 21
        },
        {
            "cell_type": "code",
            "source": "SELECT * FROM customers WHERE lastname LIKE '___';",
            "metadata": {},
            "outputs": [
                {
                    "output_type": "display_data",
                    "data": {
                        "text/html": "(2 row(s) affected)"
                    },
                    "metadata": {}
                },
                {
                    "output_type": "display_data",
                    "data": {
                        "text/html": "Total execution time: 0:00:00.005873"
                    },
                    "metadata": {}
                },
                {
                    "output_type": "execute_result",
                    "metadata": {},
                    "execution_count": 22,
                    "data": {
                        "application/vnd.dataresource+json": {
                            "schema": {
                                "fields": [
                                    {
                                        "name": "id"
                                    },
                                    {
                                        "name": "firstname"
                                    },
                                    {
                                        "name": "lastname"
                                    },
                                    {
                                        "name": "address"
                                    }
                                ]
                            },
                            "data": [
                                {
                                    "0": "1",
                                    "1": "John",
                                    "2": "Doe",
                                    "3": "New York"
                                },
                                {
                                    "0": "2",
                                    "1": "Jane",
                                    "2": "Doe",
                                    "3": "York"
                                }
                            ]
                        },
                        "text/html": "<table><tr><th>id</th><th>firstname</th><th>lastname</th><th>address</th></tr><tr><td>1</td><td>John</td><td>Doe</td><td>New York</td></tr><tr><td>2</td><td>Jane</td><td>Doe</td><td>York</td></tr></table>"
                    }
                }
            ],
            "execution_count": 22
        },
        {
            "cell_type": "code",
            "source": "-- whose last name starts with w\nSELECT * FROM customers WHERE lastname LIKE 'W%';",
            "metadata": {},
            "outputs": [
                {
                    "output_type": "display_data",
                    "data": {
                        "text/html": "(1 row(s) affected)"
                    },
                    "metadata": {}
                },
                {
                    "output_type": "display_data",
                    "data": {
                        "text/html": "Total execution time: 0:00:00.004914"
                    },
                    "metadata": {}
                },
                {
                    "output_type": "execute_result",
                    "metadata": {},
                    "execution_count": 23,
                    "data": {
                        "application/vnd.dataresource+json": {
                            "schema": {
                                "fields": [
                                    {
                                        "name": "id"
                                    },
                                    {
                                        "name": "firstname"
                                    },
                                    {
                                        "name": "lastname"
                                    },
                                    {
                                        "name": "address"
                                    }
                                ]
                            },
                            "data": [
                                {
                                    "0": "3",
                                    "1": "John",
                                    "2": "Watson",
                                    "3": "London"
                                }
                            ]
                        },
                        "text/html": "<table><tr><th>id</th><th>firstname</th><th>lastname</th><th>address</th></tr><tr><td>3</td><td>John</td><td>Watson</td><td>London</td></tr></table>"
                    }
                }
            ],
            "execution_count": 23
        },
        {
            "cell_type": "code",
            "source": "",
            "metadata": {},
            "outputs": []
        }
    ]
}