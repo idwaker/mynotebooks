{
    "metadata": {
        "kernelspec": {
            "name": "SQL",
            "display_name": "SQL",
            "language": "sql"
        },
        "language_info": {
            "name": "sql",
            "version": ""
        }
    },
    "nbformat_minor": 2,
    "nbformat": 4,
    "cells": [
        {
            "cell_type": "code",
            "source": "SELECT customers.firstname, customers.lastname, COUNT(purchases.id) FROM customers\nLEFT JOIN purchases ON customers.id = purchases.customer_id\nGROUP BY customers.id;",
            "metadata": {},
            "outputs": [
                {
                    "output_type": "display_data",
                    "data": {
                        "text/html": "(3 row(s) affected)"
                    },
                    "metadata": {}
                },
                {
                    "output_type": "display_data",
                    "data": {
                        "text/html": "Total execution time: 0:00:00.005287"
                    },
                    "metadata": {}
                },
                {
                    "output_type": "execute_result",
                    "metadata": {},
                    "execution_count": 1,
                    "data": {
                        "application/vnd.dataresource+json": {
                            "schema": {
                                "fields": [
                                    {
                                        "name": "firstname"
                                    },
                                    {
                                        "name": "lastname"
                                    },
                                    {
                                        "name": "count"
                                    }
                                ]
                            },
                            "data": [
                                {
                                    "0": "Jane",
                                    "1": "Doe",
                                    "2": "3"
                                },
                                {
                                    "0": "John",
                                    "1": "Watson",
                                    "2": "1"
                                },
                                {
                                    "0": "John",
                                    "1": "Doe",
                                    "2": "4"
                                }
                            ]
                        },
                        "text/html": "<table><tr><th>firstname</th><th>lastname</th><th>count</th></tr><tr><td>Jane</td><td>Doe</td><td>3</td></tr><tr><td>John</td><td>Watson</td><td>1</td></tr><tr><td>John</td><td>Doe</td><td>4</td></tr></table>"
                    }
                }
            ],
            "execution_count": 1
        },
        {
            "cell_type": "code",
            "source": "SELECT customers.firstname, customers.lastname, SUM(items.price) FROM items\nJOIN purchases ON items.id = purchases.item_id\nJOIN customers ON purchases.customer_id = customers.id\nGROUP BY customers.id;",
            "metadata": {},
            "outputs": [
                {
                    "output_type": "display_data",
                    "data": {
                        "text/html": "(3 row(s) affected)"
                    },
                    "metadata": {}
                },
                {
                    "output_type": "display_data",
                    "data": {
                        "text/html": "Total execution time: 0:00:00.009328"
                    },
                    "metadata": {}
                },
                {
                    "output_type": "execute_result",
                    "metadata": {},
                    "execution_count": 3,
                    "data": {
                        "application/vnd.dataresource+json": {
                            "schema": {
                                "fields": [
                                    {
                                        "name": "firstname"
                                    },
                                    {
                                        "name": "lastname"
                                    },
                                    {
                                        "name": "sum"
                                    }
                                ]
                            },
                            "data": [
                                {
                                    "0": "Jane",
                                    "1": "Doe",
                                    "2": "71.20"
                                },
                                {
                                    "0": "John",
                                    "1": "Watson",
                                    "2": "50.00"
                                },
                                {
                                    "0": "John",
                                    "1": "Doe",
                                    "2": "651.20"
                                }
                            ]
                        },
                        "text/html": "<table><tr><th>firstname</th><th>lastname</th><th>sum</th></tr><tr><td>Jane</td><td>Doe</td><td>71.20</td></tr><tr><td>John</td><td>Watson</td><td>50.00</td></tr><tr><td>John</td><td>Doe</td><td>651.20</td></tr></table>"
                    }
                }
            ],
            "execution_count": 3
        },
        {
            "cell_type": "code",
            "source": "SELECT SUM(items.price) FROM purchases JOIN items ON purchases.item_id = items.id;",
            "metadata": {},
            "outputs": [
                {
                    "output_type": "display_data",
                    "data": {
                        "text/html": "(1 row(s) affected)"
                    },
                    "metadata": {}
                },
                {
                    "output_type": "display_data",
                    "data": {
                        "text/html": "Total execution time: 0:00:00.003224"
                    },
                    "metadata": {}
                },
                {
                    "output_type": "execute_result",
                    "metadata": {},
                    "execution_count": 4,
                    "data": {
                        "application/vnd.dataresource+json": {
                            "schema": {
                                "fields": [
                                    {
                                        "name": "sum"
                                    }
                                ]
                            },
                            "data": [
                                {
                                    "0": "772.40"
                                }
                            ]
                        },
                        "text/html": "<table><tr><th>sum</th></tr><tr><td>772.40</td></tr></table>"
                    }
                }
            ],
            "execution_count": 4
        },
        {
            "cell_type": "code",
            "source": "SELECT customers.firstname, customers.lastname, SUM(items.price) AS \"total_spent\" FROM items\nJOIN purchases ON items.id = purchases.item_id\nJOIN customers ON purchases.customer_id = customers.id\nGROUP BY customers.id ORDER BY total_spent DESC;",
            "metadata": {},
            "outputs": [
                {
                    "output_type": "display_data",
                    "data": {
                        "text/html": "(3 row(s) affected)"
                    },
                    "metadata": {}
                },
                {
                    "output_type": "display_data",
                    "data": {
                        "text/html": "Total execution time: 0:00:00.008560"
                    },
                    "metadata": {}
                },
                {
                    "output_type": "execute_result",
                    "metadata": {},
                    "execution_count": 6,
                    "data": {
                        "application/vnd.dataresource+json": {
                            "schema": {
                                "fields": [
                                    {
                                        "name": "firstname"
                                    },
                                    {
                                        "name": "lastname"
                                    },
                                    {
                                        "name": "total_spent"
                                    }
                                ]
                            },
                            "data": [
                                {
                                    "0": "John",
                                    "1": "Doe",
                                    "2": "651.20"
                                },
                                {
                                    "0": "Jane",
                                    "1": "Doe",
                                    "2": "71.20"
                                },
                                {
                                    "0": "John",
                                    "1": "Watson",
                                    "2": "50.00"
                                }
                            ]
                        },
                        "text/html": "<table><tr><th>firstname</th><th>lastname</th><th>total_spent</th></tr><tr><td>John</td><td>Doe</td><td>651.20</td></tr><tr><td>Jane</td><td>Doe</td><td>71.20</td></tr><tr><td>John</td><td>Watson</td><td>50.00</td></tr></table>"
                    }
                }
            ],
            "execution_count": 6
        },
        {
            "cell_type": "code",
            "source": "-- create sequence\nCREATE SEQUENCE user_id_seq START 1;",
            "metadata": {},
            "outputs": [
                {
                    "output_type": "display_data",
                    "data": {
                        "text/html": "Commands completed successfully"
                    },
                    "metadata": {}
                },
                {
                    "output_type": "display_data",
                    "data": {
                        "text/html": "Total execution time: 0:00:00.010805"
                    },
                    "metadata": {}
                }
            ],
            "execution_count": 7
        },
        {
            "cell_type": "code",
            "source": "CREATE TABLE users(\n    id INTEGER PRIMARY KEY NOT NULL,\n    name VARCHAR(200)\n);",
            "metadata": {},
            "outputs": [
                {
                    "output_type": "display_data",
                    "data": {
                        "text/html": "Commands completed successfully"
                    },
                    "metadata": {}
                },
                {
                    "output_type": "display_data",
                    "data": {
                        "text/html": "Total execution time: 0:00:00.006640"
                    },
                    "metadata": {}
                }
            ],
            "execution_count": 8
        },
        {
            "cell_type": "code",
            "source": "ALTER TABLE users ALTER COLUMN id SET DEFAULT nextval('user_id_seq');",
            "metadata": {},
            "outputs": [
                {
                    "output_type": "display_data",
                    "data": {
                        "text/html": "Commands completed successfully"
                    },
                    "metadata": {}
                },
                {
                    "output_type": "display_data",
                    "data": {
                        "text/html": "Total execution time: 0:00:00.006222"
                    },
                    "metadata": {}
                }
            ],
            "execution_count": 9
        },
        {
            "cell_type": "code",
            "source": "ALTER SEQUENCE user_id_seq OWNED BY public.users.id;",
            "metadata": {},
            "outputs": [
                {
                    "output_type": "display_data",
                    "data": {
                        "text/html": "Commands completed successfully"
                    },
                    "metadata": {}
                },
                {
                    "output_type": "display_data",
                    "data": {
                        "text/html": "Total execution time: 0:00:00.001449"
                    },
                    "metadata": {}
                }
            ],
            "execution_count": 10
        },
        {
            "cell_type": "code",
            "source": "CREATE INDEX users_name_idx ON public.users(name);",
            "metadata": {},
            "outputs": [
                {
                    "output_type": "display_data",
                    "data": {
                        "text/html": "Commands completed successfully"
                    },
                    "metadata": {}
                },
                {
                    "output_type": "display_data",
                    "data": {
                        "text/html": "Total execution time: 0:00:00.005220"
                    },
                    "metadata": {}
                }
            ],
            "execution_count": 11
        },
        {
            "cell_type": "code",
            "source": "CREATE UNIQUE INDEX items_name_idx ON public.items(name);",
            "metadata": {},
            "outputs": [
                {
                    "output_type": "display_data",
                    "data": {
                        "text/html": "Commands completed successfully"
                    },
                    "metadata": {}
                },
                {
                    "output_type": "display_data",
                    "data": {
                        "text/html": "Total execution time: 0:00:00.007827"
                    },
                    "metadata": {}
                }
            ],
            "execution_count": 12
        },
        {
            "cell_type": "code",
            "source": "-- CREATE INDEX index_name ON table_name(column1, column2);",
            "metadata": {},
            "outputs": [],
            "execution_count": 13
        },
        {
            "cell_type": "code",
            "source": "REINDEX INDEX users_name_idx;",
            "metadata": {},
            "outputs": [
                {
                    "output_type": "display_data",
                    "data": {
                        "text/html": "Commands completed successfully"
                    },
                    "metadata": {}
                },
                {
                    "output_type": "display_data",
                    "data": {
                        "text/html": "Total execution time: 0:00:00.006142"
                    },
                    "metadata": {}
                }
            ],
            "execution_count": 14
        },
        {
            "cell_type": "code",
            "source": "-- REINDEX TABLE table_name;\n-- REINDEX DATABASE database_name;",
            "metadata": {},
            "outputs": []
        },
        {
            "cell_type": "code",
            "source": "-- DROP TABLE users;\n-- DROP TABLE users CASCADE;\n-- DROP TABLE IF EXISTS users;",
            "metadata": {},
            "outputs": []
        },
        {
            "cell_type": "code",
            "source": "",
            "metadata": {},
            "outputs": []
        }
    ]
}