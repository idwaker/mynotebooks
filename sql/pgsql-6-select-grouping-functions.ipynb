{
    "metadata": {
        "kernelspec": {
            "name": "SQL",
            "display_name": "SQL",
            "language": "sql"
        },
        "language_info": {
            "name": "sql",
            "version": ""
        }
    },
    "nbformat_minor": 2,
    "nbformat": 4,
    "cells": [
        {
            "cell_type": "code",
            "source": "SELECT MAX(employees.salary) FROM employees;",
            "metadata": {},
            "outputs": [
                {
                    "output_type": "display_data",
                    "data": {
                        "text/html": "(1 row(s) affected)"
                    },
                    "metadata": {}
                },
                {
                    "output_type": "display_data",
                    "data": {
                        "text/html": "Total execution time: 0:00:00.013520"
                    },
                    "metadata": {}
                },
                {
                    "output_type": "execute_result",
                    "execution_count": 1,
                    "data": {
                        "application/vnd.dataresource+json": {
                            "schema": {
                                "fields": [
                                    {
                                        "name": "max"
                                    }
                                ]
                            },
                            "data": [
                                {
                                    "0": "899971.34"
                                }
                            ]
                        },
                        "text/html": "<table><tr><th>max</th></tr><tr><td>899971.34</td></tr></table>"
                    },
                    "metadata": {}
                }
            ],
            "execution_count": 1
        },
        {
            "cell_type": "code",
            "source": "SELECT MIN(salary) FROM employees;",
            "metadata": {},
            "outputs": [
                {
                    "output_type": "display_data",
                    "data": {
                        "text/html": "(1 row(s) affected)"
                    },
                    "metadata": {}
                },
                {
                    "output_type": "display_data",
                    "data": {
                        "text/html": "Total execution time: 0:00:00.006062"
                    },
                    "metadata": {}
                },
                {
                    "output_type": "execute_result",
                    "execution_count": 2,
                    "data": {
                        "application/vnd.dataresource+json": {
                            "schema": {
                                "fields": [
                                    {
                                        "name": "min"
                                    }
                                ]
                            },
                            "data": [
                                {
                                    "0": "11353.80"
                                }
                            ]
                        },
                        "text/html": "<table><tr><th>min</th></tr><tr><td>11353.80</td></tr></table>"
                    },
                    "metadata": {}
                }
            ],
            "execution_count": 2
        },
        {
            "cell_type": "code",
            "source": "SELECT AVG(salary) FROM employees;",
            "metadata": {},
            "outputs": [
                {
                    "output_type": "display_data",
                    "data": {
                        "text/html": "(1 row(s) affected)"
                    },
                    "metadata": {}
                },
                {
                    "output_type": "display_data",
                    "data": {
                        "text/html": "Total execution time: 0:00:00.007674"
                    },
                    "metadata": {}
                },
                {
                    "output_type": "execute_result",
                    "execution_count": 3,
                    "data": {
                        "application/vnd.dataresource+json": {
                            "schema": {
                                "fields": [
                                    {
                                        "name": "avg"
                                    }
                                ]
                            },
                            "data": [
                                {
                                    "0": "458378.456145161290"
                                }
                            ]
                        },
                        "text/html": "<table><tr><th>avg</th></tr><tr><td>458378.456145161290</td></tr></table>"
                    },
                    "metadata": {}
                }
            ],
            "execution_count": 3
        },
        {
            "cell_type": "code",
            "source": "SELECT ROUND(AVG(salary)) FROM employees;",
            "metadata": {},
            "outputs": [
                {
                    "output_type": "display_data",
                    "data": {
                        "text/html": "(1 row(s) affected)"
                    },
                    "metadata": {}
                },
                {
                    "output_type": "display_data",
                    "data": {
                        "text/html": "Total execution time: 0:00:00.005594"
                    },
                    "metadata": {}
                },
                {
                    "output_type": "execute_result",
                    "execution_count": 4,
                    "data": {
                        "application/vnd.dataresource+json": {
                            "schema": {
                                "fields": [
                                    {
                                        "name": "round"
                                    }
                                ]
                            },
                            "data": [
                                {
                                    "0": "458378"
                                }
                            ]
                        },
                        "text/html": "<table><tr><th>round</th></tr><tr><td>458378</td></tr></table>"
                    },
                    "metadata": {}
                }
            ],
            "execution_count": 4
        },
        {
            "cell_type": "code",
            "source": "SELECT COUNT(employees.id) FROM employees;",
            "metadata": {},
            "outputs": [
                {
                    "output_type": "display_data",
                    "data": {
                        "text/html": "(1 row(s) affected)"
                    },
                    "metadata": {}
                },
                {
                    "output_type": "display_data",
                    "data": {
                        "text/html": "Total execution time: 0:00:00.003238"
                    },
                    "metadata": {}
                },
                {
                    "output_type": "execute_result",
                    "execution_count": 5,
                    "data": {
                        "application/vnd.dataresource+json": {
                            "schema": {
                                "fields": [
                                    {
                                        "name": "count"
                                    }
                                ]
                            },
                            "data": [
                                {
                                    "0": "620"
                                }
                            ]
                        },
                        "text/html": "<table><tr><th>count</th></tr><tr><td>620</td></tr></table>"
                    },
                    "metadata": {}
                }
            ],
            "execution_count": 5
        },
        {
            "cell_type": "code",
            "source": "-- count doesnot count for NULL values\nSELECT COUNT(employees.email) FROM employees;",
            "metadata": {},
            "outputs": [
                {
                    "output_type": "display_data",
                    "data": {
                        "text/html": "(1 row(s) affected)"
                    },
                    "metadata": {}
                },
                {
                    "output_type": "display_data",
                    "data": {
                        "text/html": "Total execution time: 0:00:00.004072"
                    },
                    "metadata": {}
                },
                {
                    "output_type": "execute_result",
                    "execution_count": 6,
                    "data": {
                        "application/vnd.dataresource+json": {
                            "schema": {
                                "fields": [
                                    {
                                        "name": "count"
                                    }
                                ]
                            },
                            "data": [
                                {
                                    "0": "570"
                                }
                            ]
                        },
                        "text/html": "<table><tr><th>count</th></tr><tr><td>570</td></tr></table>"
                    },
                    "metadata": {}
                }
            ],
            "execution_count": 6
        },
        {
            "cell_type": "code",
            "source": "SELECT SUM(salary) FROM employees;",
            "metadata": {},
            "outputs": [
                {
                    "output_type": "display_data",
                    "data": {
                        "text/html": "(1 row(s) affected)"
                    },
                    "metadata": {}
                },
                {
                    "output_type": "display_data",
                    "data": {
                        "text/html": "Total execution time: 0:00:00.011468"
                    },
                    "metadata": {}
                },
                {
                    "output_type": "execute_result",
                    "execution_count": 7,
                    "data": {
                        "application/vnd.dataresource+json": {
                            "schema": {
                                "fields": [
                                    {
                                        "name": "sum"
                                    }
                                ]
                            },
                            "data": [
                                {
                                    "0": "284194642.81"
                                }
                            ]
                        },
                        "text/html": "<table><tr><th>sum</th></tr><tr><td>284194642.81</td></tr></table>"
                    },
                    "metadata": {}
                }
            ],
            "execution_count": 7
        },
        {
            "cell_type": "code",
            "source": "SELECT SUM(salary) FROM employees WHERE department='Books';",
            "metadata": {},
            "outputs": [
                {
                    "output_type": "display_data",
                    "data": {
                        "text/html": "(1 row(s) affected)"
                    },
                    "metadata": {}
                },
                {
                    "output_type": "display_data",
                    "data": {
                        "text/html": "Total execution time: 0:00:00.003511"
                    },
                    "metadata": {}
                },
                {
                    "output_type": "execute_result",
                    "execution_count": 8,
                    "data": {
                        "application/vnd.dataresource+json": {
                            "schema": {
                                "fields": [
                                    {
                                        "name": "sum"
                                    }
                                ]
                            },
                            "data": [
                                {
                                    "0": "25820242.10"
                                }
                            ]
                        },
                        "text/html": "<table><tr><th>sum</th></tr><tr><td>25820242.10</td></tr></table>"
                    },
                    "metadata": {}
                }
            ],
            "execution_count": 8
        },
        {
            "cell_type": "code",
            "source": "SELECT SUM(salary) FROM employees\nGROUP BY department;",
            "metadata": {},
            "outputs": [
                {
                    "output_type": "display_data",
                    "data": {
                        "text/html": "(13 row(s) affected)"
                    },
                    "metadata": {}
                },
                {
                    "output_type": "display_data",
                    "data": {
                        "text/html": "Total execution time: 0:00:00.011063"
                    },
                    "metadata": {}
                },
                {
                    "output_type": "execute_result",
                    "execution_count": 9,
                    "data": {
                        "application/vnd.dataresource+json": {
                            "schema": {
                                "fields": [
                                    {
                                        "name": "sum"
                                    }
                                ]
                            },
                            "data": [
                                {
                                    "0": "25079192.53"
                                },
                                {
                                    "0": "25786425.48"
                                },
                                {
                                    "0": "17778718.15"
                                },
                                {
                                    "0": "22670760.07"
                                },
                                {
                                    "0": "25820242.10"
                                },
                                {
                                    "0": "22676320.54"
                                },
                                {
                                    "0": "16322218.33"
                                },
                                {
                                    "0": "21814778.53"
                                },
                                {
                                    "0": "19858063.46"
                                },
                                {
                                    "0": "26952342.19"
                                },
                                {
                                    "0": "24002588.28"
                                },
                                {
                                    "0": "14901184.01"
                                },
                                {
                                    "0": "20531809.14"
                                }
                            ]
                        },
                        "text/html": "<table><tr><th>sum</th></tr><tr><td>25079192.53</td></tr><tr><td>25786425.48</td></tr><tr><td>17778718.15</td></tr><tr><td>22670760.07</td></tr><tr><td>25820242.10</td></tr><tr><td>22676320.54</td></tr><tr><td>16322218.33</td></tr><tr><td>21814778.53</td></tr><tr><td>19858063.46</td></tr><tr><td>26952342.19</td></tr><tr><td>24002588.28</td></tr><tr><td>14901184.01</td></tr><tr><td>20531809.14</td></tr></table>"
                    },
                    "metadata": {}
                }
            ],
            "execution_count": 9
        },
        {
            "cell_type": "code",
            "source": "SELECT department, SUM(salary) FROM employees\nGROUP BY department;",
            "metadata": {},
            "outputs": [
                {
                    "output_type": "display_data",
                    "data": {
                        "text/html": "(13 row(s) affected)"
                    },
                    "metadata": {}
                },
                {
                    "output_type": "display_data",
                    "data": {
                        "text/html": "Total execution time: 0:00:00.007054"
                    },
                    "metadata": {}
                },
                {
                    "output_type": "execute_result",
                    "execution_count": 10,
                    "data": {
                        "application/vnd.dataresource+json": {
                            "schema": {
                                "fields": [
                                    {
                                        "name": "department"
                                    },
                                    {
                                        "name": "sum"
                                    }
                                ]
                            },
                            "data": [
                                {
                                    "0": "Grocery",
                                    "1": "25079192.53"
                                },
                                {
                                    "0": "Movies",
                                    "1": "25786425.48"
                                },
                                {
                                    "0": "Clothing",
                                    "1": "17778718.15"
                                },
                                {
                                    "0": "Jewelery",
                                    "1": "22670760.07"
                                },
                                {
                                    "0": "Books",
                                    "1": "25820242.10"
                                },
                                {
                                    "0": "Music",
                                    "1": "22676320.54"
                                },
                                {
                                    "0": "Automotive",
                                    "1": "16322218.33"
                                },
                                {
                                    "0": "Garden",
                                    "1": "21814778.53"
                                },
                                {
                                    "0": "Toys",
                                    "1": "19858063.46"
                                },
                                {
                                    "0": "Shoes",
                                    "1": "26952342.19"
                                },
                                {
                                    "0": "Games",
                                    "1": "24002588.28"
                                },
                                {
                                    "0": "Beauty",
                                    "1": "14901184.01"
                                },
                                {
                                    "0": "Computers",
                                    "1": "20531809.14"
                                }
                            ]
                        },
                        "text/html": "<table><tr><th>department</th><th>sum</th></tr><tr><td>Grocery</td><td>25079192.53</td></tr><tr><td>Movies</td><td>25786425.48</td></tr><tr><td>Clothing</td><td>17778718.15</td></tr><tr><td>Jewelery</td><td>22670760.07</td></tr><tr><td>Books</td><td>25820242.10</td></tr><tr><td>Music</td><td>22676320.54</td></tr><tr><td>Automotive</td><td>16322218.33</td></tr><tr><td>Garden</td><td>21814778.53</td></tr><tr><td>Toys</td><td>19858063.46</td></tr><tr><td>Shoes</td><td>26952342.19</td></tr><tr><td>Games</td><td>24002588.28</td></tr><tr><td>Beauty</td><td>14901184.01</td></tr><tr><td>Computers</td><td>20531809.14</td></tr></table>"
                    },
                    "metadata": {}
                }
            ],
            "execution_count": 10
        },
        {
            "cell_type": "code",
            "source": "SELECT department, SUM(salary) FROM employees\nWHERE region_id IN (2, 3, 4)\nGROUP BY department;",
            "metadata": {},
            "outputs": [
                {
                    "output_type": "display_data",
                    "data": {
                        "text/html": "(13 row(s) affected)"
                    },
                    "metadata": {}
                },
                {
                    "output_type": "display_data",
                    "data": {
                        "text/html": "Total execution time: 0:00:00.005281"
                    },
                    "metadata": {}
                },
                {
                    "output_type": "execute_result",
                    "execution_count": 11,
                    "data": {
                        "application/vnd.dataresource+json": {
                            "schema": {
                                "fields": [
                                    {
                                        "name": "department"
                                    },
                                    {
                                        "name": "sum"
                                    }
                                ]
                            },
                            "data": [
                                {
                                    "0": "Grocery",
                                    "1": "6902446.43"
                                },
                                {
                                    "0": "Movies",
                                    "1": "8005953.45"
                                },
                                {
                                    "0": "Books",
                                    "1": "9882350.62"
                                },
                                {
                                    "0": "Clothing",
                                    "1": "2714635.62"
                                },
                                {
                                    "0": "Jewelery",
                                    "1": "9126909.76"
                                },
                                {
                                    "0": "Music",
                                    "1": "8081256.78"
                                },
                                {
                                    "0": "Automotive",
                                    "1": "6492628.69"
                                },
                                {
                                    "0": "Garden",
                                    "1": "4585658.17"
                                },
                                {
                                    "0": "Toys",
                                    "1": "8174306.70"
                                },
                                {
                                    "0": "Shoes",
                                    "1": "6088405.09"
                                },
                                {
                                    "0": "Games",
                                    "1": "8475276.30"
                                },
                                {
                                    "0": "Computers",
                                    "1": "9073141.38"
                                },
                                {
                                    "0": "Beauty",
                                    "1": "8204927.23"
                                }
                            ]
                        },
                        "text/html": "<table><tr><th>department</th><th>sum</th></tr><tr><td>Grocery</td><td>6902446.43</td></tr><tr><td>Movies</td><td>8005953.45</td></tr><tr><td>Books</td><td>9882350.62</td></tr><tr><td>Clothing</td><td>2714635.62</td></tr><tr><td>Jewelery</td><td>9126909.76</td></tr><tr><td>Music</td><td>8081256.78</td></tr><tr><td>Automotive</td><td>6492628.69</td></tr><tr><td>Garden</td><td>4585658.17</td></tr><tr><td>Toys</td><td>8174306.70</td></tr><tr><td>Shoes</td><td>6088405.09</td></tr><tr><td>Games</td><td>8475276.30</td></tr><tr><td>Computers</td><td>9073141.38</td></tr><tr><td>Beauty</td><td>8204927.23</td></tr></table>"
                    },
                    "metadata": {}
                }
            ],
            "execution_count": 11
        },
        {
            "cell_type": "code",
            "source": "SELECT department, COUNT(id) FROM employees\nGROUP BY department;",
            "metadata": {},
            "outputs": [
                {
                    "output_type": "display_data",
                    "data": {
                        "text/html": "(13 row(s) affected)"
                    },
                    "metadata": {}
                },
                {
                    "output_type": "display_data",
                    "data": {
                        "text/html": "Total execution time: 0:00:00.004459"
                    },
                    "metadata": {}
                },
                {
                    "output_type": "execute_result",
                    "execution_count": 12,
                    "data": {
                        "application/vnd.dataresource+json": {
                            "schema": {
                                "fields": [
                                    {
                                        "name": "department"
                                    },
                                    {
                                        "name": "count"
                                    }
                                ]
                            },
                            "data": [
                                {
                                    "0": "Grocery",
                                    "1": "50"
                                },
                                {
                                    "0": "Movies",
                                    "1": "53"
                                },
                                {
                                    "0": "Clothing",
                                    "1": "39"
                                },
                                {
                                    "0": "Jewelery",
                                    "1": "49"
                                },
                                {
                                    "0": "Books",
                                    "1": "56"
                                },
                                {
                                    "0": "Music",
                                    "1": "47"
                                },
                                {
                                    "0": "Automotive",
                                    "1": "43"
                                },
                                {
                                    "0": "Garden",
                                    "1": "56"
                                },
                                {
                                    "0": "Toys",
                                    "1": "42"
                                },
                                {
                                    "0": "Shoes",
                                    "1": "55"
                                },
                                {
                                    "0": "Games",
                                    "1": "55"
                                },
                                {
                                    "0": "Beauty",
                                    "1": "34"
                                },
                                {
                                    "0": "Computers",
                                    "1": "41"
                                }
                            ]
                        },
                        "text/html": "<table><tr><th>department</th><th>count</th></tr><tr><td>Grocery</td><td>50</td></tr><tr><td>Movies</td><td>53</td></tr><tr><td>Clothing</td><td>39</td></tr><tr><td>Jewelery</td><td>49</td></tr><tr><td>Books</td><td>56</td></tr><tr><td>Music</td><td>47</td></tr><tr><td>Automotive</td><td>43</td></tr><tr><td>Garden</td><td>56</td></tr><tr><td>Toys</td><td>42</td></tr><tr><td>Shoes</td><td>55</td></tr><tr><td>Games</td><td>55</td></tr><tr><td>Beauty</td><td>34</td></tr><tr><td>Computers</td><td>41</td></tr></table>"
                    },
                    "metadata": {}
                }
            ],
            "execution_count": 12
        },
        {
            "cell_type": "code",
            "source": "SELECT department, COUNT(id) total_employees, ROUND(AVG(salary)) \"Average Salary\",\nMIN(salary) \"Minimum Salary\", MAX(salary) \"Maximum Salary\"\nFROM employees\nGROUP BY department\nORDER BY total_employees DESC;",
            "metadata": {},
            "outputs": [
                {
                    "output_type": "display_data",
                    "data": {
                        "text/html": "(13 row(s) affected)"
                    },
                    "metadata": {}
                },
                {
                    "output_type": "display_data",
                    "data": {
                        "text/html": "Total execution time: 0:00:00.011824"
                    },
                    "metadata": {}
                },
                {
                    "output_type": "execute_result",
                    "execution_count": 17,
                    "data": {
                        "application/vnd.dataresource+json": {
                            "schema": {
                                "fields": [
                                    {
                                        "name": "department"
                                    },
                                    {
                                        "name": "total_employees"
                                    },
                                    {
                                        "name": "Average Salary"
                                    },
                                    {
                                        "name": "Minimum Salary"
                                    },
                                    {
                                        "name": "Maximum Salary"
                                    }
                                ]
                            },
                            "data": [
                                {
                                    "0": "Garden",
                                    "1": "56",
                                    "2": "389550",
                                    "3": "11353.80",
                                    "4": "882000.75"
                                },
                                {
                                    "0": "Books",
                                    "1": "56",
                                    "2": "461076",
                                    "3": "11442.83",
                                    "4": "893687.39"
                                },
                                {
                                    "0": "Games",
                                    "1": "55",
                                    "2": "436411",
                                    "3": "21754.91",
                                    "4": "861543.05"
                                },
                                {
                                    "0": "Shoes",
                                    "1": "55",
                                    "2": "490043",
                                    "3": "46052.14",
                                    "4": "895204.82"
                                },
                                {
                                    "0": "Movies",
                                    "1": "53",
                                    "2": "486536",
                                    "3": "33618.42",
                                    "4": "876598.50"
                                },
                                {
                                    "0": "Grocery",
                                    "1": "50",
                                    "2": "501584",
                                    "3": "29931.31",
                                    "4": "883227.93"
                                },
                                {
                                    "0": "Jewelery",
                                    "1": "49",
                                    "2": "462669",
                                    "3": "28266.37",
                                    "4": "870960.74"
                                },
                                {
                                    "0": "Music",
                                    "1": "47",
                                    "2": "482475",
                                    "3": "50590.56",
                                    "4": "899971.34"
                                },
                                {
                                    "0": "Automotive",
                                    "1": "43",
                                    "2": "379586",
                                    "3": "13182.30",
                                    "4": "891362.71"
                                },
                                {
                                    "0": "Toys",
                                    "1": "42",
                                    "2": "472811",
                                    "3": "52936.25",
                                    "4": "884220.42"
                                },
                                {
                                    "0": "Computers",
                                    "1": "41",
                                    "2": "500776",
                                    "3": "32663.24",
                                    "4": "891062.15"
                                },
                                {
                                    "0": "Clothing",
                                    "1": "39",
                                    "2": "455865",
                                    "3": "14653.36",
                                    "4": "876688.06"
                                },
                                {
                                    "0": "Beauty",
                                    "1": "34",
                                    "2": "438270",
                                    "3": "15189.47",
                                    "4": "883376.00"
                                }
                            ]
                        },
                        "text/html": "<table><tr><th>department</th><th>total_employees</th><th>Average Salary</th><th>Minimum Salary</th><th>Maximum Salary</th></tr><tr><td>Garden</td><td>56</td><td>389550</td><td>11353.80</td><td>882000.75</td></tr><tr><td>Books</td><td>56</td><td>461076</td><td>11442.83</td><td>893687.39</td></tr><tr><td>Games</td><td>55</td><td>436411</td><td>21754.91</td><td>861543.05</td></tr><tr><td>Shoes</td><td>55</td><td>490043</td><td>46052.14</td><td>895204.82</td></tr><tr><td>Movies</td><td>53</td><td>486536</td><td>33618.42</td><td>876598.50</td></tr><tr><td>Grocery</td><td>50</td><td>501584</td><td>29931.31</td><td>883227.93</td></tr><tr><td>Jewelery</td><td>49</td><td>462669</td><td>28266.37</td><td>870960.74</td></tr><tr><td>Music</td><td>47</td><td>482475</td><td>50590.56</td><td>899971.34</td></tr><tr><td>Automotive</td><td>43</td><td>379586</td><td>13182.30</td><td>891362.71</td></tr><tr><td>Toys</td><td>42</td><td>472811</td><td>52936.25</td><td>884220.42</td></tr><tr><td>Computers</td><td>41</td><td>500776</td><td>32663.24</td><td>891062.15</td></tr><tr><td>Clothing</td><td>39</td><td>455865</td><td>14653.36</td><td>876688.06</td></tr><tr><td>Beauty</td><td>34</td><td>438270</td><td>15189.47</td><td>883376.00</td></tr></table>"
                    },
                    "metadata": {}
                }
            ],
            "execution_count": 17
        },
        {
            "cell_type": "code",
            "source": "SELECT department, gender, count(id) AS total_employees\nFROM employees\nGROUP BY department, gender\nORDER BY department;",
            "metadata": {},
            "outputs": [
                {
                    "output_type": "display_data",
                    "data": {
                        "text/html": "(26 row(s) affected)"
                    },
                    "metadata": {}
                },
                {
                    "output_type": "display_data",
                    "data": {
                        "text/html": "Total execution time: 0:00:00.013809"
                    },
                    "metadata": {}
                },
                {
                    "output_type": "execute_result",
                    "execution_count": 19,
                    "data": {
                        "application/vnd.dataresource+json": {
                            "schema": {
                                "fields": [
                                    {
                                        "name": "department"
                                    },
                                    {
                                        "name": "gender"
                                    },
                                    {
                                        "name": "total_employees"
                                    }
                                ]
                            },
                            "data": [
                                {
                                    "0": "Automotive",
                                    "1": "M",
                                    "2": "26"
                                },
                                {
                                    "0": "Automotive",
                                    "1": "F",
                                    "2": "17"
                                },
                                {
                                    "0": "Beauty",
                                    "1": "M",
                                    "2": "16"
                                },
                                {
                                    "0": "Beauty",
                                    "1": "F",
                                    "2": "18"
                                },
                                {
                                    "0": "Books",
                                    "1": "F",
                                    "2": "34"
                                },
                                {
                                    "0": "Books",
                                    "1": "M",
                                    "2": "22"
                                },
                                {
                                    "0": "Clothing",
                                    "1": "F",
                                    "2": "18"
                                },
                                {
                                    "0": "Clothing",
                                    "1": "M",
                                    "2": "21"
                                },
                                {
                                    "0": "Computers",
                                    "1": "M",
                                    "2": "17"
                                },
                                {
                                    "0": "Computers",
                                    "1": "F",
                                    "2": "24"
                                },
                                {
                                    "0": "Games",
                                    "1": "M",
                                    "2": "24"
                                },
                                {
                                    "0": "Games",
                                    "1": "F",
                                    "2": "31"
                                },
                                {
                                    "0": "Garden",
                                    "1": "M",
                                    "2": "27"
                                },
                                {
                                    "0": "Garden",
                                    "1": "F",
                                    "2": "29"
                                },
                                {
                                    "0": "Grocery",
                                    "1": "M",
                                    "2": "23"
                                },
                                {
                                    "0": "Grocery",
                                    "1": "F",
                                    "2": "27"
                                },
                                {
                                    "0": "Jewelery",
                                    "1": "M",
                                    "2": "23"
                                },
                                {
                                    "0": "Jewelery",
                                    "1": "F",
                                    "2": "26"
                                },
                                {
                                    "0": "Movies",
                                    "1": "M",
                                    "2": "27"
                                },
                                {
                                    "0": "Movies",
                                    "1": "F",
                                    "2": "26"
                                },
                                {
                                    "0": "Music",
                                    "1": "M",
                                    "2": "27"
                                },
                                {
                                    "0": "Music",
                                    "1": "F",
                                    "2": "20"
                                },
                                {
                                    "0": "Shoes",
                                    "1": "M",
                                    "2": "27"
                                },
                                {
                                    "0": "Shoes",
                                    "1": "F",
                                    "2": "28"
                                },
                                {
                                    "0": "Toys",
                                    "1": "F",
                                    "2": "20"
                                },
                                {
                                    "0": "Toys",
                                    "1": "M",
                                    "2": "22"
                                }
                            ]
                        },
                        "text/html": "<table><tr><th>department</th><th>gender</th><th>total_employees</th></tr><tr><td>Automotive</td><td>M</td><td>26</td></tr><tr><td>Automotive</td><td>F</td><td>17</td></tr><tr><td>Beauty</td><td>M</td><td>16</td></tr><tr><td>Beauty</td><td>F</td><td>18</td></tr><tr><td>Books</td><td>F</td><td>34</td></tr><tr><td>Books</td><td>M</td><td>22</td></tr><tr><td>Clothing</td><td>F</td><td>18</td></tr><tr><td>Clothing</td><td>M</td><td>21</td></tr><tr><td>Computers</td><td>M</td><td>17</td></tr><tr><td>Computers</td><td>F</td><td>24</td></tr><tr><td>Games</td><td>M</td><td>24</td></tr><tr><td>Games</td><td>F</td><td>31</td></tr><tr><td>Garden</td><td>M</td><td>27</td></tr><tr><td>Garden</td><td>F</td><td>29</td></tr><tr><td>Grocery</td><td>M</td><td>23</td></tr><tr><td>Grocery</td><td>F</td><td>27</td></tr><tr><td>Jewelery</td><td>M</td><td>23</td></tr><tr><td>Jewelery</td><td>F</td><td>26</td></tr><tr><td>Movies</td><td>M</td><td>27</td></tr><tr><td>Movies</td><td>F</td><td>26</td></tr><tr><td>Music</td><td>M</td><td>27</td></tr><tr><td>Music</td><td>F</td><td>20</td></tr><tr><td>Shoes</td><td>M</td><td>27</td></tr><tr><td>Shoes</td><td>F</td><td>28</td></tr><tr><td>Toys</td><td>F</td><td>20</td></tr><tr><td>Toys</td><td>M</td><td>22</td></tr></table>"
                    },
                    "metadata": {}
                }
            ],
            "execution_count": 19
        },
        {
            "cell_type": "code",
            "source": "SELECT department, gender, count(id) AS total_employees\nFROM employees\nGROUP BY department, gender\nHAVING count(id) > 25\nORDER BY department;",
            "metadata": {},
            "outputs": [
                {
                    "output_type": "display_data",
                    "data": {
                        "text/html": "(12 row(s) affected)"
                    },
                    "metadata": {}
                },
                {
                    "output_type": "display_data",
                    "data": {
                        "text/html": "Total execution time: 0:00:00.007908"
                    },
                    "metadata": {}
                },
                {
                    "output_type": "execute_result",
                    "execution_count": 20,
                    "data": {
                        "application/vnd.dataresource+json": {
                            "schema": {
                                "fields": [
                                    {
                                        "name": "department"
                                    },
                                    {
                                        "name": "gender"
                                    },
                                    {
                                        "name": "total_employees"
                                    }
                                ]
                            },
                            "data": [
                                {
                                    "0": "Automotive",
                                    "1": "M",
                                    "2": "26"
                                },
                                {
                                    "0": "Books",
                                    "1": "F",
                                    "2": "34"
                                },
                                {
                                    "0": "Games",
                                    "1": "F",
                                    "2": "31"
                                },
                                {
                                    "0": "Garden",
                                    "1": "F",
                                    "2": "29"
                                },
                                {
                                    "0": "Garden",
                                    "1": "M",
                                    "2": "27"
                                },
                                {
                                    "0": "Grocery",
                                    "1": "F",
                                    "2": "27"
                                },
                                {
                                    "0": "Jewelery",
                                    "1": "F",
                                    "2": "26"
                                },
                                {
                                    "0": "Movies",
                                    "1": "F",
                                    "2": "26"
                                },
                                {
                                    "0": "Movies",
                                    "1": "M",
                                    "2": "27"
                                },
                                {
                                    "0": "Music",
                                    "1": "M",
                                    "2": "27"
                                },
                                {
                                    "0": "Shoes",
                                    "1": "M",
                                    "2": "27"
                                },
                                {
                                    "0": "Shoes",
                                    "1": "F",
                                    "2": "28"
                                }
                            ]
                        },
                        "text/html": "<table><tr><th>department</th><th>gender</th><th>total_employees</th></tr><tr><td>Automotive</td><td>M</td><td>26</td></tr><tr><td>Books</td><td>F</td><td>34</td></tr><tr><td>Games</td><td>F</td><td>31</td></tr><tr><td>Garden</td><td>F</td><td>29</td></tr><tr><td>Garden</td><td>M</td><td>27</td></tr><tr><td>Grocery</td><td>F</td><td>27</td></tr><tr><td>Jewelery</td><td>F</td><td>26</td></tr><tr><td>Movies</td><td>F</td><td>26</td></tr><tr><td>Movies</td><td>M</td><td>27</td></tr><tr><td>Music</td><td>M</td><td>27</td></tr><tr><td>Shoes</td><td>M</td><td>27</td></tr><tr><td>Shoes</td><td>F</td><td>28</td></tr></table>"
                    },
                    "metadata": {}
                }
            ],
            "execution_count": 20
        },
        {
            "cell_type": "code",
            "source": "SELECT substring(email FROM position('@' IN email) + 1) AS domain, count(*)\nFROM employees\nWHERE email IS NOT NULL\nGROUP BY domain\nORDER BY count DESC;",
            "metadata": {},
            "outputs": [
                {
                    "output_type": "display_data",
                    "data": {
                        "text/html": "(340 row(s) affected)"
                    },
                    "metadata": {}
                },
                {
                    "output_type": "display_data",
                    "data": {
                        "text/html": "Total execution time: 0:00:00.018444"
                    },
                    "metadata": {}
                },
                {
                    "output_type": "execute_result",
                    "metadata": {},
                    "execution_count": 4,
                    "data": {
                        "application/vnd.dataresource+json": {
                            "schema": {
                                "fields": [
                                    {
                                        "name": "domain"
                                    },
                                    {
                                        "name": "count"
                                    }
                                ]
                            },
                            "data": [
                                {
                                    "0": "china.com.cn",
                                    "1": "6"
                                },
                                {
                                    "0": "macromedia.com",
                                    "1": "5"
                                },
                                {
                                    "0": "fc2.com",
                                    "1": "4"
                                },
                                {
                                    "0": "forbes.com",
                                    "1": "4"
                                },
                                {
                                    "0": "pen.io",
                                    "1": "4"
                                },
                                {
                                    "0": "livejournal.com",
                                    "1": "4"
                                },
                                {
                                    "0": "angelfire.com",
                                    "1": "4"
                                },
                                {
                                    "0": "pinterest.com",
                                    "1": "4"
                                },
                                {
                                    "0": "over-blog.com",
                                    "1": "4"
                                },
                                {
                                    "0": "newyorker.com",
                                    "1": "4"
                                },
                                {
                                    "0": "google.fr",
                                    "1": "4"
                                },
                                {
                                    "0": "vinaora.com",
                                    "1": "4"
                                },
                                {
                                    "0": "kickstarter.com",
                                    "1": "4"
                                },
                                {
                                    "0": "abc.net.au",
                                    "1": "3"
                                },
                                {
                                    "0": "lulu.com",
                                    "1": "3"
                                },
                                {
                                    "0": "wikia.com",
                                    "1": "3"
                                },
                                {
                                    "0": "chicagotribune.com",
                                    "1": "3"
                                },
                                {
                                    "0": "google.it",
                                    "1": "3"
                                },
                                {
                                    "0": "spiegel.de",
                                    "1": "3"
                                },
                                {
                                    "0": "biglobe.ne.jp",
                                    "1": "3"
                                },
                                {
                                    "0": "who.int",
                                    "1": "3"
                                },
                                {
                                    "0": "domainmarket.com",
                                    "1": "3"
                                },
                                {
                                    "0": "hp.com",
                                    "1": "3"
                                },
                                {
                                    "0": "xing.com",
                                    "1": "3"
                                },
                                {
                                    "0": "tuttocitta.it",
                                    "1": "3"
                                },
                                {
                                    "0": "prlog.org",
                                    "1": "3"
                                },
                                {
                                    "0": "gmpg.org",
                                    "1": "3"
                                },
                                {
                                    "0": "google.com.br",
                                    "1": "3"
                                },
                                {
                                    "0": "w3.org",
                                    "1": "3"
                                },
                                {
                                    "0": "princeton.edu",
                                    "1": "3"
                                },
                                {
                                    "0": "bbb.org",
                                    "1": "3"
                                },
                                {
                                    "0": "github.io",
                                    "1": "3"
                                },
                                {
                                    "0": "cdc.gov",
                                    "1": "3"
                                },
                                {
                                    "0": "aol.com",
                                    "1": "3"
                                },
                                {
                                    "0": "blinklist.com",
                                    "1": "3"
                                },
                                {
                                    "0": "uol.com.br",
                                    "1": "3"
                                },
                                {
                                    "0": "ucoz.ru",
                                    "1": "3"
                                },
                                {
                                    "0": "europa.eu",
                                    "1": "3"
                                },
                                {
                                    "0": "friendfeed.com",
                                    "1": "3"
                                },
                                {
                                    "0": "cnn.com",
                                    "1": "3"
                                },
                                {
                                    "0": "woothemes.com",
                                    "1": "3"
                                },
                                {
                                    "0": "apple.com",
                                    "1": "3"
                                },
                                {
                                    "0": "google.ca",
                                    "1": "3"
                                },
                                {
                                    "0": "dailymail.co.uk",
                                    "1": "3"
                                },
                                {
                                    "0": "addthis.com",
                                    "1": "3"
                                },
                                {
                                    "0": "nba.com",
                                    "1": "3"
                                },
                                {
                                    "0": "ftc.gov",
                                    "1": "3"
                                },
                                {
                                    "0": "census.gov",
                                    "1": "3"
                                },
                                {
                                    "0": "hubpages.com",
                                    "1": "3"
                                },
                                {
                                    "0": "pcworld.com",
                                    "1": "3"
                                },
                                {
                                    "0": "imdb.com",
                                    "1": "3"
                                },
                                {
                                    "0": "oaic.gov.au",
                                    "1": "3"
                                },
                                {
                                    "0": "about.com",
                                    "1": "3"
                                },
                                {
                                    "0": "epa.gov",
                                    "1": "3"
                                },
                                {
                                    "0": "ucoz.com",
                                    "1": "2"
                                },
                                {
                                    "0": "ihg.com",
                                    "1": "2"
                                },
                                {
                                    "0": "youtu.be",
                                    "1": "2"
                                },
                                {
                                    "0": "virginia.edu",
                                    "1": "2"
                                },
                                {
                                    "0": "cargocollective.com",
                                    "1": "2"
                                },
                                {
                                    "0": "wsj.com",
                                    "1": "2"
                                },
                                {
                                    "0": "va.gov",
                                    "1": "2"
                                },
                                {
                                    "0": "mashable.com",
                                    "1": "2"
                                },
                                {
                                    "0": "nsw.gov.au",
                                    "1": "2"
                                },
                                {
                                    "0": "businessinsider.com",
                                    "1": "2"
                                },
                                {
                                    "0": "mysql.com",
                                    "1": "2"
                                },
                                {
                                    "0": "artisteer.com",
                                    "1": "2"
                                },
                                {
                                    "0": "ameblo.jp",
                                    "1": "2"
                                },
                                {
                                    "0": "dion.ne.jp",
                                    "1": "2"
                                },
                                {
                                    "0": "seattletimes.com",
                                    "1": "2"
                                },
                                {
                                    "0": "wiley.com",
                                    "1": "2"
                                },
                                {
                                    "0": "people.com.cn",
                                    "1": "2"
                                },
                                {
                                    "0": "statcounter.com",
                                    "1": "2"
                                },
                                {
                                    "0": "wikispaces.com",
                                    "1": "2"
                                },
                                {
                                    "0": "adobe.com",
                                    "1": "2"
                                },
                                {
                                    "0": "aboutads.info",
                                    "1": "2"
                                },
                                {
                                    "0": "myspace.com",
                                    "1": "2"
                                },
                                {
                                    "0": "ucla.edu",
                                    "1": "2"
                                },
                                {
                                    "0": "arstechnica.com",
                                    "1": "2"
                                },
                                {
                                    "0": "e-recht24.de",
                                    "1": "2"
                                },
                                {
                                    "0": "marketwatch.com",
                                    "1": "2"
                                },
                                {
                                    "0": "paypal.com",
                                    "1": "2"
                                },
                                {
                                    "0": "sakura.ne.jp",
                                    "1": "2"
                                },
                                {
                                    "0": "hud.gov",
                                    "1": "2"
                                },
                                {
                                    "0": "sourceforge.net",
                                    "1": "2"
                                },
                                {
                                    "0": "ezinearticles.com",
                                    "1": "2"
                                },
                                {
                                    "0": "technorati.com",
                                    "1": "2"
                                },
                                {
                                    "0": "ifeng.com",
                                    "1": "2"
                                },
                                {
                                    "0": "oracle.com",
                                    "1": "2"
                                },
                                {
                                    "0": "salon.com",
                                    "1": "2"
                                },
                                {
                                    "0": "omniture.com",
                                    "1": "2"
                                },
                                {
                                    "0": "vistaprint.com",
                                    "1": "2"
                                },
                                {
                                    "0": "imageshack.us",
                                    "1": "2"
                                },
                                {
                                    "0": "cnbc.com",
                                    "1": "2"
                                },
                                {
                                    "0": "google.ru",
                                    "1": "2"
                                },
                                {
                                    "0": "merriam-webster.com",
                                    "1": "2"
                                },
                                {
                                    "0": "icq.com",
                                    "1": "2"
                                },
                                {
                                    "0": "alexa.com",
                                    "1": "2"
                                },
                                {
                                    "0": "bing.com",
                                    "1": "2"
                                },
                                {
                                    "0": "canalblog.com",
                                    "1": "2"
                                },
                                {
                                    "0": "com.com",
                                    "1": "2"
                                },
                                {
                                    "0": "wisc.edu",
                                    "1": "2"
                                },
                                {
                                    "0": "wikipedia.org",
                                    "1": "2"
                                },
                                {
                                    "0": "photobucket.com",
                                    "1": "2"
                                },
                                {
                                    "0": "rediff.com",
                                    "1": "2"
                                },
                                {
                                    "0": "bloglines.com",
                                    "1": "2"
                                },
                                {
                                    "0": "narod.ru",
                                    "1": "2"
                                },
                                {
                                    "0": "dagondesign.com",
                                    "1": "2"
                                },
                                {
                                    "0": "networksolutions.com",
                                    "1": "2"
                                },
                                {
                                    "0": "skyrock.com",
                                    "1": "2"
                                },
                                {
                                    "0": "issuu.com",
                                    "1": "2"
                                },
                                {
                                    "0": "yellowpages.com",
                                    "1": "2"
                                },
                                {
                                    "0": "intel.com",
                                    "1": "2"
                                },
                                {
                                    "0": "cbslocal.com",
                                    "1": "2"
                                },
                                {
                                    "0": "linkedin.com",
                                    "1": "2"
                                },
                                {
                                    "0": "foxnews.com",
                                    "1": "2"
                                },
                                {
                                    "0": "jigsy.com",
                                    "1": "2"
                                },
                                {
                                    "0": "networkadvertising.org",
                                    "1": "2"
                                },
                                {
                                    "0": "uiuc.edu",
                                    "1": "2"
                                },
                                {
                                    "0": "mozilla.com",
                                    "1": "2"
                                },
                                {
                                    "0": "cornell.edu",
                                    "1": "2"
                                },
                                {
                                    "0": "blogtalkradio.com",
                                    "1": "2"
                                },
                                {
                                    "0": "i2i.jp",
                                    "1": "2"
                                },
                                {
                                    "0": "ted.com",
                                    "1": "2"
                                },
                                {
                                    "0": "exblog.jp",
                                    "1": "2"
                                },
                                {
                                    "0": "examiner.com",
                                    "1": "2"
                                },
                                {
                                    "0": "thetimes.co.uk",
                                    "1": "2"
                                },
                                {
                                    "0": "ebay.co.uk",
                                    "1": "2"
                                },
                                {
                                    "0": "yale.edu",
                                    "1": "2"
                                },
                                {
                                    "0": "dell.com",
                                    "1": "2"
                                },
                                {
                                    "0": "harvard.edu",
                                    "1": "2"
                                },
                                {
                                    "0": "wp.com",
                                    "1": "2"
                                },
                                {
                                    "0": "google.nl",
                                    "1": "2"
                                },
                                {
                                    "0": "hexun.com",
                                    "1": "2"
                                },
                                {
                                    "0": "tinyurl.com",
                                    "1": "2"
                                },
                                {
                                    "0": "nytimes.com",
                                    "1": "2"
                                },
                                {
                                    "0": "scientificamerican.com",
                                    "1": "2"
                                },
                                {
                                    "0": "mapy.cz",
                                    "1": "2"
                                },
                                {
                                    "0": "pbs.org",
                                    "1": "2"
                                },
                                {
                                    "0": "nasa.gov",
                                    "1": "2"
                                },
                                {
                                    "0": "dot.gov",
                                    "1": "2"
                                },
                                {
                                    "0": "wikimedia.org",
                                    "1": "2"
                                },
                                {
                                    "0": "dailymotion.com",
                                    "1": "2"
                                },
                                {
                                    "0": "weather.com",
                                    "1": "2"
                                },
                                {
                                    "0": "nydailynews.com",
                                    "1": "2"
                                },
                                {
                                    "0": "spotify.com",
                                    "1": "2"
                                },
                                {
                                    "0": "usda.gov",
                                    "1": "2"
                                },
                                {
                                    "0": "jimdo.com",
                                    "1": "2"
                                },
                                {
                                    "0": "acquirethisname.com",
                                    "1": "2"
                                },
                                {
                                    "0": "mail.ru",
                                    "1": "2"
                                },
                                {
                                    "0": "cbsnews.com",
                                    "1": "2"
                                },
                                {
                                    "0": "accuweather.com",
                                    "1": "2"
                                },
                                {
                                    "0": "webs.com",
                                    "1": "2"
                                },
                                {
                                    "0": "taobao.com",
                                    "1": "2"
                                },
                                {
                                    "0": "weibo.com",
                                    "1": "2"
                                },
                                {
                                    "0": "si.edu",
                                    "1": "2"
                                },
                                {
                                    "0": "wix.com",
                                    "1": "2"
                                },
                                {
                                    "0": "bluehost.com",
                                    "1": "2"
                                },
                                {
                                    "0": "constantcontact.com",
                                    "1": "2"
                                },
                                {
                                    "0": "jalbum.net",
                                    "1": "2"
                                },
                                {
                                    "0": "1und1.de",
                                    "1": "2"
                                },
                                {
                                    "0": "ow.ly",
                                    "1": "1"
                                },
                                {
                                    "0": "google.de",
                                    "1": "1"
                                },
                                {
                                    "0": "ucsd.edu",
                                    "1": "1"
                                },
                                {
                                    "0": "eventbrite.com",
                                    "1": "1"
                                },
                                {
                                    "0": "is.gd",
                                    "1": "1"
                                },
                                {
                                    "0": "google.es",
                                    "1": "1"
                                },
                                {
                                    "0": "wufoo.com",
                                    "1": "1"
                                },
                                {
                                    "0": "state.gov",
                                    "1": "1"
                                },
                                {
                                    "0": "nyu.edu",
                                    "1": "1"
                                },
                                {
                                    "0": "seesaa.net",
                                    "1": "1"
                                },
                                {
                                    "0": "miibeian.gov.cn",
                                    "1": "1"
                                },
                                {
                                    "0": "trellian.com",
                                    "1": "1"
                                },
                                {
                                    "0": "hao123.com",
                                    "1": "1"
                                },
                                {
                                    "0": "yellowbook.com",
                                    "1": "1"
                                },
                                {
                                    "0": "plala.or.jp",
                                    "1": "1"
                                },
                                {
                                    "0": "wordpress.org",
                                    "1": "1"
                                },
                                {
                                    "0": "altervista.org",
                                    "1": "1"
                                },
                                {
                                    "0": "telegraph.co.uk",
                                    "1": "1"
                                },
                                {
                                    "0": "yahoo.co.jp",
                                    "1": "1"
                                },
                                {
                                    "0": "mediafire.com",
                                    "1": "1"
                                },
                                {
                                    "0": "time.com",
                                    "1": "1"
                                },
                                {
                                    "0": "gravatar.com",
                                    "1": "1"
                                },
                                {
                                    "0": "privacy.gov.au",
                                    "1": "1"
                                },
                                {
                                    "0": "nhs.uk",
                                    "1": "1"
                                },
                                {
                                    "0": "comsenz.com",
                                    "1": "1"
                                },
                                {
                                    "0": "mtv.com",
                                    "1": "1"
                                },
                                {
                                    "0": "latimes.com",
                                    "1": "1"
                                },
                                {
                                    "0": "lycos.com",
                                    "1": "1"
                                },
                                {
                                    "0": "upenn.edu",
                                    "1": "1"
                                },
                                {
                                    "0": "eepurl.com",
                                    "1": "1"
                                },
                                {
                                    "0": "twitter.com",
                                    "1": "1"
                                },
                                {
                                    "0": "tripadvisor.com",
                                    "1": "1"
                                },
                                {
                                    "0": "g.co",
                                    "1": "1"
                                },
                                {
                                    "0": "indiatimes.com",
                                    "1": "1"
                                },
                                {
                                    "0": "nifty.com",
                                    "1": "1"
                                },
                                {
                                    "0": "etsy.com",
                                    "1": "1"
                                },
                                {
                                    "0": "prweb.com",
                                    "1": "1"
                                },
                                {
                                    "0": "google.cn",
                                    "1": "1"
                                },
                                {
                                    "0": "vk.com",
                                    "1": "1"
                                },
                                {
                                    "0": "msu.edu",
                                    "1": "1"
                                },
                                {
                                    "0": "free.fr",
                                    "1": "1"
                                },
                                {
                                    "0": "youku.com",
                                    "1": "1"
                                },
                                {
                                    "0": "nationalgeographic.com",
                                    "1": "1"
                                },
                                {
                                    "0": "blogspot.com",
                                    "1": "1"
                                },
                                {
                                    "0": "amazon.com",
                                    "1": "1"
                                },
                                {
                                    "0": "cbc.ca",
                                    "1": "1"
                                },
                                {
                                    "0": "java.com",
                                    "1": "1"
                                },
                                {
                                    "0": "wordpress.com",
                                    "1": "1"
                                },
                                {
                                    "0": "tamu.edu",
                                    "1": "1"
                                },
                                {
                                    "0": "webmd.com",
                                    "1": "1"
                                },
                                {
                                    "0": "vimeo.com",
                                    "1": "1"
                                },
                                {
                                    "0": "simplemachines.org",
                                    "1": "1"
                                },
                                {
                                    "0": "pagesperso-orange.fr",
                                    "1": "1"
                                },
                                {
                                    "0": "rakuten.co.jp",
                                    "1": "1"
                                },
                                {
                                    "0": "ycombinator.com",
                                    "1": "1"
                                },
                                {
                                    "0": "ibm.com",
                                    "1": "1"
                                },
                                {
                                    "0": "reference.com",
                                    "1": "1"
                                },
                                {
                                    "0": "ning.com",
                                    "1": "1"
                                },
                                {
                                    "0": "cnet.com",
                                    "1": "1"
                                },
                                {
                                    "0": "printfriendly.com",
                                    "1": "1"
                                },
                                {
                                    "0": "cpanel.net",
                                    "1": "1"
                                },
                                {
                                    "0": "answers.com",
                                    "1": "1"
                                },
                                {
                                    "0": "moonfruit.com",
                                    "1": "1"
                                },
                                {
                                    "0": "dmoz.org",
                                    "1": "1"
                                },
                                {
                                    "0": "usnews.com",
                                    "1": "1"
                                },
                                {
                                    "0": "ehow.com",
                                    "1": "1"
                                },
                                {
                                    "0": "icio.us",
                                    "1": "1"
                                },
                                {
                                    "0": "state.tx.us",
                                    "1": "1"
                                },
                                {
                                    "0": "drupal.org",
                                    "1": "1"
                                },
                                {
                                    "0": "quantcast.com",
                                    "1": "1"
                                },
                                {
                                    "0": "so-net.ne.jp",
                                    "1": "1"
                                },
                                {
                                    "0": "naver.com",
                                    "1": "1"
                                },
                                {
                                    "0": "cloudflare.com",
                                    "1": "1"
                                },
                                {
                                    "0": "mac.com",
                                    "1": "1"
                                },
                                {
                                    "0": "yelp.com",
                                    "1": "1"
                                },
                                {
                                    "0": "guardian.co.uk",
                                    "1": "1"
                                },
                                {
                                    "0": "freewebs.com",
                                    "1": "1"
                                },
                                {
                                    "0": "go.com",
                                    "1": "1"
                                },
                                {
                                    "0": "a8.net",
                                    "1": "1"
                                },
                                {
                                    "0": "google.co.jp",
                                    "1": "1"
                                },
                                {
                                    "0": "cafepress.com",
                                    "1": "1"
                                },
                                {
                                    "0": "slate.com",
                                    "1": "1"
                                },
                                {
                                    "0": "umich.edu",
                                    "1": "1"
                                },
                                {
                                    "0": "delicious.com",
                                    "1": "1"
                                },
                                {
                                    "0": "webnode.com",
                                    "1": "1"
                                },
                                {
                                    "0": "skype.com",
                                    "1": "1"
                                },
                                {
                                    "0": "army.mil",
                                    "1": "1"
                                },
                                {
                                    "0": "paginegialle.it",
                                    "1": "1"
                                },
                                {
                                    "0": "sphinn.com",
                                    "1": "1"
                                },
                                {
                                    "0": "netvibes.com",
                                    "1": "1"
                                },
                                {
                                    "0": "tmall.com",
                                    "1": "1"
                                },
                                {
                                    "0": "1688.com",
                                    "1": "1"
                                },
                                {
                                    "0": "senate.gov",
                                    "1": "1"
                                },
                                {
                                    "0": "geocities.com",
                                    "1": "1"
                                },
                                {
                                    "0": "hibu.com",
                                    "1": "1"
                                },
                                {
                                    "0": "auda.org.au",
                                    "1": "1"
                                },
                                {
                                    "0": "github.com",
                                    "1": "1"
                                },
                                {
                                    "0": "usgs.gov",
                                    "1": "1"
                                },
                                {
                                    "0": "npr.org",
                                    "1": "1"
                                },
                                {
                                    "0": "google.com.hk",
                                    "1": "1"
                                },
                                {
                                    "0": "de.vu",
                                    "1": "1"
                                },
                                {
                                    "0": "microsoft.com",
                                    "1": "1"
                                },
                                {
                                    "0": "squidoo.com",
                                    "1": "1"
                                },
                                {
                                    "0": "nymag.com",
                                    "1": "1"
                                },
                                {
                                    "0": "blog.com",
                                    "1": "1"
                                },
                                {
                                    "0": "csmonitor.com",
                                    "1": "1"
                                },
                                {
                                    "0": "geocities.jp",
                                    "1": "1"
                                },
                                {
                                    "0": "dropbox.com",
                                    "1": "1"
                                },
                                {
                                    "0": "biblegateway.com",
                                    "1": "1"
                                },
                                {
                                    "0": "washington.edu",
                                    "1": "1"
                                },
                                {
                                    "0": "unc.edu",
                                    "1": "1"
                                },
                                {
                                    "0": "chronoengine.com",
                                    "1": "1"
                                },
                                {
                                    "0": "toplist.cz",
                                    "1": "1"
                                },
                                {
                                    "0": "mit.edu",
                                    "1": "1"
                                },
                                {
                                    "0": "goo.ne.jp",
                                    "1": "1"
                                },
                                {
                                    "0": "jugem.jp",
                                    "1": "1"
                                },
                                {
                                    "0": "ed.gov",
                                    "1": "1"
                                },
                                {
                                    "0": "imgur.com",
                                    "1": "1"
                                },
                                {
                                    "0": "123-reg.co.uk",
                                    "1": "1"
                                },
                                {
                                    "0": "craigslist.org",
                                    "1": "1"
                                },
                                {
                                    "0": "mlb.com",
                                    "1": "1"
                                },
                                {
                                    "0": "reverbnation.com",
                                    "1": "1"
                                },
                                {
                                    "0": "timesonline.co.uk",
                                    "1": "1"
                                },
                                {
                                    "0": "furl.net",
                                    "1": "1"
                                },
                                {
                                    "0": "hc360.com",
                                    "1": "1"
                                },
                                {
                                    "0": "hatena.ne.jp",
                                    "1": "1"
                                },
                                {
                                    "0": "xrea.com",
                                    "1": "1"
                                },
                                {
                                    "0": "cmu.edu",
                                    "1": "1"
                                },
                                {
                                    "0": "flickr.com",
                                    "1": "1"
                                },
                                {
                                    "0": "ovh.net",
                                    "1": "1"
                                },
                                {
                                    "0": "springer.com",
                                    "1": "1"
                                },
                                {
                                    "0": "wired.com",
                                    "1": "1"
                                },
                                {
                                    "0": "chron.com",
                                    "1": "1"
                                },
                                {
                                    "0": "howstuffworks.com",
                                    "1": "1"
                                },
                                {
                                    "0": "addtoany.com",
                                    "1": "1"
                                },
                                {
                                    "0": "ask.com",
                                    "1": "1"
                                },
                                {
                                    "0": "reuters.com",
                                    "1": "1"
                                },
                                {
                                    "0": "tinypic.com",
                                    "1": "1"
                                },
                                {
                                    "0": "sohu.com",
                                    "1": "1"
                                },
                                {
                                    "0": "feedburner.com",
                                    "1": "1"
                                },
                                {
                                    "0": "wunderground.com",
                                    "1": "1"
                                },
                                {
                                    "0": "joomla.org",
                                    "1": "1"
                                },
                                {
                                    "0": "usa.gov",
                                    "1": "1"
                                },
                                {
                                    "0": "ca.gov",
                                    "1": "1"
                                },
                                {
                                    "0": "businessweek.com",
                                    "1": "1"
                                },
                                {
                                    "0": "samsung.com",
                                    "1": "1"
                                },
                                {
                                    "0": "live.com",
                                    "1": "1"
                                },
                                {
                                    "0": "soundcloud.com",
                                    "1": "1"
                                },
                                {
                                    "0": "msn.com",
                                    "1": "1"
                                },
                                {
                                    "0": "squarespace.com",
                                    "1": "1"
                                },
                                {
                                    "0": "marriott.com",
                                    "1": "1"
                                },
                                {
                                    "0": "t.co",
                                    "1": "1"
                                },
                                {
                                    "0": "zimbio.com",
                                    "1": "1"
                                },
                                {
                                    "0": "fotki.com",
                                    "1": "1"
                                },
                                {
                                    "0": "admin.ch",
                                    "1": "1"
                                },
                                {
                                    "0": "opensource.org",
                                    "1": "1"
                                },
                                {
                                    "0": "odnoklassniki.ru",
                                    "1": "1"
                                },
                                {
                                    "0": "slashdot.org",
                                    "1": "1"
                                },
                                {
                                    "0": "ustream.tv",
                                    "1": "1"
                                },
                                {
                                    "0": "purevolume.com",
                                    "1": "1"
                                },
                                {
                                    "0": "sun.com",
                                    "1": "1"
                                },
                                {
                                    "0": "stumbleupon.com",
                                    "1": "1"
                                },
                                {
                                    "0": "sitemeter.com",
                                    "1": "1"
                                },
                                {
                                    "0": "yahoo.com",
                                    "1": "1"
                                },
                                {
                                    "0": "sciencedirect.com",
                                    "1": "1"
                                },
                                {
                                    "0": "alibaba.com",
                                    "1": "1"
                                },
                                {
                                    "0": "earthlink.net",
                                    "1": "1"
                                },
                                {
                                    "0": "slideshare.net",
                                    "1": "1"
                                },
                                {
                                    "0": "sfgate.com",
                                    "1": "1"
                                },
                                {
                                    "0": "yandex.ru",
                                    "1": "1"
                                },
                                {
                                    "0": "google.co.uk",
                                    "1": "1"
                                },
                                {
                                    "0": "prnewswire.com",
                                    "1": "1"
                                },
                                {
                                    "0": "istockphoto.com",
                                    "1": "1"
                                },
                                {
                                    "0": "rambler.ru",
                                    "1": "1"
                                },
                                {
                                    "0": "symantec.com",
                                    "1": "1"
                                },
                                {
                                    "0": "irs.gov",
                                    "1": "1"
                                },
                                {
                                    "0": "sina.com.cn",
                                    "1": "1"
                                },
                                {
                                    "0": "columbia.edu",
                                    "1": "1"
                                },
                                {
                                    "0": "discovery.com",
                                    "1": "1"
                                },
                                {
                                    "0": "qq.com",
                                    "1": "1"
                                }
                            ]
                        },
                        "text/html": "<table><tr><th>domain</th><th>count</th></tr><tr><td>china.com.cn</td><td>6</td></tr><tr><td>macromedia.com</td><td>5</td></tr><tr><td>fc2.com</td><td>4</td></tr><tr><td>forbes.com</td><td>4</td></tr><tr><td>pen.io</td><td>4</td></tr><tr><td>livejournal.com</td><td>4</td></tr><tr><td>angelfire.com</td><td>4</td></tr><tr><td>pinterest.com</td><td>4</td></tr><tr><td>over-blog.com</td><td>4</td></tr><tr><td>newyorker.com</td><td>4</td></tr><tr><td>google.fr</td><td>4</td></tr><tr><td>vinaora.com</td><td>4</td></tr><tr><td>kickstarter.com</td><td>4</td></tr><tr><td>abc.net.au</td><td>3</td></tr><tr><td>lulu.com</td><td>3</td></tr><tr><td>wikia.com</td><td>3</td></tr><tr><td>chicagotribune.com</td><td>3</td></tr><tr><td>google.it</td><td>3</td></tr><tr><td>spiegel.de</td><td>3</td></tr><tr><td>biglobe.ne.jp</td><td>3</td></tr><tr><td>who.int</td><td>3</td></tr><tr><td>domainmarket.com</td><td>3</td></tr><tr><td>hp.com</td><td>3</td></tr><tr><td>xing.com</td><td>3</td></tr><tr><td>tuttocitta.it</td><td>3</td></tr><tr><td>prlog.org</td><td>3</td></tr><tr><td>gmpg.org</td><td>3</td></tr><tr><td>google.com.br</td><td>3</td></tr><tr><td>w3.org</td><td>3</td></tr><tr><td>princeton.edu</td><td>3</td></tr><tr><td>bbb.org</td><td>3</td></tr><tr><td>github.io</td><td>3</td></tr><tr><td>cdc.gov</td><td>3</td></tr><tr><td>aol.com</td><td>3</td></tr><tr><td>blinklist.com</td><td>3</td></tr><tr><td>uol.com.br</td><td>3</td></tr><tr><td>ucoz.ru</td><td>3</td></tr><tr><td>europa.eu</td><td>3</td></tr><tr><td>friendfeed.com</td><td>3</td></tr><tr><td>cnn.com</td><td>3</td></tr><tr><td>woothemes.com</td><td>3</td></tr><tr><td>apple.com</td><td>3</td></tr><tr><td>google.ca</td><td>3</td></tr><tr><td>dailymail.co.uk</td><td>3</td></tr><tr><td>addthis.com</td><td>3</td></tr><tr><td>nba.com</td><td>3</td></tr><tr><td>ftc.gov</td><td>3</td></tr><tr><td>census.gov</td><td>3</td></tr><tr><td>hubpages.com</td><td>3</td></tr><tr><td>pcworld.com</td><td>3</td></tr><tr><td>imdb.com</td><td>3</td></tr><tr><td>oaic.gov.au</td><td>3</td></tr><tr><td>about.com</td><td>3</td></tr><tr><td>epa.gov</td><td>3</td></tr><tr><td>ucoz.com</td><td>2</td></tr><tr><td>ihg.com</td><td>2</td></tr><tr><td>youtu.be</td><td>2</td></tr><tr><td>virginia.edu</td><td>2</td></tr><tr><td>cargocollective.com</td><td>2</td></tr><tr><td>wsj.com</td><td>2</td></tr><tr><td>va.gov</td><td>2</td></tr><tr><td>mashable.com</td><td>2</td></tr><tr><td>nsw.gov.au</td><td>2</td></tr><tr><td>businessinsider.com</td><td>2</td></tr><tr><td>mysql.com</td><td>2</td></tr><tr><td>artisteer.com</td><td>2</td></tr><tr><td>ameblo.jp</td><td>2</td></tr><tr><td>dion.ne.jp</td><td>2</td></tr><tr><td>seattletimes.com</td><td>2</td></tr><tr><td>wiley.com</td><td>2</td></tr><tr><td>people.com.cn</td><td>2</td></tr><tr><td>statcounter.com</td><td>2</td></tr><tr><td>wikispaces.com</td><td>2</td></tr><tr><td>adobe.com</td><td>2</td></tr><tr><td>aboutads.info</td><td>2</td></tr><tr><td>myspace.com</td><td>2</td></tr><tr><td>ucla.edu</td><td>2</td></tr><tr><td>arstechnica.com</td><td>2</td></tr><tr><td>e-recht24.de</td><td>2</td></tr><tr><td>marketwatch.com</td><td>2</td></tr><tr><td>paypal.com</td><td>2</td></tr><tr><td>sakura.ne.jp</td><td>2</td></tr><tr><td>hud.gov</td><td>2</td></tr><tr><td>sourceforge.net</td><td>2</td></tr><tr><td>ezinearticles.com</td><td>2</td></tr><tr><td>technorati.com</td><td>2</td></tr><tr><td>ifeng.com</td><td>2</td></tr><tr><td>oracle.com</td><td>2</td></tr><tr><td>salon.com</td><td>2</td></tr><tr><td>omniture.com</td><td>2</td></tr><tr><td>vistaprint.com</td><td>2</td></tr><tr><td>imageshack.us</td><td>2</td></tr><tr><td>cnbc.com</td><td>2</td></tr><tr><td>google.ru</td><td>2</td></tr><tr><td>merriam-webster.com</td><td>2</td></tr><tr><td>icq.com</td><td>2</td></tr><tr><td>alexa.com</td><td>2</td></tr><tr><td>bing.com</td><td>2</td></tr><tr><td>canalblog.com</td><td>2</td></tr><tr><td>com.com</td><td>2</td></tr><tr><td>wisc.edu</td><td>2</td></tr><tr><td>wikipedia.org</td><td>2</td></tr><tr><td>photobucket.com</td><td>2</td></tr><tr><td>rediff.com</td><td>2</td></tr><tr><td>bloglines.com</td><td>2</td></tr><tr><td>narod.ru</td><td>2</td></tr><tr><td>dagondesign.com</td><td>2</td></tr><tr><td>networksolutions.com</td><td>2</td></tr><tr><td>skyrock.com</td><td>2</td></tr><tr><td>issuu.com</td><td>2</td></tr><tr><td>yellowpages.com</td><td>2</td></tr><tr><td>intel.com</td><td>2</td></tr><tr><td>cbslocal.com</td><td>2</td></tr><tr><td>linkedin.com</td><td>2</td></tr><tr><td>foxnews.com</td><td>2</td></tr><tr><td>jigsy.com</td><td>2</td></tr><tr><td>networkadvertising.org</td><td>2</td></tr><tr><td>uiuc.edu</td><td>2</td></tr><tr><td>mozilla.com</td><td>2</td></tr><tr><td>cornell.edu</td><td>2</td></tr><tr><td>blogtalkradio.com</td><td>2</td></tr><tr><td>i2i.jp</td><td>2</td></tr><tr><td>ted.com</td><td>2</td></tr><tr><td>exblog.jp</td><td>2</td></tr><tr><td>examiner.com</td><td>2</td></tr><tr><td>thetimes.co.uk</td><td>2</td></tr><tr><td>ebay.co.uk</td><td>2</td></tr><tr><td>yale.edu</td><td>2</td></tr><tr><td>dell.com</td><td>2</td></tr><tr><td>harvard.edu</td><td>2</td></tr><tr><td>wp.com</td><td>2</td></tr><tr><td>google.nl</td><td>2</td></tr><tr><td>hexun.com</td><td>2</td></tr><tr><td>tinyurl.com</td><td>2</td></tr><tr><td>nytimes.com</td><td>2</td></tr><tr><td>scientificamerican.com</td><td>2</td></tr><tr><td>mapy.cz</td><td>2</td></tr><tr><td>pbs.org</td><td>2</td></tr><tr><td>nasa.gov</td><td>2</td></tr><tr><td>dot.gov</td><td>2</td></tr><tr><td>wikimedia.org</td><td>2</td></tr><tr><td>dailymotion.com</td><td>2</td></tr><tr><td>weather.com</td><td>2</td></tr><tr><td>nydailynews.com</td><td>2</td></tr><tr><td>spotify.com</td><td>2</td></tr><tr><td>usda.gov</td><td>2</td></tr><tr><td>jimdo.com</td><td>2</td></tr><tr><td>acquirethisname.com</td><td>2</td></tr><tr><td>mail.ru</td><td>2</td></tr><tr><td>cbsnews.com</td><td>2</td></tr><tr><td>accuweather.com</td><td>2</td></tr><tr><td>webs.com</td><td>2</td></tr><tr><td>taobao.com</td><td>2</td></tr><tr><td>weibo.com</td><td>2</td></tr><tr><td>si.edu</td><td>2</td></tr><tr><td>wix.com</td><td>2</td></tr><tr><td>bluehost.com</td><td>2</td></tr><tr><td>constantcontact.com</td><td>2</td></tr><tr><td>jalbum.net</td><td>2</td></tr><tr><td>1und1.de</td><td>2</td></tr><tr><td>ow.ly</td><td>1</td></tr><tr><td>google.de</td><td>1</td></tr><tr><td>ucsd.edu</td><td>1</td></tr><tr><td>eventbrite.com</td><td>1</td></tr><tr><td>is.gd</td><td>1</td></tr><tr><td>google.es</td><td>1</td></tr><tr><td>wufoo.com</td><td>1</td></tr><tr><td>state.gov</td><td>1</td></tr><tr><td>nyu.edu</td><td>1</td></tr><tr><td>seesaa.net</td><td>1</td></tr><tr><td>miibeian.gov.cn</td><td>1</td></tr><tr><td>trellian.com</td><td>1</td></tr><tr><td>hao123.com</td><td>1</td></tr><tr><td>yellowbook.com</td><td>1</td></tr><tr><td>plala.or.jp</td><td>1</td></tr><tr><td>wordpress.org</td><td>1</td></tr><tr><td>altervista.org</td><td>1</td></tr><tr><td>telegraph.co.uk</td><td>1</td></tr><tr><td>yahoo.co.jp</td><td>1</td></tr><tr><td>mediafire.com</td><td>1</td></tr><tr><td>time.com</td><td>1</td></tr><tr><td>gravatar.com</td><td>1</td></tr><tr><td>privacy.gov.au</td><td>1</td></tr><tr><td>nhs.uk</td><td>1</td></tr><tr><td>comsenz.com</td><td>1</td></tr><tr><td>mtv.com</td><td>1</td></tr><tr><td>latimes.com</td><td>1</td></tr><tr><td>lycos.com</td><td>1</td></tr><tr><td>upenn.edu</td><td>1</td></tr><tr><td>eepurl.com</td><td>1</td></tr><tr><td>twitter.com</td><td>1</td></tr><tr><td>tripadvisor.com</td><td>1</td></tr><tr><td>g.co</td><td>1</td></tr><tr><td>indiatimes.com</td><td>1</td></tr><tr><td>nifty.com</td><td>1</td></tr><tr><td>etsy.com</td><td>1</td></tr><tr><td>prweb.com</td><td>1</td></tr><tr><td>google.cn</td><td>1</td></tr><tr><td>vk.com</td><td>1</td></tr><tr><td>msu.edu</td><td>1</td></tr><tr><td>free.fr</td><td>1</td></tr><tr><td>youku.com</td><td>1</td></tr><tr><td>nationalgeographic.com</td><td>1</td></tr><tr><td>blogspot.com</td><td>1</td></tr><tr><td>amazon.com</td><td>1</td></tr><tr><td>cbc.ca</td><td>1</td></tr><tr><td>java.com</td><td>1</td></tr><tr><td>wordpress.com</td><td>1</td></tr><tr><td>tamu.edu</td><td>1</td></tr><tr><td>webmd.com</td><td>1</td></tr><tr><td>vimeo.com</td><td>1</td></tr><tr><td>simplemachines.org</td><td>1</td></tr><tr><td>pagesperso-orange.fr</td><td>1</td></tr><tr><td>rakuten.co.jp</td><td>1</td></tr><tr><td>ycombinator.com</td><td>1</td></tr><tr><td>ibm.com</td><td>1</td></tr><tr><td>reference.com</td><td>1</td></tr><tr><td>ning.com</td><td>1</td></tr><tr><td>cnet.com</td><td>1</td></tr><tr><td>printfriendly.com</td><td>1</td></tr><tr><td>cpanel.net</td><td>1</td></tr><tr><td>answers.com</td><td>1</td></tr><tr><td>moonfruit.com</td><td>1</td></tr><tr><td>dmoz.org</td><td>1</td></tr><tr><td>usnews.com</td><td>1</td></tr><tr><td>ehow.com</td><td>1</td></tr><tr><td>icio.us</td><td>1</td></tr><tr><td>state.tx.us</td><td>1</td></tr><tr><td>drupal.org</td><td>1</td></tr><tr><td>quantcast.com</td><td>1</td></tr><tr><td>so-net.ne.jp</td><td>1</td></tr><tr><td>naver.com</td><td>1</td></tr><tr><td>cloudflare.com</td><td>1</td></tr><tr><td>mac.com</td><td>1</td></tr><tr><td>yelp.com</td><td>1</td></tr><tr><td>guardian.co.uk</td><td>1</td></tr><tr><td>freewebs.com</td><td>1</td></tr><tr><td>go.com</td><td>1</td></tr><tr><td>a8.net</td><td>1</td></tr><tr><td>google.co.jp</td><td>1</td></tr><tr><td>cafepress.com</td><td>1</td></tr><tr><td>slate.com</td><td>1</td></tr><tr><td>umich.edu</td><td>1</td></tr><tr><td>delicious.com</td><td>1</td></tr><tr><td>webnode.com</td><td>1</td></tr><tr><td>skype.com</td><td>1</td></tr><tr><td>army.mil</td><td>1</td></tr><tr><td>paginegialle.it</td><td>1</td></tr><tr><td>sphinn.com</td><td>1</td></tr><tr><td>netvibes.com</td><td>1</td></tr><tr><td>tmall.com</td><td>1</td></tr><tr><td>1688.com</td><td>1</td></tr><tr><td>senate.gov</td><td>1</td></tr><tr><td>geocities.com</td><td>1</td></tr><tr><td>hibu.com</td><td>1</td></tr><tr><td>auda.org.au</td><td>1</td></tr><tr><td>github.com</td><td>1</td></tr><tr><td>usgs.gov</td><td>1</td></tr><tr><td>npr.org</td><td>1</td></tr><tr><td>google.com.hk</td><td>1</td></tr><tr><td>de.vu</td><td>1</td></tr><tr><td>microsoft.com</td><td>1</td></tr><tr><td>squidoo.com</td><td>1</td></tr><tr><td>nymag.com</td><td>1</td></tr><tr><td>blog.com</td><td>1</td></tr><tr><td>csmonitor.com</td><td>1</td></tr><tr><td>geocities.jp</td><td>1</td></tr><tr><td>dropbox.com</td><td>1</td></tr><tr><td>biblegateway.com</td><td>1</td></tr><tr><td>washington.edu</td><td>1</td></tr><tr><td>unc.edu</td><td>1</td></tr><tr><td>chronoengine.com</td><td>1</td></tr><tr><td>toplist.cz</td><td>1</td></tr><tr><td>mit.edu</td><td>1</td></tr><tr><td>goo.ne.jp</td><td>1</td></tr><tr><td>jugem.jp</td><td>1</td></tr><tr><td>ed.gov</td><td>1</td></tr><tr><td>imgur.com</td><td>1</td></tr><tr><td>123-reg.co.uk</td><td>1</td></tr><tr><td>craigslist.org</td><td>1</td></tr><tr><td>mlb.com</td><td>1</td></tr><tr><td>reverbnation.com</td><td>1</td></tr><tr><td>timesonline.co.uk</td><td>1</td></tr><tr><td>furl.net</td><td>1</td></tr><tr><td>hc360.com</td><td>1</td></tr><tr><td>hatena.ne.jp</td><td>1</td></tr><tr><td>xrea.com</td><td>1</td></tr><tr><td>cmu.edu</td><td>1</td></tr><tr><td>flickr.com</td><td>1</td></tr><tr><td>ovh.net</td><td>1</td></tr><tr><td>springer.com</td><td>1</td></tr><tr><td>wired.com</td><td>1</td></tr><tr><td>chron.com</td><td>1</td></tr><tr><td>howstuffworks.com</td><td>1</td></tr><tr><td>addtoany.com</td><td>1</td></tr><tr><td>ask.com</td><td>1</td></tr><tr><td>reuters.com</td><td>1</td></tr><tr><td>tinypic.com</td><td>1</td></tr><tr><td>sohu.com</td><td>1</td></tr><tr><td>feedburner.com</td><td>1</td></tr><tr><td>wunderground.com</td><td>1</td></tr><tr><td>joomla.org</td><td>1</td></tr><tr><td>usa.gov</td><td>1</td></tr><tr><td>ca.gov</td><td>1</td></tr><tr><td>businessweek.com</td><td>1</td></tr><tr><td>samsung.com</td><td>1</td></tr><tr><td>live.com</td><td>1</td></tr><tr><td>soundcloud.com</td><td>1</td></tr><tr><td>msn.com</td><td>1</td></tr><tr><td>squarespace.com</td><td>1</td></tr><tr><td>marriott.com</td><td>1</td></tr><tr><td>t.co</td><td>1</td></tr><tr><td>zimbio.com</td><td>1</td></tr><tr><td>fotki.com</td><td>1</td></tr><tr><td>admin.ch</td><td>1</td></tr><tr><td>opensource.org</td><td>1</td></tr><tr><td>odnoklassniki.ru</td><td>1</td></tr><tr><td>slashdot.org</td><td>1</td></tr><tr><td>ustream.tv</td><td>1</td></tr><tr><td>purevolume.com</td><td>1</td></tr><tr><td>sun.com</td><td>1</td></tr><tr><td>stumbleupon.com</td><td>1</td></tr><tr><td>sitemeter.com</td><td>1</td></tr><tr><td>yahoo.com</td><td>1</td></tr><tr><td>sciencedirect.com</td><td>1</td></tr><tr><td>alibaba.com</td><td>1</td></tr><tr><td>earthlink.net</td><td>1</td></tr><tr><td>slideshare.net</td><td>1</td></tr><tr><td>sfgate.com</td><td>1</td></tr><tr><td>yandex.ru</td><td>1</td></tr><tr><td>google.co.uk</td><td>1</td></tr><tr><td>prnewswire.com</td><td>1</td></tr><tr><td>istockphoto.com</td><td>1</td></tr><tr><td>rambler.ru</td><td>1</td></tr><tr><td>symantec.com</td><td>1</td></tr><tr><td>irs.gov</td><td>1</td></tr><tr><td>sina.com.cn</td><td>1</td></tr><tr><td>columbia.edu</td><td>1</td></tr><tr><td>discovery.com</td><td>1</td></tr><tr><td>qq.com</td><td>1</td></tr></table>"
                    }
                }
            ],
            "execution_count": 4
        }
    ]
}