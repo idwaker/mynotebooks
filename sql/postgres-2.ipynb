{
    "metadata": {
        "kernelspec": {
            "name": "SQL",
            "display_name": "SQL",
            "language": "sql"
        },
        "language_info": {
            "name": "sql",
            "version": ""
        }
    },
    "nbformat_minor": 2,
    "nbformat": 4,
    "cells": [
        {
            "cell_type": "code",
            "source": "-- create purchases table\nCREATE TABLE purchases(\n    id SERIAL,\n    item_id INTEGER REFERENCES items(id),\n    customer_id INTEGER NOT NULL,\n    PRIMARY KEY (id),\n    FOREIGN KEY (customer_id) REFERENCES customers(id)\n);",
            "metadata": {},
            "outputs": [
                {
                    "output_type": "display_data",
                    "data": {
                        "text/html": "Commands completed successfully"
                    },
                    "metadata": {}
                },
                {
                    "output_type": "display_data",
                    "data": {
                        "text/html": "Total execution time: 0:00:00.014138"
                    },
                    "metadata": {}
                }
            ],
            "execution_count": 3
        },
        {
            "cell_type": "code",
            "source": "SELECT * FROM purchases;",
            "metadata": {},
            "outputs": [
                {
                    "output_type": "display_data",
                    "data": {
                        "text/html": "(0 row(s) affected)"
                    },
                    "metadata": {}
                },
                {
                    "output_type": "display_data",
                    "data": {
                        "text/html": "Total execution time: 0:00:00.003233"
                    },
                    "metadata": {}
                },
                {
                    "output_type": "execute_result",
                    "metadata": {},
                    "execution_count": 4,
                    "data": {
                        "application/vnd.dataresource+json": {
                            "schema": {
                                "fields": [
                                    {
                                        "name": "id"
                                    },
                                    {
                                        "name": "item_id"
                                    },
                                    {
                                        "name": "customer_id"
                                    }
                                ]
                            },
                            "data": []
                        },
                        "text/html": "<table><tr><th>id</th><th>item_id</th><th>customer_id</th></tr></table>"
                    }
                }
            ],
            "execution_count": 4
        },
        {
            "cell_type": "code",
            "source": "INSERT INTO purchases (item_id, customer_id) VALUES\n    (1, 1),\n    (1, 2),\n    (2, 1),\n    (2, 2),\n    (5, 1),\n    (5, 2),\n    (5, 3),\n    (6, 1);",
            "metadata": {},
            "outputs": [
                {
                    "output_type": "display_data",
                    "data": {
                        "text/html": "Commands completed successfully"
                    },
                    "metadata": {}
                },
                {
                    "output_type": "display_data",
                    "data": {
                        "text/html": "Total execution time: 0:00:00.002883"
                    },
                    "metadata": {}
                }
            ],
            "execution_count": 6
        },
        {
            "cell_type": "code",
            "source": "SELECT * FROM purchases;",
            "metadata": {},
            "outputs": [
                {
                    "output_type": "display_data",
                    "data": {
                        "text/html": "(8 row(s) affected)"
                    },
                    "metadata": {}
                },
                {
                    "output_type": "display_data",
                    "data": {
                        "text/html": "Total execution time: 0:00:00.005793"
                    },
                    "metadata": {}
                },
                {
                    "output_type": "execute_result",
                    "metadata": {},
                    "execution_count": 7,
                    "data": {
                        "application/vnd.dataresource+json": {
                            "schema": {
                                "fields": [
                                    {
                                        "name": "id"
                                    },
                                    {
                                        "name": "item_id"
                                    },
                                    {
                                        "name": "customer_id"
                                    }
                                ]
                            },
                            "data": [
                                {
                                    "0": "9",
                                    "1": "1",
                                    "2": "1"
                                },
                                {
                                    "0": "10",
                                    "1": "1",
                                    "2": "2"
                                },
                                {
                                    "0": "11",
                                    "1": "2",
                                    "2": "1"
                                },
                                {
                                    "0": "12",
                                    "1": "2",
                                    "2": "2"
                                },
                                {
                                    "0": "13",
                                    "1": "5",
                                    "2": "1"
                                },
                                {
                                    "0": "14",
                                    "1": "5",
                                    "2": "2"
                                },
                                {
                                    "0": "15",
                                    "1": "5",
                                    "2": "3"
                                },
                                {
                                    "0": "16",
                                    "1": "6",
                                    "2": "1"
                                }
                            ]
                        },
                        "text/html": "<table><tr><th>id</th><th>item_id</th><th>customer_id</th></tr><tr><td>9</td><td>1</td><td>1</td></tr><tr><td>10</td><td>1</td><td>2</td></tr><tr><td>11</td><td>2</td><td>1</td></tr><tr><td>12</td><td>2</td><td>2</td></tr><tr><td>13</td><td>5</td><td>1</td></tr><tr><td>14</td><td>5</td><td>2</td></tr><tr><td>15</td><td>5</td><td>3</td></tr><tr><td>16</td><td>6</td><td>1</td></tr></table>"
                    }
                }
            ],
            "execution_count": 7
        },
        {
            "cell_type": "code",
            "source": "SELECT * FROM items JOIN purchases ON items.id = purchases.item_id;",
            "metadata": {},
            "outputs": [
                {
                    "output_type": "display_data",
                    "data": {
                        "text/html": "(8 row(s) affected)"
                    },
                    "metadata": {}
                },
                {
                    "output_type": "display_data",
                    "data": {
                        "text/html": "Total execution time: 0:00:00.004275"
                    },
                    "metadata": {}
                },
                {
                    "output_type": "execute_result",
                    "metadata": {},
                    "execution_count": 8,
                    "data": {
                        "application/vnd.dataresource+json": {
                            "schema": {
                                "fields": [
                                    {
                                        "name": "id"
                                    },
                                    {
                                        "name": "name"
                                    },
                                    {
                                        "name": "price"
                                    },
                                    {
                                        "name": "id"
                                    },
                                    {
                                        "name": "item_id"
                                    },
                                    {
                                        "name": "customer_id"
                                    }
                                ]
                            },
                            "data": [
                                {
                                    "0": "1",
                                    "1": "Pencil",
                                    "2": "12.20",
                                    "3": "9",
                                    "4": "1",
                                    "5": "1"
                                },
                                {
                                    "0": "1",
                                    "1": "Pencil",
                                    "2": "12.20",
                                    "3": "10",
                                    "4": "1",
                                    "5": "2"
                                },
                                {
                                    "0": "2",
                                    "1": "Sharpner",
                                    "2": "9.00",
                                    "3": "11",
                                    "4": "2",
                                    "5": "1"
                                },
                                {
                                    "0": "2",
                                    "1": "Sharpner",
                                    "2": "9.00",
                                    "3": "12",
                                    "4": "2",
                                    "5": "2"
                                },
                                {
                                    "0": "5",
                                    "1": "Glue stick",
                                    "2": "50.00",
                                    "3": "13",
                                    "4": "5",
                                    "5": "1"
                                },
                                {
                                    "0": "5",
                                    "1": "Glue stick",
                                    "2": "50.00",
                                    "3": "14",
                                    "4": "5",
                                    "5": "2"
                                },
                                {
                                    "0": "5",
                                    "1": "Glue stick",
                                    "2": "50.00",
                                    "3": "15",
                                    "4": "5",
                                    "5": "3"
                                },
                                {
                                    "0": "6",
                                    "1": "White board",
                                    "2": "580.00",
                                    "3": "16",
                                    "4": "6",
                                    "5": "1"
                                }
                            ]
                        },
                        "text/html": "<table><tr><th>id</th><th>name</th><th>price</th><th>id</th><th>item_id</th><th>customer_id</th></tr><tr><td>1</td><td>Pencil</td><td>12.20</td><td>9</td><td>1</td><td>1</td></tr><tr><td>1</td><td>Pencil</td><td>12.20</td><td>10</td><td>1</td><td>2</td></tr><tr><td>2</td><td>Sharpner</td><td>9.00</td><td>11</td><td>2</td><td>1</td></tr><tr><td>2</td><td>Sharpner</td><td>9.00</td><td>12</td><td>2</td><td>2</td></tr><tr><td>5</td><td>Glue stick</td><td>50.00</td><td>13</td><td>5</td><td>1</td></tr><tr><td>5</td><td>Glue stick</td><td>50.00</td><td>14</td><td>5</td><td>2</td></tr><tr><td>5</td><td>Glue stick</td><td>50.00</td><td>15</td><td>5</td><td>3</td></tr><tr><td>6</td><td>White board</td><td>580.00</td><td>16</td><td>6</td><td>1</td></tr></table>"
                    }
                }
            ],
            "execution_count": 8
        },
        {
            "cell_type": "code",
            "source": "SELECT * FROM items LEFT JOIN purchases ON items.id = purchases.item_id;",
            "metadata": {},
            "outputs": [
                {
                    "output_type": "display_data",
                    "data": {
                        "text/html": "(9 row(s) affected)"
                    },
                    "metadata": {}
                },
                {
                    "output_type": "display_data",
                    "data": {
                        "text/html": "Total execution time: 0:00:00.004582"
                    },
                    "metadata": {}
                },
                {
                    "output_type": "execute_result",
                    "metadata": {},
                    "execution_count": 9,
                    "data": {
                        "application/vnd.dataresource+json": {
                            "schema": {
                                "fields": [
                                    {
                                        "name": "id"
                                    },
                                    {
                                        "name": "name"
                                    },
                                    {
                                        "name": "price"
                                    },
                                    {
                                        "name": "id"
                                    },
                                    {
                                        "name": "item_id"
                                    },
                                    {
                                        "name": "customer_id"
                                    }
                                ]
                            },
                            "data": [
                                {
                                    "0": "1",
                                    "1": "Pencil",
                                    "2": "12.20",
                                    "3": "9",
                                    "4": "1",
                                    "5": "1"
                                },
                                {
                                    "0": "1",
                                    "1": "Pencil",
                                    "2": "12.20",
                                    "3": "10",
                                    "4": "1",
                                    "5": "2"
                                },
                                {
                                    "0": "2",
                                    "1": "Sharpner",
                                    "2": "9.00",
                                    "3": "11",
                                    "4": "2",
                                    "5": "1"
                                },
                                {
                                    "0": "2",
                                    "1": "Sharpner",
                                    "2": "9.00",
                                    "3": "12",
                                    "4": "2",
                                    "5": "2"
                                },
                                {
                                    "0": "5",
                                    "1": "Glue stick",
                                    "2": "50.00",
                                    "3": "13",
                                    "4": "5",
                                    "5": "1"
                                },
                                {
                                    "0": "5",
                                    "1": "Glue stick",
                                    "2": "50.00",
                                    "3": "14",
                                    "4": "5",
                                    "5": "2"
                                },
                                {
                                    "0": "5",
                                    "1": "Glue stick",
                                    "2": "50.00",
                                    "3": "15",
                                    "4": "5",
                                    "5": "3"
                                },
                                {
                                    "0": "6",
                                    "1": "White board",
                                    "2": "580.00",
                                    "3": "16",
                                    "4": "6",
                                    "5": "1"
                                },
                                {
                                    "0": "3",
                                    "1": "Notebook",
                                    "2": "20.00",
                                    "3": "NULL",
                                    "4": "NULL",
                                    "5": "NULL"
                                }
                            ]
                        },
                        "text/html": "<table><tr><th>id</th><th>name</th><th>price</th><th>id</th><th>item_id</th><th>customer_id</th></tr><tr><td>1</td><td>Pencil</td><td>12.20</td><td>9</td><td>1</td><td>1</td></tr><tr><td>1</td><td>Pencil</td><td>12.20</td><td>10</td><td>1</td><td>2</td></tr><tr><td>2</td><td>Sharpner</td><td>9.00</td><td>11</td><td>2</td><td>1</td></tr><tr><td>2</td><td>Sharpner</td><td>9.00</td><td>12</td><td>2</td><td>2</td></tr><tr><td>5</td><td>Glue stick</td><td>50.00</td><td>13</td><td>5</td><td>1</td></tr><tr><td>5</td><td>Glue stick</td><td>50.00</td><td>14</td><td>5</td><td>2</td></tr><tr><td>5</td><td>Glue stick</td><td>50.00</td><td>15</td><td>5</td><td>3</td></tr><tr><td>6</td><td>White board</td><td>580.00</td><td>16</td><td>6</td><td>1</td></tr><tr><td>3</td><td>Notebook</td><td>20.00</td><td>NULL</td><td>NULL</td><td>NULL</td></tr></table>"
                    }
                }
            ],
            "execution_count": 9
        },
        {
            "cell_type": "code",
            "source": "SELECT * FROM items RIGHT JOIN purchases ON items.id = purchases.item_id;",
            "metadata": {},
            "outputs": [
                {
                    "output_type": "display_data",
                    "data": {
                        "text/html": "(8 row(s) affected)"
                    },
                    "metadata": {}
                },
                {
                    "output_type": "display_data",
                    "data": {
                        "text/html": "Total execution time: 0:00:00.003649"
                    },
                    "metadata": {}
                },
                {
                    "output_type": "execute_result",
                    "metadata": {},
                    "execution_count": 10,
                    "data": {
                        "application/vnd.dataresource+json": {
                            "schema": {
                                "fields": [
                                    {
                                        "name": "id"
                                    },
                                    {
                                        "name": "name"
                                    },
                                    {
                                        "name": "price"
                                    },
                                    {
                                        "name": "id"
                                    },
                                    {
                                        "name": "item_id"
                                    },
                                    {
                                        "name": "customer_id"
                                    }
                                ]
                            },
                            "data": [
                                {
                                    "0": "1",
                                    "1": "Pencil",
                                    "2": "12.20",
                                    "3": "9",
                                    "4": "1",
                                    "5": "1"
                                },
                                {
                                    "0": "1",
                                    "1": "Pencil",
                                    "2": "12.20",
                                    "3": "10",
                                    "4": "1",
                                    "5": "2"
                                },
                                {
                                    "0": "2",
                                    "1": "Sharpner",
                                    "2": "9.00",
                                    "3": "11",
                                    "4": "2",
                                    "5": "1"
                                },
                                {
                                    "0": "2",
                                    "1": "Sharpner",
                                    "2": "9.00",
                                    "3": "12",
                                    "4": "2",
                                    "5": "2"
                                },
                                {
                                    "0": "5",
                                    "1": "Glue stick",
                                    "2": "50.00",
                                    "3": "13",
                                    "4": "5",
                                    "5": "1"
                                },
                                {
                                    "0": "5",
                                    "1": "Glue stick",
                                    "2": "50.00",
                                    "3": "14",
                                    "4": "5",
                                    "5": "2"
                                },
                                {
                                    "0": "5",
                                    "1": "Glue stick",
                                    "2": "50.00",
                                    "3": "15",
                                    "4": "5",
                                    "5": "3"
                                },
                                {
                                    "0": "6",
                                    "1": "White board",
                                    "2": "580.00",
                                    "3": "16",
                                    "4": "6",
                                    "5": "1"
                                }
                            ]
                        },
                        "text/html": "<table><tr><th>id</th><th>name</th><th>price</th><th>id</th><th>item_id</th><th>customer_id</th></tr><tr><td>1</td><td>Pencil</td><td>12.20</td><td>9</td><td>1</td><td>1</td></tr><tr><td>1</td><td>Pencil</td><td>12.20</td><td>10</td><td>1</td><td>2</td></tr><tr><td>2</td><td>Sharpner</td><td>9.00</td><td>11</td><td>2</td><td>1</td></tr><tr><td>2</td><td>Sharpner</td><td>9.00</td><td>12</td><td>2</td><td>2</td></tr><tr><td>5</td><td>Glue stick</td><td>50.00</td><td>13</td><td>5</td><td>1</td></tr><tr><td>5</td><td>Glue stick</td><td>50.00</td><td>14</td><td>5</td><td>2</td></tr><tr><td>5</td><td>Glue stick</td><td>50.00</td><td>15</td><td>5</td><td>3</td></tr><tr><td>6</td><td>White board</td><td>580.00</td><td>16</td><td>6</td><td>1</td></tr></table>"
                    }
                }
            ],
            "execution_count": 10
        },
        {
            "cell_type": "code",
            "source": "SELECT * FROM items FULL JOIN purchases ON items.id = purchases.item_id;",
            "metadata": {},
            "outputs": [
                {
                    "output_type": "display_data",
                    "data": {
                        "text/html": "(9 row(s) affected)"
                    },
                    "metadata": {}
                },
                {
                    "output_type": "display_data",
                    "data": {
                        "text/html": "Total execution time: 0:00:00.004950"
                    },
                    "metadata": {}
                },
                {
                    "output_type": "execute_result",
                    "metadata": {},
                    "execution_count": 11,
                    "data": {
                        "application/vnd.dataresource+json": {
                            "schema": {
                                "fields": [
                                    {
                                        "name": "id"
                                    },
                                    {
                                        "name": "name"
                                    },
                                    {
                                        "name": "price"
                                    },
                                    {
                                        "name": "id"
                                    },
                                    {
                                        "name": "item_id"
                                    },
                                    {
                                        "name": "customer_id"
                                    }
                                ]
                            },
                            "data": [
                                {
                                    "0": "1",
                                    "1": "Pencil",
                                    "2": "12.20",
                                    "3": "9",
                                    "4": "1",
                                    "5": "1"
                                },
                                {
                                    "0": "1",
                                    "1": "Pencil",
                                    "2": "12.20",
                                    "3": "10",
                                    "4": "1",
                                    "5": "2"
                                },
                                {
                                    "0": "2",
                                    "1": "Sharpner",
                                    "2": "9.00",
                                    "3": "11",
                                    "4": "2",
                                    "5": "1"
                                },
                                {
                                    "0": "2",
                                    "1": "Sharpner",
                                    "2": "9.00",
                                    "3": "12",
                                    "4": "2",
                                    "5": "2"
                                },
                                {
                                    "0": "5",
                                    "1": "Glue stick",
                                    "2": "50.00",
                                    "3": "13",
                                    "4": "5",
                                    "5": "1"
                                },
                                {
                                    "0": "5",
                                    "1": "Glue stick",
                                    "2": "50.00",
                                    "3": "14",
                                    "4": "5",
                                    "5": "2"
                                },
                                {
                                    "0": "5",
                                    "1": "Glue stick",
                                    "2": "50.00",
                                    "3": "15",
                                    "4": "5",
                                    "5": "3"
                                },
                                {
                                    "0": "6",
                                    "1": "White board",
                                    "2": "580.00",
                                    "3": "16",
                                    "4": "6",
                                    "5": "1"
                                },
                                {
                                    "0": "3",
                                    "1": "Notebook",
                                    "2": "20.00",
                                    "3": "NULL",
                                    "4": "NULL",
                                    "5": "NULL"
                                }
                            ]
                        },
                        "text/html": "<table><tr><th>id</th><th>name</th><th>price</th><th>id</th><th>item_id</th><th>customer_id</th></tr><tr><td>1</td><td>Pencil</td><td>12.20</td><td>9</td><td>1</td><td>1</td></tr><tr><td>1</td><td>Pencil</td><td>12.20</td><td>10</td><td>1</td><td>2</td></tr><tr><td>2</td><td>Sharpner</td><td>9.00</td><td>11</td><td>2</td><td>1</td></tr><tr><td>2</td><td>Sharpner</td><td>9.00</td><td>12</td><td>2</td><td>2</td></tr><tr><td>5</td><td>Glue stick</td><td>50.00</td><td>13</td><td>5</td><td>1</td></tr><tr><td>5</td><td>Glue stick</td><td>50.00</td><td>14</td><td>5</td><td>2</td></tr><tr><td>5</td><td>Glue stick</td><td>50.00</td><td>15</td><td>5</td><td>3</td></tr><tr><td>6</td><td>White board</td><td>580.00</td><td>16</td><td>6</td><td>1</td></tr><tr><td>3</td><td>Notebook</td><td>20.00</td><td>NULL</td><td>NULL</td><td>NULL</td></tr></table>"
                    }
                }
            ],
            "execution_count": 11
        },
        {
            "cell_type": "code",
            "source": "SELECT * FROM purchases RIGHT JOIN customers ON purchases.customer_id = customers.id;",
            "metadata": {},
            "outputs": [
                {
                    "output_type": "display_data",
                    "data": {
                        "text/html": "(8 row(s) affected)"
                    },
                    "metadata": {}
                },
                {
                    "output_type": "display_data",
                    "data": {
                        "text/html": "Total execution time: 0:00:00.008277"
                    },
                    "metadata": {}
                },
                {
                    "output_type": "execute_result",
                    "metadata": {},
                    "execution_count": 12,
                    "data": {
                        "application/vnd.dataresource+json": {
                            "schema": {
                                "fields": [
                                    {
                                        "name": "id"
                                    },
                                    {
                                        "name": "item_id"
                                    },
                                    {
                                        "name": "customer_id"
                                    },
                                    {
                                        "name": "id"
                                    },
                                    {
                                        "name": "firstname"
                                    },
                                    {
                                        "name": "lastname"
                                    },
                                    {
                                        "name": "address"
                                    }
                                ]
                            },
                            "data": [
                                {
                                    "0": "9",
                                    "1": "1",
                                    "2": "1",
                                    "3": "1",
                                    "4": "John",
                                    "5": "Doe",
                                    "6": "New York"
                                },
                                {
                                    "0": "10",
                                    "1": "1",
                                    "2": "2",
                                    "3": "2",
                                    "4": "Jane",
                                    "5": "Doe",
                                    "6": "York"
                                },
                                {
                                    "0": "11",
                                    "1": "2",
                                    "2": "1",
                                    "3": "1",
                                    "4": "John",
                                    "5": "Doe",
                                    "6": "New York"
                                },
                                {
                                    "0": "12",
                                    "1": "2",
                                    "2": "2",
                                    "3": "2",
                                    "4": "Jane",
                                    "5": "Doe",
                                    "6": "York"
                                },
                                {
                                    "0": "13",
                                    "1": "5",
                                    "2": "1",
                                    "3": "1",
                                    "4": "John",
                                    "5": "Doe",
                                    "6": "New York"
                                },
                                {
                                    "0": "14",
                                    "1": "5",
                                    "2": "2",
                                    "3": "2",
                                    "4": "Jane",
                                    "5": "Doe",
                                    "6": "York"
                                },
                                {
                                    "0": "15",
                                    "1": "5",
                                    "2": "3",
                                    "3": "3",
                                    "4": "John",
                                    "5": "Watson",
                                    "6": "London"
                                },
                                {
                                    "0": "16",
                                    "1": "6",
                                    "2": "1",
                                    "3": "1",
                                    "4": "John",
                                    "5": "Doe",
                                    "6": "New York"
                                }
                            ]
                        },
                        "text/html": "<table><tr><th>id</th><th>item_id</th><th>customer_id</th><th>id</th><th>firstname</th><th>lastname</th><th>address</th></tr><tr><td>9</td><td>1</td><td>1</td><td>1</td><td>John</td><td>Doe</td><td>New York</td></tr><tr><td>10</td><td>1</td><td>2</td><td>2</td><td>Jane</td><td>Doe</td><td>York</td></tr><tr><td>11</td><td>2</td><td>1</td><td>1</td><td>John</td><td>Doe</td><td>New York</td></tr><tr><td>12</td><td>2</td><td>2</td><td>2</td><td>Jane</td><td>Doe</td><td>York</td></tr><tr><td>13</td><td>5</td><td>1</td><td>1</td><td>John</td><td>Doe</td><td>New York</td></tr><tr><td>14</td><td>5</td><td>2</td><td>2</td><td>Jane</td><td>Doe</td><td>York</td></tr><tr><td>15</td><td>5</td><td>3</td><td>3</td><td>John</td><td>Watson</td><td>London</td></tr><tr><td>16</td><td>6</td><td>1</td><td>1</td><td>John</td><td>Doe</td><td>New York</td></tr></table>"
                    }
                }
            ],
            "execution_count": 12
        },
        {
            "cell_type": "code",
            "source": "SELECT * FROM items\nINNER JOIN purchases ON items.id = purchases.item_id\nINNER JOIN customers ON purchases.customer_id = customers.id;",
            "metadata": {},
            "outputs": [
                {
                    "output_type": "display_data",
                    "data": {
                        "text/html": "(8 row(s) affected)"
                    },
                    "metadata": {}
                },
                {
                    "output_type": "display_data",
                    "data": {
                        "text/html": "Total execution time: 0:00:00.005198"
                    },
                    "metadata": {}
                },
                {
                    "output_type": "execute_result",
                    "metadata": {},
                    "execution_count": 13,
                    "data": {
                        "application/vnd.dataresource+json": {
                            "schema": {
                                "fields": [
                                    {
                                        "name": "id"
                                    },
                                    {
                                        "name": "name"
                                    },
                                    {
                                        "name": "price"
                                    },
                                    {
                                        "name": "id"
                                    },
                                    {
                                        "name": "item_id"
                                    },
                                    {
                                        "name": "customer_id"
                                    },
                                    {
                                        "name": "id"
                                    },
                                    {
                                        "name": "firstname"
                                    },
                                    {
                                        "name": "lastname"
                                    },
                                    {
                                        "name": "address"
                                    }
                                ]
                            },
                            "data": [
                                {
                                    "0": "1",
                                    "1": "Pencil",
                                    "2": "12.20",
                                    "3": "9",
                                    "4": "1",
                                    "5": "1",
                                    "6": "1",
                                    "7": "John",
                                    "8": "Doe",
                                    "9": "New York"
                                },
                                {
                                    "0": "1",
                                    "1": "Pencil",
                                    "2": "12.20",
                                    "3": "10",
                                    "4": "1",
                                    "5": "2",
                                    "6": "2",
                                    "7": "Jane",
                                    "8": "Doe",
                                    "9": "York"
                                },
                                {
                                    "0": "2",
                                    "1": "Sharpner",
                                    "2": "9.00",
                                    "3": "11",
                                    "4": "2",
                                    "5": "1",
                                    "6": "1",
                                    "7": "John",
                                    "8": "Doe",
                                    "9": "New York"
                                },
                                {
                                    "0": "2",
                                    "1": "Sharpner",
                                    "2": "9.00",
                                    "3": "12",
                                    "4": "2",
                                    "5": "2",
                                    "6": "2",
                                    "7": "Jane",
                                    "8": "Doe",
                                    "9": "York"
                                },
                                {
                                    "0": "5",
                                    "1": "Glue stick",
                                    "2": "50.00",
                                    "3": "13",
                                    "4": "5",
                                    "5": "1",
                                    "6": "1",
                                    "7": "John",
                                    "8": "Doe",
                                    "9": "New York"
                                },
                                {
                                    "0": "5",
                                    "1": "Glue stick",
                                    "2": "50.00",
                                    "3": "14",
                                    "4": "5",
                                    "5": "2",
                                    "6": "2",
                                    "7": "Jane",
                                    "8": "Doe",
                                    "9": "York"
                                },
                                {
                                    "0": "5",
                                    "1": "Glue stick",
                                    "2": "50.00",
                                    "3": "15",
                                    "4": "5",
                                    "5": "3",
                                    "6": "3",
                                    "7": "John",
                                    "8": "Watson",
                                    "9": "London"
                                },
                                {
                                    "0": "6",
                                    "1": "White board",
                                    "2": "580.00",
                                    "3": "16",
                                    "4": "6",
                                    "5": "1",
                                    "6": "1",
                                    "7": "John",
                                    "8": "Doe",
                                    "9": "New York"
                                }
                            ]
                        },
                        "text/html": "<table><tr><th>id</th><th>name</th><th>price</th><th>id</th><th>item_id</th><th>customer_id</th><th>id</th><th>firstname</th><th>lastname</th><th>address</th></tr><tr><td>1</td><td>Pencil</td><td>12.20</td><td>9</td><td>1</td><td>1</td><td>1</td><td>John</td><td>Doe</td><td>New York</td></tr><tr><td>1</td><td>Pencil</td><td>12.20</td><td>10</td><td>1</td><td>2</td><td>2</td><td>Jane</td><td>Doe</td><td>York</td></tr><tr><td>2</td><td>Sharpner</td><td>9.00</td><td>11</td><td>2</td><td>1</td><td>1</td><td>John</td><td>Doe</td><td>New York</td></tr><tr><td>2</td><td>Sharpner</td><td>9.00</td><td>12</td><td>2</td><td>2</td><td>2</td><td>Jane</td><td>Doe</td><td>York</td></tr><tr><td>5</td><td>Glue stick</td><td>50.00</td><td>13</td><td>5</td><td>1</td><td>1</td><td>John</td><td>Doe</td><td>New York</td></tr><tr><td>5</td><td>Glue stick</td><td>50.00</td><td>14</td><td>5</td><td>2</td><td>2</td><td>Jane</td><td>Doe</td><td>York</td></tr><tr><td>5</td><td>Glue stick</td><td>50.00</td><td>15</td><td>5</td><td>3</td><td>3</td><td>John</td><td>Watson</td><td>London</td></tr><tr><td>6</td><td>White board</td><td>580.00</td><td>16</td><td>6</td><td>1</td><td>1</td><td>John</td><td>Doe</td><td>New York</td></tr></table>"
                    }
                }
            ],
            "execution_count": 13
        },
        {
            "cell_type": "code",
            "source": "",
            "metadata": {},
            "outputs": []
        }
    ]
}