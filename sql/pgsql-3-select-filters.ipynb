{
    "metadata": {
        "kernelspec": {
            "name": "SQL",
            "display_name": "SQL",
            "language": "sql"
        },
        "language_info": {
            "name": "sql",
            "version": ""
        }
    },
    "nbformat_minor": 2,
    "nbformat": 4,
    "cells": [
        {
            "cell_type": "code",
            "source": "-- get all employees working on Music and makes salary greater than 500000\nSELECT * FROM employees\nWHERE department = 'Music' AND salary > 500000;",
            "metadata": {},
            "outputs": [
                {
                    "output_type": "display_data",
                    "data": {
                        "text/html": "(23 row(s) affected)"
                    },
                    "metadata": {}
                },
                {
                    "output_type": "display_data",
                    "data": {
                        "text/html": "Total execution time: 0:00:00.008821"
                    },
                    "metadata": {}
                },
                {
                    "output_type": "execute_result",
                    "metadata": {},
                    "execution_count": 1,
                    "data": {
                        "application/vnd.dataresource+json": {
                            "schema": {
                                "fields": [
                                    {
                                        "name": "id"
                                    },
                                    {
                                        "name": "first_name"
                                    },
                                    {
                                        "name": "last_name"
                                    },
                                    {
                                        "name": "email"
                                    },
                                    {
                                        "name": "hire_date"
                                    },
                                    {
                                        "name": "department"
                                    },
                                    {
                                        "name": "gender"
                                    },
                                    {
                                        "name": "salary"
                                    },
                                    {
                                        "name": "region_id"
                                    }
                                ]
                            },
                            "data": [
                                {
                                    "0": "18",
                                    "1": "Martainn",
                                    "2": "Graysmark",
                                    "3": "mgraysmarkh@fc2.com",
                                    "4": "2017-05-06",
                                    "5": "Music",
                                    "6": "M",
                                    "7": "798639.47",
                                    "8": "5"
                                },
                                {
                                    "0": "29",
                                    "1": "Elmore",
                                    "2": "Gossling",
                                    "3": "egosslings@etsy.com",
                                    "4": "2013-01-31",
                                    "5": "Music",
                                    "6": "M",
                                    "7": "520556.53",
                                    "8": "2"
                                },
                                {
                                    "0": "45",
                                    "1": "Mitchael",
                                    "2": "Helversen",
                                    "3": "mhelversen18@xing.com",
                                    "4": "2015-07-26",
                                    "5": "Music",
                                    "6": "M",
                                    "7": "662026.78",
                                    "8": "3"
                                },
                                {
                                    "0": "46",
                                    "1": "Torre",
                                    "2": "Tarbin",
                                    "3": "ttarbin19@amazon.com",
                                    "4": "2011-03-13",
                                    "5": "Music",
                                    "6": "M",
                                    "7": "614735.69",
                                    "8": "4"
                                },
                                {
                                    "0": "57",
                                    "1": "Baxie",
                                    "2": "Maffezzoli",
                                    "3": "bmaffezzoli1k@macromedia.com",
                                    "4": "2014-10-24",
                                    "5": "Music",
                                    "6": "M",
                                    "7": "566892.29",
                                    "8": "1"
                                },
                                {
                                    "0": "61",
                                    "1": "Beale",
                                    "2": "Bemwell",
                                    "3": "bbemwell1o@people.com.cn",
                                    "4": "2017-05-27",
                                    "5": "Music",
                                    "6": "M",
                                    "7": "549350.05",
                                    "8": "5"
                                },
                                {
                                    "0": "91",
                                    "1": "Sky",
                                    "2": "Jacobi",
                                    "3": "sjacobi2i@reuters.com",
                                    "4": "2013-11-08",
                                    "5": "Music",
                                    "6": "M",
                                    "7": "522645.47",
                                    "8": "7"
                                },
                                {
                                    "0": "137",
                                    "1": "Kean",
                                    "2": "Castanares",
                                    "3": "kcastanares3s@about.com",
                                    "4": "2017-03-09",
                                    "5": "Music",
                                    "6": "M",
                                    "7": "787948.64",
                                    "8": "2"
                                },
                                {
                                    "0": "166",
                                    "1": "Bridgette",
                                    "2": "Attiwill",
                                    "3": "battiwill4l@1und1.de",
                                    "4": "2014-07-05",
                                    "5": "Music",
                                    "6": "F",
                                    "7": "848774.68",
                                    "8": "1"
                                },
                                {
                                    "0": "177",
                                    "1": "Genevieve",
                                    "2": "Bentson",
                                    "3": "gbentson4w@myspace.com",
                                    "4": "2015-10-27",
                                    "5": "Music",
                                    "6": "F",
                                    "7": "819623.86",
                                    "8": "5"
                                },
                                {
                                    "0": "241",
                                    "1": "Buddie",
                                    "2": "Klemps",
                                    "3": "bklemps6o@geocities.com",
                                    "4": "2017-03-19",
                                    "5": "Music",
                                    "6": "M",
                                    "7": "601311.60",
                                    "8": "7"
                                },
                                {
                                    "0": "300",
                                    "1": "Franz",
                                    "2": "Navarijo",
                                    "3": "fnavarijo8b@so-net.ne.jp",
                                    "4": "2017-12-19",
                                    "5": "Music",
                                    "6": "M",
                                    "7": "791816.70",
                                    "8": "3"
                                },
                                {
                                    "0": "381",
                                    "1": "Ingrid",
                                    "2": "Windas",
                                    "3": "iwindasak@ucla.edu",
                                    "4": "2013-11-29",
                                    "5": "Music",
                                    "6": "F",
                                    "7": "602675.63",
                                    "8": "1"
                                },
                                {
                                    "0": "415",
                                    "1": "Leona",
                                    "2": "Karp",
                                    "3": "lkarpbi@who.int",
                                    "4": "2015-04-08",
                                    "5": "Music",
                                    "6": "F",
                                    "7": "510914.16",
                                    "8": "3"
                                },
                                {
                                    "0": "445",
                                    "1": "Anastasia",
                                    "2": "Gummery",
                                    "3": "agummerycc@friendfeed.com",
                                    "4": "2017-12-21",
                                    "5": "Music",
                                    "6": "F",
                                    "7": "594468.23",
                                    "8": "5"
                                },
                                {
                                    "0": "460",
                                    "1": "Isaak",
                                    "2": "Wotton",
                                    "3": "iwottoncr@jigsy.com",
                                    "4": "2013-06-29",
                                    "5": "Music",
                                    "6": "M",
                                    "7": "899971.34",
                                    "8": "3"
                                },
                                {
                                    "0": "462",
                                    "1": "Velvet",
                                    "2": "Desson",
                                    "3": "vdessonct@prlog.org",
                                    "4": "2016-11-05",
                                    "5": "Music",
                                    "6": "F",
                                    "7": "804116.94",
                                    "8": "5"
                                },
                                {
                                    "0": "504",
                                    "1": "Hussein",
                                    "2": "McEvoy",
                                    "3": "hmcevoydz@com.com",
                                    "4": "2014-12-30",
                                    "5": "Music",
                                    "6": "M",
                                    "7": "507721.90",
                                    "8": "7"
                                },
                                {
                                    "0": "505",
                                    "1": "Herta",
                                    "2": "Gransden",
                                    "3": "hgransdene0@latimes.com",
                                    "4": "2013-06-20",
                                    "5": "Music",
                                    "6": "F",
                                    "7": "747969.44",
                                    "8": "7"
                                },
                                {
                                    "0": "506",
                                    "1": "Johanna",
                                    "2": "Teall",
                                    "3": "jtealle1@cargocollective.com",
                                    "4": "2016-02-21",
                                    "5": "Music",
                                    "6": "F",
                                    "7": "710199.75",
                                    "8": "4"
                                },
                                {
                                    "0": "558",
                                    "1": "Carlyle",
                                    "2": "Loache",
                                    "3": "cloache11@skype.com",
                                    "4": "2014-01-14",
                                    "5": "Music",
                                    "6": "M",
                                    "7": "863392.16",
                                    "8": "1"
                                },
                                {
                                    "0": "564",
                                    "1": "Worthington",
                                    "2": "Stancer",
                                    "3": "wstancer17@toplist.cz",
                                    "4": "2015-03-18",
                                    "5": "Music",
                                    "6": "M",
                                    "7": "826369.60",
                                    "8": "6"
                                },
                                {
                                    "0": "567",
                                    "1": "Katti",
                                    "2": "Gaspard",
                                    "3": "kgaspard1a@flickr.com",
                                    "4": "2011-01-19",
                                    "5": "Music",
                                    "6": "F",
                                    "7": "834710.00",
                                    "8": "1"
                                }
                            ]
                        },
                        "text/html": "<table><tr><th>id</th><th>first_name</th><th>last_name</th><th>email</th><th>hire_date</th><th>department</th><th>gender</th><th>salary</th><th>region_id</th></tr><tr><td>18</td><td>Martainn</td><td>Graysmark</td><td>mgraysmarkh@fc2.com</td><td>2017-05-06</td><td>Music</td><td>M</td><td>798639.47</td><td>5</td></tr><tr><td>29</td><td>Elmore</td><td>Gossling</td><td>egosslings@etsy.com</td><td>2013-01-31</td><td>Music</td><td>M</td><td>520556.53</td><td>2</td></tr><tr><td>45</td><td>Mitchael</td><td>Helversen</td><td>mhelversen18@xing.com</td><td>2015-07-26</td><td>Music</td><td>M</td><td>662026.78</td><td>3</td></tr><tr><td>46</td><td>Torre</td><td>Tarbin</td><td>ttarbin19@amazon.com</td><td>2011-03-13</td><td>Music</td><td>M</td><td>614735.69</td><td>4</td></tr><tr><td>57</td><td>Baxie</td><td>Maffezzoli</td><td>bmaffezzoli1k@macromedia.com</td><td>2014-10-24</td><td>Music</td><td>M</td><td>566892.29</td><td>1</td></tr><tr><td>61</td><td>Beale</td><td>Bemwell</td><td>bbemwell1o@people.com.cn</td><td>2017-05-27</td><td>Music</td><td>M</td><td>549350.05</td><td>5</td></tr><tr><td>91</td><td>Sky</td><td>Jacobi</td><td>sjacobi2i@reuters.com</td><td>2013-11-08</td><td>Music</td><td>M</td><td>522645.47</td><td>7</td></tr><tr><td>137</td><td>Kean</td><td>Castanares</td><td>kcastanares3s@about.com</td><td>2017-03-09</td><td>Music</td><td>M</td><td>787948.64</td><td>2</td></tr><tr><td>166</td><td>Bridgette</td><td>Attiwill</td><td>battiwill4l@1und1.de</td><td>2014-07-05</td><td>Music</td><td>F</td><td>848774.68</td><td>1</td></tr><tr><td>177</td><td>Genevieve</td><td>Bentson</td><td>gbentson4w@myspace.com</td><td>2015-10-27</td><td>Music</td><td>F</td><td>819623.86</td><td>5</td></tr><tr><td>241</td><td>Buddie</td><td>Klemps</td><td>bklemps6o@geocities.com</td><td>2017-03-19</td><td>Music</td><td>M</td><td>601311.60</td><td>7</td></tr><tr><td>300</td><td>Franz</td><td>Navarijo</td><td>fnavarijo8b@so-net.ne.jp</td><td>2017-12-19</td><td>Music</td><td>M</td><td>791816.70</td><td>3</td></tr><tr><td>381</td><td>Ingrid</td><td>Windas</td><td>iwindasak@ucla.edu</td><td>2013-11-29</td><td>Music</td><td>F</td><td>602675.63</td><td>1</td></tr><tr><td>415</td><td>Leona</td><td>Karp</td><td>lkarpbi@who.int</td><td>2015-04-08</td><td>Music</td><td>F</td><td>510914.16</td><td>3</td></tr><tr><td>445</td><td>Anastasia</td><td>Gummery</td><td>agummerycc@friendfeed.com</td><td>2017-12-21</td><td>Music</td><td>F</td><td>594468.23</td><td>5</td></tr><tr><td>460</td><td>Isaak</td><td>Wotton</td><td>iwottoncr@jigsy.com</td><td>2013-06-29</td><td>Music</td><td>M</td><td>899971.34</td><td>3</td></tr><tr><td>462</td><td>Velvet</td><td>Desson</td><td>vdessonct@prlog.org</td><td>2016-11-05</td><td>Music</td><td>F</td><td>804116.94</td><td>5</td></tr><tr><td>504</td><td>Hussein</td><td>McEvoy</td><td>hmcevoydz@com.com</td><td>2014-12-30</td><td>Music</td><td>M</td><td>507721.90</td><td>7</td></tr><tr><td>505</td><td>Herta</td><td>Gransden</td><td>hgransdene0@latimes.com</td><td>2013-06-20</td><td>Music</td><td>F</td><td>747969.44</td><td>7</td></tr><tr><td>506</td><td>Johanna</td><td>Teall</td><td>jtealle1@cargocollective.com</td><td>2016-02-21</td><td>Music</td><td>F</td><td>710199.75</td><td>4</td></tr><tr><td>558</td><td>Carlyle</td><td>Loache</td><td>cloache11@skype.com</td><td>2014-01-14</td><td>Music</td><td>M</td><td>863392.16</td><td>1</td></tr><tr><td>564</td><td>Worthington</td><td>Stancer</td><td>wstancer17@toplist.cz</td><td>2015-03-18</td><td>Music</td><td>M</td><td>826369.60</td><td>6</td></tr><tr><td>567</td><td>Katti</td><td>Gaspard</td><td>kgaspard1a@flickr.com</td><td>2011-01-19</td><td>Music</td><td>F</td><td>834710.00</td><td>1</td></tr></table>"
                    }
                }
            ],
            "execution_count": 1
        },
        {
            "cell_type": "code",
            "source": "-- get all employees working on Music and makes salary greater than 500000\n-- who work in region 3\nSELECT * FROM employees\nWHERE department = 'Music' AND salary > 500000 AND region_id = 3;",
            "metadata": {},
            "outputs": [
                {
                    "output_type": "display_data",
                    "data": {
                        "text/html": "(4 row(s) affected)"
                    },
                    "metadata": {}
                },
                {
                    "output_type": "display_data",
                    "data": {
                        "text/html": "Total execution time: 0:00:00.008414"
                    },
                    "metadata": {}
                },
                {
                    "output_type": "execute_result",
                    "metadata": {},
                    "execution_count": 2,
                    "data": {
                        "application/vnd.dataresource+json": {
                            "schema": {
                                "fields": [
                                    {
                                        "name": "id"
                                    },
                                    {
                                        "name": "first_name"
                                    },
                                    {
                                        "name": "last_name"
                                    },
                                    {
                                        "name": "email"
                                    },
                                    {
                                        "name": "hire_date"
                                    },
                                    {
                                        "name": "department"
                                    },
                                    {
                                        "name": "gender"
                                    },
                                    {
                                        "name": "salary"
                                    },
                                    {
                                        "name": "region_id"
                                    }
                                ]
                            },
                            "data": [
                                {
                                    "0": "45",
                                    "1": "Mitchael",
                                    "2": "Helversen",
                                    "3": "mhelversen18@xing.com",
                                    "4": "2015-07-26",
                                    "5": "Music",
                                    "6": "M",
                                    "7": "662026.78",
                                    "8": "3"
                                },
                                {
                                    "0": "300",
                                    "1": "Franz",
                                    "2": "Navarijo",
                                    "3": "fnavarijo8b@so-net.ne.jp",
                                    "4": "2017-12-19",
                                    "5": "Music",
                                    "6": "M",
                                    "7": "791816.70",
                                    "8": "3"
                                },
                                {
                                    "0": "415",
                                    "1": "Leona",
                                    "2": "Karp",
                                    "3": "lkarpbi@who.int",
                                    "4": "2015-04-08",
                                    "5": "Music",
                                    "6": "F",
                                    "7": "510914.16",
                                    "8": "3"
                                },
                                {
                                    "0": "460",
                                    "1": "Isaak",
                                    "2": "Wotton",
                                    "3": "iwottoncr@jigsy.com",
                                    "4": "2013-06-29",
                                    "5": "Music",
                                    "6": "M",
                                    "7": "899971.34",
                                    "8": "3"
                                }
                            ]
                        },
                        "text/html": "<table><tr><th>id</th><th>first_name</th><th>last_name</th><th>email</th><th>hire_date</th><th>department</th><th>gender</th><th>salary</th><th>region_id</th></tr><tr><td>45</td><td>Mitchael</td><td>Helversen</td><td>mhelversen18@xing.com</td><td>2015-07-26</td><td>Music</td><td>M</td><td>662026.78</td><td>3</td></tr><tr><td>300</td><td>Franz</td><td>Navarijo</td><td>fnavarijo8b@so-net.ne.jp</td><td>2017-12-19</td><td>Music</td><td>M</td><td>791816.70</td><td>3</td></tr><tr><td>415</td><td>Leona</td><td>Karp</td><td>lkarpbi@who.int</td><td>2015-04-08</td><td>Music</td><td>F</td><td>510914.16</td><td>3</td></tr><tr><td>460</td><td>Isaak</td><td>Wotton</td><td>iwottoncr@jigsy.com</td><td>2013-06-29</td><td>Music</td><td>M</td><td>899971.34</td><td>3</td></tr></table>"
                    }
                }
            ],
            "execution_count": 2
        },
        {
            "cell_type": "code",
            "source": "-- get all employees whose salary is greater than 890000 or less than 20000\nSELECT * FROM employees\nWHERE salary > 890000 OR salary < 20000;",
            "metadata": {},
            "outputs": [
                {
                    "output_type": "display_data",
                    "data": {
                        "text/html": "(13 row(s) affected)"
                    },
                    "metadata": {}
                },
                {
                    "output_type": "display_data",
                    "data": {
                        "text/html": "Total execution time: 0:00:00.008907"
                    },
                    "metadata": {}
                },
                {
                    "output_type": "execute_result",
                    "metadata": {},
                    "execution_count": 4,
                    "data": {
                        "application/vnd.dataresource+json": {
                            "schema": {
                                "fields": [
                                    {
                                        "name": "id"
                                    },
                                    {
                                        "name": "first_name"
                                    },
                                    {
                                        "name": "last_name"
                                    },
                                    {
                                        "name": "email"
                                    },
                                    {
                                        "name": "hire_date"
                                    },
                                    {
                                        "name": "department"
                                    },
                                    {
                                        "name": "gender"
                                    },
                                    {
                                        "name": "salary"
                                    },
                                    {
                                        "name": "region_id"
                                    }
                                ]
                            },
                            "data": [
                                {
                                    "0": "115",
                                    "1": "Averil",
                                    "2": "Woodthorpe",
                                    "3": "awoodthorpe36@ezinearticles.com",
                                    "4": "2019-03-09",
                                    "5": "Garden",
                                    "6": "M",
                                    "7": "11353.80",
                                    "8": "7"
                                },
                                {
                                    "0": "136",
                                    "1": "Mata",
                                    "2": "Burnel",
                                    "3": "mburnel3r@over-blog.com",
                                    "4": "2013-12-07",
                                    "5": "Automotive",
                                    "6": "M",
                                    "7": "891362.71",
                                    "8": "3"
                                },
                                {
                                    "0": "181",
                                    "1": "Bekki",
                                    "2": "Christon",
                                    "3": "bchriston50@pinterest.com",
                                    "4": "2013-06-28",
                                    "5": "Clothing",
                                    "6": "F",
                                    "7": "14653.36",
                                    "8": "6"
                                },
                                {
                                    "0": "209",
                                    "1": "Candide",
                                    "2": "Arnhold",
                                    "3": "carnhold5s@ifeng.com",
                                    "4": "2019-02-22",
                                    "5": "Clothing",
                                    "6": "F",
                                    "7": "18282.88",
                                    "8": "5"
                                },
                                {
                                    "0": "242",
                                    "1": "Ava",
                                    "2": "Hugli",
                                    "3": "ahugli6p@ameblo.jp",
                                    "4": "2018-09-16",
                                    "5": "Books",
                                    "6": "F",
                                    "7": "11442.83",
                                    "8": "1"
                                },
                                {
                                    "0": "244",
                                    "1": "Em",
                                    "2": "Hayen",
                                    "3": "ehayen6r@cdc.gov",
                                    "4": "2015-03-19",
                                    "5": "Books",
                                    "6": "M",
                                    "7": "893687.39",
                                    "8": "3"
                                },
                                {
                                    "0": "268",
                                    "1": "Clerkclaude",
                                    "2": "Mussalli",
                                    "3": "cmussalli7f@pinterest.com",
                                    "4": "2016-02-11",
                                    "5": "Automotive",
                                    "6": "M",
                                    "7": "14496.80",
                                    "8": "4"
                                },
                                {
                                    "0": "323",
                                    "1": "Lorinda",
                                    "2": "Challis",
                                    "3": "lchallis8y@t.co",
                                    "4": "2016-12-14",
                                    "5": "Shoes",
                                    "6": "F",
                                    "7": "890897.12",
                                    "8": "6"
                                },
                                {
                                    "0": "330",
                                    "1": "Rachel",
                                    "2": "Robinson",
                                    "3": "rrobinson95@live.com",
                                    "4": "2014-01-21",
                                    "5": "Beauty",
                                    "6": "F",
                                    "7": "15189.47",
                                    "8": "4"
                                },
                                {
                                    "0": "385",
                                    "1": "Sabrina",
                                    "2": "Logie",
                                    "3": "slogieao@usda.gov",
                                    "4": "2017-06-20",
                                    "5": "Computers",
                                    "6": "F",
                                    "7": "891062.15",
                                    "8": "1"
                                },
                                {
                                    "0": "441",
                                    "1": "Arnie",
                                    "2": "Gillani",
                                    "3": "agillanic8@weibo.com",
                                    "4": "2013-11-04",
                                    "5": "Automotive",
                                    "6": "M",
                                    "7": "13182.30",
                                    "8": "1"
                                },
                                {
                                    "0": "460",
                                    "1": "Isaak",
                                    "2": "Wotton",
                                    "3": "iwottoncr@jigsy.com",
                                    "4": "2013-06-29",
                                    "5": "Music",
                                    "6": "M",
                                    "7": "899971.34",
                                    "8": "3"
                                },
                                {
                                    "0": "612",
                                    "1": "Amara",
                                    "2": "Balls",
                                    "3": "NULL",
                                    "4": "2015-10-17",
                                    "5": "Shoes",
                                    "6": "F",
                                    "7": "895204.82",
                                    "8": "6"
                                }
                            ]
                        },
                        "text/html": "<table><tr><th>id</th><th>first_name</th><th>last_name</th><th>email</th><th>hire_date</th><th>department</th><th>gender</th><th>salary</th><th>region_id</th></tr><tr><td>115</td><td>Averil</td><td>Woodthorpe</td><td>awoodthorpe36@ezinearticles.com</td><td>2019-03-09</td><td>Garden</td><td>M</td><td>11353.80</td><td>7</td></tr><tr><td>136</td><td>Mata</td><td>Burnel</td><td>mburnel3r@over-blog.com</td><td>2013-12-07</td><td>Automotive</td><td>M</td><td>891362.71</td><td>3</td></tr><tr><td>181</td><td>Bekki</td><td>Christon</td><td>bchriston50@pinterest.com</td><td>2013-06-28</td><td>Clothing</td><td>F</td><td>14653.36</td><td>6</td></tr><tr><td>209</td><td>Candide</td><td>Arnhold</td><td>carnhold5s@ifeng.com</td><td>2019-02-22</td><td>Clothing</td><td>F</td><td>18282.88</td><td>5</td></tr><tr><td>242</td><td>Ava</td><td>Hugli</td><td>ahugli6p@ameblo.jp</td><td>2018-09-16</td><td>Books</td><td>F</td><td>11442.83</td><td>1</td></tr><tr><td>244</td><td>Em</td><td>Hayen</td><td>ehayen6r@cdc.gov</td><td>2015-03-19</td><td>Books</td><td>M</td><td>893687.39</td><td>3</td></tr><tr><td>268</td><td>Clerkclaude</td><td>Mussalli</td><td>cmussalli7f@pinterest.com</td><td>2016-02-11</td><td>Automotive</td><td>M</td><td>14496.80</td><td>4</td></tr><tr><td>323</td><td>Lorinda</td><td>Challis</td><td>lchallis8y@t.co</td><td>2016-12-14</td><td>Shoes</td><td>F</td><td>890897.12</td><td>6</td></tr><tr><td>330</td><td>Rachel</td><td>Robinson</td><td>rrobinson95@live.com</td><td>2014-01-21</td><td>Beauty</td><td>F</td><td>15189.47</td><td>4</td></tr><tr><td>385</td><td>Sabrina</td><td>Logie</td><td>slogieao@usda.gov</td><td>2017-06-20</td><td>Computers</td><td>F</td><td>891062.15</td><td>1</td></tr><tr><td>441</td><td>Arnie</td><td>Gillani</td><td>agillanic8@weibo.com</td><td>2013-11-04</td><td>Automotive</td><td>M</td><td>13182.30</td><td>1</td></tr><tr><td>460</td><td>Isaak</td><td>Wotton</td><td>iwottoncr@jigsy.com</td><td>2013-06-29</td><td>Music</td><td>M</td><td>899971.34</td><td>3</td></tr><tr><td>612</td><td>Amara</td><td>Balls</td><td>NULL</td><td>2015-10-17</td><td>Shoes</td><td>F</td><td>895204.82</td><td>6</td></tr></table>"
                    }
                }
            ],
            "execution_count": 4
        },
        {
            "cell_type": "code",
            "source": "-- get all employees who make less than 100000\n-- and who work in either Books or Music department\nSELECT * FROM employees\nWHERE salary < 100000 AND (department = 'Books' OR department = 'Music'); ",
            "metadata": {},
            "outputs": [
                {
                    "output_type": "display_data",
                    "data": {
                        "text/html": "(7 row(s) affected)"
                    },
                    "metadata": {}
                },
                {
                    "output_type": "display_data",
                    "data": {
                        "text/html": "Total execution time: 0:00:00.010382"
                    },
                    "metadata": {}
                },
                {
                    "output_type": "execute_result",
                    "metadata": {},
                    "execution_count": 8,
                    "data": {
                        "application/vnd.dataresource+json": {
                            "schema": {
                                "fields": [
                                    {
                                        "name": "id"
                                    },
                                    {
                                        "name": "first_name"
                                    },
                                    {
                                        "name": "last_name"
                                    },
                                    {
                                        "name": "email"
                                    },
                                    {
                                        "name": "hire_date"
                                    },
                                    {
                                        "name": "department"
                                    },
                                    {
                                        "name": "gender"
                                    },
                                    {
                                        "name": "salary"
                                    },
                                    {
                                        "name": "region_id"
                                    }
                                ]
                            },
                            "data": [
                                {
                                    "0": "109",
                                    "1": "Caritta",
                                    "2": "Ashtonhurst",
                                    "3": "cashtonhurst30@delicious.com",
                                    "4": "2013-11-29",
                                    "5": "Music",
                                    "6": "F",
                                    "7": "50590.56",
                                    "8": "4"
                                },
                                {
                                    "0": "242",
                                    "1": "Ava",
                                    "2": "Hugli",
                                    "3": "ahugli6p@ameblo.jp",
                                    "4": "2018-09-16",
                                    "5": "Books",
                                    "6": "F",
                                    "7": "11442.83",
                                    "8": "1"
                                },
                                {
                                    "0": "356",
                                    "1": "Wiley",
                                    "2": "Callaway",
                                    "3": "wcallaway9v@google.fr",
                                    "4": "2019-01-17",
                                    "5": "Books",
                                    "6": "M",
                                    "7": "81711.28",
                                    "8": "8"
                                },
                                {
                                    "0": "359",
                                    "1": "Robbert",
                                    "2": "Katz",
                                    "3": "rkatz9y@intel.com",
                                    "4": "2011-08-22",
                                    "5": "Books",
                                    "6": "M",
                                    "7": "64250.29",
                                    "8": "5"
                                },
                                {
                                    "0": "397",
                                    "1": "Krishna",
                                    "2": "Back",
                                    "3": "kbackb0@biglobe.ne.jp",
                                    "4": "2012-06-28",
                                    "5": "Books",
                                    "6": "M",
                                    "7": "97284.56",
                                    "8": "3"
                                },
                                {
                                    "0": "454",
                                    "1": "Norry",
                                    "2": "Tufts",
                                    "3": "ntuftscl@forbes.com",
                                    "4": "2016-06-22",
                                    "5": "Books",
                                    "6": "F",
                                    "7": "23242.37",
                                    "8": "6"
                                },
                                {
                                    "0": "594",
                                    "1": "Kerrin",
                                    "2": "Hawford",
                                    "3": "khawford21@imdb.com",
                                    "4": "2012-11-01",
                                    "5": "Music",
                                    "6": "F",
                                    "7": "86533.80",
                                    "8": "5"
                                }
                            ]
                        },
                        "text/html": "<table><tr><th>id</th><th>first_name</th><th>last_name</th><th>email</th><th>hire_date</th><th>department</th><th>gender</th><th>salary</th><th>region_id</th></tr><tr><td>109</td><td>Caritta</td><td>Ashtonhurst</td><td>cashtonhurst30@delicious.com</td><td>2013-11-29</td><td>Music</td><td>F</td><td>50590.56</td><td>4</td></tr><tr><td>242</td><td>Ava</td><td>Hugli</td><td>ahugli6p@ameblo.jp</td><td>2018-09-16</td><td>Books</td><td>F</td><td>11442.83</td><td>1</td></tr><tr><td>356</td><td>Wiley</td><td>Callaway</td><td>wcallaway9v@google.fr</td><td>2019-01-17</td><td>Books</td><td>M</td><td>81711.28</td><td>8</td></tr><tr><td>359</td><td>Robbert</td><td>Katz</td><td>rkatz9y@intel.com</td><td>2011-08-22</td><td>Books</td><td>M</td><td>64250.29</td><td>5</td></tr><tr><td>397</td><td>Krishna</td><td>Back</td><td>kbackb0@biglobe.ne.jp</td><td>2012-06-28</td><td>Books</td><td>M</td><td>97284.56</td><td>3</td></tr><tr><td>454</td><td>Norry</td><td>Tufts</td><td>ntuftscl@forbes.com</td><td>2016-06-22</td><td>Books</td><td>F</td><td>23242.37</td><td>6</td></tr><tr><td>594</td><td>Kerrin</td><td>Hawford</td><td>khawford21@imdb.com</td><td>2012-11-01</td><td>Music</td><td>F</td><td>86533.80</td><td>5</td></tr></table>"
                    }
                }
            ],
            "execution_count": 8
        },
        {
            "cell_type": "code",
            "source": "-- get all employees who are in department other than Books\nSELECT * FROM employees\nWHERE NOT department = 'Books' limit 5; ",
            "metadata": {},
            "outputs": [
                {
                    "output_type": "display_data",
                    "data": {
                        "text/html": "(5 row(s) affected)"
                    },
                    "metadata": {}
                },
                {
                    "output_type": "display_data",
                    "data": {
                        "text/html": "Total execution time: 0:00:00.007518"
                    },
                    "metadata": {}
                },
                {
                    "output_type": "execute_result",
                    "metadata": {},
                    "execution_count": 9,
                    "data": {
                        "application/vnd.dataresource+json": {
                            "schema": {
                                "fields": [
                                    {
                                        "name": "id"
                                    },
                                    {
                                        "name": "first_name"
                                    },
                                    {
                                        "name": "last_name"
                                    },
                                    {
                                        "name": "email"
                                    },
                                    {
                                        "name": "hire_date"
                                    },
                                    {
                                        "name": "department"
                                    },
                                    {
                                        "name": "gender"
                                    },
                                    {
                                        "name": "salary"
                                    },
                                    {
                                        "name": "region_id"
                                    }
                                ]
                            },
                            "data": [
                                {
                                    "0": "2",
                                    "1": "Manuel",
                                    "2": "Giffaut",
                                    "3": "mgiffaut1@google.es",
                                    "4": "2011-08-27",
                                    "5": "Computers",
                                    "6": "M",
                                    "7": "381553.72",
                                    "8": "7"
                                },
                                {
                                    "0": "3",
                                    "1": "Pinchas",
                                    "2": "Bargery",
                                    "3": "pbargery2@irs.gov",
                                    "4": "2013-05-22",
                                    "5": "Grocery",
                                    "6": "M",
                                    "7": "294478.26",
                                    "8": "5"
                                },
                                {
                                    "0": "4",
                                    "1": "Pierson",
                                    "2": "McCrudden",
                                    "3": "pmccrudden3@mysql.com",
                                    "4": "2017-09-09",
                                    "5": "Games",
                                    "6": "M",
                                    "7": "401075.77",
                                    "8": "8"
                                },
                                {
                                    "0": "5",
                                    "1": "Muire",
                                    "2": "Rapsey",
                                    "3": "mrapsey4@zimbio.com",
                                    "4": "2017-03-09",
                                    "5": "Beauty",
                                    "6": "F",
                                    "7": "274068.20",
                                    "8": "3"
                                },
                                {
                                    "0": "6",
                                    "1": "Melony",
                                    "2": "MacAless",
                                    "3": "mmacaless5@craigslist.org",
                                    "4": "2012-05-17",
                                    "5": "Jewelery",
                                    "6": "F",
                                    "7": "808765.04",
                                    "8": "2"
                                }
                            ]
                        },
                        "text/html": "<table><tr><th>id</th><th>first_name</th><th>last_name</th><th>email</th><th>hire_date</th><th>department</th><th>gender</th><th>salary</th><th>region_id</th></tr><tr><td>2</td><td>Manuel</td><td>Giffaut</td><td>mgiffaut1@google.es</td><td>2011-08-27</td><td>Computers</td><td>M</td><td>381553.72</td><td>7</td></tr><tr><td>3</td><td>Pinchas</td><td>Bargery</td><td>pbargery2@irs.gov</td><td>2013-05-22</td><td>Grocery</td><td>M</td><td>294478.26</td><td>5</td></tr><tr><td>4</td><td>Pierson</td><td>McCrudden</td><td>pmccrudden3@mysql.com</td><td>2017-09-09</td><td>Games</td><td>M</td><td>401075.77</td><td>8</td></tr><tr><td>5</td><td>Muire</td><td>Rapsey</td><td>mrapsey4@zimbio.com</td><td>2017-03-09</td><td>Beauty</td><td>F</td><td>274068.20</td><td>3</td></tr><tr><td>6</td><td>Melony</td><td>MacAless</td><td>mmacaless5@craigslist.org</td><td>2012-05-17</td><td>Jewelery</td><td>F</td><td>808765.04</td><td>2</td></tr></table>"
                    }
                }
            ],
            "execution_count": 9
        },
        {
            "cell_type": "code",
            "source": "-- get all employees who are in department other than Books\nSELECT * FROM employees\nWHERE department != 'Books' limit 5; ",
            "metadata": {},
            "outputs": [
                {
                    "output_type": "display_data",
                    "data": {
                        "text/html": "(5 row(s) affected)"
                    },
                    "metadata": {}
                },
                {
                    "output_type": "display_data",
                    "data": {
                        "text/html": "Total execution time: 0:00:00.007518"
                    },
                    "metadata": {}
                },
                {
                    "output_type": "execute_result",
                    "metadata": {},
                    "execution_count": 10,
                    "data": {
                        "application/vnd.dataresource+json": {
                            "schema": {
                                "fields": [
                                    {
                                        "name": "id"
                                    },
                                    {
                                        "name": "first_name"
                                    },
                                    {
                                        "name": "last_name"
                                    },
                                    {
                                        "name": "email"
                                    },
                                    {
                                        "name": "hire_date"
                                    },
                                    {
                                        "name": "department"
                                    },
                                    {
                                        "name": "gender"
                                    },
                                    {
                                        "name": "salary"
                                    },
                                    {
                                        "name": "region_id"
                                    }
                                ]
                            },
                            "data": [
                                {
                                    "0": "2",
                                    "1": "Manuel",
                                    "2": "Giffaut",
                                    "3": "mgiffaut1@google.es",
                                    "4": "2011-08-27",
                                    "5": "Computers",
                                    "6": "M",
                                    "7": "381553.72",
                                    "8": "7"
                                },
                                {
                                    "0": "3",
                                    "1": "Pinchas",
                                    "2": "Bargery",
                                    "3": "pbargery2@irs.gov",
                                    "4": "2013-05-22",
                                    "5": "Grocery",
                                    "6": "M",
                                    "7": "294478.26",
                                    "8": "5"
                                },
                                {
                                    "0": "4",
                                    "1": "Pierson",
                                    "2": "McCrudden",
                                    "3": "pmccrudden3@mysql.com",
                                    "4": "2017-09-09",
                                    "5": "Games",
                                    "6": "M",
                                    "7": "401075.77",
                                    "8": "8"
                                },
                                {
                                    "0": "5",
                                    "1": "Muire",
                                    "2": "Rapsey",
                                    "3": "mrapsey4@zimbio.com",
                                    "4": "2017-03-09",
                                    "5": "Beauty",
                                    "6": "F",
                                    "7": "274068.20",
                                    "8": "3"
                                },
                                {
                                    "0": "6",
                                    "1": "Melony",
                                    "2": "MacAless",
                                    "3": "mmacaless5@craigslist.org",
                                    "4": "2012-05-17",
                                    "5": "Jewelery",
                                    "6": "F",
                                    "7": "808765.04",
                                    "8": "2"
                                }
                            ]
                        },
                        "text/html": "<table><tr><th>id</th><th>first_name</th><th>last_name</th><th>email</th><th>hire_date</th><th>department</th><th>gender</th><th>salary</th><th>region_id</th></tr><tr><td>2</td><td>Manuel</td><td>Giffaut</td><td>mgiffaut1@google.es</td><td>2011-08-27</td><td>Computers</td><td>M</td><td>381553.72</td><td>7</td></tr><tr><td>3</td><td>Pinchas</td><td>Bargery</td><td>pbargery2@irs.gov</td><td>2013-05-22</td><td>Grocery</td><td>M</td><td>294478.26</td><td>5</td></tr><tr><td>4</td><td>Pierson</td><td>McCrudden</td><td>pmccrudden3@mysql.com</td><td>2017-09-09</td><td>Games</td><td>M</td><td>401075.77</td><td>8</td></tr><tr><td>5</td><td>Muire</td><td>Rapsey</td><td>mrapsey4@zimbio.com</td><td>2017-03-09</td><td>Beauty</td><td>F</td><td>274068.20</td><td>3</td></tr><tr><td>6</td><td>Melony</td><td>MacAless</td><td>mmacaless5@craigslist.org</td><td>2012-05-17</td><td>Jewelery</td><td>F</td><td>808765.04</td><td>2</td></tr></table>"
                    }
                }
            ],
            "execution_count": 10
        },
        {
            "cell_type": "code",
            "source": "-- get all employees who are in department other than Books\nSELECT * FROM employees\nWHERE department <> 'Books' limit 5; ",
            "metadata": {},
            "outputs": [
                {
                    "output_type": "display_data",
                    "data": {
                        "text/html": "(5 row(s) affected)"
                    },
                    "metadata": {}
                },
                {
                    "output_type": "display_data",
                    "data": {
                        "text/html": "Total execution time: 0:00:00.005743"
                    },
                    "metadata": {}
                },
                {
                    "output_type": "execute_result",
                    "metadata": {},
                    "execution_count": 11,
                    "data": {
                        "application/vnd.dataresource+json": {
                            "schema": {
                                "fields": [
                                    {
                                        "name": "id"
                                    },
                                    {
                                        "name": "first_name"
                                    },
                                    {
                                        "name": "last_name"
                                    },
                                    {
                                        "name": "email"
                                    },
                                    {
                                        "name": "hire_date"
                                    },
                                    {
                                        "name": "department"
                                    },
                                    {
                                        "name": "gender"
                                    },
                                    {
                                        "name": "salary"
                                    },
                                    {
                                        "name": "region_id"
                                    }
                                ]
                            },
                            "data": [
                                {
                                    "0": "2",
                                    "1": "Manuel",
                                    "2": "Giffaut",
                                    "3": "mgiffaut1@google.es",
                                    "4": "2011-08-27",
                                    "5": "Computers",
                                    "6": "M",
                                    "7": "381553.72",
                                    "8": "7"
                                },
                                {
                                    "0": "3",
                                    "1": "Pinchas",
                                    "2": "Bargery",
                                    "3": "pbargery2@irs.gov",
                                    "4": "2013-05-22",
                                    "5": "Grocery",
                                    "6": "M",
                                    "7": "294478.26",
                                    "8": "5"
                                },
                                {
                                    "0": "4",
                                    "1": "Pierson",
                                    "2": "McCrudden",
                                    "3": "pmccrudden3@mysql.com",
                                    "4": "2017-09-09",
                                    "5": "Games",
                                    "6": "M",
                                    "7": "401075.77",
                                    "8": "8"
                                },
                                {
                                    "0": "5",
                                    "1": "Muire",
                                    "2": "Rapsey",
                                    "3": "mrapsey4@zimbio.com",
                                    "4": "2017-03-09",
                                    "5": "Beauty",
                                    "6": "F",
                                    "7": "274068.20",
                                    "8": "3"
                                },
                                {
                                    "0": "6",
                                    "1": "Melony",
                                    "2": "MacAless",
                                    "3": "mmacaless5@craigslist.org",
                                    "4": "2012-05-17",
                                    "5": "Jewelery",
                                    "6": "F",
                                    "7": "808765.04",
                                    "8": "2"
                                }
                            ]
                        },
                        "text/html": "<table><tr><th>id</th><th>first_name</th><th>last_name</th><th>email</th><th>hire_date</th><th>department</th><th>gender</th><th>salary</th><th>region_id</th></tr><tr><td>2</td><td>Manuel</td><td>Giffaut</td><td>mgiffaut1@google.es</td><td>2011-08-27</td><td>Computers</td><td>M</td><td>381553.72</td><td>7</td></tr><tr><td>3</td><td>Pinchas</td><td>Bargery</td><td>pbargery2@irs.gov</td><td>2013-05-22</td><td>Grocery</td><td>M</td><td>294478.26</td><td>5</td></tr><tr><td>4</td><td>Pierson</td><td>McCrudden</td><td>pmccrudden3@mysql.com</td><td>2017-09-09</td><td>Games</td><td>M</td><td>401075.77</td><td>8</td></tr><tr><td>5</td><td>Muire</td><td>Rapsey</td><td>mrapsey4@zimbio.com</td><td>2017-03-09</td><td>Beauty</td><td>F</td><td>274068.20</td><td>3</td></tr><tr><td>6</td><td>Melony</td><td>MacAless</td><td>mmacaless5@craigslist.org</td><td>2012-05-17</td><td>Jewelery</td><td>F</td><td>808765.04</td><td>2</td></tr></table>"
                    }
                }
            ],
            "execution_count": 11
        },
        {
            "cell_type": "code",
            "source": "-- get employees whose email is null\nSELECT * FROM employees\nWHERE email IS NULL LIMIT 5; ",
            "metadata": {},
            "outputs": [
                {
                    "output_type": "display_data",
                    "data": {
                        "text/html": "(5 row(s) affected)"
                    },
                    "metadata": {}
                },
                {
                    "output_type": "display_data",
                    "data": {
                        "text/html": "Total execution time: 0:00:00.008752"
                    },
                    "metadata": {}
                },
                {
                    "output_type": "execute_result",
                    "metadata": {},
                    "execution_count": 12,
                    "data": {
                        "application/vnd.dataresource+json": {
                            "schema": {
                                "fields": [
                                    {
                                        "name": "id"
                                    },
                                    {
                                        "name": "first_name"
                                    },
                                    {
                                        "name": "last_name"
                                    },
                                    {
                                        "name": "email"
                                    },
                                    {
                                        "name": "hire_date"
                                    },
                                    {
                                        "name": "department"
                                    },
                                    {
                                        "name": "gender"
                                    },
                                    {
                                        "name": "salary"
                                    },
                                    {
                                        "name": "region_id"
                                    }
                                ]
                            },
                            "data": [
                                {
                                    "0": "521",
                                    "1": "Brier",
                                    "2": "Hynes",
                                    "3": "NULL",
                                    "4": "2017-11-26",
                                    "5": "Automotive",
                                    "6": "F",
                                    "7": "888354.50",
                                    "8": "8"
                                },
                                {
                                    "0": "526",
                                    "1": "Worthy",
                                    "2": "Albasiny",
                                    "3": "NULL",
                                    "4": "2016-09-09",
                                    "5": "Clothing",
                                    "6": "M",
                                    "7": "719306.23",
                                    "8": "5"
                                },
                                {
                                    "0": "527",
                                    "1": "Julian",
                                    "2": "Ruckman",
                                    "3": "NULL",
                                    "4": "2017-02-09",
                                    "5": "Automotive",
                                    "6": "M",
                                    "7": "248206.97",
                                    "8": "3"
                                },
                                {
                                    "0": "529",
                                    "1": "Cathryn",
                                    "2": "Dagg",
                                    "3": "NULL",
                                    "4": "2012-03-13",
                                    "5": "Garden",
                                    "6": "F",
                                    "7": "560400.88",
                                    "8": "2"
                                },
                                {
                                    "0": "530",
                                    "1": "Bordie",
                                    "2": "Pennock",
                                    "3": "NULL",
                                    "4": "2017-01-24",
                                    "5": "Grocery",
                                    "6": "M",
                                    "7": "822804.51",
                                    "8": "8"
                                }
                            ]
                        },
                        "text/html": "<table><tr><th>id</th><th>first_name</th><th>last_name</th><th>email</th><th>hire_date</th><th>department</th><th>gender</th><th>salary</th><th>region_id</th></tr><tr><td>521</td><td>Brier</td><td>Hynes</td><td>NULL</td><td>2017-11-26</td><td>Automotive</td><td>F</td><td>888354.50</td><td>8</td></tr><tr><td>526</td><td>Worthy</td><td>Albasiny</td><td>NULL</td><td>2016-09-09</td><td>Clothing</td><td>M</td><td>719306.23</td><td>5</td></tr><tr><td>527</td><td>Julian</td><td>Ruckman</td><td>NULL</td><td>2017-02-09</td><td>Automotive</td><td>M</td><td>248206.97</td><td>3</td></tr><tr><td>529</td><td>Cathryn</td><td>Dagg</td><td>NULL</td><td>2012-03-13</td><td>Garden</td><td>F</td><td>560400.88</td><td>2</td></tr><tr><td>530</td><td>Bordie</td><td>Pennock</td><td>NULL</td><td>2017-01-24</td><td>Grocery</td><td>M</td><td>822804.51</td><td>8</td></tr></table>"
                    }
                }
            ],
            "execution_count": 12
        },
        {
            "cell_type": "code",
            "source": "-- get employees whose email is not null\nSELECT * FROM employees\nWHERE email IS NOT NULL LIMIT 5; ",
            "metadata": {},
            "outputs": [
                {
                    "output_type": "display_data",
                    "data": {
                        "text/html": "(5 row(s) affected)"
                    },
                    "metadata": {}
                },
                {
                    "output_type": "display_data",
                    "data": {
                        "text/html": "Total execution time: 0:00:00.008076"
                    },
                    "metadata": {}
                },
                {
                    "output_type": "execute_result",
                    "metadata": {},
                    "execution_count": 13,
                    "data": {
                        "application/vnd.dataresource+json": {
                            "schema": {
                                "fields": [
                                    {
                                        "name": "id"
                                    },
                                    {
                                        "name": "first_name"
                                    },
                                    {
                                        "name": "last_name"
                                    },
                                    {
                                        "name": "email"
                                    },
                                    {
                                        "name": "hire_date"
                                    },
                                    {
                                        "name": "department"
                                    },
                                    {
                                        "name": "gender"
                                    },
                                    {
                                        "name": "salary"
                                    },
                                    {
                                        "name": "region_id"
                                    }
                                ]
                            },
                            "data": [
                                {
                                    "0": "1",
                                    "1": "Arabele",
                                    "2": "Cancellieri",
                                    "3": "acancellieri0@networkadvertising.org",
                                    "4": "2013-10-28",
                                    "5": "Books",
                                    "6": "F",
                                    "7": "722198.30",
                                    "8": "1"
                                },
                                {
                                    "0": "2",
                                    "1": "Manuel",
                                    "2": "Giffaut",
                                    "3": "mgiffaut1@google.es",
                                    "4": "2011-08-27",
                                    "5": "Computers",
                                    "6": "M",
                                    "7": "381553.72",
                                    "8": "7"
                                },
                                {
                                    "0": "3",
                                    "1": "Pinchas",
                                    "2": "Bargery",
                                    "3": "pbargery2@irs.gov",
                                    "4": "2013-05-22",
                                    "5": "Grocery",
                                    "6": "M",
                                    "7": "294478.26",
                                    "8": "5"
                                },
                                {
                                    "0": "4",
                                    "1": "Pierson",
                                    "2": "McCrudden",
                                    "3": "pmccrudden3@mysql.com",
                                    "4": "2017-09-09",
                                    "5": "Games",
                                    "6": "M",
                                    "7": "401075.77",
                                    "8": "8"
                                },
                                {
                                    "0": "5",
                                    "1": "Muire",
                                    "2": "Rapsey",
                                    "3": "mrapsey4@zimbio.com",
                                    "4": "2017-03-09",
                                    "5": "Beauty",
                                    "6": "F",
                                    "7": "274068.20",
                                    "8": "3"
                                }
                            ]
                        },
                        "text/html": "<table><tr><th>id</th><th>first_name</th><th>last_name</th><th>email</th><th>hire_date</th><th>department</th><th>gender</th><th>salary</th><th>region_id</th></tr><tr><td>1</td><td>Arabele</td><td>Cancellieri</td><td>acancellieri0@networkadvertising.org</td><td>2013-10-28</td><td>Books</td><td>F</td><td>722198.30</td><td>1</td></tr><tr><td>2</td><td>Manuel</td><td>Giffaut</td><td>mgiffaut1@google.es</td><td>2011-08-27</td><td>Computers</td><td>M</td><td>381553.72</td><td>7</td></tr><tr><td>3</td><td>Pinchas</td><td>Bargery</td><td>pbargery2@irs.gov</td><td>2013-05-22</td><td>Grocery</td><td>M</td><td>294478.26</td><td>5</td></tr><tr><td>4</td><td>Pierson</td><td>McCrudden</td><td>pmccrudden3@mysql.com</td><td>2017-09-09</td><td>Games</td><td>M</td><td>401075.77</td><td>8</td></tr><tr><td>5</td><td>Muire</td><td>Rapsey</td><td>mrapsey4@zimbio.com</td><td>2017-03-09</td><td>Beauty</td><td>F</td><td>274068.20</td><td>3</td></tr></table>"
                    }
                }
            ],
            "execution_count": 13
        },
        {
            "cell_type": "code",
            "source": "-- get employees who are in Books, Games and Computers department\nSELECT * FROM employees\nWHERE department IN ('Books', 'Games', 'Computers') LIMIT 10;",
            "metadata": {},
            "outputs": [
                {
                    "output_type": "display_data",
                    "data": {
                        "text/html": "(10 row(s) affected)"
                    },
                    "metadata": {}
                },
                {
                    "output_type": "display_data",
                    "data": {
                        "text/html": "Total execution time: 0:00:00.008064"
                    },
                    "metadata": {}
                },
                {
                    "output_type": "execute_result",
                    "metadata": {},
                    "execution_count": 14,
                    "data": {
                        "application/vnd.dataresource+json": {
                            "schema": {
                                "fields": [
                                    {
                                        "name": "id"
                                    },
                                    {
                                        "name": "first_name"
                                    },
                                    {
                                        "name": "last_name"
                                    },
                                    {
                                        "name": "email"
                                    },
                                    {
                                        "name": "hire_date"
                                    },
                                    {
                                        "name": "department"
                                    },
                                    {
                                        "name": "gender"
                                    },
                                    {
                                        "name": "salary"
                                    },
                                    {
                                        "name": "region_id"
                                    }
                                ]
                            },
                            "data": [
                                {
                                    "0": "1",
                                    "1": "Arabele",
                                    "2": "Cancellieri",
                                    "3": "acancellieri0@networkadvertising.org",
                                    "4": "2013-10-28",
                                    "5": "Books",
                                    "6": "F",
                                    "7": "722198.30",
                                    "8": "1"
                                },
                                {
                                    "0": "2",
                                    "1": "Manuel",
                                    "2": "Giffaut",
                                    "3": "mgiffaut1@google.es",
                                    "4": "2011-08-27",
                                    "5": "Computers",
                                    "6": "M",
                                    "7": "381553.72",
                                    "8": "7"
                                },
                                {
                                    "0": "4",
                                    "1": "Pierson",
                                    "2": "McCrudden",
                                    "3": "pmccrudden3@mysql.com",
                                    "4": "2017-09-09",
                                    "5": "Games",
                                    "6": "M",
                                    "7": "401075.77",
                                    "8": "8"
                                },
                                {
                                    "0": "8",
                                    "1": "Lesly",
                                    "2": "Luigi",
                                    "3": "lluigi7@rediff.com",
                                    "4": "2011-08-30",
                                    "5": "Computers",
                                    "6": "F",
                                    "7": "693861.00",
                                    "8": "5"
                                },
                                {
                                    "0": "11",
                                    "1": "Noble",
                                    "2": "Boston",
                                    "3": "nbostona@ehow.com",
                                    "4": "2012-04-12",
                                    "5": "Books",
                                    "6": "M",
                                    "7": "573624.98",
                                    "8": "6"
                                },
                                {
                                    "0": "15",
                                    "1": "Benedicto",
                                    "2": "Siddeley",
                                    "3": "bsiddeleye@goo.ne.jp",
                                    "4": "2010-12-01",
                                    "5": "Games",
                                    "6": "M",
                                    "7": "700440.62",
                                    "8": "5"
                                },
                                {
                                    "0": "17",
                                    "1": "Celene",
                                    "2": "Sauvain",
                                    "3": "csauvaing@seesaa.net",
                                    "4": "2011-09-15",
                                    "5": "Games",
                                    "6": "F",
                                    "7": "514976.94",
                                    "8": "4"
                                },
                                {
                                    "0": "26",
                                    "1": "Sharia",
                                    "2": "Leadbitter",
                                    "3": "sleadbitterp@newyorker.com",
                                    "4": "2017-09-24",
                                    "5": "Books",
                                    "6": "F",
                                    "7": "464269.85",
                                    "8": "7"
                                },
                                {
                                    "0": "28",
                                    "1": "Ertha",
                                    "2": "Clayhill",
                                    "3": "eclayhillr@twitter.com",
                                    "4": "2016-08-02",
                                    "5": "Games",
                                    "6": "F",
                                    "7": "62988.95",
                                    "8": "7"
                                },
                                {
                                    "0": "30",
                                    "1": "Abbey",
                                    "2": "Pagin",
                                    "3": "apagint@icio.us",
                                    "4": "2017-04-29",
                                    "5": "Games",
                                    "6": "F",
                                    "7": "600916.21",
                                    "8": "5"
                                }
                            ]
                        },
                        "text/html": "<table><tr><th>id</th><th>first_name</th><th>last_name</th><th>email</th><th>hire_date</th><th>department</th><th>gender</th><th>salary</th><th>region_id</th></tr><tr><td>1</td><td>Arabele</td><td>Cancellieri</td><td>acancellieri0@networkadvertising.org</td><td>2013-10-28</td><td>Books</td><td>F</td><td>722198.30</td><td>1</td></tr><tr><td>2</td><td>Manuel</td><td>Giffaut</td><td>mgiffaut1@google.es</td><td>2011-08-27</td><td>Computers</td><td>M</td><td>381553.72</td><td>7</td></tr><tr><td>4</td><td>Pierson</td><td>McCrudden</td><td>pmccrudden3@mysql.com</td><td>2017-09-09</td><td>Games</td><td>M</td><td>401075.77</td><td>8</td></tr><tr><td>8</td><td>Lesly</td><td>Luigi</td><td>lluigi7@rediff.com</td><td>2011-08-30</td><td>Computers</td><td>F</td><td>693861.00</td><td>5</td></tr><tr><td>11</td><td>Noble</td><td>Boston</td><td>nbostona@ehow.com</td><td>2012-04-12</td><td>Books</td><td>M</td><td>573624.98</td><td>6</td></tr><tr><td>15</td><td>Benedicto</td><td>Siddeley</td><td>bsiddeleye@goo.ne.jp</td><td>2010-12-01</td><td>Games</td><td>M</td><td>700440.62</td><td>5</td></tr><tr><td>17</td><td>Celene</td><td>Sauvain</td><td>csauvaing@seesaa.net</td><td>2011-09-15</td><td>Games</td><td>F</td><td>514976.94</td><td>4</td></tr><tr><td>26</td><td>Sharia</td><td>Leadbitter</td><td>sleadbitterp@newyorker.com</td><td>2017-09-24</td><td>Books</td><td>F</td><td>464269.85</td><td>7</td></tr><tr><td>28</td><td>Ertha</td><td>Clayhill</td><td>eclayhillr@twitter.com</td><td>2016-08-02</td><td>Games</td><td>F</td><td>62988.95</td><td>7</td></tr><tr><td>30</td><td>Abbey</td><td>Pagin</td><td>apagint@icio.us</td><td>2017-04-29</td><td>Games</td><td>F</td><td>600916.21</td><td>5</td></tr></table>"
                    }
                }
            ],
            "execution_count": 14
        },
        {
            "cell_type": "code",
            "source": "-- get employees whose salary are in between 20000 and 30000\nSELECT * FROM employees\nWHERE salary BETWEEN 20000 AND 30000;",
            "metadata": {},
            "outputs": [
                {
                    "output_type": "display_data",
                    "data": {
                        "text/html": "(8 row(s) affected)"
                    },
                    "metadata": {}
                },
                {
                    "output_type": "display_data",
                    "data": {
                        "text/html": "Total execution time: 0:00:00.016213"
                    },
                    "metadata": {}
                },
                {
                    "output_type": "execute_result",
                    "metadata": {},
                    "execution_count": 15,
                    "data": {
                        "application/vnd.dataresource+json": {
                            "schema": {
                                "fields": [
                                    {
                                        "name": "id"
                                    },
                                    {
                                        "name": "first_name"
                                    },
                                    {
                                        "name": "last_name"
                                    },
                                    {
                                        "name": "email"
                                    },
                                    {
                                        "name": "hire_date"
                                    },
                                    {
                                        "name": "department"
                                    },
                                    {
                                        "name": "gender"
                                    },
                                    {
                                        "name": "salary"
                                    },
                                    {
                                        "name": "region_id"
                                    }
                                ]
                            },
                            "data": [
                                {
                                    "0": "67",
                                    "1": "Anna",
                                    "2": "Rogan",
                                    "3": "arogan1u@technorati.com",
                                    "4": "2017-11-23",
                                    "5": "Grocery",
                                    "6": "F",
                                    "7": "29931.31",
                                    "8": "8"
                                },
                                {
                                    "0": "324",
                                    "1": "Lavinie",
                                    "2": "Whyborne",
                                    "3": "lwhyborne8z@usnews.com",
                                    "4": "2016-10-01",
                                    "5": "Games",
                                    "6": "F",
                                    "7": "21754.91",
                                    "8": "7"
                                },
                                {
                                    "0": "411",
                                    "1": "Gretchen",
                                    "2": "Kimmins",
                                    "3": "gkimminsbe@cnn.com",
                                    "4": "2012-11-17",
                                    "5": "Jewelery",
                                    "6": "F",
                                    "7": "28266.37",
                                    "8": "5"
                                },
                                {
                                    "0": "432",
                                    "1": "Rosalie",
                                    "2": "Gawkes",
                                    "3": "rgawkesbz@tinyurl.com",
                                    "4": "2012-10-31",
                                    "5": "Games",
                                    "6": "F",
                                    "7": "21883.44",
                                    "8": "7"
                                },
                                {
                                    "0": "454",
                                    "1": "Norry",
                                    "2": "Tufts",
                                    "3": "ntuftscl@forbes.com",
                                    "4": "2016-06-22",
                                    "5": "Books",
                                    "6": "F",
                                    "7": "23242.37",
                                    "8": "6"
                                },
                                {
                                    "0": "455",
                                    "1": "Mario",
                                    "2": "Giacoboni",
                                    "3": "mgiacobonicm@csmonitor.com",
                                    "4": "2017-05-08",
                                    "5": "Automotive",
                                    "6": "M",
                                    "7": "24976.38",
                                    "8": "1"
                                },
                                {
                                    "0": "502",
                                    "1": "Elga",
                                    "2": "Bolderson",
                                    "3": "eboldersondx@prlog.org",
                                    "4": "2011-12-04",
                                    "5": "Automotive",
                                    "6": "F",
                                    "7": "21395.65",
                                    "8": "7"
                                },
                                {
                                    "0": "601",
                                    "1": "Kathi",
                                    "2": "Croot",
                                    "3": "NULL",
                                    "4": "2018-06-12",
                                    "5": "Garden",
                                    "6": "F",
                                    "7": "25494.24",
                                    "8": "1"
                                }
                            ]
                        },
                        "text/html": "<table><tr><th>id</th><th>first_name</th><th>last_name</th><th>email</th><th>hire_date</th><th>department</th><th>gender</th><th>salary</th><th>region_id</th></tr><tr><td>67</td><td>Anna</td><td>Rogan</td><td>arogan1u@technorati.com</td><td>2017-11-23</td><td>Grocery</td><td>F</td><td>29931.31</td><td>8</td></tr><tr><td>324</td><td>Lavinie</td><td>Whyborne</td><td>lwhyborne8z@usnews.com</td><td>2016-10-01</td><td>Games</td><td>F</td><td>21754.91</td><td>7</td></tr><tr><td>411</td><td>Gretchen</td><td>Kimmins</td><td>gkimminsbe@cnn.com</td><td>2012-11-17</td><td>Jewelery</td><td>F</td><td>28266.37</td><td>5</td></tr><tr><td>432</td><td>Rosalie</td><td>Gawkes</td><td>rgawkesbz@tinyurl.com</td><td>2012-10-31</td><td>Games</td><td>F</td><td>21883.44</td><td>7</td></tr><tr><td>454</td><td>Norry</td><td>Tufts</td><td>ntuftscl@forbes.com</td><td>2016-06-22</td><td>Books</td><td>F</td><td>23242.37</td><td>6</td></tr><tr><td>455</td><td>Mario</td><td>Giacoboni</td><td>mgiacobonicm@csmonitor.com</td><td>2017-05-08</td><td>Automotive</td><td>M</td><td>24976.38</td><td>1</td></tr><tr><td>502</td><td>Elga</td><td>Bolderson</td><td>eboldersondx@prlog.org</td><td>2011-12-04</td><td>Automotive</td><td>F</td><td>21395.65</td><td>7</td></tr><tr><td>601</td><td>Kathi</td><td>Croot</td><td>NULL</td><td>2018-06-12</td><td>Garden</td><td>F</td><td>25494.24</td><td>1</td></tr></table>"
                    }
                }
            ],
            "execution_count": 15
        },
        {
            "cell_type": "code",
            "source": "-- get employees who are hired between jan 2012 and jan 2013\nSELECT * FROM employees\nWHERE hire_date BETWEEN '2012-01-01' AND '2013-01-30';",
            "metadata": {},
            "outputs": [
                {
                    "output_type": "display_data",
                    "data": {
                        "text/html": "(79 row(s) affected)"
                    },
                    "metadata": {}
                },
                {
                    "output_type": "display_data",
                    "data": {
                        "text/html": "Total execution time: 0:00:00.020154"
                    },
                    "metadata": {}
                },
                {
                    "output_type": "execute_result",
                    "metadata": {},
                    "execution_count": 17,
                    "data": {
                        "application/vnd.dataresource+json": {
                            "schema": {
                                "fields": [
                                    {
                                        "name": "id"
                                    },
                                    {
                                        "name": "first_name"
                                    },
                                    {
                                        "name": "last_name"
                                    },
                                    {
                                        "name": "email"
                                    },
                                    {
                                        "name": "hire_date"
                                    },
                                    {
                                        "name": "department"
                                    },
                                    {
                                        "name": "gender"
                                    },
                                    {
                                        "name": "salary"
                                    },
                                    {
                                        "name": "region_id"
                                    }
                                ]
                            },
                            "data": [
                                {
                                    "0": "6",
                                    "1": "Melony",
                                    "2": "MacAless",
                                    "3": "mmacaless5@craigslist.org",
                                    "4": "2012-05-17",
                                    "5": "Jewelery",
                                    "6": "F",
                                    "7": "808765.04",
                                    "8": "2"
                                },
                                {
                                    "0": "10",
                                    "1": "Delmore",
                                    "2": "Shackleton",
                                    "3": "dshackleton9@ustream.tv",
                                    "4": "2012-10-06",
                                    "5": "Movies",
                                    "6": "M",
                                    "7": "110128.68",
                                    "8": "7"
                                },
                                {
                                    "0": "11",
                                    "1": "Noble",
                                    "2": "Boston",
                                    "3": "nbostona@ehow.com",
                                    "4": "2012-04-12",
                                    "5": "Books",
                                    "6": "M",
                                    "7": "573624.98",
                                    "8": "6"
                                },
                                {
                                    "0": "43",
                                    "1": "Kelley",
                                    "2": "Boorer",
                                    "3": "kboorer16@taobao.com",
                                    "4": "2012-02-27",
                                    "5": "Computers",
                                    "6": "M",
                                    "7": "783217.44",
                                    "8": "6"
                                },
                                {
                                    "0": "47",
                                    "1": "Jackelyn",
                                    "2": "Lordon",
                                    "3": "jlordon1a@wisc.edu",
                                    "4": "2012-08-17",
                                    "5": "Clothing",
                                    "6": "F",
                                    "7": "420032.45",
                                    "8": "5"
                                },
                                {
                                    "0": "51",
                                    "1": "Anthea",
                                    "2": "Swinburne",
                                    "3": "aswinburne1e@yellowpages.com",
                                    "4": "2012-10-09",
                                    "5": "Books",
                                    "6": "F",
                                    "7": "112071.60",
                                    "8": "3"
                                },
                                {
                                    "0": "62",
                                    "1": "Carmita",
                                    "2": "Schleswig-Holstein",
                                    "3": "cschleswigholstein1p@sakura.ne.jp",
                                    "4": "2012-06-18",
                                    "5": "Computers",
                                    "6": "F",
                                    "7": "194509.49",
                                    "8": "7"
                                },
                                {
                                    "0": "74",
                                    "1": "Marlo",
                                    "2": "Quinnet",
                                    "3": "mquinnet21@youtu.be",
                                    "4": "2012-03-02",
                                    "5": "Movies",
                                    "6": "M",
                                    "7": "390353.76",
                                    "8": "6"
                                },
                                {
                                    "0": "88",
                                    "1": "Dex",
                                    "2": "Marde",
                                    "3": "dmarde2f@addthis.com",
                                    "4": "2012-08-09",
                                    "5": "Books",
                                    "6": "M",
                                    "7": "301902.26",
                                    "8": "7"
                                },
                                {
                                    "0": "90",
                                    "1": "Leonie",
                                    "2": "Priter",
                                    "3": "lpriter2h@blogspot.com",
                                    "4": "2012-04-11",
                                    "5": "Garden",
                                    "6": "F",
                                    "7": "798187.17",
                                    "8": "7"
                                },
                                {
                                    "0": "96",
                                    "1": "Charles",
                                    "2": "Fossett",
                                    "3": "cfossett2n@fc2.com",
                                    "4": "2012-02-12",
                                    "5": "Beauty",
                                    "6": "M",
                                    "7": "674081.49",
                                    "8": "2"
                                },
                                {
                                    "0": "99",
                                    "1": "Jenine",
                                    "2": "Dikes",
                                    "3": "jdikes2q@exblog.jp",
                                    "4": "2013-01-15",
                                    "5": "Grocery",
                                    "6": "F",
                                    "7": "391035.34",
                                    "8": "3"
                                },
                                {
                                    "0": "103",
                                    "1": "Adria",
                                    "2": "Date",
                                    "3": "adate2u@bluehost.com",
                                    "4": "2013-01-27",
                                    "5": "Jewelery",
                                    "6": "F",
                                    "7": "188829.39",
                                    "8": "5"
                                },
                                {
                                    "0": "105",
                                    "1": "Karmen",
                                    "2": "Camp",
                                    "3": "kcamp2w@jugem.jp",
                                    "4": "2012-02-22",
                                    "5": "Clothing",
                                    "6": "F",
                                    "7": "708905.62",
                                    "8": "6"
                                },
                                {
                                    "0": "107",
                                    "1": "Kaleb",
                                    "2": "Piquard",
                                    "3": "kpiquard2y@yandex.ru",
                                    "4": "2012-03-25",
                                    "5": "Jewelery",
                                    "6": "M",
                                    "7": "728873.18",
                                    "8": "2"
                                },
                                {
                                    "0": "128",
                                    "1": "Kerby",
                                    "2": "Battill",
                                    "3": "kbattill3j@freewebs.com",
                                    "4": "2012-05-15",
                                    "5": "Movies",
                                    "6": "M",
                                    "7": "578054.04",
                                    "8": "8"
                                },
                                {
                                    "0": "133",
                                    "1": "Lind",
                                    "2": "MacEvilly",
                                    "3": "lmacevilly3o@thetimes.co.uk",
                                    "4": "2012-08-31",
                                    "5": "Movies",
                                    "6": "F",
                                    "7": "349774.05",
                                    "8": "3"
                                },
                                {
                                    "0": "135",
                                    "1": "Kaiser",
                                    "2": "Heaven",
                                    "3": "kheaven3q@adobe.com",
                                    "4": "2012-09-28",
                                    "5": "Games",
                                    "6": "M",
                                    "7": "859208.20",
                                    "8": "8"
                                },
                                {
                                    "0": "143",
                                    "1": "Christoph",
                                    "2": "Sygroves",
                                    "3": "csygroves3y@github.com",
                                    "4": "2012-02-18",
                                    "5": "Games",
                                    "6": "M",
                                    "7": "527409.59",
                                    "8": "1"
                                },
                                {
                                    "0": "148",
                                    "1": "Lynn",
                                    "2": "Swapp",
                                    "3": "lswapp43@xing.com",
                                    "4": "2012-06-19",
                                    "5": "Automotive",
                                    "6": "M",
                                    "7": "701645.90",
                                    "8": "1"
                                },
                                {
                                    "0": "149",
                                    "1": "Tomasina",
                                    "2": "Lampkin",
                                    "3": "tlampkin44@admin.ch",
                                    "4": "2012-04-18",
                                    "5": "Toys",
                                    "6": "F",
                                    "7": "648306.25",
                                    "8": "7"
                                },
                                {
                                    "0": "174",
                                    "1": "Barnie",
                                    "2": "Parkhouse",
                                    "3": "bparkhouse4t@dagondesign.com",
                                    "4": "2012-05-17",
                                    "5": "Shoes",
                                    "6": "M",
                                    "7": "584496.00",
                                    "8": "7"
                                },
                                {
                                    "0": "179",
                                    "1": "Perry",
                                    "2": "Proske",
                                    "3": "pproske4y@taobao.com",
                                    "4": "2012-05-27",
                                    "5": "Automotive",
                                    "6": "F",
                                    "7": "257156.66",
                                    "8": "1"
                                },
                                {
                                    "0": "183",
                                    "1": "Micky",
                                    "2": "Maudlin",
                                    "3": "mmaudlin52@ucoz.com",
                                    "4": "2012-06-01",
                                    "5": "Books",
                                    "6": "M",
                                    "7": "186533.68",
                                    "8": "8"
                                },
                                {
                                    "0": "187",
                                    "1": "Andrea",
                                    "2": "Winchester",
                                    "3": "awinchester56@google.cn",
                                    "4": "2012-10-20",
                                    "5": "Movies",
                                    "6": "M",
                                    "7": "688786.38",
                                    "8": "1"
                                },
                                {
                                    "0": "192",
                                    "1": "Davida",
                                    "2": "Barracks",
                                    "3": "dbarracks5b@github.io",
                                    "4": "2012-07-22",
                                    "5": "Grocery",
                                    "6": "F",
                                    "7": "358262.29",
                                    "8": "8"
                                },
                                {
                                    "0": "207",
                                    "1": "Tulley",
                                    "2": "Petche",
                                    "3": "tpetche5q@indiatimes.com",
                                    "4": "2012-10-09",
                                    "5": "Computers",
                                    "6": "M",
                                    "7": "395205.58",
                                    "8": "8"
                                },
                                {
                                    "0": "208",
                                    "1": "Kathlin",
                                    "2": "Leftbridge",
                                    "3": "kleftbridge5r@nydailynews.com",
                                    "4": "2012-06-03",
                                    "5": "Jewelery",
                                    "6": "F",
                                    "7": "730435.83",
                                    "8": "6"
                                },
                                {
                                    "0": "210",
                                    "1": "Efren",
                                    "2": "Rizzone",
                                    "3": "erizzone5t@yale.edu",
                                    "4": "2012-11-29",
                                    "5": "Toys",
                                    "6": "M",
                                    "7": "669012.02",
                                    "8": "8"
                                },
                                {
                                    "0": "211",
                                    "1": "Emmalynn",
                                    "2": "Grishmanov",
                                    "3": "egrishmanov5u@qq.com",
                                    "4": "2013-01-12",
                                    "5": "Computers",
                                    "6": "F",
                                    "7": "883740.12",
                                    "8": "8"
                                },
                                {
                                    "0": "224",
                                    "1": "Hastie",
                                    "2": "Pyzer",
                                    "3": "hpyzer67@nationalgeographic.com",
                                    "4": "2012-03-08",
                                    "5": "Beauty",
                                    "6": "M",
                                    "7": "635462.74",
                                    "8": "1"
                                },
                                {
                                    "0": "227",
                                    "1": "Heywood",
                                    "2": "Sisey",
                                    "3": "hsisey6a@dagondesign.com",
                                    "4": "2012-10-31",
                                    "5": "Movies",
                                    "6": "M",
                                    "7": "192445.30",
                                    "8": "6"
                                },
                                {
                                    "0": "233",
                                    "1": "Lynn",
                                    "2": "Beachamp",
                                    "3": "lbeachamp6g@ucoz.ru",
                                    "4": "2012-04-23",
                                    "5": "Games",
                                    "6": "M",
                                    "7": "596834.15",
                                    "8": "1"
                                },
                                {
                                    "0": "236",
                                    "1": "Lacie",
                                    "2": "Dafydd",
                                    "3": "ldafydd6j@artisteer.com",
                                    "4": "2012-09-29",
                                    "5": "Grocery",
                                    "6": "F",
                                    "7": "588396.39",
                                    "8": "8"
                                },
                                {
                                    "0": "243",
                                    "1": "Genni",
                                    "2": "Teck",
                                    "3": "gteck6q@biblegateway.com",
                                    "4": "2012-05-27",
                                    "5": "Shoes",
                                    "6": "F",
                                    "7": "312380.21",
                                    "8": "6"
                                },
                                {
                                    "0": "270",
                                    "1": "Lek",
                                    "2": "Uttermare",
                                    "3": "luttermare7h@merriam-webster.com",
                                    "4": "2012-06-14",
                                    "5": "Shoes",
                                    "6": "M",
                                    "7": "220380.17",
                                    "8": "5"
                                },
                                {
                                    "0": "278",
                                    "1": "Sancho",
                                    "2": "Finicj",
                                    "3": "sfinicj7p@privacy.gov.au",
                                    "4": "2012-09-06",
                                    "5": "Grocery",
                                    "6": "M",
                                    "7": "144862.66",
                                    "8": "4"
                                },
                                {
                                    "0": "287",
                                    "1": "Aurea",
                                    "2": "Kabos",
                                    "3": "akabos7y@nba.com",
                                    "4": "2012-06-14",
                                    "5": "Toys",
                                    "6": "F",
                                    "7": "488595.83",
                                    "8": "1"
                                },
                                {
                                    "0": "302",
                                    "1": "Mahmoud",
                                    "2": "Reicharz",
                                    "3": "mreicharz8d@uiuc.edu",
                                    "4": "2012-11-07",
                                    "5": "Clothing",
                                    "6": "M",
                                    "7": "333127.85",
                                    "8": "6"
                                },
                                {
                                    "0": "318",
                                    "1": "Delia",
                                    "2": "Parffrey",
                                    "3": "dparffrey8t@vinaora.com",
                                    "4": "2013-01-14",
                                    "5": "Garden",
                                    "6": "F",
                                    "7": "740688.52",
                                    "8": "8"
                                },
                                {
                                    "0": "334",
                                    "1": "Gibbie",
                                    "2": "Macrae",
                                    "3": "gmacrae99@rambler.ru",
                                    "4": "2012-01-10",
                                    "5": "Books",
                                    "6": "M",
                                    "7": "412102.47",
                                    "8": "7"
                                },
                                {
                                    "0": "352",
                                    "1": "Terencio",
                                    "2": "Cordall",
                                    "3": "tcordall9r@auda.org.au",
                                    "4": "2013-01-09",
                                    "5": "Automotive",
                                    "6": "M",
                                    "7": "497590.52",
                                    "8": "4"
                                },
                                {
                                    "0": "369",
                                    "1": "Hollie",
                                    "2": "Valeri",
                                    "3": "hvaleria8@123-reg.co.uk",
                                    "4": "2012-05-07",
                                    "5": "Beauty",
                                    "6": "F",
                                    "7": "587429.18",
                                    "8": "1"
                                },
                                {
                                    "0": "374",
                                    "1": "Eduino",
                                    "2": "McCook",
                                    "3": "emccookad@accuweather.com",
                                    "4": "2012-09-05",
                                    "5": "Games",
                                    "6": "M",
                                    "7": "263374.00",
                                    "8": "5"
                                },
                                {
                                    "0": "380",
                                    "1": "Sabine",
                                    "2": "Timson",
                                    "3": "stimsonaj@abc.net.au",
                                    "4": "2012-02-16",
                                    "5": "Movies",
                                    "6": "F",
                                    "7": "743275.42",
                                    "8": "6"
                                },
                                {
                                    "0": "387",
                                    "1": "Heywood",
                                    "2": "Ference",
                                    "3": "hferenceaq@chron.com",
                                    "4": "2012-08-25",
                                    "5": "Automotive",
                                    "6": "M",
                                    "7": "604905.13",
                                    "8": "4"
                                },
                                {
                                    "0": "390",
                                    "1": "Wood",
                                    "2": "Eede",
                                    "3": "weedeat@msn.com",
                                    "4": "2012-10-23",
                                    "5": "Grocery",
                                    "6": "M",
                                    "7": "109843.54",
                                    "8": "8"
                                },
                                {
                                    "0": "397",
                                    "1": "Krishna",
                                    "2": "Back",
                                    "3": "kbackb0@biglobe.ne.jp",
                                    "4": "2012-06-28",
                                    "5": "Books",
                                    "6": "M",
                                    "7": "97284.56",
                                    "8": "3"
                                },
                                {
                                    "0": "398",
                                    "1": "Rad",
                                    "2": "Bloan",
                                    "3": "rbloanb1@slideshare.net",
                                    "4": "2012-08-12",
                                    "5": "Shoes",
                                    "6": "M",
                                    "7": "314963.85",
                                    "8": "6"
                                },
                                {
                                    "0": "400",
                                    "1": "Dominique",
                                    "2": "Ferrarin",
                                    "3": "dferrarinb3@washington.edu",
                                    "4": "2012-07-16",
                                    "5": "Grocery",
                                    "6": "F",
                                    "7": "621909.41",
                                    "8": "1"
                                },
                                {
                                    "0": "409",
                                    "1": "Bren",
                                    "2": "Pierucci",
                                    "3": "bpieruccibc@samsung.com",
                                    "4": "2012-11-26",
                                    "5": "Books",
                                    "6": "M",
                                    "7": "649083.31",
                                    "8": "6"
                                },
                                {
                                    "0": "411",
                                    "1": "Gretchen",
                                    "2": "Kimmins",
                                    "3": "gkimminsbe@cnn.com",
                                    "4": "2012-11-17",
                                    "5": "Jewelery",
                                    "6": "F",
                                    "7": "28266.37",
                                    "8": "5"
                                },
                                {
                                    "0": "413",
                                    "1": "Blake",
                                    "2": "Bumford",
                                    "3": "bbumfordbg@kickstarter.com",
                                    "4": "2012-05-21",
                                    "5": "Garden",
                                    "6": "F",
                                    "7": "119257.26",
                                    "8": "4"
                                },
                                {
                                    "0": "416",
                                    "1": "Arron",
                                    "2": "Lamers",
                                    "3": "alamersbj@w3.org",
                                    "4": "2012-12-20",
                                    "5": "Beauty",
                                    "6": "M",
                                    "7": "646721.95",
                                    "8": "3"
                                },
                                {
                                    "0": "422",
                                    "1": "Gerick",
                                    "2": "Warrener",
                                    "3": "gwarrenerbp@skyrock.com",
                                    "4": "2012-05-04",
                                    "5": "Movies",
                                    "6": "M",
                                    "7": "841836.55",
                                    "8": "1"
                                },
                                {
                                    "0": "432",
                                    "1": "Rosalie",
                                    "2": "Gawkes",
                                    "3": "rgawkesbz@tinyurl.com",
                                    "4": "2012-10-31",
                                    "5": "Games",
                                    "6": "F",
                                    "7": "21883.44",
                                    "8": "7"
                                },
                                {
                                    "0": "452",
                                    "1": "Lothaire",
                                    "2": "Heymes",
                                    "3": "lheymescj@virginia.edu",
                                    "4": "2012-10-01",
                                    "5": "Garden",
                                    "6": "M",
                                    "7": "581048.48",
                                    "8": "2"
                                },
                                {
                                    "0": "491",
                                    "1": "Salomon",
                                    "2": "Coase",
                                    "3": "scoasedm@linkedin.com",
                                    "4": "2013-01-12",
                                    "5": "Books",
                                    "6": "M",
                                    "7": "233154.22",
                                    "8": "8"
                                },
                                {
                                    "0": "495",
                                    "1": "Adria",
                                    "2": "Witherington",
                                    "3": "awitheringtondq@ycombinator.com",
                                    "4": "2012-04-14",
                                    "5": "Games",
                                    "6": "F",
                                    "7": "138007.56",
                                    "8": "4"
                                },
                                {
                                    "0": "520",
                                    "1": "Gregor",
                                    "2": "Kesley",
                                    "3": "gkesleyef@dion.ne.jp",
                                    "4": "2012-10-10",
                                    "5": "Movies",
                                    "6": "M",
                                    "7": "281738.76",
                                    "8": "4"
                                },
                                {
                                    "0": "529",
                                    "1": "Cathryn",
                                    "2": "Dagg",
                                    "3": "NULL",
                                    "4": "2012-03-13",
                                    "5": "Garden",
                                    "6": "F",
                                    "7": "560400.88",
                                    "8": "2"
                                },
                                {
                                    "0": "544",
                                    "1": "Miran",
                                    "2": "de Almeida",
                                    "3": "NULL",
                                    "4": "2012-07-25",
                                    "5": "Movies",
                                    "6": "F",
                                    "7": "140576.19",
                                    "8": "3"
                                },
                                {
                                    "0": "546",
                                    "1": "Lanny",
                                    "2": "Fibbens",
                                    "3": "NULL",
                                    "4": "2012-05-26",
                                    "5": "Shoes",
                                    "6": "F",
                                    "7": "801212.36",
                                    "8": "8"
                                },
                                {
                                    "0": "553",
                                    "1": "Gualterio",
                                    "2": "Hatcliffe",
                                    "3": "NULL",
                                    "4": "2012-01-17",
                                    "5": "Music",
                                    "6": "M",
                                    "7": "246192.85",
                                    "8": "4"
                                },
                                {
                                    "0": "555",
                                    "1": "Malinda",
                                    "2": "Sire",
                                    "3": "NULL",
                                    "4": "2012-07-27",
                                    "5": "Grocery",
                                    "6": "F",
                                    "7": "847651.55",
                                    "8": "1"
                                },
                                {
                                    "0": "559",
                                    "1": "Atlanta",
                                    "2": "Duddan",
                                    "3": "NULL",
                                    "4": "2012-03-08",
                                    "5": "Movies",
                                    "6": "F",
                                    "7": "869598.74",
                                    "8": "4"
                                },
                                {
                                    "0": "575",
                                    "1": "Yancey",
                                    "2": "Ondrasek",
                                    "3": "NULL",
                                    "4": "2012-03-19",
                                    "5": "Movies",
                                    "6": "M",
                                    "7": "876598.50",
                                    "8": "2"
                                },
                                {
                                    "0": "578",
                                    "1": "Dur",
                                    "2": "Hallet",
                                    "3": "NULL",
                                    "4": "2013-01-15",
                                    "5": "Garden",
                                    "6": "M",
                                    "7": "347200.00",
                                    "8": "3"
                                },
                                {
                                    "0": "579",
                                    "1": "Rosina",
                                    "2": "Dalbey",
                                    "3": "NULL",
                                    "4": "2012-12-27",
                                    "5": "Toys",
                                    "6": "F",
                                    "7": "836171.96",
                                    "8": "4"
                                },
                                {
                                    "0": "582",
                                    "1": "Nora",
                                    "2": "Skittreal",
                                    "3": "NULL",
                                    "4": "2012-11-25",
                                    "5": "Books",
                                    "6": "F",
                                    "7": "250316.23",
                                    "8": "2"
                                },
                                {
                                    "0": "586",
                                    "1": "Walden",
                                    "2": "Hatwells",
                                    "3": "whatwells1t@spiegel.de",
                                    "4": "2012-06-15",
                                    "5": "Grocery",
                                    "6": "M",
                                    "7": "676249.78",
                                    "8": "5"
                                },
                                {
                                    "0": "587",
                                    "1": "Yvor",
                                    "2": "Batters",
                                    "3": "NULL",
                                    "4": "2012-02-14",
                                    "5": "Garden",
                                    "6": "M",
                                    "7": "113561.03",
                                    "8": "7"
                                },
                                {
                                    "0": "589",
                                    "1": "Veradis",
                                    "2": "Oman",
                                    "3": "NULL",
                                    "4": "2012-07-17",
                                    "5": "Automotive",
                                    "6": "F",
                                    "7": "784811.83",
                                    "8": "1"
                                },
                                {
                                    "0": "594",
                                    "1": "Kerrin",
                                    "2": "Hawford",
                                    "3": "khawford21@imdb.com",
                                    "4": "2012-11-01",
                                    "5": "Music",
                                    "6": "F",
                                    "7": "86533.80",
                                    "8": "5"
                                },
                                {
                                    "0": "596",
                                    "1": "Osborn",
                                    "2": "Bly",
                                    "3": "obly23@altervista.org",
                                    "4": "2012-09-22",
                                    "5": "Clothing",
                                    "6": "M",
                                    "7": "144084.34",
                                    "8": "1"
                                },
                                {
                                    "0": "600",
                                    "1": "Berton",
                                    "2": "Raubenheimer",
                                    "3": "braubenheimer27@scientificamerican.com",
                                    "4": "2012-04-02",
                                    "5": "Grocery",
                                    "6": "M",
                                    "7": "336889.00",
                                    "8": "2"
                                },
                                {
                                    "0": "602",
                                    "1": "Egon",
                                    "2": "Leathes",
                                    "3": "NULL",
                                    "4": "2012-08-18",
                                    "5": "Jewelery",
                                    "6": "M",
                                    "7": "57679.22",
                                    "8": "4"
                                },
                                {
                                    "0": "605",
                                    "1": "Kirbee",
                                    "2": "Meugens",
                                    "3": "NULL",
                                    "4": "2012-09-10",
                                    "5": "Books",
                                    "6": "F",
                                    "7": "172285.69",
                                    "8": "6"
                                },
                                {
                                    "0": "611",
                                    "1": "Barbette",
                                    "2": "Errington",
                                    "3": "NULL",
                                    "4": "2012-05-31",
                                    "5": "Shoes",
                                    "6": "F",
                                    "7": "56193.72",
                                    "8": "6"
                                }
                            ]
                        },
                        "text/html": "<table><tr><th>id</th><th>first_name</th><th>last_name</th><th>email</th><th>hire_date</th><th>department</th><th>gender</th><th>salary</th><th>region_id</th></tr><tr><td>6</td><td>Melony</td><td>MacAless</td><td>mmacaless5@craigslist.org</td><td>2012-05-17</td><td>Jewelery</td><td>F</td><td>808765.04</td><td>2</td></tr><tr><td>10</td><td>Delmore</td><td>Shackleton</td><td>dshackleton9@ustream.tv</td><td>2012-10-06</td><td>Movies</td><td>M</td><td>110128.68</td><td>7</td></tr><tr><td>11</td><td>Noble</td><td>Boston</td><td>nbostona@ehow.com</td><td>2012-04-12</td><td>Books</td><td>M</td><td>573624.98</td><td>6</td></tr><tr><td>43</td><td>Kelley</td><td>Boorer</td><td>kboorer16@taobao.com</td><td>2012-02-27</td><td>Computers</td><td>M</td><td>783217.44</td><td>6</td></tr><tr><td>47</td><td>Jackelyn</td><td>Lordon</td><td>jlordon1a@wisc.edu</td><td>2012-08-17</td><td>Clothing</td><td>F</td><td>420032.45</td><td>5</td></tr><tr><td>51</td><td>Anthea</td><td>Swinburne</td><td>aswinburne1e@yellowpages.com</td><td>2012-10-09</td><td>Books</td><td>F</td><td>112071.60</td><td>3</td></tr><tr><td>62</td><td>Carmita</td><td>Schleswig-Holstein</td><td>cschleswigholstein1p@sakura.ne.jp</td><td>2012-06-18</td><td>Computers</td><td>F</td><td>194509.49</td><td>7</td></tr><tr><td>74</td><td>Marlo</td><td>Quinnet</td><td>mquinnet21@youtu.be</td><td>2012-03-02</td><td>Movies</td><td>M</td><td>390353.76</td><td>6</td></tr><tr><td>88</td><td>Dex</td><td>Marde</td><td>dmarde2f@addthis.com</td><td>2012-08-09</td><td>Books</td><td>M</td><td>301902.26</td><td>7</td></tr><tr><td>90</td><td>Leonie</td><td>Priter</td><td>lpriter2h@blogspot.com</td><td>2012-04-11</td><td>Garden</td><td>F</td><td>798187.17</td><td>7</td></tr><tr><td>96</td><td>Charles</td><td>Fossett</td><td>cfossett2n@fc2.com</td><td>2012-02-12</td><td>Beauty</td><td>M</td><td>674081.49</td><td>2</td></tr><tr><td>99</td><td>Jenine</td><td>Dikes</td><td>jdikes2q@exblog.jp</td><td>2013-01-15</td><td>Grocery</td><td>F</td><td>391035.34</td><td>3</td></tr><tr><td>103</td><td>Adria</td><td>Date</td><td>adate2u@bluehost.com</td><td>2013-01-27</td><td>Jewelery</td><td>F</td><td>188829.39</td><td>5</td></tr><tr><td>105</td><td>Karmen</td><td>Camp</td><td>kcamp2w@jugem.jp</td><td>2012-02-22</td><td>Clothing</td><td>F</td><td>708905.62</td><td>6</td></tr><tr><td>107</td><td>Kaleb</td><td>Piquard</td><td>kpiquard2y@yandex.ru</td><td>2012-03-25</td><td>Jewelery</td><td>M</td><td>728873.18</td><td>2</td></tr><tr><td>128</td><td>Kerby</td><td>Battill</td><td>kbattill3j@freewebs.com</td><td>2012-05-15</td><td>Movies</td><td>M</td><td>578054.04</td><td>8</td></tr><tr><td>133</td><td>Lind</td><td>MacEvilly</td><td>lmacevilly3o@thetimes.co.uk</td><td>2012-08-31</td><td>Movies</td><td>F</td><td>349774.05</td><td>3</td></tr><tr><td>135</td><td>Kaiser</td><td>Heaven</td><td>kheaven3q@adobe.com</td><td>2012-09-28</td><td>Games</td><td>M</td><td>859208.20</td><td>8</td></tr><tr><td>143</td><td>Christoph</td><td>Sygroves</td><td>csygroves3y@github.com</td><td>2012-02-18</td><td>Games</td><td>M</td><td>527409.59</td><td>1</td></tr><tr><td>148</td><td>Lynn</td><td>Swapp</td><td>lswapp43@xing.com</td><td>2012-06-19</td><td>Automotive</td><td>M</td><td>701645.90</td><td>1</td></tr><tr><td>149</td><td>Tomasina</td><td>Lampkin</td><td>tlampkin44@admin.ch</td><td>2012-04-18</td><td>Toys</td><td>F</td><td>648306.25</td><td>7</td></tr><tr><td>174</td><td>Barnie</td><td>Parkhouse</td><td>bparkhouse4t@dagondesign.com</td><td>2012-05-17</td><td>Shoes</td><td>M</td><td>584496.00</td><td>7</td></tr><tr><td>179</td><td>Perry</td><td>Proske</td><td>pproske4y@taobao.com</td><td>2012-05-27</td><td>Automotive</td><td>F</td><td>257156.66</td><td>1</td></tr><tr><td>183</td><td>Micky</td><td>Maudlin</td><td>mmaudlin52@ucoz.com</td><td>2012-06-01</td><td>Books</td><td>M</td><td>186533.68</td><td>8</td></tr><tr><td>187</td><td>Andrea</td><td>Winchester</td><td>awinchester56@google.cn</td><td>2012-10-20</td><td>Movies</td><td>M</td><td>688786.38</td><td>1</td></tr><tr><td>192</td><td>Davida</td><td>Barracks</td><td>dbarracks5b@github.io</td><td>2012-07-22</td><td>Grocery</td><td>F</td><td>358262.29</td><td>8</td></tr><tr><td>207</td><td>Tulley</td><td>Petche</td><td>tpetche5q@indiatimes.com</td><td>2012-10-09</td><td>Computers</td><td>M</td><td>395205.58</td><td>8</td></tr><tr><td>208</td><td>Kathlin</td><td>Leftbridge</td><td>kleftbridge5r@nydailynews.com</td><td>2012-06-03</td><td>Jewelery</td><td>F</td><td>730435.83</td><td>6</td></tr><tr><td>210</td><td>Efren</td><td>Rizzone</td><td>erizzone5t@yale.edu</td><td>2012-11-29</td><td>Toys</td><td>M</td><td>669012.02</td><td>8</td></tr><tr><td>211</td><td>Emmalynn</td><td>Grishmanov</td><td>egrishmanov5u@qq.com</td><td>2013-01-12</td><td>Computers</td><td>F</td><td>883740.12</td><td>8</td></tr><tr><td>224</td><td>Hastie</td><td>Pyzer</td><td>hpyzer67@nationalgeographic.com</td><td>2012-03-08</td><td>Beauty</td><td>M</td><td>635462.74</td><td>1</td></tr><tr><td>227</td><td>Heywood</td><td>Sisey</td><td>hsisey6a@dagondesign.com</td><td>2012-10-31</td><td>Movies</td><td>M</td><td>192445.30</td><td>6</td></tr><tr><td>233</td><td>Lynn</td><td>Beachamp</td><td>lbeachamp6g@ucoz.ru</td><td>2012-04-23</td><td>Games</td><td>M</td><td>596834.15</td><td>1</td></tr><tr><td>236</td><td>Lacie</td><td>Dafydd</td><td>ldafydd6j@artisteer.com</td><td>2012-09-29</td><td>Grocery</td><td>F</td><td>588396.39</td><td>8</td></tr><tr><td>243</td><td>Genni</td><td>Teck</td><td>gteck6q@biblegateway.com</td><td>2012-05-27</td><td>Shoes</td><td>F</td><td>312380.21</td><td>6</td></tr><tr><td>270</td><td>Lek</td><td>Uttermare</td><td>luttermare7h@merriam-webster.com</td><td>2012-06-14</td><td>Shoes</td><td>M</td><td>220380.17</td><td>5</td></tr><tr><td>278</td><td>Sancho</td><td>Finicj</td><td>sfinicj7p@privacy.gov.au</td><td>2012-09-06</td><td>Grocery</td><td>M</td><td>144862.66</td><td>4</td></tr><tr><td>287</td><td>Aurea</td><td>Kabos</td><td>akabos7y@nba.com</td><td>2012-06-14</td><td>Toys</td><td>F</td><td>488595.83</td><td>1</td></tr><tr><td>302</td><td>Mahmoud</td><td>Reicharz</td><td>mreicharz8d@uiuc.edu</td><td>2012-11-07</td><td>Clothing</td><td>M</td><td>333127.85</td><td>6</td></tr><tr><td>318</td><td>Delia</td><td>Parffrey</td><td>dparffrey8t@vinaora.com</td><td>2013-01-14</td><td>Garden</td><td>F</td><td>740688.52</td><td>8</td></tr><tr><td>334</td><td>Gibbie</td><td>Macrae</td><td>gmacrae99@rambler.ru</td><td>2012-01-10</td><td>Books</td><td>M</td><td>412102.47</td><td>7</td></tr><tr><td>352</td><td>Terencio</td><td>Cordall</td><td>tcordall9r@auda.org.au</td><td>2013-01-09</td><td>Automotive</td><td>M</td><td>497590.52</td><td>4</td></tr><tr><td>369</td><td>Hollie</td><td>Valeri</td><td>hvaleria8@123-reg.co.uk</td><td>2012-05-07</td><td>Beauty</td><td>F</td><td>587429.18</td><td>1</td></tr><tr><td>374</td><td>Eduino</td><td>McCook</td><td>emccookad@accuweather.com</td><td>2012-09-05</td><td>Games</td><td>M</td><td>263374.00</td><td>5</td></tr><tr><td>380</td><td>Sabine</td><td>Timson</td><td>stimsonaj@abc.net.au</td><td>2012-02-16</td><td>Movies</td><td>F</td><td>743275.42</td><td>6</td></tr><tr><td>387</td><td>Heywood</td><td>Ference</td><td>hferenceaq@chron.com</td><td>2012-08-25</td><td>Automotive</td><td>M</td><td>604905.13</td><td>4</td></tr><tr><td>390</td><td>Wood</td><td>Eede</td><td>weedeat@msn.com</td><td>2012-10-23</td><td>Grocery</td><td>M</td><td>109843.54</td><td>8</td></tr><tr><td>397</td><td>Krishna</td><td>Back</td><td>kbackb0@biglobe.ne.jp</td><td>2012-06-28</td><td>Books</td><td>M</td><td>97284.56</td><td>3</td></tr><tr><td>398</td><td>Rad</td><td>Bloan</td><td>rbloanb1@slideshare.net</td><td>2012-08-12</td><td>Shoes</td><td>M</td><td>314963.85</td><td>6</td></tr><tr><td>400</td><td>Dominique</td><td>Ferrarin</td><td>dferrarinb3@washington.edu</td><td>2012-07-16</td><td>Grocery</td><td>F</td><td>621909.41</td><td>1</td></tr><tr><td>409</td><td>Bren</td><td>Pierucci</td><td>bpieruccibc@samsung.com</td><td>2012-11-26</td><td>Books</td><td>M</td><td>649083.31</td><td>6</td></tr><tr><td>411</td><td>Gretchen</td><td>Kimmins</td><td>gkimminsbe@cnn.com</td><td>2012-11-17</td><td>Jewelery</td><td>F</td><td>28266.37</td><td>5</td></tr><tr><td>413</td><td>Blake</td><td>Bumford</td><td>bbumfordbg@kickstarter.com</td><td>2012-05-21</td><td>Garden</td><td>F</td><td>119257.26</td><td>4</td></tr><tr><td>416</td><td>Arron</td><td>Lamers</td><td>alamersbj@w3.org</td><td>2012-12-20</td><td>Beauty</td><td>M</td><td>646721.95</td><td>3</td></tr><tr><td>422</td><td>Gerick</td><td>Warrener</td><td>gwarrenerbp@skyrock.com</td><td>2012-05-04</td><td>Movies</td><td>M</td><td>841836.55</td><td>1</td></tr><tr><td>432</td><td>Rosalie</td><td>Gawkes</td><td>rgawkesbz@tinyurl.com</td><td>2012-10-31</td><td>Games</td><td>F</td><td>21883.44</td><td>7</td></tr><tr><td>452</td><td>Lothaire</td><td>Heymes</td><td>lheymescj@virginia.edu</td><td>2012-10-01</td><td>Garden</td><td>M</td><td>581048.48</td><td>2</td></tr><tr><td>491</td><td>Salomon</td><td>Coase</td><td>scoasedm@linkedin.com</td><td>2013-01-12</td><td>Books</td><td>M</td><td>233154.22</td><td>8</td></tr><tr><td>495</td><td>Adria</td><td>Witherington</td><td>awitheringtondq@ycombinator.com</td><td>2012-04-14</td><td>Games</td><td>F</td><td>138007.56</td><td>4</td></tr><tr><td>520</td><td>Gregor</td><td>Kesley</td><td>gkesleyef@dion.ne.jp</td><td>2012-10-10</td><td>Movies</td><td>M</td><td>281738.76</td><td>4</td></tr><tr><td>529</td><td>Cathryn</td><td>Dagg</td><td>NULL</td><td>2012-03-13</td><td>Garden</td><td>F</td><td>560400.88</td><td>2</td></tr><tr><td>544</td><td>Miran</td><td>de Almeida</td><td>NULL</td><td>2012-07-25</td><td>Movies</td><td>F</td><td>140576.19</td><td>3</td></tr><tr><td>546</td><td>Lanny</td><td>Fibbens</td><td>NULL</td><td>2012-05-26</td><td>Shoes</td><td>F</td><td>801212.36</td><td>8</td></tr><tr><td>553</td><td>Gualterio</td><td>Hatcliffe</td><td>NULL</td><td>2012-01-17</td><td>Music</td><td>M</td><td>246192.85</td><td>4</td></tr><tr><td>555</td><td>Malinda</td><td>Sire</td><td>NULL</td><td>2012-07-27</td><td>Grocery</td><td>F</td><td>847651.55</td><td>1</td></tr><tr><td>559</td><td>Atlanta</td><td>Duddan</td><td>NULL</td><td>2012-03-08</td><td>Movies</td><td>F</td><td>869598.74</td><td>4</td></tr><tr><td>575</td><td>Yancey</td><td>Ondrasek</td><td>NULL</td><td>2012-03-19</td><td>Movies</td><td>M</td><td>876598.50</td><td>2</td></tr><tr><td>578</td><td>Dur</td><td>Hallet</td><td>NULL</td><td>2013-01-15</td><td>Garden</td><td>M</td><td>347200.00</td><td>3</td></tr><tr><td>579</td><td>Rosina</td><td>Dalbey</td><td>NULL</td><td>2012-12-27</td><td>Toys</td><td>F</td><td>836171.96</td><td>4</td></tr><tr><td>582</td><td>Nora</td><td>Skittreal</td><td>NULL</td><td>2012-11-25</td><td>Books</td><td>F</td><td>250316.23</td><td>2</td></tr><tr><td>586</td><td>Walden</td><td>Hatwells</td><td>whatwells1t@spiegel.de</td><td>2012-06-15</td><td>Grocery</td><td>M</td><td>676249.78</td><td>5</td></tr><tr><td>587</td><td>Yvor</td><td>Batters</td><td>NULL</td><td>2012-02-14</td><td>Garden</td><td>M</td><td>113561.03</td><td>7</td></tr><tr><td>589</td><td>Veradis</td><td>Oman</td><td>NULL</td><td>2012-07-17</td><td>Automotive</td><td>F</td><td>784811.83</td><td>1</td></tr><tr><td>594</td><td>Kerrin</td><td>Hawford</td><td>khawford21@imdb.com</td><td>2012-11-01</td><td>Music</td><td>F</td><td>86533.80</td><td>5</td></tr><tr><td>596</td><td>Osborn</td><td>Bly</td><td>obly23@altervista.org</td><td>2012-09-22</td><td>Clothing</td><td>M</td><td>144084.34</td><td>1</td></tr><tr><td>600</td><td>Berton</td><td>Raubenheimer</td><td>braubenheimer27@scientificamerican.com</td><td>2012-04-02</td><td>Grocery</td><td>M</td><td>336889.00</td><td>2</td></tr><tr><td>602</td><td>Egon</td><td>Leathes</td><td>NULL</td><td>2012-08-18</td><td>Jewelery</td><td>M</td><td>57679.22</td><td>4</td></tr><tr><td>605</td><td>Kirbee</td><td>Meugens</td><td>NULL</td><td>2012-09-10</td><td>Books</td><td>F</td><td>172285.69</td><td>6</td></tr><tr><td>611</td><td>Barbette</td><td>Errington</td><td>NULL</td><td>2012-05-31</td><td>Shoes</td><td>F</td><td>56193.72</td><td>6</td></tr></table>"
                    }
                }
            ],
            "execution_count": 17
        },
        {
            "cell_type": "code",
            "source": "",
            "metadata": {},
            "outputs": []
        }
    ]
}