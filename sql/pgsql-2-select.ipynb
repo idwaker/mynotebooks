{
    "metadata": {
        "kernelspec": {
            "name": "SQL",
            "display_name": "SQL",
            "language": "sql"
        },
        "language_info": {
            "name": "sql",
            "version": ""
        }
    },
    "nbformat_minor": 2,
    "nbformat": 4,
    "cells": [
        {
            "cell_type": "code",
            "source": "-- select all regions\nSELECT * FROM regions;",
            "metadata": {},
            "outputs": [
                {
                    "output_type": "display_data",
                    "data": {
                        "text/html": "(8 row(s) affected)"
                    },
                    "metadata": {}
                },
                {
                    "output_type": "display_data",
                    "data": {
                        "text/html": "Total execution time: 0:00:00.004765"
                    },
                    "metadata": {}
                },
                {
                    "output_type": "execute_result",
                    "metadata": {},
                    "execution_count": 2,
                    "data": {
                        "application/vnd.dataresource+json": {
                            "schema": {
                                "fields": [
                                    {
                                        "name": "id"
                                    },
                                    {
                                        "name": "name"
                                    },
                                    {
                                        "name": "country"
                                    }
                                ]
                            },
                            "data": [
                                {
                                    "0": "1",
                                    "1": "Quebec",
                                    "2": "Canada"
                                },
                                {
                                    "0": "2",
                                    "1": "Colorado",
                                    "2": "United States"
                                },
                                {
                                    "0": "3",
                                    "1": "Florida",
                                    "2": "United States"
                                },
                                {
                                    "0": "4",
                                    "1": "Texas",
                                    "2": "United States"
                                },
                                {
                                    "0": "5",
                                    "1": "Berlin",
                                    "2": "Germany"
                                },
                                {
                                    "0": "6",
                                    "1": "Alberta",
                                    "2": "Canada"
                                },
                                {
                                    "0": "7",
                                    "1": "Ontario",
                                    "2": "Canada"
                                },
                                {
                                    "0": "8",
                                    "1": "Hamburg",
                                    "2": "Germany"
                                }
                            ]
                        },
                        "text/html": "<table><tr><th>id</th><th>name</th><th>country</th></tr><tr><td>1</td><td>Quebec</td><td>Canada</td></tr><tr><td>2</td><td>Colorado</td><td>United States</td></tr><tr><td>3</td><td>Florida</td><td>United States</td></tr><tr><td>4</td><td>Texas</td><td>United States</td></tr><tr><td>5</td><td>Berlin</td><td>Germany</td></tr><tr><td>6</td><td>Alberta</td><td>Canada</td></tr><tr><td>7</td><td>Ontario</td><td>Canada</td></tr><tr><td>8</td><td>Hamburg</td><td>Germany</td></tr></table>"
                    }
                }
            ],
            "execution_count": 2
        },
        {
            "cell_type": "code",
            "source": "-- select all regions limit result columns to name and country\nSELECT name, country FROM regions;",
            "metadata": {},
            "outputs": [
                {
                    "output_type": "display_data",
                    "data": {
                        "text/html": "(8 row(s) affected)"
                    },
                    "metadata": {}
                },
                {
                    "output_type": "display_data",
                    "data": {
                        "text/html": "Total execution time: 0:00:00.004874"
                    },
                    "metadata": {}
                },
                {
                    "output_type": "execute_result",
                    "metadata": {},
                    "execution_count": 3,
                    "data": {
                        "application/vnd.dataresource+json": {
                            "schema": {
                                "fields": [
                                    {
                                        "name": "name"
                                    },
                                    {
                                        "name": "country"
                                    }
                                ]
                            },
                            "data": [
                                {
                                    "0": "Quebec",
                                    "1": "Canada"
                                },
                                {
                                    "0": "Colorado",
                                    "1": "United States"
                                },
                                {
                                    "0": "Florida",
                                    "1": "United States"
                                },
                                {
                                    "0": "Texas",
                                    "1": "United States"
                                },
                                {
                                    "0": "Berlin",
                                    "1": "Germany"
                                },
                                {
                                    "0": "Alberta",
                                    "1": "Canada"
                                },
                                {
                                    "0": "Ontario",
                                    "1": "Canada"
                                },
                                {
                                    "0": "Hamburg",
                                    "1": "Germany"
                                }
                            ]
                        },
                        "text/html": "<table><tr><th>name</th><th>country</th></tr><tr><td>Quebec</td><td>Canada</td></tr><tr><td>Colorado</td><td>United States</td></tr><tr><td>Florida</td><td>United States</td></tr><tr><td>Texas</td><td>United States</td></tr><tr><td>Berlin</td><td>Germany</td></tr><tr><td>Alberta</td><td>Canada</td></tr><tr><td>Ontario</td><td>Canada</td></tr><tr><td>Hamburg</td><td>Germany</td></tr></table>"
                    }
                }
            ],
            "execution_count": 3
        },
        {
            "cell_type": "code",
            "source": "-- limit result to 5 rows\nSELECT first_name, last_name FROM employees LIMIT 5;",
            "metadata": {},
            "outputs": [
                {
                    "output_type": "display_data",
                    "data": {
                        "text/html": "(5 row(s) affected)"
                    },
                    "metadata": {}
                },
                {
                    "output_type": "display_data",
                    "data": {
                        "text/html": "Total execution time: 0:00:00.008339"
                    },
                    "metadata": {}
                },
                {
                    "output_type": "execute_result",
                    "metadata": {},
                    "execution_count": 4,
                    "data": {
                        "application/vnd.dataresource+json": {
                            "schema": {
                                "fields": [
                                    {
                                        "name": "first_name"
                                    },
                                    {
                                        "name": "last_name"
                                    }
                                ]
                            },
                            "data": [
                                {
                                    "0": "Arabele",
                                    "1": "Cancellieri"
                                },
                                {
                                    "0": "Manuel",
                                    "1": "Giffaut"
                                },
                                {
                                    "0": "Pinchas",
                                    "1": "Bargery"
                                },
                                {
                                    "0": "Pierson",
                                    "1": "McCrudden"
                                },
                                {
                                    "0": "Muire",
                                    "1": "Rapsey"
                                }
                            ]
                        },
                        "text/html": "<table><tr><th>first_name</th><th>last_name</th></tr><tr><td>Arabele</td><td>Cancellieri</td></tr><tr><td>Manuel</td><td>Giffaut</td></tr><tr><td>Pinchas</td><td>Bargery</td></tr><tr><td>Pierson</td><td>McCrudden</td></tr><tr><td>Muire</td><td>Rapsey</td></tr></table>"
                    }
                }
            ],
            "execution_count": 4
        },
        {
            "cell_type": "code",
            "source": "-- alias for columns\nSELECT first_name AS \"First Name\", last_name AS \"Last Name\" FROM employees LIMIT 5;",
            "metadata": {},
            "outputs": [
                {
                    "output_type": "display_data",
                    "data": {
                        "text/html": "(5 row(s) affected)"
                    },
                    "metadata": {}
                },
                {
                    "output_type": "display_data",
                    "data": {
                        "text/html": "Total execution time: 0:00:00.003876"
                    },
                    "metadata": {}
                },
                {
                    "output_type": "execute_result",
                    "metadata": {},
                    "execution_count": 5,
                    "data": {
                        "application/vnd.dataresource+json": {
                            "schema": {
                                "fields": [
                                    {
                                        "name": "First Name"
                                    },
                                    {
                                        "name": "Last Name"
                                    }
                                ]
                            },
                            "data": [
                                {
                                    "0": "Arabele",
                                    "1": "Cancellieri"
                                },
                                {
                                    "0": "Manuel",
                                    "1": "Giffaut"
                                },
                                {
                                    "0": "Pinchas",
                                    "1": "Bargery"
                                },
                                {
                                    "0": "Pierson",
                                    "1": "McCrudden"
                                },
                                {
                                    "0": "Muire",
                                    "1": "Rapsey"
                                }
                            ]
                        },
                        "text/html": "<table><tr><th>First Name</th><th>Last Name</th></tr><tr><td>Arabele</td><td>Cancellieri</td></tr><tr><td>Manuel</td><td>Giffaut</td></tr><tr><td>Pinchas</td><td>Bargery</td></tr><tr><td>Pierson</td><td>McCrudden</td></tr><tr><td>Muire</td><td>Rapsey</td></tr></table>"
                    }
                }
            ],
            "execution_count": 5
        },
        {
            "cell_type": "code",
            "source": "-- filter by id\nSELECT * FROM employees WHERE id=150;",
            "metadata": {},
            "outputs": [
                {
                    "output_type": "display_data",
                    "data": {
                        "text/html": "(1 row(s) affected)"
                    },
                    "metadata": {}
                },
                {
                    "output_type": "display_data",
                    "data": {
                        "text/html": "Total execution time: 0:00:00.009941"
                    },
                    "metadata": {}
                },
                {
                    "output_type": "execute_result",
                    "metadata": {},
                    "execution_count": 6,
                    "data": {
                        "application/vnd.dataresource+json": {
                            "schema": {
                                "fields": [
                                    {
                                        "name": "id"
                                    },
                                    {
                                        "name": "first_name"
                                    },
                                    {
                                        "name": "last_name"
                                    },
                                    {
                                        "name": "email"
                                    },
                                    {
                                        "name": "hire_date"
                                    },
                                    {
                                        "name": "department"
                                    },
                                    {
                                        "name": "gender"
                                    },
                                    {
                                        "name": "salary"
                                    },
                                    {
                                        "name": "region_id"
                                    }
                                ]
                            },
                            "data": [
                                {
                                    "0": "150",
                                    "1": "Christy",
                                    "2": "Muggleton",
                                    "3": "cmuggleton45@mysql.com",
                                    "4": "2018-11-01",
                                    "5": "Grocery",
                                    "6": "M",
                                    "7": "92810.99",
                                    "8": "7"
                                }
                            ]
                        },
                        "text/html": "<table><tr><th>id</th><th>first_name</th><th>last_name</th><th>email</th><th>hire_date</th><th>department</th><th>gender</th><th>salary</th><th>region_id</th></tr><tr><td>150</td><td>Christy</td><td>Muggleton</td><td>cmuggleton45@mysql.com</td><td>2018-11-01</td><td>Grocery</td><td>M</td><td>92810.99</td><td>7</td></tr></table>"
                    }
                }
            ],
            "execution_count": 6
        },
        {
            "cell_type": "code",
            "source": "-- select all departments whose division name is Home\nSELECT * FROM departments WHERE division = 'Home';",
            "metadata": {},
            "outputs": [
                {
                    "output_type": "display_data",
                    "data": {
                        "text/html": "(5 row(s) affected)"
                    },
                    "metadata": {}
                },
                {
                    "output_type": "display_data",
                    "data": {
                        "text/html": "Total execution time: 0:00:00.008627"
                    },
                    "metadata": {}
                },
                {
                    "output_type": "execute_result",
                    "metadata": {},
                    "execution_count": 8,
                    "data": {
                        "application/vnd.dataresource+json": {
                            "schema": {
                                "fields": [
                                    {
                                        "name": "department"
                                    },
                                    {
                                        "name": "division"
                                    }
                                ]
                            },
                            "data": [
                                {
                                    "0": "Shoes",
                                    "1": "Home"
                                },
                                {
                                    "0": "Grocery",
                                    "1": "Home"
                                },
                                {
                                    "0": "Beauty",
                                    "1": "Home"
                                },
                                {
                                    "0": "Clothing",
                                    "1": "Home"
                                },
                                {
                                    "0": "Jewelery",
                                    "1": "Home"
                                }
                            ]
                        },
                        "text/html": "<table><tr><th>department</th><th>division</th></tr><tr><td>Shoes</td><td>Home</td></tr><tr><td>Grocery</td><td>Home</td></tr><tr><td>Beauty</td><td>Home</td></tr><tr><td>Clothing</td><td>Home</td></tr><tr><td>Jewelery</td><td>Home</td></tr></table>"
                    }
                }
            ],
            "execution_count": 8
        },
        {
            "cell_type": "code",
            "source": "-- select all departments whose department name has any character\nSELECT * FROM departments WHERE department LIKE '%';",
            "metadata": {},
            "outputs": [
                {
                    "output_type": "display_data",
                    "data": {
                        "text/html": "(13 row(s) affected)"
                    },
                    "metadata": {}
                },
                {
                    "output_type": "display_data",
                    "data": {
                        "text/html": "Total execution time: 0:00:00.004573"
                    },
                    "metadata": {}
                },
                {
                    "output_type": "execute_result",
                    "metadata": {},
                    "execution_count": 9,
                    "data": {
                        "application/vnd.dataresource+json": {
                            "schema": {
                                "fields": [
                                    {
                                        "name": "department"
                                    },
                                    {
                                        "name": "division"
                                    }
                                ]
                            },
                            "data": [
                                {
                                    "0": "Computers",
                                    "1": "Electronics"
                                },
                                {
                                    "0": "Automotive",
                                    "1": "Hardware"
                                },
                                {
                                    "0": "Books",
                                    "1": "Entertainment"
                                },
                                {
                                    "0": "Shoes",
                                    "1": "Home"
                                },
                                {
                                    "0": "Grocery",
                                    "1": "Home"
                                },
                                {
                                    "0": "Beauty",
                                    "1": "Home"
                                },
                                {
                                    "0": "Clothing",
                                    "1": "Home"
                                },
                                {
                                    "0": "Games",
                                    "1": "Kids"
                                },
                                {
                                    "0": "Music",
                                    "1": "Entertainment"
                                },
                                {
                                    "0": "Garden",
                                    "1": "Outdoors"
                                },
                                {
                                    "0": "Jewelery",
                                    "1": "Home"
                                },
                                {
                                    "0": "Toys",
                                    "1": "Kids"
                                },
                                {
                                    "0": "Movies",
                                    "1": "Entertainment"
                                }
                            ]
                        },
                        "text/html": "<table><tr><th>department</th><th>division</th></tr><tr><td>Computers</td><td>Electronics</td></tr><tr><td>Automotive</td><td>Hardware</td></tr><tr><td>Books</td><td>Entertainment</td></tr><tr><td>Shoes</td><td>Home</td></tr><tr><td>Grocery</td><td>Home</td></tr><tr><td>Beauty</td><td>Home</td></tr><tr><td>Clothing</td><td>Home</td></tr><tr><td>Games</td><td>Kids</td></tr><tr><td>Music</td><td>Entertainment</td></tr><tr><td>Garden</td><td>Outdoors</td></tr><tr><td>Jewelery</td><td>Home</td></tr><tr><td>Toys</td><td>Kids</td></tr><tr><td>Movies</td><td>Entertainment</td></tr></table>"
                    }
                }
            ],
            "execution_count": 9
        },
        {
            "cell_type": "code",
            "source": "-- select all departments whose department name has exactly 4 character\nSELECT * FROM departments WHERE department LIKE '____';",
            "metadata": {},
            "outputs": [
                {
                    "output_type": "display_data",
                    "data": {
                        "text/html": "(1 row(s) affected)"
                    },
                    "metadata": {}
                },
                {
                    "output_type": "display_data",
                    "data": {
                        "text/html": "Total execution time: 0:00:00.008339"
                    },
                    "metadata": {}
                },
                {
                    "output_type": "execute_result",
                    "metadata": {},
                    "execution_count": 10,
                    "data": {
                        "application/vnd.dataresource+json": {
                            "schema": {
                                "fields": [
                                    {
                                        "name": "department"
                                    },
                                    {
                                        "name": "division"
                                    }
                                ]
                            },
                            "data": [
                                {
                                    "0": "Toys",
                                    "1": "Kids"
                                }
                            ]
                        },
                        "text/html": "<table><tr><th>department</th><th>division</th></tr><tr><td>Toys</td><td>Kids</td></tr></table>"
                    }
                }
            ],
            "execution_count": 10
        },
        {
            "cell_type": "code",
            "source": "-- select all departments whose department name ends with es\nSELECT * FROM departments WHERE department LIKE '%es';",
            "metadata": {},
            "outputs": [
                {
                    "output_type": "display_data",
                    "data": {
                        "text/html": "(3 row(s) affected)"
                    },
                    "metadata": {}
                },
                {
                    "output_type": "display_data",
                    "data": {
                        "text/html": "Total execution time: 0:00:00.007295"
                    },
                    "metadata": {}
                },
                {
                    "output_type": "execute_result",
                    "metadata": {},
                    "execution_count": 12,
                    "data": {
                        "application/vnd.dataresource+json": {
                            "schema": {
                                "fields": [
                                    {
                                        "name": "department"
                                    },
                                    {
                                        "name": "division"
                                    }
                                ]
                            },
                            "data": [
                                {
                                    "0": "Shoes",
                                    "1": "Home"
                                },
                                {
                                    "0": "Games",
                                    "1": "Kids"
                                },
                                {
                                    "0": "Movies",
                                    "1": "Entertainment"
                                }
                            ]
                        },
                        "text/html": "<table><tr><th>department</th><th>division</th></tr><tr><td>Shoes</td><td>Home</td></tr><tr><td>Games</td><td>Kids</td></tr><tr><td>Movies</td><td>Entertainment</td></tr></table>"
                    }
                }
            ],
            "execution_count": 12
        },
        {
            "cell_type": "code",
            "source": "-- select all departments whose department name has er in middle\nSELECT * FROM departments WHERE department LIKE '%er%';",
            "metadata": {},
            "outputs": [
                {
                    "output_type": "display_data",
                    "data": {
                        "text/html": "(3 row(s) affected)"
                    },
                    "metadata": {}
                },
                {
                    "output_type": "display_data",
                    "data": {
                        "text/html": "Total execution time: 0:00:00.008647"
                    },
                    "metadata": {}
                },
                {
                    "output_type": "execute_result",
                    "metadata": {},
                    "execution_count": 20,
                    "data": {
                        "application/vnd.dataresource+json": {
                            "schema": {
                                "fields": [
                                    {
                                        "name": "department"
                                    },
                                    {
                                        "name": "division"
                                    }
                                ]
                            },
                            "data": [
                                {
                                    "0": "Computers",
                                    "1": "Electronics"
                                },
                                {
                                    "0": "Grocery",
                                    "1": "Home"
                                },
                                {
                                    "0": "Jewelery",
                                    "1": "Home"
                                }
                            ]
                        },
                        "text/html": "<table><tr><th>department</th><th>division</th></tr><tr><td>Computers</td><td>Electronics</td></tr><tr><td>Grocery</td><td>Home</td></tr><tr><td>Jewelery</td><td>Home</td></tr></table>"
                    }
                }
            ],
            "execution_count": 20
        },
        {
            "cell_type": "code",
            "source": "-- select all departments whose department name starts with M\nSELECT * FROM departments WHERE department LIKE 'M%';",
            "metadata": {},
            "outputs": [
                {
                    "output_type": "display_data",
                    "data": {
                        "text/html": "(2 row(s) affected)"
                    },
                    "metadata": {}
                },
                {
                    "output_type": "display_data",
                    "data": {
                        "text/html": "Total execution time: 0:00:00.005135"
                    },
                    "metadata": {}
                },
                {
                    "output_type": "execute_result",
                    "metadata": {},
                    "execution_count": 21,
                    "data": {
                        "application/vnd.dataresource+json": {
                            "schema": {
                                "fields": [
                                    {
                                        "name": "department"
                                    },
                                    {
                                        "name": "division"
                                    }
                                ]
                            },
                            "data": [
                                {
                                    "0": "Music",
                                    "1": "Entertainment"
                                },
                                {
                                    "0": "Movies",
                                    "1": "Entertainment"
                                }
                            ]
                        },
                        "text/html": "<table><tr><th>department</th><th>division</th></tr><tr><td>Music</td><td>Entertainment</td></tr><tr><td>Movies</td><td>Entertainment</td></tr></table>"
                    }
                }
            ],
            "execution_count": 21
        },
        {
            "cell_type": "code",
            "source": "-- select employees whose salary are greater than 890000\nSELECT * FROM employees WHERE salary > 890000;",
            "metadata": {},
            "outputs": [
                {
                    "output_type": "display_data",
                    "data": {
                        "text/html": "(6 row(s) affected)"
                    },
                    "metadata": {}
                },
                {
                    "output_type": "display_data",
                    "data": {
                        "text/html": "Total execution time: 0:00:00.007214"
                    },
                    "metadata": {}
                },
                {
                    "output_type": "execute_result",
                    "metadata": {},
                    "execution_count": 28,
                    "data": {
                        "application/vnd.dataresource+json": {
                            "schema": {
                                "fields": [
                                    {
                                        "name": "id"
                                    },
                                    {
                                        "name": "first_name"
                                    },
                                    {
                                        "name": "last_name"
                                    },
                                    {
                                        "name": "email"
                                    },
                                    {
                                        "name": "hire_date"
                                    },
                                    {
                                        "name": "department"
                                    },
                                    {
                                        "name": "gender"
                                    },
                                    {
                                        "name": "salary"
                                    },
                                    {
                                        "name": "region_id"
                                    }
                                ]
                            },
                            "data": [
                                {
                                    "0": "136",
                                    "1": "Mata",
                                    "2": "Burnel",
                                    "3": "mburnel3r@over-blog.com",
                                    "4": "2013-12-07",
                                    "5": "Automotive",
                                    "6": "M",
                                    "7": "891362.71",
                                    "8": "3"
                                },
                                {
                                    "0": "244",
                                    "1": "Em",
                                    "2": "Hayen",
                                    "3": "ehayen6r@cdc.gov",
                                    "4": "2015-03-19",
                                    "5": "Books",
                                    "6": "M",
                                    "7": "893687.39",
                                    "8": "3"
                                },
                                {
                                    "0": "323",
                                    "1": "Lorinda",
                                    "2": "Challis",
                                    "3": "lchallis8y@t.co",
                                    "4": "2016-12-14",
                                    "5": "Shoes",
                                    "6": "F",
                                    "7": "890897.12",
                                    "8": "6"
                                },
                                {
                                    "0": "385",
                                    "1": "Sabrina",
                                    "2": "Logie",
                                    "3": "slogieao@usda.gov",
                                    "4": "2017-06-20",
                                    "5": "Computers",
                                    "6": "F",
                                    "7": "891062.15",
                                    "8": "1"
                                },
                                {
                                    "0": "460",
                                    "1": "Isaak",
                                    "2": "Wotton",
                                    "3": "iwottoncr@jigsy.com",
                                    "4": "2013-06-29",
                                    "5": "Music",
                                    "6": "M",
                                    "7": "899971.34",
                                    "8": "3"
                                },
                                {
                                    "0": "612",
                                    "1": "Amara",
                                    "2": "Balls",
                                    "3": "NULL",
                                    "4": "2015-10-17",
                                    "5": "Shoes",
                                    "6": "F",
                                    "7": "895204.82",
                                    "8": "6"
                                }
                            ]
                        },
                        "text/html": "<table><tr><th>id</th><th>first_name</th><th>last_name</th><th>email</th><th>hire_date</th><th>department</th><th>gender</th><th>salary</th><th>region_id</th></tr><tr><td>136</td><td>Mata</td><td>Burnel</td><td>mburnel3r@over-blog.com</td><td>2013-12-07</td><td>Automotive</td><td>M</td><td>891362.71</td><td>3</td></tr><tr><td>244</td><td>Em</td><td>Hayen</td><td>ehayen6r@cdc.gov</td><td>2015-03-19</td><td>Books</td><td>M</td><td>893687.39</td><td>3</td></tr><tr><td>323</td><td>Lorinda</td><td>Challis</td><td>lchallis8y@t.co</td><td>2016-12-14</td><td>Shoes</td><td>F</td><td>890897.12</td><td>6</td></tr><tr><td>385</td><td>Sabrina</td><td>Logie</td><td>slogieao@usda.gov</td><td>2017-06-20</td><td>Computers</td><td>F</td><td>891062.15</td><td>1</td></tr><tr><td>460</td><td>Isaak</td><td>Wotton</td><td>iwottoncr@jigsy.com</td><td>2013-06-29</td><td>Music</td><td>M</td><td>899971.34</td><td>3</td></tr><tr><td>612</td><td>Amara</td><td>Balls</td><td>NULL</td><td>2015-10-17</td><td>Shoes</td><td>F</td><td>895204.82</td><td>6</td></tr></table>"
                    }
                }
            ],
            "execution_count": 28
        },
        {
            "cell_type": "code",
            "source": "-- select employees whose salary are less than 20000\nSELECT * FROM employees WHERE salary < 20000;",
            "metadata": {},
            "outputs": [
                {
                    "output_type": "display_data",
                    "data": {
                        "text/html": "(7 row(s) affected)"
                    },
                    "metadata": {}
                },
                {
                    "output_type": "display_data",
                    "data": {
                        "text/html": "Total execution time: 0:00:00.006090"
                    },
                    "metadata": {}
                },
                {
                    "output_type": "execute_result",
                    "metadata": {},
                    "execution_count": 30,
                    "data": {
                        "application/vnd.dataresource+json": {
                            "schema": {
                                "fields": [
                                    {
                                        "name": "id"
                                    },
                                    {
                                        "name": "first_name"
                                    },
                                    {
                                        "name": "last_name"
                                    },
                                    {
                                        "name": "email"
                                    },
                                    {
                                        "name": "hire_date"
                                    },
                                    {
                                        "name": "department"
                                    },
                                    {
                                        "name": "gender"
                                    },
                                    {
                                        "name": "salary"
                                    },
                                    {
                                        "name": "region_id"
                                    }
                                ]
                            },
                            "data": [
                                {
                                    "0": "115",
                                    "1": "Averil",
                                    "2": "Woodthorpe",
                                    "3": "awoodthorpe36@ezinearticles.com",
                                    "4": "2019-03-09",
                                    "5": "Garden",
                                    "6": "M",
                                    "7": "11353.80",
                                    "8": "7"
                                },
                                {
                                    "0": "181",
                                    "1": "Bekki",
                                    "2": "Christon",
                                    "3": "bchriston50@pinterest.com",
                                    "4": "2013-06-28",
                                    "5": "Clothing",
                                    "6": "F",
                                    "7": "14653.36",
                                    "8": "6"
                                },
                                {
                                    "0": "209",
                                    "1": "Candide",
                                    "2": "Arnhold",
                                    "3": "carnhold5s@ifeng.com",
                                    "4": "2019-02-22",
                                    "5": "Clothing",
                                    "6": "F",
                                    "7": "18282.88",
                                    "8": "5"
                                },
                                {
                                    "0": "242",
                                    "1": "Ava",
                                    "2": "Hugli",
                                    "3": "ahugli6p@ameblo.jp",
                                    "4": "2018-09-16",
                                    "5": "Books",
                                    "6": "F",
                                    "7": "11442.83",
                                    "8": "1"
                                },
                                {
                                    "0": "268",
                                    "1": "Clerkclaude",
                                    "2": "Mussalli",
                                    "3": "cmussalli7f@pinterest.com",
                                    "4": "2016-02-11",
                                    "5": "Automotive",
                                    "6": "M",
                                    "7": "14496.80",
                                    "8": "4"
                                },
                                {
                                    "0": "330",
                                    "1": "Rachel",
                                    "2": "Robinson",
                                    "3": "rrobinson95@live.com",
                                    "4": "2014-01-21",
                                    "5": "Beauty",
                                    "6": "F",
                                    "7": "15189.47",
                                    "8": "4"
                                },
                                {
                                    "0": "441",
                                    "1": "Arnie",
                                    "2": "Gillani",
                                    "3": "agillanic8@weibo.com",
                                    "4": "2013-11-04",
                                    "5": "Automotive",
                                    "6": "M",
                                    "7": "13182.30",
                                    "8": "1"
                                }
                            ]
                        },
                        "text/html": "<table><tr><th>id</th><th>first_name</th><th>last_name</th><th>email</th><th>hire_date</th><th>department</th><th>gender</th><th>salary</th><th>region_id</th></tr><tr><td>115</td><td>Averil</td><td>Woodthorpe</td><td>awoodthorpe36@ezinearticles.com</td><td>2019-03-09</td><td>Garden</td><td>M</td><td>11353.80</td><td>7</td></tr><tr><td>181</td><td>Bekki</td><td>Christon</td><td>bchriston50@pinterest.com</td><td>2013-06-28</td><td>Clothing</td><td>F</td><td>14653.36</td><td>6</td></tr><tr><td>209</td><td>Candide</td><td>Arnhold</td><td>carnhold5s@ifeng.com</td><td>2019-02-22</td><td>Clothing</td><td>F</td><td>18282.88</td><td>5</td></tr><tr><td>242</td><td>Ava</td><td>Hugli</td><td>ahugli6p@ameblo.jp</td><td>2018-09-16</td><td>Books</td><td>F</td><td>11442.83</td><td>1</td></tr><tr><td>268</td><td>Clerkclaude</td><td>Mussalli</td><td>cmussalli7f@pinterest.com</td><td>2016-02-11</td><td>Automotive</td><td>M</td><td>14496.80</td><td>4</td></tr><tr><td>330</td><td>Rachel</td><td>Robinson</td><td>rrobinson95@live.com</td><td>2014-01-21</td><td>Beauty</td><td>F</td><td>15189.47</td><td>4</td></tr><tr><td>441</td><td>Arnie</td><td>Gillani</td><td>agillanic8@weibo.com</td><td>2013-11-04</td><td>Automotive</td><td>M</td><td>13182.30</td><td>1</td></tr></table>"
                    }
                }
            ],
            "execution_count": 30
        },
        {
            "cell_type": "code",
            "source": "",
            "metadata": {},
            "outputs": []
        }
    ]
}