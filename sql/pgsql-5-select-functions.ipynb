{
    "metadata": {
        "kernelspec": {
            "name": "SQL",
            "display_name": "SQL",
            "language": "sql"
        },
        "language_info": {
            "name": "sql",
            "version": ""
        }
    },
    "nbformat_minor": 2,
    "nbformat": 4,
    "cells": [
        {
            "cell_type": "code",
            "source": "SELECT COUNT(id) FROM employees;",
            "metadata": {},
            "outputs": [
                {
                    "output_type": "display_data",
                    "data": {
                        "text/html": "(1 row(s) affected)"
                    },
                    "metadata": {}
                },
                {
                    "output_type": "display_data",
                    "data": {
                        "text/html": "Total execution time: 0:00:00.006171"
                    },
                    "metadata": {}
                },
                {
                    "output_type": "execute_result",
                    "metadata": {},
                    "execution_count": 1,
                    "data": {
                        "application/vnd.dataresource+json": {
                            "schema": {
                                "fields": [
                                    {
                                        "name": "count"
                                    }
                                ]
                            },
                            "data": [
                                {
                                    "0": "620"
                                }
                            ]
                        },
                        "text/html": "<table><tr><th>count</th></tr><tr><td>620</td></tr></table>"
                    }
                }
            ],
            "execution_count": 1
        },
        {
            "cell_type": "code",
            "source": "SELECT UPPER(first_name) FROM employees LIMIT 5;",
            "metadata": {},
            "outputs": [
                {
                    "output_type": "display_data",
                    "data": {
                        "text/html": "(5 row(s) affected)"
                    },
                    "metadata": {}
                },
                {
                    "output_type": "display_data",
                    "data": {
                        "text/html": "Total execution time: 0:00:00.008285"
                    },
                    "metadata": {}
                },
                {
                    "output_type": "execute_result",
                    "metadata": {},
                    "execution_count": 2,
                    "data": {
                        "application/vnd.dataresource+json": {
                            "schema": {
                                "fields": [
                                    {
                                        "name": "upper"
                                    }
                                ]
                            },
                            "data": [
                                {
                                    "0": "ARABELE"
                                },
                                {
                                    "0": "MANUEL"
                                },
                                {
                                    "0": "PINCHAS"
                                },
                                {
                                    "0": "PIERSON"
                                },
                                {
                                    "0": "MUIRE"
                                }
                            ]
                        },
                        "text/html": "<table><tr><th>upper</th></tr><tr><td>ARABELE</td></tr><tr><td>MANUEL</td></tr><tr><td>PINCHAS</td></tr><tr><td>PIERSON</td></tr><tr><td>MUIRE</td></tr></table>"
                    }
                }
            ],
            "execution_count": 2
        },
        {
            "cell_type": "code",
            "source": "SELECT LOWER(first_name) FROM employees LIMIT 5;",
            "metadata": {},
            "outputs": [
                {
                    "output_type": "display_data",
                    "data": {
                        "text/html": "(5 row(s) affected)"
                    },
                    "metadata": {}
                },
                {
                    "output_type": "display_data",
                    "data": {
                        "text/html": "Total execution time: 0:00:00.007717"
                    },
                    "metadata": {}
                },
                {
                    "output_type": "execute_result",
                    "metadata": {},
                    "execution_count": 3,
                    "data": {
                        "application/vnd.dataresource+json": {
                            "schema": {
                                "fields": [
                                    {
                                        "name": "lower"
                                    }
                                ]
                            },
                            "data": [
                                {
                                    "0": "arabele"
                                },
                                {
                                    "0": "manuel"
                                },
                                {
                                    "0": "pinchas"
                                },
                                {
                                    "0": "pierson"
                                },
                                {
                                    "0": "muire"
                                }
                            ]
                        },
                        "text/html": "<table><tr><th>lower</th></tr><tr><td>arabele</td></tr><tr><td>manuel</td></tr><tr><td>pinchas</td></tr><tr><td>pierson</td></tr><tr><td>muire</td></tr></table>"
                    }
                }
            ],
            "execution_count": 3
        },
        {
            "cell_type": "code",
            "source": "SELECT department, LENGTH(department) FROM departments LIMIT 5;",
            "metadata": {},
            "outputs": [
                {
                    "output_type": "display_data",
                    "data": {
                        "text/html": "(5 row(s) affected)"
                    },
                    "metadata": {}
                },
                {
                    "output_type": "display_data",
                    "data": {
                        "text/html": "Total execution time: 0:00:00.018222"
                    },
                    "metadata": {}
                },
                {
                    "output_type": "execute_result",
                    "metadata": {},
                    "execution_count": 5,
                    "data": {
                        "application/vnd.dataresource+json": {
                            "schema": {
                                "fields": [
                                    {
                                        "name": "department"
                                    },
                                    {
                                        "name": "length"
                                    }
                                ]
                            },
                            "data": [
                                {
                                    "0": "Computers",
                                    "1": "9"
                                },
                                {
                                    "0": "Automotive",
                                    "1": "10"
                                },
                                {
                                    "0": "Books",
                                    "1": "5"
                                },
                                {
                                    "0": "Shoes",
                                    "1": "5"
                                },
                                {
                                    "0": "Grocery",
                                    "1": "7"
                                }
                            ]
                        },
                        "text/html": "<table><tr><th>department</th><th>length</th></tr><tr><td>Computers</td><td>9</td></tr><tr><td>Automotive</td><td>10</td></tr><tr><td>Books</td><td>5</td></tr><tr><td>Shoes</td><td>5</td></tr><tr><td>Grocery</td><td>7</td></tr></table>"
                    }
                }
            ],
            "execution_count": 5
        },
        {
            "cell_type": "code",
            "source": "SELECT ' Hello World ';",
            "metadata": {},
            "outputs": [
                {
                    "output_type": "display_data",
                    "data": {
                        "text/html": "(1 row(s) affected)"
                    },
                    "metadata": {}
                },
                {
                    "output_type": "display_data",
                    "data": {
                        "text/html": "Total execution time: 0:00:00.008676"
                    },
                    "metadata": {}
                },
                {
                    "output_type": "execute_result",
                    "metadata": {},
                    "execution_count": 6,
                    "data": {
                        "application/vnd.dataresource+json": {
                            "schema": {
                                "fields": [
                                    {
                                        "name": "Column1"
                                    }
                                ]
                            },
                            "data": [
                                {
                                    "0": " Hello World "
                                }
                            ]
                        },
                        "text/html": "<table><tr><th>Column1</th></tr><tr><td> Hello World </td></tr></table>"
                    }
                }
            ],
            "execution_count": 6
        },
        {
            "cell_type": "code",
            "source": "SELECT TRIM('   Hello World   ');",
            "metadata": {},
            "outputs": [
                {
                    "output_type": "display_data",
                    "data": {
                        "text/html": "(1 row(s) affected)"
                    },
                    "metadata": {}
                },
                {
                    "output_type": "display_data",
                    "data": {
                        "text/html": "Total execution time: 0:00:00.014353"
                    },
                    "metadata": {}
                },
                {
                    "output_type": "execute_result",
                    "metadata": {},
                    "execution_count": 7,
                    "data": {
                        "application/vnd.dataresource+json": {
                            "schema": {
                                "fields": [
                                    {
                                        "name": "btrim"
                                    }
                                ]
                            },
                            "data": [
                                {
                                    "0": "Hello World"
                                }
                            ]
                        },
                        "text/html": "<table><tr><th>btrim</th></tr><tr><td>Hello World</td></tr></table>"
                    }
                }
            ],
            "execution_count": 7
        },
        {
            "cell_type": "code",
            "source": "SELECT LENGTH('   Hello World   ');",
            "metadata": {},
            "outputs": [
                {
                    "output_type": "display_data",
                    "data": {
                        "text/html": "(1 row(s) affected)"
                    },
                    "metadata": {}
                },
                {
                    "output_type": "display_data",
                    "data": {
                        "text/html": "Total execution time: 0:00:00.006850"
                    },
                    "metadata": {}
                },
                {
                    "output_type": "execute_result",
                    "metadata": {},
                    "execution_count": 8,
                    "data": {
                        "application/vnd.dataresource+json": {
                            "schema": {
                                "fields": [
                                    {
                                        "name": "length"
                                    }
                                ]
                            },
                            "data": [
                                {
                                    "0": "17"
                                }
                            ]
                        },
                        "text/html": "<table><tr><th>length</th></tr><tr><td>17</td></tr></table>"
                    }
                }
            ],
            "execution_count": 8
        },
        {
            "cell_type": "code",
            "source": "SELECT LENGTH(TRIM('   Hello World   '));",
            "metadata": {},
            "outputs": [
                {
                    "output_type": "display_data",
                    "data": {
                        "text/html": "(1 row(s) affected)"
                    },
                    "metadata": {}
                },
                {
                    "output_type": "display_data",
                    "data": {
                        "text/html": "Total execution time: 0:00:00.010686"
                    },
                    "metadata": {}
                },
                {
                    "output_type": "execute_result",
                    "metadata": {},
                    "execution_count": 9,
                    "data": {
                        "application/vnd.dataresource+json": {
                            "schema": {
                                "fields": [
                                    {
                                        "name": "length"
                                    }
                                ]
                            },
                            "data": [
                                {
                                    "0": "11"
                                }
                            ]
                        },
                        "text/html": "<table><tr><th>length</th></tr><tr><td>11</td></tr></table>"
                    }
                }
            ],
            "execution_count": 9
        },
        {
            "cell_type": "code",
            "source": "SELECT first_name || ' ' || last_name AS \"Full Name\" FROM employees LIMIT 5;",
            "metadata": {},
            "outputs": [
                {
                    "output_type": "display_data",
                    "data": {
                        "text/html": "(5 row(s) affected)"
                    },
                    "metadata": {}
                },
                {
                    "output_type": "display_data",
                    "data": {
                        "text/html": "Total execution time: 0:00:00.007034"
                    },
                    "metadata": {}
                },
                {
                    "output_type": "execute_result",
                    "metadata": {},
                    "execution_count": 11,
                    "data": {
                        "application/vnd.dataresource+json": {
                            "schema": {
                                "fields": [
                                    {
                                        "name": "Full Name"
                                    }
                                ]
                            },
                            "data": [
                                {
                                    "0": "Arabele Cancellieri"
                                },
                                {
                                    "0": "Manuel Giffaut"
                                },
                                {
                                    "0": "Pinchas Bargery"
                                },
                                {
                                    "0": "Pierson McCrudden"
                                },
                                {
                                    "0": "Muire Rapsey"
                                }
                            ]
                        },
                        "text/html": "<table><tr><th>Full Name</th></tr><tr><td>Arabele Cancellieri</td></tr><tr><td>Manuel Giffaut</td></tr><tr><td>Pinchas Bargery</td></tr><tr><td>Pierson McCrudden</td></tr><tr><td>Muire Rapsey</td></tr></table>"
                    }
                }
            ],
            "execution_count": 11
        },
        {
            "cell_type": "code",
            "source": "SELECT first_name || ' ' || last_name AS \"Full Name\", (salary > 200000) AS \"More Money\"\nFROM employees LIMIT 5;",
            "metadata": {},
            "outputs": [
                {
                    "output_type": "display_data",
                    "data": {
                        "text/html": "(5 row(s) affected)"
                    },
                    "metadata": {}
                },
                {
                    "output_type": "display_data",
                    "data": {
                        "text/html": "Total execution time: 0:00:00.012238"
                    },
                    "metadata": {}
                },
                {
                    "output_type": "execute_result",
                    "metadata": {},
                    "execution_count": 13,
                    "data": {
                        "application/vnd.dataresource+json": {
                            "schema": {
                                "fields": [
                                    {
                                        "name": "Full Name"
                                    },
                                    {
                                        "name": "More Money"
                                    }
                                ]
                            },
                            "data": [
                                {
                                    "0": "Arabele Cancellieri",
                                    "1": "True"
                                },
                                {
                                    "0": "Manuel Giffaut",
                                    "1": "True"
                                },
                                {
                                    "0": "Pinchas Bargery",
                                    "1": "True"
                                },
                                {
                                    "0": "Pierson McCrudden",
                                    "1": "True"
                                },
                                {
                                    "0": "Muire Rapsey",
                                    "1": "True"
                                }
                            ]
                        },
                        "text/html": "<table><tr><th>Full Name</th><th>More Money</th></tr><tr><td>Arabele Cancellieri</td><td>True</td></tr><tr><td>Manuel Giffaut</td><td>True</td></tr><tr><td>Pinchas Bargery</td><td>True</td></tr><tr><td>Pierson McCrudden</td><td>True</td></tr><tr><td>Muire Rapsey</td><td>True</td></tr></table>"
                    }
                }
            ],
            "execution_count": 13
        },
        {
            "cell_type": "code",
            "source": "SELECT department, ('Computers' in (department)) AS \"In Music\" FROM employees LIMIT 10;",
            "metadata": {},
            "outputs": [
                {
                    "output_type": "display_data",
                    "data": {
                        "text/html": "(10 row(s) affected)"
                    },
                    "metadata": {}
                },
                {
                    "output_type": "display_data",
                    "data": {
                        "text/html": "Total execution time: 0:00:00.011520"
                    },
                    "metadata": {}
                },
                {
                    "output_type": "execute_result",
                    "metadata": {},
                    "execution_count": 18,
                    "data": {
                        "application/vnd.dataresource+json": {
                            "schema": {
                                "fields": [
                                    {
                                        "name": "department"
                                    },
                                    {
                                        "name": "In Music"
                                    }
                                ]
                            },
                            "data": [
                                {
                                    "0": "Books",
                                    "1": "False"
                                },
                                {
                                    "0": "Computers",
                                    "1": "True"
                                },
                                {
                                    "0": "Grocery",
                                    "1": "False"
                                },
                                {
                                    "0": "Games",
                                    "1": "False"
                                },
                                {
                                    "0": "Beauty",
                                    "1": "False"
                                },
                                {
                                    "0": "Jewelery",
                                    "1": "False"
                                },
                                {
                                    "0": "Toys",
                                    "1": "False"
                                },
                                {
                                    "0": "Computers",
                                    "1": "True"
                                },
                                {
                                    "0": "Beauty",
                                    "1": "False"
                                },
                                {
                                    "0": "Movies",
                                    "1": "False"
                                }
                            ]
                        },
                        "text/html": "<table><tr><th>department</th><th>In Music</th></tr><tr><td>Books</td><td>False</td></tr><tr><td>Computers</td><td>True</td></tr><tr><td>Grocery</td><td>False</td></tr><tr><td>Games</td><td>False</td></tr><tr><td>Beauty</td><td>False</td></tr><tr><td>Jewelery</td><td>False</td></tr><tr><td>Toys</td><td>False</td></tr><tr><td>Computers</td><td>True</td></tr><tr><td>Beauty</td><td>False</td></tr><tr><td>Movies</td><td>False</td></tr></table>"
                    }
                }
            ],
            "execution_count": 18
        },
        {
            "cell_type": "code",
            "source": "SELECT department, (department LIKE 'M%') AS \"Starts With M\" FROM employees LIMIT 10;",
            "metadata": {},
            "outputs": [
                {
                    "output_type": "display_data",
                    "data": {
                        "text/html": "(10 row(s) affected)"
                    },
                    "metadata": {}
                },
                {
                    "output_type": "display_data",
                    "data": {
                        "text/html": "Total execution time: 0:00:00.024686"
                    },
                    "metadata": {}
                },
                {
                    "output_type": "execute_result",
                    "metadata": {},
                    "execution_count": 20,
                    "data": {
                        "application/vnd.dataresource+json": {
                            "schema": {
                                "fields": [
                                    {
                                        "name": "department"
                                    },
                                    {
                                        "name": "Starts With M"
                                    }
                                ]
                            },
                            "data": [
                                {
                                    "0": "Books",
                                    "1": "False"
                                },
                                {
                                    "0": "Computers",
                                    "1": "False"
                                },
                                {
                                    "0": "Grocery",
                                    "1": "False"
                                },
                                {
                                    "0": "Games",
                                    "1": "False"
                                },
                                {
                                    "0": "Beauty",
                                    "1": "False"
                                },
                                {
                                    "0": "Jewelery",
                                    "1": "False"
                                },
                                {
                                    "0": "Toys",
                                    "1": "False"
                                },
                                {
                                    "0": "Computers",
                                    "1": "False"
                                },
                                {
                                    "0": "Beauty",
                                    "1": "False"
                                },
                                {
                                    "0": "Movies",
                                    "1": "True"
                                }
                            ]
                        },
                        "text/html": "<table><tr><th>department</th><th>Starts With M</th></tr><tr><td>Books</td><td>False</td></tr><tr><td>Computers</td><td>False</td></tr><tr><td>Grocery</td><td>False</td></tr><tr><td>Games</td><td>False</td></tr><tr><td>Beauty</td><td>False</td></tr><tr><td>Jewelery</td><td>False</td></tr><tr><td>Toys</td><td>False</td></tr><tr><td>Computers</td><td>False</td></tr><tr><td>Beauty</td><td>False</td></tr><tr><td>Movies</td><td>True</td></tr></table>"
                    }
                }
            ],
            "execution_count": 20
        },
        {
            "cell_type": "code",
            "source": "SELECT SUBSTRING('This is test data', 4, 6);",
            "metadata": {},
            "outputs": [
                {
                    "output_type": "display_data",
                    "data": {
                        "text/html": "(1 row(s) affected)"
                    },
                    "metadata": {}
                },
                {
                    "output_type": "display_data",
                    "data": {
                        "text/html": "Total execution time: 0:00:00.016678"
                    },
                    "metadata": {}
                },
                {
                    "output_type": "execute_result",
                    "metadata": {},
                    "execution_count": 22,
                    "data": {
                        "application/vnd.dataresource+json": {
                            "schema": {
                                "fields": [
                                    {
                                        "name": "substring"
                                    }
                                ]
                            },
                            "data": [
                                {
                                    "0": "s is t"
                                }
                            ]
                        },
                        "text/html": "<table><tr><th>substring</th></tr><tr><td>s is t</td></tr></table>"
                    }
                }
            ],
            "execution_count": 22
        },
        {
            "cell_type": "code",
            "source": "SELECT SUBSTRING('This is test data' FROM 5 FOR 7);",
            "metadata": {},
            "outputs": [
                {
                    "output_type": "display_data",
                    "data": {
                        "text/html": "(1 row(s) affected)"
                    },
                    "metadata": {}
                },
                {
                    "output_type": "display_data",
                    "data": {
                        "text/html": "Total execution time: 0:00:00.004840"
                    },
                    "metadata": {}
                },
                {
                    "output_type": "execute_result",
                    "metadata": {},
                    "execution_count": 23,
                    "data": {
                        "application/vnd.dataresource+json": {
                            "schema": {
                                "fields": [
                                    {
                                        "name": "substring"
                                    }
                                ]
                            },
                            "data": [
                                {
                                    "0": " is tes"
                                }
                            ]
                        },
                        "text/html": "<table><tr><th>substring</th></tr><tr><td> is tes</td></tr></table>"
                    }
                }
            ],
            "execution_count": 23
        },
        {
            "cell_type": "code",
            "source": "SELECT department, REPLACE(department, 'Books', 'Whatever!') FROM departments;",
            "metadata": {},
            "outputs": [
                {
                    "output_type": "display_data",
                    "data": {
                        "text/html": "(13 row(s) affected)"
                    },
                    "metadata": {}
                },
                {
                    "output_type": "display_data",
                    "data": {
                        "text/html": "Total execution time: 0:00:00.009058"
                    },
                    "metadata": {}
                },
                {
                    "output_type": "execute_result",
                    "metadata": {},
                    "execution_count": 26,
                    "data": {
                        "application/vnd.dataresource+json": {
                            "schema": {
                                "fields": [
                                    {
                                        "name": "department"
                                    },
                                    {
                                        "name": "replace"
                                    }
                                ]
                            },
                            "data": [
                                {
                                    "0": "Computers",
                                    "1": "Computers"
                                },
                                {
                                    "0": "Automotive",
                                    "1": "Automotive"
                                },
                                {
                                    "0": "Books",
                                    "1": "Whatever!"
                                },
                                {
                                    "0": "Shoes",
                                    "1": "Shoes"
                                },
                                {
                                    "0": "Grocery",
                                    "1": "Grocery"
                                },
                                {
                                    "0": "Beauty",
                                    "1": "Beauty"
                                },
                                {
                                    "0": "Clothing",
                                    "1": "Clothing"
                                },
                                {
                                    "0": "Games",
                                    "1": "Games"
                                },
                                {
                                    "0": "Music",
                                    "1": "Music"
                                },
                                {
                                    "0": "Garden",
                                    "1": "Garden"
                                },
                                {
                                    "0": "Jewelery",
                                    "1": "Jewelery"
                                },
                                {
                                    "0": "Toys",
                                    "1": "Toys"
                                },
                                {
                                    "0": "Movies",
                                    "1": "Movies"
                                }
                            ]
                        },
                        "text/html": "<table><tr><th>department</th><th>replace</th></tr><tr><td>Computers</td><td>Computers</td></tr><tr><td>Automotive</td><td>Automotive</td></tr><tr><td>Books</td><td>Whatever!</td></tr><tr><td>Shoes</td><td>Shoes</td></tr><tr><td>Grocery</td><td>Grocery</td></tr><tr><td>Beauty</td><td>Beauty</td></tr><tr><td>Clothing</td><td>Clothing</td></tr><tr><td>Games</td><td>Games</td></tr><tr><td>Music</td><td>Music</td></tr><tr><td>Garden</td><td>Garden</td></tr><tr><td>Jewelery</td><td>Jewelery</td></tr><tr><td>Toys</td><td>Toys</td></tr><tr><td>Movies</td><td>Movies</td></tr></table>"
                    }
                }
            ],
            "execution_count": 26
        },
        {
            "cell_type": "code",
            "source": "SELECT POSITION('@' IN email) FROM employees LIMIT 5;",
            "metadata": {},
            "outputs": [
                {
                    "output_type": "display_data",
                    "data": {
                        "text/html": "(5 row(s) affected)"
                    },
                    "metadata": {}
                },
                {
                    "output_type": "display_data",
                    "data": {
                        "text/html": "Total execution time: 0:00:00.011825"
                    },
                    "metadata": {}
                },
                {
                    "output_type": "execute_result",
                    "metadata": {},
                    "execution_count": 27,
                    "data": {
                        "application/vnd.dataresource+json": {
                            "schema": {
                                "fields": [
                                    {
                                        "name": "position"
                                    }
                                ]
                            },
                            "data": [
                                {
                                    "0": "14"
                                },
                                {
                                    "0": "10"
                                },
                                {
                                    "0": "10"
                                },
                                {
                                    "0": "12"
                                },
                                {
                                    "0": "9"
                                }
                            ]
                        },
                        "text/html": "<table><tr><th>position</th></tr><tr><td>14</td></tr><tr><td>10</td></tr><tr><td>10</td></tr><tr><td>12</td></tr><tr><td>9</td></tr></table>"
                    }
                }
            ],
            "execution_count": 27
        },
        {
            "cell_type": "code",
            "source": "SELECT SUBSTRING(email FROM POSITION('@' IN email) + 1) AS domain\nFROM employees LIMIT 5;",
            "metadata": {},
            "outputs": [
                {
                    "output_type": "display_data",
                    "data": {
                        "text/html": "(5 row(s) affected)"
                    },
                    "metadata": {}
                },
                {
                    "output_type": "display_data",
                    "data": {
                        "text/html": "Total execution time: 0:00:00.011850"
                    },
                    "metadata": {}
                },
                {
                    "output_type": "execute_result",
                    "metadata": {},
                    "execution_count": 30,
                    "data": {
                        "application/vnd.dataresource+json": {
                            "schema": {
                                "fields": [
                                    {
                                        "name": "domain"
                                    }
                                ]
                            },
                            "data": [
                                {
                                    "0": "networkadvertising.org"
                                },
                                {
                                    "0": "google.es"
                                },
                                {
                                    "0": "irs.gov"
                                },
                                {
                                    "0": "mysql.com"
                                },
                                {
                                    "0": "zimbio.com"
                                }
                            ]
                        },
                        "text/html": "<table><tr><th>domain</th></tr><tr><td>networkadvertising.org</td></tr><tr><td>google.es</td></tr><tr><td>irs.gov</td></tr><tr><td>mysql.com</td></tr><tr><td>zimbio.com</td></tr></table>"
                    }
                }
            ],
            "execution_count": 30
        },
        {
            "cell_type": "code",
            "source": "SELECT COALESCE(email, 'N/A') AS email FROM employees\nORDER BY id DESC LIMIT 10;",
            "metadata": {},
            "outputs": [
                {
                    "output_type": "display_data",
                    "data": {
                        "text/html": "(10 row(s) affected)"
                    },
                    "metadata": {}
                },
                {
                    "output_type": "display_data",
                    "data": {
                        "text/html": "Total execution time: 0:00:00.005795"
                    },
                    "metadata": {}
                },
                {
                    "output_type": "execute_result",
                    "metadata": {},
                    "execution_count": 33,
                    "data": {
                        "application/vnd.dataresource+json": {
                            "schema": {
                                "fields": [
                                    {
                                        "name": "email"
                                    }
                                ]
                            },
                            "data": [
                                {
                                    "0": "alanfear2r@aol.com"
                                },
                                {
                                    "0": "cthame2q@com.com"
                                },
                                {
                                    "0": "jpecha2p@naver.com"
                                },
                                {
                                    "0": "kingall2o@yale.edu"
                                },
                                {
                                    "0": "abrickett2n@oaic.gov.au"
                                },
                                {
                                    "0": "lomullan2m@ning.com"
                                },
                                {
                                    "0": "nfigge2l@bluehost.com"
                                },
                                {
                                    "0": "N/A"
                                },
                                {
                                    "0": "N/A"
                                },
                                {
                                    "0": "N/A"
                                }
                            ]
                        },
                        "text/html": "<table><tr><th>email</th></tr><tr><td>alanfear2r@aol.com</td></tr><tr><td>cthame2q@com.com</td></tr><tr><td>jpecha2p@naver.com</td></tr><tr><td>kingall2o@yale.edu</td></tr><tr><td>abrickett2n@oaic.gov.au</td></tr><tr><td>lomullan2m@ning.com</td></tr><tr><td>nfigge2l@bluehost.com</td></tr><tr><td>N/A</td></tr><tr><td>N/A</td></tr><tr><td>N/A</td></tr></table>"
                    }
                }
            ],
            "execution_count": 33
        },
        {
            "cell_type": "code",
            "source": "",
            "metadata": {},
            "outputs": []
        }
    ]
}